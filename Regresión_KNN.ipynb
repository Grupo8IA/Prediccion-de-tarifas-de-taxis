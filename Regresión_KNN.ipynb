{
  "nbformat": 4,
  "nbformat_minor": 0,
  "metadata": {
    "accelerator": "TPU",
    "colab": {
      "name": "Regresión KNN.ipynb",
      "provenance": [],
      "collapsed_sections": [],
      "machine_shape": "hm"
    },
    "kernelspec": {
      "display_name": "Python 3",
      "language": "python",
      "name": "python3"
    },
    "language_info": {
      "codemirror_mode": {
        "name": "ipython",
        "version": 3
      },
      "file_extension": ".py",
      "mimetype": "text/x-python",
      "name": "python",
      "nbconvert_exporter": "python",
      "pygments_lexer": "ipython3",
      "version": "3.8.5"
    }
  },
  "cells": [
    {
      "cell_type": "markdown",
      "metadata": {
        "id": "9ggjf76Ucj5l"
      },
      "source": [
        "# Regresión KNN\n",
        "---"
      ]
    },
    {
      "cell_type": "markdown",
      "metadata": {
        "id": "oVHUBVxQefQH"
      },
      "source": [
        "Estableciendo el lugar donde se encuentra la data, en nuestro caso lo almacenamos en una carpeta en Drive:"
      ]
    },
    {
      "cell_type": "code",
      "metadata": {
        "colab": {
          "base_uri": "https://localhost:8080/"
        },
        "id": "hhGH-rNMPn8g",
        "outputId": "85e2e654-7727-49f3-8b3c-d582108feb94"
      },
      "source": [
        "from google.colab import drive\n",
        "drive.mount('/gdrive')\n",
        "%cd /gdrive/MyDrive/AIProjects/PC2/Data/PracticaCalificada2-CC421/\n",
        "%ls"
      ],
      "execution_count": 2,
      "outputs": [
        {
          "output_type": "stream",
          "text": [
            "Drive already mounted at /gdrive; to attempt to forcibly remount, call drive.mount(\"/gdrive\", force_remount=True).\n",
            "/gdrive/.shortcut-targets-by-id/1ouCzEh7A4-s7GMx2btcWWTXkJxKP-98c/AIProjects/PC2/Data/PracticaCalificada2-CC421\n",
            "data2.csv                          train_2014.csv\n",
            "data2.csv.hdf5                     train_2014_processed.csv\n",
            "data2.csv.yaml                     train_2015.csv\n",
            "data.csv                           train_2015_processed.csv\n",
            "\u001b[0m\u001b[01;34mht\u001b[0m/                                train_2.csv\n",
            "PracticaCalificada2-CC421.pdf      train_2_processed.csv\n",
            "rf_0                               train_2_processed_wo_gd.csv\n",
            "rf_1                               train_3.csv\n",
            "rf_2                               train_3_processed.csv\n",
            "rf_3                               train_3_processed_wo_gd.csv\n",
            "rf_4                               train_4.csv\n",
            "train_0.csv                        train_4_processed.csv\n",
            "train_0_processed.csv              train_4_processed_wo_gd.csv\n",
            "train_0_processed_wo_gd.csv        train.csv\n",
            "train_1.csv                        train_data.csv\n",
            "train_1_processed.csv              train_processed.csv\n",
            "train_1_processed_wo_gd.csv        train_processed_wo_gd.csv\n",
            "train_2013.csv                     trainsampleprep.csv\n",
            "train_2014_and_2015_processed.csv\n"
          ],
          "name": "stdout"
        }
      ]
    },
    {
      "cell_type": "markdown",
      "metadata": {
        "id": "-QNNqITQc_sS"
      },
      "source": [
        "## Modelamiento"
      ]
    },
    {
      "cell_type": "markdown",
      "metadata": {
        "id": "UxIb2fRGfBGa"
      },
      "source": [
        "#### Importación de librerías necesarias para el entrenamiento"
      ]
    },
    {
      "cell_type": "code",
      "metadata": {
        "id": "ZGv9YqXHc_Fv"
      },
      "source": [
        "from sklearn.neighbors import KNeighborsRegressor\n",
        "from sklearn.metrics import mean_squared_error\n",
        "from sklearn.model_selection import train_test_split, GridSearchCV\n",
        "import numpy as np\n",
        "import pandas as pd\n",
        "import matplotlib.pyplot as plt"
      ],
      "execution_count": 3,
      "outputs": []
    },
    {
      "cell_type": "markdown",
      "metadata": {
        "id": "-UkVkYJ9e4XG"
      },
      "source": [
        "Carga de datos para el entrenamiento"
      ]
    },
    {
      "cell_type": "code",
      "metadata": {
        "id": "tqEDFLlwzWAh"
      },
      "source": [
        "df = pd.read_csv('train_data.csv')"
      ],
      "execution_count": 4,
      "outputs": []
    },
    {
      "cell_type": "code",
      "metadata": {
        "id": "y62-ttW5quvp"
      },
      "source": [
        "df.head()"
      ],
      "execution_count": null,
      "outputs": []
    },
    {
      "cell_type": "markdown",
      "metadata": {
        "id": "nNGKA4b_fQBF"
      },
      "source": [
        "#### Selección de características necesarias para el entrenamiento.\n",
        "\n",
        "El algoritmo kNN requiere de más esfuerzo computacional mientras más características se le agrega. Debido a ello, vamos a usar las características iniciales del dataset y dos características adicionales: `day` (día de la semana) y `hour` (hora del día).\n",
        "\n",
        "Recordando además que nuestro objetivo es predecir `fare_amout` (tarifa)."
      ]
    },
    {
      "cell_type": "code",
      "metadata": {
        "id": "o3FQeO3Fj7fk"
      },
      "source": [
        "features = ['pickup_latitude', 'pickup_longitude', 'dropoff_latitude',\n",
        "            'dropoff_longitude', 'passenger_count', 'day', 'hour']\n",
        "target = ['fare_amount']\n",
        "X = df[features]\n",
        "y = df[target]"
      ],
      "execution_count": 5,
      "outputs": []
    },
    {
      "cell_type": "markdown",
      "metadata": {
        "id": "BMLjl1wYjdYC"
      },
      "source": [
        "#### División de los datos entre data de entrenamiento y data de prueba"
      ]
    },
    {
      "cell_type": "code",
      "metadata": {
        "id": "iGoxm8NFmzd5"
      },
      "source": [
        "X_train, X_test, y_train, y_test = train_test_split(X, y, test_size=0.25,\n",
        "                                                    random_state=42)"
      ],
      "execution_count": 6,
      "outputs": []
    },
    {
      "cell_type": "markdown",
      "metadata": {
        "id": "SD6h7d69liSs"
      },
      "source": [
        "#### Ajustando los parámetros\n",
        "\n",
        "Cuando el algoritmo kNN va a operar sobre un dataset con muchas características se prefiere usar la métrica `minkowski` en el algoritmo. En nuestro caso usamos 7 características, y para corrobar lo dicho anteriormente realizaremos un `GridSearch` sobre un `k` fijo, tomando los pesos de cada punto de forma `uniform` y `distance`, y las métricas `manhattan`, `euclidean` y `minkowski`."
      ]
    },
    {
      "cell_type": "code",
      "metadata": {
        "colab": {
          "base_uri": "https://localhost:8080/"
        },
        "id": "n1s_MAj6lQSc",
        "outputId": "b1fa4210-e227-4790-9ae5-6555eb2859eb"
      },
      "source": [
        "gs_params = {\n",
        "    'n_neighbors': [5],\n",
        "    'weights': ['uniform', 'distance'],\n",
        "    'metric': ['euclidean', 'manhattan', 'minkowski']\n",
        "}\n",
        "gs = GridSearchCV(KNeighborsRegressor(), gs_params, verbose=4, cv=2, n_jobs=6)\n",
        "gs_results = gs.fit(X_train, y_train)"
      ],
      "execution_count": null,
      "outputs": [
        {
          "output_type": "stream",
          "text": [
            "Fitting 2 folds for each of 6 candidates, totalling 12 fits\n"
          ],
          "name": "stdout"
        },
        {
          "output_type": "stream",
          "text": [
            "[Parallel(n_jobs=6)]: Using backend LokyBackend with 6 concurrent workers.\n",
            "[Parallel(n_jobs=6)]: Done   5 out of  12 | elapsed: 20.9min remaining: 29.2min\n",
            "[Parallel(n_jobs=6)]: Done   9 out of  12 | elapsed: 42.6min remaining: 14.2min\n",
            "[Parallel(n_jobs=6)]: Done  12 out of  12 | elapsed: 49.1min finished\n"
          ],
          "name": "stderr"
        }
      ]
    },
    {
      "cell_type": "code",
      "metadata": {
        "colab": {
          "base_uri": "https://localhost:8080/"
        },
        "id": "DYpZwJHWkWup",
        "outputId": "0e21cd21-fb2d-4c82-871c-329900afcee0"
      },
      "source": [
        "gs_results.best_params_"
      ],
      "execution_count": null,
      "outputs": [
        {
          "output_type": "execute_result",
          "data": {
            "text/plain": [
              "{'metric': 'minkowski', 'n_neighbors': 5, 'weights': 'distance'}"
            ]
          },
          "metadata": {
            "tags": []
          },
          "execution_count": 9
        }
      ]
    },
    {
      "cell_type": "markdown",
      "metadata": {
        "id": "PLAnDAWFmQuL"
      },
      "source": [
        "Tal y como se esperaba para la mejor métrica para la distancia es `minkowski` y tomando como peso `distance`."
      ]
    },
    {
      "cell_type": "markdown",
      "metadata": {
        "id": "rvXsx5I4lg8l"
      },
      "source": [
        "Ahora buscaremos el mejor `k` para nuestro modelo kNN fijando `weights='minkowski'` y `metric='distance'`."
      ]
    },
    {
      "cell_type": "code",
      "metadata": {
        "colab": {
          "base_uri": "https://localhost:8080/"
        },
        "id": "nxT2BOKFH8sr",
        "outputId": "b1fa4210-e227-4790-9ae5-6555eb2859eb"
      },
      "source": [
        "gs_params = {\n",
        "    'n_neighbors': [3, 4, 5, 6, 7, 8],\n",
        "    'weights': ['distance'],\n",
        "    'metric': ['minkowski']\n",
        "}\n",
        "gs = GridSearchCV(KNeighborsRegressor(), gs_params, verbose=4, cv=2, n_jobs=6)\n",
        "gs_results1 = gs.fit(X_train, y_train)"
      ],
      "execution_count": null,
      "outputs": [
        {
          "output_type": "stream",
          "text": [
            "Fitting 2 folds for each of 6 candidates, totalling 12 fits\n"
          ],
          "name": "stdout"
        },
        {
          "output_type": "stream",
          "text": [
            "[Parallel(n_jobs=6)]: Using backend LokyBackend with 6 concurrent workers.\n",
            "[Parallel(n_jobs=6)]: Done   5 out of  12 | elapsed: 20.9min remaining: 29.2min\n",
            "[Parallel(n_jobs=6)]: Done   9 out of  12 | elapsed: 42.6min remaining: 14.2min\n",
            "[Parallel(n_jobs=6)]: Done  12 out of  12 | elapsed: 49.1min finished\n"
          ],
          "name": "stderr"
        }
      ]
    },
    {
      "cell_type": "code",
      "metadata": {
        "colab": {
          "base_uri": "https://localhost:8080/"
        },
        "id": "VgHpyHwlsq54",
        "outputId": "0e21cd21-fb2d-4c82-871c-329900afcee0"
      },
      "source": [
        "gs_results1.best_params_"
      ],
      "execution_count": null,
      "outputs": [
        {
          "output_type": "execute_result",
          "data": {
            "text/plain": [
              "{'metric': 'minkowski', 'n_neighbors': 5, 'weights': 'distance'}"
            ]
          },
          "metadata": {
            "tags": []
          },
          "execution_count": 9
        }
      ]
    },
    {
      "cell_type": "code",
      "metadata": {
        "colab": {
          "base_uri": "https://localhost:8080/"
        },
        "id": "ij3bgI4isulE",
        "outputId": "91391291-adc6-4ec0-9621-c82bae487135"
      },
      "source": [
        "gs_results1.best_score_"
      ],
      "execution_count": null,
      "outputs": [
        {
          "output_type": "execute_result",
          "data": {
            "text/plain": [
              "0.7900549440850198"
            ]
          },
          "metadata": {
            "tags": []
          },
          "execution_count": 10
        }
      ]
    },
    {
      "cell_type": "markdown",
      "metadata": {
        "id": "WyWFRVN3ow0l"
      },
      "source": [
        "Finalmente obtuvimos que los mejores parámetros para nuestro modelo son:\n",
        "- `k = 5`\n",
        "- `weights = 'distance'`\n",
        "- `metric = 'minkowski'`"
      ]
    },
    {
      "cell_type": "markdown",
      "metadata": {
        "id": "1gCjLzSapgur"
      },
      "source": [
        "#### Entrenamiento del Modelo con los Parámetros Optimizados"
      ]
    },
    {
      "cell_type": "code",
      "metadata": {
        "colab": {
          "base_uri": "https://localhost:8080/"
        },
        "id": "-1BOP_wB1f_M",
        "outputId": "5546850c-30f0-4b8a-cc90-aec08c7f14e2"
      },
      "source": [
        "knn = KNeighborsRegressor(n_neighbors=5, weights='distance', metric='minkowski',\n",
        "                          n_jobs=6)\n",
        "knn.fit(X_train, y_train)\n",
        "print(f\"Score en entrenamiento: {knn.score(X_train, y_train)}\")"
      ],
      "execution_count": null,
      "outputs": [
        {
          "output_type": "stream",
          "text": [
            "Score en entrenamiento: 0.9999979589641794\n"
          ],
          "name": "stdout"
        }
      ]
    },
    {
      "cell_type": "markdown",
      "metadata": {
        "id": "3jG_qB3E0uxR"
      },
      "source": [
        "Notamos que el modelo presentó un sobreajuste en el entrenamiento. Ahora mostraremos el score y otras métricas en la prueba."
      ]
    },
    {
      "cell_type": "code",
      "metadata": {
        "colab": {
          "base_uri": "https://localhost:8080/"
        },
        "id": "p8Zqw6Gx9JJL",
        "outputId": "129d33f3-2d6b-415b-ac27-057d806f652c"
      },
      "source": [
        "y_pred = knn.predict(X_test)\n",
        "print(f\"Score: {knn.score(X_test, y_test)}\")\n",
        "print(f\"RMSE: {mean_squared_error(y_test, y_pred, squared=False)}\")"
      ],
      "execution_count": null,
      "outputs": [
        {
          "output_type": "stream",
          "text": [
            "Score: 0.810235209882544\n",
            "RMSE: 4.501953305762435\n"
          ],
          "name": "stdout"
        }
      ]
    },
    {
      "cell_type": "markdown",
      "metadata": {
        "id": "zq4Pjkit2PYT"
      },
      "source": [
        "En la prueba el modelo tuvo un 81% de precisión y un RMSE de 4.5."
      ]
    }
  ]
}