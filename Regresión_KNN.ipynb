{
  "nbformat": 4,
  "nbformat_minor": 0,
  "metadata": {
    "accelerator": "TPU",
    "colab": {
      "name": "Regresión KNN.ipynb",
      "provenance": [],
      "collapsed_sections": [
        "jd7HADRqRaWZ",
        "iojyqIovaHls"
      ],
      "machine_shape": "hm"
    },
    "kernelspec": {
      "display_name": "Python 3",
      "language": "python",
      "name": "python3"
    },
    "language_info": {
      "codemirror_mode": {
        "name": "ipython",
        "version": 3
      },
      "file_extension": ".py",
      "mimetype": "text/x-python",
      "name": "python",
      "nbconvert_exporter": "python",
      "pygments_lexer": "ipython3",
      "version": "3.8.5"
    }
  },
  "cells": [
    {
      "cell_type": "markdown",
      "metadata": {
        "id": "9ggjf76Ucj5l"
      },
      "source": [
        "# Regresión KNN\n",
        "---"
      ]
    },
    {
      "cell_type": "code",
      "metadata": {
        "colab": {
          "base_uri": "https://localhost:8080/"
        },
        "id": "hhGH-rNMPn8g",
        "outputId": "f74793b9-d7ea-4536-d875-17e749babcc0"
      },
      "source": [
        "from google.colab import drive\n",
        "drive.mount('/gdrive')\n",
        "%cd /gdrive/MyDrive/AIProjects/PC2/Data/PracticaCalificada2-CC421/\n",
        "%ls"
      ],
      "execution_count": 1,
      "outputs": [
        {
          "output_type": "stream",
          "text": [
            "Mounted at /gdrive\n",
            "/gdrive/.shortcut-targets-by-id/1ouCzEh7A4-s7GMx2btcWWTXkJxKP-98c/AIProjects/PC2/Data/PracticaCalificada2-CC421\n",
            "data2.csv                          train_2014.csv\n",
            "data2.csv.hdf5                     train_2014_processed.csv\n",
            "data2.csv.yaml                     train_2015.csv\n",
            "data.csv                           train_2015_processed.csv\n",
            "\u001b[0m\u001b[01;34mht\u001b[0m/                                train_2.csv\n",
            "PracticaCalificada2-CC421.pdf      train_2_processed.csv\n",
            "rf_0                               train_2_processed_wo_gd.csv\n",
            "rf_1                               train_3.csv\n",
            "rf_2                               train_3_processed.csv\n",
            "rf_3                               train_3_processed_wo_gd.csv\n",
            "rf_4                               train_4.csv\n",
            "train_0.csv                        train_4_processed.csv\n",
            "train_0_processed.csv              train_4_processed_wo_gd.csv\n",
            "train_0_processed_wo_gd.csv        train.csv\n",
            "train_1.csv                        train_data.csv\n",
            "train_1_processed.csv              train_processed.csv\n",
            "train_1_processed_wo_gd.csv        train_processed_wo_gd.csv\n",
            "train_2013.csv                     trainsampleprep.csv\n",
            "train_2014_and_2015_processed.csv\n"
          ],
          "name": "stdout"
        }
      ]
    },
    {
      "cell_type": "markdown",
      "metadata": {
        "id": "-QNNqITQc_sS"
      },
      "source": [
        "## Modelamiento"
      ]
    },
    {
      "cell_type": "code",
      "metadata": {
        "id": "ZGv9YqXHc_Fv"
      },
      "source": [
        "from sklearn.neighbors import KNeighborsRegressor\n",
        "from sklearn.metrics import mean_squared_error\n",
        "from sklearn.model_selection import train_test_split, GridSearchCV\n",
        "import numpy as np\n",
        "import pandas as pd\n",
        "import seaborn as sns\n",
        "import matplotlib.pyplot as plt"
      ],
      "execution_count": null,
      "outputs": []
    },
    {
      "cell_type": "code",
      "metadata": {
        "id": "tqEDFLlwzWAh"
      },
      "source": [
        "df = pd.read_csv('train_data.csv')"
      ],
      "execution_count": null,
      "outputs": []
    },
    {
      "cell_type": "code",
      "metadata": {
        "id": "y62-ttW5quvp"
      },
      "source": [
        "df.head()"
      ],
      "execution_count": null,
      "outputs": []
    },
    {
      "cell_type": "code",
      "metadata": {
        "id": "o3FQeO3Fj7fk"
      },
      "source": [
        "features = ['pickup_latitude', 'pickup_longitude', 'dropoff_latitude',\n",
        "            'dropoff_longitude', 'passenger_count', 'day', 'hour']\n",
        "target = ['fare_amount']\n",
        "X = df[features]\n",
        "y = df[target]"
      ],
      "execution_count": null,
      "outputs": []
    },
    {
      "cell_type": "code",
      "metadata": {
        "id": "iGoxm8NFmzd5"
      },
      "source": [
        "X_train, X_test, y_train, y_test = train_test_split(X, y, test_size=0.25, random_state=42)"
      ],
      "execution_count": null,
      "outputs": []
    },
    {
      "cell_type": "code",
      "metadata": {
        "id": "74vfpqm1iMkd"
      },
      "source": [
        "gs_params = {\n",
        "    'n_neighbors': [5],\n",
        "    'weights': ['uniform', 'distance'],\n",
        "    'metric': ['euclidean', 'manhattan']\n",
        "}"
      ],
      "execution_count": null,
      "outputs": []
    },
    {
      "cell_type": "code",
      "metadata": {
        "colab": {
          "base_uri": "https://localhost:8080/"
        },
        "id": "L7Iqlfsn1Psx",
        "outputId": "8c8427c1-bf5f-43c4-f202-11b61f5f161e"
      },
      "source": [
        "gs = GridSearchCV(KNeighborsRegressor(), gs_params, verbose=4, cv=2, n_jobs=6)\n",
        "gs_results = gs.fit(X_train, y_train)"
      ],
      "execution_count": null,
      "outputs": [
        {
          "output_type": "stream",
          "text": [
            "Fitting 2 folds for each of 4 candidates, totalling 8 fits\n"
          ],
          "name": "stdout"
        },
        {
          "output_type": "stream",
          "text": [
            "[Parallel(n_jobs=6)]: Using backend LokyBackend with 6 concurrent workers.\n",
            "[Parallel(n_jobs=6)]: Done   3 out of   8 | elapsed: 19.8min remaining: 33.1min\n",
            "[Parallel(n_jobs=6)]: Done   6 out of   8 | elapsed: 28.3min remaining:  9.4min\n",
            "[Parallel(n_jobs=6)]: Done   8 out of   8 | elapsed: 53.1min finished\n"
          ],
          "name": "stderr"
        }
      ]
    },
    {
      "cell_type": "code",
      "metadata": {
        "colab": {
          "base_uri": "https://localhost:8080/"
        },
        "id": "PliuWuqxHiN2",
        "outputId": "beccc7d3-291d-47b9-d02b-5a5882f5fdad"
      },
      "source": [
        "gs_results.best_params_\n",
        "gs_results.best_score_"
      ],
      "execution_count": null,
      "outputs": [
        {
          "output_type": "execute_result",
          "data": {
            "text/plain": [
              "0.7900549440850198"
            ]
          },
          "metadata": {
            "tags": []
          },
          "execution_count": 14
        }
      ]
    },
    {
      "cell_type": "code",
      "metadata": {
        "colab": {
          "base_uri": "https://localhost:8080/"
        },
        "id": "nxT2BOKFH8sr",
        "outputId": "b1fa4210-e227-4790-9ae5-6555eb2859eb"
      },
      "source": [
        "gs_params = {\n",
        "    'n_neighbors': [3, 4, 5, 6, 7, 8],\n",
        "    'weights': ['distance'],\n",
        "    'metric': ['euclidean']\n",
        "}\n",
        "gs = GridSearchCV(KNeighborsRegressor(), gs_params, verbose=4, cv=2, n_jobs=6)\n",
        "gs_results1 = gs.fit(X_train, y_train)"
      ],
      "execution_count": null,
      "outputs": [
        {
          "output_type": "stream",
          "text": [
            "Fitting 2 folds for each of 6 candidates, totalling 12 fits\n"
          ],
          "name": "stdout"
        },
        {
          "output_type": "stream",
          "text": [
            "[Parallel(n_jobs=6)]: Using backend LokyBackend with 6 concurrent workers.\n",
            "[Parallel(n_jobs=6)]: Done   5 out of  12 | elapsed: 20.9min remaining: 29.2min\n",
            "[Parallel(n_jobs=6)]: Done   9 out of  12 | elapsed: 42.6min remaining: 14.2min\n",
            "[Parallel(n_jobs=6)]: Done  12 out of  12 | elapsed: 49.1min finished\n"
          ],
          "name": "stderr"
        }
      ]
    },
    {
      "cell_type": "code",
      "metadata": {
        "colab": {
          "base_uri": "https://localhost:8080/"
        },
        "id": "Ye7osg0JXClz",
        "outputId": "c06bb1f1-b981-4ef1-ca9f-cbcc651b26f1"
      },
      "source": [
        "gs_results1.best_params_"
      ],
      "execution_count": null,
      "outputs": [
        {
          "output_type": "execute_result",
          "data": {
            "text/plain": [
              "{'metric': 'euclidean', 'n_neighbors': 5, 'weights': 'distance'}"
            ]
          },
          "metadata": {
            "tags": []
          },
          "execution_count": 15
        }
      ]
    },
    {
      "cell_type": "code",
      "metadata": {
        "colab": {
          "base_uri": "https://localhost:8080/"
        },
        "id": "eCsTEqHCXUCV",
        "outputId": "e0e6af0b-0201-4b70-84b5-2f0a2127af7c"
      },
      "source": [
        "gs_params = {\n",
        "    'n_neighbors': [5],\n",
        "    'weights': ['uniform', 'distance'],\n",
        "    'metric': ['minkowski']\n",
        "}\n",
        "gs = GridSearchCV(KNeighborsRegressor(), gs_params, verbose=4, cv=2, n_jobs=6)\n",
        "gs_results2 = gs.fit(X_train, y_train)"
      ],
      "execution_count": null,
      "outputs": [
        {
          "output_type": "stream",
          "text": [
            "Fitting 2 folds for each of 2 candidates, totalling 4 fits\n"
          ],
          "name": "stdout"
        },
        {
          "output_type": "stream",
          "text": [
            "[Parallel(n_jobs=6)]: Using backend LokyBackend with 6 concurrent workers.\n",
            "[Parallel(n_jobs=6)]: Done   4 out of   4 | elapsed: 19.9min finished\n"
          ],
          "name": "stderr"
        }
      ]
    },
    {
      "cell_type": "code",
      "metadata": {
        "colab": {
          "base_uri": "https://localhost:8080/"
        },
        "id": "VgHpyHwlsq54",
        "outputId": "0e21cd21-fb2d-4c82-871c-329900afcee0"
      },
      "source": [
        "gs_results2.best_params_"
      ],
      "execution_count": null,
      "outputs": [
        {
          "output_type": "execute_result",
          "data": {
            "text/plain": [
              "{'metric': 'minkowski', 'n_neighbors': 5, 'weights': 'distance'}"
            ]
          },
          "metadata": {
            "tags": []
          },
          "execution_count": 9
        }
      ]
    },
    {
      "cell_type": "code",
      "metadata": {
        "colab": {
          "base_uri": "https://localhost:8080/"
        },
        "id": "ij3bgI4isulE",
        "outputId": "91391291-adc6-4ec0-9621-c82bae487135"
      },
      "source": [
        "gs_results2.best_score_"
      ],
      "execution_count": null,
      "outputs": [
        {
          "output_type": "execute_result",
          "data": {
            "text/plain": [
              "0.7900549440850198"
            ]
          },
          "metadata": {
            "tags": []
          },
          "execution_count": 10
        }
      ]
    },
    {
      "cell_type": "code",
      "metadata": {
        "colab": {
          "base_uri": "https://localhost:8080/"
        },
        "id": "ohTU2s9_M0LQ",
        "outputId": "d79cab6f-2873-4ba6-e51e-edbd04cbd750"
      },
      "source": [
        "knn = KNeighborsRegressor(n_neighbors=1, n_jobs=16)\n",
        "knn.fit(X_train, y_train)\n",
        "print(f\"Score: {knn.score(X_test, y_test)}\")"
      ],
      "execution_count": null,
      "outputs": [
        {
          "output_type": "stream",
          "text": [
            "Score: 0.7359906062765108\n"
          ],
          "name": "stdout"
        }
      ]
    },
    {
      "cell_type": "code",
      "metadata": {
        "colab": {
          "base_uri": "https://localhost:8080/"
        },
        "id": "E8ofgTpmjSNp",
        "outputId": "48bd9d1e-c109-4549-f470-9c3f640b8c25"
      },
      "source": [
        "knn = KNeighborsRegressor(n_neighbors=4, n_jobs=8)\n",
        "knn.fit(X_train, y_train)\n",
        "print(f\"Score: {knn.score(X_test, y_test)}\")"
      ],
      "execution_count": null,
      "outputs": [
        {
          "output_type": "stream",
          "text": [
            "Score: 0.8089284183712959\n"
          ],
          "name": "stdout"
        }
      ]
    },
    {
      "cell_type": "code",
      "metadata": {
        "colab": {
          "base_uri": "https://localhost:8080/"
        },
        "id": "p8Zqw6Gx9JJL",
        "outputId": "129d33f3-2d6b-415b-ac27-057d806f652c"
      },
      "source": [
        "knn = KNeighborsRegressor(n_neighbors=5)\n",
        "knn.fit(X_train, y_train)\n",
        "#y_pred = knn.predict(X_test)\n",
        "print(f\"Score: {knn.score(X_test, y_test)}\")\n",
        "#print(f\"RMSE: {mean_squared_error(y_test, y_pred, squared=False)}\")"
      ],
      "execution_count": null,
      "outputs": [
        {
          "output_type": "stream",
          "text": [
            "Score: 0.810235209882544\n",
            "RMSE: 4.501953305762435\n"
          ],
          "name": "stdout"
        }
      ]
    },
    {
      "cell_type": "code",
      "metadata": {
        "colab": {
          "base_uri": "https://localhost:8080/"
        },
        "id": "INbReA54clNy",
        "outputId": "3d1aa728-02ae-4978-8fba-6c73c97cf9ba"
      },
      "source": [
        "knn = KNeighborsRegressor(n_neighbors=6, n_jobs=8)\n",
        "knn.fit(X_train, y_train)\n",
        "print(f\"Score: {knn.score(X_test, y_test)}\")"
      ],
      "execution_count": null,
      "outputs": [
        {
          "output_type": "stream",
          "text": [
            "Score: 0.8098681880641607\n"
          ],
          "name": "stdout"
        }
      ]
    },
    {
      "cell_type": "code",
      "metadata": {
        "colab": {
          "base_uri": "https://localhost:8080/"
        },
        "id": "OBz3TSy8UgdE",
        "outputId": "b43109f5-191d-4c13-9895-7fbd797f2ac5"
      },
      "source": [
        "knn = KNeighborsRegressor(n_neighbors=8, n_jobs=8)\n",
        "knn.fit(X_train, y_train)\n",
        "#y_pred = knn.predict(X_test)\n",
        "print(f\"Score: {knn.score(X_test, y_test)}\")\n",
        "#print(f\"RMSE: {mean_squared_error(y_test, y_pred, squared=False)}\")"
      ],
      "execution_count": null,
      "outputs": [
        {
          "output_type": "stream",
          "text": [
            "Score: 0.8069350758607703\n"
          ],
          "name": "stdout"
        }
      ]
    },
    {
      "cell_type": "code",
      "metadata": {
        "colab": {
          "base_uri": "https://localhost:8080/"
        },
        "id": "WxlRYVfwLxGs",
        "outputId": "af1b1215-13ea-4f76-8ccf-5d166f679f66"
      },
      "source": [
        "knn = KNeighborsRegressor(n_neighbors=11, n_jobs=8)\n",
        "knn.fit(X_train, y_train)\n",
        "y_pred = knn.predict(X_test)\n",
        "print(f\"Score: {knn.score(X_test, y_test)}\")\n",
        "print(f\"RMSE: {mean_squared_error(y_test, y_pred, squared=False)}\")"
      ],
      "execution_count": null,
      "outputs": [
        {
          "output_type": "stream",
          "text": [
            "Score: 0.8001358846535639\n",
            "RMSE: 4.620197936002385\n"
          ],
          "name": "stdout"
        }
      ]
    },
    {
      "cell_type": "code",
      "metadata": {
        "colab": {
          "base_uri": "https://localhost:8080/"
        },
        "id": "dThMM3D_ih7l",
        "outputId": "ff261f9c-adac-4254-d9e1-f5fe48756655"
      },
      "source": [
        "gs = GridSearchCV(KNeighborsRegressor(), gs_params, verbose=3, cv=2, n_jobs=8)\n",
        "gs_results = gs.fit(X_train, y_train)"
      ],
      "execution_count": null,
      "outputs": [
        {
          "output_type": "stream",
          "text": [
            "Fitting 2 folds for each of 1 candidates, totalling 2 fits\n"
          ],
          "name": "stdout"
        },
        {
          "output_type": "stream",
          "text": [
            "[Parallel(n_jobs=8)]: Using backend LokyBackend with 8 concurrent workers.\n",
            "[Parallel(n_jobs=8)]: Done   2 out of   2 | elapsed: 20.6min remaining:    0.0s\n",
            "[Parallel(n_jobs=8)]: Done   2 out of   2 | elapsed: 20.6min finished\n"
          ],
          "name": "stderr"
        }
      ]
    },
    {
      "cell_type": "code",
      "metadata": {
        "id": "hJ2IaacsTUo4"
      },
      "source": [
        ""
      ],
      "execution_count": null,
      "outputs": []
    }
  ]
}