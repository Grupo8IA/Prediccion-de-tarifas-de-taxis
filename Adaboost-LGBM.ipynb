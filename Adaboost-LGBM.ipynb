{
  "nbformat": 4,
  "nbformat_minor": 0,
  "metadata": {
    "colab": {
      "name": "Limachi.ipynb",
      "provenance": [],
      "collapsed_sections": [
        "qoSv3SorwrY-",
        "b7N0p6Wciiya",
        "ilhEkevhYQil",
        "TN7-N_w3aGmA",
        "n5KSvbAmAk0k"
      ],
      "machine_shape": "hm"
    },
    "kernelspec": {
      "display_name": "Python 3",
      "name": "python3"
    },
    "accelerator": "TPU"
  },
  "cells": [
    {
      "cell_type": "code",
      "metadata": {
        "colab": {
          "base_uri": "https://localhost:8080/"
        },
        "id": "hhGH-rNMPn8g",
        "outputId": "8eae5a14-402c-41f3-96f3-e0c2e31493b8"
      },
      "source": [
        "from google.colab import drive\n",
        "drive.mount('/content/drive/')"
      ],
      "execution_count": 1,
      "outputs": [
        {
          "output_type": "stream",
          "text": [
            "Mounted at /content/drive/\n"
          ],
          "name": "stdout"
        }
      ]
    },
    {
      "cell_type": "code",
      "metadata": {
        "colab": {
          "base_uri": "https://localhost:8080/"
        },
        "id": "Bg6tY4noF7IC",
        "outputId": "11388f64-4910-40e9-b8f1-e23f53a1638f"
      },
      "source": [
        "drive.mount('/gdrive')\n",
        "%cd /gdrive/MyDrive/"
      ],
      "execution_count": 2,
      "outputs": [
        {
          "output_type": "stream",
          "text": [
            "Mounted at /gdrive\n",
            "/gdrive/MyDrive\n"
          ],
          "name": "stdout"
        }
      ]
    },
    {
      "cell_type": "code",
      "metadata": {
        "id": "IJQfAQHyQpq3"
      },
      "source": [
        "import pandas as pd\n",
        "import numpy as np"
      ],
      "execution_count": 3,
      "outputs": []
    },
    {
      "cell_type": "markdown",
      "metadata": {
        "id": "Pd0WKJ4SvqLV"
      },
      "source": [
        "## Importacion de data y funciones"
      ]
    },
    {
      "cell_type": "code",
      "metadata": {
        "id": "X-KvtVSAe8rM",
        "colab": {
          "base_uri": "https://localhost:8080/"
        },
        "outputId": "6bd7acd1-9678-4e6e-e6ac-af13e06d3595"
      },
      "source": [
        "data = pd.read_csv('train_data.csv')\n",
        "data.info()"
      ],
      "execution_count": 4,
      "outputs": [
        {
          "output_type": "stream",
          "text": [
            "<class 'pandas.core.frame.DataFrame'>\n",
            "RangeIndex: 11773348 entries, 0 to 11773347\n",
            "Data columns (total 16 columns):\n",
            " #   Column             Dtype  \n",
            "---  ------             -----  \n",
            " 0   key                object \n",
            " 1   pickup_datetime    object \n",
            " 2   pickup_latitude    float64\n",
            " 3   pickup_longitude   float64\n",
            " 4   dropoff_latitude   float64\n",
            " 5   dropoff_longitude  float64\n",
            " 6   passenger_count    int64  \n",
            " 7   fare_amount        float64\n",
            " 8   day                int64  \n",
            " 9   hour               float64\n",
            " 10  week               int64  \n",
            " 11  trayecto_nocturno  int64  \n",
            " 12  hora_punta         int64  \n",
            " 13  year               int64  \n",
            " 14  aeropuerto         int64  \n",
            " 15  day_of_month       int64  \n",
            "dtypes: float64(6), int64(8), object(2)\n",
            "memory usage: 1.4+ GB\n"
          ],
          "name": "stdout"
        }
      ]
    },
    {
      "cell_type": "code",
      "metadata": {
        "id": "F8ZKx1Y3MonF"
      },
      "source": [
        "# ax = data.plot.scatter(x=\"pickup_latitude\", y=\"pickup_longitude\", color=\"DarkBlue\", label='pickup')\n",
        "# data.plot.scatter(x=\"dropoff_latitude\", y=\"dropoff_longitude\", color=\"DarkGreen\", label='dropoff', ax=ax)"
      ],
      "execution_count": null,
      "outputs": []
    },
    {
      "cell_type": "code",
      "metadata": {
        "colab": {
          "base_uri": "https://localhost:8080/"
        },
        "id": "-6hOvSRlzOWq",
        "outputId": "43ae842f-b1b8-4295-d4b9-ca6465da0017"
      },
      "source": [
        "#features = ['pickup_latitude',\t'pickup_longitude',\t'dropoff_latitude',\t'dropoff_longitude']\n",
        "features2 = ['pickup_latitude',\t'pickup_longitude',\t'dropoff_latitude',\t'dropoff_longitude', 'hour']\n",
        "#features3 = ['pickup_latitude',\t'pickup_longitude',\t'dropoff_latitude',\t'dropoff_longitude', 'week', 'hour', 'day','hora_punta']\n",
        "\n",
        "X = data[features2]\n",
        "\n",
        "#X = data.drop(columns=['fare_amount','key',\t'pickup_datetime'])\n",
        "y = data['fare_amount']\n",
        "\n",
        "print(X.shape)\n",
        "print(y.shape)"
      ],
      "execution_count": 6,
      "outputs": [
        {
          "output_type": "stream",
          "text": [
            "(11773348, 5)\n",
            "(11773348,)\n"
          ],
          "name": "stdout"
        }
      ]
    },
    {
      "cell_type": "code",
      "metadata": {
        "colab": {
          "base_uri": "https://localhost:8080/"
        },
        "id": "_x2JtXeWzByp",
        "outputId": "2c536380-7136-4274-acce-73d3b7b9e71c"
      },
      "source": [
        "from sklearn.model_selection import train_test_split\n",
        "\n",
        "X_train, X_test, y_train, y_test = train_test_split(X, y, test_size = 0.3, random_state = 42)\n",
        "\n",
        "print(X_train.shape)\n",
        "print(y_train.shape)\n",
        "print(X_test.shape)\n",
        "print(y_test.shape)"
      ],
      "execution_count": 7,
      "outputs": [
        {
          "output_type": "stream",
          "text": [
            "(8241343, 5)\n",
            "(8241343,)\n",
            "(3532005, 5)\n",
            "(3532005,)\n"
          ],
          "name": "stdout"
        }
      ]
    },
    {
      "cell_type": "code",
      "metadata": {
        "id": "GyH3jTCIWHv8"
      },
      "source": [
        "import matplotlib.pyplot as plt\n",
        "\n",
        "def dibuja_caracteristicas_importantes(modelo):\n",
        "    n_caracteristica = X.shape[1]\n",
        "    plt.barh(range(n_caracteristica), modelo.feature_importances_, align='center')\n",
        "    plt.yticks(np.arange(n_caracteristica),list(X.columns))\n",
        "    plt.xlabel(\"Caracteristicas importantes\")\n",
        "    plt.ylabel(\"Caracteristica\")"
      ],
      "execution_count": 8,
      "outputs": []
    },
    {
      "cell_type": "markdown",
      "metadata": {
        "id": "qoSv3SorwrY-"
      },
      "source": [
        "## Adaboost"
      ]
    },
    {
      "cell_type": "markdown",
      "metadata": {
        "id": "PV9-g0mI8w_w"
      },
      "source": [
        "Consiste en crear varios predictores sencillos en secuencia, de tal manera que el segundo ajuste bien lo que el primero no ajustó, que el tercero ajuste un poco mejor lo que el segundo no pudo ajustar y así sucesivamente.\n",
        "\n",
        "Los mejores parametros a considerar son:\n",
        "n_estimators y learning_rate. En uno de los parametros se incluye tambien el tipo de modelo sobre el cual estará basado, en este caso se elegirá DesicionTreeRegressor como base para el modelo(es el que está por defecto), sobre el cual se pueden elegir modificar diversos parametros, como max_depth entre otros."
      ]
    },
    {
      "cell_type": "markdown",
      "metadata": {
        "id": "yn8Of1itXv0z"
      },
      "source": [
        "Se usaron las caracteristicas `pickup_latitude` , `pickup_longitude`, `dropoff_latitude`, `dropoff_longitude`, `aeropuerto`."
      ]
    },
    {
      "cell_type": "code",
      "metadata": {
        "id": "ykxwMb-tW66R",
        "colab": {
          "base_uri": "https://localhost:8080/"
        },
        "outputId": "465f7661-fc7f-4994-cccf-12e0b3eaeb79"
      },
      "source": [
        "from sklearn.ensemble import AdaBoostRegressor\n",
        "from sklearn.metrics import r2_score\n",
        "from sklearn.tree import DecisionTreeRegressor\n",
        "\n",
        "abr = AdaBoostRegressor(n_estimators = 100 , learning_rate = 0.1)\n",
        "\n",
        "abr.fit(X_train, y_train) \n",
        "\n",
        "abr.fit(X_train, y_train)\n",
        "score = abr.score(X_test, y_test)\n",
        "print(score)\n",
        "\n",
        "y_pred = abr.predict(X_test)\n",
        "\n",
        "mse = np.mean((y_test - y_pred)**2)\n",
        "print(\"MSE :\", mse)\n",
        "\n",
        "rmse = np.sqrt(mse)\n",
        "print(\"RMSE :\", rmse)\n",
        "\n",
        "r2 = r2_score(y_test, y_pred)\n",
        "print(\"r2_score :\", r2)\n",
        "\n",
        "comp = pd.DataFrame({'y_test':y_test, 'y_pred':y_pred})\n",
        "print(comp)"
      ],
      "execution_count": null,
      "outputs": [
        {
          "output_type": "stream",
          "text": [
            "0.5352681920671574\n",
            "MSE : 50.57334906654093\n",
            "RMSE : 7.1114941514804695\n",
            "r2_score : 0.5352681920671574\n",
            "          y_test     y_pred\n",
            "10247211    16.5  14.057666\n",
            "11390553     4.5  14.057666\n",
            "4366652      8.0  14.057666\n",
            "7098284      5.0  14.057666\n",
            "1500070      9.0  14.057666\n",
            "...          ...        ...\n",
            "2297637     10.0  14.057666\n",
            "5652878      6.0  14.057666\n",
            "3724883      6.0  15.531998\n",
            "397052      12.0  14.057666\n",
            "10070607     4.5  14.057666\n",
            "\n",
            "[1126274 rows x 2 columns]\n"
          ],
          "name": "stdout"
        }
      ]
    },
    {
      "cell_type": "code",
      "metadata": {
        "colab": {
          "base_uri": "https://localhost:8080/",
          "height": 279
        },
        "id": "G3W7AMTlErQP",
        "outputId": "4b129281-8f46-421f-a743-abfc63c3781a"
      },
      "source": [
        "dibuja_caracteristicas_importantes(abr)"
      ],
      "execution_count": null,
      "outputs": [
        {
          "output_type": "display_data",
          "data": {
            "image/png": "[encoded data removed]",
            "text/plain": [
              "<Figure size 432x288 with 1 Axes>"
            ]
          },
          "metadata": {
            "tags": [],
            "needs_background": "light"
          }
        }
      ]
    },
    {
      "cell_type": "markdown",
      "metadata": {
        "id": "7wA9Rq8uXRrd"
      },
      "source": [
        "Se usaron todas las caracteristicas menos `fare_amount` , `pickup_datetime`, `key`."
      ]
    },
    {
      "cell_type": "code",
      "metadata": {
        "colab": {
          "base_uri": "https://localhost:8080/"
        },
        "id": "GrMTpqk6wwOe",
        "outputId": "629c7a66-b241-4690-f509-6311e34b3285"
      },
      "source": [
        "from sklearn.ensemble import AdaBoostRegressor\n",
        "from sklearn.metrics import r2_score\n",
        "from sklearn.tree import DecisionTreeRegressor\n",
        "\n",
        "abr = AdaBoostRegressor(n_estimators = 100 , learning_rate = 0.1)\n",
        "\n",
        "abr.fit(X_train, y_train) \n",
        "\n",
        "abr.fit(X_train, y_train)\n",
        "score = abr.score(X_test, y_test)\n",
        "print(score)\n",
        "\n",
        "y_pred = abr.predict(X_test)\n",
        "\n",
        "mse = np.mean((y_test - y_pred)**2)\n",
        "print(\"MSE :\", mse)\n",
        "\n",
        "rmse = np.sqrt(mse)\n",
        "print(\"RMSE :\", rmse)\n",
        "\n",
        "r2 = r2_score(y_test, y_pred)\n",
        "print(\"r2_score :\", r2)\n",
        "\n",
        "comp = pd.DataFrame({'y_test':y_test, 'y_pred':y_pred})\n",
        "print(comp)"
      ],
      "execution_count": null,
      "outputs": [
        {
          "output_type": "stream",
          "text": [
            "0.5181808506650829\n",
            "MSE : 52.43283891982912\n",
            "RMSE : 7.241052335111874\n",
            "r2_score : 0.5181808506650829\n",
            "          y_test     y_pred\n",
            "10247211    16.5  14.352223\n",
            "11390553     4.5  14.352223\n",
            "4366652      8.0  14.352223\n",
            "7098284      5.0  14.352223\n",
            "1500070      9.0  14.352223\n",
            "...          ...        ...\n",
            "2297637     10.0  14.352223\n",
            "5652878      6.0  14.352223\n",
            "3724883      6.0  15.749820\n",
            "397052      12.0  14.352223\n",
            "10070607     4.5  14.352223\n",
            "\n",
            "[1126274 rows x 2 columns]\n"
          ],
          "name": "stdout"
        }
      ]
    },
    {
      "cell_type": "code",
      "metadata": {
        "colab": {
          "base_uri": "https://localhost:8080/",
          "height": 279
        },
        "id": "HbLtOTA4HNqe",
        "outputId": "972482de-c287-42fe-98e2-f94e9b6efff0"
      },
      "source": [
        "dibuja_caracteristicas_importantes(abr)"
      ],
      "execution_count": null,
      "outputs": [
        {
          "output_type": "display_data",
          "data": {
            "image/png": "[encoded data removed]",
            "text/plain": [
              "<Figure size 432x288 with 1 Axes>"
            ]
          },
          "metadata": {
            "tags": [],
            "needs_background": "light"
          }
        }
      ]
    },
    {
      "cell_type": "markdown",
      "metadata": {
        "id": "b7N0p6Wciiya"
      },
      "source": [
        "#### GridSearchCV"
      ]
    },
    {
      "cell_type": "code",
      "metadata": {
        "id": "WyGOBbiNMWDR"
      },
      "source": [
        "from sklearn.model_selection import GridSearchCV\n",
        "\n",
        "param_grid={\n",
        "            'n_estimators' :[50, 100, 250, 500, 750, 1000],\n",
        "            'learning_rate' :[0.0001, 0.001, 0.01, 0.1, 1],\n",
        "            'loss' : ['linear', 'square', 'exponential']\n",
        "            }\n",
        "\n",
        "base_grid = GridSearchCV(estimator=AdaBoostRegressor(DecisionTreeRegressor(max_depth=4)),\n",
        "                        param_grid=param_grid, n_jobs=40, return_train_score=True)\n",
        "\n",
        "base_grid.fit(X_train, y_train) \n",
        "base_best_mod = base_grid.best_estimator_\n",
        "\n",
        "base_best_mod.fit(X_train, y_train)\n",
        "score = base_best_mod.score(X_test, y_test)\n",
        "print(score)"
      ],
      "execution_count": null,
      "outputs": []
    },
    {
      "cell_type": "code",
      "metadata": {
        "colab": {
          "base_uri": "https://localhost:8080/"
        },
        "id": "V0zjILxPC87I",
        "outputId": "85ba954d-ee99-4620-f035-2a3040507f95"
      },
      "source": [
        "from sklearn.metrics import r2_score\n",
        "\n",
        "y_pred = base_best_mod.predict(X_test)\n",
        "\n",
        "mse = np.mean((y_test - y_pred)**2)\n",
        "print(\"MSE :\", mse)\n",
        "\n",
        "rmse = np.sqrt(mse)\n",
        "print(\"RMSE :\", rmse)\n",
        "\n",
        "r2 = r2_score(y_test, y_pred)\n",
        "print(\"r2_score :\", r2)"
      ],
      "execution_count": null,
      "outputs": [
        {
          "output_type": "stream",
          "text": [
            "MSE : 13.40507256998187\n",
            "RMSE : 3.661293838246511\n",
            "r2_score : 0.3112557151514119\n"
          ],
          "name": "stdout"
        }
      ]
    },
    {
      "cell_type": "code",
      "metadata": {
        "id": "dGPyBpOOH_p8"
      },
      "source": [
        "comp = pd.DataFrame({'y_test':y_test, 'y_pred':y_pred})"
      ],
      "execution_count": null,
      "outputs": []
    },
    {
      "cell_type": "code",
      "metadata": {
        "id": "6dgmZ6NVxbGt"
      },
      "source": [
        "dibuja_caracteristicas_importantes(base_best_mod)"
      ],
      "execution_count": null,
      "outputs": []
    },
    {
      "cell_type": "markdown",
      "metadata": {
        "id": "ilhEkevhYQil"
      },
      "source": [
        "#### Extra"
      ]
    },
    {
      "cell_type": "code",
      "metadata": {
        "colab": {
          "base_uri": "https://localhost:8080/"
        },
        "id": "pEYBtRH1YTWC",
        "outputId": "e2c78476-0f04-405c-ce04-32c0ee007db9"
      },
      "source": [
        "from sklearn.model_selection import cross_val_score\n",
        "\n",
        "for depth in range (2,7):\n",
        "     tree_regressor=DecisionTreeRegressor(max_depth=depth,random_state=1)\n",
        "     if tree_regressor.fit(X_train,y_train).tree_.max_depth<depth:\n",
        "         break\n",
        "     score=np.mean(cross_val_score(tree_regressor,X,y,scoring='neg_mean_squared_error', n_jobs=1))\n",
        "     print(depth, score)"
      ],
      "execution_count": null,
      "outputs": [
        {
          "output_type": "stream",
          "text": [
            "2 -48.73440691593187\n",
            "3 -40.04156454627229\n",
            "4 -35.42226891226465\n",
            "5 -31.567669203553532\n",
            "6 -29.21120159128974\n"
          ],
          "name": "stdout"
        }
      ]
    },
    {
      "cell_type": "code",
      "metadata": {
        "id": "_0tknU3PY08M"
      },
      "source": [
        "from sklearn.model_selection import GridSearchCV\n",
        "from sklearn.ensemble import AdaBoostRegressor\n",
        "from sklearn.metrics import r2_score\n",
        "from sklearn.tree import DecisionTreeRegressor\n",
        "\n",
        "param_grid={\n",
        "            'n_estimators' :[100, 250, 500, 750],\n",
        "            'learning_rate' :[0.001, 0.01, 0.1, 1],\n",
        "            'random_state':[1]\n",
        "            }\n",
        "\n",
        "base_grid = GridSearchCV(estimator=AdaBoostRegressor(DecisionTreeRegressor(max_depth=6)),\n",
        "                        param_grid=param_grid, n_jobs=40, return_train_score=True)\n",
        "\n",
        "base_grid.fit(X_train, y_train) \n",
        "base_best_mod = base_grid.best_estimator_\n",
        "\n",
        "base_best_mod.fit(X_train, y_train)\n",
        "score = base_best_mod.score(X_test, y_test)\n",
        "print(score)\n",
        "print(base_best_mod.best_params_)"
      ],
      "execution_count": null,
      "outputs": []
    },
    {
      "cell_type": "markdown",
      "metadata": {
        "id": "5PBmHWjGtGcy"
      },
      "source": [
        "## Lightgbm"
      ]
    },
    {
      "cell_type": "markdown",
      "metadata": {
        "id": "cx_aXv5q7uS-"
      },
      "source": [
        "LightGBM es un marco de mejora de gradientes que utiliza algoritmos de aprendizaje basados ​​en árboles. Está diseñado para ser distribuido y eficiente con las siguientes ventajas:\n",
        "\n",
        "* Velocidad de entrenamiento más rápida y mayor eficiencia.\n",
        "* Menor uso de memoria.\n",
        "* Mejor precisión.\n",
        "* Soporte de aprendizaje en paralelo, distribuido y GPU.\n",
        "* Capaz de manejar datos a gran escala.\n",
        "\n",
        "LightGBM divide el árbol en forma de hojas en lugar de otros algoritmos de impulso que crecen a nivel del árbol. Elige la hoja con la máxima pérdida delta para crecer. Dado que la hoja es fija, el algoritmo de hoja tiene una pérdida menor en comparación con el algoritmo de nivel. El crecimiento de los árboles por hojas puede aumentar la complejidad del modelo y puede conducir a un sobreajuste en pequeños conjuntos de datos.\n",
        "\n",
        "A continuación se muestra una representación esquemática del crecimiento de los árboles en forma de hoja: \n",
        "\n",
        "\n",
        "\n",
        "Los hiperparámetros más influyentes son: \n",
        "  max_depth, n_estimators y learning_rate.\n"
      ]
    },
    {
      "cell_type": "markdown",
      "metadata": {
        "id": "TN7-N_w3aGmA"
      },
      "source": [
        "### Prueba con un modelo"
      ]
    },
    {
      "cell_type": "code",
      "metadata": {
        "colab": {
          "base_uri": "https://localhost:8080/"
        },
        "id": "S1D4s1jVi3R5",
        "outputId": "ae6a5c22-e487-43c5-9a57-e233658d3352"
      },
      "source": [
        "!pip install lightgbm"
      ],
      "execution_count": null,
      "outputs": [
        {
          "output_type": "stream",
          "text": [
            "Requirement already satisfied: lightgbm in /usr/local/lib/python3.7/dist-packages (2.2.3)\n",
            "Requirement already satisfied: scipy in /usr/local/lib/python3.7/dist-packages (from lightgbm) (1.4.1)\n",
            "Requirement already satisfied: numpy in /usr/local/lib/python3.7/dist-packages (from lightgbm) (1.19.5)\n",
            "Requirement already satisfied: scikit-learn in /usr/local/lib/python3.7/dist-packages (from lightgbm) (0.22.2.post1)\n",
            "Requirement already satisfied: joblib>=0.11 in /usr/local/lib/python3.7/dist-packages (from scikit-learn->lightgbm) (1.0.1)\n"
          ],
          "name": "stdout"
        }
      ]
    },
    {
      "cell_type": "code",
      "metadata": {
        "id": "j3eHPkvfT15v"
      },
      "source": [
        "from lightgbm.sklearn import LGBMRegressor\n",
        "import multiprocessing\n",
        "from sklearn import metrics\n",
        "from sklearn.metrics import r2_score\n",
        "#from sklearn.model_selection import cross_validate\n",
        "from sklearn.model_selection import GridSearchCV\n",
        "from sklearn.model_selection import RepeatedKFold\n",
        "import random"
      ],
      "execution_count": 9,
      "outputs": []
    },
    {
      "cell_type": "code",
      "metadata": {
        "colab": {
          "base_uri": "https://localhost:8080/"
        },
        "id": "5KLrtZ8m8Ni7",
        "outputId": "56b3d845-773f-4c83-fb85-b58fe6b0408e"
      },
      "source": [
        "#lgbm = LGBMRegressor(boosting_type='gbdt',  max_depth= 5, learning_rate=0.1, n_estimators=1000, subsample=0.5,random_state=1, n_jobs=multiprocessing.cpu_count() - 1)\n",
        "lgbm = LGBMRegressor(boosting_type='gbdt',  max_depth= 7, learning_rate=0.1, n_estimators=1000, subsample=0.5,random_state=1, n_jobs=multiprocessing.cpu_count() - 1)\n",
        "lgbm.fit(X_train, y_train)"
      ],
      "execution_count": 14,
      "outputs": [
        {
          "output_type": "execute_result",
          "data": {
            "text/plain": [
              "LGBMRegressor(boosting_type='gbdt', class_weight=None, colsample_bytree=1.0,\n",
              "              importance_type='split', learning_rate=0.1, max_depth=7,\n",
              "              min_child_samples=20, min_child_weight=0.001, min_split_gain=0.0,\n",
              "              n_estimators=1000, n_jobs=39, num_leaves=31, objective=None,\n",
              "              random_state=1, reg_alpha=0.0, reg_lambda=0.0, silent=True,\n",
              "              subsample=0.5, subsample_for_bin=200000, subsample_freq=0)"
            ]
          },
          "metadata": {
            "tags": []
          },
          "execution_count": 14
        }
      ]
    },
    {
      "cell_type": "code",
      "metadata": {
        "colab": {
          "base_uri": "https://localhost:8080/"
        },
        "id": "wA1zUaNSvVdC",
        "outputId": "769bdb16-0776-428c-bbf5-034d2a243542"
      },
      "source": [
        "score = lgbm.score(X_test, y_test)\n",
        "print(\"score :\",score)\n",
        "\n",
        "y_pred = lgbm.predict(X_test)\n",
        "\n",
        "mse = np.mean((y_test - y_pred)**2)\n",
        "print(\"MSE :\", mse)\n",
        "\n",
        "rmse = np.sqrt(mse)\n",
        "print(\"RMSE :\", rmse)\n",
        "\n",
        "r2 = r2_score(y_test, y_pred)\n",
        "print(\"r2_score :\", r2)"
      ],
      "execution_count": 15,
      "outputs": [
        {
          "output_type": "stream",
          "text": [
            "score : 0.8974132606927763\n",
            "MSE : 10.956263811435077\n",
            "RMSE : 3.3100247448372766\n",
            "r2_score : 0.8974132606927763\n"
          ],
          "name": "stdout"
        }
      ]
    },
    {
      "cell_type": "code",
      "metadata": {
        "colab": {
          "base_uri": "https://localhost:8080/",
          "height": 279
        },
        "id": "l2ry4lwdvVJL",
        "outputId": "84ce945a-ef72-47be-bbcd-2a78d87de0dc"
      },
      "source": [
        "dibuja_caracteristicas_importantes(lgbm)"
      ],
      "execution_count": 16,
      "outputs": [
        {
          "output_type": "display_data",
          "data": {
            "image/png": "[encoded data removed]",
            "text/plain": [
              "<Figure size 432x288 with 1 Axes>"
            ]
          },
          "metadata": {
            "tags": [],
            "needs_background": "light"
          }
        }
      ]
    },
    {
      "cell_type": "markdown",
      "metadata": {
        "id": "yo3x44oPWxU8"
      },
      "source": [
        "Todas las caracteristicas con el mejor modelo resultado de la busqueda aleatoria."
      ]
    },
    {
      "cell_type": "code",
      "metadata": {
        "colab": {
          "base_uri": "https://localhost:8080/"
        },
        "id": "Wg1Y9yZJugHI",
        "outputId": "50d9d8ab-0282-4ec0-c2a7-f4540a1d3d60"
      },
      "source": [
        "model = LGBMRegressor(boosting_type=['gbdt'], class_weight=None, colsample_bytree=1.0,\n",
        "              importance_type='split', learning_rate=0.1, max_depth=7,\n",
        "              min_child_samples=20, min_child_weight=0.001, min_split_gain=0.0,\n",
        "              n_estimators=1000, n_jobs=39, num_leaves=31, objective=None,\n",
        "              random_state=1, reg_alpha=0.0, reg_lambda=0.0, silent=True,\n",
        "              subsample=0.5, subsample_for_bin=200000, subsample_freq=0)\n",
        "\n",
        "model.fit(X_train_s, y_train)\n",
        "score = model.score(X_test_s, y_test)\n",
        "print(score)"
      ],
      "execution_count": 21,
      "outputs": [
        {
          "output_type": "stream",
          "text": [
            "0.8974128939904997\n"
          ],
          "name": "stdout"
        }
      ]
    },
    {
      "cell_type": "markdown",
      "metadata": {
        "id": "qvFEnwX1vWAN"
      },
      "source": [
        "Con Scaler"
      ]
    },
    {
      "cell_type": "code",
      "metadata": {
        "id": "qzXxG2V70MVv"
      },
      "source": [
        "from sklearn.preprocessing import MinMaxScaler\n",
        "\n",
        "scaler = MinMaxScaler()\n",
        "\n",
        "X_train_s = scaler.fit_transform(X_train)\n",
        "X_test_s = scaler.transform(X_test)"
      ],
      "execution_count": 10,
      "outputs": []
    },
    {
      "cell_type": "code",
      "metadata": {
        "colab": {
          "base_uri": "https://localhost:8080/"
        },
        "id": "dIHKMWTvVCQZ",
        "outputId": "1e7fd5c6-9802-4327-dce0-b5e084d5466e"
      },
      "source": [
        "lgbm_s = LGBMRegressor(boosting_type=['gbdt'], class_weight=None, colsample_bytree=1.0,\n",
        "              importance_type='split', learning_rate=0.1, max_depth=7,\n",
        "              min_child_samples=20, min_child_weight=0.001, min_split_gain=0.0,\n",
        "              n_estimators=1000, n_jobs=39, num_leaves=31, objective=None,\n",
        "              random_state=1, reg_alpha=0.0, reg_lambda=0.0, silent=True,\n",
        "              subsample=0.5, subsample_for_bin=200000, subsample_freq=0)\n",
        "lgbm_s.fit(X_train_s, y_train)"
      ],
      "execution_count": 11,
      "outputs": [
        {
          "output_type": "execute_result",
          "data": {
            "text/plain": [
              "LGBMRegressor(boosting_type=['gbdt'], class_weight=None, colsample_bytree=1.0,\n",
              "              importance_type='split', learning_rate=0.1, max_depth=7,\n",
              "              min_child_samples=20, min_child_weight=0.001, min_split_gain=0.0,\n",
              "              n_estimators=1000, n_jobs=39, num_leaves=31, objective=None,\n",
              "              random_state=1, reg_alpha=0.0, reg_lambda=0.0, silent=True,\n",
              "              subsample=0.5, subsample_for_bin=200000, subsample_freq=0)"
            ]
          },
          "metadata": {
            "tags": []
          },
          "execution_count": 11
        }
      ]
    },
    {
      "cell_type": "code",
      "metadata": {
        "id": "agmvIopcqkSf",
        "colab": {
          "base_uri": "https://localhost:8080/"
        },
        "outputId": "6188bc62-5a46-438f-aef6-b2ab9ac99df1"
      },
      "source": [
        "score = lgbm_s.score(X_test_s, y_test)\n",
        "print(\"score :\",score)\n",
        "\n",
        "y_pred = lgbm_s.predict(X_test)\n",
        "\n",
        "mse = np.mean((y_test - y_pred)**2)\n",
        "print(\"MSE :\", mse)\n",
        "\n",
        "rmse = np.sqrt(mse)\n",
        "print(\"RMSE :\", rmse)\n",
        "\n",
        "r2 = r2_score(y_test, y_pred)\n",
        "print(\"r2_score :\", r2)"
      ],
      "execution_count": 12,
      "outputs": [
        {
          "output_type": "stream",
          "text": [
            "score : 0.8933640492833465\n",
            "MSE : 254.90746894841033\n",
            "RMSE : 15.965821900184478\n",
            "r2_score : -1.386774042180087\n"
          ],
          "name": "stdout"
        }
      ]
    },
    {
      "cell_type": "code",
      "metadata": {
        "colab": {
          "base_uri": "https://localhost:8080/",
          "height": 279
        },
        "id": "i7hcMrZLAqgO",
        "outputId": "0b363c3f-652f-4f7f-de8b-0f26add37ffd"
      },
      "source": [
        "dibuja_caracteristicas_importantes(lgbm_s)"
      ],
      "execution_count": 13,
      "outputs": [
        {
          "output_type": "display_data",
          "data": {
            "image/png": "[encoded data removed]",
            "text/plain": [
              "<Figure size 432x288 with 1 Axes>"
            ]
          },
          "metadata": {
            "tags": [],
            "needs_background": "light"
          }
        }
      ]
    },
    {
      "cell_type": "markdown",
      "metadata": {
        "id": "bs8WpDJkJKOt"
      },
      "source": [
        "### Busqueda aleatoria"
      ]
    },
    {
      "cell_type": "code",
      "metadata": {
        "colab": {
          "base_uri": "https://localhost:8080/"
        },
        "id": "GlO3_R8CJJ43",
        "outputId": "360665c1-cd2f-4730-e028-e43f5489df0c"
      },
      "source": [
        "boosting_type = ['gbdt']\n",
        "best_score = -1\n",
        "best_model = LGBMRegressor()\n",
        "\n",
        "for i in range(12):\n",
        "    n_estimators= random.choice([100, 500, 750 ,1000])\n",
        "    max_depth = random.choice([3, 5, 7])\n",
        "    subsample = random.choice([0.5, 1])\n",
        "    learning_rate = random.choice([0.001, 0.01, 0.1])\n",
        "\n",
        "    model = LGBMRegressor(boosting_type=boosting_type,  max_depth= max_depth, learning_rate=learning_rate, n_estimators=n_estimators, subsample=subsample,random_state=1, n_jobs=multiprocessing.cpu_count() - 1)\n",
        "    model.fit(X_train, y_train)\n",
        "    score = model.score(X_test, y_test)\n",
        "    if score > best_score:\n",
        "        best_score = score \n",
        "        best_model = model\n",
        "        print(\"Mejor score: {} \\nModelo: {}\".format(score, model))"
      ],
      "execution_count": 17,
      "outputs": [
        {
          "output_type": "stream",
          "text": [
            "Mejor score: 0.6488191195415001 \n",
            "Modelo: LGBMRegressor(boosting_type=['gbdt'], class_weight=None, colsample_bytree=1.0,\n",
            "              importance_type='split', learning_rate=0.001, max_depth=7,\n",
            "              min_child_samples=20, min_child_weight=0.001, min_split_gain=0.0,\n",
            "              n_estimators=1000, n_jobs=39, num_leaves=31, objective=None,\n",
            "              random_state=1, reg_alpha=0.0, reg_lambda=0.0, silent=True,\n",
            "              subsample=0.5, subsample_for_bin=200000, subsample_freq=0)\n",
            "Mejor score: 0.8888296855530071 \n",
            "Modelo: LGBMRegressor(boosting_type=['gbdt'], class_weight=None, colsample_bytree=1.0,\n",
            "              importance_type='split', learning_rate=0.1, max_depth=5,\n",
            "              min_child_samples=20, min_child_weight=0.001, min_split_gain=0.0,\n",
            "              n_estimators=500, n_jobs=39, num_leaves=31, objective=None,\n",
            "              random_state=1, reg_alpha=0.0, reg_lambda=0.0, silent=True,\n",
            "              subsample=0.5, subsample_for_bin=200000, subsample_freq=0)\n",
            "Mejor score: 0.8974132606927763 \n",
            "Modelo: LGBMRegressor(boosting_type=['gbdt'], class_weight=None, colsample_bytree=1.0,\n",
            "              importance_type='split', learning_rate=0.1, max_depth=7,\n",
            "              min_child_samples=20, min_child_weight=0.001, min_split_gain=0.0,\n",
            "              n_estimators=1000, n_jobs=39, num_leaves=31, objective=None,\n",
            "              random_state=1, reg_alpha=0.0, reg_lambda=0.0, silent=True,\n",
            "              subsample=1, subsample_for_bin=200000, subsample_freq=0)\n",
            "Mejor score: 0.8974132606927764 \n",
            "Modelo: LGBMRegressor(boosting_type=['gbdt'], class_weight=None, colsample_bytree=1.0,\n",
            "              importance_type='split', learning_rate=0.1, max_depth=7,\n",
            "              min_child_samples=20, min_child_weight=0.001, min_split_gain=0.0,\n",
            "              n_estimators=1000, n_jobs=39, num_leaves=31, objective=None,\n",
            "              random_state=1, reg_alpha=0.0, reg_lambda=0.0, silent=True,\n",
            "              subsample=0.5, subsample_for_bin=200000, subsample_freq=0)\n"
          ],
          "name": "stdout"
        }
      ]
    },
    {
      "cell_type": "code",
      "metadata": {
        "colab": {
          "base_uri": "https://localhost:8080/"
        },
        "id": "o0fKi0kLv0mp",
        "outputId": "a299b5ec-649c-4243-f6fb-b2533ee36981"
      },
      "source": [
        "#res = cross_validate(best_model, X_train, y_train)\n",
        "#print(pd.DataFrame(res))\n",
        "score = model.score(X_train, y_train)\n",
        "print(\"Score entrenamiento: \",score)\n",
        "\n",
        "score = model.score(X_test, y_test)\n",
        "print(\"Score prueba: \",score)\n",
        "\n",
        "y_pred = model.predict(X_test)\n",
        "mse = np.mean((y_test - y_pred)**2)\n",
        "print(\"MSE :\", mse)\n",
        "\n",
        "rmse = np.sqrt(mse)\n",
        "print(\"RMSE :\", rmse)\n",
        "\n",
        "r2 = metrics.r2_score(y_test, y_pred)\n",
        "print(\"r2_score :\", r2)\n",
        "\n",
        "# comp = pd.DataFrame({'y_test':y_test, 'y_pred':y_pred})\n",
        "# print(comp)"
      ],
      "execution_count": 18,
      "outputs": [
        {
          "output_type": "stream",
          "text": [
            "Score entrenamiento:  0.85660492760096\n",
            "Score prueba:  0.8559937145645446\n",
            "MSE : 15.379871359498152\n",
            "RMSE : 3.921717909220161\n",
            "r2_score : 0.8559937145645446\n"
          ],
          "name": "stdout"
        }
      ]
    },
    {
      "cell_type": "code",
      "metadata": {
        "colab": {
          "base_uri": "https://localhost:8080/",
          "height": 279
        },
        "id": "wdVcPeA2WyMh",
        "outputId": "a17ab441-6022-4d7c-d97d-2ca5f08f07b3"
      },
      "source": [
        "dibuja_caracteristicas_importantes(best_model)"
      ],
      "execution_count": 19,
      "outputs": [
        {
          "output_type": "display_data",
          "data": {
            "image/png": "[encoded data removed]",
            "text/plain": [
              "<Figure size 432x288 with 1 Axes>"
            ]
          },
          "metadata": {
            "tags": [],
            "needs_background": "light"
          }
        }
      ]
    },
    {
      "cell_type": "markdown",
      "metadata": {
        "id": "n5KSvbAmAk0k"
      },
      "source": [
        "### GridSearchCV"
      ]
    },
    {
      "cell_type": "code",
      "metadata": {
        "id": "jJ3BZVlVtO1D",
        "colab": {
          "base_uri": "https://localhost:8080/"
        },
        "outputId": "1e1c01f9-1a5e-460d-879c-66c285720023"
      },
      "source": [
        "param_grid = {'n_estimators'     : [500, 750, 1000],\n",
        "              'max_depth'        : [3, 5, 7],\n",
        "              'learning_rate'    : [0.001, 0.01, 0.1],\n",
        "             }\n",
        "\n",
        "grid = GridSearchCV(\n",
        "        estimator  = LGBMRegressor(boosting_type = 'gbdt', random_state = 1 , n_jobs = multiprocessing.cpu_count() - 1),\n",
        "        param_grid = param_grid,\n",
        "        return_train_score = True,\n",
        "        verbose = 2\n",
        "       )\n",
        "\n",
        "grid.fit(X_train, y_train)"
      ],
      "execution_count": 17,
      "outputs": [
        {
          "output_type": "stream",
          "text": [
            "Fitting 5 folds for each of 27 candidates, totalling 135 fits\n"
          ],
          "name": "stdout"
        },
        {
          "output_type": "stream",
          "text": [
            "[Parallel(n_jobs=1)]: Using backend SequentialBackend with 1 concurrent workers.\n"
          ],
          "name": "stderr"
        },
        {
          "output_type": "stream",
          "text": [
            "[CV] learning_rate=0.001, max_depth=3, n_estimators=500 ..............\n",
            "[CV]  learning_rate=0.001, max_depth=3, n_estimators=500, total=  27.0s\n",
            "[CV] learning_rate=0.001, max_depth=3, n_estimators=500 ..............\n"
          ],
          "name": "stdout"
        },
        {
          "output_type": "stream",
          "text": [
            "[Parallel(n_jobs=1)]: Done   1 out of   1 | elapsed:   30.9s remaining:    0.0s\n"
          ],
          "name": "stderr"
        },
        {
          "output_type": "stream",
          "text": [
            "[CV]  learning_rate=0.001, max_depth=3, n_estimators=500, total=  26.4s\n",
            "[CV] learning_rate=0.001, max_depth=3, n_estimators=500 ..............\n",
            "[CV]  learning_rate=0.001, max_depth=3, n_estimators=500, total=  26.3s\n",
            "[CV] learning_rate=0.001, max_depth=3, n_estimators=500 ..............\n",
            "[CV]  learning_rate=0.001, max_depth=3, n_estimators=500, total=  26.2s\n",
            "[CV] learning_rate=0.001, max_depth=3, n_estimators=500 ..............\n",
            "[CV]  learning_rate=0.001, max_depth=3, n_estimators=500, total=  26.4s\n",
            "[CV] learning_rate=0.001, max_depth=3, n_estimators=750 ..............\n",
            "[CV]  learning_rate=0.001, max_depth=3, n_estimators=750, total=  39.0s\n",
            "[CV] learning_rate=0.001, max_depth=3, n_estimators=750 ..............\n",
            "[CV]  learning_rate=0.001, max_depth=3, n_estimators=750, total=  38.9s\n",
            "[CV] learning_rate=0.001, max_depth=3, n_estimators=750 ..............\n",
            "[CV]  learning_rate=0.001, max_depth=3, n_estimators=750, total=  39.0s\n",
            "[CV] learning_rate=0.001, max_depth=3, n_estimators=750 ..............\n",
            "[CV]  learning_rate=0.001, max_depth=3, n_estimators=750, total=  38.6s\n",
            "[CV] learning_rate=0.001, max_depth=3, n_estimators=750 ..............\n",
            "[CV]  learning_rate=0.001, max_depth=3, n_estimators=750, total=  39.4s\n",
            "[CV] learning_rate=0.001, max_depth=3, n_estimators=1000 .............\n",
            "[CV]  learning_rate=0.001, max_depth=3, n_estimators=1000, total=  53.1s\n",
            "[CV] learning_rate=0.001, max_depth=3, n_estimators=1000 .............\n",
            "[CV]  learning_rate=0.001, max_depth=3, n_estimators=1000, total=  51.6s\n",
            "[CV] learning_rate=0.001, max_depth=3, n_estimators=1000 .............\n",
            "[CV]  learning_rate=0.001, max_depth=3, n_estimators=1000, total=  51.8s\n",
            "[CV] learning_rate=0.001, max_depth=3, n_estimators=1000 .............\n",
            "[CV]  learning_rate=0.001, max_depth=3, n_estimators=1000, total=  52.1s\n",
            "[CV] learning_rate=0.001, max_depth=3, n_estimators=1000 .............\n",
            "[CV]  learning_rate=0.001, max_depth=3, n_estimators=1000, total=  52.3s\n",
            "[CV] learning_rate=0.001, max_depth=5, n_estimators=500 ..............\n",
            "[CV]  learning_rate=0.001, max_depth=5, n_estimators=500, total=  37.3s\n",
            "[CV] learning_rate=0.001, max_depth=5, n_estimators=500 ..............\n",
            "[CV]  learning_rate=0.001, max_depth=5, n_estimators=500, total=  38.6s\n",
            "[CV] learning_rate=0.001, max_depth=5, n_estimators=500 ..............\n",
            "[CV]  learning_rate=0.001, max_depth=5, n_estimators=500, total=  38.1s\n",
            "[CV] learning_rate=0.001, max_depth=5, n_estimators=500 ..............\n",
            "[CV]  learning_rate=0.001, max_depth=5, n_estimators=500, total=  37.4s\n",
            "[CV] learning_rate=0.001, max_depth=5, n_estimators=500 ..............\n",
            "[CV]  learning_rate=0.001, max_depth=5, n_estimators=500, total=  37.5s\n",
            "[CV] learning_rate=0.001, max_depth=5, n_estimators=750 ..............\n",
            "[CV]  learning_rate=0.001, max_depth=5, n_estimators=750, total=  56.8s\n",
            "[CV] learning_rate=0.001, max_depth=5, n_estimators=750 ..............\n",
            "[CV]  learning_rate=0.001, max_depth=5, n_estimators=750, total=  56.7s\n",
            "[CV] learning_rate=0.001, max_depth=5, n_estimators=750 ..............\n",
            "[CV]  learning_rate=0.001, max_depth=5, n_estimators=750, total=  56.9s\n",
            "[CV] learning_rate=0.001, max_depth=5, n_estimators=750 ..............\n",
            "[CV]  learning_rate=0.001, max_depth=5, n_estimators=750, total=  57.4s\n",
            "[CV] learning_rate=0.001, max_depth=5, n_estimators=750 ..............\n",
            "[CV]  learning_rate=0.001, max_depth=5, n_estimators=750, total=  58.1s\n",
            "[CV] learning_rate=0.001, max_depth=5, n_estimators=1000 .............\n",
            "[CV]  learning_rate=0.001, max_depth=5, n_estimators=1000, total= 1.3min\n",
            "[CV] learning_rate=0.001, max_depth=5, n_estimators=1000 .............\n",
            "[CV]  learning_rate=0.001, max_depth=5, n_estimators=1000, total= 1.3min\n",
            "[CV] learning_rate=0.001, max_depth=5, n_estimators=1000 .............\n",
            "[CV]  learning_rate=0.001, max_depth=5, n_estimators=1000, total= 1.3min\n",
            "[CV] learning_rate=0.001, max_depth=5, n_estimators=1000 .............\n",
            "[CV]  learning_rate=0.001, max_depth=5, n_estimators=1000, total= 1.3min\n",
            "[CV] learning_rate=0.001, max_depth=5, n_estimators=1000 .............\n",
            "[CV]  learning_rate=0.001, max_depth=5, n_estimators=1000, total= 1.3min\n",
            "[CV] learning_rate=0.001, max_depth=7, n_estimators=500 ..............\n",
            "[CV]  learning_rate=0.001, max_depth=7, n_estimators=500, total=  48.1s\n",
            "[CV] learning_rate=0.001, max_depth=7, n_estimators=500 ..............\n",
            "[CV]  learning_rate=0.001, max_depth=7, n_estimators=500, total=  46.8s\n",
            "[CV] learning_rate=0.001, max_depth=7, n_estimators=500 ..............\n",
            "[CV]  learning_rate=0.001, max_depth=7, n_estimators=500, total=  46.3s\n",
            "[CV] learning_rate=0.001, max_depth=7, n_estimators=500 ..............\n",
            "[CV]  learning_rate=0.001, max_depth=7, n_estimators=500, total=  45.7s\n",
            "[CV] learning_rate=0.001, max_depth=7, n_estimators=500 ..............\n",
            "[CV]  learning_rate=0.001, max_depth=7, n_estimators=500, total=  45.7s\n",
            "[CV] learning_rate=0.001, max_depth=7, n_estimators=750 ..............\n",
            "[CV]  learning_rate=0.001, max_depth=7, n_estimators=750, total= 1.2min\n",
            "[CV] learning_rate=0.001, max_depth=7, n_estimators=750 ..............\n",
            "[CV]  learning_rate=0.001, max_depth=7, n_estimators=750, total= 1.1min\n",
            "[CV] learning_rate=0.001, max_depth=7, n_estimators=750 ..............\n",
            "[CV]  learning_rate=0.001, max_depth=7, n_estimators=750, total= 1.2min\n",
            "[CV] learning_rate=0.001, max_depth=7, n_estimators=750 ..............\n",
            "[CV]  learning_rate=0.001, max_depth=7, n_estimators=750, total= 1.2min\n",
            "[CV] learning_rate=0.001, max_depth=7, n_estimators=750 ..............\n",
            "[CV]  learning_rate=0.001, max_depth=7, n_estimators=750, total= 1.2min\n",
            "[CV] learning_rate=0.001, max_depth=7, n_estimators=1000 .............\n",
            "[CV]  learning_rate=0.001, max_depth=7, n_estimators=1000, total= 1.6min\n",
            "[CV] learning_rate=0.001, max_depth=7, n_estimators=1000 .............\n",
            "[CV]  learning_rate=0.001, max_depth=7, n_estimators=1000, total= 1.5min\n",
            "[CV] learning_rate=0.001, max_depth=7, n_estimators=1000 .............\n",
            "[CV]  learning_rate=0.001, max_depth=7, n_estimators=1000, total= 1.5min\n",
            "[CV] learning_rate=0.001, max_depth=7, n_estimators=1000 .............\n",
            "[CV]  learning_rate=0.001, max_depth=7, n_estimators=1000, total= 1.6min\n",
            "[CV] learning_rate=0.001, max_depth=7, n_estimators=1000 .............\n",
            "[CV]  learning_rate=0.001, max_depth=7, n_estimators=1000, total= 1.6min\n",
            "[CV] learning_rate=0.01, max_depth=3, n_estimators=500 ...............\n",
            "[CV]  learning_rate=0.01, max_depth=3, n_estimators=500, total=  27.3s\n",
            "[CV] learning_rate=0.01, max_depth=3, n_estimators=500 ...............\n",
            "[CV]  learning_rate=0.01, max_depth=3, n_estimators=500, total=  27.1s\n",
            "[CV] learning_rate=0.01, max_depth=3, n_estimators=500 ...............\n",
            "[CV]  learning_rate=0.01, max_depth=3, n_estimators=500, total=  27.2s\n",
            "[CV] learning_rate=0.01, max_depth=3, n_estimators=500 ...............\n",
            "[CV]  learning_rate=0.01, max_depth=3, n_estimators=500, total=  27.7s\n",
            "[CV] learning_rate=0.01, max_depth=3, n_estimators=500 ...............\n",
            "[CV]  learning_rate=0.01, max_depth=3, n_estimators=500, total=  27.4s\n",
            "[CV] learning_rate=0.01, max_depth=3, n_estimators=750 ...............\n",
            "[CV]  learning_rate=0.01, max_depth=3, n_estimators=750, total=  40.5s\n",
            "[CV] learning_rate=0.01, max_depth=3, n_estimators=750 ...............\n",
            "[CV]  learning_rate=0.01, max_depth=3, n_estimators=750, total=  39.7s\n",
            "[CV] learning_rate=0.01, max_depth=3, n_estimators=750 ...............\n",
            "[CV]  learning_rate=0.01, max_depth=3, n_estimators=750, total=  39.7s\n",
            "[CV] learning_rate=0.01, max_depth=3, n_estimators=750 ...............\n",
            "[CV]  learning_rate=0.01, max_depth=3, n_estimators=750, total=  40.2s\n",
            "[CV] learning_rate=0.01, max_depth=3, n_estimators=750 ...............\n",
            "[CV]  learning_rate=0.01, max_depth=3, n_estimators=750, total=  40.1s\n",
            "[CV] learning_rate=0.01, max_depth=3, n_estimators=1000 ..............\n",
            "[CV]  learning_rate=0.01, max_depth=3, n_estimators=1000, total=  54.0s\n",
            "[CV] learning_rate=0.01, max_depth=3, n_estimators=1000 ..............\n",
            "[CV]  learning_rate=0.01, max_depth=3, n_estimators=1000, total=  54.0s\n",
            "[CV] learning_rate=0.01, max_depth=3, n_estimators=1000 ..............\n",
            "[CV]  learning_rate=0.01, max_depth=3, n_estimators=1000, total=  53.3s\n",
            "[CV] learning_rate=0.01, max_depth=3, n_estimators=1000 ..............\n",
            "[CV]  learning_rate=0.01, max_depth=3, n_estimators=1000, total=  53.1s\n",
            "[CV] learning_rate=0.01, max_depth=3, n_estimators=1000 ..............\n",
            "[CV]  learning_rate=0.01, max_depth=3, n_estimators=1000, total=  53.2s\n",
            "[CV] learning_rate=0.01, max_depth=5, n_estimators=500 ...............\n",
            "[CV]  learning_rate=0.01, max_depth=5, n_estimators=500, total=  38.7s\n",
            "[CV] learning_rate=0.01, max_depth=5, n_estimators=500 ...............\n",
            "[CV]  learning_rate=0.01, max_depth=5, n_estimators=500, total=  38.0s\n",
            "[CV] learning_rate=0.01, max_depth=5, n_estimators=500 ...............\n",
            "[CV]  learning_rate=0.01, max_depth=5, n_estimators=500, total=  38.9s\n",
            "[CV] learning_rate=0.01, max_depth=5, n_estimators=500 ...............\n",
            "[CV]  learning_rate=0.01, max_depth=5, n_estimators=500, total=  38.7s\n",
            "[CV] learning_rate=0.01, max_depth=5, n_estimators=500 ...............\n",
            "[CV]  learning_rate=0.01, max_depth=5, n_estimators=500, total=  39.7s\n",
            "[CV] learning_rate=0.01, max_depth=5, n_estimators=750 ...............\n",
            "[CV]  learning_rate=0.01, max_depth=5, n_estimators=750, total= 1.0min\n",
            "[CV] learning_rate=0.01, max_depth=5, n_estimators=750 ...............\n",
            "[CV]  learning_rate=0.01, max_depth=5, n_estimators=750, total= 1.0min\n",
            "[CV] learning_rate=0.01, max_depth=5, n_estimators=750 ...............\n",
            "[CV]  learning_rate=0.01, max_depth=5, n_estimators=750, total= 1.0min\n",
            "[CV] learning_rate=0.01, max_depth=5, n_estimators=750 ...............\n",
            "[CV]  learning_rate=0.01, max_depth=5, n_estimators=750, total= 1.0min\n",
            "[CV] learning_rate=0.01, max_depth=5, n_estimators=750 ...............\n",
            "[CV]  learning_rate=0.01, max_depth=5, n_estimators=750, total= 1.0min\n",
            "[CV] learning_rate=0.01, max_depth=5, n_estimators=1000 ..............\n",
            "[CV]  learning_rate=0.01, max_depth=5, n_estimators=1000, total= 1.4min\n",
            "[CV] learning_rate=0.01, max_depth=5, n_estimators=1000 ..............\n",
            "[CV]  learning_rate=0.01, max_depth=5, n_estimators=1000, total= 1.4min\n",
            "[CV] learning_rate=0.01, max_depth=5, n_estimators=1000 ..............\n",
            "[CV]  learning_rate=0.01, max_depth=5, n_estimators=1000, total= 1.4min\n",
            "[CV] learning_rate=0.01, max_depth=5, n_estimators=1000 ..............\n",
            "[CV]  learning_rate=0.01, max_depth=5, n_estimators=1000, total= 1.4min\n",
            "[CV] learning_rate=0.01, max_depth=5, n_estimators=1000 ..............\n",
            "[CV]  learning_rate=0.01, max_depth=5, n_estimators=1000, total= 1.4min\n",
            "[CV] learning_rate=0.01, max_depth=7, n_estimators=500 ...............\n",
            "[CV]  learning_rate=0.01, max_depth=7, n_estimators=500, total=  49.5s\n",
            "[CV] learning_rate=0.01, max_depth=7, n_estimators=500 ...............\n",
            "[CV]  learning_rate=0.01, max_depth=7, n_estimators=500, total=  50.1s\n",
            "[CV] learning_rate=0.01, max_depth=7, n_estimators=500 ...............\n",
            "[CV]  learning_rate=0.01, max_depth=7, n_estimators=500, total=  49.3s\n",
            "[CV] learning_rate=0.01, max_depth=7, n_estimators=500 ...............\n",
            "[CV]  learning_rate=0.01, max_depth=7, n_estimators=500, total=  49.3s\n",
            "[CV] learning_rate=0.01, max_depth=7, n_estimators=500 ...............\n",
            "[CV]  learning_rate=0.01, max_depth=7, n_estimators=500, total=  49.0s\n",
            "[CV] learning_rate=0.01, max_depth=7, n_estimators=750 ...............\n",
            "[CV]  learning_rate=0.01, max_depth=7, n_estimators=750, total= 1.2min\n",
            "[CV] learning_rate=0.01, max_depth=7, n_estimators=750 ...............\n",
            "[CV]  learning_rate=0.01, max_depth=7, n_estimators=750, total= 1.2min\n",
            "[CV] learning_rate=0.01, max_depth=7, n_estimators=750 ...............\n",
            "[CV]  learning_rate=0.01, max_depth=7, n_estimators=750, total= 1.2min\n",
            "[CV] learning_rate=0.01, max_depth=7, n_estimators=750 ...............\n",
            "[CV]  learning_rate=0.01, max_depth=7, n_estimators=750, total= 1.2min\n",
            "[CV] learning_rate=0.01, max_depth=7, n_estimators=750 ...............\n",
            "[CV]  learning_rate=0.01, max_depth=7, n_estimators=750, total= 1.2min\n",
            "[CV] learning_rate=0.01, max_depth=7, n_estimators=1000 ..............\n",
            "[CV]  learning_rate=0.01, max_depth=7, n_estimators=1000, total= 1.6min\n",
            "[CV] learning_rate=0.01, max_depth=7, n_estimators=1000 ..............\n",
            "[CV]  learning_rate=0.01, max_depth=7, n_estimators=1000, total= 1.5min\n",
            "[CV] learning_rate=0.01, max_depth=7, n_estimators=1000 ..............\n",
            "[CV]  learning_rate=0.01, max_depth=7, n_estimators=1000, total= 1.6min\n",
            "[CV] learning_rate=0.01, max_depth=7, n_estimators=1000 ..............\n",
            "[CV]  learning_rate=0.01, max_depth=7, n_estimators=1000, total= 1.5min\n",
            "[CV] learning_rate=0.01, max_depth=7, n_estimators=1000 ..............\n",
            "[CV]  learning_rate=0.01, max_depth=7, n_estimators=1000, total= 1.5min\n",
            "[CV] learning_rate=0.1, max_depth=3, n_estimators=500 ................\n",
            "[CV] . learning_rate=0.1, max_depth=3, n_estimators=500, total=  27.3s\n",
            "[CV] learning_rate=0.1, max_depth=3, n_estimators=500 ................\n",
            "[CV] . learning_rate=0.1, max_depth=3, n_estimators=500, total=  27.5s\n",
            "[CV] learning_rate=0.1, max_depth=3, n_estimators=500 ................\n",
            "[CV] . learning_rate=0.1, max_depth=3, n_estimators=500, total=  28.0s\n",
            "[CV] learning_rate=0.1, max_depth=3, n_estimators=500 ................\n",
            "[CV] . learning_rate=0.1, max_depth=3, n_estimators=500, total=  27.3s\n",
            "[CV] learning_rate=0.1, max_depth=3, n_estimators=500 ................\n",
            "[CV] . learning_rate=0.1, max_depth=3, n_estimators=500, total=  27.8s\n",
            "[CV] learning_rate=0.1, max_depth=3, n_estimators=750 ................\n",
            "[CV] . learning_rate=0.1, max_depth=3, n_estimators=750, total=  41.1s\n",
            "[CV] learning_rate=0.1, max_depth=3, n_estimators=750 ................\n",
            "[CV] . learning_rate=0.1, max_depth=3, n_estimators=750, total=  40.2s\n",
            "[CV] learning_rate=0.1, max_depth=3, n_estimators=750 ................\n",
            "[CV] . learning_rate=0.1, max_depth=3, n_estimators=750, total=  40.4s\n",
            "[CV] learning_rate=0.1, max_depth=3, n_estimators=750 ................\n",
            "[CV] . learning_rate=0.1, max_depth=3, n_estimators=750, total=  40.6s\n",
            "[CV] learning_rate=0.1, max_depth=3, n_estimators=750 ................\n",
            "[CV] . learning_rate=0.1, max_depth=3, n_estimators=750, total=  40.6s\n",
            "[CV] learning_rate=0.1, max_depth=3, n_estimators=1000 ...............\n",
            "[CV]  learning_rate=0.1, max_depth=3, n_estimators=1000, total=  53.6s\n",
            "[CV] learning_rate=0.1, max_depth=3, n_estimators=1000 ...............\n",
            "[CV]  learning_rate=0.1, max_depth=3, n_estimators=1000, total=  53.4s\n",
            "[CV] learning_rate=0.1, max_depth=3, n_estimators=1000 ...............\n",
            "[CV]  learning_rate=0.1, max_depth=3, n_estimators=1000, total=  54.0s\n",
            "[CV] learning_rate=0.1, max_depth=3, n_estimators=1000 ...............\n",
            "[CV]  learning_rate=0.1, max_depth=3, n_estimators=1000, total=  53.4s\n",
            "[CV] learning_rate=0.1, max_depth=3, n_estimators=1000 ...............\n",
            "[CV]  learning_rate=0.1, max_depth=3, n_estimators=1000, total=  49.5s\n",
            "[CV] learning_rate=0.1, max_depth=5, n_estimators=500 ................\n",
            "[CV] . learning_rate=0.1, max_depth=5, n_estimators=500, total=  33.5s\n",
            "[CV] learning_rate=0.1, max_depth=5, n_estimators=500 ................\n",
            "[CV] . learning_rate=0.1, max_depth=5, n_estimators=500, total=  32.3s\n",
            "[CV] learning_rate=0.1, max_depth=5, n_estimators=500 ................\n",
            "[CV] . learning_rate=0.1, max_depth=5, n_estimators=500, total=  31.7s\n",
            "[CV] learning_rate=0.1, max_depth=5, n_estimators=500 ................\n",
            "[CV] . learning_rate=0.1, max_depth=5, n_estimators=500, total=  31.2s\n",
            "[CV] learning_rate=0.1, max_depth=5, n_estimators=500 ................\n",
            "[CV] . learning_rate=0.1, max_depth=5, n_estimators=500, total=  31.4s\n",
            "[CV] learning_rate=0.1, max_depth=5, n_estimators=750 ................\n",
            "[CV] . learning_rate=0.1, max_depth=5, n_estimators=750, total=  47.1s\n",
            "[CV] learning_rate=0.1, max_depth=5, n_estimators=750 ................\n",
            "[CV] . learning_rate=0.1, max_depth=5, n_estimators=750, total=  46.9s\n",
            "[CV] learning_rate=0.1, max_depth=5, n_estimators=750 ................\n",
            "[CV] . learning_rate=0.1, max_depth=5, n_estimators=750, total=  47.5s\n",
            "[CV] learning_rate=0.1, max_depth=5, n_estimators=750 ................\n",
            "[CV] . learning_rate=0.1, max_depth=5, n_estimators=750, total=  47.1s\n",
            "[CV] learning_rate=0.1, max_depth=5, n_estimators=750 ................\n",
            "[CV] . learning_rate=0.1, max_depth=5, n_estimators=750, total=  48.8s\n",
            "[CV] learning_rate=0.1, max_depth=5, n_estimators=1000 ...............\n",
            "[CV]  learning_rate=0.1, max_depth=5, n_estimators=1000, total= 1.0min\n",
            "[CV] learning_rate=0.1, max_depth=5, n_estimators=1000 ...............\n",
            "[CV]  learning_rate=0.1, max_depth=5, n_estimators=1000, total= 1.0min\n",
            "[CV] learning_rate=0.1, max_depth=5, n_estimators=1000 ...............\n",
            "[CV]  learning_rate=0.1, max_depth=5, n_estimators=1000, total= 1.1min\n",
            "[CV] learning_rate=0.1, max_depth=5, n_estimators=1000 ...............\n",
            "[CV]  learning_rate=0.1, max_depth=5, n_estimators=1000, total= 1.1min\n",
            "[CV] learning_rate=0.1, max_depth=5, n_estimators=1000 ...............\n",
            "[CV]  learning_rate=0.1, max_depth=5, n_estimators=1000, total= 1.1min\n",
            "[CV] learning_rate=0.1, max_depth=7, n_estimators=500 ................\n",
            "[CV] . learning_rate=0.1, max_depth=7, n_estimators=500, total=  31.5s\n",
            "[CV] learning_rate=0.1, max_depth=7, n_estimators=500 ................\n",
            "[CV] . learning_rate=0.1, max_depth=7, n_estimators=500, total=  33.5s\n",
            "[CV] learning_rate=0.1, max_depth=7, n_estimators=500 ................\n",
            "[CV] . learning_rate=0.1, max_depth=7, n_estimators=500, total=  31.3s\n",
            "[CV] learning_rate=0.1, max_depth=7, n_estimators=500 ................\n",
            "[CV] . learning_rate=0.1, max_depth=7, n_estimators=500, total=  34.2s\n",
            "[CV] learning_rate=0.1, max_depth=7, n_estimators=500 ................\n",
            "[CV] . learning_rate=0.1, max_depth=7, n_estimators=500, total=  36.1s\n",
            "[CV] learning_rate=0.1, max_depth=7, n_estimators=750 ................\n",
            "[CV] . learning_rate=0.1, max_depth=7, n_estimators=750, total=  46.9s\n",
            "[CV] learning_rate=0.1, max_depth=7, n_estimators=750 ................\n",
            "[CV] . learning_rate=0.1, max_depth=7, n_estimators=750, total=  47.7s\n",
            "[CV] learning_rate=0.1, max_depth=7, n_estimators=750 ................\n",
            "[CV] . learning_rate=0.1, max_depth=7, n_estimators=750, total=  49.4s\n",
            "[CV] learning_rate=0.1, max_depth=7, n_estimators=750 ................\n",
            "[CV] . learning_rate=0.1, max_depth=7, n_estimators=750, total=  49.3s\n",
            "[CV] learning_rate=0.1, max_depth=7, n_estimators=750 ................\n",
            "[CV] . learning_rate=0.1, max_depth=7, n_estimators=750, total=  49.2s\n",
            "[CV] learning_rate=0.1, max_depth=7, n_estimators=1000 ...............\n",
            "[CV]  learning_rate=0.1, max_depth=7, n_estimators=1000, total= 1.1min\n",
            "[CV] learning_rate=0.1, max_depth=7, n_estimators=1000 ...............\n",
            "[CV]  learning_rate=0.1, max_depth=7, n_estimators=1000, total= 1.1min\n",
            "[CV] learning_rate=0.1, max_depth=7, n_estimators=1000 ...............\n",
            "[CV]  learning_rate=0.1, max_depth=7, n_estimators=1000, total= 1.1min\n",
            "[CV] learning_rate=0.1, max_depth=7, n_estimators=1000 ...............\n",
            "[CV]  learning_rate=0.1, max_depth=7, n_estimators=1000, total= 1.0min\n",
            "[CV] learning_rate=0.1, max_depth=7, n_estimators=1000 ...............\n",
            "[CV]  learning_rate=0.1, max_depth=7, n_estimators=1000, total=  59.0s\n"
          ],
          "name": "stdout"
        },
        {
          "output_type": "stream",
          "text": [
            "[Parallel(n_jobs=1)]: Done 135 out of 135 | elapsed: 144.4min finished\n"
          ],
          "name": "stderr"
        },
        {
          "output_type": "execute_result",
          "data": {
            "text/plain": [
              "GridSearchCV(cv=None, error_score=nan,\n",
              "             estimator=LGBMRegressor(boosting_type='gbdt', class_weight=None,\n",
              "                                     colsample_bytree=1.0,\n",
              "                                     importance_type='split', learning_rate=0.1,\n",
              "                                     max_depth=-1, min_child_samples=20,\n",
              "                                     min_child_weight=0.001, min_split_gain=0.0,\n",
              "                                     n_estimators=100, n_jobs=39, num_leaves=31,\n",
              "                                     objective=None, random_state=1,\n",
              "                                     reg_alpha=0.0, reg_lambda=0.0, silent=True,\n",
              "                                     subsample=1.0, subsample_for_bin=200000,\n",
              "                                     subsample_freq=0),\n",
              "             iid='deprecated', n_jobs=None,\n",
              "             param_grid={'learning_rate': [0.001, 0.01, 0.1],\n",
              "                         'max_depth': [3, 5, 7],\n",
              "                         'n_estimators': [500, 750, 1000]},\n",
              "             pre_dispatch='2*n_jobs', refit=True, return_train_score=True,\n",
              "             scoring=None, verbose=2)"
            ]
          },
          "metadata": {
            "tags": []
          },
          "execution_count": 17
        }
      ]
    },
    {
      "cell_type": "code",
      "metadata": {
        "colab": {
          "base_uri": "https://localhost:8080/"
        },
        "id": "D6mwqWtlSDUk",
        "outputId": "5961065c-e021-416d-c8d2-028b3c503684"
      },
      "source": [
        "score = grid.score(X_train, y_train)\n",
        "print(\"Score entrenamiento: \",score)\n",
        "\n",
        "score = grid.score(X_test, y_test)\n",
        "print(\"Score prueba: \",score)\n",
        "\n",
        "y_pred = grid.predict(X_test)\n",
        "mse = np.mean((y_test - y_pred)**2)\n",
        "print(\"MSE :\", mse)\n",
        "\n",
        "rmse = np.sqrt(mse)\n",
        "print(\"RMSE :\", rmse)\n",
        "\n",
        "r2 = metrics.r2_score(y_test, y_pred)\n",
        "print(\"r2_score :\", r2)"
      ],
      "execution_count": 18,
      "outputs": [
        {
          "output_type": "stream",
          "text": [
            "Score entrenamiento:  0.8954485820575061\n",
            "Score prueba:  0.8934558041641824\n",
            "MSE : 11.378920170748994\n",
            "RMSE : 3.373265505522652\n",
            "r2_score : 0.8934558041641822\n"
          ],
          "name": "stdout"
        }
      ]
    }
  ]
}