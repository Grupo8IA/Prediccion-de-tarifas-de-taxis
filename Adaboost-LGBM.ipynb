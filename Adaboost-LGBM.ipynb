{
 "cells": [
  {
   "cell_type": "markdown",
   "metadata": {},
   "source": [
    "# Adaboost / Light Gradient Boosting Machine"
   ]
  },
  {
   "cell_type": "code",
   "execution_count": 3,
   "metadata": {
    "colab": {
     "base_uri": "https://localhost:8080/"
    },
    "id": "hhGH-rNMPn8g",
    "outputId": "87a9bd2d-48ab-45dc-8a1f-130190128fe0"
   },
   "outputs": [
    {
     "name": "stdout",
     "output_type": "stream",
     "text": [
      "Mounted at /content/drive/\n"
     ]
    }
   ],
   "source": [
    "from google.colab import drive\n",
    "drive.mount('/content/drive/')"
   ]
  },
  {
   "cell_type": "code",
   "execution_count": 4,
   "metadata": {
    "colab": {
     "base_uri": "https://localhost:8080/"
    },
    "id": "Bg6tY4noF7IC",
    "outputId": "d63e70af-1a34-459f-a2d9-048ad049eb7b"
   },
   "outputs": [
    {
     "name": "stdout",
     "output_type": "stream",
     "text": [
      "Mounted at /gdrive\n",
      "/gdrive/MyDrive/Data\n",
      "Alternativa_EDA.ipynb  data1.csv       segunda.csv  train.csv\n",
      "cuarta.csv             data_final.csv  tercera.csv\n"
     ]
    }
   ],
   "source": [
    "drive.mount('/gdrive')\n",
    "%cd /gdrive/MyDrive/Data/\n",
    "%ls"
   ]
  },
  {
   "cell_type": "code",
   "execution_count": 5,
   "metadata": {
    "id": "IJQfAQHyQpq3"
   },
   "outputs": [],
   "source": [
    "import pandas as pd\n",
    "import numpy as np"
   ]
  },
  {
   "cell_type": "markdown",
   "metadata": {
    "id": "Pd0WKJ4SvqLV"
   },
   "source": [
    "## Importacion de data y funciones"
   ]
  },
  {
   "cell_type": "code",
   "execution_count": 6,
   "metadata": {
    "colab": {
     "base_uri": "https://localhost:8080/"
    },
    "id": "X-KvtVSAe8rM",
    "outputId": "6ca51f2c-5ca8-41aa-9aa5-852e8f28c6ea"
   },
   "outputs": [
    {
     "name": "stdout",
     "output_type": "stream",
     "text": [
      "<class 'pandas.core.frame.DataFrame'>\n",
      "RangeIndex: 11773348 entries, 0 to 11773347\n",
      "Data columns (total 16 columns):\n",
      " #   Column             Dtype  \n",
      "---  ------             -----  \n",
      " 0   key                object \n",
      " 1   pickup_datetime    object \n",
      " 2   pickup_latitude    float64\n",
      " 3   pickup_longitude   float64\n",
      " 4   dropoff_latitude   float64\n",
      " 5   dropoff_longitude  float64\n",
      " 6   passenger_count    int64  \n",
      " 7   fare_amount        float64\n",
      " 8   day                int64  \n",
      " 9   hour               float64\n",
      " 10  week               int64  \n",
      " 11  trayecto_nocturno  int64  \n",
      " 12  hora_punta         int64  \n",
      " 13  year               int64  \n",
      " 14  aeropuerto         int64  \n",
      " 15  day_of_month       int64  \n",
      "dtypes: float64(6), int64(8), object(2)\n",
      "memory usage: 1.4+ GB\n"
     ]
    }
   ],
   "source": [
    "data = pd.read_csv('data1.csv')\n",
    "data.info()"
   ]
  },
  {
   "cell_type": "code",
   "execution_count": 30,
   "metadata": {
    "id": "F8ZKx1Y3MonF"
   },
   "outputs": [],
   "source": [
    "# ax = data.plot.scatter(x=\"pickup_latitude\", y=\"pickup_longitude\", color=\"DarkBlue\", label='pickup')\n",
    "# data.plot.scatter(x=\"dropoff_latitude\", y=\"dropoff_longitude\", color=\"DarkGreen\", label='dropoff', ax=ax)"
   ]
  },
  {
   "cell_type": "code",
   "execution_count": 23,
   "metadata": {
    "colab": {
     "base_uri": "https://localhost:8080/"
    },
    "id": "-6hOvSRlzOWq",
    "outputId": "610763b8-7eb1-4ebd-9092-119b304a6c87"
   },
   "outputs": [
    {
     "name": "stdout",
     "output_type": "stream",
     "text": [
      "(11773348, 7)\n",
      "(11773348,)\n"
     ]
    }
   ],
   "source": [
    "#features = ['pickup_latitude',\t'pickup_longitude',\t'dropoff_latitude',\t'dropoff_longitude']\n",
    "#features2 = ['pickup_latitude',\t'pickup_longitude',\t'dropoff_latitude',\t'dropoff_longitude', 'aeropuerto']\n",
    "features3 = ['pickup_latitude',\t'pickup_longitude',\t'dropoff_latitude',\t'dropoff_longitude', 'week', 'hour', 'day']\n",
    "\n",
    "X = data[features3]\n",
    "\n",
    "#X = data.drop(columns=['fare_amount','key',\t'pickup_datetime', 'hora_punta'])\n",
    "y = data['fare_amount']\n",
    "\n",
    "print(X.shape)\n",
    "print(y.shape)"
   ]
  },
  {
   "cell_type": "code",
   "execution_count": 24,
   "metadata": {
    "colab": {
     "base_uri": "https://localhost:8080/"
    },
    "id": "_x2JtXeWzByp",
    "outputId": "a06b8b84-0fae-4d38-8976-37b246fb21ed"
   },
   "outputs": [
    {
     "name": "stdout",
     "output_type": "stream",
     "text": [
      "(8241343, 7)\n",
      "(8241343,)\n",
      "(3532005, 7)\n",
      "(3532005,)\n"
     ]
    }
   ],
   "source": [
    "from sklearn.model_selection import train_test_split\n",
    "\n",
    "X_train, X_test, y_train, y_test = train_test_split(X, y, test_size = 0.3, random_state = 42)\n",
    "\n",
    "print(X_train.shape)\n",
    "print(y_train.shape)\n",
    "print(X_test.shape)\n",
    "print(y_test.shape)"
   ]
  },
  {
   "cell_type": "code",
   "execution_count": 27,
   "metadata": {
    "id": "qzXxG2V70MVv"
   },
   "outputs": [],
   "source": [
    "from sklearn.preprocessing import MinMaxScaler\n",
    "\n",
    "scaler = MinMaxScaler()\n",
    "\n",
    "X_train_s = scaler.fit_transform(X_train)\n",
    "X_test_s = scaler.transform(X_test)"
   ]
  },
  {
   "cell_type": "code",
   "execution_count": 21,
   "metadata": {
    "id": "GyH3jTCIWHv8"
   },
   "outputs": [],
   "source": [
    "import matplotlib.pyplot as plt\n",
    "\n",
    "def dibuja_caracteristicas_importantes(modelo):\n",
    "    n_caracteristica = X.shape[1]\n",
    "    plt.barh(range(n_caracteristica), modelo.feature_importances_, align='center')\n",
    "    plt.yticks(np.arange(n_caracteristica),list(X.columns))\n",
    "    plt.xlabel(\"Caracteristicas importantes\")\n",
    "    plt.ylabel(\"Caracteristica\")"
   ]
  },
  {
   "cell_type": "markdown",
   "metadata": {
    "id": "qoSv3SorwrY-"
   },
   "source": [
    "## Adaboost"
   ]
  },
  {
   "cell_type": "markdown",
   "metadata": {
    "id": "yn8Of1itXv0z"
   },
   "source": [
    "Se usaron las caracteristicas `pickup_latitude` , `pickup_longitude`, `dropoff_latitude`, `dropoff_longitude`, `aeropuerto`."
   ]
  },
  {
   "cell_type": "code",
   "execution_count": 12,
   "metadata": {
    "colab": {
     "base_uri": "https://localhost:8080/"
    },
    "id": "ykxwMb-tW66R",
    "outputId": "465f7661-fc7f-4994-cccf-12e0b3eaeb79"
   },
   "outputs": [
    {
     "name": "stdout",
     "output_type": "stream",
     "text": [
      "0.5352681920671574\n",
      "MSE : 50.57334906654093\n",
      "RMSE : 7.1114941514804695\n",
      "r2_score : 0.5352681920671574\n",
      "          y_test     y_pred\n",
      "10247211    16.5  14.057666\n",
      "11390553     4.5  14.057666\n",
      "4366652      8.0  14.057666\n",
      "7098284      5.0  14.057666\n",
      "1500070      9.0  14.057666\n",
      "...          ...        ...\n",
      "2297637     10.0  14.057666\n",
      "5652878      6.0  14.057666\n",
      "3724883      6.0  15.531998\n",
      "397052      12.0  14.057666\n",
      "10070607     4.5  14.057666\n",
      "\n",
      "[1126274 rows x 2 columns]\n"
     ]
    }
   ],
   "source": [
    "from sklearn.ensemble import AdaBoostRegressor\n",
    "from sklearn.metrics import r2_score\n",
    "from sklearn.tree import DecisionTreeRegressor\n",
    "\n",
    "abr = AdaBoostRegressor(n_estimators = 100 , learning_rate = 0.1)\n",
    "\n",
    "abr.fit(X_train, y_train) \n",
    "\n",
    "abr.fit(X_train, y_train)\n",
    "score = abr.score(X_test, y_test)\n",
    "print(score)\n",
    "\n",
    "y_pred = abr.predict(X_test)\n",
    "\n",
    "mse = np.mean((y_test - y_pred)**2)\n",
    "print(\"MSE :\", mse)\n",
    "\n",
    "rmse = np.sqrt(mse)\n",
    "print(\"RMSE :\", rmse)\n",
    "\n",
    "r2 = r2_score(y_test, y_pred)\n",
    "print(\"r2_score :\", r2)\n",
    "\n",
    "comp = pd.DataFrame({'y_test':y_test, 'y_pred':y_pred})\n",
    "print(comp)"
   ]
  },
  {
   "cell_type": "code",
   "execution_count": 13,
   "metadata": {
    "colab": {
     "base_uri": "https://localhost:8080/",
     "height": 279
    },
    "id": "G3W7AMTlErQP",
    "outputId": "4b129281-8f46-421f-a743-abfc63c3781a"
   },
   "outputs": [
    {
     "data": {
      "image/png": "[encoded data removed]",
      "text/plain": [
       "<Figure size 432x288 with 1 Axes>"
      ]
     },
     "metadata": {
      "needs_background": "light",
      "tags": []
     },
     "output_type": "display_data"
    }
   ],
   "source": [
    "dibuja_caracteristicas_importantes(abr)"
   ]
  },
  {
   "cell_type": "markdown",
   "metadata": {
    "id": "7wA9Rq8uXRrd"
   },
   "source": [
    "Se usaron todas las caracteristicas menos `fare_amount` , `pickup_datetime`, `key`."
   ]
  },
  {
   "cell_type": "code",
   "execution_count": null,
   "metadata": {
    "colab": {
     "base_uri": "https://localhost:8080/"
    },
    "id": "GrMTpqk6wwOe",
    "outputId": "629c7a66-b241-4690-f509-6311e34b3285"
   },
   "outputs": [
    {
     "name": "stdout",
     "output_type": "stream",
     "text": [
      "0.5181808506650829\n",
      "MSE : 52.43283891982912\n",
      "RMSE : 7.241052335111874\n",
      "r2_score : 0.5181808506650829\n",
      "          y_test     y_pred\n",
      "10247211    16.5  14.352223\n",
      "11390553     4.5  14.352223\n",
      "4366652      8.0  14.352223\n",
      "7098284      5.0  14.352223\n",
      "1500070      9.0  14.352223\n",
      "...          ...        ...\n",
      "2297637     10.0  14.352223\n",
      "5652878      6.0  14.352223\n",
      "3724883      6.0  15.749820\n",
      "397052      12.0  14.352223\n",
      "10070607     4.5  14.352223\n",
      "\n",
      "[1126274 rows x 2 columns]\n"
     ]
    }
   ],
   "source": [
    "from sklearn.ensemble import AdaBoostRegressor\n",
    "from sklearn.metrics import r2_score\n",
    "from sklearn.tree import DecisionTreeRegressor\n",
    "\n",
    "abr = AdaBoostRegressor(n_estimators = 100 , learning_rate = 0.1)\n",
    "\n",
    "abr.fit(X_train, y_train) \n",
    "\n",
    "abr.fit(X_train, y_train)\n",
    "score = abr.score(X_test, y_test)\n",
    "print(score)\n",
    "\n",
    "y_pred = abr.predict(X_test)\n",
    "\n",
    "mse = np.mean((y_test - y_pred)**2)\n",
    "print(\"MSE :\", mse)\n",
    "\n",
    "rmse = np.sqrt(mse)\n",
    "print(\"RMSE :\", rmse)\n",
    "\n",
    "r2 = r2_score(y_test, y_pred)\n",
    "print(\"r2_score :\", r2)\n",
    "\n",
    "comp = pd.DataFrame({'y_test':y_test, 'y_pred':y_pred})\n",
    "print(comp)"
   ]
  },
  {
   "cell_type": "code",
   "execution_count": null,
   "metadata": {
    "colab": {
     "base_uri": "https://localhost:8080/",
     "height": 279
    },
    "id": "HbLtOTA4HNqe",
    "outputId": "972482de-c287-42fe-98e2-f94e9b6efff0"
   },
   "outputs": [
    {
     "data": {
      "image/png": "[encoded data removed]",
      "text/plain": [
       "<Figure size 432x288 with 1 Axes>"
      ]
     },
     "metadata": {
      "needs_background": "light",
      "tags": []
     },
     "output_type": "display_data"
    }
   ],
   "source": [
    "dibuja_caracteristicas_importantes(abr)"
   ]
  },
  {
   "cell_type": "markdown",
   "metadata": {
    "id": "b7N0p6Wciiya"
   },
   "source": [
    "#### GridSearchCV"
   ]
  },
  {
   "cell_type": "code",
   "execution_count": null,
   "metadata": {
    "id": "WyGOBbiNMWDR"
   },
   "outputs": [],
   "source": [
    "from sklearn.model_selection import GridSearchCV\n",
    "\n",
    "param_grid={\n",
    "            'n_estimators' :[50, 100, 250, 500, 750, 1000],\n",
    "            'learning_rate' :[0.0001, 0.001, 0.01, 0.1, 1],\n",
    "            'loss' : ['linear', 'square', 'exponential']\n",
    "            }\n",
    "\n",
    "base_grid = GridSearchCV(estimator=AdaBoostRegressor(DecisionTreeRegressor(max_depth=4)),\n",
    "                        param_grid=param_grid, n_jobs=40, return_train_score=True)\n",
    "\n",
    "base_grid.fit(X_train, y_train) \n",
    "base_best_mod = base_grid.best_estimator_\n",
    "\n",
    "base_best_mod.fit(X_train, y_train)\n",
    "score = base_best_mod.score(X_test, y_test)\n",
    "print(score)"
   ]
  },
  {
   "cell_type": "code",
   "execution_count": null,
   "metadata": {
    "colab": {
     "base_uri": "https://localhost:8080/"
    },
    "id": "V0zjILxPC87I",
    "outputId": "85ba954d-ee99-4620-f035-2a3040507f95"
   },
   "outputs": [
    {
     "name": "stdout",
     "output_type": "stream",
     "text": [
      "MSE : 13.40507256998187\n",
      "RMSE : 3.661293838246511\n",
      "r2_score : 0.3112557151514119\n"
     ]
    }
   ],
   "source": [
    "from sklearn.metrics import r2_score\n",
    "\n",
    "y_pred = base_best_mod.predict(X_test)\n",
    "\n",
    "mse = np.mean((y_test - y_pred)**2)\n",
    "print(\"MSE :\", mse)\n",
    "\n",
    "rmse = np.sqrt(mse)\n",
    "print(\"RMSE :\", rmse)\n",
    "\n",
    "r2 = r2_score(y_test, y_pred)\n",
    "print(\"r2_score :\", r2)"
   ]
  },
  {
   "cell_type": "code",
   "execution_count": null,
   "metadata": {
    "id": "dGPyBpOOH_p8"
   },
   "outputs": [],
   "source": [
    "comp = pd.DataFrame({'y_test':y_test, 'y_pred':y_pred})"
   ]
  },
  {
   "cell_type": "code",
   "execution_count": null,
   "metadata": {
    "id": "6dgmZ6NVxbGt"
   },
   "outputs": [],
   "source": [
    "dibuja_caracteristicas_importantes(base_best_mod)"
   ]
  },
  {
   "cell_type": "markdown",
   "metadata": {
    "id": "ilhEkevhYQil"
   },
   "source": [
    "#### Extra"
   ]
  },
  {
   "cell_type": "code",
   "execution_count": 17,
   "metadata": {
    "colab": {
     "base_uri": "https://localhost:8080/"
    },
    "id": "pEYBtRH1YTWC",
    "outputId": "e2c78476-0f04-405c-ce04-32c0ee007db9"
   },
   "outputs": [
    {
     "name": "stdout",
     "output_type": "stream",
     "text": [
      "2 -48.73440691593187\n",
      "3 -40.04156454627229\n",
      "4 -35.42226891226465\n",
      "5 -31.567669203553532\n",
      "6 -29.21120159128974\n"
     ]
    }
   ],
   "source": [
    "from sklearn.model_selection import cross_val_score\n",
    "\n",
    "for depth in range (2,7):\n",
    "     tree_regressor=DecisionTreeRegressor(max_depth=depth,random_state=1)\n",
    "     if tree_regressor.fit(X_train,y_train).tree_.max_depth<depth:\n",
    "         break\n",
    "     score=np.mean(cross_val_score(tree_regressor,X,y,scoring='neg_mean_squared_error', n_jobs=1))\n",
    "     print(depth, score)"
   ]
  },
  {
   "cell_type": "code",
   "execution_count": null,
   "metadata": {
    "id": "_0tknU3PY08M"
   },
   "outputs": [],
   "source": [
    "from sklearn.model_selection import GridSearchCV\n",
    "from sklearn.ensemble import AdaBoostRegressor\n",
    "from sklearn.metrics import r2_score\n",
    "from sklearn.tree import DecisionTreeRegressor\n",
    "\n",
    "param_grid={\n",
    "            'n_estimators' :[100, 250, 500, 750],\n",
    "            'learning_rate' :[0.001, 0.01, 0.1, 1],\n",
    "            'random_state':[1]\n",
    "            }\n",
    "\n",
    "base_grid = GridSearchCV(estimator=AdaBoostRegressor(DecisionTreeRegressor(max_depth=6)),\n",
    "                        param_grid=param_grid, n_jobs=40, return_train_score=True)\n",
    "\n",
    "base_grid.fit(X_train, y_train) \n",
    "base_best_mod = base_grid.best_estimator_\n",
    "\n",
    "base_best_mod.fit(X_train, y_train)\n",
    "score = base_best_mod.score(X_test, y_test)\n",
    "print(score)\n",
    "print(base_best_mod.best_params_)"
   ]
  },
  {
   "cell_type": "markdown",
   "metadata": {
    "id": "5PBmHWjGtGcy"
   },
   "source": [
    "## LightLGBM"
   ]
  },
  {
   "cell_type": "markdown",
   "metadata": {
    "id": "TN7-N_w3aGmA"
   },
   "source": [
    "### Modelo"
   ]
  },
  {
   "cell_type": "markdown",
   "metadata": {},
   "source": [
    "Se usaron todas las caracteristicas menos `fare_amount` , `pickup_datetime`, `key`."
   ]
  },
  {
   "cell_type": "code",
   "execution_count": 12,
   "metadata": {
    "colab": {
     "base_uri": "https://localhost:8080/"
    },
    "id": "S1D4s1jVi3R5",
    "outputId": "ae6a5c22-e487-43c5-9a57-e233658d3352"
   },
   "outputs": [
    {
     "name": "stdout",
     "output_type": "stream",
     "text": [
      "Requirement already satisfied: lightgbm in /usr/local/lib/python3.7/dist-packages (2.2.3)\n",
      "Requirement already satisfied: scipy in /usr/local/lib/python3.7/dist-packages (from lightgbm) (1.4.1)\n",
      "Requirement already satisfied: numpy in /usr/local/lib/python3.7/dist-packages (from lightgbm) (1.19.5)\n",
      "Requirement already satisfied: scikit-learn in /usr/local/lib/python3.7/dist-packages (from lightgbm) (0.22.2.post1)\n",
      "Requirement already satisfied: joblib>=0.11 in /usr/local/lib/python3.7/dist-packages (from scikit-learn->lightgbm) (1.0.1)\n"
     ]
    }
   ],
   "source": [
    "!pip install lightgbm"
   ]
  },
  {
   "cell_type": "code",
   "execution_count": 35,
   "metadata": {
    "colab": {
     "base_uri": "https://localhost:8080/"
    },
    "id": "5KLrtZ8m8Ni7",
    "outputId": "77cc2d3f-cbf8-4b35-8d18-8ef38c792b8a"
   },
   "outputs": [
    {
     "name": "stdout",
     "output_type": "stream",
     "text": [
      "score : 0.8949194298720402\n",
      "MSE : 11.22260494438688\n",
      "RMSE : 3.3500156633047076\n",
      "r2_score : 0.8949194298720402\n",
      "          y_test     y_pred\n",
      "1502511     12.5   8.649559\n",
      "6901076      7.0   5.847338\n",
      "7456943      5.0   6.412338\n",
      "615626       8.5  10.972866\n",
      "6237331      8.5   8.684867\n",
      "...          ...        ...\n",
      "5931877     10.0  10.178315\n",
      "10863386    12.0  13.588461\n",
      "1166350     11.5  13.291130\n",
      "10613313    12.0  11.698065\n",
      "3511799      5.0   6.149433\n",
      "\n",
      "[3532005 rows x 2 columns]\n"
     ]
    }
   ],
   "source": [
    "lgbm = LGBMRegressor(boosting_type='gbdt',  max_depth= 5, learning_rate=0.1, n_estimators=1000, subsample=0.5,random_state=1, n_jobs=multiprocessing.cpu_count() - 1)\n",
    "lgbm.fit(X_train, y_train)\n",
    "\n",
    "score = lgbm.score(X_test, y_test)\n",
    "print(\"score :\",score)\n",
    "\n",
    "y_pred = lgbm.predict(X_test)\n",
    "\n",
    "mse = np.mean((y_test - y_pred)**2)\n",
    "print(\"MSE :\", mse)\n",
    "\n",
    "rmse = np.sqrt(mse)\n",
    "print(\"RMSE :\", rmse)\n",
    "\n",
    "r2 = r2_score(y_test, y_pred)\n",
    "print(\"r2_score :\", r2)\n",
    "\n",
    "comp = pd.DataFrame({'y_test':y_test, 'y_pred':y_pred})\n",
    "print(comp)"
   ]
  },
  {
   "cell_type": "code",
   "execution_count": 37,
   "metadata": {
    "colab": {
     "base_uri": "https://localhost:8080/",
     "height": 279
    },
    "id": "i7hcMrZLAqgO",
    "outputId": "9511ae5f-18ee-4e2c-c652-f280b6caf526"
   },
   "outputs": [
    {
     "data": {
      "image/png": "[encoded data removed]",
      "text/plain": [
       "<Figure size 432x288 with 1 Axes>"
      ]
     },
     "metadata": {
      "needs_background": "light",
      "tags": []
     },
     "output_type": "display_data"
    }
   ],
   "source": [
    "dibuja_caracteristicas_importantes(lgbm)"
   ]
  },
  {
   "cell_type": "markdown",
   "metadata": {},
   "source": [
    "Probamos el mejor modelo de la busqueda con la data escalada."
   ]
  },
  {
   "cell_type": "code",
   "execution_count": 31,
   "metadata": {
    "colab": {
     "base_uri": "https://localhost:8080/"
    },
    "id": "Wg1Y9yZJugHI",
    "outputId": "3ddb83aa-0d97-4132-f32e-9e86cca313a6"
   },
   "outputs": [
    {
     "name": "stdout",
     "output_type": "stream",
     "text": [
      "0.8952964259259125\n"
     ]
    }
   ],
   "source": [
    "model = LGBMRegressor(boosting_type=['gbdt'], learning_rate=0.1, max_depth=7,\n",
    "              n_estimators=750, n_jobs=39, random_state=1, subsample=1)\n",
    "\n",
    "model.fit(X_train_s, y_train)\n",
    "score = model.score(X_test_s, y_test)\n",
    "print(score)"
   ]
  },
  {
   "cell_type": "markdown",
   "metadata": {
    "id": "bs8WpDJkJKOt"
   },
   "source": [
    "### Busqueda aleatoria"
   ]
  },
  {
   "cell_type": "code",
   "execution_count": 25,
   "metadata": {
    "colab": {
     "base_uri": "https://localhost:8080/"
    },
    "id": "GlO3_R8CJJ43",
    "outputId": "e698adbb-89ad-4890-c15e-368eb44afb22"
   },
   "outputs": [
    {
     "name": "stdout",
     "output_type": "stream",
     "text": [
      "Mejor score: 0.4427381171297586 \n",
      "Modelo: LGBMRegressor(boosting_type=['gbdt'], class_weight=None, colsample_bytree=1.0,\n",
      "              importance_type='split', learning_rate=0.001, max_depth=5,\n",
      "              min_child_samples=20, min_child_weight=0.001, min_split_gain=0.0,\n",
      "              n_estimators=500, n_jobs=39, num_leaves=31, objective=None,\n",
      "              random_state=1, reg_alpha=0.0, reg_lambda=0.0, silent=True,\n",
      "              subsample=1, subsample_for_bin=200000, subsample_freq=0)\n",
      "Mejor score: 0.5523094472084886 \n",
      "Modelo: LGBMRegressor(boosting_type=['gbdt'], class_weight=None, colsample_bytree=1.0,\n",
      "              importance_type='split', learning_rate=0.1, max_depth=1,\n",
      "              min_child_samples=20, min_child_weight=0.001, min_split_gain=0.0,\n",
      "              n_estimators=1000, n_jobs=39, num_leaves=31, objective=None,\n",
      "              random_state=1, reg_alpha=0.0, reg_lambda=0.0, silent=True,\n",
      "              subsample=1, subsample_for_bin=200000, subsample_freq=0)\n",
      "Mejor score: 0.7863240771385163 \n",
      "Modelo: LGBMRegressor(boosting_type=['gbdt'], class_weight=None, colsample_bytree=1.0,\n",
      "              importance_type='split', learning_rate=0.01, max_depth=3,\n",
      "              min_child_samples=20, min_child_weight=0.001, min_split_gain=0.0,\n",
      "              n_estimators=750, n_jobs=39, num_leaves=31, objective=None,\n",
      "              random_state=1, reg_alpha=0.0, reg_lambda=0.0, silent=True,\n",
      "              subsample=1, subsample_for_bin=200000, subsample_freq=0)\n",
      "Mejor score: 0.8925751956212832 \n",
      "Modelo: LGBMRegressor(boosting_type=['gbdt'], class_weight=None, colsample_bytree=1.0,\n",
      "              importance_type='split', learning_rate=0.1, max_depth=7,\n",
      "              min_child_samples=20, min_child_weight=0.001, min_split_gain=0.0,\n",
      "              n_estimators=500, n_jobs=39, num_leaves=31, objective=None,\n",
      "              random_state=1, reg_alpha=0.0, reg_lambda=0.0, silent=True,\n",
      "              subsample=1, subsample_for_bin=200000, subsample_freq=0)\n",
      "Mejor score: 0.8954758879492274 \n",
      "Modelo: LGBMRegressor(boosting_type=['gbdt'], class_weight=None, colsample_bytree=1.0,\n",
      "              importance_type='split', learning_rate=0.1, max_depth=7,\n",
      "              min_child_samples=20, min_child_weight=0.001, min_split_gain=0.0,\n",
      "              n_estimators=750, n_jobs=39, num_leaves=31, objective=None,\n",
      "              random_state=1, reg_alpha=0.0, reg_lambda=0.0, silent=True,\n",
      "              subsample=1, subsample_for_bin=200000, subsample_freq=0)\n",
      "    fit_time  score_time  test_score\n",
      "0  59.475626    3.291768    0.895962\n",
      "1  59.600059    3.142591    0.895947\n",
      "2  59.739113    3.324970    0.893752\n",
      "3  58.869738    3.213308    0.895336\n",
      "4  59.670212    3.257461    0.896418\n",
      "MSE : 14.195437540362125\n",
      "RMSE : 3.76768331211132\n",
      "r2_score : 0.8670839188095065\n",
      "          y_test     y_pred\n",
      "1502511     12.5   9.421791\n",
      "6901076      7.0   6.703145\n",
      "7456943      5.0   8.332988\n",
      "615626       8.5  10.820171\n",
      "6237331      8.5   8.572024\n",
      "...          ...        ...\n",
      "5931877     10.0   9.480911\n",
      "10863386    12.0  13.283646\n",
      "1166350     11.5  12.985991\n",
      "10613313    12.0  14.410565\n",
      "3511799      5.0   7.535361\n",
      "\n",
      "[3532005 rows x 2 columns]\n"
     ]
    }
   ],
   "source": [
    "from lightgbm.sklearn import LGBMRegressor\n",
    "import multiprocessing\n",
    "import random\n",
    "from sklearn import metrics\n",
    "from sklearn.model_selection import cross_validate\n",
    "\n",
    "boosting_type = ['gbdt']\n",
    "best_score = -1\n",
    "best_model = LGBMRegressor()\n",
    "\n",
    "for i in range(12):\n",
    "    n_estimators= random.choice([100, 500, 750 ,1000])\n",
    "    max_depth = random.choice([3, 5, 7])\n",
    "    subsample = random.choice([0.5, 1])\n",
    "    learning_rate = random.choice([0.001, 0.01, 0.1])\n",
    "\n",
    "    model = LGBMRegressor(boosting_type=boosting_type,  max_depth= max_depth, learning_rate=learning_rate, n_estimators=n_estimators, subsample=subsample,random_state=1, n_jobs=multiprocessing.cpu_count() - 1)\n",
    "    model.fit(X_train, y_train)\n",
    "    score = model.score(X_test, y_test)\n",
    "    if score > best_score:\n",
    "        best_score = score \n",
    "        best_model = model\n",
    "        print(\"Mejor score: {} \\nModelo: {}\".format(score, model))\n",
    "\n",
    "res = cross_validate(best_model, X_train, y_train)\n",
    "print(pd.DataFrame(res))\n",
    "\n",
    "y_pred = model.predict(X_test)\n",
    "mse = np.mean((y_test - y_pred)**2)\n",
    "print(\"MSE :\", mse)\n",
    "\n",
    "rmse = np.sqrt(mse)\n",
    "print(\"RMSE :\", rmse)\n",
    "\n",
    "r2 = metrics.r2_score(y_test, y_pred)\n",
    "print(\"r2_score :\", r2)\n",
    "\n",
    "comp = pd.DataFrame({'y_test':y_test, 'y_pred':y_pred})\n",
    "print(comp)\n"
   ]
  },
  {
   "cell_type": "code",
   "execution_count": 26,
   "metadata": {
    "colab": {
     "base_uri": "https://localhost:8080/",
     "height": 279
    },
    "id": "wdVcPeA2WyMh",
    "outputId": "b9b93d12-1f5f-4b80-a8c8-d3879ac6a6f9"
   },
   "outputs": [
    {
     "data": {
      "image/png": "[encoded data removed]",
      "text/plain": [
       "<Figure size 432x288 with 1 Axes>"
      ]
     },
     "metadata": {
      "needs_background": "light",
      "tags": []
     },
     "output_type": "display_data"
    }
   ],
   "source": [
    "dibuja_caracteristicas_importantes(best_model)"
   ]
  },
  {
   "cell_type": "markdown",
   "metadata": {
    "id": "n5KSvbAmAk0k"
   },
   "source": [
    "### GridSearchCV"
   ]
  },
  {
   "cell_type": "code",
   "execution_count": null,
   "metadata": {
    "id": "jJ3BZVlVtO1D"
   },
   "outputs": [],
   "source": [
    "from lightgbm.sklearn import LGBMRegressor\n",
    "import multiprocessing\n",
    "from sklearn.model_selection import RepeatedKFold\n",
    "\n",
    "param_grid = {'n_estimators'     : [100, 500, 1000],\n",
    "              'max_depth'        : [1, 3, 5, 7],\n",
    "              'subsample'        : [0.5, 1],\n",
    "              'learning_rate'    : [0.001, 0.01, 0.1],\n",
    "              'boosting_type'    : ['gbdt']\n",
    "             }\n",
    "\n",
    "# Búsqueda por grid search con validación cruzada\n",
    "# ==============================================================================\n",
    "# grid = GridSearchCV(\n",
    "#         estimator  = LGBMRegressor(random_state=123),\n",
    "#         param_grid = param_grid,\n",
    "#         scoring    = 'neg_root_mean_squared_error',\n",
    "#         n_jobs     = multiprocessing.cpu_count() - 1,\n",
    "#         cv         = RepeatedKFold(n_splits=3, n_repeats=1, random_state=123), \n",
    "#         refit      = True,\n",
    "#         verbose    = 0,\n",
    "#         return_train_score = True\n",
    "#        )\n",
    "\n",
    "grid = GridSearchCV(\n",
    "        estimator  = LGBMRegressor(random_state=1),\n",
    "        param_grid = param_grid,\n",
    "        n_jobs     = multiprocessing.cpu_count() - 1,\n",
    "        cv         = RepeatedKFold(n_splits=3, n_repeats=1, random_state=1), \n",
    "        return_train_score = True\n",
    "       )\n",
    "\n",
    "grid.fit(X_train, y_train)\n",
    "\n",
    "# Resultados\n",
    "# ==============================================================================\n",
    "resultados = pd.DataFrame(grid.cv_results_)\n",
    "resultados.filter(regex = '(param.*|mean_t|std_t)') \\\n",
    "    .drop(columns = 'params') \\\n",
    "    .sort_values('mean_test_score', ascending = False) \\\n",
    "    .head(4)"
   ]
  }
 ],
 "metadata": {
  "accelerator": "TPU",
  "colab": {
   "collapsed_sections": [
    "m13y9h8hRgU-"
   ],
   "machine_shape": "hm",
   "name": "tercera.ipynb",
   "provenance": []
  },
  "kernelspec": {
   "display_name": "Python 3",
   "language": "python",
   "name": "python3"
  },
  "language_info": {
   "codemirror_mode": {
    "name": "ipython",
    "version": 3
   },
   "file_extension": ".py",
   "mimetype": "text/x-python",
   "name": "python",
   "nbconvert_exporter": "python",
   "pygments_lexer": "ipython3",
   "version": "3.8.8"
  }
 },
 "nbformat": 4,
 "nbformat_minor": 1
}
