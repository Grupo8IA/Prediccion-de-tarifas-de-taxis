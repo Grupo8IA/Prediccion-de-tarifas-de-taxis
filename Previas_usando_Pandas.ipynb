{
  "nbformat": 4,
  "nbformat_minor": 0,
  "metadata": {
    "accelerator": "TPU",
    "colab": {
      "name": "PC2.ipynb",
      "provenance": [],
      "collapsed_sections": [
        "qs04f5FnTvqO"
      ],
      "machine_shape": "hm"
    },
    "kernelspec": {
      "display_name": "Python 3",
      "language": "python",
      "name": "python3"
    },
    "language_info": {
      "codemirror_mode": {
        "name": "ipython",
        "version": 3
      },
      "file_extension": ".py",
      "mimetype": "text/x-python",
      "name": "python",
      "nbconvert_exporter": "python",
      "pygments_lexer": "ipython3",
      "version": "3.8.5"
    }
  },
  "cells": [
    {
      "cell_type": "markdown",
      "metadata": {
        "id": "9ggjf76Ucj5l"
      },
      "source": [
        "# Práctica Calificada 02\n",
        "## Predicción de tarifas de taxis"
      ]
    },
    {
      "cell_type": "markdown",
      "metadata": {
        "id": "626euqflcj5p"
      },
      "source": [
        "<span style=\"color:red\">\n",
        "Abrir el cuaderno en Google Colab y ejecutar las celdas nuevamente.\n",
        "</span>."
      ]
    },
    {
      "cell_type": "code",
      "metadata": {
        "id": "hhGH-rNMPn8g"
      },
      "source": [
        "from google.colab import drive\n",
        "#drive.mount('/content/drive/')"
      ],
      "execution_count": 1,
      "outputs": []
    },
    {
      "cell_type": "code",
      "metadata": {
        "colab": {
          "base_uri": "https://localhost:8080/"
        },
        "id": "Bg6tY4noF7IC",
        "outputId": "344c25d0-bb71-412e-d6b0-9396bf995a86"
      },
      "source": [
        "drive.mount('/gdrive')\n",
        "%cd /gdrive/MyDrive/\n",
        "#%cd /gdrive/MyDrive/Data/PracticaCalificada2-CC421/\n",
        "#%ls"
      ],
      "execution_count": 2,
      "outputs": [
        {
          "output_type": "stream",
          "text": [
            "Drive already mounted at /gdrive; to attempt to forcibly remount, call drive.mount(\"/gdrive\", force_remount=True).\n",
            "/gdrive/.shortcut-targets-by-id/1qadxIJNju7teh1dDYzszHDJhP_ligzqQ/Data/PracticaCalificada2-CC421\n"
          ],
          "name": "stdout"
        }
      ]
    },
    {
      "cell_type": "code",
      "metadata": {
        "id": "IJQfAQHyQpq3"
      },
      "source": [
        "import pandas as pd\n",
        "import numpy as np"
      ],
      "execution_count": 3,
      "outputs": []
    },
    {
      "cell_type": "code",
      "metadata": {
        "id": "OYFB6QLjEGrN"
      },
      "source": [
        "#np.set_printoptions(formatter={'float_kind':'{:f}'.format})"
      ],
      "execution_count": 4,
      "outputs": []
    },
    {
      "cell_type": "markdown",
      "metadata": {
        "id": "m13y9h8hRgU-"
      },
      "source": [
        "#### Importar data total"
      ]
    },
    {
      "cell_type": "code",
      "metadata": {
        "id": "J-1GOuqkF_fu",
        "colab": {
          "base_uri": "https://localhost:8080/",
          "height": 289
        },
        "outputId": "adb629d8-3917-4258-e13d-3459e20c0ab3"
      },
      "source": [
        "dtypes = {\n",
        "      'key': 'object',\n",
        "      'fare_amount': 'float64',\n",
        "      'pickup_datetime': 'object',\n",
        "      'pickup_longitude': 'float64', \n",
        "      'pickup_latitude': 'float64',\n",
        "      'dropoff_longitude': 'float64',\n",
        "      'dropoff_latitude': 'float64',\n",
        "      'passenger_count': 'int64',\n",
        "      \n",
        "    \n",
        "}\n",
        "df = pd.read_csv(\"train.csv\", dtype=dtypes, nrows=10000000)\n",
        "df = df[['key', 'pickup_datetime', 'pickup_latitude', 'pickup_longitude', 'dropoff_latitude', 'dropoff_longitude', 'passenger_count', 'fare_amount']]\n",
        "df.head()"
      ],
      "execution_count": 5,
      "outputs": [
        {
          "output_type": "execute_result",
          "data": {
            "text/html": [
              "<div>\n",
              "<style scoped>\n",
              "    .dataframe tbody tr th:only-of-type {\n",
              "        vertical-align: middle;\n",
              "    }\n",
              "\n",
              "    .dataframe tbody tr th {\n",
              "        vertical-align: top;\n",
              "    }\n",
              "\n",
              "    .dataframe thead th {\n",
              "        text-align: right;\n",
              "    }\n",
              "</style>\n",
              "<table border=\"1\" class=\"dataframe\">\n",
              "  <thead>\n",
              "    <tr style=\"text-align: right;\">\n",
              "      <th></th>\n",
              "      <th>key</th>\n",
              "      <th>pickup_datetime</th>\n",
              "      <th>pickup_latitude</th>\n",
              "      <th>pickup_longitude</th>\n",
              "      <th>dropoff_latitude</th>\n",
              "      <th>dropoff_longitude</th>\n",
              "      <th>passenger_count</th>\n",
              "      <th>fare_amount</th>\n",
              "    </tr>\n",
              "  </thead>\n",
              "  <tbody>\n",
              "    <tr>\n",
              "      <th>0</th>\n",
              "      <td>2009-06-15 17:26:21.0000001</td>\n",
              "      <td>2009-06-15 17:26:21 UTC</td>\n",
              "      <td>40.721319</td>\n",
              "      <td>-73.844311</td>\n",
              "      <td>40.712278</td>\n",
              "      <td>-73.841610</td>\n",
              "      <td>1</td>\n",
              "      <td>4.5</td>\n",
              "    </tr>\n",
              "    <tr>\n",
              "      <th>1</th>\n",
              "      <td>2010-01-05 16:52:16.0000002</td>\n",
              "      <td>2010-01-05 16:52:16 UTC</td>\n",
              "      <td>40.711303</td>\n",
              "      <td>-74.016048</td>\n",
              "      <td>40.782004</td>\n",
              "      <td>-73.979268</td>\n",
              "      <td>1</td>\n",
              "      <td>16.9</td>\n",
              "    </tr>\n",
              "    <tr>\n",
              "      <th>2</th>\n",
              "      <td>2011-08-18 00:35:00.00000049</td>\n",
              "      <td>2011-08-18 00:35:00 UTC</td>\n",
              "      <td>40.761270</td>\n",
              "      <td>-73.982738</td>\n",
              "      <td>40.750562</td>\n",
              "      <td>-73.991242</td>\n",
              "      <td>2</td>\n",
              "      <td>5.7</td>\n",
              "    </tr>\n",
              "    <tr>\n",
              "      <th>3</th>\n",
              "      <td>2012-04-21 04:30:42.0000001</td>\n",
              "      <td>2012-04-21 04:30:42 UTC</td>\n",
              "      <td>40.733143</td>\n",
              "      <td>-73.987130</td>\n",
              "      <td>40.758092</td>\n",
              "      <td>-73.991567</td>\n",
              "      <td>1</td>\n",
              "      <td>7.7</td>\n",
              "    </tr>\n",
              "    <tr>\n",
              "      <th>4</th>\n",
              "      <td>2010-03-09 07:51:00.000000135</td>\n",
              "      <td>2010-03-09 07:51:00 UTC</td>\n",
              "      <td>40.768008</td>\n",
              "      <td>-73.968095</td>\n",
              "      <td>40.783762</td>\n",
              "      <td>-73.956655</td>\n",
              "      <td>1</td>\n",
              "      <td>5.3</td>\n",
              "    </tr>\n",
              "  </tbody>\n",
              "</table>\n",
              "</div>"
            ],
            "text/plain": [
              "                             key  ... fare_amount\n",
              "0    2009-06-15 17:26:21.0000001  ...         4.5\n",
              "1    2010-01-05 16:52:16.0000002  ...        16.9\n",
              "2   2011-08-18 00:35:00.00000049  ...         5.7\n",
              "3    2012-04-21 04:30:42.0000001  ...         7.7\n",
              "4  2010-03-09 07:51:00.000000135  ...         5.3\n",
              "\n",
              "[5 rows x 8 columns]"
            ]
          },
          "metadata": {
            "tags": []
          },
          "execution_count": 5
        }
      ]
    },
    {
      "cell_type": "code",
      "metadata": {
        "id": "h5Tt-_lfcj5u",
        "colab": {
          "base_uri": "https://localhost:8080/"
        },
        "outputId": "86664d1f-fdab-4718-f6e0-3a58a092cab1"
      },
      "source": [
        "df.info()"
      ],
      "execution_count": 6,
      "outputs": [
        {
          "output_type": "stream",
          "text": [
            "<class 'pandas.core.frame.DataFrame'>\n",
            "RangeIndex: 10000000 entries, 0 to 9999999\n",
            "Data columns (total 8 columns):\n",
            " #   Column             Dtype  \n",
            "---  ------             -----  \n",
            " 0   key                object \n",
            " 1   pickup_datetime    object \n",
            " 2   pickup_latitude    float64\n",
            " 3   pickup_longitude   float64\n",
            " 4   dropoff_latitude   float64\n",
            " 5   dropoff_longitude  float64\n",
            " 6   passenger_count    int64  \n",
            " 7   fare_amount        float64\n",
            "dtypes: float64(5), int64(1), object(2)\n",
            "memory usage: 610.4+ MB\n"
          ],
          "name": "stdout"
        }
      ]
    },
    {
      "cell_type": "markdown",
      "metadata": {
        "id": "GYEk5IMwTz4z"
      },
      "source": [
        "### Primera revisión de la data completa"
      ]
    },
    {
      "cell_type": "markdown",
      "metadata": {
        "id": "vj4jep39qtw5"
      },
      "source": [
        "#### Valores duplicados"
      ]
    },
    {
      "cell_type": "code",
      "metadata": {
        "id": "evoC50cPhCIc",
        "colab": {
          "base_uri": "https://localhost:8080/",
          "height": 85
        },
        "outputId": "8cee4925-913e-4347-c010-7a5b257c767d"
      },
      "source": [
        "%time\n",
        "duplicateRowsDF = df.loc[df.duplicated(['key'], keep=False), :]\n",
        "duplicateRowsDF"
      ],
      "execution_count": 7,
      "outputs": [
        {
          "output_type": "stream",
          "text": [
            "CPU times: user 2 µs, sys: 1e+03 ns, total: 3 µs\n",
            "Wall time: 5.96 µs\n"
          ],
          "name": "stdout"
        },
        {
          "output_type": "execute_result",
          "data": {
            "text/html": [
              "<div>\n",
              "<style scoped>\n",
              "    .dataframe tbody tr th:only-of-type {\n",
              "        vertical-align: middle;\n",
              "    }\n",
              "\n",
              "    .dataframe tbody tr th {\n",
              "        vertical-align: top;\n",
              "    }\n",
              "\n",
              "    .dataframe thead th {\n",
              "        text-align: right;\n",
              "    }\n",
              "</style>\n",
              "<table border=\"1\" class=\"dataframe\">\n",
              "  <thead>\n",
              "    <tr style=\"text-align: right;\">\n",
              "      <th></th>\n",
              "      <th>key</th>\n",
              "      <th>pickup_datetime</th>\n",
              "      <th>pickup_latitude</th>\n",
              "      <th>pickup_longitude</th>\n",
              "      <th>dropoff_latitude</th>\n",
              "      <th>dropoff_longitude</th>\n",
              "      <th>passenger_count</th>\n",
              "      <th>fare_amount</th>\n",
              "    </tr>\n",
              "  </thead>\n",
              "  <tbody>\n",
              "  </tbody>\n",
              "</table>\n",
              "</div>"
            ],
            "text/plain": [
              "Empty DataFrame\n",
              "Columns: [key, pickup_datetime, pickup_latitude, pickup_longitude, dropoff_latitude, dropoff_longitude, passenger_count, fare_amount]\n",
              "Index: []"
            ]
          },
          "metadata": {
            "tags": []
          },
          "execution_count": 7
        }
      ]
    },
    {
      "cell_type": "code",
      "metadata": {
        "id": "AsxLJMSwcj5v"
      },
      "source": [
        "df['key'][55423855] =  '2014-12-12 11:33:00.00000016'"
      ],
      "execution_count": 8,
      "outputs": []
    },
    {
      "cell_type": "code",
      "metadata": {
        "id": "WlTUnxu0cj5v",
        "colab": {
          "base_uri": "https://localhost:8080/"
        },
        "outputId": "9ac0ec4d-85a1-4996-9771-18b62e678e88"
      },
      "source": [
        "duplicateRowsDF = df.loc[df.duplicated(['key'], keep=False), :]\n",
        "duplicateRowsDF.shape[0]"
      ],
      "execution_count": 9,
      "outputs": [
        {
          "output_type": "execute_result",
          "data": {
            "text/plain": [
              "0"
            ]
          },
          "metadata": {
            "tags": []
          },
          "execution_count": 9
        }
      ]
    },
    {
      "cell_type": "markdown",
      "metadata": {
        "id": "KRCFfN7hUFiQ"
      },
      "source": [
        "#### Valores NaN"
      ]
    },
    {
      "cell_type": "code",
      "metadata": {
        "id": "SIjYFgx9cj5w",
        "colab": {
          "base_uri": "https://localhost:8080/"
        },
        "outputId": "e7acd259-0df2-44b9-c8be-eab2cce0981f"
      },
      "source": [
        "valores_nan = df.isna().sum()\n",
        "valores_nan"
      ],
      "execution_count": 10,
      "outputs": [
        {
          "output_type": "execute_result",
          "data": {
            "text/plain": [
              "key                   0\n",
              "pickup_datetime       0\n",
              "pickup_latitude       0\n",
              "pickup_longitude      0\n",
              "dropoff_latitude     69\n",
              "dropoff_longitude    69\n",
              "passenger_count       0\n",
              "fare_amount           0\n",
              "dtype: int64"
            ]
          },
          "metadata": {
            "tags": []
          },
          "execution_count": 10
        }
      ]
    },
    {
      "cell_type": "code",
      "metadata": {
        "id": "UNmatVrvcj5w"
      },
      "source": [
        "df = df.dropna()"
      ],
      "execution_count": 11,
      "outputs": []
    },
    {
      "cell_type": "markdown",
      "metadata": {
        "id": "tHRnK9gxcj5w"
      },
      "source": [
        "#### Coordenadas"
      ]
    },
    {
      "cell_type": "markdown",
      "metadata": {
        "id": "LeB7v2caeE-Q"
      },
      "source": [
        "Se analizará la data con el objetivo de eliminar las filas con coordenadas ubicadas en el océano.\n"
      ]
    },
    {
      "cell_type": "code",
      "metadata": {
        "id": "fvLRgQm4w6gv",
        "colab": {
          "base_uri": "https://localhost:8080/"
        },
        "outputId": "80a2a3a6-39f7-42e1-f6da-f3040c4add5b"
      },
      "source": [
        "!pip install global-land-mask"
      ],
      "execution_count": 12,
      "outputs": [
        {
          "output_type": "stream",
          "text": [
            "Requirement already satisfied: global-land-mask in /usr/local/lib/python3.7/dist-packages (1.0.0)\n"
          ],
          "name": "stdout"
        }
      ]
    },
    {
      "cell_type": "code",
      "metadata": {
        "id": "EHDiR4uHLME7"
      },
      "source": [
        "from global_land_mask import globe as gl"
      ],
      "execution_count": 13,
      "outputs": []
    },
    {
      "cell_type": "code",
      "metadata": {
        "id": "h_OKBr002fJl",
        "colab": {
          "base_uri": "https://localhost:8080/"
        },
        "outputId": "9365d554-b719-4f76-d2df-409a185b7421"
      },
      "source": [
        "df.shape"
      ],
      "execution_count": 14,
      "outputs": [
        {
          "output_type": "execute_result",
          "data": {
            "text/plain": [
              "(9999931, 8)"
            ]
          },
          "metadata": {
            "tags": []
          },
          "execution_count": 14
        }
      ]
    },
    {
      "cell_type": "code",
      "metadata": {
        "id": "eKQUwiZo20So",
        "colab": {
          "base_uri": "https://localhost:8080/"
        },
        "outputId": "e949db35-85d4-448b-d4cb-65649168c4d7"
      },
      "source": [
        "df.info()"
      ],
      "execution_count": 15,
      "outputs": [
        {
          "output_type": "stream",
          "text": [
            "<class 'pandas.core.frame.DataFrame'>\n",
            "Int64Index: 9999931 entries, 0 to 9999999\n",
            "Data columns (total 8 columns):\n",
            " #   Column             Dtype  \n",
            "---  ------             -----  \n",
            " 0   key                object \n",
            " 1   pickup_datetime    object \n",
            " 2   pickup_latitude    float64\n",
            " 3   pickup_longitude   float64\n",
            " 4   dropoff_latitude   float64\n",
            " 5   dropoff_longitude  float64\n",
            " 6   passenger_count    int64  \n",
            " 7   fare_amount        float64\n",
            "dtypes: float64(5), int64(1), object(2)\n",
            "memory usage: 686.6+ MB\n"
          ],
          "name": "stdout"
        }
      ]
    },
    {
      "cell_type": "code",
      "metadata": {
        "id": "BvAMaLT7zCsb"
      },
      "source": [
        "df = df[df['pickup_latitude'].values > -90]\n",
        "df = df[df['pickup_latitude'].values < 90]\n",
        "df = df[df['dropoff_latitude'].values > -90]\n",
        "df = df[df['dropoff_latitude'].values < 90]\n",
        "\n",
        "df = df[df['pickup_longitude'].values > -180]\n",
        "df = df[df['pickup_longitude'].values < 180]\n",
        "df = df[df['dropoff_longitude'].values > -180]\n",
        "df = df[df['dropoff_longitude'].values < 180]"
      ],
      "execution_count": 16,
      "outputs": []
    },
    {
      "cell_type": "code",
      "metadata": {
        "id": "PEETEkebB3UI"
      },
      "source": [
        "pla = df[['pickup_latitude']].to_numpy()\n",
        "plon = df[['pickup_longitude']].to_numpy()\n",
        "dla = df[['dropoff_latitude']].to_numpy()\n",
        "dlon = df[['dropoff_longitude']].to_numpy()\n",
        "\n",
        "#gl.is_ocean(pla,plon)\n",
        "#df.loc[gl.is_ocean(pla,plon), :]\n",
        "\n",
        "df = df.drop(df.loc[gl.is_ocean(pla,plon)].index)"
      ],
      "execution_count": 17,
      "outputs": []
    },
    {
      "cell_type": "code",
      "metadata": {
        "id": "bbwr-zVHhwl0"
      },
      "source": [
        "# dfs[['pickup_latitude', 'pickup_longitude']] = dfs.apply(lambda x: ocean_values_to_nan(x['pickup_latitude'],x['pickup_longitude']), axis=1 )\n",
        "# dfs[['dropoff_latitude', 'dropoff_longitude']] = dfs.apply(lambda x: ocean_values_to_nan(x['dropoff_latitude'],x['dropoff_longitude']) , axis=1)"
      ],
      "execution_count": 18,
      "outputs": []
    },
    {
      "cell_type": "code",
      "metadata": {
        "id": "wdcfeIKIYiMF",
        "colab": {
          "base_uri": "https://localhost:8080/"
        },
        "outputId": "3bc5e5e6-ab10-41b4-9c3e-8cb1764a13d9"
      },
      "source": [
        "df.shape"
      ],
      "execution_count": 19,
      "outputs": [
        {
          "output_type": "execute_result",
          "data": {
            "text/plain": [
              "(9785792, 8)"
            ]
          },
          "metadata": {
            "tags": []
          },
          "execution_count": 19
        }
      ]
    },
    {
      "cell_type": "code",
      "metadata": {
        "id": "MLg3oTnVdO90"
      },
      "source": [
        "#df.to_csv('trainsampleprep.csv')"
      ],
      "execution_count": 20,
      "outputs": []
    },
    {
      "cell_type": "code",
      "metadata": {
        "id": "QOOxB1oZE4V2",
        "colab": {
          "base_uri": "https://localhost:8080/",
          "height": 589
        },
        "outputId": "51b0367d-0998-47fc-b552-153053595a2e"
      },
      "source": [
        "df.head(-15)"
      ],
      "execution_count": 21,
      "outputs": [
        {
          "output_type": "execute_result",
          "data": {
            "text/html": [
              "<div>\n",
              "<style scoped>\n",
              "    .dataframe tbody tr th:only-of-type {\n",
              "        vertical-align: middle;\n",
              "    }\n",
              "\n",
              "    .dataframe tbody tr th {\n",
              "        vertical-align: top;\n",
              "    }\n",
              "\n",
              "    .dataframe thead th {\n",
              "        text-align: right;\n",
              "    }\n",
              "</style>\n",
              "<table border=\"1\" class=\"dataframe\">\n",
              "  <thead>\n",
              "    <tr style=\"text-align: right;\">\n",
              "      <th></th>\n",
              "      <th>key</th>\n",
              "      <th>pickup_datetime</th>\n",
              "      <th>pickup_latitude</th>\n",
              "      <th>pickup_longitude</th>\n",
              "      <th>dropoff_latitude</th>\n",
              "      <th>dropoff_longitude</th>\n",
              "      <th>passenger_count</th>\n",
              "      <th>fare_amount</th>\n",
              "    </tr>\n",
              "  </thead>\n",
              "  <tbody>\n",
              "    <tr>\n",
              "      <th>0</th>\n",
              "      <td>2009-06-15 17:26:21.0000001</td>\n",
              "      <td>2009-06-15 17:26:21 UTC</td>\n",
              "      <td>40.721319</td>\n",
              "      <td>-73.844311</td>\n",
              "      <td>40.712278</td>\n",
              "      <td>-73.841610</td>\n",
              "      <td>1</td>\n",
              "      <td>4.5</td>\n",
              "    </tr>\n",
              "    <tr>\n",
              "      <th>1</th>\n",
              "      <td>2010-01-05 16:52:16.0000002</td>\n",
              "      <td>2010-01-05 16:52:16 UTC</td>\n",
              "      <td>40.711303</td>\n",
              "      <td>-74.016048</td>\n",
              "      <td>40.782004</td>\n",
              "      <td>-73.979268</td>\n",
              "      <td>1</td>\n",
              "      <td>16.9</td>\n",
              "    </tr>\n",
              "    <tr>\n",
              "      <th>2</th>\n",
              "      <td>2011-08-18 00:35:00.00000049</td>\n",
              "      <td>2011-08-18 00:35:00 UTC</td>\n",
              "      <td>40.761270</td>\n",
              "      <td>-73.982738</td>\n",
              "      <td>40.750562</td>\n",
              "      <td>-73.991242</td>\n",
              "      <td>2</td>\n",
              "      <td>5.7</td>\n",
              "    </tr>\n",
              "    <tr>\n",
              "      <th>3</th>\n",
              "      <td>2012-04-21 04:30:42.0000001</td>\n",
              "      <td>2012-04-21 04:30:42 UTC</td>\n",
              "      <td>40.733143</td>\n",
              "      <td>-73.987130</td>\n",
              "      <td>40.758092</td>\n",
              "      <td>-73.991567</td>\n",
              "      <td>1</td>\n",
              "      <td>7.7</td>\n",
              "    </tr>\n",
              "    <tr>\n",
              "      <th>4</th>\n",
              "      <td>2010-03-09 07:51:00.000000135</td>\n",
              "      <td>2010-03-09 07:51:00 UTC</td>\n",
              "      <td>40.768008</td>\n",
              "      <td>-73.968095</td>\n",
              "      <td>40.783762</td>\n",
              "      <td>-73.956655</td>\n",
              "      <td>1</td>\n",
              "      <td>5.3</td>\n",
              "    </tr>\n",
              "    <tr>\n",
              "      <th>...</th>\n",
              "      <td>...</td>\n",
              "      <td>...</td>\n",
              "      <td>...</td>\n",
              "      <td>...</td>\n",
              "      <td>...</td>\n",
              "      <td>...</td>\n",
              "      <td>...</td>\n",
              "      <td>...</td>\n",
              "    </tr>\n",
              "    <tr>\n",
              "      <th>9999980</th>\n",
              "      <td>2015-02-12 23:30:38.0000008</td>\n",
              "      <td>2015-02-12 23:30:38 UTC</td>\n",
              "      <td>40.761551</td>\n",
              "      <td>-73.974197</td>\n",
              "      <td>40.802128</td>\n",
              "      <td>-73.963242</td>\n",
              "      <td>1</td>\n",
              "      <td>14.5</td>\n",
              "    </tr>\n",
              "    <tr>\n",
              "      <th>9999981</th>\n",
              "      <td>2010-06-16 09:21:00.000000106</td>\n",
              "      <td>2010-06-16 09:21:00 UTC</td>\n",
              "      <td>40.632488</td>\n",
              "      <td>-73.696362</td>\n",
              "      <td>40.627288</td>\n",
              "      <td>-73.703765</td>\n",
              "      <td>1</td>\n",
              "      <td>4.9</td>\n",
              "    </tr>\n",
              "    <tr>\n",
              "      <th>9999982</th>\n",
              "      <td>2010-07-10 18:07:00.00000067</td>\n",
              "      <td>2010-07-10 18:07:00 UTC</td>\n",
              "      <td>40.791027</td>\n",
              "      <td>-73.947290</td>\n",
              "      <td>40.778013</td>\n",
              "      <td>-73.953898</td>\n",
              "      <td>2</td>\n",
              "      <td>4.9</td>\n",
              "    </tr>\n",
              "    <tr>\n",
              "      <th>9999983</th>\n",
              "      <td>2011-01-08 21:48:00.00000070</td>\n",
              "      <td>2011-01-08 21:48:00 UTC</td>\n",
              "      <td>40.750238</td>\n",
              "      <td>-73.991167</td>\n",
              "      <td>40.744720</td>\n",
              "      <td>-73.980848</td>\n",
              "      <td>1</td>\n",
              "      <td>5.7</td>\n",
              "    </tr>\n",
              "    <tr>\n",
              "      <th>9999984</th>\n",
              "      <td>2013-04-22 13:41:50.0000001</td>\n",
              "      <td>2013-04-22 13:41:50 UTC</td>\n",
              "      <td>40.755477</td>\n",
              "      <td>-73.991281</td>\n",
              "      <td>40.756923</td>\n",
              "      <td>-73.983392</td>\n",
              "      <td>1</td>\n",
              "      <td>6.0</td>\n",
              "    </tr>\n",
              "  </tbody>\n",
              "</table>\n",
              "<p>9785777 rows × 8 columns</p>\n",
              "</div>"
            ],
            "text/plain": [
              "                                   key  ... fare_amount\n",
              "0          2009-06-15 17:26:21.0000001  ...         4.5\n",
              "1          2010-01-05 16:52:16.0000002  ...        16.9\n",
              "2         2011-08-18 00:35:00.00000049  ...         5.7\n",
              "3          2012-04-21 04:30:42.0000001  ...         7.7\n",
              "4        2010-03-09 07:51:00.000000135  ...         5.3\n",
              "...                                ...  ...         ...\n",
              "9999980    2015-02-12 23:30:38.0000008  ...        14.5\n",
              "9999981  2010-06-16 09:21:00.000000106  ...         4.9\n",
              "9999982   2010-07-10 18:07:00.00000067  ...         4.9\n",
              "9999983   2011-01-08 21:48:00.00000070  ...         5.7\n",
              "9999984    2013-04-22 13:41:50.0000001  ...         6.0\n",
              "\n",
              "[9785777 rows x 8 columns]"
            ]
          },
          "metadata": {
            "tags": []
          },
          "execution_count": 21
        }
      ]
    },
    {
      "cell_type": "markdown",
      "metadata": {
        "id": "yKEd9rpKcj51"
      },
      "source": [
        "#### Rango de valores"
      ]
    },
    {
      "cell_type": "markdown",
      "metadata": {
        "id": "7tBsVsyPcj51"
      },
      "source": [
        "Ahora verificamos que los datos cumplan las restricciones de rango correspondientes."
      ]
    },
    {
      "cell_type": "code",
      "metadata": {
        "id": "fxmELkUicj51",
        "colab": {
          "base_uri": "https://localhost:8080/",
          "height": 297
        },
        "outputId": "4e1b8e77-3e30-40fa-df7e-4cbb771d2495"
      },
      "source": [
        "df.describe()"
      ],
      "execution_count": 22,
      "outputs": [
        {
          "output_type": "execute_result",
          "data": {
            "text/html": [
              "<div>\n",
              "<style scoped>\n",
              "    .dataframe tbody tr th:only-of-type {\n",
              "        vertical-align: middle;\n",
              "    }\n",
              "\n",
              "    .dataframe tbody tr th {\n",
              "        vertical-align: top;\n",
              "    }\n",
              "\n",
              "    .dataframe thead th {\n",
              "        text-align: right;\n",
              "    }\n",
              "</style>\n",
              "<table border=\"1\" class=\"dataframe\">\n",
              "  <thead>\n",
              "    <tr style=\"text-align: right;\">\n",
              "      <th></th>\n",
              "      <th>pickup_latitude</th>\n",
              "      <th>pickup_longitude</th>\n",
              "      <th>dropoff_latitude</th>\n",
              "      <th>dropoff_longitude</th>\n",
              "      <th>passenger_count</th>\n",
              "      <th>fare_amount</th>\n",
              "    </tr>\n",
              "  </thead>\n",
              "  <tbody>\n",
              "    <tr>\n",
              "      <th>count</th>\n",
              "      <td>9.785792e+06</td>\n",
              "      <td>9.785792e+06</td>\n",
              "      <td>9.785792e+06</td>\n",
              "      <td>9.785792e+06</td>\n",
              "      <td>9.785792e+06</td>\n",
              "      <td>9.785792e+06</td>\n",
              "    </tr>\n",
              "    <tr>\n",
              "      <th>mean</th>\n",
              "      <td>4.069289e+01</td>\n",
              "      <td>-7.390777e+01</td>\n",
              "      <td>4.065839e+01</td>\n",
              "      <td>-7.384523e+01</td>\n",
              "      <td>1.684859e+00</td>\n",
              "      <td>1.132287e+01</td>\n",
              "    </tr>\n",
              "    <tr>\n",
              "      <th>std</th>\n",
              "      <td>2.571542e+00</td>\n",
              "      <td>2.705123e+00</td>\n",
              "      <td>2.832979e+00</td>\n",
              "      <td>3.445330e+00</td>\n",
              "      <td>1.313768e+00</td>\n",
              "      <td>9.724057e+00</td>\n",
              "    </tr>\n",
              "    <tr>\n",
              "      <th>min</th>\n",
              "      <td>-7.482416e+01</td>\n",
              "      <td>-1.219333e+02</td>\n",
              "      <td>-7.419320e+01</td>\n",
              "      <td>-1.733420e+02</td>\n",
              "      <td>0.000000e+00</td>\n",
              "      <td>-1.077500e+02</td>\n",
              "    </tr>\n",
              "    <tr>\n",
              "      <th>25%</th>\n",
              "      <td>4.073661e+01</td>\n",
              "      <td>-7.399222e+01</td>\n",
              "      <td>4.073551e+01</td>\n",
              "      <td>-7.399155e+01</td>\n",
              "      <td>1.000000e+00</td>\n",
              "      <td>6.000000e+00</td>\n",
              "    </tr>\n",
              "    <tr>\n",
              "      <th>50%</th>\n",
              "      <td>4.075341e+01</td>\n",
              "      <td>-7.398207e+01</td>\n",
              "      <td>4.075384e+01</td>\n",
              "      <td>-7.398056e+01</td>\n",
              "      <td>1.000000e+00</td>\n",
              "      <td>8.500000e+00</td>\n",
              "    </tr>\n",
              "    <tr>\n",
              "      <th>75%</th>\n",
              "      <td>4.076758e+01</td>\n",
              "      <td>-7.396825e+01</td>\n",
              "      <td>4.076840e+01</td>\n",
              "      <td>-7.396520e+01</td>\n",
              "      <td>2.000000e+00</td>\n",
              "      <td>1.250000e+01</td>\n",
              "    </tr>\n",
              "    <tr>\n",
              "      <th>max</th>\n",
              "      <td>8.154545e+01</td>\n",
              "      <td>7.393784e+01</td>\n",
              "      <td>8.154545e+01</td>\n",
              "      <td>7.393783e+01</td>\n",
              "      <td>2.080000e+02</td>\n",
              "      <td>9.520000e+02</td>\n",
              "    </tr>\n",
              "  </tbody>\n",
              "</table>\n",
              "</div>"
            ],
            "text/plain": [
              "       pickup_latitude  pickup_longitude  ...  passenger_count   fare_amount\n",
              "count     9.785792e+06      9.785792e+06  ...     9.785792e+06  9.785792e+06\n",
              "mean      4.069289e+01     -7.390777e+01  ...     1.684859e+00  1.132287e+01\n",
              "std       2.571542e+00      2.705123e+00  ...     1.313768e+00  9.724057e+00\n",
              "min      -7.482416e+01     -1.219333e+02  ...     0.000000e+00 -1.077500e+02\n",
              "25%       4.073661e+01     -7.399222e+01  ...     1.000000e+00  6.000000e+00\n",
              "50%       4.075341e+01     -7.398207e+01  ...     1.000000e+00  8.500000e+00\n",
              "75%       4.076758e+01     -7.396825e+01  ...     2.000000e+00  1.250000e+01\n",
              "max       8.154545e+01      7.393784e+01  ...     2.080000e+02  9.520000e+02\n",
              "\n",
              "[8 rows x 6 columns]"
            ]
          },
          "metadata": {
            "tags": []
          },
          "execution_count": 22
        }
      ]
    },
    {
      "cell_type": "markdown",
      "metadata": {
        "id": "tQmYVVTxcj52"
      },
      "source": [
        "Observamos que el mínimo valor de la columna de tarifa (fare_amount) es -30. Necesitamos que los valores de la tarifa sean valores mayores o iguales a 0."
      ]
    },
    {
      "cell_type": "code",
      "metadata": {
        "id": "4TWEUy6Gcj52",
        "colab": {
          "base_uri": "https://localhost:8080/"
        },
        "outputId": "4fbfb734-0778-4e2b-e8c6-d6aecbf37f18"
      },
      "source": [
        "df[df['fare_amount'] <= 0].count() /df.count()"
      ],
      "execution_count": 23,
      "outputs": [
        {
          "output_type": "execute_result",
          "data": {
            "text/plain": [
              "key                  0.000066\n",
              "pickup_datetime      0.000066\n",
              "pickup_latitude      0.000066\n",
              "pickup_longitude     0.000066\n",
              "dropoff_latitude     0.000066\n",
              "dropoff_longitude    0.000066\n",
              "passenger_count      0.000066\n",
              "fare_amount          0.000066\n",
              "dtype: float64"
            ]
          },
          "metadata": {
            "tags": []
          },
          "execution_count": 23
        }
      ]
    },
    {
      "cell_type": "code",
      "metadata": {
        "id": "jlaJkYivcj52"
      },
      "source": [
        "df = df[df['fare_amount'] > 0]"
      ],
      "execution_count": 24,
      "outputs": []
    },
    {
      "cell_type": "markdown",
      "metadata": {
        "id": "lV7wM-4Jcj52"
      },
      "source": [
        "También notamos valores atípicos en la cantidad de pasajeros, por ejemplo un viaje con 208 pasajeros. De acuerdo a las leyes de tránsito de Nueva York como máximo pueden haber 6 personas. Por lo tanto, las filas con cantidades de pasajeros mayores a 6 serán eliminadas."
      ]
    },
    {
      "cell_type": "code",
      "metadata": {
        "id": "vJERBroxcj53",
        "colab": {
          "base_uri": "https://localhost:8080/"
        },
        "outputId": "e88d28bc-1a59-4fe9-f1bb-dcf4d54f246a"
      },
      "source": [
        "( (df[df['passenger_count'] > 6].count() + df[df['passenger_count'] < 1.0].count()) / df.count() )* 100"
      ],
      "execution_count": 25,
      "outputs": [
        {
          "output_type": "execute_result",
          "data": {
            "text/plain": [
              "key                  0.353546\n",
              "pickup_datetime      0.353546\n",
              "pickup_latitude      0.353546\n",
              "pickup_longitude     0.353546\n",
              "dropoff_latitude     0.353546\n",
              "dropoff_longitude    0.353546\n",
              "passenger_count      0.353546\n",
              "fare_amount          0.353546\n",
              "dtype: float64"
            ]
          },
          "metadata": {
            "tags": []
          },
          "execution_count": 25
        }
      ]
    },
    {
      "cell_type": "code",
      "metadata": {
        "id": "YmQwkJ2hcj53"
      },
      "source": [
        "df = df[df['passenger_count'] <= 6]\n",
        "df = df[df['passenger_count'] >= 1.0]"
      ],
      "execution_count": 26,
      "outputs": []
    },
    {
      "cell_type": "code",
      "metadata": {
        "id": "Zrrloj3Acj53",
        "colab": {
          "base_uri": "https://localhost:8080/",
          "height": 297
        },
        "outputId": "fdc2b03a-faa9-4b00-9124-1e9eb042c4f0"
      },
      "source": [
        "df.describe()"
      ],
      "execution_count": 27,
      "outputs": [
        {
          "output_type": "execute_result",
          "data": {
            "text/html": [
              "<div>\n",
              "<style scoped>\n",
              "    .dataframe tbody tr th:only-of-type {\n",
              "        vertical-align: middle;\n",
              "    }\n",
              "\n",
              "    .dataframe tbody tr th {\n",
              "        vertical-align: top;\n",
              "    }\n",
              "\n",
              "    .dataframe thead th {\n",
              "        text-align: right;\n",
              "    }\n",
              "</style>\n",
              "<table border=\"1\" class=\"dataframe\">\n",
              "  <thead>\n",
              "    <tr style=\"text-align: right;\">\n",
              "      <th></th>\n",
              "      <th>pickup_latitude</th>\n",
              "      <th>pickup_longitude</th>\n",
              "      <th>dropoff_latitude</th>\n",
              "      <th>dropoff_longitude</th>\n",
              "      <th>passenger_count</th>\n",
              "      <th>fare_amount</th>\n",
              "    </tr>\n",
              "  </thead>\n",
              "  <tbody>\n",
              "    <tr>\n",
              "      <th>count</th>\n",
              "      <td>9.750554e+06</td>\n",
              "      <td>9.750554e+06</td>\n",
              "      <td>9.750554e+06</td>\n",
              "      <td>9.750554e+06</td>\n",
              "      <td>9.750554e+06</td>\n",
              "      <td>9.750554e+06</td>\n",
              "    </tr>\n",
              "    <tr>\n",
              "      <th>mean</th>\n",
              "      <td>4.069267e+01</td>\n",
              "      <td>-7.390753e+01</td>\n",
              "      <td>4.065880e+01</td>\n",
              "      <td>-7.384610e+01</td>\n",
              "      <td>1.690759e+00</td>\n",
              "      <td>1.133236e+01</td>\n",
              "    </tr>\n",
              "    <tr>\n",
              "      <th>std</th>\n",
              "      <td>2.576181e+00</td>\n",
              "      <td>2.710003e+00</td>\n",
              "      <td>2.832766e+00</td>\n",
              "      <td>3.437090e+00</td>\n",
              "      <td>1.306613e+00</td>\n",
              "      <td>9.732137e+00</td>\n",
              "    </tr>\n",
              "    <tr>\n",
              "      <th>min</th>\n",
              "      <td>-7.482416e+01</td>\n",
              "      <td>-1.219333e+02</td>\n",
              "      <td>-7.419320e+01</td>\n",
              "      <td>-1.733420e+02</td>\n",
              "      <td>1.000000e+00</td>\n",
              "      <td>1.000000e-02</td>\n",
              "    </tr>\n",
              "    <tr>\n",
              "      <th>25%</th>\n",
              "      <td>4.073661e+01</td>\n",
              "      <td>-7.399222e+01</td>\n",
              "      <td>4.073551e+01</td>\n",
              "      <td>-7.399155e+01</td>\n",
              "      <td>1.000000e+00</td>\n",
              "      <td>6.000000e+00</td>\n",
              "    </tr>\n",
              "    <tr>\n",
              "      <th>50%</th>\n",
              "      <td>4.075340e+01</td>\n",
              "      <td>-7.398207e+01</td>\n",
              "      <td>4.075384e+01</td>\n",
              "      <td>-7.398056e+01</td>\n",
              "      <td>1.000000e+00</td>\n",
              "      <td>8.500000e+00</td>\n",
              "    </tr>\n",
              "    <tr>\n",
              "      <th>75%</th>\n",
              "      <td>4.076758e+01</td>\n",
              "      <td>-7.396825e+01</td>\n",
              "      <td>4.076840e+01</td>\n",
              "      <td>-7.396519e+01</td>\n",
              "      <td>2.000000e+00</td>\n",
              "      <td>1.250000e+01</td>\n",
              "    </tr>\n",
              "    <tr>\n",
              "      <th>max</th>\n",
              "      <td>8.154545e+01</td>\n",
              "      <td>7.393784e+01</td>\n",
              "      <td>8.154545e+01</td>\n",
              "      <td>7.393783e+01</td>\n",
              "      <td>6.000000e+00</td>\n",
              "      <td>9.520000e+02</td>\n",
              "    </tr>\n",
              "  </tbody>\n",
              "</table>\n",
              "</div>"
            ],
            "text/plain": [
              "       pickup_latitude  pickup_longitude  ...  passenger_count   fare_amount\n",
              "count     9.750554e+06      9.750554e+06  ...     9.750554e+06  9.750554e+06\n",
              "mean      4.069267e+01     -7.390753e+01  ...     1.690759e+00  1.133236e+01\n",
              "std       2.576181e+00      2.710003e+00  ...     1.306613e+00  9.732137e+00\n",
              "min      -7.482416e+01     -1.219333e+02  ...     1.000000e+00  1.000000e-02\n",
              "25%       4.073661e+01     -7.399222e+01  ...     1.000000e+00  6.000000e+00\n",
              "50%       4.075340e+01     -7.398207e+01  ...     1.000000e+00  8.500000e+00\n",
              "75%       4.076758e+01     -7.396825e+01  ...     2.000000e+00  1.250000e+01\n",
              "max       8.154545e+01      7.393784e+01  ...     6.000000e+00  9.520000e+02\n",
              "\n",
              "[8 rows x 6 columns]"
            ]
          },
          "metadata": {
            "tags": []
          },
          "execution_count": 27
        }
      ]
    },
    {
      "cell_type": "markdown",
      "metadata": {
        "id": "yDGmBTr2CSlU"
      },
      "source": [
        "#### RANDOM FOREST"
      ]
    },
    {
      "cell_type": "code",
      "metadata": {
        "id": "Co0g5mxCCyuK"
      },
      "source": [
        "#df['day']=df['pickup_datetime'].apply(lambda x: pd.Timestamp(x).day_name())\n",
        "#df['hour']=df['pickup_datetime'].apply(lambda x: pd.Timestamp(x).hour).apply(lambda x: 'manana' if x > 5 and x < 12 else 'Tarde' if x >=12 and x < 18 else 'noche')\n",
        "#df.head()"
      ],
      "execution_count": 28,
      "outputs": []
    },
    {
      "cell_type": "code",
      "metadata": {
        "id": "N9W0Sh7JqBrC",
        "colab": {
          "base_uri": "https://localhost:8080/",
          "height": 309
        },
        "outputId": "0bcd27d5-90c5-4180-ef33-05faf1d4a829"
      },
      "source": [
        "from multiprocessing import Pool\n",
        "def f(df):\n",
        "  date = pd.to_datetime(df['pickup_datetime'])\n",
        "  df['day']=date.dt.day_name()\n",
        "  df['day_of_month'] = date.dt.day\n",
        "  df['month'] = date.dt.month\n",
        "  df['year'] = date.dt.year\n",
        "  df['hour']=date.dt.hour.apply(lambda x: 'manana' if x > 5 and x < 12 else 'Tarde' if x >=12 and x < 18 else 'noche')\n",
        "\n",
        "  return df\n",
        "\n",
        "def parallelize_dataframe(df, func, n_cores=4):\n",
        "    df_split = np.array_split(df, n_cores)\n",
        "    pool = Pool(n_cores)\n",
        "    df = pd.concat(pool.map(func, df_split))\n",
        "    pool.close()\n",
        "    pool.join()\n",
        "    return df\n",
        "df = parallelize_dataframe(df,f,n_cores=40)\n",
        "#df = parallelize_dataframe(df,f2,n_cores=40)\n",
        "df.head()\n",
        "\n"
      ],
      "execution_count": 29,
      "outputs": [
        {
          "output_type": "execute_result",
          "data": {
            "text/html": [
              "<div>\n",
              "<style scoped>\n",
              "    .dataframe tbody tr th:only-of-type {\n",
              "        vertical-align: middle;\n",
              "    }\n",
              "\n",
              "    .dataframe tbody tr th {\n",
              "        vertical-align: top;\n",
              "    }\n",
              "\n",
              "    .dataframe thead th {\n",
              "        text-align: right;\n",
              "    }\n",
              "</style>\n",
              "<table border=\"1\" class=\"dataframe\">\n",
              "  <thead>\n",
              "    <tr style=\"text-align: right;\">\n",
              "      <th></th>\n",
              "      <th>key</th>\n",
              "      <th>pickup_datetime</th>\n",
              "      <th>pickup_latitude</th>\n",
              "      <th>pickup_longitude</th>\n",
              "      <th>dropoff_latitude</th>\n",
              "      <th>dropoff_longitude</th>\n",
              "      <th>passenger_count</th>\n",
              "      <th>fare_amount</th>\n",
              "      <th>day</th>\n",
              "      <th>day_of_month</th>\n",
              "      <th>month</th>\n",
              "      <th>year</th>\n",
              "      <th>hour</th>\n",
              "    </tr>\n",
              "  </thead>\n",
              "  <tbody>\n",
              "    <tr>\n",
              "      <th>0</th>\n",
              "      <td>2009-06-15 17:26:21.0000001</td>\n",
              "      <td>2009-06-15 17:26:21 UTC</td>\n",
              "      <td>40.721319</td>\n",
              "      <td>-73.844311</td>\n",
              "      <td>40.712278</td>\n",
              "      <td>-73.841610</td>\n",
              "      <td>1</td>\n",
              "      <td>4.5</td>\n",
              "      <td>Monday</td>\n",
              "      <td>15</td>\n",
              "      <td>6</td>\n",
              "      <td>2009</td>\n",
              "      <td>Tarde</td>\n",
              "    </tr>\n",
              "    <tr>\n",
              "      <th>1</th>\n",
              "      <td>2010-01-05 16:52:16.0000002</td>\n",
              "      <td>2010-01-05 16:52:16 UTC</td>\n",
              "      <td>40.711303</td>\n",
              "      <td>-74.016048</td>\n",
              "      <td>40.782004</td>\n",
              "      <td>-73.979268</td>\n",
              "      <td>1</td>\n",
              "      <td>16.9</td>\n",
              "      <td>Tuesday</td>\n",
              "      <td>5</td>\n",
              "      <td>1</td>\n",
              "      <td>2010</td>\n",
              "      <td>Tarde</td>\n",
              "    </tr>\n",
              "    <tr>\n",
              "      <th>2</th>\n",
              "      <td>2011-08-18 00:35:00.00000049</td>\n",
              "      <td>2011-08-18 00:35:00 UTC</td>\n",
              "      <td>40.761270</td>\n",
              "      <td>-73.982738</td>\n",
              "      <td>40.750562</td>\n",
              "      <td>-73.991242</td>\n",
              "      <td>2</td>\n",
              "      <td>5.7</td>\n",
              "      <td>Thursday</td>\n",
              "      <td>18</td>\n",
              "      <td>8</td>\n",
              "      <td>2011</td>\n",
              "      <td>noche</td>\n",
              "    </tr>\n",
              "    <tr>\n",
              "      <th>3</th>\n",
              "      <td>2012-04-21 04:30:42.0000001</td>\n",
              "      <td>2012-04-21 04:30:42 UTC</td>\n",
              "      <td>40.733143</td>\n",
              "      <td>-73.987130</td>\n",
              "      <td>40.758092</td>\n",
              "      <td>-73.991567</td>\n",
              "      <td>1</td>\n",
              "      <td>7.7</td>\n",
              "      <td>Saturday</td>\n",
              "      <td>21</td>\n",
              "      <td>4</td>\n",
              "      <td>2012</td>\n",
              "      <td>noche</td>\n",
              "    </tr>\n",
              "    <tr>\n",
              "      <th>4</th>\n",
              "      <td>2010-03-09 07:51:00.000000135</td>\n",
              "      <td>2010-03-09 07:51:00 UTC</td>\n",
              "      <td>40.768008</td>\n",
              "      <td>-73.968095</td>\n",
              "      <td>40.783762</td>\n",
              "      <td>-73.956655</td>\n",
              "      <td>1</td>\n",
              "      <td>5.3</td>\n",
              "      <td>Tuesday</td>\n",
              "      <td>9</td>\n",
              "      <td>3</td>\n",
              "      <td>2010</td>\n",
              "      <td>manana</td>\n",
              "    </tr>\n",
              "  </tbody>\n",
              "</table>\n",
              "</div>"
            ],
            "text/plain": [
              "                             key          pickup_datetime  ...  year    hour\n",
              "0    2009-06-15 17:26:21.0000001  2009-06-15 17:26:21 UTC  ...  2009   Tarde\n",
              "1    2010-01-05 16:52:16.0000002  2010-01-05 16:52:16 UTC  ...  2010   Tarde\n",
              "2   2011-08-18 00:35:00.00000049  2011-08-18 00:35:00 UTC  ...  2011   noche\n",
              "3    2012-04-21 04:30:42.0000001  2012-04-21 04:30:42 UTC  ...  2012   noche\n",
              "4  2010-03-09 07:51:00.000000135  2010-03-09 07:51:00 UTC  ...  2010  manana\n",
              "\n",
              "[5 rows x 13 columns]"
            ]
          },
          "metadata": {
            "tags": []
          },
          "execution_count": 29
        }
      ]
    },
    {
      "cell_type": "code",
      "metadata": {
        "id": "YJ2i6WazqADk",
        "colab": {
          "base_uri": "https://localhost:8080/",
          "height": 309
        },
        "outputId": "01538648-76b1-4fbd-a365-48839edc6aff"
      },
      "source": [
        "df_sub = pd.get_dummies(df[[\"day\",\"hour\"]])\n",
        "df = df.drop(['day', 'hour'], axis=1)\n",
        "df = pd.concat([df, df_sub], axis=1)\n",
        "\n",
        "df.head()"
      ],
      "execution_count": 30,
      "outputs": [
        {
          "output_type": "execute_result",
          "data": {
            "text/html": [
              "<div>\n",
              "<style scoped>\n",
              "    .dataframe tbody tr th:only-of-type {\n",
              "        vertical-align: middle;\n",
              "    }\n",
              "\n",
              "    .dataframe tbody tr th {\n",
              "        vertical-align: top;\n",
              "    }\n",
              "\n",
              "    .dataframe thead th {\n",
              "        text-align: right;\n",
              "    }\n",
              "</style>\n",
              "<table border=\"1\" class=\"dataframe\">\n",
              "  <thead>\n",
              "    <tr style=\"text-align: right;\">\n",
              "      <th></th>\n",
              "      <th>key</th>\n",
              "      <th>pickup_datetime</th>\n",
              "      <th>pickup_latitude</th>\n",
              "      <th>pickup_longitude</th>\n",
              "      <th>dropoff_latitude</th>\n",
              "      <th>dropoff_longitude</th>\n",
              "      <th>passenger_count</th>\n",
              "      <th>fare_amount</th>\n",
              "      <th>day_of_month</th>\n",
              "      <th>month</th>\n",
              "      <th>year</th>\n",
              "      <th>day_Friday</th>\n",
              "      <th>day_Monday</th>\n",
              "      <th>day_Saturday</th>\n",
              "      <th>day_Sunday</th>\n",
              "      <th>day_Thursday</th>\n",
              "      <th>day_Tuesday</th>\n",
              "      <th>day_Wednesday</th>\n",
              "      <th>hour_Tarde</th>\n",
              "      <th>hour_manana</th>\n",
              "      <th>hour_noche</th>\n",
              "    </tr>\n",
              "  </thead>\n",
              "  <tbody>\n",
              "    <tr>\n",
              "      <th>0</th>\n",
              "      <td>2009-06-15 17:26:21.0000001</td>\n",
              "      <td>2009-06-15 17:26:21 UTC</td>\n",
              "      <td>40.721319</td>\n",
              "      <td>-73.844311</td>\n",
              "      <td>40.712278</td>\n",
              "      <td>-73.841610</td>\n",
              "      <td>1</td>\n",
              "      <td>4.5</td>\n",
              "      <td>15</td>\n",
              "      <td>6</td>\n",
              "      <td>2009</td>\n",
              "      <td>0</td>\n",
              "      <td>1</td>\n",
              "      <td>0</td>\n",
              "      <td>0</td>\n",
              "      <td>0</td>\n",
              "      <td>0</td>\n",
              "      <td>0</td>\n",
              "      <td>1</td>\n",
              "      <td>0</td>\n",
              "      <td>0</td>\n",
              "    </tr>\n",
              "    <tr>\n",
              "      <th>1</th>\n",
              "      <td>2010-01-05 16:52:16.0000002</td>\n",
              "      <td>2010-01-05 16:52:16 UTC</td>\n",
              "      <td>40.711303</td>\n",
              "      <td>-74.016048</td>\n",
              "      <td>40.782004</td>\n",
              "      <td>-73.979268</td>\n",
              "      <td>1</td>\n",
              "      <td>16.9</td>\n",
              "      <td>5</td>\n",
              "      <td>1</td>\n",
              "      <td>2010</td>\n",
              "      <td>0</td>\n",
              "      <td>0</td>\n",
              "      <td>0</td>\n",
              "      <td>0</td>\n",
              "      <td>0</td>\n",
              "      <td>1</td>\n",
              "      <td>0</td>\n",
              "      <td>1</td>\n",
              "      <td>0</td>\n",
              "      <td>0</td>\n",
              "    </tr>\n",
              "    <tr>\n",
              "      <th>2</th>\n",
              "      <td>2011-08-18 00:35:00.00000049</td>\n",
              "      <td>2011-08-18 00:35:00 UTC</td>\n",
              "      <td>40.761270</td>\n",
              "      <td>-73.982738</td>\n",
              "      <td>40.750562</td>\n",
              "      <td>-73.991242</td>\n",
              "      <td>2</td>\n",
              "      <td>5.7</td>\n",
              "      <td>18</td>\n",
              "      <td>8</td>\n",
              "      <td>2011</td>\n",
              "      <td>0</td>\n",
              "      <td>0</td>\n",
              "      <td>0</td>\n",
              "      <td>0</td>\n",
              "      <td>1</td>\n",
              "      <td>0</td>\n",
              "      <td>0</td>\n",
              "      <td>0</td>\n",
              "      <td>0</td>\n",
              "      <td>1</td>\n",
              "    </tr>\n",
              "    <tr>\n",
              "      <th>3</th>\n",
              "      <td>2012-04-21 04:30:42.0000001</td>\n",
              "      <td>2012-04-21 04:30:42 UTC</td>\n",
              "      <td>40.733143</td>\n",
              "      <td>-73.987130</td>\n",
              "      <td>40.758092</td>\n",
              "      <td>-73.991567</td>\n",
              "      <td>1</td>\n",
              "      <td>7.7</td>\n",
              "      <td>21</td>\n",
              "      <td>4</td>\n",
              "      <td>2012</td>\n",
              "      <td>0</td>\n",
              "      <td>0</td>\n",
              "      <td>1</td>\n",
              "      <td>0</td>\n",
              "      <td>0</td>\n",
              "      <td>0</td>\n",
              "      <td>0</td>\n",
              "      <td>0</td>\n",
              "      <td>0</td>\n",
              "      <td>1</td>\n",
              "    </tr>\n",
              "    <tr>\n",
              "      <th>4</th>\n",
              "      <td>2010-03-09 07:51:00.000000135</td>\n",
              "      <td>2010-03-09 07:51:00 UTC</td>\n",
              "      <td>40.768008</td>\n",
              "      <td>-73.968095</td>\n",
              "      <td>40.783762</td>\n",
              "      <td>-73.956655</td>\n",
              "      <td>1</td>\n",
              "      <td>5.3</td>\n",
              "      <td>9</td>\n",
              "      <td>3</td>\n",
              "      <td>2010</td>\n",
              "      <td>0</td>\n",
              "      <td>0</td>\n",
              "      <td>0</td>\n",
              "      <td>0</td>\n",
              "      <td>0</td>\n",
              "      <td>1</td>\n",
              "      <td>0</td>\n",
              "      <td>0</td>\n",
              "      <td>1</td>\n",
              "      <td>0</td>\n",
              "    </tr>\n",
              "  </tbody>\n",
              "</table>\n",
              "</div>"
            ],
            "text/plain": [
              "                             key  ... hour_noche\n",
              "0    2009-06-15 17:26:21.0000001  ...          0\n",
              "1    2010-01-05 16:52:16.0000002  ...          0\n",
              "2   2011-08-18 00:35:00.00000049  ...          1\n",
              "3    2012-04-21 04:30:42.0000001  ...          1\n",
              "4  2010-03-09 07:51:00.000000135  ...          0\n",
              "\n",
              "[5 rows x 21 columns]"
            ]
          },
          "metadata": {
            "tags": []
          },
          "execution_count": 30
        }
      ]
    },
    {
      "cell_type": "code",
      "metadata": {
        "id": "knGBZRbgWXY6"
      },
      "source": [
        "data = df"
      ],
      "execution_count": 31,
      "outputs": []
    },
    {
      "cell_type": "code",
      "metadata": {
        "id": "PPFMAaBLWa5h",
        "colab": {
          "base_uri": "https://localhost:8080/"
        },
        "outputId": "6e422f9b-9a9d-4870-ac2b-20a20835b461"
      },
      "source": [
        "df.info()"
      ],
      "execution_count": null,
      "outputs": [
        {
          "output_type": "stream",
          "text": [
            "<class 'pandas.core.frame.DataFrame'>\n",
            "Int64Index: 975308 entries, 0 to 999999\n",
            "Data columns (total 21 columns):\n",
            " #   Column             Non-Null Count   Dtype  \n",
            "---  ------             --------------   -----  \n",
            " 0   key                975308 non-null  object \n",
            " 1   pickup_datetime    975308 non-null  object \n",
            " 2   pickup_latitude    975308 non-null  float64\n",
            " 3   pickup_longitude   975308 non-null  float64\n",
            " 4   dropoff_latitude   975308 non-null  float64\n",
            " 5   dropoff_longitude  975308 non-null  float64\n",
            " 6   passenger_count    975308 non-null  int64  \n",
            " 7   fare_amount        975308 non-null  float64\n",
            " 8   day_of_month       975308 non-null  int64  \n",
            " 9   month              975308 non-null  int64  \n",
            " 10  year               975308 non-null  int64  \n",
            " 11  day_Friday         975308 non-null  uint8  \n",
            " 12  day_Monday         975308 non-null  uint8  \n",
            " 13  day_Saturday       975308 non-null  uint8  \n",
            " 14  day_Sunday         975308 non-null  uint8  \n",
            " 15  day_Thursday       975308 non-null  uint8  \n",
            " 16  day_Tuesday        975308 non-null  uint8  \n",
            " 17  day_Wednesday      975308 non-null  uint8  \n",
            " 18  hour_Tarde         975308 non-null  uint8  \n",
            " 19  hour_manana        975308 non-null  uint8  \n",
            " 20  hour_noche         975308 non-null  uint8  \n",
            "dtypes: float64(5), int64(4), object(2), uint8(10)\n",
            "memory usage: 98.6+ MB\n"
          ],
          "name": "stdout"
        }
      ]
    },
    {
      "cell_type": "code",
      "metadata": {
        "id": "tCIPIx1wWitY",
        "colab": {
          "base_uri": "https://localhost:8080/",
          "height": 224
        },
        "outputId": "cb2d970a-b86f-493b-af69-add4705d41ab"
      },
      "source": [
        "# Dividimos los datos en entrenamiento y prueba\n",
        "from sklearn.model_selection import train_test_split\n",
        "# X son nuestras variables independientes\n",
        "X = data.drop([\"fare_amount\",\"key\",\"pickup_datetime\"],axis = 1)\n",
        "\n",
        "# y es nuestra variable dependiente\n",
        "y = data['fare_amount'].values\n",
        "\n",
        "# División 75% de datos para entrenamiento, 25% de daatos para test\n",
        "#X_train, X_test, y_train, y_test = train_test_split(X, y,random_state=0)\n",
        "#tennisTrain, tennisTest, ObjTrain, ObjTest = train_test_split(Attr_tennis, Attr_obj,test_size=0.28, random_state=42)\n",
        "\n",
        "fareTrain, fareTest, ObjTrain, ObjTest = train_test_split(X, y,test_size=0.3, random_state=42)\n",
        "X.head(n = 5)\n"
      ],
      "execution_count": 32,
      "outputs": [
        {
          "output_type": "execute_result",
          "data": {
            "text/html": [
              "<div>\n",
              "<style scoped>\n",
              "    .dataframe tbody tr th:only-of-type {\n",
              "        vertical-align: middle;\n",
              "    }\n",
              "\n",
              "    .dataframe tbody tr th {\n",
              "        vertical-align: top;\n",
              "    }\n",
              "\n",
              "    .dataframe thead th {\n",
              "        text-align: right;\n",
              "    }\n",
              "</style>\n",
              "<table border=\"1\" class=\"dataframe\">\n",
              "  <thead>\n",
              "    <tr style=\"text-align: right;\">\n",
              "      <th></th>\n",
              "      <th>pickup_latitude</th>\n",
              "      <th>pickup_longitude</th>\n",
              "      <th>dropoff_latitude</th>\n",
              "      <th>dropoff_longitude</th>\n",
              "      <th>passenger_count</th>\n",
              "      <th>day_of_month</th>\n",
              "      <th>month</th>\n",
              "      <th>year</th>\n",
              "      <th>day_Friday</th>\n",
              "      <th>day_Monday</th>\n",
              "      <th>day_Saturday</th>\n",
              "      <th>day_Sunday</th>\n",
              "      <th>day_Thursday</th>\n",
              "      <th>day_Tuesday</th>\n",
              "      <th>day_Wednesday</th>\n",
              "      <th>hour_Tarde</th>\n",
              "      <th>hour_manana</th>\n",
              "      <th>hour_noche</th>\n",
              "    </tr>\n",
              "  </thead>\n",
              "  <tbody>\n",
              "    <tr>\n",
              "      <th>0</th>\n",
              "      <td>40.721319</td>\n",
              "      <td>-73.844311</td>\n",
              "      <td>40.712278</td>\n",
              "      <td>-73.841610</td>\n",
              "      <td>1</td>\n",
              "      <td>15</td>\n",
              "      <td>6</td>\n",
              "      <td>2009</td>\n",
              "      <td>0</td>\n",
              "      <td>1</td>\n",
              "      <td>0</td>\n",
              "      <td>0</td>\n",
              "      <td>0</td>\n",
              "      <td>0</td>\n",
              "      <td>0</td>\n",
              "      <td>1</td>\n",
              "      <td>0</td>\n",
              "      <td>0</td>\n",
              "    </tr>\n",
              "    <tr>\n",
              "      <th>1</th>\n",
              "      <td>40.711303</td>\n",
              "      <td>-74.016048</td>\n",
              "      <td>40.782004</td>\n",
              "      <td>-73.979268</td>\n",
              "      <td>1</td>\n",
              "      <td>5</td>\n",
              "      <td>1</td>\n",
              "      <td>2010</td>\n",
              "      <td>0</td>\n",
              "      <td>0</td>\n",
              "      <td>0</td>\n",
              "      <td>0</td>\n",
              "      <td>0</td>\n",
              "      <td>1</td>\n",
              "      <td>0</td>\n",
              "      <td>1</td>\n",
              "      <td>0</td>\n",
              "      <td>0</td>\n",
              "    </tr>\n",
              "    <tr>\n",
              "      <th>2</th>\n",
              "      <td>40.761270</td>\n",
              "      <td>-73.982738</td>\n",
              "      <td>40.750562</td>\n",
              "      <td>-73.991242</td>\n",
              "      <td>2</td>\n",
              "      <td>18</td>\n",
              "      <td>8</td>\n",
              "      <td>2011</td>\n",
              "      <td>0</td>\n",
              "      <td>0</td>\n",
              "      <td>0</td>\n",
              "      <td>0</td>\n",
              "      <td>1</td>\n",
              "      <td>0</td>\n",
              "      <td>0</td>\n",
              "      <td>0</td>\n",
              "      <td>0</td>\n",
              "      <td>1</td>\n",
              "    </tr>\n",
              "    <tr>\n",
              "      <th>3</th>\n",
              "      <td>40.733143</td>\n",
              "      <td>-73.987130</td>\n",
              "      <td>40.758092</td>\n",
              "      <td>-73.991567</td>\n",
              "      <td>1</td>\n",
              "      <td>21</td>\n",
              "      <td>4</td>\n",
              "      <td>2012</td>\n",
              "      <td>0</td>\n",
              "      <td>0</td>\n",
              "      <td>1</td>\n",
              "      <td>0</td>\n",
              "      <td>0</td>\n",
              "      <td>0</td>\n",
              "      <td>0</td>\n",
              "      <td>0</td>\n",
              "      <td>0</td>\n",
              "      <td>1</td>\n",
              "    </tr>\n",
              "    <tr>\n",
              "      <th>4</th>\n",
              "      <td>40.768008</td>\n",
              "      <td>-73.968095</td>\n",
              "      <td>40.783762</td>\n",
              "      <td>-73.956655</td>\n",
              "      <td>1</td>\n",
              "      <td>9</td>\n",
              "      <td>3</td>\n",
              "      <td>2010</td>\n",
              "      <td>0</td>\n",
              "      <td>0</td>\n",
              "      <td>0</td>\n",
              "      <td>0</td>\n",
              "      <td>0</td>\n",
              "      <td>1</td>\n",
              "      <td>0</td>\n",
              "      <td>0</td>\n",
              "      <td>1</td>\n",
              "      <td>0</td>\n",
              "    </tr>\n",
              "  </tbody>\n",
              "</table>\n",
              "</div>"
            ],
            "text/plain": [
              "   pickup_latitude  pickup_longitude  ...  hour_manana  hour_noche\n",
              "0        40.721319        -73.844311  ...            0           0\n",
              "1        40.711303        -74.016048  ...            0           0\n",
              "2        40.761270        -73.982738  ...            0           1\n",
              "3        40.733143        -73.987130  ...            0           1\n",
              "4        40.768008        -73.968095  ...            1           0\n",
              "\n",
              "[5 rows x 18 columns]"
            ]
          },
          "metadata": {
            "tags": []
          },
          "execution_count": 32
        }
      ]
    },
    {
      "cell_type": "code",
      "metadata": {
        "id": "idcfItMaWkbi"
      },
      "source": [
        "from sklearn.ensemble import RandomForestRegressor\n",
        "BA_model = RandomForestRegressor(n_estimators = 100, \n",
        "                                  random_state = 1,max_depth = 8,n_jobs = 40)\n"
      ],
      "execution_count": 33,
      "outputs": []
    },
    {
      "cell_type": "code",
      "metadata": {
        "id": "nAKzcGazWl4s",
        "colab": {
          "base_uri": "https://localhost:8080/"
        },
        "outputId": "6c67aae0-9683-42e9-cc25-dba1ce7e7307"
      },
      "source": [
        "BA_model.fit(fareTrain, ObjTrain)"
      ],
      "execution_count": 34,
      "outputs": [
        {
          "output_type": "execute_result",
          "data": {
            "text/plain": [
              "RandomForestRegressor(bootstrap=True, ccp_alpha=0.0, criterion='mse',\n",
              "                      max_depth=8, max_features='auto', max_leaf_nodes=None,\n",
              "                      max_samples=None, min_impurity_decrease=0.0,\n",
              "                      min_impurity_split=None, min_samples_leaf=1,\n",
              "                      min_samples_split=2, min_weight_fraction_leaf=0.0,\n",
              "                      n_estimators=100, n_jobs=40, oob_score=False,\n",
              "                      random_state=1, verbose=0, warm_start=False)"
            ]
          },
          "metadata": {
            "tags": []
          },
          "execution_count": 34
        }
      ]
    },
    {
      "cell_type": "code",
      "metadata": {
        "id": "pDBxUBhdXNxT",
        "colab": {
          "base_uri": "https://localhost:8080/"
        },
        "outputId": "ae18db70-de63-4d9c-cb45-8552f23a2386"
      },
      "source": [
        "BA_model.score(fareTest, ObjTest)\n",
        "print(\"Caracteristicas importantes:\\n{}\".format(BA_model.feature_importances_))\n",
        "print(\"Exactitud:\",BA_model.score(fareTest, ObjTest))\n"
      ],
      "execution_count": 35,
      "outputs": [
        {
          "output_type": "stream",
          "text": [
            "Caracteristicas importantes:\n",
            "[8.00334756e-02 3.56868931e-01 9.61950309e-02 4.44042816e-01\n",
            " 2.50452223e-04 1.54065681e-04 1.64621300e-04 2.16018035e-02\n",
            " 2.89051122e-05 1.63987488e-05 1.82179075e-05 1.70336554e-05\n",
            " 1.65361027e-05 1.33864977e-05 1.67981948e-05 2.82965469e-05\n",
            " 2.82045575e-05 5.05026386e-04]\n",
            "Exactitud: 0.7129811066047231\n"
          ],
          "name": "stdout"
        }
      ]
    },
    {
      "cell_type": "code",
      "metadata": {
        "id": "j2pKhG8C_QAI",
        "colab": {
          "base_uri": "https://localhost:8080/",
          "height": 279
        },
        "outputId": "7df5512c-29d0-420a-bef9-8ae6d31af38b"
      },
      "source": [
        "import matplotlib.pyplot as plt\n",
        "def dibuja_caracteristicas_importantes_cancer(modelo):\n",
        "    n_caracteristica = X.shape[1]\n",
        "    plt.barh(range(n_caracteristica), modelo.feature_importances_, align='center')\n",
        "    plt.yticks(np.arange(n_caracteristica),list(X.columns))\n",
        "    plt.xlabel(\"Caracteristicas importantes\")\n",
        "    plt.ylabel(\"Caracteristica\")\n",
        "\n",
        "dibuja_caracteristicas_importantes_cancer(BA_model)"
      ],
      "execution_count": 36,
      "outputs": [
        {
          "output_type": "display_data",
          "data": {
            "image/png": "[encoded data removed]",
            "text/plain": [
              "<Figure size 432x288 with 1 Axes>"
            ]
          },
          "metadata": {
            "tags": [],
            "needs_background": "light"
          }
        }
      ]
    },
    {
      "cell_type": "code",
      "metadata": {
        "id": "tzcI45mhl0Yv"
      },
      "source": [
        "import multiprocessing\n",
        "multiprocessing.cpu_count()"
      ],
      "execution_count": null,
      "outputs": []
    },
    {
      "cell_type": "markdown",
      "metadata": {
        "id": "iojyqIovaHls"
      },
      "source": [
        "#### Normalización"
      ]
    },
    {
      "cell_type": "code",
      "metadata": {
        "colab": {
          "base_uri": "https://localhost:8080/",
          "height": 204
        },
        "id": "EbJz5X3PaGlp",
        "outputId": "2913d7a4-9b03-40d3-b3cc-026301e5a29a"
      },
      "source": [
        "from sklearn.preprocessing import MinMaxScaler\n",
        "scaler = MinMaxScaler()\n",
        "dfn = pd.DataFrame(scaler.fit_transform(df), columns = df.columns)\n",
        "dfn.head()"
      ],
      "execution_count": null,
      "outputs": [
        {
          "output_type": "execute_result",
          "data": {
            "text/html": [
              "<div>\n",
              "<style scoped>\n",
              "    .dataframe tbody tr th:only-of-type {\n",
              "        vertical-align: middle;\n",
              "    }\n",
              "\n",
              "    .dataframe tbody tr th {\n",
              "        vertical-align: top;\n",
              "    }\n",
              "\n",
              "    .dataframe thead th {\n",
              "        text-align: right;\n",
              "    }\n",
              "</style>\n",
              "<table border=\"1\" class=\"dataframe\">\n",
              "  <thead>\n",
              "    <tr style=\"text-align: right;\">\n",
              "      <th></th>\n",
              "      <th>key</th>\n",
              "      <th>fare_amount</th>\n",
              "      <th>pickup_datetime</th>\n",
              "      <th>pickup_longitude</th>\n",
              "      <th>pickup_latitude</th>\n",
              "      <th>dropoff_longitude</th>\n",
              "      <th>dropoff_latitude</th>\n",
              "      <th>passenger_count</th>\n",
              "    </tr>\n",
              "  </thead>\n",
              "  <tbody>\n",
              "    <tr>\n",
              "      <th>0</th>\n",
              "      <td>0.096626</td>\n",
              "      <td>0.256750</td>\n",
              "      <td>0.094779</td>\n",
              "      <td>0.486964</td>\n",
              "      <td>0.509565</td>\n",
              "      <td>0.487987</td>\n",
              "      <td>0.520137</td>\n",
              "      <td>0.004808</td>\n",
              "    </tr>\n",
              "    <tr>\n",
              "      <th>1</th>\n",
              "      <td>0.095404</td>\n",
              "      <td>0.254083</td>\n",
              "      <td>0.093577</td>\n",
              "      <td>0.486967</td>\n",
              "      <td>0.509570</td>\n",
              "      <td>0.487992</td>\n",
              "      <td>0.520145</td>\n",
              "      <td>0.014423</td>\n",
              "    </tr>\n",
              "    <tr>\n",
              "      <th>2</th>\n",
              "      <td>0.193632</td>\n",
              "      <td>0.259417</td>\n",
              "      <td>0.189024</td>\n",
              "      <td>0.486962</td>\n",
              "      <td>0.509562</td>\n",
              "      <td>0.487989</td>\n",
              "      <td>0.520142</td>\n",
              "      <td>0.004808</td>\n",
              "    </tr>\n",
              "    <tr>\n",
              "      <th>3</th>\n",
              "      <td>0.841936</td>\n",
              "      <td>0.255000</td>\n",
              "      <td>0.810950</td>\n",
              "      <td>0.486965</td>\n",
              "      <td>0.509566</td>\n",
              "      <td>0.487990</td>\n",
              "      <td>0.520143</td>\n",
              "      <td>0.009615</td>\n",
              "    </tr>\n",
              "    <tr>\n",
              "      <th>4</th>\n",
              "      <td>0.384110</td>\n",
              "      <td>0.260083</td>\n",
              "      <td>0.370704</td>\n",
              "      <td>0.486959</td>\n",
              "      <td>0.509561</td>\n",
              "      <td>0.487990</td>\n",
              "      <td>0.520142</td>\n",
              "      <td>0.004808</td>\n",
              "    </tr>\n",
              "  </tbody>\n",
              "</table>\n",
              "</div>"
            ],
            "text/plain": [
              "        key  fare_amount  ...  dropoff_latitude  passenger_count\n",
              "0  0.096626     0.256750  ...          0.520137         0.004808\n",
              "1  0.095404     0.254083  ...          0.520145         0.014423\n",
              "2  0.193632     0.259417  ...          0.520142         0.004808\n",
              "3  0.841936     0.255000  ...          0.520143         0.009615\n",
              "4  0.384110     0.260083  ...          0.520142         0.004808\n",
              "\n",
              "[5 rows x 8 columns]"
            ]
          },
          "metadata": {
            "tags": []
          },
          "execution_count": 26
        }
      ]
    },
    {
      "cell_type": "code",
      "metadata": {
        "colab": {
          "base_uri": "https://localhost:8080/",
          "height": 204
        },
        "id": "G_5dl9h4EZ_W",
        "outputId": "5cf82dfa-f15f-4717-a8ea-d7c2f338d470"
      },
      "source": [
        "# dff = pd.DataFrame(af, columns = ['key','fare_amount','pickup_datetime','pickup_longitude','pickup_latitude','dropoff_longitude','dropoff_latitude','passenger_count'])\n",
        "# dff.head()"
      ],
      "execution_count": null,
      "outputs": [
        {
          "output_type": "execute_result",
          "data": {
            "text/html": [
              "<div>\n",
              "<style scoped>\n",
              "    .dataframe tbody tr th:only-of-type {\n",
              "        vertical-align: middle;\n",
              "    }\n",
              "\n",
              "    .dataframe tbody tr th {\n",
              "        vertical-align: top;\n",
              "    }\n",
              "\n",
              "    .dataframe thead th {\n",
              "        text-align: right;\n",
              "    }\n",
              "</style>\n",
              "<table border=\"1\" class=\"dataframe\">\n",
              "  <thead>\n",
              "    <tr style=\"text-align: right;\">\n",
              "      <th></th>\n",
              "      <th>key</th>\n",
              "      <th>fare_amount</th>\n",
              "      <th>pickup_datetime</th>\n",
              "      <th>pickup_longitude</th>\n",
              "      <th>pickup_latitude</th>\n",
              "      <th>dropoff_longitude</th>\n",
              "      <th>dropoff_latitude</th>\n",
              "      <th>passenger_count</th>\n",
              "    </tr>\n",
              "  </thead>\n",
              "  <tbody>\n",
              "    <tr>\n",
              "      <th>0</th>\n",
              "      <td>0.096626</td>\n",
              "      <td>0.256750</td>\n",
              "      <td>0.094779</td>\n",
              "      <td>0.486964</td>\n",
              "      <td>0.509565</td>\n",
              "      <td>0.487987</td>\n",
              "      <td>0.520137</td>\n",
              "      <td>0.004808</td>\n",
              "    </tr>\n",
              "    <tr>\n",
              "      <th>1</th>\n",
              "      <td>0.095404</td>\n",
              "      <td>0.254083</td>\n",
              "      <td>0.093577</td>\n",
              "      <td>0.486967</td>\n",
              "      <td>0.509570</td>\n",
              "      <td>0.487992</td>\n",
              "      <td>0.520145</td>\n",
              "      <td>0.014423</td>\n",
              "    </tr>\n",
              "    <tr>\n",
              "      <th>2</th>\n",
              "      <td>0.193632</td>\n",
              "      <td>0.259417</td>\n",
              "      <td>0.189024</td>\n",
              "      <td>0.486962</td>\n",
              "      <td>0.509562</td>\n",
              "      <td>0.487989</td>\n",
              "      <td>0.520142</td>\n",
              "      <td>0.004808</td>\n",
              "    </tr>\n",
              "    <tr>\n",
              "      <th>3</th>\n",
              "      <td>0.841936</td>\n",
              "      <td>0.255000</td>\n",
              "      <td>0.810950</td>\n",
              "      <td>0.486965</td>\n",
              "      <td>0.509566</td>\n",
              "      <td>0.487990</td>\n",
              "      <td>0.520143</td>\n",
              "      <td>0.009615</td>\n",
              "    </tr>\n",
              "    <tr>\n",
              "      <th>4</th>\n",
              "      <td>0.384110</td>\n",
              "      <td>0.260083</td>\n",
              "      <td>0.370704</td>\n",
              "      <td>0.486959</td>\n",
              "      <td>0.509561</td>\n",
              "      <td>0.487990</td>\n",
              "      <td>0.520142</td>\n",
              "      <td>0.004808</td>\n",
              "    </tr>\n",
              "  </tbody>\n",
              "</table>\n",
              "</div>"
            ],
            "text/plain": [
              "        key  fare_amount  ...  dropoff_latitude  passenger_count\n",
              "0  0.096626     0.256750  ...          0.520137         0.004808\n",
              "1  0.095404     0.254083  ...          0.520145         0.014423\n",
              "2  0.193632     0.259417  ...          0.520142         0.004808\n",
              "3  0.841936     0.255000  ...          0.520143         0.009615\n",
              "4  0.384110     0.260083  ...          0.520142         0.004808\n",
              "\n",
              "[5 rows x 8 columns]"
            ]
          },
          "metadata": {
            "tags": []
          },
          "execution_count": 28
        }
      ]
    }
  ]
}