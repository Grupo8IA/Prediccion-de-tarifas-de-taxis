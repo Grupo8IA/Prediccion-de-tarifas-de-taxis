{
  "nbformat": 4,
  "nbformat_minor": 0,
  "metadata": {
    "accelerator": "TPU",
    "colab": {
      "name": "XGBRegressor.ipynb",
      "provenance": [],
      "collapsed_sections": [
        "Jy3Fi9ZV4y-W",
        "m13y9h8hRgU-"
      ],
      "machine_shape": "hm"
    },
    "kernelspec": {
      "display_name": "Python 3",
      "language": "python",
      "name": "python3"
    },
    "language_info": {
      "codemirror_mode": {
        "name": "ipython",
        "version": 3
      },
      "file_extension": ".py",
      "mimetype": "text/x-python",
      "name": "python",
      "nbconvert_exporter": "python",
      "pygments_lexer": "ipython3",
      "version": "3.8.8"
    }
  },
  "cells": [
    {
      "cell_type": "markdown",
      "metadata": {
        "id": "1MbmoMW92Nfq"
      },
      "source": [
        "# Modelo XGBRegressor"
      ]
    },
    {
      "cell_type": "code",
      "metadata": {
        "colab": {
          "base_uri": "https://localhost:8080/"
        },
        "id": "6X6KmsK62PI3",
        "outputId": "1da13fe5-9615-4466-ac78-fe838bf7a5d8"
      },
      "source": [
        "from google.colab import drive\n",
        "drive.mount('/gdrive')\n",
        "%cd /gdrive/MyDrive/iA/Data_PC2/\n",
        "%ls"
      ],
      "execution_count": 2,
      "outputs": [
        {
          "output_type": "stream",
          "text": [
            "Mounted at /gdrive\n",
            "/gdrive/MyDrive/iA/Data_PC2\n",
            " data             data2.csv.yaml        data_final.csv.yaml   train_data.csv\n",
            "'data2 (1).csv'   data.csv              data_final.hdf5\n",
            " data2.csv        data_final.csv        train.csv\n",
            " data2.csv.hdf5   data_final.csv.hdf5   train.csv.hdf5\n"
          ],
          "name": "stdout"
        }
      ]
    },
    {
      "cell_type": "markdown",
      "metadata": {
        "id": "nvT-Th5Nd93p"
      },
      "source": [
        "Importamos las librerias necesarias para ejecutar el modelo XGBRegressor"
      ]
    },
    {
      "cell_type": "code",
      "metadata": {
        "id": "Qbdn3XZD2SB6"
      },
      "source": [
        "import pandas as pd\n",
        "import numpy as np\n",
        "from xgboost import XGBRegressor\n",
        "from sklearn.model_selection import train_test_split\n",
        "from sklearn.model_selection import RepeatedKFold\n",
        "from sklearn.metrics import mean_squared_error\n",
        "from sklearn.model_selection import cross_val_score\n",
        "from sklearn.model_selection import ParameterGrid\n",
        "from sklearn.inspection import permutation_importance\n",
        "import matplotlib.pyplot as plt\n",
        "import seaborn as sns\n",
        "import multiprocessing\n",
        "\n",
        "import warnings\n",
        "warnings.filterwarnings('ignore')"
      ],
      "execution_count": 11,
      "outputs": []
    },
    {
      "cell_type": "markdown",
      "metadata": {
        "id": "5vFQXdKEddOT"
      },
      "source": [
        "Se importa la data limpia"
      ]
    },
    {
      "cell_type": "code",
      "metadata": {
        "id": "V_ZzNXAB2a3D"
      },
      "source": [
        "df = pd.read_csv(\"train_data.csv\")"
      ],
      "execution_count": 4,
      "outputs": []
    },
    {
      "cell_type": "code",
      "metadata": {
        "colab": {
          "base_uri": "https://localhost:8080/",
          "height": 309
        },
        "id": "wMhFkW_J2d73",
        "outputId": "7a7e1ce7-3461-4ce9-e9d7-280f1ad9fb2f"
      },
      "source": [
        "df.head()"
      ],
      "execution_count": 5,
      "outputs": [
        {
          "output_type": "execute_result",
          "data": {
            "text/html": [
              "<div>\n",
              "<style scoped>\n",
              "    .dataframe tbody tr th:only-of-type {\n",
              "        vertical-align: middle;\n",
              "    }\n",
              "\n",
              "    .dataframe tbody tr th {\n",
              "        vertical-align: top;\n",
              "    }\n",
              "\n",
              "    .dataframe thead th {\n",
              "        text-align: right;\n",
              "    }\n",
              "</style>\n",
              "<table border=\"1\" class=\"dataframe\">\n",
              "  <thead>\n",
              "    <tr style=\"text-align: right;\">\n",
              "      <th></th>\n",
              "      <th>key</th>\n",
              "      <th>pickup_datetime</th>\n",
              "      <th>pickup_latitude</th>\n",
              "      <th>pickup_longitude</th>\n",
              "      <th>dropoff_latitude</th>\n",
              "      <th>dropoff_longitude</th>\n",
              "      <th>passenger_count</th>\n",
              "      <th>fare_amount</th>\n",
              "      <th>day</th>\n",
              "      <th>hour</th>\n",
              "      <th>week</th>\n",
              "      <th>trayecto_nocturno</th>\n",
              "      <th>hora_punta</th>\n",
              "      <th>year</th>\n",
              "      <th>aeropuerto</th>\n",
              "      <th>day_of_month</th>\n",
              "    </tr>\n",
              "  </thead>\n",
              "  <tbody>\n",
              "    <tr>\n",
              "      <th>0</th>\n",
              "      <td>2014-02-19 07:22:00.00000074</td>\n",
              "      <td>2014-02-19 07:22:00 UTC</td>\n",
              "      <td>40.760465</td>\n",
              "      <td>-73.986430</td>\n",
              "      <td>40.737075</td>\n",
              "      <td>-73.988990</td>\n",
              "      <td>1</td>\n",
              "      <td>12.50</td>\n",
              "      <td>2</td>\n",
              "      <td>7.366667</td>\n",
              "      <td>8</td>\n",
              "      <td>0</td>\n",
              "      <td>0</td>\n",
              "      <td>2014</td>\n",
              "      <td>0</td>\n",
              "      <td>19</td>\n",
              "    </tr>\n",
              "    <tr>\n",
              "      <th>1</th>\n",
              "      <td>2014-12-06 20:36:22.0000008</td>\n",
              "      <td>2014-12-06 20:36:22 UTC</td>\n",
              "      <td>40.751902</td>\n",
              "      <td>-73.979815</td>\n",
              "      <td>40.755481</td>\n",
              "      <td>-73.979446</td>\n",
              "      <td>1</td>\n",
              "      <td>4.00</td>\n",
              "      <td>5</td>\n",
              "      <td>20.600000</td>\n",
              "      <td>49</td>\n",
              "      <td>1</td>\n",
              "      <td>1</td>\n",
              "      <td>2014</td>\n",
              "      <td>0</td>\n",
              "      <td>6</td>\n",
              "    </tr>\n",
              "    <tr>\n",
              "      <th>2</th>\n",
              "      <td>2014-02-19 16:03:00.000000160</td>\n",
              "      <td>2014-02-19 16:03:00 UTC</td>\n",
              "      <td>40.752422</td>\n",
              "      <td>-73.976075</td>\n",
              "      <td>40.759285</td>\n",
              "      <td>-73.981082</td>\n",
              "      <td>1</td>\n",
              "      <td>5.50</td>\n",
              "      <td>2</td>\n",
              "      <td>16.050000</td>\n",
              "      <td>8</td>\n",
              "      <td>0</td>\n",
              "      <td>1</td>\n",
              "      <td>2014</td>\n",
              "      <td>0</td>\n",
              "      <td>19</td>\n",
              "    </tr>\n",
              "    <tr>\n",
              "      <th>3</th>\n",
              "      <td>2015-06-21 21:46:34.0000001</td>\n",
              "      <td>2015-06-21 21:46:34 UTC</td>\n",
              "      <td>40.717667</td>\n",
              "      <td>-74.010483</td>\n",
              "      <td>40.660366</td>\n",
              "      <td>-73.985771</td>\n",
              "      <td>1</td>\n",
              "      <td>22.54</td>\n",
              "      <td>6</td>\n",
              "      <td>21.766667</td>\n",
              "      <td>25</td>\n",
              "      <td>1</td>\n",
              "      <td>0</td>\n",
              "      <td>2015</td>\n",
              "      <td>0</td>\n",
              "      <td>21</td>\n",
              "    </tr>\n",
              "    <tr>\n",
              "      <th>4</th>\n",
              "      <td>2015-01-11 03:15:38.0000001</td>\n",
              "      <td>2015-01-11 03:15:38 UTC</td>\n",
              "      <td>40.738720</td>\n",
              "      <td>-73.983330</td>\n",
              "      <td>40.847225</td>\n",
              "      <td>-73.933197</td>\n",
              "      <td>1</td>\n",
              "      <td>58.00</td>\n",
              "      <td>6</td>\n",
              "      <td>3.250000</td>\n",
              "      <td>2</td>\n",
              "      <td>1</td>\n",
              "      <td>0</td>\n",
              "      <td>2015</td>\n",
              "      <td>0</td>\n",
              "      <td>11</td>\n",
              "    </tr>\n",
              "  </tbody>\n",
              "</table>\n",
              "</div>"
            ],
            "text/plain": [
              "                             key  ... day_of_month\n",
              "0   2014-02-19 07:22:00.00000074  ...           19\n",
              "1    2014-12-06 20:36:22.0000008  ...            6\n",
              "2  2014-02-19 16:03:00.000000160  ...           19\n",
              "3    2015-06-21 21:46:34.0000001  ...           21\n",
              "4    2015-01-11 03:15:38.0000001  ...           11\n",
              "\n",
              "[5 rows x 16 columns]"
            ]
          },
          "metadata": {
            "tags": []
          },
          "execution_count": 5
        }
      ]
    },
    {
      "cell_type": "markdown",
      "metadata": {
        "id": "AkjXct05eQsc"
      },
      "source": [
        "Cambiamos el año que es una variable categorica y convertimos en una variable numerica."
      ]
    },
    {
      "cell_type": "code",
      "metadata": {
        "id": "UDE-It4Ns9gO"
      },
      "source": [
        "df = pd.get_dummies(df, columns=['year'])"
      ],
      "execution_count": 6,
      "outputs": []
    },
    {
      "cell_type": "code",
      "metadata": {
        "colab": {
          "base_uri": "https://localhost:8080/",
          "height": 309
        },
        "id": "QIksTf4i5sHr",
        "outputId": "0980cb8f-21fa-41b9-c054-16a5f39e13c9"
      },
      "source": [
        "df.head()"
      ],
      "execution_count": 7,
      "outputs": [
        {
          "output_type": "execute_result",
          "data": {
            "text/html": [
              "<div>\n",
              "<style scoped>\n",
              "    .dataframe tbody tr th:only-of-type {\n",
              "        vertical-align: middle;\n",
              "    }\n",
              "\n",
              "    .dataframe tbody tr th {\n",
              "        vertical-align: top;\n",
              "    }\n",
              "\n",
              "    .dataframe thead th {\n",
              "        text-align: right;\n",
              "    }\n",
              "</style>\n",
              "<table border=\"1\" class=\"dataframe\">\n",
              "  <thead>\n",
              "    <tr style=\"text-align: right;\">\n",
              "      <th></th>\n",
              "      <th>key</th>\n",
              "      <th>pickup_datetime</th>\n",
              "      <th>pickup_latitude</th>\n",
              "      <th>pickup_longitude</th>\n",
              "      <th>dropoff_latitude</th>\n",
              "      <th>dropoff_longitude</th>\n",
              "      <th>passenger_count</th>\n",
              "      <th>fare_amount</th>\n",
              "      <th>day</th>\n",
              "      <th>hour</th>\n",
              "      <th>week</th>\n",
              "      <th>trayecto_nocturno</th>\n",
              "      <th>hora_punta</th>\n",
              "      <th>aeropuerto</th>\n",
              "      <th>day_of_month</th>\n",
              "      <th>year_2014</th>\n",
              "      <th>year_2015</th>\n",
              "    </tr>\n",
              "  </thead>\n",
              "  <tbody>\n",
              "    <tr>\n",
              "      <th>0</th>\n",
              "      <td>2014-02-19 07:22:00.00000074</td>\n",
              "      <td>2014-02-19 07:22:00 UTC</td>\n",
              "      <td>40.760465</td>\n",
              "      <td>-73.986430</td>\n",
              "      <td>40.737075</td>\n",
              "      <td>-73.988990</td>\n",
              "      <td>1</td>\n",
              "      <td>12.50</td>\n",
              "      <td>2</td>\n",
              "      <td>7.366667</td>\n",
              "      <td>8</td>\n",
              "      <td>0</td>\n",
              "      <td>0</td>\n",
              "      <td>0</td>\n",
              "      <td>19</td>\n",
              "      <td>1</td>\n",
              "      <td>0</td>\n",
              "    </tr>\n",
              "    <tr>\n",
              "      <th>1</th>\n",
              "      <td>2014-12-06 20:36:22.0000008</td>\n",
              "      <td>2014-12-06 20:36:22 UTC</td>\n",
              "      <td>40.751902</td>\n",
              "      <td>-73.979815</td>\n",
              "      <td>40.755481</td>\n",
              "      <td>-73.979446</td>\n",
              "      <td>1</td>\n",
              "      <td>4.00</td>\n",
              "      <td>5</td>\n",
              "      <td>20.600000</td>\n",
              "      <td>49</td>\n",
              "      <td>1</td>\n",
              "      <td>1</td>\n",
              "      <td>0</td>\n",
              "      <td>6</td>\n",
              "      <td>1</td>\n",
              "      <td>0</td>\n",
              "    </tr>\n",
              "    <tr>\n",
              "      <th>2</th>\n",
              "      <td>2014-02-19 16:03:00.000000160</td>\n",
              "      <td>2014-02-19 16:03:00 UTC</td>\n",
              "      <td>40.752422</td>\n",
              "      <td>-73.976075</td>\n",
              "      <td>40.759285</td>\n",
              "      <td>-73.981082</td>\n",
              "      <td>1</td>\n",
              "      <td>5.50</td>\n",
              "      <td>2</td>\n",
              "      <td>16.050000</td>\n",
              "      <td>8</td>\n",
              "      <td>0</td>\n",
              "      <td>1</td>\n",
              "      <td>0</td>\n",
              "      <td>19</td>\n",
              "      <td>1</td>\n",
              "      <td>0</td>\n",
              "    </tr>\n",
              "    <tr>\n",
              "      <th>3</th>\n",
              "      <td>2015-06-21 21:46:34.0000001</td>\n",
              "      <td>2015-06-21 21:46:34 UTC</td>\n",
              "      <td>40.717667</td>\n",
              "      <td>-74.010483</td>\n",
              "      <td>40.660366</td>\n",
              "      <td>-73.985771</td>\n",
              "      <td>1</td>\n",
              "      <td>22.54</td>\n",
              "      <td>6</td>\n",
              "      <td>21.766667</td>\n",
              "      <td>25</td>\n",
              "      <td>1</td>\n",
              "      <td>0</td>\n",
              "      <td>0</td>\n",
              "      <td>21</td>\n",
              "      <td>0</td>\n",
              "      <td>1</td>\n",
              "    </tr>\n",
              "    <tr>\n",
              "      <th>4</th>\n",
              "      <td>2015-01-11 03:15:38.0000001</td>\n",
              "      <td>2015-01-11 03:15:38 UTC</td>\n",
              "      <td>40.738720</td>\n",
              "      <td>-73.983330</td>\n",
              "      <td>40.847225</td>\n",
              "      <td>-73.933197</td>\n",
              "      <td>1</td>\n",
              "      <td>58.00</td>\n",
              "      <td>6</td>\n",
              "      <td>3.250000</td>\n",
              "      <td>2</td>\n",
              "      <td>1</td>\n",
              "      <td>0</td>\n",
              "      <td>0</td>\n",
              "      <td>11</td>\n",
              "      <td>0</td>\n",
              "      <td>1</td>\n",
              "    </tr>\n",
              "  </tbody>\n",
              "</table>\n",
              "</div>"
            ],
            "text/plain": [
              "                             key          pickup_datetime  ...  year_2014  year_2015\n",
              "0   2014-02-19 07:22:00.00000074  2014-02-19 07:22:00 UTC  ...          1          0\n",
              "1    2014-12-06 20:36:22.0000008  2014-12-06 20:36:22 UTC  ...          1          0\n",
              "2  2014-02-19 16:03:00.000000160  2014-02-19 16:03:00 UTC  ...          1          0\n",
              "3    2015-06-21 21:46:34.0000001  2015-06-21 21:46:34 UTC  ...          0          1\n",
              "4    2015-01-11 03:15:38.0000001  2015-01-11 03:15:38 UTC  ...          0          1\n",
              "\n",
              "[5 rows x 17 columns]"
            ]
          },
          "metadata": {
            "tags": []
          },
          "execution_count": 7
        }
      ]
    },
    {
      "cell_type": "markdown",
      "metadata": {
        "id": "pkPixHCmj3sr"
      },
      "source": [
        "Separamos nuestros datos donde: X son las variables predicatoras , y la variable objetivo."
      ]
    },
    {
      "cell_type": "code",
      "metadata": {
        "id": "e4h-FJ_Vp5Sv"
      },
      "source": [
        "X = df.drop(['key',\t'pickup_datetime', 'fare_amount'], axis=1)\n",
        "y = df[['fare_amount']]"
      ],
      "execution_count": 8,
      "outputs": []
    },
    {
      "cell_type": "code",
      "metadata": {
        "colab": {
          "base_uri": "https://localhost:8080/",
          "height": 224
        },
        "id": "vq3je7WchLJX",
        "outputId": "63570401-303a-40cc-b6d0-6bb6d6333005"
      },
      "source": [
        "X.head()"
      ],
      "execution_count": 9,
      "outputs": [
        {
          "output_type": "execute_result",
          "data": {
            "text/html": [
              "<div>\n",
              "<style scoped>\n",
              "    .dataframe tbody tr th:only-of-type {\n",
              "        vertical-align: middle;\n",
              "    }\n",
              "\n",
              "    .dataframe tbody tr th {\n",
              "        vertical-align: top;\n",
              "    }\n",
              "\n",
              "    .dataframe thead th {\n",
              "        text-align: right;\n",
              "    }\n",
              "</style>\n",
              "<table border=\"1\" class=\"dataframe\">\n",
              "  <thead>\n",
              "    <tr style=\"text-align: right;\">\n",
              "      <th></th>\n",
              "      <th>pickup_latitude</th>\n",
              "      <th>pickup_longitude</th>\n",
              "      <th>dropoff_latitude</th>\n",
              "      <th>dropoff_longitude</th>\n",
              "      <th>passenger_count</th>\n",
              "      <th>day</th>\n",
              "      <th>hour</th>\n",
              "      <th>week</th>\n",
              "      <th>trayecto_nocturno</th>\n",
              "      <th>hora_punta</th>\n",
              "      <th>aeropuerto</th>\n",
              "      <th>day_of_month</th>\n",
              "      <th>year_2014</th>\n",
              "      <th>year_2015</th>\n",
              "    </tr>\n",
              "  </thead>\n",
              "  <tbody>\n",
              "    <tr>\n",
              "      <th>0</th>\n",
              "      <td>40.760465</td>\n",
              "      <td>-73.986430</td>\n",
              "      <td>40.737075</td>\n",
              "      <td>-73.988990</td>\n",
              "      <td>1</td>\n",
              "      <td>2</td>\n",
              "      <td>7.366667</td>\n",
              "      <td>8</td>\n",
              "      <td>0</td>\n",
              "      <td>0</td>\n",
              "      <td>0</td>\n",
              "      <td>19</td>\n",
              "      <td>1</td>\n",
              "      <td>0</td>\n",
              "    </tr>\n",
              "    <tr>\n",
              "      <th>1</th>\n",
              "      <td>40.751902</td>\n",
              "      <td>-73.979815</td>\n",
              "      <td>40.755481</td>\n",
              "      <td>-73.979446</td>\n",
              "      <td>1</td>\n",
              "      <td>5</td>\n",
              "      <td>20.600000</td>\n",
              "      <td>49</td>\n",
              "      <td>1</td>\n",
              "      <td>1</td>\n",
              "      <td>0</td>\n",
              "      <td>6</td>\n",
              "      <td>1</td>\n",
              "      <td>0</td>\n",
              "    </tr>\n",
              "    <tr>\n",
              "      <th>2</th>\n",
              "      <td>40.752422</td>\n",
              "      <td>-73.976075</td>\n",
              "      <td>40.759285</td>\n",
              "      <td>-73.981082</td>\n",
              "      <td>1</td>\n",
              "      <td>2</td>\n",
              "      <td>16.050000</td>\n",
              "      <td>8</td>\n",
              "      <td>0</td>\n",
              "      <td>1</td>\n",
              "      <td>0</td>\n",
              "      <td>19</td>\n",
              "      <td>1</td>\n",
              "      <td>0</td>\n",
              "    </tr>\n",
              "    <tr>\n",
              "      <th>3</th>\n",
              "      <td>40.717667</td>\n",
              "      <td>-74.010483</td>\n",
              "      <td>40.660366</td>\n",
              "      <td>-73.985771</td>\n",
              "      <td>1</td>\n",
              "      <td>6</td>\n",
              "      <td>21.766667</td>\n",
              "      <td>25</td>\n",
              "      <td>1</td>\n",
              "      <td>0</td>\n",
              "      <td>0</td>\n",
              "      <td>21</td>\n",
              "      <td>0</td>\n",
              "      <td>1</td>\n",
              "    </tr>\n",
              "    <tr>\n",
              "      <th>4</th>\n",
              "      <td>40.738720</td>\n",
              "      <td>-73.983330</td>\n",
              "      <td>40.847225</td>\n",
              "      <td>-73.933197</td>\n",
              "      <td>1</td>\n",
              "      <td>6</td>\n",
              "      <td>3.250000</td>\n",
              "      <td>2</td>\n",
              "      <td>1</td>\n",
              "      <td>0</td>\n",
              "      <td>0</td>\n",
              "      <td>11</td>\n",
              "      <td>0</td>\n",
              "      <td>1</td>\n",
              "    </tr>\n",
              "  </tbody>\n",
              "</table>\n",
              "</div>"
            ],
            "text/plain": [
              "   pickup_latitude  pickup_longitude  ...  year_2014  year_2015\n",
              "0        40.760465        -73.986430  ...          1          0\n",
              "1        40.751902        -73.979815  ...          1          0\n",
              "2        40.752422        -73.976075  ...          1          0\n",
              "3        40.717667        -74.010483  ...          0          1\n",
              "4        40.738720        -73.983330  ...          0          1\n",
              "\n",
              "[5 rows x 14 columns]"
            ]
          },
          "metadata": {
            "tags": []
          },
          "execution_count": 9
        }
      ]
    },
    {
      "cell_type": "markdown",
      "metadata": {
        "id": "4u7ldj1mmkQs"
      },
      "source": [
        "## Diagrama "
      ]
    },
    {
      "cell_type": "code",
      "metadata": {
        "id": "4C5MawWp1iw0",
        "colab": {
          "base_uri": "https://localhost:8080/",
          "height": 638
        },
        "outputId": "2ed93f3d-6f45-4655-ff99-ac31ae8cea37"
      },
      "source": [
        "fig, axes = plt.subplots(figsize=(20,15), ncols=2, nrows=4)\n",
        "sns.kdeplot(X['passenger_count'], shade=True, ax=axes[0,0])\n",
        "sns.kdeplot(X['day'], shade=True, ax=axes[0,1])\n",
        "sns.kdeplot(X['hour'], shade=True, ax=axes[1,0])\n",
        "sns.kdeplot(X['week'], shade=True, ax=axes[1,1])\n",
        "sns.kdeplot(X['trayecto_nocturno'], shade=True, ax=axes[2,0])\n",
        "sns.kdeplot(X['hora_punta'], shade=True, ax=axes[2,1])\n",
        "sns.kdeplot(X['aeropuerto'], shade=True, ax=axes[3,0])\n",
        "sns.kdeplot(X['day_of_month'], shade=True, ax=axes[3,1])\n",
        "plt.tight_layout()"
      ],
      "execution_count": 14,
      "outputs": [
        {
          "output_type": "display_data",
          "data": {
            "image/png": "[encoded data removed]",
            "text/plain": [
              "<Figure size 1440x1080 with 8 Axes>"
            ]
          },
          "metadata": {
            "tags": [],
            "needs_background": "light"
          }
        }
      ]
    },
    {
      "cell_type": "markdown",
      "metadata": {
        "id": "OHw32WbWfA2-"
      },
      "source": [
        "Realizamos el preprocesamiento"
      ]
    },
    {
      "cell_type": "code",
      "metadata": {
        "id": "kOd2l7ZYiYHH"
      },
      "source": [
        "from sklearn.preprocessing import MinMaxScaler, Normalizer\n",
        "scaler = MinMaxScaler()\n",
        "normalizer = Normalizer()\n",
        "\n",
        "coordenadas = ['pickup_latitude', 'pickup_longitude', 'dropoff_latitude', 'dropoff_longitude']\n",
        "tiempo  = ['day', 'hour','week', 'day_of_month']\n",
        "numericas = ['passenger_count','trayecto_nocturno','hora_punta','aeropuerto','year_2014',\t'year_2015']\n",
        "\n",
        "dfc = pd.DataFrame(scaler.fit_transform(X[coordenadas]), columns = coordenadas)\n",
        "dft = pd.DataFrame(normalizer.fit_transform(X[tiempo]), columns= tiempo)"
      ],
      "execution_count": 9,
      "outputs": []
    },
    {
      "cell_type": "code",
      "metadata": {
        "colab": {
          "base_uri": "https://localhost:8080/",
          "height": 224
        },
        "id": "gfel4YHr5za2",
        "outputId": "3d0842b5-9096-481a-db02-277ea4c202a2"
      },
      "source": [
        "X = pd.concat([dfc, dft, df[numericas]],axis=1)\n",
        "X.head()"
      ],
      "execution_count": 10,
      "outputs": [
        {
          "output_type": "execute_result",
          "data": {
            "text/html": [
              "<div>\n",
              "<style scoped>\n",
              "    .dataframe tbody tr th:only-of-type {\n",
              "        vertical-align: middle;\n",
              "    }\n",
              "\n",
              "    .dataframe tbody tr th {\n",
              "        vertical-align: top;\n",
              "    }\n",
              "\n",
              "    .dataframe thead th {\n",
              "        text-align: right;\n",
              "    }\n",
              "</style>\n",
              "<table border=\"1\" class=\"dataframe\">\n",
              "  <thead>\n",
              "    <tr style=\"text-align: right;\">\n",
              "      <th></th>\n",
              "      <th>pickup_latitude</th>\n",
              "      <th>pickup_longitude</th>\n",
              "      <th>dropoff_latitude</th>\n",
              "      <th>dropoff_longitude</th>\n",
              "      <th>day</th>\n",
              "      <th>hour</th>\n",
              "      <th>week</th>\n",
              "      <th>day_of_month</th>\n",
              "      <th>passenger_count</th>\n",
              "      <th>trayecto_nocturno</th>\n",
              "      <th>hora_punta</th>\n",
              "      <th>aeropuerto</th>\n",
              "      <th>year_2014</th>\n",
              "      <th>year_2015</th>\n",
              "    </tr>\n",
              "  </thead>\n",
              "  <tbody>\n",
              "    <tr>\n",
              "      <th>0</th>\n",
              "      <td>0.732555</td>\n",
              "      <td>0.393240</td>\n",
              "      <td>0.468464</td>\n",
              "      <td>0.845574</td>\n",
              "      <td>0.090978</td>\n",
              "      <td>0.335102</td>\n",
              "      <td>0.363912</td>\n",
              "      <td>0.864290</td>\n",
              "      <td>1</td>\n",
              "      <td>0</td>\n",
              "      <td>0</td>\n",
              "      <td>0</td>\n",
              "      <td>1</td>\n",
              "      <td>0</td>\n",
              "    </tr>\n",
              "    <tr>\n",
              "      <th>1</th>\n",
              "      <td>0.732398</td>\n",
              "      <td>0.393294</td>\n",
              "      <td>0.469529</td>\n",
              "      <td>0.845742</td>\n",
              "      <td>0.093067</td>\n",
              "      <td>0.383435</td>\n",
              "      <td>0.912055</td>\n",
              "      <td>0.111680</td>\n",
              "      <td>1</td>\n",
              "      <td>1</td>\n",
              "      <td>1</td>\n",
              "      <td>0</td>\n",
              "      <td>1</td>\n",
              "      <td>0</td>\n",
              "    </tr>\n",
              "    <tr>\n",
              "      <th>2</th>\n",
              "      <td>0.732408</td>\n",
              "      <td>0.393325</td>\n",
              "      <td>0.469749</td>\n",
              "      <td>0.845713</td>\n",
              "      <td>0.076327</td>\n",
              "      <td>0.612523</td>\n",
              "      <td>0.305307</td>\n",
              "      <td>0.725105</td>\n",
              "      <td>1</td>\n",
              "      <td>0</td>\n",
              "      <td>1</td>\n",
              "      <td>0</td>\n",
              "      <td>1</td>\n",
              "      <td>0</td>\n",
              "    </tr>\n",
              "    <tr>\n",
              "      <th>3</th>\n",
              "      <td>0.731772</td>\n",
              "      <td>0.393043</td>\n",
              "      <td>0.464029</td>\n",
              "      <td>0.845630</td>\n",
              "      <td>0.151148</td>\n",
              "      <td>0.548331</td>\n",
              "      <td>0.629783</td>\n",
              "      <td>0.529018</td>\n",
              "      <td>1</td>\n",
              "      <td>1</td>\n",
              "      <td>0</td>\n",
              "      <td>0</td>\n",
              "      <td>0</td>\n",
              "      <td>1</td>\n",
              "    </tr>\n",
              "    <tr>\n",
              "      <th>4</th>\n",
              "      <td>0.732157</td>\n",
              "      <td>0.393266</td>\n",
              "      <td>0.474833</td>\n",
              "      <td>0.846558</td>\n",
              "      <td>0.458079</td>\n",
              "      <td>0.248126</td>\n",
              "      <td>0.152693</td>\n",
              "      <td>0.839811</td>\n",
              "      <td>1</td>\n",
              "      <td>1</td>\n",
              "      <td>0</td>\n",
              "      <td>0</td>\n",
              "      <td>0</td>\n",
              "      <td>1</td>\n",
              "    </tr>\n",
              "  </tbody>\n",
              "</table>\n",
              "</div>"
            ],
            "text/plain": [
              "   pickup_latitude  pickup_longitude  ...  year_2014  year_2015\n",
              "0         0.732555          0.393240  ...          1          0\n",
              "1         0.732398          0.393294  ...          1          0\n",
              "2         0.732408          0.393325  ...          1          0\n",
              "3         0.731772          0.393043  ...          0          1\n",
              "4         0.732157          0.393266  ...          0          1\n",
              "\n",
              "[5 rows x 14 columns]"
            ]
          },
          "metadata": {
            "tags": []
          },
          "execution_count": 10
        }
      ]
    },
    {
      "cell_type": "markdown",
      "metadata": {
        "id": "ECsyp6ZwfcLM"
      },
      "source": [
        "Dividimos la data total en 70% de para el entrenamiento y el 30% para la prueba."
      ]
    },
    {
      "cell_type": "code",
      "metadata": {
        "id": "EwAl6QUp5FHp"
      },
      "source": [
        "X_train, X_test, y_train, y_test = train_test_split(X, y, test_size=0.3,random_state=1000)"
      ],
      "execution_count": 11,
      "outputs": []
    },
    {
      "cell_type": "markdown",
      "metadata": {
        "id": "vZXuuVyihl18"
      },
      "source": [
        "## Realizamos un primer entrenamiento con el modelo XGBRegressor"
      ]
    },
    {
      "cell_type": "code",
      "metadata": {
        "id": "FTn0z7MK5OM_"
      },
      "source": [
        "reg_model = XGBRegressor(\n",
        "    max_depth = 9,\n",
        "    learning_rate = 0.6,\n",
        "    silent  = True,\n",
        "    objective = 'reg:squarederror',\n",
        "    booster = 'gbtree',\n",
        "    nthread = -1,\n",
        "    subsample = 0.8,\n",
        "    colsample_bytree  =1.0, \n",
        "    colsample_bylevel =0.9, \n",
        "    seed              =2019,\n",
        "    missing           =0.0, \n",
        ")"
      ],
      "execution_count": 12,
      "outputs": []
    },
    {
      "cell_type": "code",
      "metadata": {
        "id": "lw7FVf0o6wlL"
      },
      "source": [
        "model = reg_model.fit(X=X_train,\n",
        "                      y=y_train, \n",
        "                      sample_weight=np.ones(X_train.shape[0]),\n",
        "                      eval_set=[(X_train, y_train), (X_test, y_test)],\n",
        "                      eval_metric = 'rmse',\n",
        "                      early_stopping_rounds=10,\n",
        "                      verbose=False,\n",
        "                      xgb_model=None)"
      ],
      "execution_count": 13,
      "outputs": []
    },
    {
      "cell_type": "code",
      "metadata": {
        "id": "2fifugmH79QJ"
      },
      "source": [
        "predict = model.predict(X_train)"
      ],
      "execution_count": 14,
      "outputs": []
    },
    {
      "cell_type": "code",
      "metadata": {
        "colab": {
          "base_uri": "https://localhost:8080/"
        },
        "id": "7gpufetk-EmN",
        "outputId": "95416021-a9ba-4141-eba5-ad279efcddfd"
      },
      "source": [
        "mse_train = mean_squared_error(y_train, predict)\n",
        "rmse_train = np.sqrt(mse_train)\n",
        "print(\"RMSE para el train {}\".format(rmse_train))"
      ],
      "execution_count": 15,
      "outputs": [
        {
          "output_type": "stream",
          "text": [
            "RMSE para el train 3.2831594683002447\n"
          ],
          "name": "stdout"
        }
      ]
    },
    {
      "cell_type": "code",
      "metadata": {
        "id": "aztxOkei-rRZ"
      },
      "source": [
        "predict = model.predict(X_test)"
      ],
      "execution_count": 16,
      "outputs": []
    },
    {
      "cell_type": "code",
      "metadata": {
        "colab": {
          "base_uri": "https://localhost:8080/"
        },
        "id": "5MZ8-DLU-uwH",
        "outputId": "ce9de8f7-4b90-4b5e-e4b3-8810591f92ba"
      },
      "source": [
        "mse_test = mean_squared_error(y_test, predict)\n",
        "rmse_test = np.sqrt(mse_test)\n",
        "print(\"RMSE para el test {}\".format(rmse_test))"
      ],
      "execution_count": 17,
      "outputs": [
        {
          "output_type": "stream",
          "text": [
            "RMSE para el train 3.4822300762412004\n"
          ],
          "name": "stdout"
        }
      ]
    },
    {
      "cell_type": "code",
      "metadata": {
        "colab": {
          "base_uri": "https://localhost:8080/"
        },
        "id": "1iTfUc3s_KqU",
        "outputId": "b90f3e8a-de02-4f09-8d14-62781bc6ab76"
      },
      "source": [
        "print(\"score: {:.3f}\".format(model.score(X_train, y_train)))"
      ],
      "execution_count": 18,
      "outputs": [
        {
          "output_type": "stream",
          "text": [
            "score: 0.899\n"
          ],
          "name": "stdout"
        }
      ]
    },
    {
      "cell_type": "code",
      "metadata": {
        "colab": {
          "base_uri": "https://localhost:8080/"
        },
        "id": "gE9i1Yaq-_kX",
        "outputId": "e7b3f0ee-fca3-4c0c-93dc-4e31cde1021d"
      },
      "source": [
        "print(\"score: {:.3f}\".format(model.score(X_test, y_test)))"
      ],
      "execution_count": 19,
      "outputs": [
        {
          "output_type": "stream",
          "text": [
            "score: 0.887\n"
          ],
          "name": "stdout"
        }
      ]
    },
    {
      "cell_type": "markdown",
      "metadata": {
        "id": "gGVlfixYhwjB"
      },
      "source": [
        "Grafico donde se ve las caracteristicas importantes de cada caracteristicas."
      ]
    },
    {
      "cell_type": "code",
      "metadata": {
        "colab": {
          "base_uri": "https://localhost:8080/",
          "height": 279
        },
        "id": "Gg262LOS9Idb",
        "outputId": "dabf645f-350f-4048-c282-fe47e96d54f6"
      },
      "source": [
        "def dibuja_caracteristicas_importantes(modelo):\n",
        "    n_caracteristica = X.shape[1]\n",
        "    plt.barh(range(n_caracteristica), model.feature_importances_, align='center')\n",
        "    plt.yticks(np.arange(n_caracteristica),list(X.columns))\n",
        "    plt.xlabel(\"Caracteristicas importantes\")\n",
        "    plt.ylabel(\"Caracteristica\")\n",
        "\n",
        "dibuja_caracteristicas_importantes(model)"
      ],
      "execution_count": 20,
      "outputs": [
        {
          "output_type": "display_data",
          "data": {
            "image/png": "[encoded data removed]",
            "text/plain": [
              "<Figure size 432x288 with 1 Axes>"
            ]
          },
          "metadata": {
            "tags": [],
            "needs_background": "light"
          }
        }
      ]
    },
    {
      "cell_type": "markdown",
      "metadata": {
        "id": "dZUYOynQ6V_B"
      },
      "source": [
        "## Ahora usamos con una Grilla Simple para encontrar en mejor parametro"
      ]
    },
    {
      "cell_type": "markdown",
      "metadata": {
        "id": "LfqRejnpiGYh"
      },
      "source": [
        "Dividimos la data :\n",
        "\n",
        "\n",
        "*   X_trainval , X_test, y_trainval, y_test : en una proporción de de 70 - 30.\n",
        "*   X_train, X_val, y_train, y_val : en una proporción de 70 - 30.\n",
        "\n"
      ]
    },
    {
      "cell_type": "code",
      "metadata": {
        "id": "40bmKgZx7x6C"
      },
      "source": [
        "X_trainval, X_test, y_trainval, y_test = train_test_split(X, y, test_size=0.3,random_state=100)\n",
        "X_train, X_val, y_train, y_val = train_test_split(X_trainval, y_trainval, test_size=0.3,random_state=100)"
      ],
      "execution_count": 22,
      "outputs": []
    },
    {
      "cell_type": "code",
      "metadata": {
        "colab": {
          "base_uri": "https://localhost:8080/"
        },
        "id": "GmOx5esd6n-_",
        "outputId": "84d11fb1-e7cd-4a00-cf72-61c341196eb8"
      },
      "source": [
        "mejor_puntuacion  = 0\n",
        "\n",
        "for max_depth in  [7, 8, 9]:\n",
        "  for learning_rate in [0.3, 0.4, 0.5]:\n",
        "\n",
        "    reg_model = XGBRegressor(\n",
        "        max_depth = max_depth,\n",
        "        learning_rate = learning_rate,\n",
        "        silent  = True,\n",
        "        objective = 'reg:squarederror',\n",
        "        booster = 'gbtree',\n",
        "        n_jobs  = multiprocessing.cpu_count()-1,\n",
        "        subsample = 0.8,\n",
        "        colsample_bytree  =1.0, \n",
        "        colsample_bylevel =0.9, \n",
        "        seed              =100\n",
        "    )\n",
        "\n",
        "    model = reg_model.fit(X=X_train,\n",
        "                          y=y_train, \n",
        "                          sample_weight=np.ones(X_train.shape[0]),\n",
        "                          eval_set=[(X_val, y_val)],\n",
        "                          eval_metric = 'rmse',\n",
        "                          early_stopping_rounds=10,\n",
        "                          verbose=False,\n",
        "                          xgb_model=None)\n",
        "    \n",
        "    puntuacion  = model.score(X_val, y_val)\n",
        "    print(\"score {:.3f} con max_depth {:.3f} \".format(puntuacion ,max_depth))\n",
        "\n",
        "    if puntuacion > mejor_puntuacion:\n",
        "      mejor_puntuacion  = puntuacion\n",
        "      mejor_parametro = {'max_depth':max_depth,\n",
        "                         'learning_rate':learning_rate}\n",
        "\n",
        "print(\"Mejor puntuacion {:.3f}\".format(mejor_puntuacion))\n"
      ],
      "execution_count": 23,
      "outputs": [
        {
          "output_type": "stream",
          "text": [
            "score 0.885 con max_depth 7.000 \n",
            "score 0.885 con max_depth 7.000 \n",
            "score 0.886 con max_depth 7.000 \n",
            "score 0.888 con max_depth 8.000 \n",
            "score 0.887 con max_depth 8.000 \n",
            "score 0.887 con max_depth 8.000 \n",
            "score 0.890 con max_depth 9.000 \n",
            "score 0.889 con max_depth 9.000 \n",
            "score 0.888 con max_depth 9.000 \n",
            "Mejor puntuacion 0.890\n"
          ],
          "name": "stdout"
        }
      ]
    },
    {
      "cell_type": "code",
      "metadata": {
        "colab": {
          "base_uri": "https://localhost:8080/"
        },
        "id": "UehOfXLRPHNW",
        "outputId": "e59913bc-335e-49cf-aae8-1d920ed0b44d"
      },
      "source": [
        "print(\"Mejor parametro: {}\".format(mejor_parametro))"
      ],
      "execution_count": 24,
      "outputs": [
        {
          "output_type": "stream",
          "text": [
            "Mejor parametro: {'max_depth': 9, 'learning_rate': 0.3}\n"
          ],
          "name": "stdout"
        }
      ]
    },
    {
      "cell_type": "code",
      "metadata": {
        "colab": {
          "base_uri": "https://localhost:8080/"
        },
        "id": "drqEIuwMPRbb",
        "outputId": "d79fa469-9d1c-4170-f88a-9854a266f1e5"
      },
      "source": [
        "reg_model = XGBRegressor(\n",
        "        max_depth = 9,\n",
        "        learning_rate = 0.3,\n",
        "        silent  = True,\n",
        "        objective = 'reg:squarederror',\n",
        "        booster = 'gbtree',\n",
        "        n_jobs  = multiprocessing.cpu_count()-1,\n",
        "        subsample = 0.8,\n",
        "        colsample_bytree  =1.0, \n",
        "        colsample_bylevel =0.9, \n",
        "        seed              =100\n",
        "    )\n",
        "model = reg_model.fit(X=X_train,\n",
        "                          y=y_train, \n",
        "                          sample_weight=np.ones(X_train.shape[0]),\n",
        "                          eval_set=[(X_test, y_test)],\n",
        "                          eval_metric = 'rmse',\n",
        "                          early_stopping_rounds=10,\n",
        "                          verbose=False,\n",
        "                          xgb_model=None)\n",
        "\n",
        "print(\"score de train {:.3f} \".format(model.score(X_train, y_train)))\n",
        "print(\"score de test {:.3f} \".format(model.score(X_test, y_test)))\n",
        "\n",
        "predict_train = model.predict(X_train)\n",
        "predict_test = model.predict(X_test)\n",
        "\n",
        "mse_train = mean_squared_error(y_train, predict_train)\n",
        "rmse_train = np.sqrt(mse_train)\n",
        "print(\"RMSE para el train {}\".format(rmse_train))\n",
        "\n",
        "mse_test = mean_squared_error(y_test, predict_test)\n",
        "rmse_test = np.sqrt(mse_test)\n",
        "print(\"RMSE para el test {}\".format(rmse_test))"
      ],
      "execution_count": 25,
      "outputs": [
        {
          "output_type": "stream",
          "text": [
            "score de train 0.898 \n",
            "score de test 0.890 \n",
            "RMSE para el train 3.294361919713386\n",
            "RMSE para el test 3.430641474313749\n"
          ],
          "name": "stdout"
        }
      ]
    },
    {
      "cell_type": "markdown",
      "metadata": {
        "id": "1ErV1Ulei9uj"
      },
      "source": [
        "Grafica donde se aprecia las caracteristicas mas importantes."
      ]
    },
    {
      "cell_type": "code",
      "metadata": {
        "colab": {
          "base_uri": "https://localhost:8080/",
          "height": 279
        },
        "id": "I8K4DZzvrZ1d",
        "outputId": "b98617b3-1dee-40c0-fb74-57092bddddd5"
      },
      "source": [
        "dibuja_caracteristicas_importantes(model)"
      ],
      "execution_count": 26,
      "outputs": [
        {
          "output_type": "display_data",
          "data": {
            "image/png": "[encoded data removed]",
            "text/plain": [
              "<Figure size 432x288 with 1 Axes>"
            ]
          },
          "metadata": {
            "tags": [],
            "needs_background": "light"
          }
        }
      ]
    }
  ]
}
