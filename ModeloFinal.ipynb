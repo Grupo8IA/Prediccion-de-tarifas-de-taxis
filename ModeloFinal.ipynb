{
  "nbformat": 4,
  "nbformat_minor": 0,
  "metadata": {
    "accelerator": "TPU",
    "colab": {
      "name": "ModeloFinal.ipynb",
      "provenance": [],
      "collapsed_sections": [],
      "machine_shape": "hm"
    },
    "kernelspec": {
      "display_name": "Python 3",
      "language": "python",
      "name": "python3"
    },
    "language_info": {
      "codemirror_mode": {
        "name": "ipython",
        "version": 3
      },
      "file_extension": ".py",
      "mimetype": "text/x-python",
      "name": "python",
      "nbconvert_exporter": "python",
      "pygments_lexer": "ipython3",
      "version": "3.8.8"
    }
  },
  "cells": [
    {
      "cell_type": "markdown",
      "metadata": {
        "id": "BFgv5_YXEUyZ"
      },
      "source": [
        "# Construcción del Modelo Final"
      ]
    },
    {
      "cell_type": "markdown",
      "metadata": {
        "id": "yn46CYoI5x1P"
      },
      "source": [
        "Inicialmente se planteó evaluar diferentes modelos para seleccionar uno con un score alto. Los modelos planteados fueron KNN, Random Forest, Ada Boost, Gradient Boosting, XGBoost. Se obtuvieron 0.81-4.5, 0.79-4.6, 0.53-7.11, 0.80-5.49 y 0.89-3.42 de score y rmse respectivamente. Por otro lado debido a que Sklearn recomendaba usar otros modelos como Light Gradient Boosting Machine y Hist Gradient Boosting para datos grandes, se realizaron pruebas con estos modelos obteniento un score y rmse máximo de  0.8974-3.31 y 0.8909-3.41 respectivamente. Por lo tanto nuestro mejor modelo es la de Light Gradient Boosting.  \n"
      ]
    },
    {
      "cell_type": "markdown",
      "metadata": {
        "id": "Hz7hQDCLSppW"
      },
      "source": [
        "# Gradient Boosting"
      ]
    },
    {
      "cell_type": "markdown",
      "metadata": {
        "id": "8jU9Niyx-NHr"
      },
      "source": [
        "Este es el modelo base de Gradient Boosting Regressor"
      ]
    },
    {
      "cell_type": "code",
      "metadata": {
        "colab": {
          "base_uri": "https://localhost:8080/"
        },
        "id": "B7pWgWN0SnNP",
        "outputId": "12f92919-84bb-4a3f-8c23-0cedd01484aa"
      },
      "source": [
        "from google.colab import drive\n",
        "drive.mount('/content/drive/')"
      ],
      "execution_count": null,
      "outputs": [
        {
          "output_type": "stream",
          "text": [
            "Mounted at /content/drive/\n"
          ],
          "name": "stdout"
        }
      ]
    },
    {
      "cell_type": "code",
      "metadata": {
        "colab": {
          "base_uri": "https://localhost:8080/"
        },
        "id": "r8_wxV7yS6M6",
        "outputId": "6e5be0b2-ea80-419c-d8c5-265b60ba6175"
      },
      "source": [
        "drive.mount('/gdrive')\n",
        "%cd /gdrive/MyDrive/"
      ],
      "execution_count": null,
      "outputs": [
        {
          "output_type": "stream",
          "text": [
            "Drive already mounted at /gdrive; to attempt to forcibly remount, call drive.mount(\"/gdrive\", force_remount=True).\n",
            "/gdrive/MyDrive\n"
          ],
          "name": "stdout"
        }
      ]
    },
    {
      "cell_type": "code",
      "metadata": {
        "id": "wmOvcLgZS8uE"
      },
      "source": [
        "import pandas as pd\n",
        "import numpy as np"
      ],
      "execution_count": null,
      "outputs": []
    },
    {
      "cell_type": "code",
      "metadata": {
        "colab": {
          "base_uri": "https://localhost:8080/",
          "height": 309
        },
        "id": "nfQr_kEWTCGr",
        "outputId": "586e4393-7e4a-48dc-87b8-a9db07ab0027"
      },
      "source": [
        "dtypes = {\n",
        "      'key': 'object',\n",
        "      'fare_amount': 'float64',\n",
        "      'pickup_datetime': 'object',\n",
        "      'pickup_longitude': 'float64', \n",
        "      'pickup_latitude': 'float64',\n",
        "      'dropoff_longitude': 'float64',\n",
        "      'dropoff_latitude': 'float64',\n",
        "      'passenger_count': 'int64',\n",
        "      'day':'int64',\n",
        "      'week':'int64',\n",
        "      'trayecto_nocturno':'int64',\n",
        "      'hora_punta':'int64',\n",
        "      'year':'int64',\n",
        "      'aeropuerto':'int64',\n",
        "      'day_of_month':'int64'\n",
        "      \n",
        "    \n",
        "}\n",
        "df = pd.read_csv(\"train_data.csv\", dtype=dtypes)\n",
        "df = df[['key', 'pickup_datetime', 'pickup_latitude', 'pickup_longitude', 'dropoff_latitude', 'dropoff_longitude', 'passenger_count', 'day', 'hour', 'week', 'trayecto_nocturno','hora_punta','year','aeropuerto','day_of_month','fare_amount']]\n",
        "df.head()"
      ],
      "execution_count": null,
      "outputs": [
        {
          "output_type": "execute_result",
          "data": {
            "text/html": [
              "<div>\n",
              "<style scoped>\n",
              "    .dataframe tbody tr th:only-of-type {\n",
              "        vertical-align: middle;\n",
              "    }\n",
              "\n",
              "    .dataframe tbody tr th {\n",
              "        vertical-align: top;\n",
              "    }\n",
              "\n",
              "    .dataframe thead th {\n",
              "        text-align: right;\n",
              "    }\n",
              "</style>\n",
              "<table border=\"1\" class=\"dataframe\">\n",
              "  <thead>\n",
              "    <tr style=\"text-align: right;\">\n",
              "      <th></th>\n",
              "      <th>key</th>\n",
              "      <th>pickup_datetime</th>\n",
              "      <th>pickup_latitude</th>\n",
              "      <th>pickup_longitude</th>\n",
              "      <th>dropoff_latitude</th>\n",
              "      <th>dropoff_longitude</th>\n",
              "      <th>passenger_count</th>\n",
              "      <th>day</th>\n",
              "      <th>hour</th>\n",
              "      <th>week</th>\n",
              "      <th>trayecto_nocturno</th>\n",
              "      <th>hora_punta</th>\n",
              "      <th>year</th>\n",
              "      <th>aeropuerto</th>\n",
              "      <th>day_of_month</th>\n",
              "      <th>fare_amount</th>\n",
              "    </tr>\n",
              "  </thead>\n",
              "  <tbody>\n",
              "    <tr>\n",
              "      <th>0</th>\n",
              "      <td>2014-02-19 07:22:00.00000074</td>\n",
              "      <td>2014-02-19 07:22:00 UTC</td>\n",
              "      <td>40.760465</td>\n",
              "      <td>-73.986430</td>\n",
              "      <td>40.737075</td>\n",
              "      <td>-73.988990</td>\n",
              "      <td>1</td>\n",
              "      <td>2</td>\n",
              "      <td>7.366667</td>\n",
              "      <td>8</td>\n",
              "      <td>0</td>\n",
              "      <td>0</td>\n",
              "      <td>2014</td>\n",
              "      <td>0</td>\n",
              "      <td>19</td>\n",
              "      <td>12.50</td>\n",
              "    </tr>\n",
              "    <tr>\n",
              "      <th>1</th>\n",
              "      <td>2014-12-06 20:36:22.0000008</td>\n",
              "      <td>2014-12-06 20:36:22 UTC</td>\n",
              "      <td>40.751902</td>\n",
              "      <td>-73.979815</td>\n",
              "      <td>40.755481</td>\n",
              "      <td>-73.979446</td>\n",
              "      <td>1</td>\n",
              "      <td>5</td>\n",
              "      <td>20.600000</td>\n",
              "      <td>49</td>\n",
              "      <td>1</td>\n",
              "      <td>1</td>\n",
              "      <td>2014</td>\n",
              "      <td>0</td>\n",
              "      <td>6</td>\n",
              "      <td>4.00</td>\n",
              "    </tr>\n",
              "    <tr>\n",
              "      <th>2</th>\n",
              "      <td>2014-02-19 16:03:00.000000160</td>\n",
              "      <td>2014-02-19 16:03:00 UTC</td>\n",
              "      <td>40.752422</td>\n",
              "      <td>-73.976075</td>\n",
              "      <td>40.759285</td>\n",
              "      <td>-73.981082</td>\n",
              "      <td>1</td>\n",
              "      <td>2</td>\n",
              "      <td>16.050000</td>\n",
              "      <td>8</td>\n",
              "      <td>0</td>\n",
              "      <td>1</td>\n",
              "      <td>2014</td>\n",
              "      <td>0</td>\n",
              "      <td>19</td>\n",
              "      <td>5.50</td>\n",
              "    </tr>\n",
              "    <tr>\n",
              "      <th>3</th>\n",
              "      <td>2015-06-21 21:46:34.0000001</td>\n",
              "      <td>2015-06-21 21:46:34 UTC</td>\n",
              "      <td>40.717667</td>\n",
              "      <td>-74.010483</td>\n",
              "      <td>40.660366</td>\n",
              "      <td>-73.985771</td>\n",
              "      <td>1</td>\n",
              "      <td>6</td>\n",
              "      <td>21.766667</td>\n",
              "      <td>25</td>\n",
              "      <td>1</td>\n",
              "      <td>0</td>\n",
              "      <td>2015</td>\n",
              "      <td>0</td>\n",
              "      <td>21</td>\n",
              "      <td>22.54</td>\n",
              "    </tr>\n",
              "    <tr>\n",
              "      <th>4</th>\n",
              "      <td>2015-01-11 03:15:38.0000001</td>\n",
              "      <td>2015-01-11 03:15:38 UTC</td>\n",
              "      <td>40.738720</td>\n",
              "      <td>-73.983330</td>\n",
              "      <td>40.847225</td>\n",
              "      <td>-73.933197</td>\n",
              "      <td>1</td>\n",
              "      <td>6</td>\n",
              "      <td>3.250000</td>\n",
              "      <td>2</td>\n",
              "      <td>1</td>\n",
              "      <td>0</td>\n",
              "      <td>2015</td>\n",
              "      <td>0</td>\n",
              "      <td>11</td>\n",
              "      <td>58.00</td>\n",
              "    </tr>\n",
              "  </tbody>\n",
              "</table>\n",
              "</div>"
            ],
            "text/plain": [
              "                             key  ... fare_amount\n",
              "0   2014-02-19 07:22:00.00000074  ...       12.50\n",
              "1    2014-12-06 20:36:22.0000008  ...        4.00\n",
              "2  2014-02-19 16:03:00.000000160  ...        5.50\n",
              "3    2015-06-21 21:46:34.0000001  ...       22.54\n",
              "4    2015-01-11 03:15:38.0000001  ...       58.00\n",
              "\n",
              "[5 rows x 16 columns]"
            ]
          },
          "metadata": {
            "tags": []
          },
          "execution_count": 6
        }
      ]
    },
    {
      "cell_type": "code",
      "metadata": {
        "colab": {
          "base_uri": "https://localhost:8080/"
        },
        "id": "QWqmMecyTDn1",
        "outputId": "e46e0093-1f6f-4551-d42b-24bfcf495856"
      },
      "source": [
        "df.info()"
      ],
      "execution_count": null,
      "outputs": [
        {
          "output_type": "stream",
          "text": [
            "<class 'pandas.core.frame.DataFrame'>\n",
            "RangeIndex: 11773348 entries, 0 to 11773347\n",
            "Data columns (total 16 columns):\n",
            " #   Column             Dtype  \n",
            "---  ------             -----  \n",
            " 0   key                object \n",
            " 1   pickup_datetime    object \n",
            " 2   pickup_latitude    float64\n",
            " 3   pickup_longitude   float64\n",
            " 4   dropoff_latitude   float64\n",
            " 5   dropoff_longitude  float64\n",
            " 6   passenger_count    int64  \n",
            " 7   day                int64  \n",
            " 8   hour               float64\n",
            " 9   week               int64  \n",
            " 10  trayecto_nocturno  int64  \n",
            " 11  hora_punta         int64  \n",
            " 12  year               int64  \n",
            " 13  aeropuerto         int64  \n",
            " 14  day_of_month       int64  \n",
            " 15  fare_amount        float64\n",
            "dtypes: float64(6), int64(8), object(2)\n",
            "memory usage: 1.4+ GB\n"
          ],
          "name": "stdout"
        }
      ]
    },
    {
      "cell_type": "code",
      "metadata": {
        "colab": {
          "base_uri": "https://localhost:8080/",
          "height": 317
        },
        "id": "wzE2HrSnvWa9",
        "outputId": "97443ac9-9e3d-4c89-ded4-4f424253cba4"
      },
      "source": [
        "df.describe()"
      ],
      "execution_count": null,
      "outputs": [
        {
          "output_type": "execute_result",
          "data": {
            "text/html": [
              "<div>\n",
              "<style scoped>\n",
              "    .dataframe tbody tr th:only-of-type {\n",
              "        vertical-align: middle;\n",
              "    }\n",
              "\n",
              "    .dataframe tbody tr th {\n",
              "        vertical-align: top;\n",
              "    }\n",
              "\n",
              "    .dataframe thead th {\n",
              "        text-align: right;\n",
              "    }\n",
              "</style>\n",
              "<table border=\"1\" class=\"dataframe\">\n",
              "  <thead>\n",
              "    <tr style=\"text-align: right;\">\n",
              "      <th></th>\n",
              "      <th>pickup_latitude</th>\n",
              "      <th>pickup_longitude</th>\n",
              "      <th>dropoff_latitude</th>\n",
              "      <th>dropoff_longitude</th>\n",
              "      <th>passenger_count</th>\n",
              "      <th>day</th>\n",
              "      <th>hour</th>\n",
              "      <th>week</th>\n",
              "      <th>trayecto_nocturno</th>\n",
              "      <th>hora_punta</th>\n",
              "      <th>year</th>\n",
              "      <th>aeropuerto</th>\n",
              "      <th>day_of_month</th>\n",
              "      <th>fare_amount</th>\n",
              "    </tr>\n",
              "  </thead>\n",
              "  <tbody>\n",
              "    <tr>\n",
              "      <th>count</th>\n",
              "      <td>1.177335e+07</td>\n",
              "      <td>1.177335e+07</td>\n",
              "      <td>1.177335e+07</td>\n",
              "      <td>1.177335e+07</td>\n",
              "      <td>1.177335e+07</td>\n",
              "      <td>1.177335e+07</td>\n",
              "      <td>1.177335e+07</td>\n",
              "      <td>1.177335e+07</td>\n",
              "      <td>1.177335e+07</td>\n",
              "      <td>1.177335e+07</td>\n",
              "      <td>1.177335e+07</td>\n",
              "      <td>1.177335e+07</td>\n",
              "      <td>1.177335e+07</td>\n",
              "      <td>1.177335e+07</td>\n",
              "    </tr>\n",
              "    <tr>\n",
              "      <th>mean</th>\n",
              "      <td>4.075075e+01</td>\n",
              "      <td>-7.397478e+01</td>\n",
              "      <td>4.075136e+01</td>\n",
              "      <td>-7.397370e+01</td>\n",
              "      <td>1.693342e+00</td>\n",
              "      <td>3.066519e+00</td>\n",
              "      <td>1.402191e+01</td>\n",
              "      <td>2.209214e+01</td>\n",
              "      <td>3.716792e-01</td>\n",
              "      <td>2.708076e-01</td>\n",
              "      <td>2.014319e+03</td>\n",
              "      <td>2.106478e-02</td>\n",
              "      <td>1.559621e+01</td>\n",
              "      <td>1.271158e+01</td>\n",
              "    </tr>\n",
              "    <tr>\n",
              "      <th>std</th>\n",
              "      <td>4.082624e-02</td>\n",
              "      <td>6.271784e-02</td>\n",
              "      <td>3.470967e-02</td>\n",
              "      <td>4.844846e-02</td>\n",
              "      <td>1.352072e+00</td>\n",
              "      <td>1.957809e+00</td>\n",
              "      <td>6.516397e+00</td>\n",
              "      <td>1.422517e+01</td>\n",
              "      <td>4.832534e-01</td>\n",
              "      <td>4.443769e-01</td>\n",
              "      <td>4.660411e-01</td>\n",
              "      <td>1.436003e-01</td>\n",
              "      <td>8.721748e+00</td>\n",
              "      <td>1.033571e+01</td>\n",
              "    </tr>\n",
              "    <tr>\n",
              "      <th>min</th>\n",
              "      <td>7.296320e-01</td>\n",
              "      <td>-1.219261e+02</td>\n",
              "      <td>3.263495e+01</td>\n",
              "      <td>-1.219261e+02</td>\n",
              "      <td>1.000000e+00</td>\n",
              "      <td>0.000000e+00</td>\n",
              "      <td>0.000000e+00</td>\n",
              "      <td>1.000000e+00</td>\n",
              "      <td>0.000000e+00</td>\n",
              "      <td>0.000000e+00</td>\n",
              "      <td>2.014000e+03</td>\n",
              "      <td>0.000000e+00</td>\n",
              "      <td>1.000000e+00</td>\n",
              "      <td>2.500000e+00</td>\n",
              "    </tr>\n",
              "    <tr>\n",
              "      <th>25%</th>\n",
              "      <td>4.073669e+01</td>\n",
              "      <td>-7.399214e+01</td>\n",
              "      <td>4.073548e+01</td>\n",
              "      <td>-7.399140e+01</td>\n",
              "      <td>1.000000e+00</td>\n",
              "      <td>1.000000e+00</td>\n",
              "      <td>9.433333e+00</td>\n",
              "      <td>1.000000e+01</td>\n",
              "      <td>0.000000e+00</td>\n",
              "      <td>0.000000e+00</td>\n",
              "      <td>2.014000e+03</td>\n",
              "      <td>0.000000e+00</td>\n",
              "      <td>8.000000e+00</td>\n",
              "      <td>6.500000e+00</td>\n",
              "    </tr>\n",
              "    <tr>\n",
              "      <th>50%</th>\n",
              "      <td>4.075341e+01</td>\n",
              "      <td>-7.398202e+01</td>\n",
              "      <td>4.075397e+01</td>\n",
              "      <td>-7.398019e+01</td>\n",
              "      <td>1.000000e+00</td>\n",
              "      <td>3.000000e+00</td>\n",
              "      <td>1.465000e+01</td>\n",
              "      <td>2.000000e+01</td>\n",
              "      <td>0.000000e+00</td>\n",
              "      <td>0.000000e+00</td>\n",
              "      <td>2.014000e+03</td>\n",
              "      <td>0.000000e+00</td>\n",
              "      <td>1.600000e+01</td>\n",
              "      <td>9.500000e+00</td>\n",
              "    </tr>\n",
              "    <tr>\n",
              "      <th>75%</th>\n",
              "      <td>4.076764e+01</td>\n",
              "      <td>-7.396800e+01</td>\n",
              "      <td>4.076867e+01</td>\n",
              "      <td>-7.396394e+01</td>\n",
              "      <td>2.000000e+00</td>\n",
              "      <td>5.000000e+00</td>\n",
              "      <td>1.956667e+01</td>\n",
              "      <td>3.300000e+01</td>\n",
              "      <td>1.000000e+00</td>\n",
              "      <td>1.000000e+00</td>\n",
              "      <td>2.015000e+03</td>\n",
              "      <td>0.000000e+00</td>\n",
              "      <td>2.300000e+01</td>\n",
              "      <td>1.450000e+01</td>\n",
              "    </tr>\n",
              "    <tr>\n",
              "      <th>max</th>\n",
              "      <td>5.537514e+01</td>\n",
              "      <td>-1.666700e-02</td>\n",
              "      <td>4.993002e+01</td>\n",
              "      <td>-6.523427e+01</td>\n",
              "      <td>6.000000e+00</td>\n",
              "      <td>6.000000e+00</td>\n",
              "      <td>2.398333e+01</td>\n",
              "      <td>5.200000e+01</td>\n",
              "      <td>1.000000e+00</td>\n",
              "      <td>1.000000e+00</td>\n",
              "      <td>2.015000e+03</td>\n",
              "      <td>1.000000e+00</td>\n",
              "      <td>3.100000e+01</td>\n",
              "      <td>7.390000e+01</td>\n",
              "    </tr>\n",
              "  </tbody>\n",
              "</table>\n",
              "</div>"
            ],
            "text/plain": [
              "       pickup_latitude  pickup_longitude  ...  day_of_month   fare_amount\n",
              "count     1.177335e+07      1.177335e+07  ...  1.177335e+07  1.177335e+07\n",
              "mean      4.075075e+01     -7.397478e+01  ...  1.559621e+01  1.271158e+01\n",
              "std       4.082624e-02      6.271784e-02  ...  8.721748e+00  1.033571e+01\n",
              "min       7.296320e-01     -1.219261e+02  ...  1.000000e+00  2.500000e+00\n",
              "25%       4.073669e+01     -7.399214e+01  ...  8.000000e+00  6.500000e+00\n",
              "50%       4.075341e+01     -7.398202e+01  ...  1.600000e+01  9.500000e+00\n",
              "75%       4.076764e+01     -7.396800e+01  ...  2.300000e+01  1.450000e+01\n",
              "max       5.537514e+01     -1.666700e-02  ...  3.100000e+01  7.390000e+01\n",
              "\n",
              "[8 rows x 14 columns]"
            ]
          },
          "metadata": {
            "tags": []
          },
          "execution_count": 6
        }
      ]
    },
    {
      "cell_type": "code",
      "metadata": {
        "colab": {
          "base_uri": "https://localhost:8080/",
          "height": 282
        },
        "id": "HMXBHLEQinAE",
        "outputId": "569c338a-d534-4a8d-b720-30cdaf8531f3"
      },
      "source": [
        "import seaborn as sns\n",
        "data = df[['pickup_latitude', 'pickup_longitude', 'dropoff_latitude', 'dropoff_longitude']]\n",
        "sns.kdeplot(data=data)"
      ],
      "execution_count": null,
      "outputs": [
        {
          "output_type": "execute_result",
          "data": {
            "text/plain": [
              "<matplotlib.axes._subplots.AxesSubplot at 0x7f3cbb194610>"
            ]
          },
          "metadata": {
            "tags": []
          },
          "execution_count": 6
        },
        {
          "output_type": "display_data",
          "data": {
            "image/png": "[encoded data removed]",
            "text/plain": [
              "<Figure size 432x288 with 1 Axes>"
            ]
          },
          "metadata": {
            "tags": []
          }
        }
      ]
    },
    {
      "cell_type": "markdown",
      "metadata": {
        "id": "ouFomPK6Upct"
      },
      "source": [
        "## Estandarización y normalización de la data"
      ]
    },
    {
      "cell_type": "code",
      "metadata": {
        "id": "q6pX6T00Ur7q"
      },
      "source": [
        "from sklearn.preprocessing import StandardScaler\n",
        "from sklearn.preprocessing import MinMaxScaler\n",
        "standar = StandardScaler()\n",
        "normal = MinMaxScaler()\n",
        "numericasReales = ['pickup_latitude', 'pickup_longitude', 'dropoff_latitude', 'dropoff_longitude','hour']\n",
        "numericasBinarias = ['trayecto_nocturno','hora_punta','year','aeropuerto']\n",
        "numericas = ['passenger_count','week','day','day_of_month']\n",
        "data1 = pd.DataFrame(standar.fit_transform(df[numericasReales]), columns = numericasReales)\n",
        "data2 = pd.DataFrame(normal.fit_transform(df[numericas]), columns = numericas)\n",
        "dff = pd.concat([data1,data2,df[numericasBinarias]],axis=1)"
      ],
      "execution_count": null,
      "outputs": []
    },
    {
      "cell_type": "code",
      "metadata": {
        "colab": {
          "base_uri": "https://localhost:8080/",
          "height": 224
        },
        "id": "NUxpaDA2ildy",
        "outputId": "4b55c78b-a206-4fef-a82e-a8ecbb0e37f2"
      },
      "source": [
        "dff.head()"
      ],
      "execution_count": null,
      "outputs": [
        {
          "output_type": "execute_result",
          "data": {
            "text/html": [
              "<div>\n",
              "<style scoped>\n",
              "    .dataframe tbody tr th:only-of-type {\n",
              "        vertical-align: middle;\n",
              "    }\n",
              "\n",
              "    .dataframe tbody tr th {\n",
              "        vertical-align: top;\n",
              "    }\n",
              "\n",
              "    .dataframe thead th {\n",
              "        text-align: right;\n",
              "    }\n",
              "</style>\n",
              "<table border=\"1\" class=\"dataframe\">\n",
              "  <thead>\n",
              "    <tr style=\"text-align: right;\">\n",
              "      <th></th>\n",
              "      <th>pickup_latitude</th>\n",
              "      <th>pickup_longitude</th>\n",
              "      <th>dropoff_latitude</th>\n",
              "      <th>dropoff_longitude</th>\n",
              "      <th>hour</th>\n",
              "      <th>passenger_count</th>\n",
              "      <th>week</th>\n",
              "      <th>day</th>\n",
              "      <th>day_of_month</th>\n",
              "      <th>trayecto_nocturno</th>\n",
              "      <th>hora_punta</th>\n",
              "      <th>year</th>\n",
              "      <th>aeropuerto</th>\n",
              "    </tr>\n",
              "  </thead>\n",
              "  <tbody>\n",
              "    <tr>\n",
              "      <th>0</th>\n",
              "      <td>0.238000</td>\n",
              "      <td>-0.185771</td>\n",
              "      <td>-0.411444</td>\n",
              "      <td>-0.315620</td>\n",
              "      <td>-1.021307</td>\n",
              "      <td>0.0</td>\n",
              "      <td>0.137255</td>\n",
              "      <td>0.333333</td>\n",
              "      <td>0.600000</td>\n",
              "      <td>0</td>\n",
              "      <td>0</td>\n",
              "      <td>2014</td>\n",
              "      <td>0</td>\n",
              "    </tr>\n",
              "    <tr>\n",
              "      <th>1</th>\n",
              "      <td>0.028257</td>\n",
              "      <td>-0.080298</td>\n",
              "      <td>0.118840</td>\n",
              "      <td>-0.118627</td>\n",
              "      <td>1.009467</td>\n",
              "      <td>0.0</td>\n",
              "      <td>0.941176</td>\n",
              "      <td>0.833333</td>\n",
              "      <td>0.166667</td>\n",
              "      <td>1</td>\n",
              "      <td>1</td>\n",
              "      <td>2014</td>\n",
              "      <td>0</td>\n",
              "    </tr>\n",
              "    <tr>\n",
              "      <th>2</th>\n",
              "      <td>0.040994</td>\n",
              "      <td>-0.020666</td>\n",
              "      <td>0.228435</td>\n",
              "      <td>-0.152395</td>\n",
              "      <td>0.311229</td>\n",
              "      <td>0.0</td>\n",
              "      <td>0.137255</td>\n",
              "      <td>0.333333</td>\n",
              "      <td>0.600000</td>\n",
              "      <td>0</td>\n",
              "      <td>1</td>\n",
              "      <td>2014</td>\n",
              "      <td>0</td>\n",
              "    </tr>\n",
              "    <tr>\n",
              "      <th>3</th>\n",
              "      <td>-0.810306</td>\n",
              "      <td>-0.569279</td>\n",
              "      <td>-2.621461</td>\n",
              "      <td>-0.249181</td>\n",
              "      <td>1.188503</td>\n",
              "      <td>0.0</td>\n",
              "      <td>0.470588</td>\n",
              "      <td>1.000000</td>\n",
              "      <td>0.666667</td>\n",
              "      <td>1</td>\n",
              "      <td>0</td>\n",
              "      <td>2015</td>\n",
              "      <td>0</td>\n",
              "    </tr>\n",
              "    <tr>\n",
              "      <th>4</th>\n",
              "      <td>-0.294625</td>\n",
              "      <td>-0.136339</td>\n",
              "      <td>2.762029</td>\n",
              "      <td>0.835975</td>\n",
              "      <td>-1.653047</td>\n",
              "      <td>0.0</td>\n",
              "      <td>0.019608</td>\n",
              "      <td>1.000000</td>\n",
              "      <td>0.333333</td>\n",
              "      <td>1</td>\n",
              "      <td>0</td>\n",
              "      <td>2015</td>\n",
              "      <td>0</td>\n",
              "    </tr>\n",
              "  </tbody>\n",
              "</table>\n",
              "</div>"
            ],
            "text/plain": [
              "   pickup_latitude  pickup_longitude  ...  year  aeropuerto\n",
              "0         0.238000         -0.185771  ...  2014           0\n",
              "1         0.028257         -0.080298  ...  2014           0\n",
              "2         0.040994         -0.020666  ...  2014           0\n",
              "3        -0.810306         -0.569279  ...  2015           0\n",
              "4        -0.294625         -0.136339  ...  2015           0\n",
              "\n",
              "[5 rows x 13 columns]"
            ]
          },
          "metadata": {
            "tags": []
          },
          "execution_count": 8
        }
      ]
    },
    {
      "cell_type": "code",
      "metadata": {
        "colab": {
          "base_uri": "https://localhost:8080/",
          "height": 297
        },
        "id": "8UPrnf9fxiQx",
        "outputId": "4786d9e6-8ed9-4a2a-bef2-d03e5aa8cb12"
      },
      "source": [
        "sns.kdeplot(data=df['fare_amount'])"
      ],
      "execution_count": null,
      "outputs": [
        {
          "output_type": "execute_result",
          "data": {
            "text/plain": [
              "<matplotlib.axes._subplots.AxesSubplot at 0x7f3c22882f10>"
            ]
          },
          "metadata": {
            "tags": []
          },
          "execution_count": 15
        },
        {
          "output_type": "display_data",
          "data": {
            "image/png": "[encoded data removed]",
            "text/plain": [
              "<Figure size 432x288 with 1 Axes>"
            ]
          },
          "metadata": {
            "tags": []
          }
        }
      ]
    },
    {
      "cell_type": "markdown",
      "metadata": {
        "id": "4EII9wfvZww0"
      },
      "source": [
        "## Separación de la data"
      ]
    },
    {
      "cell_type": "code",
      "metadata": {
        "id": "wVRopyEMxt2C"
      },
      "source": [
        "from sklearn.model_selection import train_test_split\n",
        "predictors = ['pickup_latitude', 'pickup_longitude', 'dropoff_latitude', 'dropoff_longitude', 'passenger_count', 'day', 'hour', 'week', 'trayecto_nocturno','hora_punta','year','aeropuerto','day_of_month']\n",
        "outcome = ['fare_amount']"
      ],
      "execution_count": null,
      "outputs": []
    },
    {
      "cell_type": "markdown",
      "metadata": {
        "id": "1jv4Incgtfw7"
      },
      "source": [
        "### Sin Preprocesamiento"
      ]
    },
    {
      "cell_type": "code",
      "metadata": {
        "id": "GeCKSVtfZ1to"
      },
      "source": [
        "X = dff[predictors]\n",
        "y = df[outcome]\n",
        "X_train_val, X_test, y_train_val, y_test = train_test_split(X,y)\n",
        "X_train, X_val, y_train, y_val = train_test_split(X_train_val, y_train_val)"
      ],
      "execution_count": null,
      "outputs": []
    },
    {
      "cell_type": "markdown",
      "metadata": {
        "id": "P2fKIriStjD5"
      },
      "source": [
        "### Data con Preprocesamiento"
      ]
    },
    {
      "cell_type": "code",
      "metadata": {
        "id": "-28s9GsktoH5"
      },
      "source": [
        "X2 = dff[predictors]\n",
        "y2 = df[outcome]\n",
        "X_train_val2, X_test2, y_train_val2, y_test2 = train_test_split(X2,y2)\n",
        "X_train2, X_val2, y_train2, y_val2 = train_test_split(X_train_val2, y_train_val2)"
      ],
      "execution_count": null,
      "outputs": []
    },
    {
      "cell_type": "markdown",
      "metadata": {
        "id": "f_iFwUf2V5qu"
      },
      "source": [
        "## Modelo"
      ]
    },
    {
      "cell_type": "code",
      "metadata": {
        "id": "jcbm8O1Zu8VE"
      },
      "source": [
        "from sklearn.ensemble import GradientBoostingRegressor\n",
        "from sklearn.metrics import mean_squared_error"
      ],
      "execution_count": null,
      "outputs": []
    },
    {
      "cell_type": "markdown",
      "metadata": {
        "id": "xbxGtjwfzaw0"
      },
      "source": [
        "Primero probamos el modelo con la data sin preprocesar"
      ]
    },
    {
      "cell_type": "code",
      "metadata": {
        "colab": {
          "background_save": true,
          "base_uri": "https://localhost:8080/"
        },
        "id": "BteHf0aBV9iQ",
        "outputId": "f4087b72-7550-4e5c-f61b-e8e8665fb2c7"
      },
      "source": [
        "\n",
        "gbrt = GradientBoostingRegressor()\n",
        "gbrt.fit(X_train, y_train)\n",
        "errors = [mean_squared_error(y_test, y_pred) for y_pred in gbrt.staged_predict(X_test)]"
      ],
      "execution_count": null,
      "outputs": [
        {
          "output_type": "stream",
          "text": [
            "/usr/local/lib/python3.7/dist-packages/sklearn/ensemble/_gb.py:1454: DataConversionWarning: A column-vector y was passed when a 1d array was expected. Please change the shape of y to (n_samples, ), for example using ravel().\n",
            "  y = column_or_1d(y, warn=True)\n"
          ],
          "name": "stderr"
        }
      ]
    },
    {
      "cell_type": "code",
      "metadata": {
        "colab": {
          "base_uri": "https://localhost:8080/"
        },
        "id": "-SL-GDRiym-r",
        "outputId": "b48c3b5b-452a-4ff6-b100-81fd4a354869"
      },
      "source": [
        "print(np.sqrt(np.mean(errors)))"
      ],
      "execution_count": null,
      "outputs": [
        {
          "output_type": "stream",
          "text": [
            "5.49494370735245\n"
          ],
          "name": "stdout"
        }
      ]
    },
    {
      "cell_type": "code",
      "metadata": {
        "colab": {
          "base_uri": "https://localhost:8080/"
        },
        "id": "TVg95_-ryn0H",
        "outputId": "90c67208-d283-47f1-f43f-699359c03be0"
      },
      "source": [
        "gbrt.score(X_test,y_test)"
      ],
      "execution_count": null,
      "outputs": [
        {
          "output_type": "execute_result",
          "data": {
            "text/plain": [
              "0.8046842004090073"
            ]
          },
          "metadata": {
            "tags": []
          },
          "execution_count": 31
        }
      ]
    },
    {
      "cell_type": "markdown",
      "metadata": {
        "id": "doFoyWy5z-uo"
      },
      "source": [
        "Luego probamos el modelo con la data preprocesada"
      ]
    },
    {
      "cell_type": "code",
      "metadata": {
        "colab": {
          "background_save": true,
          "base_uri": "https://localhost:8080/"
        },
        "id": "gWX0zrOlzH_n",
        "outputId": "7789dbd8-986a-4a34-9b67-d6e72819ec48"
      },
      "source": [
        "gbrt2 = GradientBoostingRegressor()\n",
        "gbrt2.fit(X_train2, y_train2)"
      ],
      "execution_count": null,
      "outputs": [
        {
          "output_type": "stream",
          "text": [
            "/usr/local/lib/python3.7/dist-packages/sklearn/ensemble/_gb.py:1454: DataConversionWarning: A column-vector y was passed when a 1d array was expected. Please change the shape of y to (n_samples, ), for example using ravel().\n",
            "  y = column_or_1d(y, warn=True)\n"
          ],
          "name": "stderr"
        }
      ]
    },
    {
      "cell_type": "code",
      "metadata": {
        "id": "ZXNmKJlszMVl"
      },
      "source": [
        "from sklearn.metrics import mean_squared_error\n",
        "errors = [mean_squared_error(y_test2, y_pred) for y_pred in gbrt2.staged_predict(X_test2)]"
      ],
      "execution_count": null,
      "outputs": []
    },
    {
      "cell_type": "code",
      "metadata": {
        "colab": {
          "base_uri": "https://localhost:8080/"
        },
        "id": "SrDJGrlfzNRu",
        "outputId": "7ada736b-d6a7-485f-d1da-ccd15131663c"
      },
      "source": [
        "print(np.sqrt(np.mean(errors)))"
      ],
      "execution_count": null,
      "outputs": [
        {
          "output_type": "stream",
          "text": [
            "5.50430130454259\n"
          ],
          "name": "stdout"
        }
      ]
    },
    {
      "cell_type": "code",
      "metadata": {
        "colab": {
          "base_uri": "https://localhost:8080/"
        },
        "id": "6EzhFwv_zPNj",
        "outputId": "45067984-26bf-4f67-efd5-614d115106e2"
      },
      "source": [
        "gbrt2.score(X_test2,y_test2)"
      ],
      "execution_count": null,
      "outputs": [
        {
          "output_type": "execute_result",
          "data": {
            "text/plain": [
              "0.802611129674834"
            ]
          },
          "metadata": {
            "tags": []
          },
          "execution_count": 17
        }
      ]
    },
    {
      "cell_type": "markdown",
      "metadata": {
        "id": "Hwmd7IpCmbex"
      },
      "source": [
        "Notamos que el modelo sin preprocesar obtuvo un mayor score (80.26%) comparado con el modelo entrenado usando data preprocesada. Sin embargo, este modelo no permite trabajar con datos muy grandes debido a su lentitud. Debido a esto Sklearn sugiere usar el modelo Light Gradient Boosting Machine (LightGBM), este modelo realiza parte del proceso de manera distribuida, por lo que es mucho más rápido que el modelo básico."
      ]
    },
    {
      "cell_type": "markdown",
      "metadata": {
        "id": "IRVQ5m4e24Xr"
      },
      "source": [
        "Mediante este modelo también evaluaremos el modelo usando data que ha sido preprocesada y data sin preprocesamiento, esto debido a que en el modelo básico se observó que obtuvo un mejor score con la data sin preprocesar"
      ]
    },
    {
      "cell_type": "markdown",
      "metadata": {
        "id": "ZPblSx-oZVc7"
      },
      "source": [
        "# Light Gradient Boosting Machine"
      ]
    },
    {
      "cell_type": "markdown",
      "metadata": {
        "id": "cx_aXv5q7uS-"
      },
      "source": [
        "LightGBM es un marco de mejora de gradientes que utiliza algoritmos de aprendizaje basados ​​en árboles. Está diseñado para ser distribuido y eficiente con las siguientes ventajas:\n",
        "\n",
        "* Velocidad de entrenamiento más rápida y mayor eficiencia.\n",
        "* Menor uso de memoria.\n",
        "* Mejor precisión.\n",
        "* Soporte de aprendizaje en paralelo, distribuido y GPU.\n",
        "* Capaz de manejar datos a gran escala.\n",
        "\n",
        "LightGBM divide el árbol en forma de hojas en lugar de otros algoritmos de impulso que crecen a nivel del árbol. Elige la hoja con la máxima pérdida delta para crecer. Dado que la hoja es fija, el algoritmo de hoja tiene una pérdida menor en comparación con el algoritmo de nivel. El crecimiento de los árboles por hojas puede aumentar la complejidad del modelo y puede conducir a un sobreajuste en pequeños conjuntos de datos.\n",
        "\n",
        "A continuación se muestra una representación esquemática del crecimiento de los árboles en forma de hoja: \n",
        "\n",
        "\n",
        "\n",
        "Los hiperparámetros más influyentes son: \n",
        "  max_depth, n_estimators y learning_rate.\n"
      ]
    },
    {
      "cell_type": "markdown",
      "metadata": {
        "id": "Pd0WKJ4SvqLV"
      },
      "source": [
        "## Importacion de data y funciones"
      ]
    },
    {
      "cell_type": "markdown",
      "metadata": {
        "id": "-uMGvB_YHFhC"
      },
      "source": [
        "Se tomaron los siguientes conjuntos de características, siendo:\n",
        "* features: Conjunto de caracteristicas relevantes de la data original en el modelo con data.\n",
        "* features2: Conjunto de caracteristicas más relevantes de la data final en el modelo con data.\n",
        "* features3: Conjunto de caracteristicas relevantes de la data final en el modelo con data."
      ]
    },
    {
      "cell_type": "code",
      "metadata": {
        "colab": {
          "base_uri": "https://localhost:8080/"
        },
        "id": "-6hOvSRlzOWq",
        "outputId": "43ae842f-b1b8-4295-d4b9-ca6465da0017"
      },
      "source": [
        "#features = ['pickup_latitude',\t'pickup_longitude',\t'dropoff_latitude',\t'dropoff_longitude'] \n",
        "features2 = ['pickup_latitude',\t'pickup_longitude',\t'dropoff_latitude',\t'dropoff_longitude', 'hour']\n",
        "#features3 = ['pickup_latitude',\t'pickup_longitude',\t'dropoff_latitude',\t'dropoff_longitude', 'week', 'hour', 'day','hora_punta']\n",
        "\n",
        "X = data[features2]\n",
        "\n",
        "#X = data.drop(columns=['fare_amount','key',\t'pickup_datetime']) #Conjunto de caracteristicas relevantes del modelo final\n",
        "y = data['fare_amount']\n",
        "\n",
        "print(X.shape)\n",
        "print(y.shape)"
      ],
      "execution_count": null,
      "outputs": [
        {
          "output_type": "stream",
          "text": [
            "(11773348, 5)\n",
            "(11773348,)\n"
          ],
          "name": "stdout"
        }
      ]
    },
    {
      "cell_type": "code",
      "metadata": {
        "colab": {
          "base_uri": "https://localhost:8080/"
        },
        "id": "_x2JtXeWzByp",
        "outputId": "2c536380-7136-4274-acce-73d3b7b9e71c"
      },
      "source": [
        "from sklearn.model_selection import train_test_split\n",
        "\n",
        "X_train, X_test, y_train, y_test = train_test_split(X, y, test_size = 0.3, random_state = 42)\n",
        "\n",
        "print(X_train.shape)\n",
        "print(y_train.shape)\n",
        "print(X_test.shape)\n",
        "print(y_test.shape)"
      ],
      "execution_count": null,
      "outputs": [
        {
          "output_type": "stream",
          "text": [
            "(8241343, 5)\n",
            "(8241343,)\n",
            "(3532005, 5)\n",
            "(3532005,)\n"
          ],
          "name": "stdout"
        }
      ]
    },
    {
      "cell_type": "code",
      "metadata": {
        "id": "GyH3jTCIWHv8"
      },
      "source": [
        "import matplotlib.pyplot as plt\n",
        "\n",
        "def dibuja_caracteristicas_importantes(modelo):\n",
        "    n_caracteristica = X.shape[1]\n",
        "    plt.barh(range(n_caracteristica), modelo.feature_importances_, align='center')\n",
        "    plt.yticks(np.arange(n_caracteristica),list(X.columns))\n",
        "    plt.xlabel(\"Caracteristicas importantes\")\n",
        "    plt.ylabel(\"Caracteristica\")"
      ],
      "execution_count": null,
      "outputs": []
    },
    {
      "cell_type": "markdown",
      "metadata": {
        "id": "TN7-N_w3aGmA"
      },
      "source": [
        "### Prueba con un modelo"
      ]
    },
    {
      "cell_type": "code",
      "metadata": {
        "colab": {
          "base_uri": "https://localhost:8080/"
        },
        "id": "S1D4s1jVi3R5",
        "outputId": "ae6a5c22-e487-43c5-9a57-e233658d3352"
      },
      "source": [
        "!pip install lightgbm"
      ],
      "execution_count": null,
      "outputs": [
        {
          "output_type": "stream",
          "text": [
            "Requirement already satisfied: lightgbm in /usr/local/lib/python3.7/dist-packages (2.2.3)\n",
            "Requirement already satisfied: scipy in /usr/local/lib/python3.7/dist-packages (from lightgbm) (1.4.1)\n",
            "Requirement already satisfied: numpy in /usr/local/lib/python3.7/dist-packages (from lightgbm) (1.19.5)\n",
            "Requirement already satisfied: scikit-learn in /usr/local/lib/python3.7/dist-packages (from lightgbm) (0.22.2.post1)\n",
            "Requirement already satisfied: joblib>=0.11 in /usr/local/lib/python3.7/dist-packages (from scikit-learn->lightgbm) (1.0.1)\n"
          ],
          "name": "stdout"
        }
      ]
    },
    {
      "cell_type": "code",
      "metadata": {
        "id": "j3eHPkvfT15v"
      },
      "source": [
        "from lightgbm.sklearn import LGBMRegressor\n",
        "import multiprocessing\n",
        "from sklearn import metrics\n",
        "from sklearn.metrics import r2_score\n",
        "#from sklearn.model_selection import cross_validate\n",
        "from sklearn.model_selection import GridSearchCV\n",
        "from sklearn.model_selection import RepeatedKFold\n",
        "import random"
      ],
      "execution_count": null,
      "outputs": []
    },
    {
      "cell_type": "markdown",
      "metadata": {
        "id": "xOk_-BdsF04D"
      },
      "source": [
        "Conjunto de datos sin preprocesamiento."
      ]
    },
    {
      "cell_type": "markdown",
      "metadata": {
        "id": "XR2F4419FQIk"
      },
      "source": [
        "Usamos todas las caracteristicas con el mejor modelo resultado de las busquedas aleatorias previas."
      ]
    },
    {
      "cell_type": "code",
      "metadata": {
        "colab": {
          "base_uri": "https://localhost:8080/"
        },
        "id": "5KLrtZ8m8Ni7",
        "outputId": "56b3d845-773f-4c83-fb85-b58fe6b0408e"
      },
      "source": [
        "#lgbm = LGBMRegressor(boosting_type='gbdt',  max_depth= 5, learning_rate=0.1, n_estimators=1000, subsample=0.5,random_state=1, n_jobs=multiprocessing.cpu_count() - 1)\n",
        "lgbm = LGBMRegressor(boosting_type='gbdt',  max_depth= 7, learning_rate=0.1, n_estimators=1000, subsample=0.5,random_state=1, n_jobs=multiprocessing.cpu_count() - 1)\n",
        "lgbm.fit(X_train, y_train)"
      ],
      "execution_count": null,
      "outputs": [
        {
          "output_type": "execute_result",
          "data": {
            "text/plain": [
              "LGBMRegressor(boosting_type='gbdt', class_weight=None, colsample_bytree=1.0,\n",
              "              importance_type='split', learning_rate=0.1, max_depth=7,\n",
              "              min_child_samples=20, min_child_weight=0.001, min_split_gain=0.0,\n",
              "              n_estimators=1000, n_jobs=39, num_leaves=31, objective=None,\n",
              "              random_state=1, reg_alpha=0.0, reg_lambda=0.0, silent=True,\n",
              "              subsample=0.5, subsample_for_bin=200000, subsample_freq=0)"
            ]
          },
          "metadata": {
            "tags": []
          },
          "execution_count": 14
        }
      ]
    },
    {
      "cell_type": "code",
      "metadata": {
        "colab": {
          "base_uri": "https://localhost:8080/"
        },
        "id": "wA1zUaNSvVdC",
        "outputId": "769bdb16-0776-428c-bbf5-034d2a243542"
      },
      "source": [
        "score = lgbm.score(X_test, y_test)\n",
        "print(\"score :\",score)\n",
        "\n",
        "y_pred = lgbm.predict(X_test)\n",
        "\n",
        "mse = np.mean((y_test - y_pred)**2)\n",
        "print(\"MSE :\", mse)\n",
        "\n",
        "rmse = np.sqrt(mse)\n",
        "print(\"RMSE :\", rmse)\n",
        "\n",
        "r2 = r2_score(y_test, y_pred)\n",
        "print(\"r2_score :\", r2)"
      ],
      "execution_count": null,
      "outputs": [
        {
          "output_type": "stream",
          "text": [
            "score : 0.8974132606927763\n",
            "MSE : 10.956263811435077\n",
            "RMSE : 3.3100247448372766\n",
            "r2_score : 0.8974132606927763\n"
          ],
          "name": "stdout"
        }
      ]
    },
    {
      "cell_type": "code",
      "metadata": {
        "colab": {
          "base_uri": "https://localhost:8080/",
          "height": 279
        },
        "id": "l2ry4lwdvVJL",
        "outputId": "84ce945a-ef72-47be-bbcd-2a78d87de0dc"
      },
      "source": [
        "dibuja_caracteristicas_importantes(lgbm)"
      ],
      "execution_count": null,
      "outputs": [
        {
          "output_type": "display_data",
          "data": {
            "image/png": "[encoded data removed]",
            "text/plain": [
              "<Figure size 432x288 with 1 Axes>"
            ]
          },
          "metadata": {
            "tags": [],
            "needs_background": "light"
          }
        }
      ]
    },
    {
      "cell_type": "markdown",
      "metadata": {
        "id": "qvFEnwX1vWAN"
      },
      "source": [
        "Conjunto de datos con preprocesamiento."
      ]
    },
    {
      "cell_type": "markdown",
      "metadata": {
        "id": "SRu9qvIPF_0c"
      },
      "source": [
        "Usamos las caracteristicas mas importantes resultado de anteriores ejecuciones con el mejor modelo resultado de las busquedas aleatorias previas."
      ]
    },
    {
      "cell_type": "code",
      "metadata": {
        "id": "qzXxG2V70MVv"
      },
      "source": [
        "from sklearn.preprocessing import MinMaxScaler\n",
        "\n",
        "scaler = MinMaxScaler()\n",
        "\n",
        "X_train_s = scaler.fit_transform(X_train)\n",
        "X_test_s = scaler.transform(X_test)"
      ],
      "execution_count": null,
      "outputs": []
    },
    {
      "cell_type": "code",
      "metadata": {
        "colab": {
          "base_uri": "https://localhost:8080/"
        },
        "id": "dIHKMWTvVCQZ",
        "outputId": "1e7fd5c6-9802-4327-dce0-b5e084d5466e"
      },
      "source": [
        "lgbm_s = LGBMRegressor(boosting_type=['gbdt'], class_weight=None, colsample_bytree=1.0,\n",
        "              importance_type='split', learning_rate=0.1, max_depth=7,\n",
        "              min_child_samples=20, min_child_weight=0.001, min_split_gain=0.0,\n",
        "              n_estimators=1000, n_jobs=39, num_leaves=31, objective=None,\n",
        "              random_state=1, reg_alpha=0.0, reg_lambda=0.0, silent=True,\n",
        "              subsample=0.5, subsample_for_bin=200000, subsample_freq=0)\n",
        "lgbm_s.fit(X_train_s, y_train)"
      ],
      "execution_count": null,
      "outputs": [
        {
          "output_type": "execute_result",
          "data": {
            "text/plain": [
              "LGBMRegressor(boosting_type=['gbdt'], class_weight=None, colsample_bytree=1.0,\n",
              "              importance_type='split', learning_rate=0.1, max_depth=7,\n",
              "              min_child_samples=20, min_child_weight=0.001, min_split_gain=0.0,\n",
              "              n_estimators=1000, n_jobs=39, num_leaves=31, objective=None,\n",
              "              random_state=1, reg_alpha=0.0, reg_lambda=0.0, silent=True,\n",
              "              subsample=0.5, subsample_for_bin=200000, subsample_freq=0)"
            ]
          },
          "metadata": {
            "tags": []
          },
          "execution_count": 11
        }
      ]
    },
    {
      "cell_type": "code",
      "metadata": {
        "id": "agmvIopcqkSf",
        "colab": {
          "base_uri": "https://localhost:8080/"
        },
        "outputId": "6188bc62-5a46-438f-aef6-b2ab9ac99df1"
      },
      "source": [
        "score = lgbm_s.score(X_test_s, y_test)\n",
        "print(\"score :\",score)\n",
        "\n",
        "y_pred = lgbm_s.predict(X_test)\n",
        "\n",
        "mse = np.mean((y_test - y_pred)**2)\n",
        "print(\"MSE :\", mse)\n",
        "\n",
        "rmse = np.sqrt(mse)\n",
        "print(\"RMSE :\", rmse)\n",
        "\n",
        "r2 = r2_score(y_test, y_pred)\n",
        "print(\"r2_score :\", r2)"
      ],
      "execution_count": null,
      "outputs": [
        {
          "output_type": "stream",
          "text": [
            "score : 0.8933640492833465\n",
            "MSE : 254.90746894841033\n",
            "RMSE : 15.965821900184478\n",
            "r2_score : -1.386774042180087\n"
          ],
          "name": "stdout"
        }
      ]
    },
    {
      "cell_type": "code",
      "metadata": {
        "colab": {
          "base_uri": "https://localhost:8080/",
          "height": 279
        },
        "id": "i7hcMrZLAqgO",
        "outputId": "0b363c3f-652f-4f7f-de8b-0f26add37ffd"
      },
      "source": [
        "dibuja_caracteristicas_importantes(lgbm_s)"
      ],
      "execution_count": null,
      "outputs": [
        {
          "output_type": "display_data",
          "data": {
            "image/png": "[encoded data removed]",
            "text/plain": [
              "<Figure size 432x288 with 1 Axes>"
            ]
          },
          "metadata": {
            "tags": [],
            "needs_background": "light"
          }
        }
      ]
    },
    {
      "cell_type": "markdown",
      "metadata": {
        "id": "bs8WpDJkJKOt"
      },
      "source": [
        "### Busqueda aleatoria"
      ]
    },
    {
      "cell_type": "code",
      "metadata": {
        "colab": {
          "base_uri": "https://localhost:8080/"
        },
        "id": "GlO3_R8CJJ43",
        "outputId": "360665c1-cd2f-4730-e028-e43f5489df0c"
      },
      "source": [
        "boosting_type = ['gbdt']\n",
        "best_score = -1\n",
        "best_model = LGBMRegressor()\n",
        "\n",
        "for i in range(12):\n",
        "    n_estimators= random.choice([100, 500, 750 ,1000])\n",
        "    max_depth = random.choice([3, 5, 7])\n",
        "    subsample = random.choice([0.5, 1])\n",
        "    learning_rate = random.choice([0.001, 0.01, 0.1])\n",
        "\n",
        "    model = LGBMRegressor(boosting_type=boosting_type,  max_depth= max_depth, learning_rate=learning_rate, n_estimators=n_estimators, subsample=subsample,random_state=1, n_jobs=multiprocessing.cpu_count() - 1)\n",
        "    model.fit(X_train, y_train)\n",
        "    score = model.score(X_test, y_test)\n",
        "    if score > best_score:\n",
        "        best_score = score \n",
        "        best_model = model\n",
        "        print(\"Mejor score: {} \\nModelo: {}\".format(score, model))"
      ],
      "execution_count": null,
      "outputs": [
        {
          "output_type": "stream",
          "text": [
            "Mejor score: 0.6488191195415001 \n",
            "Modelo: LGBMRegressor(boosting_type=['gbdt'], class_weight=None, colsample_bytree=1.0,\n",
            "              importance_type='split', learning_rate=0.001, max_depth=7,\n",
            "              min_child_samples=20, min_child_weight=0.001, min_split_gain=0.0,\n",
            "              n_estimators=1000, n_jobs=39, num_leaves=31, objective=None,\n",
            "              random_state=1, reg_alpha=0.0, reg_lambda=0.0, silent=True,\n",
            "              subsample=0.5, subsample_for_bin=200000, subsample_freq=0)\n",
            "Mejor score: 0.8888296855530071 \n",
            "Modelo: LGBMRegressor(boosting_type=['gbdt'], class_weight=None, colsample_bytree=1.0,\n",
            "              importance_type='split', learning_rate=0.1, max_depth=5,\n",
            "              min_child_samples=20, min_child_weight=0.001, min_split_gain=0.0,\n",
            "              n_estimators=500, n_jobs=39, num_leaves=31, objective=None,\n",
            "              random_state=1, reg_alpha=0.0, reg_lambda=0.0, silent=True,\n",
            "              subsample=0.5, subsample_for_bin=200000, subsample_freq=0)\n",
            "Mejor score: 0.8974132606927763 \n",
            "Modelo: LGBMRegressor(boosting_type=['gbdt'], class_weight=None, colsample_bytree=1.0,\n",
            "              importance_type='split', learning_rate=0.1, max_depth=7,\n",
            "              min_child_samples=20, min_child_weight=0.001, min_split_gain=0.0,\n",
            "              n_estimators=1000, n_jobs=39, num_leaves=31, objective=None,\n",
            "              random_state=1, reg_alpha=0.0, reg_lambda=0.0, silent=True,\n",
            "              subsample=1, subsample_for_bin=200000, subsample_freq=0)\n",
            "Mejor score: 0.8974132606927764 \n",
            "Modelo: LGBMRegressor(boosting_type=['gbdt'], class_weight=None, colsample_bytree=1.0,\n",
            "              importance_type='split', learning_rate=0.1, max_depth=7,\n",
            "              min_child_samples=20, min_child_weight=0.001, min_split_gain=0.0,\n",
            "              n_estimators=1000, n_jobs=39, num_leaves=31, objective=None,\n",
            "              random_state=1, reg_alpha=0.0, reg_lambda=0.0, silent=True,\n",
            "              subsample=0.5, subsample_for_bin=200000, subsample_freq=0)\n"
          ],
          "name": "stdout"
        }
      ]
    },
    {
      "cell_type": "code",
      "metadata": {
        "colab": {
          "base_uri": "https://localhost:8080/"
        },
        "id": "o0fKi0kLv0mp",
        "outputId": "a299b5ec-649c-4243-f6fb-b2533ee36981"
      },
      "source": [
        "#res = cross_validate(best_model, X_train, y_train)\n",
        "#print(pd.DataFrame(res))\n",
        "score = model.score(X_train, y_train)\n",
        "print(\"Score entrenamiento: \",score)\n",
        "\n",
        "score = model.score(X_test, y_test)\n",
        "print(\"Score prueba: \",score)\n",
        "\n",
        "y_pred = model.predict(X_test)\n",
        "mse = np.mean((y_test - y_pred)**2)\n",
        "print(\"MSE :\", mse)\n",
        "\n",
        "rmse = np.sqrt(mse)\n",
        "print(\"RMSE :\", rmse)\n",
        "\n",
        "r2 = metrics.r2_score(y_test, y_pred)\n",
        "print(\"r2_score :\", r2)\n",
        "\n",
        "# comp = pd.DataFrame({'y_test':y_test, 'y_pred':y_pred})\n",
        "# print(comp)"
      ],
      "execution_count": null,
      "outputs": [
        {
          "output_type": "stream",
          "text": [
            "Score entrenamiento:  0.85660492760096\n",
            "Score prueba:  0.8559937145645446\n",
            "MSE : 15.379871359498152\n",
            "RMSE : 3.921717909220161\n",
            "r2_score : 0.8559937145645446\n"
          ],
          "name": "stdout"
        }
      ]
    },
    {
      "cell_type": "code",
      "metadata": {
        "colab": {
          "base_uri": "https://localhost:8080/",
          "height": 279
        },
        "id": "wdVcPeA2WyMh",
        "outputId": "a17ab441-6022-4d7c-d97d-2ca5f08f07b3"
      },
      "source": [
        "dibuja_caracteristicas_importantes(best_model)"
      ],
      "execution_count": null,
      "outputs": [
        {
          "output_type": "display_data",
          "data": {
            "image/png": "[encoded data removed]",
            "text/plain": [
              "<Figure size 432x288 with 1 Axes>"
            ]
          },
          "metadata": {
            "tags": [],
            "needs_background": "light"
          }
        }
      ]
    },
    {
      "cell_type": "markdown",
      "metadata": {
        "id": "n5KSvbAmAk0k"
      },
      "source": [
        "### GridSearchCV"
      ]
    },
    {
      "cell_type": "markdown",
      "metadata": {
        "id": "DSCXVDvzGNdV"
      },
      "source": [
        "Se utilizó `GridSearchCV()` con el fin de encontrar el mejor modelo para este conjunto de datos. Se tomó como conjunto de entrenamiento las caracteristicas más importantes"
      ]
    },
    {
      "cell_type": "code",
      "metadata": {
        "id": "jJ3BZVlVtO1D",
        "colab": {
          "base_uri": "https://localhost:8080/"
        },
        "outputId": "1e1c01f9-1a5e-460d-879c-66c285720023"
      },
      "source": [
        "param_grid = {'n_estimators'     : [500, 750, 1000],\n",
        "              'max_depth'        : [3, 5, 7],\n",
        "              'learning_rate'    : [0.001, 0.01, 0.1],\n",
        "             }\n",
        "\n",
        "grid = GridSearchCV(\n",
        "        estimator  = LGBMRegressor(boosting_type = 'gbdt', random_state = 1 , n_jobs = multiprocessing.cpu_count() - 1),\n",
        "        param_grid = param_grid,\n",
        "        return_train_score = True,\n",
        "        verbose = 2\n",
        "       )\n",
        "\n",
        "grid.fit(X_train, y_train)"
      ],
      "execution_count": null,
      "outputs": [
        {
          "output_type": "stream",
          "text": [
            "Fitting 5 folds for each of 27 candidates, totalling 135 fits\n"
          ],
          "name": "stdout"
        },
        {
          "output_type": "stream",
          "text": [
            "[Parallel(n_jobs=1)]: Using backend SequentialBackend with 1 concurrent workers.\n"
          ],
          "name": "stderr"
        },
        {
          "output_type": "stream",
          "text": [
            "[CV] learning_rate=0.001, max_depth=3, n_estimators=500 ..............\n",
            "[CV]  learning_rate=0.001, max_depth=3, n_estimators=500, total=  27.0s\n",
            "[CV] learning_rate=0.001, max_depth=3, n_estimators=500 ..............\n"
          ],
          "name": "stdout"
        },
        {
          "output_type": "stream",
          "text": [
            "[Parallel(n_jobs=1)]: Done   1 out of   1 | elapsed:   30.9s remaining:    0.0s\n"
          ],
          "name": "stderr"
        },
        {
          "output_type": "stream",
          "text": [
            "[CV]  learning_rate=0.001, max_depth=3, n_estimators=500, total=  26.4s\n",
            "[CV] learning_rate=0.001, max_depth=3, n_estimators=500 ..............\n",
            "[CV]  learning_rate=0.001, max_depth=3, n_estimators=500, total=  26.3s\n",
            "[CV] learning_rate=0.001, max_depth=3, n_estimators=500 ..............\n",
            "[CV]  learning_rate=0.001, max_depth=3, n_estimators=500, total=  26.2s\n",
            "[CV] learning_rate=0.001, max_depth=3, n_estimators=500 ..............\n",
            "[CV]  learning_rate=0.001, max_depth=3, n_estimators=500, total=  26.4s\n",
            "[CV] learning_rate=0.001, max_depth=3, n_estimators=750 ..............\n",
            "[CV]  learning_rate=0.001, max_depth=3, n_estimators=750, total=  39.0s\n",
            "[CV] learning_rate=0.001, max_depth=3, n_estimators=750 ..............\n",
            "[CV]  learning_rate=0.001, max_depth=3, n_estimators=750, total=  38.9s\n",
            "[CV] learning_rate=0.001, max_depth=3, n_estimators=750 ..............\n",
            "[CV]  learning_rate=0.001, max_depth=3, n_estimators=750, total=  39.0s\n",
            "[CV] learning_rate=0.001, max_depth=3, n_estimators=750 ..............\n",
            "[CV]  learning_rate=0.001, max_depth=3, n_estimators=750, total=  38.6s\n",
            "[CV] learning_rate=0.001, max_depth=3, n_estimators=750 ..............\n",
            "[CV]  learning_rate=0.001, max_depth=3, n_estimators=750, total=  39.4s\n",
            "[CV] learning_rate=0.001, max_depth=3, n_estimators=1000 .............\n",
            "[CV]  learning_rate=0.001, max_depth=3, n_estimators=1000, total=  53.1s\n",
            "[CV] learning_rate=0.001, max_depth=3, n_estimators=1000 .............\n",
            "[CV]  learning_rate=0.001, max_depth=3, n_estimators=1000, total=  51.6s\n",
            "[CV] learning_rate=0.001, max_depth=3, n_estimators=1000 .............\n",
            "[CV]  learning_rate=0.001, max_depth=3, n_estimators=1000, total=  51.8s\n",
            "[CV] learning_rate=0.001, max_depth=3, n_estimators=1000 .............\n",
            "[CV]  learning_rate=0.001, max_depth=3, n_estimators=1000, total=  52.1s\n",
            "[CV] learning_rate=0.001, max_depth=3, n_estimators=1000 .............\n",
            "[CV]  learning_rate=0.001, max_depth=3, n_estimators=1000, total=  52.3s\n",
            "[CV] learning_rate=0.001, max_depth=5, n_estimators=500 ..............\n",
            "[CV]  learning_rate=0.001, max_depth=5, n_estimators=500, total=  37.3s\n",
            "[CV] learning_rate=0.001, max_depth=5, n_estimators=500 ..............\n",
            "[CV]  learning_rate=0.001, max_depth=5, n_estimators=500, total=  38.6s\n",
            "[CV] learning_rate=0.001, max_depth=5, n_estimators=500 ..............\n",
            "[CV]  learning_rate=0.001, max_depth=5, n_estimators=500, total=  38.1s\n",
            "[CV] learning_rate=0.001, max_depth=5, n_estimators=500 ..............\n",
            "[CV]  learning_rate=0.001, max_depth=5, n_estimators=500, total=  37.4s\n",
            "[CV] learning_rate=0.001, max_depth=5, n_estimators=500 ..............\n",
            "[CV]  learning_rate=0.001, max_depth=5, n_estimators=500, total=  37.5s\n",
            "[CV] learning_rate=0.001, max_depth=5, n_estimators=750 ..............\n",
            "[CV]  learning_rate=0.001, max_depth=5, n_estimators=750, total=  56.8s\n",
            "[CV] learning_rate=0.001, max_depth=5, n_estimators=750 ..............\n",
            "[CV]  learning_rate=0.001, max_depth=5, n_estimators=750, total=  56.7s\n",
            "[CV] learning_rate=0.001, max_depth=5, n_estimators=750 ..............\n",
            "[CV]  learning_rate=0.001, max_depth=5, n_estimators=750, total=  56.9s\n",
            "[CV] learning_rate=0.001, max_depth=5, n_estimators=750 ..............\n",
            "[CV]  learning_rate=0.001, max_depth=5, n_estimators=750, total=  57.4s\n",
            "[CV] learning_rate=0.001, max_depth=5, n_estimators=750 ..............\n",
            "[CV]  learning_rate=0.001, max_depth=5, n_estimators=750, total=  58.1s\n",
            "[CV] learning_rate=0.001, max_depth=5, n_estimators=1000 .............\n",
            "[CV]  learning_rate=0.001, max_depth=5, n_estimators=1000, total= 1.3min\n",
            "[CV] learning_rate=0.001, max_depth=5, n_estimators=1000 .............\n",
            "[CV]  learning_rate=0.001, max_depth=5, n_estimators=1000, total= 1.3min\n",
            "[CV] learning_rate=0.001, max_depth=5, n_estimators=1000 .............\n",
            "[CV]  learning_rate=0.001, max_depth=5, n_estimators=1000, total= 1.3min\n",
            "[CV] learning_rate=0.001, max_depth=5, n_estimators=1000 .............\n",
            "[CV]  learning_rate=0.001, max_depth=5, n_estimators=1000, total= 1.3min\n",
            "[CV] learning_rate=0.001, max_depth=5, n_estimators=1000 .............\n",
            "[CV]  learning_rate=0.001, max_depth=5, n_estimators=1000, total= 1.3min\n",
            "[CV] learning_rate=0.001, max_depth=7, n_estimators=500 ..............\n",
            "[CV]  learning_rate=0.001, max_depth=7, n_estimators=500, total=  48.1s\n",
            "[CV] learning_rate=0.001, max_depth=7, n_estimators=500 ..............\n",
            "[CV]  learning_rate=0.001, max_depth=7, n_estimators=500, total=  46.8s\n",
            "[CV] learning_rate=0.001, max_depth=7, n_estimators=500 ..............\n",
            "[CV]  learning_rate=0.001, max_depth=7, n_estimators=500, total=  46.3s\n",
            "[CV] learning_rate=0.001, max_depth=7, n_estimators=500 ..............\n",
            "[CV]  learning_rate=0.001, max_depth=7, n_estimators=500, total=  45.7s\n",
            "[CV] learning_rate=0.001, max_depth=7, n_estimators=500 ..............\n",
            "[CV]  learning_rate=0.001, max_depth=7, n_estimators=500, total=  45.7s\n",
            "[CV] learning_rate=0.001, max_depth=7, n_estimators=750 ..............\n",
            "[CV]  learning_rate=0.001, max_depth=7, n_estimators=750, total= 1.2min\n",
            "[CV] learning_rate=0.001, max_depth=7, n_estimators=750 ..............\n",
            "[CV]  learning_rate=0.001, max_depth=7, n_estimators=750, total= 1.1min\n",
            "[CV] learning_rate=0.001, max_depth=7, n_estimators=750 ..............\n",
            "[CV]  learning_rate=0.001, max_depth=7, n_estimators=750, total= 1.2min\n",
            "[CV] learning_rate=0.001, max_depth=7, n_estimators=750 ..............\n",
            "[CV]  learning_rate=0.001, max_depth=7, n_estimators=750, total= 1.2min\n",
            "[CV] learning_rate=0.001, max_depth=7, n_estimators=750 ..............\n",
            "[CV]  learning_rate=0.001, max_depth=7, n_estimators=750, total= 1.2min\n",
            "[CV] learning_rate=0.001, max_depth=7, n_estimators=1000 .............\n",
            "[CV]  learning_rate=0.001, max_depth=7, n_estimators=1000, total= 1.6min\n",
            "[CV] learning_rate=0.001, max_depth=7, n_estimators=1000 .............\n",
            "[CV]  learning_rate=0.001, max_depth=7, n_estimators=1000, total= 1.5min\n",
            "[CV] learning_rate=0.001, max_depth=7, n_estimators=1000 .............\n",
            "[CV]  learning_rate=0.001, max_depth=7, n_estimators=1000, total= 1.5min\n",
            "[CV] learning_rate=0.001, max_depth=7, n_estimators=1000 .............\n",
            "[CV]  learning_rate=0.001, max_depth=7, n_estimators=1000, total= 1.6min\n",
            "[CV] learning_rate=0.001, max_depth=7, n_estimators=1000 .............\n",
            "[CV]  learning_rate=0.001, max_depth=7, n_estimators=1000, total= 1.6min\n",
            "[CV] learning_rate=0.01, max_depth=3, n_estimators=500 ...............\n",
            "[CV]  learning_rate=0.01, max_depth=3, n_estimators=500, total=  27.3s\n",
            "[CV] learning_rate=0.01, max_depth=3, n_estimators=500 ...............\n",
            "[CV]  learning_rate=0.01, max_depth=3, n_estimators=500, total=  27.1s\n",
            "[CV] learning_rate=0.01, max_depth=3, n_estimators=500 ...............\n",
            "[CV]  learning_rate=0.01, max_depth=3, n_estimators=500, total=  27.2s\n",
            "[CV] learning_rate=0.01, max_depth=3, n_estimators=500 ...............\n",
            "[CV]  learning_rate=0.01, max_depth=3, n_estimators=500, total=  27.7s\n",
            "[CV] learning_rate=0.01, max_depth=3, n_estimators=500 ...............\n",
            "[CV]  learning_rate=0.01, max_depth=3, n_estimators=500, total=  27.4s\n",
            "[CV] learning_rate=0.01, max_depth=3, n_estimators=750 ...............\n",
            "[CV]  learning_rate=0.01, max_depth=3, n_estimators=750, total=  40.5s\n",
            "[CV] learning_rate=0.01, max_depth=3, n_estimators=750 ...............\n",
            "[CV]  learning_rate=0.01, max_depth=3, n_estimators=750, total=  39.7s\n",
            "[CV] learning_rate=0.01, max_depth=3, n_estimators=750 ...............\n",
            "[CV]  learning_rate=0.01, max_depth=3, n_estimators=750, total=  39.7s\n",
            "[CV] learning_rate=0.01, max_depth=3, n_estimators=750 ...............\n",
            "[CV]  learning_rate=0.01, max_depth=3, n_estimators=750, total=  40.2s\n",
            "[CV] learning_rate=0.01, max_depth=3, n_estimators=750 ...............\n",
            "[CV]  learning_rate=0.01, max_depth=3, n_estimators=750, total=  40.1s\n",
            "[CV] learning_rate=0.01, max_depth=3, n_estimators=1000 ..............\n",
            "[CV]  learning_rate=0.01, max_depth=3, n_estimators=1000, total=  54.0s\n",
            "[CV] learning_rate=0.01, max_depth=3, n_estimators=1000 ..............\n",
            "[CV]  learning_rate=0.01, max_depth=3, n_estimators=1000, total=  54.0s\n",
            "[CV] learning_rate=0.01, max_depth=3, n_estimators=1000 ..............\n",
            "[CV]  learning_rate=0.01, max_depth=3, n_estimators=1000, total=  53.3s\n",
            "[CV] learning_rate=0.01, max_depth=3, n_estimators=1000 ..............\n",
            "[CV]  learning_rate=0.01, max_depth=3, n_estimators=1000, total=  53.1s\n",
            "[CV] learning_rate=0.01, max_depth=3, n_estimators=1000 ..............\n",
            "[CV]  learning_rate=0.01, max_depth=3, n_estimators=1000, total=  53.2s\n",
            "[CV] learning_rate=0.01, max_depth=5, n_estimators=500 ...............\n",
            "[CV]  learning_rate=0.01, max_depth=5, n_estimators=500, total=  38.7s\n",
            "[CV] learning_rate=0.01, max_depth=5, n_estimators=500 ...............\n",
            "[CV]  learning_rate=0.01, max_depth=5, n_estimators=500, total=  38.0s\n",
            "[CV] learning_rate=0.01, max_depth=5, n_estimators=500 ...............\n",
            "[CV]  learning_rate=0.01, max_depth=5, n_estimators=500, total=  38.9s\n",
            "[CV] learning_rate=0.01, max_depth=5, n_estimators=500 ...............\n",
            "[CV]  learning_rate=0.01, max_depth=5, n_estimators=500, total=  38.7s\n",
            "[CV] learning_rate=0.01, max_depth=5, n_estimators=500 ...............\n",
            "[CV]  learning_rate=0.01, max_depth=5, n_estimators=500, total=  39.7s\n",
            "[CV] learning_rate=0.01, max_depth=5, n_estimators=750 ...............\n",
            "[CV]  learning_rate=0.01, max_depth=5, n_estimators=750, total= 1.0min\n",
            "[CV] learning_rate=0.01, max_depth=5, n_estimators=750 ...............\n",
            "[CV]  learning_rate=0.01, max_depth=5, n_estimators=750, total= 1.0min\n",
            "[CV] learning_rate=0.01, max_depth=5, n_estimators=750 ...............\n",
            "[CV]  learning_rate=0.01, max_depth=5, n_estimators=750, total= 1.0min\n",
            "[CV] learning_rate=0.01, max_depth=5, n_estimators=750 ...............\n",
            "[CV]  learning_rate=0.01, max_depth=5, n_estimators=750, total= 1.0min\n",
            "[CV] learning_rate=0.01, max_depth=5, n_estimators=750 ...............\n",
            "[CV]  learning_rate=0.01, max_depth=5, n_estimators=750, total= 1.0min\n",
            "[CV] learning_rate=0.01, max_depth=5, n_estimators=1000 ..............\n",
            "[CV]  learning_rate=0.01, max_depth=5, n_estimators=1000, total= 1.4min\n",
            "[CV] learning_rate=0.01, max_depth=5, n_estimators=1000 ..............\n",
            "[CV]  learning_rate=0.01, max_depth=5, n_estimators=1000, total= 1.4min\n",
            "[CV] learning_rate=0.01, max_depth=5, n_estimators=1000 ..............\n",
            "[CV]  learning_rate=0.01, max_depth=5, n_estimators=1000, total= 1.4min\n",
            "[CV] learning_rate=0.01, max_depth=5, n_estimators=1000 ..............\n",
            "[CV]  learning_rate=0.01, max_depth=5, n_estimators=1000, total= 1.4min\n",
            "[CV] learning_rate=0.01, max_depth=5, n_estimators=1000 ..............\n",
            "[CV]  learning_rate=0.01, max_depth=5, n_estimators=1000, total= 1.4min\n",
            "[CV] learning_rate=0.01, max_depth=7, n_estimators=500 ...............\n",
            "[CV]  learning_rate=0.01, max_depth=7, n_estimators=500, total=  49.5s\n",
            "[CV] learning_rate=0.01, max_depth=7, n_estimators=500 ...............\n",
            "[CV]  learning_rate=0.01, max_depth=7, n_estimators=500, total=  50.1s\n",
            "[CV] learning_rate=0.01, max_depth=7, n_estimators=500 ...............\n",
            "[CV]  learning_rate=0.01, max_depth=7, n_estimators=500, total=  49.3s\n",
            "[CV] learning_rate=0.01, max_depth=7, n_estimators=500 ...............\n",
            "[CV]  learning_rate=0.01, max_depth=7, n_estimators=500, total=  49.3s\n",
            "[CV] learning_rate=0.01, max_depth=7, n_estimators=500 ...............\n",
            "[CV]  learning_rate=0.01, max_depth=7, n_estimators=500, total=  49.0s\n",
            "[CV] learning_rate=0.01, max_depth=7, n_estimators=750 ...............\n",
            "[CV]  learning_rate=0.01, max_depth=7, n_estimators=750, total= 1.2min\n",
            "[CV] learning_rate=0.01, max_depth=7, n_estimators=750 ...............\n",
            "[CV]  learning_rate=0.01, max_depth=7, n_estimators=750, total= 1.2min\n",
            "[CV] learning_rate=0.01, max_depth=7, n_estimators=750 ...............\n",
            "[CV]  learning_rate=0.01, max_depth=7, n_estimators=750, total= 1.2min\n",
            "[CV] learning_rate=0.01, max_depth=7, n_estimators=750 ...............\n",
            "[CV]  learning_rate=0.01, max_depth=7, n_estimators=750, total= 1.2min\n",
            "[CV] learning_rate=0.01, max_depth=7, n_estimators=750 ...............\n",
            "[CV]  learning_rate=0.01, max_depth=7, n_estimators=750, total= 1.2min\n",
            "[CV] learning_rate=0.01, max_depth=7, n_estimators=1000 ..............\n",
            "[CV]  learning_rate=0.01, max_depth=7, n_estimators=1000, total= 1.6min\n",
            "[CV] learning_rate=0.01, max_depth=7, n_estimators=1000 ..............\n",
            "[CV]  learning_rate=0.01, max_depth=7, n_estimators=1000, total= 1.5min\n",
            "[CV] learning_rate=0.01, max_depth=7, n_estimators=1000 ..............\n",
            "[CV]  learning_rate=0.01, max_depth=7, n_estimators=1000, total= 1.6min\n",
            "[CV] learning_rate=0.01, max_depth=7, n_estimators=1000 ..............\n",
            "[CV]  learning_rate=0.01, max_depth=7, n_estimators=1000, total= 1.5min\n",
            "[CV] learning_rate=0.01, max_depth=7, n_estimators=1000 ..............\n",
            "[CV]  learning_rate=0.01, max_depth=7, n_estimators=1000, total= 1.5min\n",
            "[CV] learning_rate=0.1, max_depth=3, n_estimators=500 ................\n",
            "[CV] . learning_rate=0.1, max_depth=3, n_estimators=500, total=  27.3s\n",
            "[CV] learning_rate=0.1, max_depth=3, n_estimators=500 ................\n",
            "[CV] . learning_rate=0.1, max_depth=3, n_estimators=500, total=  27.5s\n",
            "[CV] learning_rate=0.1, max_depth=3, n_estimators=500 ................\n",
            "[CV] . learning_rate=0.1, max_depth=3, n_estimators=500, total=  28.0s\n",
            "[CV] learning_rate=0.1, max_depth=3, n_estimators=500 ................\n",
            "[CV] . learning_rate=0.1, max_depth=3, n_estimators=500, total=  27.3s\n",
            "[CV] learning_rate=0.1, max_depth=3, n_estimators=500 ................\n",
            "[CV] . learning_rate=0.1, max_depth=3, n_estimators=500, total=  27.8s\n",
            "[CV] learning_rate=0.1, max_depth=3, n_estimators=750 ................\n",
            "[CV] . learning_rate=0.1, max_depth=3, n_estimators=750, total=  41.1s\n",
            "[CV] learning_rate=0.1, max_depth=3, n_estimators=750 ................\n",
            "[CV] . learning_rate=0.1, max_depth=3, n_estimators=750, total=  40.2s\n",
            "[CV] learning_rate=0.1, max_depth=3, n_estimators=750 ................\n",
            "[CV] . learning_rate=0.1, max_depth=3, n_estimators=750, total=  40.4s\n",
            "[CV] learning_rate=0.1, max_depth=3, n_estimators=750 ................\n",
            "[CV] . learning_rate=0.1, max_depth=3, n_estimators=750, total=  40.6s\n",
            "[CV] learning_rate=0.1, max_depth=3, n_estimators=750 ................\n",
            "[CV] . learning_rate=0.1, max_depth=3, n_estimators=750, total=  40.6s\n",
            "[CV] learning_rate=0.1, max_depth=3, n_estimators=1000 ...............\n",
            "[CV]  learning_rate=0.1, max_depth=3, n_estimators=1000, total=  53.6s\n",
            "[CV] learning_rate=0.1, max_depth=3, n_estimators=1000 ...............\n",
            "[CV]  learning_rate=0.1, max_depth=3, n_estimators=1000, total=  53.4s\n",
            "[CV] learning_rate=0.1, max_depth=3, n_estimators=1000 ...............\n",
            "[CV]  learning_rate=0.1, max_depth=3, n_estimators=1000, total=  54.0s\n",
            "[CV] learning_rate=0.1, max_depth=3, n_estimators=1000 ...............\n",
            "[CV]  learning_rate=0.1, max_depth=3, n_estimators=1000, total=  53.4s\n",
            "[CV] learning_rate=0.1, max_depth=3, n_estimators=1000 ...............\n",
            "[CV]  learning_rate=0.1, max_depth=3, n_estimators=1000, total=  49.5s\n",
            "[CV] learning_rate=0.1, max_depth=5, n_estimators=500 ................\n",
            "[CV] . learning_rate=0.1, max_depth=5, n_estimators=500, total=  33.5s\n",
            "[CV] learning_rate=0.1, max_depth=5, n_estimators=500 ................\n",
            "[CV] . learning_rate=0.1, max_depth=5, n_estimators=500, total=  32.3s\n",
            "[CV] learning_rate=0.1, max_depth=5, n_estimators=500 ................\n",
            "[CV] . learning_rate=0.1, max_depth=5, n_estimators=500, total=  31.7s\n",
            "[CV] learning_rate=0.1, max_depth=5, n_estimators=500 ................\n",
            "[CV] . learning_rate=0.1, max_depth=5, n_estimators=500, total=  31.2s\n",
            "[CV] learning_rate=0.1, max_depth=5, n_estimators=500 ................\n",
            "[CV] . learning_rate=0.1, max_depth=5, n_estimators=500, total=  31.4s\n",
            "[CV] learning_rate=0.1, max_depth=5, n_estimators=750 ................\n",
            "[CV] . learning_rate=0.1, max_depth=5, n_estimators=750, total=  47.1s\n",
            "[CV] learning_rate=0.1, max_depth=5, n_estimators=750 ................\n",
            "[CV] . learning_rate=0.1, max_depth=5, n_estimators=750, total=  46.9s\n",
            "[CV] learning_rate=0.1, max_depth=5, n_estimators=750 ................\n",
            "[CV] . learning_rate=0.1, max_depth=5, n_estimators=750, total=  47.5s\n",
            "[CV] learning_rate=0.1, max_depth=5, n_estimators=750 ................\n",
            "[CV] . learning_rate=0.1, max_depth=5, n_estimators=750, total=  47.1s\n",
            "[CV] learning_rate=0.1, max_depth=5, n_estimators=750 ................\n",
            "[CV] . learning_rate=0.1, max_depth=5, n_estimators=750, total=  48.8s\n",
            "[CV] learning_rate=0.1, max_depth=5, n_estimators=1000 ...............\n",
            "[CV]  learning_rate=0.1, max_depth=5, n_estimators=1000, total= 1.0min\n",
            "[CV] learning_rate=0.1, max_depth=5, n_estimators=1000 ...............\n",
            "[CV]  learning_rate=0.1, max_depth=5, n_estimators=1000, total= 1.0min\n",
            "[CV] learning_rate=0.1, max_depth=5, n_estimators=1000 ...............\n",
            "[CV]  learning_rate=0.1, max_depth=5, n_estimators=1000, total= 1.1min\n",
            "[CV] learning_rate=0.1, max_depth=5, n_estimators=1000 ...............\n",
            "[CV]  learning_rate=0.1, max_depth=5, n_estimators=1000, total= 1.1min\n",
            "[CV] learning_rate=0.1, max_depth=5, n_estimators=1000 ...............\n",
            "[CV]  learning_rate=0.1, max_depth=5, n_estimators=1000, total= 1.1min\n",
            "[CV] learning_rate=0.1, max_depth=7, n_estimators=500 ................\n",
            "[CV] . learning_rate=0.1, max_depth=7, n_estimators=500, total=  31.5s\n",
            "[CV] learning_rate=0.1, max_depth=7, n_estimators=500 ................\n",
            "[CV] . learning_rate=0.1, max_depth=7, n_estimators=500, total=  33.5s\n",
            "[CV] learning_rate=0.1, max_depth=7, n_estimators=500 ................\n",
            "[CV] . learning_rate=0.1, max_depth=7, n_estimators=500, total=  31.3s\n",
            "[CV] learning_rate=0.1, max_depth=7, n_estimators=500 ................\n",
            "[CV] . learning_rate=0.1, max_depth=7, n_estimators=500, total=  34.2s\n",
            "[CV] learning_rate=0.1, max_depth=7, n_estimators=500 ................\n",
            "[CV] . learning_rate=0.1, max_depth=7, n_estimators=500, total=  36.1s\n",
            "[CV] learning_rate=0.1, max_depth=7, n_estimators=750 ................\n",
            "[CV] . learning_rate=0.1, max_depth=7, n_estimators=750, total=  46.9s\n",
            "[CV] learning_rate=0.1, max_depth=7, n_estimators=750 ................\n",
            "[CV] . learning_rate=0.1, max_depth=7, n_estimators=750, total=  47.7s\n",
            "[CV] learning_rate=0.1, max_depth=7, n_estimators=750 ................\n",
            "[CV] . learning_rate=0.1, max_depth=7, n_estimators=750, total=  49.4s\n",
            "[CV] learning_rate=0.1, max_depth=7, n_estimators=750 ................\n",
            "[CV] . learning_rate=0.1, max_depth=7, n_estimators=750, total=  49.3s\n",
            "[CV] learning_rate=0.1, max_depth=7, n_estimators=750 ................\n",
            "[CV] . learning_rate=0.1, max_depth=7, n_estimators=750, total=  49.2s\n",
            "[CV] learning_rate=0.1, max_depth=7, n_estimators=1000 ...............\n",
            "[CV]  learning_rate=0.1, max_depth=7, n_estimators=1000, total= 1.1min\n",
            "[CV] learning_rate=0.1, max_depth=7, n_estimators=1000 ...............\n",
            "[CV]  learning_rate=0.1, max_depth=7, n_estimators=1000, total= 1.1min\n",
            "[CV] learning_rate=0.1, max_depth=7, n_estimators=1000 ...............\n",
            "[CV]  learning_rate=0.1, max_depth=7, n_estimators=1000, total= 1.1min\n",
            "[CV] learning_rate=0.1, max_depth=7, n_estimators=1000 ...............\n",
            "[CV]  learning_rate=0.1, max_depth=7, n_estimators=1000, total= 1.0min\n",
            "[CV] learning_rate=0.1, max_depth=7, n_estimators=1000 ...............\n",
            "[CV]  learning_rate=0.1, max_depth=7, n_estimators=1000, total=  59.0s\n"
          ],
          "name": "stdout"
        },
        {
          "output_type": "stream",
          "text": [
            "[Parallel(n_jobs=1)]: Done 135 out of 135 | elapsed: 144.4min finished\n"
          ],
          "name": "stderr"
        },
        {
          "output_type": "execute_result",
          "data": {
            "text/plain": [
              "GridSearchCV(cv=None, error_score=nan,\n",
              "             estimator=LGBMRegressor(boosting_type='gbdt', class_weight=None,\n",
              "                                     colsample_bytree=1.0,\n",
              "                                     importance_type='split', learning_rate=0.1,\n",
              "                                     max_depth=-1, min_child_samples=20,\n",
              "                                     min_child_weight=0.001, min_split_gain=0.0,\n",
              "                                     n_estimators=100, n_jobs=39, num_leaves=31,\n",
              "                                     objective=None, random_state=1,\n",
              "                                     reg_alpha=0.0, reg_lambda=0.0, silent=True,\n",
              "                                     subsample=1.0, subsample_for_bin=200000,\n",
              "                                     subsample_freq=0),\n",
              "             iid='deprecated', n_jobs=None,\n",
              "             param_grid={'learning_rate': [0.001, 0.01, 0.1],\n",
              "                         'max_depth': [3, 5, 7],\n",
              "                         'n_estimators': [500, 750, 1000]},\n",
              "             pre_dispatch='2*n_jobs', refit=True, return_train_score=True,\n",
              "             scoring=None, verbose=2)"
            ]
          },
          "metadata": {
            "tags": []
          },
          "execution_count": 17
        }
      ]
    },
    {
      "cell_type": "code",
      "metadata": {
        "colab": {
          "base_uri": "https://localhost:8080/"
        },
        "id": "D6mwqWtlSDUk",
        "outputId": "5961065c-e021-416d-c8d2-028b3c503684"
      },
      "source": [
        "score = grid.score(X_train, y_train)\n",
        "print(\"Score entrenamiento: \",score)\n",
        "\n",
        "score = grid.score(X_test, y_test)\n",
        "print(\"Score prueba: \",score)\n",
        "\n",
        "y_pred = grid.predict(X_test)\n",
        "mse = np.mean((y_test - y_pred)**2)\n",
        "print(\"MSE :\", mse)\n",
        "\n",
        "rmse = np.sqrt(mse)\n",
        "print(\"RMSE :\", rmse)\n",
        "\n",
        "r2 = metrics.r2_score(y_test, y_pred)\n",
        "print(\"r2_score :\", r2)"
      ],
      "execution_count": null,
      "outputs": [
        {
          "output_type": "stream",
          "text": [
            "Score entrenamiento:  0.8954485820575061\n",
            "Score prueba:  0.8934558041641824\n",
            "MSE : 11.378920170748994\n",
            "RMSE : 3.373265505522652\n",
            "r2_score : 0.8934558041641822\n"
          ],
          "name": "stdout"
        }
      ]
    }
  ]
}