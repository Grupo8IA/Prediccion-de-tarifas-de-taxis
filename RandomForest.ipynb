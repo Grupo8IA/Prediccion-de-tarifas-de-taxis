{
  "nbformat": 4,
  "nbformat_minor": 0,
  "metadata": {
    "accelerator": "TPU",
    "colab": {
      "name": "PC2 (2).ipynb",
      "provenance": [],
      "collapsed_sections": [
        "vj4jep39qtw5",
        "KRCFfN7hUFiQ",
        "tHRnK9gxcj5w",
        "yKEd9rpKcj51"
      ],
      "machine_shape": "hm"
    },
    "kernelspec": {
      "display_name": "Python 3",
      "language": "python",
      "name": "python3"
    },
    "language_info": {
      "codemirror_mode": {
        "name": "ipython",
        "version": 3
      },
      "file_extension": ".py",
      "mimetype": "text/x-python",
      "name": "python",
      "nbconvert_exporter": "python",
      "pygments_lexer": "ipython3",
      "version": "3.8.5"
    }
  },
  "cells": [
    {
      "cell_type": "code",
      "metadata": {
        "id": "hhGH-rNMPn8g"
      },
      "source": [
        "from google.colab import drive"
      ],
      "execution_count": 3,
      "outputs": []
    },
    {
      "cell_type": "code",
      "metadata": {
        "colab": {
          "base_uri": "https://localhost:8080/"
        },
        "id": "Bg6tY4noF7IC",
        "outputId": "0e5a3fc5-67a6-44b9-a5c1-1738644b1205"
      },
      "source": [
        "drive.mount('/gdrive')\n",
        "%cd /gdrive/MyDrive/entrenamiento/"
      ],
      "execution_count": 4,
      "outputs": [
        {
          "output_type": "stream",
          "text": [
            "Drive already mounted at /gdrive; to attempt to forcibly remount, call drive.mount(\"/gdrive\", force_remount=True).\n",
            "/gdrive/MyDrive/entrenamiento\n"
          ],
          "name": "stdout"
        }
      ]
    },
    {
      "cell_type": "code",
      "metadata": {
        "id": "IJQfAQHyQpq3"
      },
      "source": [
        "import pandas as pd\n",
        "import numpy as np"
      ],
      "execution_count": 5,
      "outputs": []
    },
    {
      "cell_type": "code",
      "metadata": {
        "id": "tt1Js7H2cwaI"
      },
      "source": [
        "dtypes = {\n",
        "      'key': 'object',\n",
        "      'fare_amount': 'float64',\n",
        "      'pickup_datetime': 'object',\n",
        "      'pickup_longitude': 'float64', \n",
        "      'pickup_latitude': 'float64',\n",
        "      'dropoff_longitude': 'float64',\n",
        "      'dropoff_latitude': 'float64',\n",
        "      'passenger_count': 'int64',\n",
        "      \n",
        "    \n",
        "}\n",
        "\n",
        "df = pd.read_csv(\"train_data.csv\", dtype=dtypes)\n"
      ],
      "execution_count": 6,
      "outputs": []
    },
    {
      "cell_type": "code",
      "metadata": {
        "colab": {
          "base_uri": "https://localhost:8080/",
          "height": 309
        },
        "id": "m95DWxv9gcFX",
        "outputId": "a8c501a3-c6fe-4837-cc99-0cefebf0ad35"
      },
      "source": [
        "df.head()"
      ],
      "execution_count": null,
      "outputs": [
        {
          "output_type": "execute_result",
          "data": {
            "text/html": [
              "<div>\n",
              "<style scoped>\n",
              "    .dataframe tbody tr th:only-of-type {\n",
              "        vertical-align: middle;\n",
              "    }\n",
              "\n",
              "    .dataframe tbody tr th {\n",
              "        vertical-align: top;\n",
              "    }\n",
              "\n",
              "    .dataframe thead th {\n",
              "        text-align: right;\n",
              "    }\n",
              "</style>\n",
              "<table border=\"1\" class=\"dataframe\">\n",
              "  <thead>\n",
              "    <tr style=\"text-align: right;\">\n",
              "      <th></th>\n",
              "      <th>key</th>\n",
              "      <th>pickup_datetime</th>\n",
              "      <th>pickup_latitude</th>\n",
              "      <th>pickup_longitude</th>\n",
              "      <th>dropoff_latitude</th>\n",
              "      <th>dropoff_longitude</th>\n",
              "      <th>passenger_count</th>\n",
              "      <th>fare_amount</th>\n",
              "      <th>day</th>\n",
              "      <th>hour</th>\n",
              "      <th>week</th>\n",
              "      <th>trayecto_nocturno</th>\n",
              "      <th>hora_punta</th>\n",
              "      <th>year</th>\n",
              "      <th>aeropuerto</th>\n",
              "      <th>day_of_month</th>\n",
              "    </tr>\n",
              "  </thead>\n",
              "  <tbody>\n",
              "    <tr>\n",
              "      <th>0</th>\n",
              "      <td>2014-02-19 07:22:00.00000074</td>\n",
              "      <td>2014-02-19 07:22:00 UTC</td>\n",
              "      <td>40.760465</td>\n",
              "      <td>-73.986430</td>\n",
              "      <td>40.737075</td>\n",
              "      <td>-73.988990</td>\n",
              "      <td>1</td>\n",
              "      <td>12.50</td>\n",
              "      <td>2</td>\n",
              "      <td>7.366667</td>\n",
              "      <td>8</td>\n",
              "      <td>0</td>\n",
              "      <td>0</td>\n",
              "      <td>2014</td>\n",
              "      <td>0</td>\n",
              "      <td>19</td>\n",
              "    </tr>\n",
              "    <tr>\n",
              "      <th>1</th>\n",
              "      <td>2014-12-06 20:36:22.0000008</td>\n",
              "      <td>2014-12-06 20:36:22 UTC</td>\n",
              "      <td>40.751902</td>\n",
              "      <td>-73.979815</td>\n",
              "      <td>40.755481</td>\n",
              "      <td>-73.979446</td>\n",
              "      <td>1</td>\n",
              "      <td>4.00</td>\n",
              "      <td>5</td>\n",
              "      <td>20.600000</td>\n",
              "      <td>49</td>\n",
              "      <td>1</td>\n",
              "      <td>1</td>\n",
              "      <td>2014</td>\n",
              "      <td>0</td>\n",
              "      <td>6</td>\n",
              "    </tr>\n",
              "    <tr>\n",
              "      <th>2</th>\n",
              "      <td>2014-02-19 16:03:00.000000160</td>\n",
              "      <td>2014-02-19 16:03:00 UTC</td>\n",
              "      <td>40.752422</td>\n",
              "      <td>-73.976075</td>\n",
              "      <td>40.759285</td>\n",
              "      <td>-73.981082</td>\n",
              "      <td>1</td>\n",
              "      <td>5.50</td>\n",
              "      <td>2</td>\n",
              "      <td>16.050000</td>\n",
              "      <td>8</td>\n",
              "      <td>0</td>\n",
              "      <td>0</td>\n",
              "      <td>2014</td>\n",
              "      <td>0</td>\n",
              "      <td>19</td>\n",
              "    </tr>\n",
              "    <tr>\n",
              "      <th>3</th>\n",
              "      <td>2015-06-21 21:46:34.0000001</td>\n",
              "      <td>2015-06-21 21:46:34 UTC</td>\n",
              "      <td>40.717667</td>\n",
              "      <td>-74.010483</td>\n",
              "      <td>40.660366</td>\n",
              "      <td>-73.985771</td>\n",
              "      <td>1</td>\n",
              "      <td>22.54</td>\n",
              "      <td>6</td>\n",
              "      <td>21.766667</td>\n",
              "      <td>25</td>\n",
              "      <td>1</td>\n",
              "      <td>0</td>\n",
              "      <td>2015</td>\n",
              "      <td>0</td>\n",
              "      <td>21</td>\n",
              "    </tr>\n",
              "    <tr>\n",
              "      <th>4</th>\n",
              "      <td>2015-01-11 03:15:38.0000001</td>\n",
              "      <td>2015-01-11 03:15:38 UTC</td>\n",
              "      <td>40.738720</td>\n",
              "      <td>-73.983330</td>\n",
              "      <td>40.847225</td>\n",
              "      <td>-73.933197</td>\n",
              "      <td>1</td>\n",
              "      <td>58.00</td>\n",
              "      <td>6</td>\n",
              "      <td>3.250000</td>\n",
              "      <td>2</td>\n",
              "      <td>1</td>\n",
              "      <td>0</td>\n",
              "      <td>2015</td>\n",
              "      <td>0</td>\n",
              "      <td>11</td>\n",
              "    </tr>\n",
              "  </tbody>\n",
              "</table>\n",
              "</div>"
            ],
            "text/plain": [
              "                             key  ... day_of_month\n",
              "0   2014-02-19 07:22:00.00000074  ...           19\n",
              "1    2014-12-06 20:36:22.0000008  ...            6\n",
              "2  2014-02-19 16:03:00.000000160  ...           19\n",
              "3    2015-06-21 21:46:34.0000001  ...           21\n",
              "4    2015-01-11 03:15:38.0000001  ...           11\n",
              "\n",
              "[5 rows x 16 columns]"
            ]
          },
          "metadata": {
            "tags": []
          },
          "execution_count": 5
        }
      ]
    },
    {
      "cell_type": "code",
      "metadata": {
        "id": "lSO3eO3SwER6"
      },
      "source": [
        "data = df"
      ],
      "execution_count": 8,
      "outputs": []
    },
    {
      "cell_type": "markdown",
      "metadata": {
        "id": "yDGmBTr2CSlU"
      },
      "source": [
        "## RANDOM FOREST"
      ]
    },
    {
      "cell_type": "code",
      "metadata": {
        "colab": {
          "base_uri": "https://localhost:8080/",
          "height": 224
        },
        "id": "tCIPIx1wWitY",
        "outputId": "7e0deefa-4c0a-44ad-aefc-b81027b182de"
      },
      "source": [
        "# Dividimos los datos en entrenamiento y prueba\n",
        "from sklearn.model_selection import train_test_split\n",
        "# X son nuestras variables independientes\n",
        "X = data.drop([\"fare_amount\",\"key\",\"pickup_datetime\"],axis = 1)\n",
        "# y es nuestra variable dependiente\n",
        "y = data['fare_amount'].values\n",
        "\n",
        "fareTrain, fareTest, ObjTrain, ObjTest = train_test_split(X, y,test_size=0.3, random_state=42)\n",
        "X.head()\n"
      ],
      "execution_count": 9,
      "outputs": [
        {
          "output_type": "execute_result",
          "data": {
            "text/html": [
              "<div>\n",
              "<style scoped>\n",
              "    .dataframe tbody tr th:only-of-type {\n",
              "        vertical-align: middle;\n",
              "    }\n",
              "\n",
              "    .dataframe tbody tr th {\n",
              "        vertical-align: top;\n",
              "    }\n",
              "\n",
              "    .dataframe thead th {\n",
              "        text-align: right;\n",
              "    }\n",
              "</style>\n",
              "<table border=\"1\" class=\"dataframe\">\n",
              "  <thead>\n",
              "    <tr style=\"text-align: right;\">\n",
              "      <th></th>\n",
              "      <th>pickup_latitude</th>\n",
              "      <th>pickup_longitude</th>\n",
              "      <th>dropoff_latitude</th>\n",
              "      <th>dropoff_longitude</th>\n",
              "      <th>passenger_count</th>\n",
              "      <th>day</th>\n",
              "      <th>hour</th>\n",
              "      <th>week</th>\n",
              "      <th>trayecto_nocturno</th>\n",
              "      <th>hora_punta</th>\n",
              "      <th>year</th>\n",
              "      <th>aeropuerto</th>\n",
              "      <th>day_of_month</th>\n",
              "    </tr>\n",
              "  </thead>\n",
              "  <tbody>\n",
              "    <tr>\n",
              "      <th>0</th>\n",
              "      <td>40.760465</td>\n",
              "      <td>-73.986430</td>\n",
              "      <td>40.737075</td>\n",
              "      <td>-73.988990</td>\n",
              "      <td>1</td>\n",
              "      <td>2</td>\n",
              "      <td>7.366667</td>\n",
              "      <td>8</td>\n",
              "      <td>0</td>\n",
              "      <td>0</td>\n",
              "      <td>2014</td>\n",
              "      <td>0</td>\n",
              "      <td>19</td>\n",
              "    </tr>\n",
              "    <tr>\n",
              "      <th>1</th>\n",
              "      <td>40.751902</td>\n",
              "      <td>-73.979815</td>\n",
              "      <td>40.755481</td>\n",
              "      <td>-73.979446</td>\n",
              "      <td>1</td>\n",
              "      <td>5</td>\n",
              "      <td>20.600000</td>\n",
              "      <td>49</td>\n",
              "      <td>1</td>\n",
              "      <td>1</td>\n",
              "      <td>2014</td>\n",
              "      <td>0</td>\n",
              "      <td>6</td>\n",
              "    </tr>\n",
              "    <tr>\n",
              "      <th>2</th>\n",
              "      <td>40.752422</td>\n",
              "      <td>-73.976075</td>\n",
              "      <td>40.759285</td>\n",
              "      <td>-73.981082</td>\n",
              "      <td>1</td>\n",
              "      <td>2</td>\n",
              "      <td>16.050000</td>\n",
              "      <td>8</td>\n",
              "      <td>0</td>\n",
              "      <td>1</td>\n",
              "      <td>2014</td>\n",
              "      <td>0</td>\n",
              "      <td>19</td>\n",
              "    </tr>\n",
              "    <tr>\n",
              "      <th>3</th>\n",
              "      <td>40.717667</td>\n",
              "      <td>-74.010483</td>\n",
              "      <td>40.660366</td>\n",
              "      <td>-73.985771</td>\n",
              "      <td>1</td>\n",
              "      <td>6</td>\n",
              "      <td>21.766667</td>\n",
              "      <td>25</td>\n",
              "      <td>1</td>\n",
              "      <td>0</td>\n",
              "      <td>2015</td>\n",
              "      <td>0</td>\n",
              "      <td>21</td>\n",
              "    </tr>\n",
              "    <tr>\n",
              "      <th>4</th>\n",
              "      <td>40.738720</td>\n",
              "      <td>-73.983330</td>\n",
              "      <td>40.847225</td>\n",
              "      <td>-73.933197</td>\n",
              "      <td>1</td>\n",
              "      <td>6</td>\n",
              "      <td>3.250000</td>\n",
              "      <td>2</td>\n",
              "      <td>1</td>\n",
              "      <td>0</td>\n",
              "      <td>2015</td>\n",
              "      <td>0</td>\n",
              "      <td>11</td>\n",
              "    </tr>\n",
              "  </tbody>\n",
              "</table>\n",
              "</div>"
            ],
            "text/plain": [
              "   pickup_latitude  pickup_longitude  ...  aeropuerto  day_of_month\n",
              "0        40.760465        -73.986430  ...           0            19\n",
              "1        40.751902        -73.979815  ...           0             6\n",
              "2        40.752422        -73.976075  ...           0            19\n",
              "3        40.717667        -74.010483  ...           0            21\n",
              "4        40.738720        -73.983330  ...           0            11\n",
              "\n",
              "[5 rows x 13 columns]"
            ]
          },
          "metadata": {
            "tags": []
          },
          "execution_count": 9
        }
      ]
    },
    {
      "cell_type": "markdown",
      "metadata": {
        "id": "bXeAsuNq6nlY"
      },
      "source": [
        "### Entrenamiento con 100 árboles con profundidad máxima de 4\n",
        "\n"
      ]
    },
    {
      "cell_type": "code",
      "metadata": {
        "id": "8cdqqS2rNnIc"
      },
      "source": [
        "from sklearn.ensemble import RandomForestRegressor\n",
        "BA_model = RandomForestRegressor(n_estimators = 100, \n",
        "                                  random_state = 1,max_depth = 4,n_jobs = 40)"
      ],
      "execution_count": null,
      "outputs": []
    },
    {
      "cell_type": "code",
      "metadata": {
        "id": "H2z65SaQNo7v",
        "colab": {
          "base_uri": "https://localhost:8080/"
        },
        "outputId": "70a6f302-5678-4910-ea02-d9f3e846ea93"
      },
      "source": [
        "BA_model.fit(fareTrain, ObjTrain)"
      ],
      "execution_count": null,
      "outputs": [
        {
          "output_type": "execute_result",
          "data": {
            "text/plain": [
              "RandomForestRegressor(bootstrap=True, ccp_alpha=0.0, criterion='mse',\n",
              "                      max_depth=4, max_features='auto', max_leaf_nodes=None,\n",
              "                      max_samples=None, min_impurity_decrease=0.0,\n",
              "                      min_impurity_split=None, min_samples_leaf=1,\n",
              "                      min_samples_split=2, min_weight_fraction_leaf=0.0,\n",
              "                      n_estimators=100, n_jobs=40, oob_score=False,\n",
              "                      random_state=1, verbose=0, warm_start=False)"
            ]
          },
          "metadata": {
            "tags": []
          },
          "execution_count": 42
        }
      ]
    },
    {
      "cell_type": "code",
      "metadata": {
        "id": "i7Om8AMONr61",
        "colab": {
          "base_uri": "https://localhost:8080/"
        },
        "outputId": "3cec70dd-792d-4c7f-c4c5-0410f2abcd1f"
      },
      "source": [
        "from sklearn import metrics\n",
        "\n",
        "ObjPredcit =BA_model.predict(fareTest)\n",
        "\n",
        "print(\"Caracteristicas importantes:\\n{}\".format(BA_model.feature_importances_))\n",
        "print(\"Exactitud:\",BA_model.score(fareTest, ObjTest))\n",
        "print(\"Exactitud train:\",BA_model.score(fareTrain, ObjTrain))\n",
        "print('Error absoluto medio (MAE):', metrics.mean_absolute_error(ObjTest, ObjPredcit))\n",
        "print('Error cuadrádico medio (MSE):', metrics.mean_squared_error(ObjTest, ObjPredcit))\n",
        "print('Raiz cuadrada del error cuadrático medio (RMSE):', metrics.mean_squared_error(ObjTest, ObjPredcit, squared=False))\n",
        "print('Max Error:', metrics.max_error(ObjTest, ObjPredcit))\n",
        "print('R^2:', metrics.r2_score(ObjTest, ObjPredcit))\n",
        "#https://stackoverflow.com/questions/50789508/random-forest-regression-how-do-i-analyse-its-performance-python-sklearn/66209358#66209358"
      ],
      "execution_count": null,
      "outputs": [
        {
          "output_type": "stream",
          "text": [
            "Caracteristicas importantes:\n",
            "[0.04475723 0.4728418  0.05770888 0.42469209 0.         0.\n",
            " 0.         0.         0.         0.         0.         0.\n",
            " 0.        ]\n",
            "Exactitud: 0.6576034671541504\n",
            "Exactitud train: 0.6581512604227674\n",
            "Error absoluto medio (MAE): 4.244709880918928\n",
            "Error cuadrádico medio (MSE): 36.56794988624143\n",
            "Raiz cuadrada del error cuadrático medio (RMSE): 6.047143944561054\n",
            "Max Error: 63.540978557766415\n",
            "R^2: 0.6576034671541504\n"
          ],
          "name": "stdout"
        }
      ]
    },
    {
      "cell_type": "code",
      "metadata": {
        "id": "ltIo_6MSNusw",
        "colab": {
          "base_uri": "https://localhost:8080/",
          "height": 279
        },
        "outputId": "b0efe49c-b017-4665-8df2-1dee64152a92"
      },
      "source": [
        "import matplotlib.pyplot as plt\n",
        "def dibuja_caracteristicas_importantes(modelo):\n",
        "    n_caracteristica = X.shape[1]\n",
        "    plt.barh(range(n_caracteristica), modelo.feature_importances_, align='center')\n",
        "    plt.yticks(np.arange(n_caracteristica),list(X.columns))\n",
        "    plt.xlabel(\"Caracteristicas importantes\")\n",
        "    plt.ylabel(\"Caracteristica\")\n",
        "\n",
        "dibuja_caracteristicas_importantes(BA_model)"
      ],
      "execution_count": null,
      "outputs": [
        {
          "output_type": "display_data",
          "data": {
            "image/png": "[encoded data removed]",
            "text/plain": [
              "<Figure size 432x288 with 1 Axes>"
            ]
          },
          "metadata": {
            "tags": [],
            "needs_background": "light"
          }
        }
      ]
    },
    {
      "cell_type": "markdown",
      "metadata": {
        "id": "jeFwTox_1OwQ"
      },
      "source": [
        "Obtenemos un score de 0.6576 con un RMSE de 6.0471"
      ]
    },
    {
      "cell_type": "markdown",
      "metadata": {
        "id": "CQI0KDj921jp"
      },
      "source": [
        "### Entrenamiento con 100 árboles con profundidad máxima de 4"
      ]
    },
    {
      "cell_type": "code",
      "metadata": {
        "id": "Cr3NoZ2V29uS"
      },
      "source": [
        "from sklearn.ensemble import RandomForestRegressor\n",
        "BA_model = RandomForestRegressor(n_estimators = 100, \n",
        "                                  random_state = 20,max_depth = 4,n_jobs = 40)"
      ],
      "execution_count": null,
      "outputs": []
    },
    {
      "cell_type": "code",
      "metadata": {
        "colab": {
          "base_uri": "https://localhost:8080/"
        },
        "id": "nP0Wpvrf3fn1",
        "outputId": "34e63251-8573-486e-a4bc-d479fb346ab1"
      },
      "source": [
        "BA_model.fit(fareTrain, ObjTrain)"
      ],
      "execution_count": null,
      "outputs": [
        {
          "output_type": "execute_result",
          "data": {
            "text/plain": [
              "RandomForestRegressor(bootstrap=True, ccp_alpha=0.0, criterion='mse',\n",
              "                      max_depth=4, max_features='auto', max_leaf_nodes=None,\n",
              "                      max_samples=None, min_impurity_decrease=0.0,\n",
              "                      min_impurity_split=None, min_samples_leaf=1,\n",
              "                      min_samples_split=2, min_weight_fraction_leaf=0.0,\n",
              "                      n_estimators=100, n_jobs=40, oob_score=False,\n",
              "                      random_state=20, verbose=0, warm_start=False)"
            ]
          },
          "metadata": {
            "tags": []
          },
          "execution_count": 11
        }
      ]
    },
    {
      "cell_type": "code",
      "metadata": {
        "colab": {
          "base_uri": "https://localhost:8080/",
          "height": 279
        },
        "id": "munCCq3J5STA",
        "outputId": "7923dcb4-3bc7-44be-ffbe-b5dd8c9b0c04"
      },
      "source": [
        "import matplotlib.pyplot as plt\n",
        "def dibuja_caracteristicas_importantes(modelo):\n",
        "    n_caracteristica = X.shape[1]\n",
        "    plt.barh(range(n_caracteristica), modelo.feature_importances_, align='center')\n",
        "    plt.yticks(np.arange(n_caracteristica),list(X.columns))\n",
        "    plt.xlabel(\"Caracteristicas importantes\")\n",
        "    plt.ylabel(\"Caracteristica\")\n",
        "\n",
        "dibuja_caracteristicas_importantes(BA_model)"
      ],
      "execution_count": null,
      "outputs": [
        {
          "output_type": "display_data",
          "data": {
            "image/png": "[encoded data removed]",
            "text/plain": [
              "<Figure size 432x288 with 1 Axes>"
            ]
          },
          "metadata": {
            "tags": [],
            "needs_background": "light"
          }
        }
      ]
    },
    {
      "cell_type": "code",
      "metadata": {
        "colab": {
          "base_uri": "https://localhost:8080/"
        },
        "id": "axC48v414CLn",
        "outputId": "4de1cc65-177c-4b1e-b975-55a387af0171"
      },
      "source": [
        "from sklearn import metrics\n",
        "\n",
        "ObjPredcit =BA_model.predict(fareTest)\n",
        "\n",
        "print(\"Caracteristicas importantes:\\n{}\".format(BA_model.feature_importances_))\n",
        "print(\"Exactitud:\",BA_model.score(fareTest, ObjTest))\n",
        "print(\"Exactitud train:\",BA_model.score(fareTrain, ObjTrain))\n",
        "print('Error absoluto medio (MAE):', metrics.mean_absolute_error(ObjTest, ObjPredcit))\n",
        "print('Error cuadrádico medio (MSE):', metrics.mean_squared_error(ObjTest, ObjPredcit))\n",
        "print('Raiz cuadrada del error cuadrático medio (RMSE):', metrics.mean_squared_error(ObjTest, ObjPredcit, squared=False))\n",
        "print('Max Error:', metrics.max_error(ObjTest, ObjPredcit))\n",
        "print('R^2:', metrics.r2_score(ObjTest, ObjPredcit))\n",
        "#https://stackoverflow.com/questions/50789508/random-forest-regression-how-do-i-analyse-its-performance-python-sklearn/66209358#66209358"
      ],
      "execution_count": null,
      "outputs": [
        {
          "output_type": "stream",
          "text": [
            "Caracteristicas importantes:\n",
            "[0.04367136 0.47384705 0.05767026 0.42481133 0.         0.\n",
            " 0.         0.         0.         0.         0.         0.\n",
            " 0.        ]\n",
            "Exactitud: 0.6577215903537232\n",
            "Exactitud train: 0.6582705844217462\n",
            "Error absoluto medio (MAE): 4.244122752758732\n",
            "Error cuadrádico medio (MSE): 36.555334328465534\n",
            "Raiz cuadrada del error cuadrático medio (RMSE): 6.046100754078246\n",
            "Max Error: 63.5408809518966\n",
            "R^2: 0.6577215903537232\n"
          ],
          "name": "stdout"
        }
      ]
    },
    {
      "cell_type": "markdown",
      "metadata": {
        "id": "NE7ksrT55au8"
      },
      "source": [
        "Obtenemos un score de 0.6577 con un RMSE de 6.0461"
      ]
    },
    {
      "cell_type": "code",
      "metadata": {
        "id": "mG2NTPdC3gAj"
      },
      "source": [
        "from sklearn.ensemble import RandomForestRegressor\n",
        "BA_model = RandomForestRegressor(n_estimators = 100, \n",
        "                                  random_state = 40,max_depth = 4,criterion = \"mae\",n_jobs = 40)"
      ],
      "execution_count": null,
      "outputs": []
    },
    {
      "cell_type": "markdown",
      "metadata": {
        "id": "G4iMKexALbqR"
      },
      "source": [
        "### Entrenamiento con 100 árboles con profundidad máxima de 8"
      ]
    },
    {
      "cell_type": "code",
      "metadata": {
        "id": "SFJ0zl1nLeXB"
      },
      "source": [
        "from sklearn.ensemble import RandomForestRegressor\n",
        "BA_model = RandomForestRegressor(n_estimators = 100, \n",
        "                                  random_state = 1,max_depth = 8,n_jobs = 40,oob_score = True)"
      ],
      "execution_count": null,
      "outputs": []
    },
    {
      "cell_type": "code",
      "metadata": {
        "colab": {
          "base_uri": "https://localhost:8080/"
        },
        "id": "ju5mvm5TLhl4",
        "outputId": "f545925c-a45c-4512-bcd9-d5f6b651e6e1"
      },
      "source": [
        "BA_model.fit(fareTrain, ObjTrain)"
      ],
      "execution_count": null,
      "outputs": [
        {
          "output_type": "execute_result",
          "data": {
            "text/plain": [
              "RandomForestRegressor(bootstrap=True, ccp_alpha=0.0, criterion='mse',\n",
              "                      max_depth=8, max_features='auto', max_leaf_nodes=None,\n",
              "                      max_samples=None, min_impurity_decrease=0.0,\n",
              "                      min_impurity_split=None, min_samples_leaf=1,\n",
              "                      min_samples_split=2, min_weight_fraction_leaf=0.0,\n",
              "                      n_estimators=100, n_jobs=40, oob_score=True,\n",
              "                      random_state=1, verbose=0, warm_start=False)"
            ]
          },
          "metadata": {
            "tags": []
          },
          "execution_count": 25
        }
      ]
    },
    {
      "cell_type": "code",
      "metadata": {
        "colab": {
          "base_uri": "https://localhost:8080/"
        },
        "id": "R89dsn6-LlD3",
        "outputId": "06e643cd-c47c-45ba-b8c7-6c1ba101b87f"
      },
      "source": [
        "from sklearn import metrics\n",
        "\n",
        "ObjPredcit =BA_model.predict(fareTest)\n",
        "\n",
        "print(\"Caracteristicas importantes:\\n{}\".format(BA_model.feature_importances_))\n",
        "print(\"Exactitud:\",BA_model.score(fareTest, ObjTest))\n",
        "print(\"Exactitud train:\",BA_model.score(fareTrain, ObjTrain))\n",
        "print('Error absoluto medio (MAE):', metrics.mean_absolute_error(ObjTest, ObjPredcit))\n",
        "print('Error cuadrádico medio (MSE):', metrics.mean_squared_error(ObjTest, ObjPredcit))\n",
        "print('Raiz cuadrada del error cuadrático medio (RMSE):', metrics.mean_squared_error(ObjTest, ObjPredcit, squared=False))\n",
        "print('Max Error:', metrics.max_error(ObjTest, ObjPredcit))\n",
        "print('R^2:', metrics.r2_score(ObjTest, ObjPredcit))\n",
        "#https://stackoverflow.com/questions/50789508/random-forest-regression-how-do-i-analyse-its-performance-python-sklearn/66209358#66209358"
      ],
      "execution_count": null,
      "outputs": [
        {
          "output_type": "stream",
          "text": [
            "Caracteristicas importantes:\n",
            "[7.44286710e-02 4.27433589e-01 9.57290665e-02 4.00694155e-01\n",
            " 3.34017145e-06 4.06098811e-06 6.03237905e-05 3.22769132e-05\n",
            " 1.49996020e-03 5.52185885e-07 6.31462509e-06 9.70307537e-05\n",
            " 1.06594411e-05]\n",
            "Exactitud: 0.7641824928035956\n",
            "Exactitud train: 0.7649131122490865\n",
            "Error absoluto medio (MAE): 3.555422330557685\n",
            "Error cuadrádico medio (MSE): 25.185309891379124\n",
            "Raiz cuadrada del error cuadrático medio (RMSE): 5.018496776065431\n",
            "Max Error: 65.79212666686581\n",
            "R^2: 0.7641824928035956\n"
          ],
          "name": "stdout"
        }
      ]
    },
    {
      "cell_type": "code",
      "metadata": {
        "id": "B79i9hrQLtI7"
      },
      "source": [
        "import matplotlib.pyplot as plt\n",
        "def dibuja_caracteristicas_importantes(modelo):\n",
        "    n_caracteristica = X.shape[1]\n",
        "    plt.barh(range(n_caracteristica), modelo.feature_importances_, align='center')\n",
        "    plt.yticks(np.arange(n_caracteristica),list(X.columns))\n",
        "    plt.xlabel(\"Caracteristicas importantes\")\n",
        "    plt.ylabel(\"Caracteristica\")\n",
        "\n",
        "dibuja_caracteristicas_importantes(BA_model)"
      ],
      "execution_count": null,
      "outputs": []
    },
    {
      "cell_type": "markdown",
      "metadata": {
        "id": "toS1fYye0TD6"
      },
      "source": [
        "Obtenemos un score de 0.76418 con un RMSE de 5.018"
      ]
    },
    {
      "cell_type": "markdown",
      "metadata": {
        "id": "m2StJMR2Fgez"
      },
      "source": [
        "### Entrenamiento con 100 árboles con profundidad máxima de 10"
      ]
    },
    {
      "cell_type": "code",
      "metadata": {
        "id": "4MH9o90lFjUX"
      },
      "source": [
        "from sklearn.ensemble import RandomForestRegressor\n",
        "BA_model = RandomForestRegressor(n_estimators = 100, \n",
        "                                  random_state = 15,max_depth = 10,n_jobs = 40)"
      ],
      "execution_count": 10,
      "outputs": []
    },
    {
      "cell_type": "code",
      "metadata": {
        "colab": {
          "base_uri": "https://localhost:8080/"
        },
        "id": "xvQpAxAdFoqw",
        "outputId": "f472b284-2e37-4b30-d2b2-c5bedec56fb0"
      },
      "source": [
        "BA_model.fit(fareTrain, ObjTrain)"
      ],
      "execution_count": 11,
      "outputs": [
        {
          "output_type": "execute_result",
          "data": {
            "text/plain": [
              "RandomForestRegressor(bootstrap=True, ccp_alpha=0.0, criterion='mse',\n",
              "                      max_depth=10, max_features='auto', max_leaf_nodes=None,\n",
              "                      max_samples=None, min_impurity_decrease=0.0,\n",
              "                      min_impurity_split=None, min_samples_leaf=1,\n",
              "                      min_samples_split=2, min_weight_fraction_leaf=0.0,\n",
              "                      n_estimators=100, n_jobs=40, oob_score=False,\n",
              "                      random_state=15, verbose=0, warm_start=False)"
            ]
          },
          "metadata": {
            "tags": []
          },
          "execution_count": 11
        }
      ]
    },
    {
      "cell_type": "code",
      "metadata": {
        "colab": {
          "base_uri": "https://localhost:8080/"
        },
        "id": "ItRr3jYDF6gS",
        "outputId": "2bc4c967-7537-4fba-85d6-593ea36d8cc1"
      },
      "source": [
        "from sklearn import metrics\n",
        "\n",
        "ObjPredcit =BA_model.predict(fareTest)\n",
        "\n",
        "print(\"Caracteristicas importantes:\\n{}\".format(BA_model.feature_importances_))\n",
        "print(\"Exactitud:\",BA_model.score(fareTest, ObjTest))\n",
        "print(\"Exactitud train:\",BA_model.score(fareTrain, ObjTrain))\n",
        "print('Error absoluto medio (MAE):', metrics.mean_absolute_error(ObjTest, ObjPredcit))\n",
        "print('Error cuadrádico medio (MSE):', metrics.mean_squared_error(ObjTest, ObjPredcit))\n",
        "print('Raiz cuadrada del error cuadrático medio (RMSE):', metrics.mean_squared_error(ObjTest, ObjPredcit, squared=False))\n",
        "print('Max Error:', metrics.max_error(ObjTest, ObjPredcit))\n",
        "print('R^2:', metrics.r2_score(ObjTest, ObjPredcit))\n",
        "#https://stackoverflow.com/questions/50789508/random-forest-regression-how-do-i-analyse-its-performance-python-sklearn/66209358#66209358"
      ],
      "execution_count": 12,
      "outputs": [
        {
          "output_type": "stream",
          "text": [
            "Caracteristicas importantes:\n",
            "[8.05920754e-02 4.17766932e-01 1.08534114e-01 3.90722212e-01\n",
            " 4.16635523e-05 1.21185767e-04 3.32415002e-04 1.06849693e-04\n",
            " 1.56640911e-03 7.90778692e-06 4.74456821e-05 1.06585376e-04\n",
            " 5.42048618e-05]\n",
            "Exactitud: 0.7933982918826932\n",
            "Exactitud train: 0.7952404603151061\n",
            "Error absoluto medio (MAE): 3.2698887032668953\n",
            "Error cuadrádico medio (MSE): 22.065062534517235\n",
            "Raiz cuadrada del error cuadrático medio (RMSE): 4.697346328994407\n",
            "Max Error: 65.53783799750852\n",
            "R^2: 0.7933982918826932\n"
          ],
          "name": "stdout"
        }
      ]
    },
    {
      "cell_type": "code",
      "metadata": {
        "colab": {
          "base_uri": "https://localhost:8080/",
          "height": 279
        },
        "id": "JrwFDmREHnFB",
        "outputId": "fb3c6330-f05e-482d-deee-662bbb0e6528"
      },
      "source": [
        "import matplotlib.pyplot as plt\n",
        "def dibuja_caracteristicas_importantes(modelo):\n",
        "    n_caracteristica = X.shape[1]\n",
        "    plt.barh(range(n_caracteristica), modelo.feature_importances_, align='center')\n",
        "    plt.yticks(np.arange(n_caracteristica),list(X.columns))\n",
        "    plt.xlabel(\"Caracteristicas importantes\")\n",
        "    plt.ylabel(\"Caracteristica\")\n",
        "\n",
        "dibuja_caracteristicas_importantes(BA_model)"
      ],
      "execution_count": 12,
      "outputs": [
        {
          "output_type": "display_data",
          "data": {
            "image/png": "[encoded data removed]",
            "text/plain": [
              "<Figure size 432x288 with 1 Axes>"
            ]
          },
          "metadata": {
            "tags": [],
            "needs_background": "light"
          }
        }
      ]
    },
    {
      "cell_type": "markdown",
      "metadata": {
        "id": "ClNuw__jSmJc"
      },
      "source": [
        "### Entrenamiento con 200 árboles con profundidad máxima de 10"
      ]
    },
    {
      "cell_type": "code",
      "metadata": {
        "id": "8MOX6yWdSmJg"
      },
      "source": [
        "from sklearn.ensemble import RandomForestRegressor\n",
        "BA_model = RandomForestRegressor(n_estimators = 200, \n",
        "                                  random_state = 10,max_depth = 10,n_jobs = 40)"
      ],
      "execution_count": 22,
      "outputs": []
    },
    {
      "cell_type": "code",
      "metadata": {
        "colab": {
          "base_uri": "https://localhost:8080/"
        },
        "id": "YjDpP8mQSmJh",
        "outputId": "4773d9cc-dfec-47fd-b0dc-e92f36e78a3b"
      },
      "source": [
        "BA_model.fit(fareTrain, ObjTrain)"
      ],
      "execution_count": 23,
      "outputs": [
        {
          "output_type": "execute_result",
          "data": {
            "text/plain": [
              "RandomForestRegressor(bootstrap=True, ccp_alpha=0.0, criterion='mse',\n",
              "                      max_depth=10, max_features='auto', max_leaf_nodes=None,\n",
              "                      max_samples=None, min_impurity_decrease=0.0,\n",
              "                      min_impurity_split=None, min_samples_leaf=1,\n",
              "                      min_samples_split=2, min_weight_fraction_leaf=0.0,\n",
              "                      n_estimators=200, n_jobs=40, oob_score=False,\n",
              "                      random_state=10, verbose=0, warm_start=False)"
            ]
          },
          "metadata": {
            "tags": []
          },
          "execution_count": 23
        }
      ]
    },
    {
      "cell_type": "code",
      "metadata": {
        "colab": {
          "base_uri": "https://localhost:8080/"
        },
        "id": "y6Soyjj9SmJi",
        "outputId": "f65e62c1-d406-4d86-d06c-3084c7555bdb"
      },
      "source": [
        "from sklearn import metrics\n",
        "\n",
        "ObjPredcit =BA_model.predict(fareTest)\n",
        "\n",
        "print(\"Caracteristicas importantes:\\n{}\".format(BA_model.feature_importances_))\n",
        "print(\"Exactitud:\",BA_model.score(fareTest, ObjTest))\n",
        "print(\"Exactitud train:\",BA_model.score(fareTrain, ObjTrain))\n",
        "print('Error absoluto medio (MAE):', metrics.mean_absolute_error(ObjTest, ObjPredcit))\n",
        "print('Error cuadrádico medio (MSE):', metrics.mean_squared_error(ObjTest, ObjPredcit))\n",
        "print('Raiz cuadrada del error cuadrático medio (RMSE):', metrics.mean_squared_error(ObjTest, ObjPredcit, squared=False))\n",
        "print('Max Error:', metrics.max_error(ObjTest, ObjPredcit))\n",
        "print('R^2:', metrics.r2_score(ObjTest, ObjPredcit))\n",
        "#https://stackoverflow.com/questions/50789508/random-forest-regression-how-do-i-analyse-its-performance-python-sklearn/66209358#66209358"
      ],
      "execution_count": 24,
      "outputs": [
        {
          "output_type": "stream",
          "text": [
            "Caracteristicas importantes:\n",
            "[8.01400621e-02 4.18157359e-01 1.08594775e-01 3.90722922e-01\n",
            " 4.10902674e-05 1.17627955e-04 3.52334776e-04 1.02891908e-04\n",
            " 1.56155146e-03 6.98962529e-06 4.52747410e-05 1.00463702e-04\n",
            " 5.66574316e-05]\n",
            "Exactitud: 0.7934026947861079\n",
            "Exactitud train: 0.7952601910059117\n",
            "Error absoluto medio (MAE): 3.26972042832052\n",
            "Error cuadrádico medio (MSE): 22.06459230443024\n",
            "Raiz cuadrada del error cuadrático medio (RMSE): 4.697296275990076\n",
            "Max Error: 65.70385629035012\n",
            "R^2: 0.7934026947861079\n"
          ],
          "name": "stdout"
        }
      ]
    },
    {
      "cell_type": "code",
      "metadata": {
        "colab": {
          "base_uri": "https://localhost:8080/",
          "height": 279
        },
        "id": "l5Rd2BF7SmJi",
        "outputId": "282664a5-0f6d-4517-f4a2-d09bcab6a2cb"
      },
      "source": [
        "import matplotlib.pyplot as plt\n",
        "def dibuja_caracteristicas_importantes(modelo):\n",
        "    n_caracteristica = X.shape[1]\n",
        "    plt.barh(range(n_caracteristica), modelo.feature_importances_, align='center')\n",
        "    plt.yticks(np.arange(n_caracteristica),list(X.columns))\n",
        "    plt.xlabel(\"Caracteristicas importantes\")\n",
        "    plt.ylabel(\"Caracteristica\")\n",
        "\n",
        "dibuja_caracteristicas_importantes(BA_model)"
      ],
      "execution_count": 25,
      "outputs": [
        {
          "output_type": "display_data",
          "data": {
            "image/png": "[encoded data removed]",
            "text/plain": [
              "<Figure size 432x288 with 1 Axes>"
            ]
          },
          "metadata": {
            "tags": [],
            "needs_background": "light"
          }
        }
      ]
    },
    {
      "cell_type": "markdown",
      "metadata": {
        "id": "z4NzGTkPaH_J"
      },
      "source": [
        "### Entrenamiento con 500 árboles con profundidad máxima de 10"
      ]
    },
    {
      "cell_type": "code",
      "metadata": {
        "id": "O4kdueNWaH_L"
      },
      "source": [
        "from sklearn.ensemble import RandomForestRegressor\n",
        "BA_model = RandomForestRegressor(n_estimators = 500, \n",
        "                                  random_state = 10,max_depth = 10,n_jobs = 40)"
      ],
      "execution_count": 30,
      "outputs": []
    },
    {
      "cell_type": "code",
      "metadata": {
        "colab": {
          "base_uri": "https://localhost:8080/"
        },
        "id": "AhbGC1nSaH_M",
        "outputId": "2113def8-8459-4682-8af8-1e45c2afab44"
      },
      "source": [
        "BA_model.fit(fareTrain, ObjTrain)"
      ],
      "execution_count": 31,
      "outputs": [
        {
          "output_type": "execute_result",
          "data": {
            "text/plain": [
              "RandomForestRegressor(bootstrap=True, ccp_alpha=0.0, criterion='mse',\n",
              "                      max_depth=10, max_features='auto', max_leaf_nodes=None,\n",
              "                      max_samples=None, min_impurity_decrease=0.0,\n",
              "                      min_impurity_split=None, min_samples_leaf=1,\n",
              "                      min_samples_split=2, min_weight_fraction_leaf=0.0,\n",
              "                      n_estimators=500, n_jobs=40, oob_score=False,\n",
              "                      random_state=10, verbose=0, warm_start=False)"
            ]
          },
          "metadata": {
            "tags": []
          },
          "execution_count": 31
        }
      ]
    },
    {
      "cell_type": "code",
      "metadata": {
        "colab": {
          "base_uri": "https://localhost:8080/"
        },
        "id": "2yDMDGZfaH_O",
        "outputId": "0b994f67-0c16-481a-eecb-149a58366d9e"
      },
      "source": [
        "from sklearn import metrics\n",
        "\n",
        "ObjPredcit =BA_model.predict(fareTest)\n",
        "\n",
        "print(\"Caracteristicas importantes:\\n{}\".format(BA_model.feature_importances_))\n",
        "print(\"Exactitud:\",BA_model.score(fareTest, ObjTest))\n",
        "print(\"Exactitud train:\",BA_model.score(fareTrain, ObjTrain))\n",
        "print('Error absoluto medio (MAE):', metrics.mean_absolute_error(ObjTest, ObjPredcit))\n",
        "print('Error cuadrádico medio (MSE):', metrics.mean_squared_error(ObjTest, ObjPredcit))\n",
        "print('Raiz cuadrada del error cuadrático medio (RMSE):', metrics.mean_squared_error(ObjTest, ObjPredcit, squared=False))\n",
        "print('Max Error:', metrics.max_error(ObjTest, ObjPredcit))\n",
        "print('R^2:', metrics.r2_score(ObjTest, ObjPredcit))\n",
        "#https://stackoverflow.com/questions/50789508/random-forest-regression-how-do-i-analyse-its-performance-python-sklearn/66209358#66209358"
      ],
      "execution_count": 32,
      "outputs": [
        {
          "output_type": "stream",
          "text": [
            "Caracteristicas importantes:\n",
            "[8.05817302e-02 4.17693898e-01 1.08588317e-01 3.90756912e-01\n",
            " 3.90408981e-05 1.20027490e-04 3.49441491e-04 1.03321968e-04\n",
            " 1.55839917e-03 6.58369013e-06 4.46755051e-05 1.03029339e-04\n",
            " 5.46220562e-05]\n",
            "Exactitud: 0.7934222649008105\n",
            "Exactitud train: 0.7952772450838179\n",
            "Error absoluto medio (MAE): 3.269603171896328\n",
            "Error cuadrádico medio (MSE): 22.062502216169825\n",
            "Raiz cuadrada del error cuadrático medio (RMSE): 4.697073792923614\n",
            "Max Error: 65.70566816014455\n",
            "R^2: 0.7934222649008105\n"
          ],
          "name": "stdout"
        }
      ]
    },
    {
      "cell_type": "code",
      "metadata": {
        "colab": {
          "base_uri": "https://localhost:8080/",
          "height": 279
        },
        "id": "aaz9KXkgaH_O",
        "outputId": "282664a5-0f6d-4517-f4a2-d09bcab6a2cb"
      },
      "source": [
        "import matplotlib.pyplot as plt\n",
        "def dibuja_caracteristicas_importantes(modelo):\n",
        "    n_caracteristica = X.shape[1]\n",
        "    plt.barh(range(n_caracteristica), modelo.feature_importances_, align='center')\n",
        "    plt.yticks(np.arange(n_caracteristica),list(X.columns))\n",
        "    plt.xlabel(\"Caracteristicas importantes\")\n",
        "    plt.ylabel(\"Caracteristica\")\n",
        "\n",
        "dibuja_caracteristicas_importantes(BA_model)"
      ],
      "execution_count": null,
      "outputs": [
        {
          "output_type": "display_data",
          "data": {
            "image/png": "[encoded data removed]",
            "text/plain": [
              "<Figure size 432x288 with 1 Axes>"
            ]
          },
          "metadata": {
            "tags": [],
            "needs_background": "light"
          }
        }
      ]
    },
    {
      "cell_type": "markdown",
      "metadata": {
        "id": "3X6gND3ZWP5A"
      },
      "source": [
        "### Entrenamiento con 100 árboles con profundidad máxima de 12"
      ]
    },
    {
      "cell_type": "code",
      "metadata": {
        "id": "8HIFGCSdWP5H"
      },
      "source": [
        "from sklearn.ensemble import RandomForestRegressor\n",
        "BA_model = RandomForestRegressor(n_estimators = 100, \n",
        "                                  random_state = 10,max_depth = 12,n_jobs = 40)"
      ],
      "execution_count": 26,
      "outputs": []
    },
    {
      "cell_type": "code",
      "metadata": {
        "colab": {
          "base_uri": "https://localhost:8080/"
        },
        "id": "_klDQP-NWP5H",
        "outputId": "12251d63-97fa-4f13-dc2d-9942dd9f87c2"
      },
      "source": [
        "BA_model.fit(fareTrain, ObjTrain)"
      ],
      "execution_count": 27,
      "outputs": [
        {
          "output_type": "execute_result",
          "data": {
            "text/plain": [
              "RandomForestRegressor(bootstrap=True, ccp_alpha=0.0, criterion='mse',\n",
              "                      max_depth=12, max_features='auto', max_leaf_nodes=None,\n",
              "                      max_samples=None, min_impurity_decrease=0.0,\n",
              "                      min_impurity_split=None, min_samples_leaf=1,\n",
              "                      min_samples_split=2, min_weight_fraction_leaf=0.0,\n",
              "                      n_estimators=100, n_jobs=40, oob_score=False,\n",
              "                      random_state=10, verbose=0, warm_start=False)"
            ]
          },
          "metadata": {
            "tags": []
          },
          "execution_count": 27
        }
      ]
    },
    {
      "cell_type": "code",
      "metadata": {
        "colab": {
          "base_uri": "https://localhost:8080/"
        },
        "id": "Y5ecH4j6WP5I",
        "outputId": "38ff9310-2302-49a5-9a5b-c2cc9e3d86bc"
      },
      "source": [
        "from sklearn import metrics\n",
        "\n",
        "ObjPredcit =BA_model.predict(fareTest)\n",
        "\n",
        "print(\"Caracteristicas importantes:\\n{}\".format(BA_model.feature_importances_))\n",
        "print(\"Exactitud:\",BA_model.score(fareTest, ObjTest))\n",
        "print(\"Exactitud train:\",BA_model.score(fareTrain, ObjTrain))\n",
        "print('Error absoluto medio (MAE):', metrics.mean_absolute_error(ObjTest, ObjPredcit))\n",
        "print('Error cuadrádico medio (MSE):', metrics.mean_squared_error(ObjTest, ObjPredcit))\n",
        "print('Raiz cuadrada del error cuadrático medio (RMSE):', metrics.mean_squared_error(ObjTest, ObjPredcit, squared=False))\n",
        "print('Max Error:', metrics.max_error(ObjTest, ObjPredcit))\n",
        "print('R^2:', metrics.r2_score(ObjTest, ObjPredcit))\n",
        "#https://stackoverflow.com/questions/50789508/random-forest-regression-how-do-i-analyse-its-performance-python-sklearn/66209358#66209358"
      ],
      "execution_count": 28,
      "outputs": [
        {
          "output_type": "stream",
          "text": [
            "Caracteristicas importantes:\n",
            "[8.45171110e-02 4.12626593e-01 1.14076665e-01 3.84775591e-01\n",
            " 1.03001750e-04 2.81787662e-04 8.69880500e-04 2.96921358e-04\n",
            " 2.05199893e-03 2.21019449e-05 7.84385883e-05 1.14998511e-04\n",
            " 1.84911098e-04]\n",
            "Exactitud: 0.8088695995463278\n",
            "Exactitud train: 0.812584227055627\n",
            "Error absoluto medio (MAE): 3.1137480106496\n",
            "Error cuadrádico medio (MSE): 20.412726867984297\n",
            "Raiz cuadrada del error cuadrático medio (RMSE): 4.5180445845503\n",
            "Max Error: 65.91500792911579\n",
            "R^2: 0.8088695995463278\n"
          ],
          "name": "stdout"
        }
      ]
    },
    {
      "cell_type": "code",
      "metadata": {
        "colab": {
          "base_uri": "https://localhost:8080/",
          "height": 279
        },
        "id": "aV2B7AcxWP5I",
        "outputId": "77447622-3411-4df8-ad2c-b928287a1a7f"
      },
      "source": [
        "import matplotlib.pyplot as plt\n",
        "def dibuja_caracteristicas_importantes(modelo):\n",
        "    n_caracteristica = X.shape[1]\n",
        "    plt.barh(range(n_caracteristica), modelo.feature_importances_, align='center')\n",
        "    plt.yticks(np.arange(n_caracteristica),list(X.columns))\n",
        "    plt.xlabel(\"Caracteristicas importantes\")\n",
        "    plt.ylabel(\"Caracteristica\")\n",
        "\n",
        "dibuja_caracteristicas_importantes(BA_model)"
      ],
      "execution_count": 29,
      "outputs": [
        {
          "output_type": "display_data",
          "data": {
            "image/png": "[encoded data removed]",
            "text/plain": [
              "<Figure size 432x288 with 1 Axes>"
            ]
          },
          "metadata": {
            "tags": [],
            "needs_background": "light"
          }
        }
      ]
    },
    {
      "cell_type": "markdown",
      "metadata": {
        "id": "5kd1lR4-PzVf"
      },
      "source": [
        "### Entrenamiento con 100 árboles con profundidad máxima de 8 y min_samples_leaf = 2"
      ]
    },
    {
      "cell_type": "code",
      "metadata": {
        "id": "GlPIWveuPzVg"
      },
      "source": [
        "from sklearn.ensemble import RandomForestRegressor\n",
        "BA_model = RandomForestRegressor(n_estimators = 100, \n",
        "                                  random_state = 10,max_depth = 8,min_samples_leaf = 2,n_jobs = 40)"
      ],
      "execution_count": 17,
      "outputs": []
    },
    {
      "cell_type": "code",
      "metadata": {
        "colab": {
          "base_uri": "https://localhost:8080/"
        },
        "id": "LgTvyzO1PzVh",
        "outputId": "97811826-48fb-428e-92ea-dafd626273a8"
      },
      "source": [
        "BA_model.fit(fareTrain, ObjTrain)"
      ],
      "execution_count": 18,
      "outputs": [
        {
          "output_type": "execute_result",
          "data": {
            "text/plain": [
              "RandomForestRegressor(bootstrap=True, ccp_alpha=0.0, criterion='mse',\n",
              "                      max_depth=8, max_features='auto', max_leaf_nodes=None,\n",
              "                      max_samples=None, min_impurity_decrease=0.0,\n",
              "                      min_impurity_split=None, min_samples_leaf=2,\n",
              "                      min_samples_split=2, min_weight_fraction_leaf=0.0,\n",
              "                      n_estimators=100, n_jobs=40, oob_score=False,\n",
              "                      random_state=10, verbose=0, warm_start=False)"
            ]
          },
          "metadata": {
            "tags": []
          },
          "execution_count": 18
        }
      ]
    },
    {
      "cell_type": "code",
      "metadata": {
        "colab": {
          "base_uri": "https://localhost:8080/"
        },
        "id": "p8gd0hCVPzVj",
        "outputId": "c3dd742d-651f-4e60-d0d3-c7dcd8a50034"
      },
      "source": [
        "from sklearn import metrics\n",
        "\n",
        "ObjPredcit =BA_model.predict(fareTest)\n",
        "\n",
        "print(\"Caracteristicas importantes:\\n{}\".format(BA_model.feature_importances_))\n",
        "print(\"Exactitud:\",BA_model.score(fareTest, ObjTest))\n",
        "print(\"Exactitud train:\",BA_model.score(fareTrain, ObjTrain))\n",
        "print('Error absoluto medio (MAE):', metrics.mean_absolute_error(ObjTest, ObjPredcit))\n",
        "print('Error cuadrádico medio (MSE):', metrics.mean_squared_error(ObjTest, ObjPredcit))\n",
        "print('Raiz cuadrada del error cuadrático medio (RMSE):', metrics.mean_squared_error(ObjTest, ObjPredcit, squared=False))\n",
        "print('Max Error:', metrics.max_error(ObjTest, ObjPredcit))\n",
        "print('R^2:', metrics.r2_score(ObjTest, ObjPredcit))\n",
        "#https://stackoverflow.com/questions/50789508/random-forest-regression-how-do-i-analyse-its-performance-python-sklearn/66209358#66209358"
      ],
      "execution_count": 19,
      "outputs": [
        {
          "output_type": "stream",
          "text": [
            "Caracteristicas importantes:\n",
            "[7.14532751e-02 4.30491457e-01 9.57681671e-02 4.00555541e-01\n",
            " 3.76211067e-06 3.73285913e-06 6.15830326e-05 3.24643201e-05\n",
            " 1.52319387e-03 8.31667309e-07 3.76385154e-06 9.10250723e-05\n",
            " 1.12036812e-05]\n",
            "Exactitud: 0.7642654431281367\n",
            "Exactitud train: 0.7650005557185694\n",
            "Error absoluto medio (MAE): 3.554536411504769\n",
            "Error cuadrádico medio (MSE): 25.176450796674935\n",
            "Raiz cuadrada del error cuadrático medio (RMSE): 5.017614054177038\n",
            "Max Error: 65.8463694219745\n",
            "R^2: 0.7642654431281367\n"
          ],
          "name": "stdout"
        }
      ]
    },
    {
      "cell_type": "code",
      "metadata": {
        "colab": {
          "base_uri": "https://localhost:8080/",
          "height": 0
        },
        "id": "iAR5wv8oPzVk",
        "outputId": "aab2c652-69d5-453e-c6ad-1c5535d49a3d"
      },
      "source": [
        "import matplotlib.pyplot as plt\n",
        "def dibuja_caracteristicas_importantes(modelo):\n",
        "    n_caracteristica = X.shape[1]\n",
        "    plt.barh(range(n_caracteristica), modelo.feature_importances_, align='center')\n",
        "    plt.yticks(np.arange(n_caracteristica),list(X.columns))\n",
        "    plt.xlabel(\"Caracteristicas importantes\")\n",
        "    plt.ylabel(\"Caracteristica\")\n",
        "\n",
        "dibuja_caracteristicas_importantes(BA_model)"
      ],
      "execution_count": 20,
      "outputs": [
        {
          "output_type": "display_data",
          "data": {
            "image/png": "[encoded data removed]",
            "text/plain": [
              "<Figure size 432x288 with 1 Axes>"
            ]
          },
          "metadata": {
            "tags": [],
            "needs_background": "light"
          }
        }
      ]
    },
    {
      "cell_type": "code",
      "metadata": {
        "id": "XWFyHxN7Nkr6"
      },
      "source": [
        "from sklearn.ensemble import RandomForestRegressor\n",
        "BA_model = RandomForestRegressor(n_estimators = 100, \n",
        "                                  random_state = 10,max_depth = 12,n_jobs = 40)"
      ],
      "execution_count": 13,
      "outputs": []
    },
    {
      "cell_type": "code",
      "metadata": {
        "colab": {
          "base_uri": "https://localhost:8080/"
        },
        "id": "4wOhW03WNkr6",
        "outputId": "c85441ac-0e33-481a-f67d-4f9d6050a0f8"
      },
      "source": [
        "BA_model.fit(fareTrain, ObjTrain)"
      ],
      "execution_count": 14,
      "outputs": [
        {
          "output_type": "execute_result",
          "data": {
            "text/plain": [
              "RandomForestRegressor(bootstrap=True, ccp_alpha=0.0, criterion='mse',\n",
              "                      max_depth=12, max_features='auto', max_leaf_nodes=None,\n",
              "                      max_samples=None, min_impurity_decrease=0.0,\n",
              "                      min_impurity_split=None, min_samples_leaf=1,\n",
              "                      min_samples_split=2, min_weight_fraction_leaf=0.0,\n",
              "                      n_estimators=100, n_jobs=40, oob_score=False,\n",
              "                      random_state=10, verbose=0, warm_start=False)"
            ]
          },
          "metadata": {
            "tags": []
          },
          "execution_count": 14
        }
      ]
    },
    {
      "cell_type": "code",
      "metadata": {
        "colab": {
          "base_uri": "https://localhost:8080/"
        },
        "id": "pMDKIAD4Nkr7",
        "outputId": "c264b7d2-0940-4ea3-84c5-8a239f204c65"
      },
      "source": [
        "from sklearn import metrics\n",
        "\n",
        "ObjPredcit =BA_model.predict(fareTest)\n",
        "\n",
        "print(\"Caracteristicas importantes:\\n{}\".format(BA_model.feature_importances_))\n",
        "print(\"Exactitud:\",BA_model.score(fareTest, ObjTest))\n",
        "print(\"Exactitud train:\",BA_model.score(fareTrain, ObjTrain))\n",
        "print('Error absoluto medio (MAE):', metrics.mean_absolute_error(ObjTest, ObjPredcit))\n",
        "print('Error cuadrádico medio (MSE):', metrics.mean_squared_error(ObjTest, ObjPredcit))\n",
        "print('Raiz cuadrada del error cuadrático medio (RMSE):', metrics.mean_squared_error(ObjTest, ObjPredcit, squared=False))\n",
        "print('Max Error:', metrics.max_error(ObjTest, ObjPredcit))\n",
        "print('R^2:', metrics.r2_score(ObjTest, ObjPredcit))\n",
        "#https://stackoverflow.com/questions/50789508/random-forest-regression-how-do-i-analyse-its-performance-python-sklearn/66209358#66209358"
      ],
      "execution_count": 15,
      "outputs": [
        {
          "output_type": "stream",
          "text": [
            "Caracteristicas importantes:\n",
            "[8.45171110e-02 4.12626593e-01 1.14076665e-01 3.84775591e-01\n",
            " 1.03001750e-04 2.81787662e-04 8.69880500e-04 2.96921358e-04\n",
            " 2.05199893e-03 2.21019449e-05 7.84385883e-05 1.14998511e-04\n",
            " 1.84911098e-04]\n",
            "Exactitud: 0.8088695995463278\n",
            "Exactitud train: 0.812584227055627\n",
            "Error absoluto medio (MAE): 3.1137480106496\n",
            "Error cuadrádico medio (MSE): 20.412726867984297\n",
            "Raiz cuadrada del error cuadrático medio (RMSE): 4.5180445845503\n",
            "Max Error: 65.9150079291158\n",
            "R^2: 0.8088695995463278\n"
          ],
          "name": "stdout"
        }
      ]
    },
    {
      "cell_type": "code",
      "metadata": {
        "colab": {
          "base_uri": "https://localhost:8080/",
          "height": 279
        },
        "id": "yTdZAKNXNkr8",
        "outputId": "44441f49-658b-43b4-d716-037c7e2d0f83"
      },
      "source": [
        "import matplotlib.pyplot as plt\n",
        "def dibuja_caracteristicas_importantes(modelo):\n",
        "    n_caracteristica = X.shape[1]\n",
        "    plt.barh(range(n_caracteristica), modelo.feature_importances_, align='center')\n",
        "    plt.yticks(np.arange(n_caracteristica),list(X.columns))\n",
        "    plt.xlabel(\"Caracteristicas importantes\")\n",
        "    plt.ylabel(\"Caracteristica\")\n",
        "\n",
        "dibuja_caracteristicas_importantes(BA_model)"
      ],
      "execution_count": 16,
      "outputs": [
        {
          "output_type": "display_data",
          "data": {
            "image/png": "[encoded data removed]",
            "text/plain": [
              "<Figure size 432x288 with 1 Axes>"
            ]
          },
          "metadata": {
            "tags": [],
            "needs_background": "light"
          }
        }
      ]
    },
    {
      "cell_type": "markdown",
      "metadata": {
        "id": "hgkKHwDTLQLX"
      },
      "source": [
        "### Entrenamiento con 200 árboles con profundidad máxima de 8"
      ]
    },
    {
      "cell_type": "code",
      "metadata": {
        "id": "LgMHB29PIZ7n"
      },
      "source": [
        "from sklearn.ensemble import RandomForestRegressor\n",
        "BA_model = RandomForestRegressor(n_estimators = 200, \n",
        "                                  random_state = 1,max_depth = 8,n_jobs = 40,oob_score = True)"
      ],
      "execution_count": null,
      "outputs": []
    },
    {
      "cell_type": "code",
      "metadata": {
        "colab": {
          "base_uri": "https://localhost:8080/"
        },
        "id": "hgMj52HFIoE2",
        "outputId": "1f510384-5fd0-476a-a433-e36add791098"
      },
      "source": [
        "BA_model.fit(fareTrain, ObjTrain)"
      ],
      "execution_count": null,
      "outputs": [
        {
          "output_type": "execute_result",
          "data": {
            "text/plain": [
              "RandomForestRegressor(bootstrap=True, ccp_alpha=0.0, criterion='mse',\n",
              "                      max_depth=8, max_features='auto', max_leaf_nodes=None,\n",
              "                      max_samples=None, min_impurity_decrease=0.0,\n",
              "                      min_impurity_split=None, min_samples_leaf=1,\n",
              "                      min_samples_split=2, min_weight_fraction_leaf=0.0,\n",
              "                      n_estimators=200, n_jobs=40, oob_score=True,\n",
              "                      random_state=1, verbose=0, warm_start=False)"
            ]
          },
          "metadata": {
            "tags": []
          },
          "execution_count": 21
        }
      ]
    },
    {
      "cell_type": "code",
      "metadata": {
        "colab": {
          "base_uri": "https://localhost:8080/"
        },
        "id": "TmzOz-diIq4o",
        "outputId": "4e5f5a6c-8025-4b43-d9d3-2e807599bccf"
      },
      "source": [
        "from sklearn import metrics\n",
        "\n",
        "ObjPredcit =BA_model.predict(fareTest)\n",
        "\n",
        "print(\"Caracteristicas importantes:\\n{}\".format(BA_model.feature_importances_))\n",
        "print(\"Exactitud:\",BA_model.score(fareTest, ObjTest))\n",
        "print(\"Exactitud train:\",BA_model.score(fareTrain, ObjTrain))\n",
        "print('Error absoluto medio (MAE):', metrics.mean_absolute_error(ObjTest, ObjPredcit))\n",
        "print('Error cuadrádico medio (MSE):', metrics.mean_squared_error(ObjTest, ObjPredcit))\n",
        "print('Raiz cuadrada del error cuadrático medio (RMSE):', metrics.mean_squared_error(ObjTest, ObjPredcit, squared=False))\n",
        "print('Max Error:', metrics.max_error(ObjTest, ObjPredcit))\n",
        "print('R^2:', metrics.r2_score(ObjTest, ObjPredcit))\n",
        "#https://stackoverflow.com/questions/50789508/random-forest-regression-how-do-i-analyse-its-performance-python-sklearn/66209358#66209358"
      ],
      "execution_count": null,
      "outputs": [
        {
          "output_type": "stream",
          "text": [
            "Caracteristicas importantes:\n",
            "[7.35603884e-02 4.28295291e-01 9.56806615e-02 4.00733101e-01\n",
            " 3.34263124e-06 4.79324896e-06 5.90902971e-05 3.31927583e-05\n",
            " 1.51607418e-03 6.91802645e-07 5.35872151e-06 9.69116719e-05\n",
            " 1.11029842e-05]\n",
            "Exactitud: 0.764203884768057\n",
            "Exactitud train: 0.7649322964082861\n",
            "Error absoluto medio (MAE): 3.5550954324193604\n",
            "Error cuadrádico medio (MSE): 25.183025229563505\n",
            "Raiz cuadrada del error cuadrático medio (RMSE): 5.018269146783929\n",
            "Max Error: 65.80331071461451\n",
            "R^2: 0.764203884768057\n"
          ],
          "name": "stdout"
        }
      ]
    },
    {
      "cell_type": "code",
      "metadata": {
        "colab": {
          "base_uri": "https://localhost:8080/",
          "height": 279
        },
        "id": "_CcEUgglIxuu",
        "outputId": "ad5cf5fb-1dc3-4ff9-d862-341258593f6f"
      },
      "source": [
        "import matplotlib.pyplot as plt\n",
        "def dibuja_caracteristicas_importantes(modelo):\n",
        "    n_caracteristica = X.shape[1]\n",
        "    plt.barh(range(n_caracteristica), modelo.feature_importances_, align='center')\n",
        "    plt.yticks(np.arange(n_caracteristica),list(X.columns))\n",
        "    plt.xlabel(\"Caracteristicas importantes\")\n",
        "    plt.ylabel(\"Caracteristica\")\n",
        "\n",
        "dibuja_caracteristicas_importantes(BA_model)"
      ],
      "execution_count": null,
      "outputs": [
        {
          "output_type": "display_data",
          "data": {
            "image/png": "[encoded data removed]",
            "text/plain": [
              "<Figure size 432x288 with 1 Axes>"
            ]
          },
          "metadata": {
            "tags": [],
            "needs_background": "light"
          }
        }
      ]
    },
    {
      "cell_type": "markdown",
      "metadata": {
        "id": "6z6gDIeq0j9e"
      },
      "source": [
        "Obtenemos un score de 0.76420 con un RMSE de 5.018"
      ]
    },
    {
      "cell_type": "markdown",
      "metadata": {
        "id": "PqrqQEqSIb2d"
      },
      "source": [
        "### Entrenamiento con 500 árboles con profundidad máxima de 8"
      ]
    },
    {
      "cell_type": "code",
      "metadata": {
        "id": "idcfItMaWkbi"
      },
      "source": [
        "from sklearn.ensemble import RandomForestRegressor\n",
        "BA_model = RandomForestRegressor(n_estimators = 500, \n",
        "                                  random_state = 1,max_depth = 8,n_jobs = 40,oob_score = True)"
      ],
      "execution_count": null,
      "outputs": []
    },
    {
      "cell_type": "code",
      "metadata": {
        "id": "nAKzcGazWl4s",
        "colab": {
          "base_uri": "https://localhost:8080/"
        },
        "outputId": "624c0d2b-70c6-4489-d230-a4f5d2eed61f"
      },
      "source": [
        "BA_model.fit(fareTrain, ObjTrain)"
      ],
      "execution_count": null,
      "outputs": [
        {
          "output_type": "execute_result",
          "data": {
            "text/plain": [
              "RandomForestRegressor(bootstrap=True, ccp_alpha=0.0, criterion='mse',\n",
              "                      max_depth=8, max_features='auto', max_leaf_nodes=None,\n",
              "                      max_samples=None, min_impurity_decrease=0.0,\n",
              "                      min_impurity_split=None, min_samples_leaf=1,\n",
              "                      min_samples_split=2, min_weight_fraction_leaf=0.0,\n",
              "                      n_estimators=500, n_jobs=40, oob_score=True,\n",
              "                      random_state=1, verbose=0, warm_start=False)"
            ]
          },
          "metadata": {
            "tags": []
          },
          "execution_count": 15
        }
      ]
    },
    {
      "cell_type": "code",
      "metadata": {
        "colab": {
          "base_uri": "https://localhost:8080/"
        },
        "id": "pDBxUBhdXNxT",
        "outputId": "6a305790-4e1a-4df7-8a6e-962baf5cd946"
      },
      "source": [
        "from sklearn import metrics\n",
        "\n",
        "ObjPredcit =BA_model.predict(fareTest)\n",
        "BA_model.score(fareTest, ObjTest)\n",
        "BA_model.score(fareTrain, ObjTrain)\n",
        "print(\"Caracteristicas importantes:\\n{}\".format(BA_model.feature_importances_))\n",
        "print(\"Exactitud:\",BA_model.score(fareTest, ObjTest))\n",
        "print(\"Exactitud train:\",BA_model.score(fareTrain, ObjTrain))\n",
        "print(\"Exactitud media para 1000 árboles y sin max_depth:\",BA_model.score(fareTest, ObjTest))\n",
        "\n",
        "print('Error absoluto medio (MAE):', metrics.mean_absolute_error(ObjTest, ObjPredcit))\n",
        "print('Error cuadrádico medio (MSE):', metrics.mean_squared_error(ObjTest, ObjPredcit))\n",
        "print('Raiz cuadrada del error cuadrático medio (RMSE):', metrics.mean_squared_error(ObjTest, ObjPredcit, squared=False))\n",
        "#print('Mean Absolute Percentage Error (MAPE):', metrics.mean_absolute_percentage_error(ObjTest, ObjPredcit))\n",
        "print('Explained Variance Score:', metrics.explained_variance_score(ObjTest, ObjPredcit))\n",
        "print('Max Error:', metrics.max_error(ObjTest, ObjPredcit))\n",
        "print('Mean Squared Log Error:', metrics.mean_squared_log_error(ObjTest, ObjPredcit))\n",
        "print('Median Absolute Error:', metrics.median_absolute_error(ObjTest, ObjPredcit))\n",
        "print('R^2:', metrics.r2_score(ObjTest, ObjPredcit))\n",
        "print('Mean Poisson Deviance:', metrics.mean_poisson_deviance(ObjTest, ObjPredcit))\n",
        "print('Mean Gamma Deviance:', metrics.mean_gamma_deviance(ObjTest, ObjPredcit))\n",
        "#https://stackoverflow.com/questions/50789508/random-forest-regression-how-do-i-analyse-its-performance-python-sklearn/66209358#66209358"
      ],
      "execution_count": null,
      "outputs": [
        {
          "output_type": "stream",
          "text": [
            "Caracteristicas importantes:\n",
            "[7.29234309e-02 4.29174545e-01 9.62013019e-02 4.00821202e-01\n",
            " 2.43364203e-06 5.10194614e-06 8.26389101e-04 3.17928403e-05\n",
            " 5.17878137e-06 8.62325653e-06]\n",
            "Exactitud: 0.7641729526816465\n",
            "Exactitud train: 0.764928037402892\n",
            "Exactitud media para 1000 árboles y sin max_depth: 0.7641729526816465\n",
            "Error absoluto medio (MAE): 3.555044147386784\n",
            "Error cuadrádico medio (MSE): 25.186328776408246\n",
            "Raiz cuadrada del error cuadrático medio (RMSE): 5.018598288009137\n",
            "Explained Variance Score: 0.7641729674345832\n",
            "Max Error: 65.79053804142409\n",
            "Mean Squared Log Error: 0.15051684222335354\n",
            "Median Absolute Error: 2.8356482506639935\n",
            "R^2: 0.7641729526816465\n",
            "Mean Poisson Deviance: 1.9380195601457966\n",
            "Mean Gamma Deviance: 0.18399500155429604\n"
          ],
          "name": "stdout"
        }
      ]
    },
    {
      "cell_type": "code",
      "metadata": {
        "colab": {
          "base_uri": "https://localhost:8080/",
          "height": 279
        },
        "id": "j2pKhG8C_QAI",
        "outputId": "66eb3192-bd84-41b9-8137-837331d6ca06"
      },
      "source": [
        "import matplotlib.pyplot as plt\n",
        "def dibuja_caracteristicas_importantes(modelo):\n",
        "    n_caracteristica = X.shape[1]\n",
        "    plt.barh(range(n_caracteristica), modelo.feature_importances_, align='center')\n",
        "    plt.yticks(np.arange(n_caracteristica),list(X.columns))\n",
        "    plt.xlabel(\"Caracteristicas importantes\")\n",
        "    plt.ylabel(\"Caracteristica\")\n",
        "\n",
        "dibuja_caracteristicas_importantes(BA_model)"
      ],
      "execution_count": null,
      "outputs": [
        {
          "output_type": "display_data",
          "data": {
            "image/png": "[encoded data removed]",
            "text/plain": [
              "<Figure size 432x288 with 1 Axes>"
            ]
          },
          "metadata": {
            "tags": [],
            "needs_background": "light"
          }
        }
      ]
    },
    {
      "cell_type": "markdown",
      "metadata": {
        "id": "JfnuO3Vx00zU"
      },
      "source": [
        "Obtenemos un score de 0.76417 con un RMSE de 5.018"
      ]
    },
    {
      "cell_type": "markdown",
      "metadata": {
        "id": "XngZ15lQQpDt"
      },
      "source": [
        "## CONCLUSIONES"
      ]
    },
    {
      "cell_type": "markdown",
      "metadata": {
        "id": "mi7gzYN3QyBF"
      },
      "source": [
        "* Al ver los resultados notammos que la variación de la profundidad máxima del árbol tiene un efecto significativo sobre el Score, este aumenta de 0.6577 (profundidad máxima de 4) a 0.8088 (profundidad máxima de 12).\n",
        "* Al aumentar la profundidad del árbol el modelo se va sobreajustando a la data de entrenamiento. Para una profundidad de 8 casi no vemos sobreajuste en el modelo ( el Score para la data de test es 0.76420 mientras para la data de entrenamiento es 0.764932). Para una profundidad de 10 el modelo está sobreajustado un poco más: el Score de la data de test es 79340 y el Score de la data de entrenamiento es 0.79526, por otro lado para una profundidad de 12 el el Score de la data de test es 0.80886 y el Score de la data de entrenamiento es 0.81258. Vemos claramente que el modelo tiende al sobreajuste al aumentar la profundidad del árbol.\n",
        "* Para cada profundidad probada la variación de la cantidad de árboles solo alfecta en el rango de las diez milésimas con la cantidad de árboles por ejemplo para una profundidad de 10 el Score cambia de 0.7933 para 100 pasando por 0.79340 para 200 hasta 0.79342 para 500.\n",
        "* El mejor Score que obtuvimos con este modelo es de 0.79342 con un RMSE de 4.6970, esto es para 500 árboles con una profundidad máxima de 10.\n"
      ]
    }
  ]
}