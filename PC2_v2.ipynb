{
  "nbformat": 4,
  "nbformat_minor": 0,
  "metadata": {
    "accelerator": "TPU",
    "colab": {
      "name": "PC2-v2.ipynb",
      "provenance": [],
      "collapsed_sections": [
        "qs04f5FnTvqO"
      ],
      "toc_visible": true,
      "machine_shape": "hm"
    },
    "kernelspec": {
      "display_name": "Python 3",
      "language": "python",
      "name": "python3"
    },
    "language_info": {
      "codemirror_mode": {
        "name": "ipython",
        "version": 3
      },
      "file_extension": ".py",
      "mimetype": "text/x-python",
      "name": "python",
      "nbconvert_exporter": "python",
      "pygments_lexer": "ipython3",
      "version": "3.9.1"
    }
  },
  "cells": [
    {
      "cell_type": "markdown",
      "metadata": {
        "id": "Alb1fNU3osKF"
      },
      "source": [
        "# Práctica Calificada 02\n",
        "## Predicción de tarifas de taxis"
      ]
    },
    {
      "cell_type": "markdown",
      "metadata": {
        "id": "kDGhZEGnosKO"
      },
      "source": [
        "<span style=\"color:red\">\n",
        "Abrir el cuaderno en Google Colab y ejecutar las celdas nuevamente.\n",
        "</span>."
      ]
    },
    {
      "cell_type": "code",
      "metadata": {
        "id": "hhGH-rNMPn8g",
        "colab": {
          "base_uri": "https://localhost:8080/"
        },
        "outputId": "1b446374-fe86-415e-f2cc-e9cb60bcea55"
      },
      "source": [
        "from google.colab import drive\n",
        "drive.mount('/content/drive/')"
      ],
      "execution_count": 1,
      "outputs": [
        {
          "output_type": "stream",
          "text": [
            "Mounted at /content/drive/\n"
          ],
          "name": "stdout"
        }
      ]
    },
    {
      "cell_type": "code",
      "metadata": {
        "colab": {
          "base_uri": "https://localhost:8080/"
        },
        "id": "Bg6tY4noF7IC",
        "outputId": "27589d94-d43f-46c4-d66b-e90232cf3be0"
      },
      "source": [
        "drive.mount('/gdrive')\n",
        "%cd /gdrive/MyDrive/AIProjects/PC2/Data/PracticaCalificada2-CC421/\n",
        "#%ls"
      ],
      "execution_count": 5,
      "outputs": [
        {
          "output_type": "stream",
          "text": [
            "Drive already mounted at /gdrive; to attempt to forcibly remount, call drive.mount(\"/gdrive\", force_remount=True).\n",
            "/gdrive/MyDrive/AIProjects/PC2/Data/PracticaCalificada2-CC421\n"
          ],
          "name": "stdout"
        }
      ]
    },
    {
      "cell_type": "code",
      "metadata": {
        "id": "IJQfAQHyQpq3"
      },
      "source": [
        "import pandas as pd\n",
        "import numpy as np"
      ],
      "execution_count": 6,
      "outputs": []
    },
    {
      "cell_type": "code",
      "metadata": {
        "id": "OYFB6QLjEGrN"
      },
      "source": [
        "#np.set_printoptions(formatter={'float_kind':'{:f}'.format})"
      ],
      "execution_count": null,
      "outputs": []
    },
    {
      "cell_type": "markdown",
      "metadata": {
        "id": "m13y9h8hRgU-"
      },
      "source": [
        "#### Importar data total"
      ]
    },
    {
      "cell_type": "code",
      "metadata": {
        "colab": {
          "base_uri": "https://localhost:8080/",
          "height": 309
        },
        "id": "J-1GOuqkF_fu",
        "outputId": "98192c24-4133-48ba-db23-de89763f0465"
      },
      "source": [
        "dtypes = {\n",
        "      'key': 'object',\n",
        "      'fare_amount': 'float64',\n",
        "      'pickup_datetime': 'object',\n",
        "      'pickup_longitude': 'float64', \n",
        "      'pickup_latitude': 'float64',\n",
        "      'dropoff_longitude': 'float64',\n",
        "      'dropoff_latitude': 'float64',\n",
        "      'passenger_count': 'int64',\n",
        "      \n",
        "    \n",
        "}\n",
        "df = pd.read_csv(\"train.csv\", dtype=dtypes, nrows=1000000)\n",
        "df = df[['key', 'pickup_datetime', 'pickup_latitude', 'pickup_longitude', 'dropoff_latitude', 'dropoff_longitude', 'passenger_count', 'fare_amount']]\n",
        "df.head()"
      ],
      "execution_count": 7,
      "outputs": [
        {
          "output_type": "execute_result",
          "data": {
            "text/html": [
              "<div>\n",
              "<style scoped>\n",
              "    .dataframe tbody tr th:only-of-type {\n",
              "        vertical-align: middle;\n",
              "    }\n",
              "\n",
              "    .dataframe tbody tr th {\n",
              "        vertical-align: top;\n",
              "    }\n",
              "\n",
              "    .dataframe thead th {\n",
              "        text-align: right;\n",
              "    }\n",
              "</style>\n",
              "<table border=\"1\" class=\"dataframe\">\n",
              "  <thead>\n",
              "    <tr style=\"text-align: right;\">\n",
              "      <th></th>\n",
              "      <th>key</th>\n",
              "      <th>pickup_datetime</th>\n",
              "      <th>pickup_latitude</th>\n",
              "      <th>pickup_longitude</th>\n",
              "      <th>dropoff_latitude</th>\n",
              "      <th>dropoff_longitude</th>\n",
              "      <th>passenger_count</th>\n",
              "      <th>fare_amount</th>\n",
              "    </tr>\n",
              "  </thead>\n",
              "  <tbody>\n",
              "    <tr>\n",
              "      <th>0</th>\n",
              "      <td>2009-06-15 17:26:21.0000001</td>\n",
              "      <td>2009-06-15 17:26:21 UTC</td>\n",
              "      <td>40.721319</td>\n",
              "      <td>-73.844311</td>\n",
              "      <td>40.712278</td>\n",
              "      <td>-73.841610</td>\n",
              "      <td>1</td>\n",
              "      <td>4.5</td>\n",
              "    </tr>\n",
              "    <tr>\n",
              "      <th>1</th>\n",
              "      <td>2010-01-05 16:52:16.0000002</td>\n",
              "      <td>2010-01-05 16:52:16 UTC</td>\n",
              "      <td>40.711303</td>\n",
              "      <td>-74.016048</td>\n",
              "      <td>40.782004</td>\n",
              "      <td>-73.979268</td>\n",
              "      <td>1</td>\n",
              "      <td>16.9</td>\n",
              "    </tr>\n",
              "    <tr>\n",
              "      <th>2</th>\n",
              "      <td>2011-08-18 00:35:00.00000049</td>\n",
              "      <td>2011-08-18 00:35:00 UTC</td>\n",
              "      <td>40.761270</td>\n",
              "      <td>-73.982738</td>\n",
              "      <td>40.750562</td>\n",
              "      <td>-73.991242</td>\n",
              "      <td>2</td>\n",
              "      <td>5.7</td>\n",
              "    </tr>\n",
              "    <tr>\n",
              "      <th>3</th>\n",
              "      <td>2012-04-21 04:30:42.0000001</td>\n",
              "      <td>2012-04-21 04:30:42 UTC</td>\n",
              "      <td>40.733143</td>\n",
              "      <td>-73.987130</td>\n",
              "      <td>40.758092</td>\n",
              "      <td>-73.991567</td>\n",
              "      <td>1</td>\n",
              "      <td>7.7</td>\n",
              "    </tr>\n",
              "    <tr>\n",
              "      <th>4</th>\n",
              "      <td>2010-03-09 07:51:00.000000135</td>\n",
              "      <td>2010-03-09 07:51:00 UTC</td>\n",
              "      <td>40.768008</td>\n",
              "      <td>-73.968095</td>\n",
              "      <td>40.783762</td>\n",
              "      <td>-73.956655</td>\n",
              "      <td>1</td>\n",
              "      <td>5.3</td>\n",
              "    </tr>\n",
              "  </tbody>\n",
              "</table>\n",
              "</div>"
            ],
            "text/plain": [
              "                             key  ... fare_amount\n",
              "0    2009-06-15 17:26:21.0000001  ...         4.5\n",
              "1    2010-01-05 16:52:16.0000002  ...        16.9\n",
              "2   2011-08-18 00:35:00.00000049  ...         5.7\n",
              "3    2012-04-21 04:30:42.0000001  ...         7.7\n",
              "4  2010-03-09 07:51:00.000000135  ...         5.3\n",
              "\n",
              "[5 rows x 8 columns]"
            ]
          },
          "metadata": {
            "tags": []
          },
          "execution_count": 7
        }
      ]
    },
    {
      "cell_type": "code",
      "metadata": {
        "id": "BTzE_kgYosKY"
      },
      "source": [
        "df.info()"
      ],
      "execution_count": null,
      "outputs": []
    },
    {
      "cell_type": "markdown",
      "metadata": {
        "id": "GYEk5IMwTz4z"
      },
      "source": [
        "### Primera revisión de la data completa"
      ]
    },
    {
      "cell_type": "markdown",
      "metadata": {
        "id": "vj4jep39qtw5"
      },
      "source": [
        "#### Valores duplicados"
      ]
    },
    {
      "cell_type": "code",
      "metadata": {
        "colab": {
          "base_uri": "https://localhost:8080/",
          "height": 103
        },
        "id": "evoC50cPhCIc",
        "outputId": "458f9a8c-5f80-47b3-95a4-6f2e66cfb73e"
      },
      "source": [
        "%time\n",
        "duplicateRowsDF = df.loc[df.duplicated(['key'], keep=False), :]\n",
        "duplicateRowsDF"
      ],
      "execution_count": 8,
      "outputs": [
        {
          "output_type": "stream",
          "text": [
            "CPU times: user 3 µs, sys: 0 ns, total: 3 µs\n",
            "Wall time: 5.96 µs\n"
          ],
          "name": "stdout"
        },
        {
          "output_type": "execute_result",
          "data": {
            "text/html": [
              "<div>\n",
              "<style scoped>\n",
              "    .dataframe tbody tr th:only-of-type {\n",
              "        vertical-align: middle;\n",
              "    }\n",
              "\n",
              "    .dataframe tbody tr th {\n",
              "        vertical-align: top;\n",
              "    }\n",
              "\n",
              "    .dataframe thead th {\n",
              "        text-align: right;\n",
              "    }\n",
              "</style>\n",
              "<table border=\"1\" class=\"dataframe\">\n",
              "  <thead>\n",
              "    <tr style=\"text-align: right;\">\n",
              "      <th></th>\n",
              "      <th>key</th>\n",
              "      <th>pickup_datetime</th>\n",
              "      <th>pickup_latitude</th>\n",
              "      <th>pickup_longitude</th>\n",
              "      <th>dropoff_latitude</th>\n",
              "      <th>dropoff_longitude</th>\n",
              "      <th>passenger_count</th>\n",
              "      <th>fare_amount</th>\n",
              "    </tr>\n",
              "  </thead>\n",
              "  <tbody>\n",
              "  </tbody>\n",
              "</table>\n",
              "</div>"
            ],
            "text/plain": [
              "Empty DataFrame\n",
              "Columns: [key, pickup_datetime, pickup_latitude, pickup_longitude, dropoff_latitude, dropoff_longitude, passenger_count, fare_amount]\n",
              "Index: []"
            ]
          },
          "metadata": {
            "tags": []
          },
          "execution_count": 8
        }
      ]
    },
    {
      "cell_type": "code",
      "metadata": {
        "id": "xk_OjNLxosKi"
      },
      "source": [
        "df['key'][55423855] =  '2014-12-12 11:33:00.00000016'"
      ],
      "execution_count": 9,
      "outputs": []
    },
    {
      "cell_type": "code",
      "metadata": {
        "colab": {
          "base_uri": "https://localhost:8080/"
        },
        "id": "fQooFDYRosKi",
        "outputId": "8f07d0c5-1888-43d4-e99e-6f93e1fa6fdf"
      },
      "source": [
        "duplicateRowsDF = df.loc[df.duplicated(['key'], keep=False), :]\n",
        "duplicateRowsDF.shape[0]"
      ],
      "execution_count": 10,
      "outputs": [
        {
          "output_type": "execute_result",
          "data": {
            "text/plain": [
              "0"
            ]
          },
          "metadata": {
            "tags": []
          },
          "execution_count": 10
        }
      ]
    },
    {
      "cell_type": "markdown",
      "metadata": {
        "id": "KRCFfN7hUFiQ"
      },
      "source": [
        "#### Valores NaN"
      ]
    },
    {
      "cell_type": "code",
      "metadata": {
        "colab": {
          "base_uri": "https://localhost:8080/"
        },
        "id": "-CwjU76dosKj",
        "outputId": "8a7710ed-889c-4c43-eba5-4ae4570ed4b2"
      },
      "source": [
        "df.isna().sum()"
      ],
      "execution_count": 11,
      "outputs": [
        {
          "output_type": "execute_result",
          "data": {
            "text/plain": [
              "key                   0\n",
              "pickup_datetime       0\n",
              "pickup_latitude       0\n",
              "pickup_longitude      0\n",
              "dropoff_latitude     10\n",
              "dropoff_longitude    10\n",
              "passenger_count       0\n",
              "fare_amount           0\n",
              "dtype: int64"
            ]
          },
          "metadata": {
            "tags": []
          },
          "execution_count": 11
        }
      ]
    },
    {
      "cell_type": "code",
      "metadata": {
        "id": "YX95rllxosKk"
      },
      "source": [
        "df = df.dropna()"
      ],
      "execution_count": 13,
      "outputs": []
    },
    {
      "cell_type": "markdown",
      "metadata": {
        "id": "6zL5EkgSosKk"
      },
      "source": [
        "#### Coordenadas"
      ]
    },
    {
      "cell_type": "markdown",
      "metadata": {
        "id": "LeB7v2caeE-Q"
      },
      "source": [
        "Se analizará la data con el objetivo de eliminar las filas con coordenadas ubicadas en el océano.\n"
      ]
    },
    {
      "cell_type": "code",
      "metadata": {
        "colab": {
          "base_uri": "https://localhost:8080/"
        },
        "id": "fvLRgQm4w6gv",
        "outputId": "8404efb3-cb36-40e5-b5fa-8b9789e9e4e6"
      },
      "source": [
        "!pip install global-land-mask"
      ],
      "execution_count": 14,
      "outputs": [
        {
          "output_type": "stream",
          "text": [
            "Collecting global-land-mask\n",
            "\u001b[?25l  Downloading https://files.pythonhosted.org/packages/e6/e9/eaac67e39b68f64828a164f8dbfcf13baccd7382704ea120152af475f520/global_land_mask-1.0.0-py3-none-any.whl (1.8MB)\n",
            "\u001b[K     |████████████████████████████████| 1.8MB 6.4MB/s \n",
            "\u001b[?25hInstalling collected packages: global-land-mask\n",
            "Successfully installed global-land-mask-1.0.0\n"
          ],
          "name": "stdout"
        }
      ]
    },
    {
      "cell_type": "code",
      "metadata": {
        "id": "EHDiR4uHLME7"
      },
      "source": [
        "from global_land_mask import globe as gl"
      ],
      "execution_count": 15,
      "outputs": []
    },
    {
      "cell_type": "code",
      "metadata": {
        "id": "h_OKBr002fJl"
      },
      "source": [
        "df = df.dropna()"
      ],
      "execution_count": 16,
      "outputs": []
    },
    {
      "cell_type": "code",
      "metadata": {
        "colab": {
          "base_uri": "https://localhost:8080/"
        },
        "id": "eKQUwiZo20So",
        "outputId": "30e78a98-7835-4f17-88fe-2f5af9b0ed6a"
      },
      "source": [
        "df.info()"
      ],
      "execution_count": 17,
      "outputs": [
        {
          "output_type": "stream",
          "text": [
            "<class 'pandas.core.frame.DataFrame'>\n",
            "Int64Index: 999990 entries, 0 to 999999\n",
            "Data columns (total 8 columns):\n",
            " #   Column             Non-Null Count   Dtype  \n",
            "---  ------             --------------   -----  \n",
            " 0   key                999990 non-null  object \n",
            " 1   pickup_datetime    999990 non-null  object \n",
            " 2   pickup_latitude    999990 non-null  float64\n",
            " 3   pickup_longitude   999990 non-null  float64\n",
            " 4   dropoff_latitude   999990 non-null  float64\n",
            " 5   dropoff_longitude  999990 non-null  float64\n",
            " 6   passenger_count    999990 non-null  int64  \n",
            " 7   fare_amount        999990 non-null  float64\n",
            "dtypes: float64(5), int64(1), object(2)\n",
            "memory usage: 68.7+ MB\n"
          ],
          "name": "stdout"
        }
      ]
    },
    {
      "cell_type": "code",
      "metadata": {
        "id": "BvAMaLT7zCsb"
      },
      "source": [
        "df = df[df['pickup_latitude'].values > -90]\n",
        "df = df[df['pickup_latitude'].values < 90]\n",
        "df = df[df['dropoff_latitude'].values > -90]\n",
        "df = df[df['dropoff_latitude'].values < 90]\n",
        "\n",
        "df = df[df['pickup_longitude'].values > -180]\n",
        "df = df[df['pickup_longitude'].values < 180]\n",
        "df = df[df['dropoff_longitude'].values > -180]\n",
        "df = df[df['dropoff_longitude'].values < 180]"
      ],
      "execution_count": 18,
      "outputs": []
    },
    {
      "cell_type": "code",
      "metadata": {
        "id": "PEETEkebB3UI"
      },
      "source": [
        "pla = df[['pickup_latitude']].to_numpy()\n",
        "plon = df[['pickup_longitude']].to_numpy()\n",
        "dla = df[['dropoff_latitude']].to_numpy()\n",
        "dlon = df[['dropoff_longitude']].to_numpy()\n",
        "\n",
        "#gl.is_ocean(pla,plon)\n",
        "#df.loc[gl.is_ocean(pla,plon), :]\n",
        "\n",
        "df = df.drop(df.loc[gl.is_ocean(pla,plon)].index)"
      ],
      "execution_count": 21,
      "outputs": []
    },
    {
      "cell_type": "code",
      "metadata": {
        "id": "bbwr-zVHhwl0"
      },
      "source": [
        "# dfs[['pickup_latitude', 'pickup_longitude']] = dfs.apply(lambda x: ocean_values_to_nan(x['pickup_latitude'],x['pickup_longitude']), axis=1 )\n",
        "# dfs[['dropoff_latitude', 'dropoff_longitude']] = dfs.apply(lambda x: ocean_values_to_nan(x['dropoff_latitude'],x['dropoff_longitude']) , axis=1)"
      ],
      "execution_count": null,
      "outputs": []
    },
    {
      "cell_type": "code",
      "metadata": {
        "colab": {
          "base_uri": "https://localhost:8080/"
        },
        "id": "wdcfeIKIYiMF",
        "outputId": "345ecc18-406d-4e68-c7eb-bf349d983446"
      },
      "source": [
        "df.isna().sum()"
      ],
      "execution_count": 22,
      "outputs": [
        {
          "output_type": "execute_result",
          "data": {
            "text/plain": [
              "key                  0\n",
              "pickup_datetime      0\n",
              "pickup_latitude      0\n",
              "pickup_longitude     0\n",
              "dropoff_latitude     0\n",
              "dropoff_longitude    0\n",
              "passenger_count      0\n",
              "fare_amount          0\n",
              "dtype: int64"
            ]
          },
          "metadata": {
            "tags": []
          },
          "execution_count": 22
        }
      ]
    },
    {
      "cell_type": "code",
      "metadata": {
        "id": "MLg3oTnVdO90"
      },
      "source": [
        "#df.to_csv('trainsampleprep.csv')"
      ],
      "execution_count": null,
      "outputs": []
    },
    {
      "cell_type": "code",
      "metadata": {
        "colab": {
          "base_uri": "https://localhost:8080/",
          "height": 309
        },
        "id": "QOOxB1oZE4V2",
        "outputId": "db75d78a-1193-4b41-ecb9-22433343552f"
      },
      "source": [
        "df.head()"
      ],
      "execution_count": 23,
      "outputs": [
        {
          "output_type": "execute_result",
          "data": {
            "text/html": [
              "<div>\n",
              "<style scoped>\n",
              "    .dataframe tbody tr th:only-of-type {\n",
              "        vertical-align: middle;\n",
              "    }\n",
              "\n",
              "    .dataframe tbody tr th {\n",
              "        vertical-align: top;\n",
              "    }\n",
              "\n",
              "    .dataframe thead th {\n",
              "        text-align: right;\n",
              "    }\n",
              "</style>\n",
              "<table border=\"1\" class=\"dataframe\">\n",
              "  <thead>\n",
              "    <tr style=\"text-align: right;\">\n",
              "      <th></th>\n",
              "      <th>key</th>\n",
              "      <th>pickup_datetime</th>\n",
              "      <th>pickup_latitude</th>\n",
              "      <th>pickup_longitude</th>\n",
              "      <th>dropoff_latitude</th>\n",
              "      <th>dropoff_longitude</th>\n",
              "      <th>passenger_count</th>\n",
              "      <th>fare_amount</th>\n",
              "    </tr>\n",
              "  </thead>\n",
              "  <tbody>\n",
              "    <tr>\n",
              "      <th>0</th>\n",
              "      <td>2009-06-15 17:26:21.0000001</td>\n",
              "      <td>2009-06-15 17:26:21 UTC</td>\n",
              "      <td>40.721319</td>\n",
              "      <td>-73.844311</td>\n",
              "      <td>40.712278</td>\n",
              "      <td>-73.841610</td>\n",
              "      <td>1</td>\n",
              "      <td>4.5</td>\n",
              "    </tr>\n",
              "    <tr>\n",
              "      <th>1</th>\n",
              "      <td>2010-01-05 16:52:16.0000002</td>\n",
              "      <td>2010-01-05 16:52:16 UTC</td>\n",
              "      <td>40.711303</td>\n",
              "      <td>-74.016048</td>\n",
              "      <td>40.782004</td>\n",
              "      <td>-73.979268</td>\n",
              "      <td>1</td>\n",
              "      <td>16.9</td>\n",
              "    </tr>\n",
              "    <tr>\n",
              "      <th>2</th>\n",
              "      <td>2011-08-18 00:35:00.00000049</td>\n",
              "      <td>2011-08-18 00:35:00 UTC</td>\n",
              "      <td>40.761270</td>\n",
              "      <td>-73.982738</td>\n",
              "      <td>40.750562</td>\n",
              "      <td>-73.991242</td>\n",
              "      <td>2</td>\n",
              "      <td>5.7</td>\n",
              "    </tr>\n",
              "    <tr>\n",
              "      <th>3</th>\n",
              "      <td>2012-04-21 04:30:42.0000001</td>\n",
              "      <td>2012-04-21 04:30:42 UTC</td>\n",
              "      <td>40.733143</td>\n",
              "      <td>-73.987130</td>\n",
              "      <td>40.758092</td>\n",
              "      <td>-73.991567</td>\n",
              "      <td>1</td>\n",
              "      <td>7.7</td>\n",
              "    </tr>\n",
              "    <tr>\n",
              "      <th>4</th>\n",
              "      <td>2010-03-09 07:51:00.000000135</td>\n",
              "      <td>2010-03-09 07:51:00 UTC</td>\n",
              "      <td>40.768008</td>\n",
              "      <td>-73.968095</td>\n",
              "      <td>40.783762</td>\n",
              "      <td>-73.956655</td>\n",
              "      <td>1</td>\n",
              "      <td>5.3</td>\n",
              "    </tr>\n",
              "  </tbody>\n",
              "</table>\n",
              "</div>"
            ],
            "text/plain": [
              "                             key  ... fare_amount\n",
              "0    2009-06-15 17:26:21.0000001  ...         4.5\n",
              "1    2010-01-05 16:52:16.0000002  ...        16.9\n",
              "2   2011-08-18 00:35:00.00000049  ...         5.7\n",
              "3    2012-04-21 04:30:42.0000001  ...         7.7\n",
              "4  2010-03-09 07:51:00.000000135  ...         5.3\n",
              "\n",
              "[5 rows x 8 columns]"
            ]
          },
          "metadata": {
            "tags": []
          },
          "execution_count": 23
        }
      ]
    },
    {
      "cell_type": "markdown",
      "metadata": {
        "id": "bGNZo2_-osKx"
      },
      "source": [
        "#### Rango de valores"
      ]
    },
    {
      "cell_type": "markdown",
      "metadata": {
        "id": "jkNfLM2UosKy"
      },
      "source": [
        "Ahora verificamos que los datos cumplan las restricciones de rango correspondientes."
      ]
    },
    {
      "cell_type": "code",
      "metadata": {
        "colab": {
          "base_uri": "https://localhost:8080/",
          "height": 165
        },
        "id": "j4OlI6yUosKy",
        "outputId": "715f8c7e-9bf1-4624-e3cf-1f062690cf4d"
      },
      "source": [
        "df.describe()"
      ],
      "execution_count": 24,
      "outputs": [
        {
          "output_type": "error",
          "ename": "NameError",
          "evalue": "ignored",
          "traceback": [
            "\u001b[0;31m---------------------------------------------------------------------------\u001b[0m",
            "\u001b[0;31mNameError\u001b[0m                                 Traceback (most recent call last)",
            "\u001b[0;32m<ipython-input-24-0ea76c03ed63>\u001b[0m in \u001b[0;36m<module>\u001b[0;34m()\u001b[0m\n\u001b[0;32m----> 1\u001b[0;31m \u001b[0mdfs\u001b[0m\u001b[0;34m.\u001b[0m\u001b[0mdescribe\u001b[0m\u001b[0;34m(\u001b[0m\u001b[0;34m)\u001b[0m\u001b[0;34m\u001b[0m\u001b[0;34m\u001b[0m\u001b[0m\n\u001b[0m",
            "\u001b[0;31mNameError\u001b[0m: name 'dfs' is not defined"
          ]
        }
      ]
    },
    {
      "cell_type": "markdown",
      "metadata": {
        "id": "nNKYoNQPosKz"
      },
      "source": [
        "Observamos que el mínimo valor de la columna de tarifa (fare_amount) es -6.5. Necesitamos que los valores de la tarifa sean valores mayores o iguales a 0."
      ]
    },
    {
      "cell_type": "code",
      "metadata": {
        "id": "NbgMSQKlosK0"
      },
      "source": [
        "df = df[df['fare_amount'] >= 0]"
      ],
      "execution_count": 26,
      "outputs": []
    },
    {
      "cell_type": "markdown",
      "metadata": {
        "id": "K3U94a0xosK1"
      },
      "source": [
        "También notamos valores atípicos en la cantidad de pasajeros, por ejemplo un viaje con 208 pasajeros. De acuerdo a las leyes de tránsito de Nueva York como máximo pueden haber 6 personas. Por lo tanto, las filas con cantidades de pasajeros mayores a 6 serán eliminadas."
      ]
    },
    {
      "cell_type": "code",
      "metadata": {
        "id": "ZIHNX-8yosK1"
      },
      "source": [
        "df = df[df['passenger_count'] <= 6]"
      ],
      "execution_count": 27,
      "outputs": []
    },
    {
      "cell_type": "code",
      "metadata": {
        "id": "fark_hxWosK2"
      },
      "source": [
        "df.to_csv('trainsampleprep.csv')"
      ],
      "execution_count": 28,
      "outputs": []
    },
    {
      "cell_type": "markdown",
      "metadata": {
        "id": "iojyqIovaHls"
      },
      "source": [
        "#### Normalización"
      ]
    },
    {
      "cell_type": "code",
      "metadata": {
        "colab": {
          "base_uri": "https://localhost:8080/",
          "height": 359
        },
        "id": "EbJz5X3PaGlp",
        "outputId": "2597b36d-326d-4991-ec19-9bd7f31e0d99"
      },
      "source": [
        "from sklearn.preprocessing import MinMaxScaler\n",
        "scaler = MinMaxScaler()\n",
        "dfn = pd.DataFrame(scaler.fit_transform(df), columns = df.columns)\n",
        "dfn.head()"
      ],
      "execution_count": 29,
      "outputs": [
        {
          "output_type": "error",
          "ename": "ValueError",
          "evalue": "ignored",
          "traceback": [
            "\u001b[0;31m---------------------------------------------------------------------------\u001b[0m",
            "\u001b[0;31mValueError\u001b[0m                                Traceback (most recent call last)",
            "\u001b[0;32m<ipython-input-29-e926589d5077>\u001b[0m in \u001b[0;36m<module>\u001b[0;34m()\u001b[0m\n\u001b[1;32m      1\u001b[0m \u001b[0;32mfrom\u001b[0m \u001b[0msklearn\u001b[0m\u001b[0;34m.\u001b[0m\u001b[0mpreprocessing\u001b[0m \u001b[0;32mimport\u001b[0m \u001b[0mMinMaxScaler\u001b[0m\u001b[0;34m\u001b[0m\u001b[0;34m\u001b[0m\u001b[0m\n\u001b[1;32m      2\u001b[0m \u001b[0mscaler\u001b[0m \u001b[0;34m=\u001b[0m \u001b[0mMinMaxScaler\u001b[0m\u001b[0;34m(\u001b[0m\u001b[0;34m)\u001b[0m\u001b[0;34m\u001b[0m\u001b[0;34m\u001b[0m\u001b[0m\n\u001b[0;32m----> 3\u001b[0;31m \u001b[0mdfn\u001b[0m \u001b[0;34m=\u001b[0m \u001b[0mpd\u001b[0m\u001b[0;34m.\u001b[0m\u001b[0mDataFrame\u001b[0m\u001b[0;34m(\u001b[0m\u001b[0mscaler\u001b[0m\u001b[0;34m.\u001b[0m\u001b[0mfit_transform\u001b[0m\u001b[0;34m(\u001b[0m\u001b[0mdf\u001b[0m\u001b[0;34m)\u001b[0m\u001b[0;34m,\u001b[0m \u001b[0mcolumns\u001b[0m \u001b[0;34m=\u001b[0m \u001b[0mdf\u001b[0m\u001b[0;34m.\u001b[0m\u001b[0mcolumns\u001b[0m\u001b[0;34m)\u001b[0m\u001b[0;34m\u001b[0m\u001b[0;34m\u001b[0m\u001b[0m\n\u001b[0m\u001b[1;32m      4\u001b[0m \u001b[0mdfn\u001b[0m\u001b[0;34m.\u001b[0m\u001b[0mhead\u001b[0m\u001b[0;34m(\u001b[0m\u001b[0;34m)\u001b[0m\u001b[0;34m\u001b[0m\u001b[0;34m\u001b[0m\u001b[0m\n",
            "\u001b[0;32m/usr/local/lib/python3.7/dist-packages/sklearn/base.py\u001b[0m in \u001b[0;36mfit_transform\u001b[0;34m(self, X, y, **fit_params)\u001b[0m\n\u001b[1;32m    569\u001b[0m         \u001b[0;32mif\u001b[0m \u001b[0my\u001b[0m \u001b[0;32mis\u001b[0m \u001b[0;32mNone\u001b[0m\u001b[0;34m:\u001b[0m\u001b[0;34m\u001b[0m\u001b[0;34m\u001b[0m\u001b[0m\n\u001b[1;32m    570\u001b[0m             \u001b[0;31m# fit method of arity 1 (unsupervised transformation)\u001b[0m\u001b[0;34m\u001b[0m\u001b[0;34m\u001b[0m\u001b[0;34m\u001b[0m\u001b[0m\n\u001b[0;32m--> 571\u001b[0;31m             \u001b[0;32mreturn\u001b[0m \u001b[0mself\u001b[0m\u001b[0;34m.\u001b[0m\u001b[0mfit\u001b[0m\u001b[0;34m(\u001b[0m\u001b[0mX\u001b[0m\u001b[0;34m,\u001b[0m \u001b[0;34m**\u001b[0m\u001b[0mfit_params\u001b[0m\u001b[0;34m)\u001b[0m\u001b[0;34m.\u001b[0m\u001b[0mtransform\u001b[0m\u001b[0;34m(\u001b[0m\u001b[0mX\u001b[0m\u001b[0;34m)\u001b[0m\u001b[0;34m\u001b[0m\u001b[0;34m\u001b[0m\u001b[0m\n\u001b[0m\u001b[1;32m    572\u001b[0m         \u001b[0;32melse\u001b[0m\u001b[0;34m:\u001b[0m\u001b[0;34m\u001b[0m\u001b[0;34m\u001b[0m\u001b[0m\n\u001b[1;32m    573\u001b[0m             \u001b[0;31m# fit method of arity 2 (supervised transformation)\u001b[0m\u001b[0;34m\u001b[0m\u001b[0;34m\u001b[0m\u001b[0;34m\u001b[0m\u001b[0m\n",
            "\u001b[0;32m/usr/local/lib/python3.7/dist-packages/sklearn/preprocessing/_data.py\u001b[0m in \u001b[0;36mfit\u001b[0;34m(self, X, y)\u001b[0m\n\u001b[1;32m    337\u001b[0m         \u001b[0;31m# Reset internal state before fitting\u001b[0m\u001b[0;34m\u001b[0m\u001b[0;34m\u001b[0m\u001b[0;34m\u001b[0m\u001b[0m\n\u001b[1;32m    338\u001b[0m         \u001b[0mself\u001b[0m\u001b[0;34m.\u001b[0m\u001b[0m_reset\u001b[0m\u001b[0;34m(\u001b[0m\u001b[0;34m)\u001b[0m\u001b[0;34m\u001b[0m\u001b[0;34m\u001b[0m\u001b[0m\n\u001b[0;32m--> 339\u001b[0;31m         \u001b[0;32mreturn\u001b[0m \u001b[0mself\u001b[0m\u001b[0;34m.\u001b[0m\u001b[0mpartial_fit\u001b[0m\u001b[0;34m(\u001b[0m\u001b[0mX\u001b[0m\u001b[0;34m,\u001b[0m \u001b[0my\u001b[0m\u001b[0;34m)\u001b[0m\u001b[0;34m\u001b[0m\u001b[0;34m\u001b[0m\u001b[0m\n\u001b[0m\u001b[1;32m    340\u001b[0m \u001b[0;34m\u001b[0m\u001b[0m\n\u001b[1;32m    341\u001b[0m     \u001b[0;32mdef\u001b[0m \u001b[0mpartial_fit\u001b[0m\u001b[0;34m(\u001b[0m\u001b[0mself\u001b[0m\u001b[0;34m,\u001b[0m \u001b[0mX\u001b[0m\u001b[0;34m,\u001b[0m \u001b[0my\u001b[0m\u001b[0;34m=\u001b[0m\u001b[0;32mNone\u001b[0m\u001b[0;34m)\u001b[0m\u001b[0;34m:\u001b[0m\u001b[0;34m\u001b[0m\u001b[0;34m\u001b[0m\u001b[0m\n",
            "\u001b[0;32m/usr/local/lib/python3.7/dist-packages/sklearn/preprocessing/_data.py\u001b[0m in \u001b[0;36mpartial_fit\u001b[0;34m(self, X, y)\u001b[0m\n\u001b[1;32m    371\u001b[0m         X = check_array(X,\n\u001b[1;32m    372\u001b[0m                         \u001b[0mestimator\u001b[0m\u001b[0;34m=\u001b[0m\u001b[0mself\u001b[0m\u001b[0;34m,\u001b[0m \u001b[0mdtype\u001b[0m\u001b[0;34m=\u001b[0m\u001b[0mFLOAT_DTYPES\u001b[0m\u001b[0;34m,\u001b[0m\u001b[0;34m\u001b[0m\u001b[0;34m\u001b[0m\u001b[0m\n\u001b[0;32m--> 373\u001b[0;31m                         force_all_finite=\"allow-nan\")\n\u001b[0m\u001b[1;32m    374\u001b[0m \u001b[0;34m\u001b[0m\u001b[0m\n\u001b[1;32m    375\u001b[0m         \u001b[0mdata_min\u001b[0m \u001b[0;34m=\u001b[0m \u001b[0mnp\u001b[0m\u001b[0;34m.\u001b[0m\u001b[0mnanmin\u001b[0m\u001b[0;34m(\u001b[0m\u001b[0mX\u001b[0m\u001b[0;34m,\u001b[0m \u001b[0maxis\u001b[0m\u001b[0;34m=\u001b[0m\u001b[0;36m0\u001b[0m\u001b[0;34m)\u001b[0m\u001b[0;34m\u001b[0m\u001b[0;34m\u001b[0m\u001b[0m\n",
            "\u001b[0;32m/usr/local/lib/python3.7/dist-packages/sklearn/utils/validation.py\u001b[0m in \u001b[0;36mcheck_array\u001b[0;34m(array, accept_sparse, accept_large_sparse, dtype, order, copy, force_all_finite, ensure_2d, allow_nd, ensure_min_samples, ensure_min_features, warn_on_dtype, estimator)\u001b[0m\n\u001b[1;32m    529\u001b[0m                     \u001b[0marray\u001b[0m \u001b[0;34m=\u001b[0m \u001b[0marray\u001b[0m\u001b[0;34m.\u001b[0m\u001b[0mastype\u001b[0m\u001b[0;34m(\u001b[0m\u001b[0mdtype\u001b[0m\u001b[0;34m,\u001b[0m \u001b[0mcasting\u001b[0m\u001b[0;34m=\u001b[0m\u001b[0;34m\"unsafe\"\u001b[0m\u001b[0;34m,\u001b[0m \u001b[0mcopy\u001b[0m\u001b[0;34m=\u001b[0m\u001b[0;32mFalse\u001b[0m\u001b[0;34m)\u001b[0m\u001b[0;34m\u001b[0m\u001b[0;34m\u001b[0m\u001b[0m\n\u001b[1;32m    530\u001b[0m                 \u001b[0;32melse\u001b[0m\u001b[0;34m:\u001b[0m\u001b[0;34m\u001b[0m\u001b[0;34m\u001b[0m\u001b[0m\n\u001b[0;32m--> 531\u001b[0;31m                     \u001b[0marray\u001b[0m \u001b[0;34m=\u001b[0m \u001b[0mnp\u001b[0m\u001b[0;34m.\u001b[0m\u001b[0masarray\u001b[0m\u001b[0;34m(\u001b[0m\u001b[0marray\u001b[0m\u001b[0;34m,\u001b[0m \u001b[0morder\u001b[0m\u001b[0;34m=\u001b[0m\u001b[0morder\u001b[0m\u001b[0;34m,\u001b[0m \u001b[0mdtype\u001b[0m\u001b[0;34m=\u001b[0m\u001b[0mdtype\u001b[0m\u001b[0;34m)\u001b[0m\u001b[0;34m\u001b[0m\u001b[0;34m\u001b[0m\u001b[0m\n\u001b[0m\u001b[1;32m    532\u001b[0m             \u001b[0;32mexcept\u001b[0m \u001b[0mComplexWarning\u001b[0m\u001b[0;34m:\u001b[0m\u001b[0;34m\u001b[0m\u001b[0;34m\u001b[0m\u001b[0m\n\u001b[1;32m    533\u001b[0m                 raise ValueError(\"Complex data not supported\\n\"\n",
            "\u001b[0;32m/usr/local/lib/python3.7/dist-packages/numpy/core/_asarray.py\u001b[0m in \u001b[0;36masarray\u001b[0;34m(a, dtype, order)\u001b[0m\n\u001b[1;32m     81\u001b[0m \u001b[0;34m\u001b[0m\u001b[0m\n\u001b[1;32m     82\u001b[0m     \"\"\"\n\u001b[0;32m---> 83\u001b[0;31m     \u001b[0;32mreturn\u001b[0m \u001b[0marray\u001b[0m\u001b[0;34m(\u001b[0m\u001b[0ma\u001b[0m\u001b[0;34m,\u001b[0m \u001b[0mdtype\u001b[0m\u001b[0;34m,\u001b[0m \u001b[0mcopy\u001b[0m\u001b[0;34m=\u001b[0m\u001b[0;32mFalse\u001b[0m\u001b[0;34m,\u001b[0m \u001b[0morder\u001b[0m\u001b[0;34m=\u001b[0m\u001b[0morder\u001b[0m\u001b[0;34m)\u001b[0m\u001b[0;34m\u001b[0m\u001b[0;34m\u001b[0m\u001b[0m\n\u001b[0m\u001b[1;32m     84\u001b[0m \u001b[0;34m\u001b[0m\u001b[0m\n\u001b[1;32m     85\u001b[0m \u001b[0;34m\u001b[0m\u001b[0m\n",
            "\u001b[0;32m/usr/local/lib/python3.7/dist-packages/pandas/core/generic.py\u001b[0m in \u001b[0;36m__array__\u001b[0;34m(self, dtype)\u001b[0m\n\u001b[1;32m   1779\u001b[0m \u001b[0;34m\u001b[0m\u001b[0m\n\u001b[1;32m   1780\u001b[0m     \u001b[0;32mdef\u001b[0m \u001b[0m__array__\u001b[0m\u001b[0;34m(\u001b[0m\u001b[0mself\u001b[0m\u001b[0;34m,\u001b[0m \u001b[0mdtype\u001b[0m\u001b[0;34m=\u001b[0m\u001b[0;32mNone\u001b[0m\u001b[0;34m)\u001b[0m \u001b[0;34m->\u001b[0m \u001b[0mnp\u001b[0m\u001b[0;34m.\u001b[0m\u001b[0mndarray\u001b[0m\u001b[0;34m:\u001b[0m\u001b[0;34m\u001b[0m\u001b[0;34m\u001b[0m\u001b[0m\n\u001b[0;32m-> 1781\u001b[0;31m         \u001b[0;32mreturn\u001b[0m \u001b[0mnp\u001b[0m\u001b[0;34m.\u001b[0m\u001b[0masarray\u001b[0m\u001b[0;34m(\u001b[0m\u001b[0mself\u001b[0m\u001b[0;34m.\u001b[0m\u001b[0m_values\u001b[0m\u001b[0;34m,\u001b[0m \u001b[0mdtype\u001b[0m\u001b[0;34m=\u001b[0m\u001b[0mdtype\u001b[0m\u001b[0;34m)\u001b[0m\u001b[0;34m\u001b[0m\u001b[0;34m\u001b[0m\u001b[0m\n\u001b[0m\u001b[1;32m   1782\u001b[0m \u001b[0;34m\u001b[0m\u001b[0m\n\u001b[1;32m   1783\u001b[0m     \u001b[0;32mdef\u001b[0m \u001b[0m__array_wrap__\u001b[0m\u001b[0;34m(\u001b[0m\u001b[0mself\u001b[0m\u001b[0;34m,\u001b[0m \u001b[0mresult\u001b[0m\u001b[0;34m,\u001b[0m \u001b[0mcontext\u001b[0m\u001b[0;34m=\u001b[0m\u001b[0;32mNone\u001b[0m\u001b[0;34m)\u001b[0m\u001b[0;34m:\u001b[0m\u001b[0;34m\u001b[0m\u001b[0;34m\u001b[0m\u001b[0m\n",
            "\u001b[0;32m/usr/local/lib/python3.7/dist-packages/numpy/core/_asarray.py\u001b[0m in \u001b[0;36masarray\u001b[0;34m(a, dtype, order)\u001b[0m\n\u001b[1;32m     81\u001b[0m \u001b[0;34m\u001b[0m\u001b[0m\n\u001b[1;32m     82\u001b[0m     \"\"\"\n\u001b[0;32m---> 83\u001b[0;31m     \u001b[0;32mreturn\u001b[0m \u001b[0marray\u001b[0m\u001b[0;34m(\u001b[0m\u001b[0ma\u001b[0m\u001b[0;34m,\u001b[0m \u001b[0mdtype\u001b[0m\u001b[0;34m,\u001b[0m \u001b[0mcopy\u001b[0m\u001b[0;34m=\u001b[0m\u001b[0;32mFalse\u001b[0m\u001b[0;34m,\u001b[0m \u001b[0morder\u001b[0m\u001b[0;34m=\u001b[0m\u001b[0morder\u001b[0m\u001b[0;34m)\u001b[0m\u001b[0;34m\u001b[0m\u001b[0;34m\u001b[0m\u001b[0m\n\u001b[0m\u001b[1;32m     84\u001b[0m \u001b[0;34m\u001b[0m\u001b[0m\n\u001b[1;32m     85\u001b[0m \u001b[0;34m\u001b[0m\u001b[0m\n",
            "\u001b[0;31mValueError\u001b[0m: could not convert string to float: '2009-06-15 17:26:21.0000001'"
          ]
        }
      ]
    },
    {
      "cell_type": "code",
      "metadata": {
        "colab": {
          "base_uri": "https://localhost:8080/",
          "height": 204
        },
        "id": "G_5dl9h4EZ_W",
        "outputId": "5cf82dfa-f15f-4717-a8ea-d7c2f338d470"
      },
      "source": [
        "dff = pd.DataFrame(af, columns = ['key','fare_amount','pickup_datetime','pickup_longitude','pickup_latitude','dropoff_longitude','dropoff_latitude','passenger_count'])\n",
        "dff.head()"
      ],
      "execution_count": null,
      "outputs": [
        {
          "output_type": "execute_result",
          "data": {
            "text/html": [
              "<div>\n",
              "<style scoped>\n",
              "    .dataframe tbody tr th:only-of-type {\n",
              "        vertical-align: middle;\n",
              "    }\n",
              "\n",
              "    .dataframe tbody tr th {\n",
              "        vertical-align: top;\n",
              "    }\n",
              "\n",
              "    .dataframe thead th {\n",
              "        text-align: right;\n",
              "    }\n",
              "</style>\n",
              "<table border=\"1\" class=\"dataframe\">\n",
              "  <thead>\n",
              "    <tr style=\"text-align: right;\">\n",
              "      <th></th>\n",
              "      <th>key</th>\n",
              "      <th>fare_amount</th>\n",
              "      <th>pickup_datetime</th>\n",
              "      <th>pickup_longitude</th>\n",
              "      <th>pickup_latitude</th>\n",
              "      <th>dropoff_longitude</th>\n",
              "      <th>dropoff_latitude</th>\n",
              "      <th>passenger_count</th>\n",
              "    </tr>\n",
              "  </thead>\n",
              "  <tbody>\n",
              "    <tr>\n",
              "      <th>0</th>\n",
              "      <td>0.096626</td>\n",
              "      <td>0.256750</td>\n",
              "      <td>0.094779</td>\n",
              "      <td>0.486964</td>\n",
              "      <td>0.509565</td>\n",
              "      <td>0.487987</td>\n",
              "      <td>0.520137</td>\n",
              "      <td>0.004808</td>\n",
              "    </tr>\n",
              "    <tr>\n",
              "      <th>1</th>\n",
              "      <td>0.095404</td>\n",
              "      <td>0.254083</td>\n",
              "      <td>0.093577</td>\n",
              "      <td>0.486967</td>\n",
              "      <td>0.509570</td>\n",
              "      <td>0.487992</td>\n",
              "      <td>0.520145</td>\n",
              "      <td>0.014423</td>\n",
              "    </tr>\n",
              "    <tr>\n",
              "      <th>2</th>\n",
              "      <td>0.193632</td>\n",
              "      <td>0.259417</td>\n",
              "      <td>0.189024</td>\n",
              "      <td>0.486962</td>\n",
              "      <td>0.509562</td>\n",
              "      <td>0.487989</td>\n",
              "      <td>0.520142</td>\n",
              "      <td>0.004808</td>\n",
              "    </tr>\n",
              "    <tr>\n",
              "      <th>3</th>\n",
              "      <td>0.841936</td>\n",
              "      <td>0.255000</td>\n",
              "      <td>0.810950</td>\n",
              "      <td>0.486965</td>\n",
              "      <td>0.509566</td>\n",
              "      <td>0.487990</td>\n",
              "      <td>0.520143</td>\n",
              "      <td>0.009615</td>\n",
              "    </tr>\n",
              "    <tr>\n",
              "      <th>4</th>\n",
              "      <td>0.384110</td>\n",
              "      <td>0.260083</td>\n",
              "      <td>0.370704</td>\n",
              "      <td>0.486959</td>\n",
              "      <td>0.509561</td>\n",
              "      <td>0.487990</td>\n",
              "      <td>0.520142</td>\n",
              "      <td>0.004808</td>\n",
              "    </tr>\n",
              "  </tbody>\n",
              "</table>\n",
              "</div>"
            ],
            "text/plain": [
              "        key  fare_amount  ...  dropoff_latitude  passenger_count\n",
              "0  0.096626     0.256750  ...          0.520137         0.004808\n",
              "1  0.095404     0.254083  ...          0.520145         0.014423\n",
              "2  0.193632     0.259417  ...          0.520142         0.004808\n",
              "3  0.841936     0.255000  ...          0.520143         0.009615\n",
              "4  0.384110     0.260083  ...          0.520142         0.004808\n",
              "\n",
              "[5 rows x 8 columns]"
            ]
          },
          "metadata": {
            "tags": []
          },
          "execution_count": 28
        }
      ]
    },
    {
      "cell_type": "code",
      "metadata": {
        "id": "10MzTg15o4CK"
      },
      "source": [
        "import xgboost\n",
        "from sklearn.model_selection import train_test_split\n",
        "\n",
        "predictors = ['pickup_longitude','pickup_latitude','dropoff_longitude','dropoff_latitude','passenger_count']\n",
        "salida = ['fare_amount']\n",
        "X = df[predictors]\n",
        "y = df[salida]\n",
        "\n",
        "X_train, X_val, y_train, y_val = train_test_split(X,y)"
      ],
      "execution_count": 30,
      "outputs": []
    },
    {
      "cell_type": "code",
      "metadata": {
        "colab": {
          "base_uri": "https://localhost:8080/"
        },
        "id": "v6cHrdYHo6UN",
        "outputId": "22ff5da0-fa6d-40db-f1df-4901ce04e5e2"
      },
      "source": [
        "xgb_reg = xgboost.XGBRegressor()\n",
        "xgb_reg.fit(X_train, y_train,\n",
        " eval_set=[(X_val, y_val)])\n",
        "y_pred = xgb_reg.predict(X_val)\n",
        "\n"
      ],
      "execution_count": 34,
      "outputs": [
        {
          "output_type": "stream",
          "text": [
            "[18:08:25] WARNING: /workspace/src/objective/regression_obj.cu:152: reg:linear is now deprecated in favor of reg:squarederror.\n",
            "[0]\tvalidation_0-rmse:13.491\n",
            "[1]\tvalidation_0-rmse:12.4933\n",
            "[2]\tvalidation_0-rmse:11.6204\n",
            "[3]\tvalidation_0-rmse:10.856\n",
            "[4]\tvalidation_0-rmse:10.1883\n",
            "[5]\tvalidation_0-rmse:9.61231\n",
            "[6]\tvalidation_0-rmse:9.10681\n",
            "[7]\tvalidation_0-rmse:8.68104\n",
            "[8]\tvalidation_0-rmse:8.30876\n",
            "[9]\tvalidation_0-rmse:7.97683\n",
            "[10]\tvalidation_0-rmse:7.69936\n",
            "[11]\tvalidation_0-rmse:7.45036\n",
            "[12]\tvalidation_0-rmse:7.24844\n",
            "[13]\tvalidation_0-rmse:7.06655\n",
            "[14]\tvalidation_0-rmse:6.90126\n",
            "[15]\tvalidation_0-rmse:6.75596\n",
            "[16]\tvalidation_0-rmse:6.63845\n",
            "[17]\tvalidation_0-rmse:6.52995\n",
            "[18]\tvalidation_0-rmse:6.41596\n",
            "[19]\tvalidation_0-rmse:6.33234\n",
            "[20]\tvalidation_0-rmse:6.26707\n",
            "[21]\tvalidation_0-rmse:6.20488\n",
            "[22]\tvalidation_0-rmse:6.13617\n",
            "[23]\tvalidation_0-rmse:6.09048\n",
            "[24]\tvalidation_0-rmse:6.051\n",
            "[25]\tvalidation_0-rmse:5.98942\n",
            "[26]\tvalidation_0-rmse:5.95023\n",
            "[27]\tvalidation_0-rmse:5.89605\n",
            "[28]\tvalidation_0-rmse:5.87191\n",
            "[29]\tvalidation_0-rmse:5.84264\n",
            "[30]\tvalidation_0-rmse:5.81127\n",
            "[31]\tvalidation_0-rmse:5.7916\n",
            "[32]\tvalidation_0-rmse:5.7774\n",
            "[33]\tvalidation_0-rmse:5.7292\n",
            "[34]\tvalidation_0-rmse:5.70566\n",
            "[35]\tvalidation_0-rmse:5.6935\n",
            "[36]\tvalidation_0-rmse:5.64959\n",
            "[37]\tvalidation_0-rmse:5.62928\n",
            "[38]\tvalidation_0-rmse:5.60286\n",
            "[39]\tvalidation_0-rmse:5.59501\n",
            "[40]\tvalidation_0-rmse:5.57477\n",
            "[41]\tvalidation_0-rmse:5.56152\n",
            "[42]\tvalidation_0-rmse:5.55679\n",
            "[43]\tvalidation_0-rmse:5.54286\n",
            "[44]\tvalidation_0-rmse:5.52933\n",
            "[45]\tvalidation_0-rmse:5.52774\n",
            "[46]\tvalidation_0-rmse:5.52483\n",
            "[47]\tvalidation_0-rmse:5.49796\n",
            "[48]\tvalidation_0-rmse:5.49157\n",
            "[49]\tvalidation_0-rmse:5.47462\n",
            "[50]\tvalidation_0-rmse:5.46188\n",
            "[51]\tvalidation_0-rmse:5.45942\n",
            "[52]\tvalidation_0-rmse:5.43906\n",
            "[53]\tvalidation_0-rmse:5.43435\n",
            "[54]\tvalidation_0-rmse:5.43342\n",
            "[55]\tvalidation_0-rmse:5.43112\n",
            "[56]\tvalidation_0-rmse:5.42423\n",
            "[57]\tvalidation_0-rmse:5.41436\n",
            "[58]\tvalidation_0-rmse:5.39775\n",
            "[59]\tvalidation_0-rmse:5.39442\n",
            "[60]\tvalidation_0-rmse:5.39223\n",
            "[61]\tvalidation_0-rmse:5.39147\n",
            "[62]\tvalidation_0-rmse:5.38829\n",
            "[63]\tvalidation_0-rmse:5.38466\n",
            "[64]\tvalidation_0-rmse:5.36976\n",
            "[65]\tvalidation_0-rmse:5.35948\n",
            "[66]\tvalidation_0-rmse:5.35789\n",
            "[67]\tvalidation_0-rmse:5.35549\n",
            "[68]\tvalidation_0-rmse:5.35182\n",
            "[69]\tvalidation_0-rmse:5.34907\n",
            "[70]\tvalidation_0-rmse:5.33812\n",
            "[71]\tvalidation_0-rmse:5.33601\n",
            "[72]\tvalidation_0-rmse:5.33495\n",
            "[73]\tvalidation_0-rmse:5.33503\n",
            "[74]\tvalidation_0-rmse:5.3219\n",
            "[75]\tvalidation_0-rmse:5.29122\n",
            "[76]\tvalidation_0-rmse:5.28947\n",
            "[77]\tvalidation_0-rmse:5.28809\n",
            "[78]\tvalidation_0-rmse:5.2854\n",
            "[79]\tvalidation_0-rmse:5.28106\n",
            "[80]\tvalidation_0-rmse:5.25965\n",
            "[81]\tvalidation_0-rmse:5.25968\n",
            "[82]\tvalidation_0-rmse:5.25958\n",
            "[83]\tvalidation_0-rmse:5.24338\n",
            "[84]\tvalidation_0-rmse:5.23208\n",
            "[85]\tvalidation_0-rmse:5.21067\n",
            "[86]\tvalidation_0-rmse:5.21043\n",
            "[87]\tvalidation_0-rmse:5.20962\n",
            "[88]\tvalidation_0-rmse:5.20813\n",
            "[89]\tvalidation_0-rmse:5.19589\n",
            "[90]\tvalidation_0-rmse:5.19537\n",
            "[91]\tvalidation_0-rmse:5.17557\n",
            "[92]\tvalidation_0-rmse:5.16389\n",
            "[93]\tvalidation_0-rmse:5.15464\n",
            "[94]\tvalidation_0-rmse:5.15348\n",
            "[95]\tvalidation_0-rmse:5.14879\n",
            "[96]\tvalidation_0-rmse:5.14312\n",
            "[97]\tvalidation_0-rmse:5.14317\n",
            "[98]\tvalidation_0-rmse:5.13415\n",
            "[99]\tvalidation_0-rmse:5.13094\n"
          ],
          "name": "stdout"
        }
      ]
    },
    {
      "cell_type": "code",
      "metadata": {
        "colab": {
          "base_uri": "https://localhost:8080/"
        },
        "id": "zw4gF8nUxhfW",
        "outputId": "f7bad073-e82a-460c-ca62-4476d2b1604c"
      },
      "source": [
        "score_te =xgb_reg.score(X_val, y_val)\n",
        "print('Accuracy Score: {}'.format(score_te))"
      ],
      "execution_count": 40,
      "outputs": [
        {
          "output_type": "stream",
          "text": [
            "Accuracy Score: 0.7259844084968724\n"
          ],
          "name": "stdout"
        }
      ]
    },
    {
      "cell_type": "code",
      "metadata": {
        "colab": {
          "base_uri": "https://localhost:8080/"
        },
        "id": "YE7T2OpNo9kz",
        "outputId": "0fe91633-9a07-4347-d56e-b513c5645bb7"
      },
      "source": [
        "from sklearn.metrics import mean_squared_error\n",
        "error=mean_squared_error(y_val, y_pred)\n",
        "print(error)"
      ],
      "execution_count": 35,
      "outputs": [
        {
          "output_type": "stream",
          "text": [
            "[26.32930848]\n"
          ],
          "name": "stdout"
        }
      ]
    },
    {
      "cell_type": "code",
      "metadata": {
        "colab": {
          "base_uri": "https://localhost:8080/"
        },
        "id": "jmqo_0iBpAQA",
        "outputId": "240fc524-5aec-47f3-cc2d-ced38bb75dcf"
      },
      "source": [
        "import numpy as np\n",
        "for val,pred in zip(y_val['fare_amount'][:10],y_pred[:10]):\n",
        "  print(\"{} vs {}\".format(pred,val))"
      ],
      "execution_count": 36,
      "outputs": [
        {
          "output_type": "stream",
          "text": [
            "8.754800796508789 vs 8.9\n",
            "12.147394180297852 vs 12.9\n",
            "8.013571739196777 vs 8.1\n",
            "8.013571739196777 vs 6.9\n",
            "8.14824104309082 vs 6.5\n",
            "50.237457275390625 vs 45.0\n",
            "8.089200973510742 vs 5.3\n",
            "11.712468147277832 vs 14.5\n",
            "27.108022689819336 vs 18.5\n",
            "15.354700088500977 vs 16.9\n"
          ],
          "name": "stdout"
        }
      ]
    },
    {
      "cell_type": "code",
      "metadata": {
        "id": "lWy5aVMCxgzE"
      },
      "source": [
        ""
      ],
      "execution_count": null,
      "outputs": []
    }
  ]
}