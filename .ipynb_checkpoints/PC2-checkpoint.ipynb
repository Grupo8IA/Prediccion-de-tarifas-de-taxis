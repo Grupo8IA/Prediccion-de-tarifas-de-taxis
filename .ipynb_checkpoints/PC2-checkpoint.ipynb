{
 "cells": [
  {
   "cell_type": "markdown",
   "metadata": {},
   "source": [
    "# Práctica Calificada 02\n",
    "## Predicción de tarifas de taxis"
   ]
  },
  {
   "cell_type": "markdown",
   "metadata": {},
   "source": [
    "<span style=\"color:red\">\n",
    "Abrir el cuaderno en Google Colab y ejecutar las celdas nuevamente.\n",
    "</span>."
   ]
  },
  {
   "cell_type": "code",
   "execution_count": null,
   "metadata": {
    "id": "hhGH-rNMPn8g"
   },
   "outputs": [],
   "source": [
    "from google.colab import drive\n",
    "drive.mount('/content/drive/')"
   ]
  },
  {
   "cell_type": "code",
   "execution_count": null,
   "metadata": {
    "colab": {
     "base_uri": "https://localhost:8080/"
    },
    "id": "Bg6tY4noF7IC",
    "outputId": "0e6028bf-541a-406a-e9a7-19fbf6e24dd0"
   },
   "outputs": [
    {
     "name": "stdout",
     "output_type": "stream",
     "text": [
      "Mounted at /gdrive\n",
      "/gdrive/MyDrive\n"
     ]
    }
   ],
   "source": [
    "drive.mount('/gdrive')\n",
    "%cd /gdrive/MyDrive/\n",
    "#%ls"
   ]
  },
  {
   "cell_type": "code",
   "execution_count": null,
   "metadata": {
    "id": "IJQfAQHyQpq3"
   },
   "outputs": [],
   "source": [
    "import pandas as pd\n",
    "import numpy as np"
   ]
  },
  {
   "cell_type": "code",
   "execution_count": null,
   "metadata": {
    "id": "OYFB6QLjEGrN"
   },
   "outputs": [],
   "source": [
    "#np.set_printoptions(formatter={'float_kind':'{:f}'.format})"
   ]
  },
  {
   "cell_type": "markdown",
   "metadata": {
    "id": "m13y9h8hRgU-"
   },
   "source": [
    "#### Importar data total"
   ]
  },
  {
   "cell_type": "code",
   "execution_count": null,
   "metadata": {
    "colab": {
     "base_uri": "https://localhost:8080/",
     "height": 204
    },
    "id": "J-1GOuqkF_fu",
    "outputId": "9f63023f-804e-4964-fbe7-ae7c19d4b588"
   },
   "outputs": [
    {
     "data": {
      "text/html": [
       "<div>\n",
       "<style scoped>\n",
       "    .dataframe tbody tr th:only-of-type {\n",
       "        vertical-align: middle;\n",
       "    }\n",
       "\n",
       "    .dataframe tbody tr th {\n",
       "        vertical-align: top;\n",
       "    }\n",
       "\n",
       "    .dataframe thead th {\n",
       "        text-align: right;\n",
       "    }\n",
       "</style>\n",
       "<table border=\"1\" class=\"dataframe\">\n",
       "  <thead>\n",
       "    <tr style=\"text-align: right;\">\n",
       "      <th></th>\n",
       "      <th>key</th>\n",
       "      <th>fare_amount</th>\n",
       "      <th>pickup_datetime</th>\n",
       "      <th>pickup_longitude</th>\n",
       "      <th>pickup_latitude</th>\n",
       "      <th>dropoff_longitude</th>\n",
       "      <th>dropoff_latitude</th>\n",
       "      <th>passenger_count</th>\n",
       "    </tr>\n",
       "  </thead>\n",
       "  <tbody>\n",
       "    <tr>\n",
       "      <th>0</th>\n",
       "      <td>2009-06-15 17:26:21.0000001</td>\n",
       "      <td>4.5</td>\n",
       "      <td>2009-06-15 17:26:21 UTC</td>\n",
       "      <td>-73.844311</td>\n",
       "      <td>40.721319</td>\n",
       "      <td>-73.841610</td>\n",
       "      <td>40.712278</td>\n",
       "      <td>1</td>\n",
       "    </tr>\n",
       "    <tr>\n",
       "      <th>1</th>\n",
       "      <td>2010-01-05 16:52:16.0000002</td>\n",
       "      <td>16.9</td>\n",
       "      <td>2010-01-05 16:52:16 UTC</td>\n",
       "      <td>-74.016048</td>\n",
       "      <td>40.711303</td>\n",
       "      <td>-73.979268</td>\n",
       "      <td>40.782004</td>\n",
       "      <td>1</td>\n",
       "    </tr>\n",
       "    <tr>\n",
       "      <th>2</th>\n",
       "      <td>2011-08-18 00:35:00.00000049</td>\n",
       "      <td>5.7</td>\n",
       "      <td>2011-08-18 00:35:00 UTC</td>\n",
       "      <td>-73.982738</td>\n",
       "      <td>40.761270</td>\n",
       "      <td>-73.991242</td>\n",
       "      <td>40.750562</td>\n",
       "      <td>2</td>\n",
       "    </tr>\n",
       "    <tr>\n",
       "      <th>3</th>\n",
       "      <td>2012-04-21 04:30:42.0000001</td>\n",
       "      <td>7.7</td>\n",
       "      <td>2012-04-21 04:30:42 UTC</td>\n",
       "      <td>-73.987130</td>\n",
       "      <td>40.733143</td>\n",
       "      <td>-73.991567</td>\n",
       "      <td>40.758092</td>\n",
       "      <td>1</td>\n",
       "    </tr>\n",
       "    <tr>\n",
       "      <th>4</th>\n",
       "      <td>2010-03-09 07:51:00.000000135</td>\n",
       "      <td>5.3</td>\n",
       "      <td>2010-03-09 07:51:00 UTC</td>\n",
       "      <td>-73.968095</td>\n",
       "      <td>40.768008</td>\n",
       "      <td>-73.956655</td>\n",
       "      <td>40.783762</td>\n",
       "      <td>1</td>\n",
       "    </tr>\n",
       "  </tbody>\n",
       "</table>\n",
       "</div>"
      ],
      "text/plain": [
       "                             key  ...  passenger_count\n",
       "0    2009-06-15 17:26:21.0000001  ...                1\n",
       "1    2010-01-05 16:52:16.0000002  ...                1\n",
       "2   2011-08-18 00:35:00.00000049  ...                2\n",
       "3    2012-04-21 04:30:42.0000001  ...                1\n",
       "4  2010-03-09 07:51:00.000000135  ...                1\n",
       "\n",
       "[5 rows x 8 columns]"
      ]
     },
     "execution_count": 9,
     "metadata": {
      "tags": []
     },
     "output_type": "execute_result"
    }
   ],
   "source": [
    "dtypes = {\n",
    "      'key': 'object',\n",
    "      'fare_amount': 'float64',\n",
    "      'pickup_datetime': 'object',\n",
    "      'pickup_longitude': 'float64', \n",
    "      'pickup_latitude': 'float64',\n",
    "      'dropoff_longitude': 'float64',\n",
    "      'dropoff_latitude': 'float64',\n",
    "      'passenger_count': 'int64',\n",
    "      \n",
    "    \n",
    "}\n",
    "df = pd.read_csv(\"train.csv\", dtype=dtypes, nrows=1000000)\n",
    "df = df[['key', 'pickup_datetime', 'pickup_latitude', 'pickup_longitude', 'dropoff_latitude', 'dropoff_longitude', 'passenger_count', 'fare_amount']]\n",
    "df.head()"
   ]
  },
  {
   "cell_type": "code",
   "execution_count": null,
   "metadata": {},
   "outputs": [],
   "source": [
    "df.info()"
   ]
  },
  {
   "cell_type": "markdown",
   "metadata": {
    "id": "GYEk5IMwTz4z"
   },
   "source": [
    "### Primera revisión de la data completa"
   ]
  },
  {
   "cell_type": "markdown",
   "metadata": {
    "id": "vj4jep39qtw5"
   },
   "source": [
    "#### Valores duplicados"
   ]
  },
  {
   "cell_type": "code",
   "execution_count": null,
   "metadata": {
    "colab": {
     "base_uri": "https://localhost:8080/",
     "height": 49
    },
    "id": "evoC50cPhCIc",
    "outputId": "d8ca24fb-68cf-44d2-eca9-cc6e1a4f516f"
   },
   "outputs": [
    {
     "data": {
      "text/html": [
       "<div>\n",
       "<style scoped>\n",
       "    .dataframe tbody tr th:only-of-type {\n",
       "        vertical-align: middle;\n",
       "    }\n",
       "\n",
       "    .dataframe tbody tr th {\n",
       "        vertical-align: top;\n",
       "    }\n",
       "\n",
       "    .dataframe thead th {\n",
       "        text-align: right;\n",
       "    }\n",
       "</style>\n",
       "<table border=\"1\" class=\"dataframe\">\n",
       "  <thead>\n",
       "    <tr style=\"text-align: right;\">\n",
       "      <th></th>\n",
       "      <th>key</th>\n",
       "      <th>fare_amount</th>\n",
       "      <th>pickup_datetime</th>\n",
       "      <th>pickup_longitude</th>\n",
       "      <th>pickup_latitude</th>\n",
       "      <th>dropoff_longitude</th>\n",
       "      <th>dropoff_latitude</th>\n",
       "      <th>passenger_count</th>\n",
       "    </tr>\n",
       "  </thead>\n",
       "  <tbody>\n",
       "  </tbody>\n",
       "</table>\n",
       "</div>"
      ],
      "text/plain": [
       "Empty DataFrame\n",
       "Columns: [key, fare_amount, pickup_datetime, pickup_longitude, pickup_latitude, dropoff_longitude, dropoff_latitude, passenger_count]\n",
       "Index: []"
      ]
     },
     "execution_count": 6,
     "metadata": {
      "tags": []
     },
     "output_type": "execute_result"
    }
   ],
   "source": [
    "%time\n",
    "duplicateRowsDF = df.loc[df.duplicated(['key'], keep=False), :]\n",
    "duplicateRowsDF"
   ]
  },
  {
   "cell_type": "code",
   "execution_count": null,
   "metadata": {},
   "outputs": [],
   "source": [
    "df['key'][55423855] =  '2014-12-12 11:33:00.00000016'"
   ]
  },
  {
   "cell_type": "code",
   "execution_count": null,
   "metadata": {},
   "outputs": [],
   "source": [
    "duplicateRowsDF = df.loc[df.duplicated(['key'], keep=False), :]\n",
    "duplicateRowsDF.shape[0]"
   ]
  },
  {
   "cell_type": "markdown",
   "metadata": {
    "id": "KRCFfN7hUFiQ"
   },
   "source": [
    "#### Valores NaN"
   ]
  },
  {
   "cell_type": "code",
   "execution_count": null,
   "metadata": {},
   "outputs": [],
   "source": [
    "valores_nan = df.isna().sum()\n",
    "valores_nan"
   ]
  },
  {
   "cell_type": "code",
   "execution_count": null,
   "metadata": {},
   "outputs": [],
   "source": [
    "df = df.dropna()"
   ]
  },
  {
   "cell_type": "markdown",
   "metadata": {},
   "source": [
    "#### Coordenadas"
   ]
  },
  {
   "cell_type": "markdown",
   "metadata": {
    "id": "LeB7v2caeE-Q"
   },
   "source": [
    "Se analizará la data con el objetivo de eliminar las filas con coordenadas ubicadas en el océano.\n"
   ]
  },
  {
   "cell_type": "code",
   "execution_count": null,
   "metadata": {
    "colab": {
     "base_uri": "https://localhost:8080/"
    },
    "id": "fvLRgQm4w6gv",
    "outputId": "9a63733d-1a95-466e-e372-a9456c6d445d"
   },
   "outputs": [
    {
     "name": "stdout",
     "output_type": "stream",
     "text": [
      "Collecting global-land-mask\n",
      "\u001b[?25l  Downloading https://files.pythonhosted.org/packages/e6/e9/eaac67e39b68f64828a164f8dbfcf13baccd7382704ea120152af475f520/global_land_mask-1.0.0-py3-none-any.whl (1.8MB)\n",
      "\u001b[K     |████████████████████████████████| 1.8MB 5.1MB/s \n",
      "\u001b[?25hInstalling collected packages: global-land-mask\n",
      "Successfully installed global-land-mask-1.0.0\n"
     ]
    }
   ],
   "source": [
    "!pip install global-land-mask"
   ]
  },
  {
   "cell_type": "code",
   "execution_count": null,
   "metadata": {
    "id": "EHDiR4uHLME7"
   },
   "outputs": [],
   "source": [
    "from global_land_mask import globe as gl"
   ]
  },
  {
   "cell_type": "code",
   "execution_count": null,
   "metadata": {
    "id": "h_OKBr002fJl"
   },
   "outputs": [],
   "source": [
    "df.shape"
   ]
  },
  {
   "cell_type": "code",
   "execution_count": null,
   "metadata": {
    "colab": {
     "base_uri": "https://localhost:8080/"
    },
    "id": "eKQUwiZo20So",
    "outputId": "57237550-ae29-4246-803a-696cd67632f0"
   },
   "outputs": [
    {
     "name": "stdout",
     "output_type": "stream",
     "text": [
      "<class 'pandas.core.frame.DataFrame'>\n",
      "Int64Index: 11084698 entries, 0 to 11084770\n",
      "Data columns (total 8 columns):\n",
      " #   Column             Dtype  \n",
      "---  ------             -----  \n",
      " 0   key                object \n",
      " 1   fare_amount        float64\n",
      " 2   pickup_datetime    object \n",
      " 3   pickup_longitude   float64\n",
      " 4   pickup_latitude    float64\n",
      " 5   dropoff_longitude  float64\n",
      " 6   dropoff_latitude   float64\n",
      " 7   passenger_count    int64  \n",
      "dtypes: float64(5), int64(1), object(2)\n",
      "memory usage: 761.1+ MB\n"
     ]
    }
   ],
   "source": [
    "df.info()"
   ]
  },
  {
   "cell_type": "code",
   "execution_count": null,
   "metadata": {
    "colab": {
     "base_uri": "https://localhost:8080/",
     "height": 419
    },
    "id": "BvAMaLT7zCsb",
    "outputId": "8777ec9a-a04b-4129-cf25-eefdfffb773f"
   },
   "outputs": [
    {
     "data": {
      "text/html": [
       "<div>\n",
       "<style scoped>\n",
       "    .dataframe tbody tr th:only-of-type {\n",
       "        vertical-align: middle;\n",
       "    }\n",
       "\n",
       "    .dataframe tbody tr th {\n",
       "        vertical-align: top;\n",
       "    }\n",
       "\n",
       "    .dataframe thead th {\n",
       "        text-align: right;\n",
       "    }\n",
       "</style>\n",
       "<table border=\"1\" class=\"dataframe\">\n",
       "  <thead>\n",
       "    <tr style=\"text-align: right;\">\n",
       "      <th></th>\n",
       "      <th>key</th>\n",
       "      <th>fare_amount</th>\n",
       "      <th>pickup_datetime</th>\n",
       "      <th>pickup_longitude</th>\n",
       "      <th>pickup_latitude</th>\n",
       "      <th>dropoff_longitude</th>\n",
       "      <th>dropoff_latitude</th>\n",
       "      <th>passenger_count</th>\n",
       "    </tr>\n",
       "  </thead>\n",
       "  <tbody>\n",
       "    <tr>\n",
       "      <th>0</th>\n",
       "      <td>2009-06-15 17:26:21.0000001</td>\n",
       "      <td>4.5</td>\n",
       "      <td>2009-06-15 17:26:21 UTC</td>\n",
       "      <td>-73.844311</td>\n",
       "      <td>40.721319</td>\n",
       "      <td>-73.841610</td>\n",
       "      <td>40.712278</td>\n",
       "      <td>1</td>\n",
       "    </tr>\n",
       "    <tr>\n",
       "      <th>1</th>\n",
       "      <td>2011-08-18 00:35:00.00000049</td>\n",
       "      <td>5.7</td>\n",
       "      <td>2011-08-18 00:35:00 UTC</td>\n",
       "      <td>-73.982738</td>\n",
       "      <td>40.761270</td>\n",
       "      <td>-73.991242</td>\n",
       "      <td>40.750562</td>\n",
       "      <td>2</td>\n",
       "    </tr>\n",
       "    <tr>\n",
       "      <th>2</th>\n",
       "      <td>2012-01-04 17:22:00.00000081</td>\n",
       "      <td>16.5</td>\n",
       "      <td>2012-01-04 17:22:00 UTC</td>\n",
       "      <td>-73.951300</td>\n",
       "      <td>40.774138</td>\n",
       "      <td>-73.990095</td>\n",
       "      <td>40.751048</td>\n",
       "      <td>1</td>\n",
       "    </tr>\n",
       "    <tr>\n",
       "      <th>3</th>\n",
       "      <td>2014-02-19 07:22:00.00000074</td>\n",
       "      <td>12.5</td>\n",
       "      <td>2014-02-19 07:22:00 UTC</td>\n",
       "      <td>-73.986430</td>\n",
       "      <td>40.760465</td>\n",
       "      <td>-73.988990</td>\n",
       "      <td>40.737075</td>\n",
       "      <td>1</td>\n",
       "    </tr>\n",
       "    <tr>\n",
       "      <th>4</th>\n",
       "      <td>2013-02-12 12:15:46.0000002</td>\n",
       "      <td>11.5</td>\n",
       "      <td>2013-02-12 12:15:46 UTC</td>\n",
       "      <td>-73.957954</td>\n",
       "      <td>40.779252</td>\n",
       "      <td>-73.961250</td>\n",
       "      <td>40.758787</td>\n",
       "      <td>1</td>\n",
       "    </tr>\n",
       "    <tr>\n",
       "      <th>...</th>\n",
       "      <td>...</td>\n",
       "      <td>...</td>\n",
       "      <td>...</td>\n",
       "      <td>...</td>\n",
       "      <td>...</td>\n",
       "      <td>...</td>\n",
       "      <td>...</td>\n",
       "      <td>...</td>\n",
       "    </tr>\n",
       "    <tr>\n",
       "      <th>11084766</th>\n",
       "      <td>2009-08-27 18:39:00.00000067</td>\n",
       "      <td>11.3</td>\n",
       "      <td>2009-08-27 18:39:00 UTC</td>\n",
       "      <td>-73.980997</td>\n",
       "      <td>40.762858</td>\n",
       "      <td>-73.990503</td>\n",
       "      <td>40.736850</td>\n",
       "      <td>1</td>\n",
       "    </tr>\n",
       "    <tr>\n",
       "      <th>11084767</th>\n",
       "      <td>2015-05-17 00:27:40.0000005</td>\n",
       "      <td>5.0</td>\n",
       "      <td>2015-05-17 00:27:40 UTC</td>\n",
       "      <td>-73.974289</td>\n",
       "      <td>40.761883</td>\n",
       "      <td>-73.982964</td>\n",
       "      <td>40.756119</td>\n",
       "      <td>3</td>\n",
       "    </tr>\n",
       "    <tr>\n",
       "      <th>11084768</th>\n",
       "      <td>2009-02-03 00:28:08.0000001</td>\n",
       "      <td>10.2</td>\n",
       "      <td>2009-02-03 00:28:08 UTC</td>\n",
       "      <td>-73.999809</td>\n",
       "      <td>40.726766</td>\n",
       "      <td>-73.979344</td>\n",
       "      <td>40.749732</td>\n",
       "      <td>2</td>\n",
       "    </tr>\n",
       "    <tr>\n",
       "      <th>11084769</th>\n",
       "      <td>2014-09-22 09:00:00.00000019</td>\n",
       "      <td>16.5</td>\n",
       "      <td>2014-09-22 09:00:00 UTC</td>\n",
       "      <td>-73.977880</td>\n",
       "      <td>40.763550</td>\n",
       "      <td>-73.974020</td>\n",
       "      <td>40.743170</td>\n",
       "      <td>6</td>\n",
       "    </tr>\n",
       "    <tr>\n",
       "      <th>11084770</th>\n",
       "      <td>2014-12-12 11:33:00.00000015</td>\n",
       "      <td>7.5</td>\n",
       "      <td>2014-12-12 11:33:00 UTC</td>\n",
       "      <td>-73.969722</td>\n",
       "      <td>40.797668</td>\n",
       "      <td>-73.970885</td>\n",
       "      <td>40.783313</td>\n",
       "      <td>1</td>\n",
       "    </tr>\n",
       "  </tbody>\n",
       "</table>\n",
       "<p>11084127 rows × 8 columns</p>\n",
       "</div>"
      ],
      "text/plain": [
       "                                   key  ...  passenger_count\n",
       "0          2009-06-15 17:26:21.0000001  ...                1\n",
       "1         2011-08-18 00:35:00.00000049  ...                2\n",
       "2         2012-01-04 17:22:00.00000081  ...                1\n",
       "3         2014-02-19 07:22:00.00000074  ...                1\n",
       "4          2013-02-12 12:15:46.0000002  ...                1\n",
       "...                                ...  ...              ...\n",
       "11084766  2009-08-27 18:39:00.00000067  ...                1\n",
       "11084767   2015-05-17 00:27:40.0000005  ...                3\n",
       "11084768   2009-02-03 00:28:08.0000001  ...                2\n",
       "11084769  2014-09-22 09:00:00.00000019  ...                6\n",
       "11084770  2014-12-12 11:33:00.00000015  ...                1\n",
       "\n",
       "[11084127 rows x 8 columns]"
      ]
     },
     "execution_count": 36,
     "metadata": {
      "tags": []
     },
     "output_type": "execute_result"
    }
   ],
   "source": [
    "df = df[df['pickup_latitude'].values > -90]\n",
    "df = df[df['pickup_latitude'].values < 90]\n",
    "df = df[df['dropoff_latitude'].values > -90]\n",
    "df = df[df['dropoff_latitude'].values < 90]\n",
    "\n",
    "df = df[df['pickup_longitude'].values > -180]\n",
    "df = df[df['pickup_longitude'].values < 180]\n",
    "df = df[df['dropoff_longitude'].values > -180]\n",
    "df = df[df['dropoff_longitude'].values < 180]"
   ]
  },
  {
   "cell_type": "code",
   "execution_count": null,
   "metadata": {
    "colab": {
     "base_uri": "https://localhost:8080/",
     "height": 419
    },
    "id": "PEETEkebB3UI",
    "outputId": "9b54b4fd-b2c5-4168-efb7-ebed7806d582"
   },
   "outputs": [
    {
     "data": {
      "text/html": [
       "<div>\n",
       "<style scoped>\n",
       "    .dataframe tbody tr th:only-of-type {\n",
       "        vertical-align: middle;\n",
       "    }\n",
       "\n",
       "    .dataframe tbody tr th {\n",
       "        vertical-align: top;\n",
       "    }\n",
       "\n",
       "    .dataframe thead th {\n",
       "        text-align: right;\n",
       "    }\n",
       "</style>\n",
       "<table border=\"1\" class=\"dataframe\">\n",
       "  <thead>\n",
       "    <tr style=\"text-align: right;\">\n",
       "      <th></th>\n",
       "      <th>key</th>\n",
       "      <th>fare_amount</th>\n",
       "      <th>pickup_datetime</th>\n",
       "      <th>pickup_longitude</th>\n",
       "      <th>pickup_latitude</th>\n",
       "      <th>dropoff_longitude</th>\n",
       "      <th>dropoff_latitude</th>\n",
       "      <th>passenger_count</th>\n",
       "    </tr>\n",
       "  </thead>\n",
       "  <tbody>\n",
       "    <tr>\n",
       "      <th>0</th>\n",
       "      <td>2009-06-15 17:26:21.0000001</td>\n",
       "      <td>4.5</td>\n",
       "      <td>2009-06-15 17:26:21 UTC</td>\n",
       "      <td>-73.844311</td>\n",
       "      <td>40.721319</td>\n",
       "      <td>-73.841610</td>\n",
       "      <td>40.712278</td>\n",
       "      <td>1</td>\n",
       "    </tr>\n",
       "    <tr>\n",
       "      <th>1</th>\n",
       "      <td>2011-08-18 00:35:00.00000049</td>\n",
       "      <td>5.7</td>\n",
       "      <td>2011-08-18 00:35:00 UTC</td>\n",
       "      <td>-73.982738</td>\n",
       "      <td>40.761270</td>\n",
       "      <td>-73.991242</td>\n",
       "      <td>40.750562</td>\n",
       "      <td>2</td>\n",
       "    </tr>\n",
       "    <tr>\n",
       "      <th>2</th>\n",
       "      <td>2012-01-04 17:22:00.00000081</td>\n",
       "      <td>16.5</td>\n",
       "      <td>2012-01-04 17:22:00 UTC</td>\n",
       "      <td>-73.951300</td>\n",
       "      <td>40.774138</td>\n",
       "      <td>-73.990095</td>\n",
       "      <td>40.751048</td>\n",
       "      <td>1</td>\n",
       "    </tr>\n",
       "    <tr>\n",
       "      <th>3</th>\n",
       "      <td>2014-02-19 07:22:00.00000074</td>\n",
       "      <td>12.5</td>\n",
       "      <td>2014-02-19 07:22:00 UTC</td>\n",
       "      <td>-73.986430</td>\n",
       "      <td>40.760465</td>\n",
       "      <td>-73.988990</td>\n",
       "      <td>40.737075</td>\n",
       "      <td>1</td>\n",
       "    </tr>\n",
       "    <tr>\n",
       "      <th>4</th>\n",
       "      <td>2013-02-12 12:15:46.0000002</td>\n",
       "      <td>11.5</td>\n",
       "      <td>2013-02-12 12:15:46 UTC</td>\n",
       "      <td>-73.957954</td>\n",
       "      <td>40.779252</td>\n",
       "      <td>-73.961250</td>\n",
       "      <td>40.758787</td>\n",
       "      <td>1</td>\n",
       "    </tr>\n",
       "    <tr>\n",
       "      <th>...</th>\n",
       "      <td>...</td>\n",
       "      <td>...</td>\n",
       "      <td>...</td>\n",
       "      <td>...</td>\n",
       "      <td>...</td>\n",
       "      <td>...</td>\n",
       "      <td>...</td>\n",
       "      <td>...</td>\n",
       "    </tr>\n",
       "    <tr>\n",
       "      <th>11084766</th>\n",
       "      <td>2009-08-27 18:39:00.00000067</td>\n",
       "      <td>11.3</td>\n",
       "      <td>2009-08-27 18:39:00 UTC</td>\n",
       "      <td>-73.980997</td>\n",
       "      <td>40.762858</td>\n",
       "      <td>-73.990503</td>\n",
       "      <td>40.736850</td>\n",
       "      <td>1</td>\n",
       "    </tr>\n",
       "    <tr>\n",
       "      <th>11084767</th>\n",
       "      <td>2015-05-17 00:27:40.0000005</td>\n",
       "      <td>5.0</td>\n",
       "      <td>2015-05-17 00:27:40 UTC</td>\n",
       "      <td>-73.974289</td>\n",
       "      <td>40.761883</td>\n",
       "      <td>-73.982964</td>\n",
       "      <td>40.756119</td>\n",
       "      <td>3</td>\n",
       "    </tr>\n",
       "    <tr>\n",
       "      <th>11084768</th>\n",
       "      <td>2009-02-03 00:28:08.0000001</td>\n",
       "      <td>10.2</td>\n",
       "      <td>2009-02-03 00:28:08 UTC</td>\n",
       "      <td>-73.999809</td>\n",
       "      <td>40.726766</td>\n",
       "      <td>-73.979344</td>\n",
       "      <td>40.749732</td>\n",
       "      <td>2</td>\n",
       "    </tr>\n",
       "    <tr>\n",
       "      <th>11084769</th>\n",
       "      <td>2014-09-22 09:00:00.00000019</td>\n",
       "      <td>16.5</td>\n",
       "      <td>2014-09-22 09:00:00 UTC</td>\n",
       "      <td>-73.977880</td>\n",
       "      <td>40.763550</td>\n",
       "      <td>-73.974020</td>\n",
       "      <td>40.743170</td>\n",
       "      <td>6</td>\n",
       "    </tr>\n",
       "    <tr>\n",
       "      <th>11084770</th>\n",
       "      <td>2014-12-12 11:33:00.00000015</td>\n",
       "      <td>7.5</td>\n",
       "      <td>2014-12-12 11:33:00 UTC</td>\n",
       "      <td>-73.969722</td>\n",
       "      <td>40.797668</td>\n",
       "      <td>-73.970885</td>\n",
       "      <td>40.783313</td>\n",
       "      <td>1</td>\n",
       "    </tr>\n",
       "  </tbody>\n",
       "</table>\n",
       "<p>10848569 rows × 8 columns</p>\n",
       "</div>"
      ],
      "text/plain": [
       "                                   key  ...  passenger_count\n",
       "0          2009-06-15 17:26:21.0000001  ...                1\n",
       "1         2011-08-18 00:35:00.00000049  ...                2\n",
       "2         2012-01-04 17:22:00.00000081  ...                1\n",
       "3         2014-02-19 07:22:00.00000074  ...                1\n",
       "4          2013-02-12 12:15:46.0000002  ...                1\n",
       "...                                ...  ...              ...\n",
       "11084766  2009-08-27 18:39:00.00000067  ...                1\n",
       "11084767   2015-05-17 00:27:40.0000005  ...                3\n",
       "11084768   2009-02-03 00:28:08.0000001  ...                2\n",
       "11084769  2014-09-22 09:00:00.00000019  ...                6\n",
       "11084770  2014-12-12 11:33:00.00000015  ...                1\n",
       "\n",
       "[10848569 rows x 8 columns]"
      ]
     },
     "execution_count": 43,
     "metadata": {
      "tags": []
     },
     "output_type": "execute_result"
    }
   ],
   "source": [
    "pla = df[['pickup_latitude']].to_numpy()\n",
    "plon = df[['pickup_longitude']].to_numpy()\n",
    "dla = df[['dropoff_latitude']].to_numpy()\n",
    "dlon = df[['dropoff_longitude']].to_numpy()\n",
    "\n",
    "#gl.is_ocean(pla,plon)\n",
    "#df.loc[gl.is_ocean(pla,plon), :]\n",
    "\n",
    "df = df.drop(df.loc[gl.is_ocean(pla,plon)].index)"
   ]
  },
  {
   "cell_type": "code",
   "execution_count": null,
   "metadata": {
    "id": "bbwr-zVHhwl0"
   },
   "outputs": [],
   "source": [
    "# dfs[['pickup_latitude', 'pickup_longitude']] = dfs.apply(lambda x: ocean_values_to_nan(x['pickup_latitude'],x['pickup_longitude']), axis=1 )\n",
    "# dfs[['dropoff_latitude', 'dropoff_longitude']] = dfs.apply(lambda x: ocean_values_to_nan(x['dropoff_latitude'],x['dropoff_longitude']) , axis=1)"
   ]
  },
  {
   "cell_type": "code",
   "execution_count": null,
   "metadata": {
    "colab": {
     "base_uri": "https://localhost:8080/"
    },
    "id": "wdcfeIKIYiMF",
    "outputId": "07d39294-70cd-4f4c-89ef-6dcccf405d25"
   },
   "outputs": [
    {
     "data": {
      "text/plain": [
       "key                  0\n",
       "fare_amount          0\n",
       "pickup_datetime      0\n",
       "pickup_longitude     0\n",
       "pickup_latitude      0\n",
       "dropoff_longitude    0\n",
       "dropoff_latitude     0\n",
       "passenger_count      0\n",
       "dtype: int64"
      ]
     },
     "execution_count": 44,
     "metadata": {
      "tags": []
     },
     "output_type": "execute_result"
    }
   ],
   "source": [
    "df.shape"
   ]
  },
  {
   "cell_type": "code",
   "execution_count": null,
   "metadata": {
    "id": "MLg3oTnVdO90"
   },
   "outputs": [],
   "source": [
    "#df.to_csv('trainsampleprep.csv')"
   ]
  },
  {
   "cell_type": "code",
   "execution_count": null,
   "metadata": {
    "colab": {
     "base_uri": "https://localhost:8080/",
     "height": 204
    },
    "id": "QOOxB1oZE4V2",
    "outputId": "d254ae1c-5961-4f8b-9ea5-38527a60499b"
   },
   "outputs": [
    {
     "data": {
      "text/html": [
       "<div>\n",
       "<style scoped>\n",
       "    .dataframe tbody tr th:only-of-type {\n",
       "        vertical-align: middle;\n",
       "    }\n",
       "\n",
       "    .dataframe tbody tr th {\n",
       "        vertical-align: top;\n",
       "    }\n",
       "\n",
       "    .dataframe thead th {\n",
       "        text-align: right;\n",
       "    }\n",
       "</style>\n",
       "<table border=\"1\" class=\"dataframe\">\n",
       "  <thead>\n",
       "    <tr style=\"text-align: right;\">\n",
       "      <th></th>\n",
       "      <th>key</th>\n",
       "      <th>fare_amount</th>\n",
       "      <th>pickup_datetime</th>\n",
       "      <th>pickup_longitude</th>\n",
       "      <th>pickup_latitude</th>\n",
       "      <th>dropoff_longitude</th>\n",
       "      <th>dropoff_latitude</th>\n",
       "      <th>passenger_count</th>\n",
       "    </tr>\n",
       "  </thead>\n",
       "  <tbody>\n",
       "    <tr>\n",
       "      <th>0</th>\n",
       "      <td>2009-06-15 17:26:21.0000001</td>\n",
       "      <td>4.5</td>\n",
       "      <td>2009-06-15 17:26:21 UTC</td>\n",
       "      <td>-73.844311</td>\n",
       "      <td>40.721319</td>\n",
       "      <td>-73.841610</td>\n",
       "      <td>40.712278</td>\n",
       "      <td>1</td>\n",
       "    </tr>\n",
       "    <tr>\n",
       "      <th>1</th>\n",
       "      <td>2011-08-18 00:35:00.00000049</td>\n",
       "      <td>5.7</td>\n",
       "      <td>2011-08-18 00:35:00 UTC</td>\n",
       "      <td>-73.982738</td>\n",
       "      <td>40.761270</td>\n",
       "      <td>-73.991242</td>\n",
       "      <td>40.750562</td>\n",
       "      <td>2</td>\n",
       "    </tr>\n",
       "    <tr>\n",
       "      <th>2</th>\n",
       "      <td>2012-01-04 17:22:00.00000081</td>\n",
       "      <td>16.5</td>\n",
       "      <td>2012-01-04 17:22:00 UTC</td>\n",
       "      <td>-73.951300</td>\n",
       "      <td>40.774138</td>\n",
       "      <td>-73.990095</td>\n",
       "      <td>40.751048</td>\n",
       "      <td>1</td>\n",
       "    </tr>\n",
       "    <tr>\n",
       "      <th>3</th>\n",
       "      <td>2014-02-19 07:22:00.00000074</td>\n",
       "      <td>12.5</td>\n",
       "      <td>2014-02-19 07:22:00 UTC</td>\n",
       "      <td>-73.986430</td>\n",
       "      <td>40.760465</td>\n",
       "      <td>-73.988990</td>\n",
       "      <td>40.737075</td>\n",
       "      <td>1</td>\n",
       "    </tr>\n",
       "    <tr>\n",
       "      <th>4</th>\n",
       "      <td>2013-02-12 12:15:46.0000002</td>\n",
       "      <td>11.5</td>\n",
       "      <td>2013-02-12 12:15:46 UTC</td>\n",
       "      <td>-73.957954</td>\n",
       "      <td>40.779252</td>\n",
       "      <td>-73.961250</td>\n",
       "      <td>40.758787</td>\n",
       "      <td>1</td>\n",
       "    </tr>\n",
       "  </tbody>\n",
       "</table>\n",
       "</div>"
      ],
      "text/plain": [
       "                            key  fare_amount  ... dropoff_latitude  passenger_count\n",
       "0   2009-06-15 17:26:21.0000001          4.5  ...        40.712278                1\n",
       "1  2011-08-18 00:35:00.00000049          5.7  ...        40.750562                2\n",
       "2  2012-01-04 17:22:00.00000081         16.5  ...        40.751048                1\n",
       "3  2014-02-19 07:22:00.00000074         12.5  ...        40.737075                1\n",
       "4   2013-02-12 12:15:46.0000002         11.5  ...        40.758787                1\n",
       "\n",
       "[5 rows x 8 columns]"
      ]
     },
     "execution_count": 46,
     "metadata": {
      "tags": []
     },
     "output_type": "execute_result"
    }
   ],
   "source": [
    "df.head(-15)"
   ]
  },
  {
   "cell_type": "markdown",
   "metadata": {},
   "source": [
    "#### Rango de valores"
   ]
  },
  {
   "cell_type": "markdown",
   "metadata": {},
   "source": [
    "Ahora verificamos que los datos cumplan las restricciones de rango correspondientes."
   ]
  },
  {
   "cell_type": "code",
   "execution_count": null,
   "metadata": {},
   "outputs": [],
   "source": [
    "df.describe()"
   ]
  },
  {
   "cell_type": "markdown",
   "metadata": {},
   "source": [
    "Observamos que el mínimo valor de la columna de tarifa (fare_amount) es -30. Necesitamos que los valores de la tarifa sean valores mayores o iguales a 0."
   ]
  },
  {
   "cell_type": "code",
   "execution_count": null,
   "metadata": {},
   "outputs": [],
   "source": [
    "df[df['fare_amount'] <= 0].count() /df.count()"
   ]
  },
  {
   "cell_type": "code",
   "execution_count": null,
   "metadata": {},
   "outputs": [],
   "source": [
    "df = df[df['fare_amount'] > 0]"
   ]
  },
  {
   "cell_type": "markdown",
   "metadata": {},
   "source": [
    "También notamos valores atípicos en la cantidad de pasajeros, por ejemplo un viaje con 208 pasajeros. De acuerdo a las leyes de tránsito de Nueva York como máximo pueden haber 6 personas. Por lo tanto, las filas con cantidades de pasajeros mayores a 6 serán eliminadas."
   ]
  },
  {
   "cell_type": "code",
   "execution_count": null,
   "metadata": {},
   "outputs": [],
   "source": [
    "( (df[df['passenger_count'] > 6].count() + df[df['passenger_count'] < 1.0].count()) / df.count() )* 100"
   ]
  },
  {
   "cell_type": "code",
   "execution_count": null,
   "metadata": {},
   "outputs": [],
   "source": [
    "df = df[df['passenger_count'] <= 6]\n",
    "df = df[df['passenger_count'] >= 1.0]"
   ]
  },
  {
   "cell_type": "code",
   "execution_count": null,
   "metadata": {},
   "outputs": [],
   "source": [
    "df.describe()"
   ]
  },
  {
   "cell_type": "markdown",
   "metadata": {
    "id": "iojyqIovaHls"
   },
   "source": [
    "#### Normalización"
   ]
  },
  {
   "cell_type": "code",
   "execution_count": null,
   "metadata": {
    "colab": {
     "base_uri": "https://localhost:8080/",
     "height": 204
    },
    "id": "EbJz5X3PaGlp",
    "outputId": "2913d7a4-9b03-40d3-b3cc-026301e5a29a"
   },
   "outputs": [
    {
     "data": {
      "text/html": [
       "<div>\n",
       "<style scoped>\n",
       "    .dataframe tbody tr th:only-of-type {\n",
       "        vertical-align: middle;\n",
       "    }\n",
       "\n",
       "    .dataframe tbody tr th {\n",
       "        vertical-align: top;\n",
       "    }\n",
       "\n",
       "    .dataframe thead th {\n",
       "        text-align: right;\n",
       "    }\n",
       "</style>\n",
       "<table border=\"1\" class=\"dataframe\">\n",
       "  <thead>\n",
       "    <tr style=\"text-align: right;\">\n",
       "      <th></th>\n",
       "      <th>key</th>\n",
       "      <th>fare_amount</th>\n",
       "      <th>pickup_datetime</th>\n",
       "      <th>pickup_longitude</th>\n",
       "      <th>pickup_latitude</th>\n",
       "      <th>dropoff_longitude</th>\n",
       "      <th>dropoff_latitude</th>\n",
       "      <th>passenger_count</th>\n",
       "    </tr>\n",
       "  </thead>\n",
       "  <tbody>\n",
       "    <tr>\n",
       "      <th>0</th>\n",
       "      <td>0.096626</td>\n",
       "      <td>0.256750</td>\n",
       "      <td>0.094779</td>\n",
       "      <td>0.486964</td>\n",
       "      <td>0.509565</td>\n",
       "      <td>0.487987</td>\n",
       "      <td>0.520137</td>\n",
       "      <td>0.004808</td>\n",
       "    </tr>\n",
       "    <tr>\n",
       "      <th>1</th>\n",
       "      <td>0.095404</td>\n",
       "      <td>0.254083</td>\n",
       "      <td>0.093577</td>\n",
       "      <td>0.486967</td>\n",
       "      <td>0.509570</td>\n",
       "      <td>0.487992</td>\n",
       "      <td>0.520145</td>\n",
       "      <td>0.014423</td>\n",
       "    </tr>\n",
       "    <tr>\n",
       "      <th>2</th>\n",
       "      <td>0.193632</td>\n",
       "      <td>0.259417</td>\n",
       "      <td>0.189024</td>\n",
       "      <td>0.486962</td>\n",
       "      <td>0.509562</td>\n",
       "      <td>0.487989</td>\n",
       "      <td>0.520142</td>\n",
       "      <td>0.004808</td>\n",
       "    </tr>\n",
       "    <tr>\n",
       "      <th>3</th>\n",
       "      <td>0.841936</td>\n",
       "      <td>0.255000</td>\n",
       "      <td>0.810950</td>\n",
       "      <td>0.486965</td>\n",
       "      <td>0.509566</td>\n",
       "      <td>0.487990</td>\n",
       "      <td>0.520143</td>\n",
       "      <td>0.009615</td>\n",
       "    </tr>\n",
       "    <tr>\n",
       "      <th>4</th>\n",
       "      <td>0.384110</td>\n",
       "      <td>0.260083</td>\n",
       "      <td>0.370704</td>\n",
       "      <td>0.486959</td>\n",
       "      <td>0.509561</td>\n",
       "      <td>0.487990</td>\n",
       "      <td>0.520142</td>\n",
       "      <td>0.004808</td>\n",
       "    </tr>\n",
       "  </tbody>\n",
       "</table>\n",
       "</div>"
      ],
      "text/plain": [
       "        key  fare_amount  ...  dropoff_latitude  passenger_count\n",
       "0  0.096626     0.256750  ...          0.520137         0.004808\n",
       "1  0.095404     0.254083  ...          0.520145         0.014423\n",
       "2  0.193632     0.259417  ...          0.520142         0.004808\n",
       "3  0.841936     0.255000  ...          0.520143         0.009615\n",
       "4  0.384110     0.260083  ...          0.520142         0.004808\n",
       "\n",
       "[5 rows x 8 columns]"
      ]
     },
     "execution_count": 26,
     "metadata": {
      "tags": []
     },
     "output_type": "execute_result"
    }
   ],
   "source": [
    "from sklearn.preprocessing import MinMaxScaler\n",
    "scaler = MinMaxScaler()\n",
    "dfn = pd.DataFrame(scaler.fit_transform(df), columns = df.columns)\n",
    "dfn.head()"
   ]
  },
  {
   "cell_type": "code",
   "execution_count": null,
   "metadata": {
    "colab": {
     "base_uri": "https://localhost:8080/",
     "height": 204
    },
    "id": "G_5dl9h4EZ_W",
    "outputId": "5cf82dfa-f15f-4717-a8ea-d7c2f338d470"
   },
   "outputs": [
    {
     "data": {
      "text/html": [
       "<div>\n",
       "<style scoped>\n",
       "    .dataframe tbody tr th:only-of-type {\n",
       "        vertical-align: middle;\n",
       "    }\n",
       "\n",
       "    .dataframe tbody tr th {\n",
       "        vertical-align: top;\n",
       "    }\n",
       "\n",
       "    .dataframe thead th {\n",
       "        text-align: right;\n",
       "    }\n",
       "</style>\n",
       "<table border=\"1\" class=\"dataframe\">\n",
       "  <thead>\n",
       "    <tr style=\"text-align: right;\">\n",
       "      <th></th>\n",
       "      <th>key</th>\n",
       "      <th>fare_amount</th>\n",
       "      <th>pickup_datetime</th>\n",
       "      <th>pickup_longitude</th>\n",
       "      <th>pickup_latitude</th>\n",
       "      <th>dropoff_longitude</th>\n",
       "      <th>dropoff_latitude</th>\n",
       "      <th>passenger_count</th>\n",
       "    </tr>\n",
       "  </thead>\n",
       "  <tbody>\n",
       "    <tr>\n",
       "      <th>0</th>\n",
       "      <td>0.096626</td>\n",
       "      <td>0.256750</td>\n",
       "      <td>0.094779</td>\n",
       "      <td>0.486964</td>\n",
       "      <td>0.509565</td>\n",
       "      <td>0.487987</td>\n",
       "      <td>0.520137</td>\n",
       "      <td>0.004808</td>\n",
       "    </tr>\n",
       "    <tr>\n",
       "      <th>1</th>\n",
       "      <td>0.095404</td>\n",
       "      <td>0.254083</td>\n",
       "      <td>0.093577</td>\n",
       "      <td>0.486967</td>\n",
       "      <td>0.509570</td>\n",
       "      <td>0.487992</td>\n",
       "      <td>0.520145</td>\n",
       "      <td>0.014423</td>\n",
       "    </tr>\n",
       "    <tr>\n",
       "      <th>2</th>\n",
       "      <td>0.193632</td>\n",
       "      <td>0.259417</td>\n",
       "      <td>0.189024</td>\n",
       "      <td>0.486962</td>\n",
       "      <td>0.509562</td>\n",
       "      <td>0.487989</td>\n",
       "      <td>0.520142</td>\n",
       "      <td>0.004808</td>\n",
       "    </tr>\n",
       "    <tr>\n",
       "      <th>3</th>\n",
       "      <td>0.841936</td>\n",
       "      <td>0.255000</td>\n",
       "      <td>0.810950</td>\n",
       "      <td>0.486965</td>\n",
       "      <td>0.509566</td>\n",
       "      <td>0.487990</td>\n",
       "      <td>0.520143</td>\n",
       "      <td>0.009615</td>\n",
       "    </tr>\n",
       "    <tr>\n",
       "      <th>4</th>\n",
       "      <td>0.384110</td>\n",
       "      <td>0.260083</td>\n",
       "      <td>0.370704</td>\n",
       "      <td>0.486959</td>\n",
       "      <td>0.509561</td>\n",
       "      <td>0.487990</td>\n",
       "      <td>0.520142</td>\n",
       "      <td>0.004808</td>\n",
       "    </tr>\n",
       "  </tbody>\n",
       "</table>\n",
       "</div>"
      ],
      "text/plain": [
       "        key  fare_amount  ...  dropoff_latitude  passenger_count\n",
       "0  0.096626     0.256750  ...          0.520137         0.004808\n",
       "1  0.095404     0.254083  ...          0.520145         0.014423\n",
       "2  0.193632     0.259417  ...          0.520142         0.004808\n",
       "3  0.841936     0.255000  ...          0.520143         0.009615\n",
       "4  0.384110     0.260083  ...          0.520142         0.004808\n",
       "\n",
       "[5 rows x 8 columns]"
      ]
     },
     "execution_count": 28,
     "metadata": {
      "tags": []
     },
     "output_type": "execute_result"
    }
   ],
   "source": [
    "# dff = pd.DataFrame(af, columns = ['key','fare_amount','pickup_datetime','pickup_longitude','pickup_latitude','dropoff_longitude','dropoff_latitude','passenger_count'])\n",
    "# dff.head()"
   ]
  }
 ],
 "metadata": {
  "accelerator": "TPU",
  "colab": {
   "collapsed_sections": [
    "qs04f5FnTvqO"
   ],
   "machine_shape": "hm",
   "name": "PC2.ipynb",
   "provenance": []
  },
  "kernelspec": {
   "display_name": "Python 3",
   "language": "python",
   "name": "python3"
  },
  "language_info": {
   "codemirror_mode": {
    "name": "ipython",
    "version": 3
   },
   "file_extension": ".py",
   "mimetype": "text/x-python",
   "name": "python",
   "nbconvert_exporter": "python",
   "pygments_lexer": "ipython3",
   "version": "3.8.5"
  }
 },
 "nbformat": 4,
 "nbformat_minor": 1
}
