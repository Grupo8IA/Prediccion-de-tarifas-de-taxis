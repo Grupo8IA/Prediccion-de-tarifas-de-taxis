{
 "cells": [
  {
   "cell_type": "markdown",
   "metadata": {},
   "source": [
    "# Construcción del Modelo Final"
   ]
  },
  {
   "cell_type": "markdown",
   "metadata": {
    "id": "yn46CYoI5x1P"
   },
   "source": [
    "Inicialmente se planteó evaluar diferentes modelos para seleccionar uno con un score alto. Los modelos planteados fueron KNN, Random Forest, Ada Boost, Gradient Boosting, XGBoost. Se obtuvieron 0.81-4.5, 0.79-4.6, 0.53-7.11, 0.80-5.49 y 0.89-3.42 de score y rmse respectivamente. Por otro lado debido a que Sklearn recomendaba usar otros modelos como Light Gradient Boosting Machine y Hist Gradient Boosting para datos grandes, se realizaron pruebas con estos modelos obteniento un score y rmse máximo de  0.8974-3.31 y 0.8909-3.41 respectivamente. Por lo tanto nuestro mejor modelo es la de Light Gradient Boosting.  \n"
   ]
  },
  {
   "cell_type": "markdown",
   "metadata": {
    "id": "Hz7hQDCLSppW"
   },
   "source": [
    "# Gradient Boosting"
   ]
  },
  {
   "cell_type": "markdown",
   "metadata": {
    "id": "8jU9Niyx-NHr"
   },
   "source": [
    "Este es el modelo base de Gradient Boosting Regressor"
   ]
  },
  {
   "cell_type": "code",
   "execution_count": null,
   "metadata": {
    "colab": {
     "base_uri": "https://localhost:8080/"
    },
    "id": "B7pWgWN0SnNP",
    "outputId": "12f92919-84bb-4a3f-8c23-0cedd01484aa"
   },
   "outputs": [
    {
     "name": "stdout",
     "output_type": "stream",
     "text": [
      "Mounted at /content/drive/\n"
     ]
    }
   ],
   "source": [
    "from google.colab import drive\n",
    "drive.mount('/content/drive/')"
   ]
  },
  {
   "cell_type": "code",
   "execution_count": null,
   "metadata": {
    "colab": {
     "base_uri": "https://localhost:8080/"
    },
    "id": "r8_wxV7yS6M6",
    "outputId": "6e5be0b2-ea80-419c-d8c5-265b60ba6175"
   },
   "outputs": [
    {
     "name": "stdout",
     "output_type": "stream",
     "text": [
      "Drive already mounted at /gdrive; to attempt to forcibly remount, call drive.mount(\"/gdrive\", force_remount=True).\n",
      "/gdrive/MyDrive\n"
     ]
    }
   ],
   "source": [
    "drive.mount('/gdrive')\n",
    "%cd /gdrive/MyDrive/"
   ]
  },
  {
   "cell_type": "code",
   "execution_count": null,
   "metadata": {
    "id": "wmOvcLgZS8uE"
   },
   "outputs": [],
   "source": [
    "import pandas as pd\n",
    "import numpy as np"
   ]
  },
  {
   "cell_type": "code",
   "execution_count": null,
   "metadata": {
    "colab": {
     "base_uri": "https://localhost:8080/",
     "height": 309
    },
    "id": "nfQr_kEWTCGr",
    "outputId": "586e4393-7e4a-48dc-87b8-a9db07ab0027"
   },
   "outputs": [
    {
     "data": {
      "text/html": [
       "<div>\n",
       "<style scoped>\n",
       "    .dataframe tbody tr th:only-of-type {\n",
       "        vertical-align: middle;\n",
       "    }\n",
       "\n",
       "    .dataframe tbody tr th {\n",
       "        vertical-align: top;\n",
       "    }\n",
       "\n",
       "    .dataframe thead th {\n",
       "        text-align: right;\n",
       "    }\n",
       "</style>\n",
       "<table border=\"1\" class=\"dataframe\">\n",
       "  <thead>\n",
       "    <tr style=\"text-align: right;\">\n",
       "      <th></th>\n",
       "      <th>key</th>\n",
       "      <th>pickup_datetime</th>\n",
       "      <th>pickup_latitude</th>\n",
       "      <th>pickup_longitude</th>\n",
       "      <th>dropoff_latitude</th>\n",
       "      <th>dropoff_longitude</th>\n",
       "      <th>passenger_count</th>\n",
       "      <th>day</th>\n",
       "      <th>hour</th>\n",
       "      <th>week</th>\n",
       "      <th>trayecto_nocturno</th>\n",
       "      <th>hora_punta</th>\n",
       "      <th>year</th>\n",
       "      <th>aeropuerto</th>\n",
       "      <th>day_of_month</th>\n",
       "      <th>fare_amount</th>\n",
       "    </tr>\n",
       "  </thead>\n",
       "  <tbody>\n",
       "    <tr>\n",
       "      <th>0</th>\n",
       "      <td>2014-02-19 07:22:00.00000074</td>\n",
       "      <td>2014-02-19 07:22:00 UTC</td>\n",
       "      <td>40.760465</td>\n",
       "      <td>-73.986430</td>\n",
       "      <td>40.737075</td>\n",
       "      <td>-73.988990</td>\n",
       "      <td>1</td>\n",
       "      <td>2</td>\n",
       "      <td>7.366667</td>\n",
       "      <td>8</td>\n",
       "      <td>0</td>\n",
       "      <td>0</td>\n",
       "      <td>2014</td>\n",
       "      <td>0</td>\n",
       "      <td>19</td>\n",
       "      <td>12.50</td>\n",
       "    </tr>\n",
       "    <tr>\n",
       "      <th>1</th>\n",
       "      <td>2014-12-06 20:36:22.0000008</td>\n",
       "      <td>2014-12-06 20:36:22 UTC</td>\n",
       "      <td>40.751902</td>\n",
       "      <td>-73.979815</td>\n",
       "      <td>40.755481</td>\n",
       "      <td>-73.979446</td>\n",
       "      <td>1</td>\n",
       "      <td>5</td>\n",
       "      <td>20.600000</td>\n",
       "      <td>49</td>\n",
       "      <td>1</td>\n",
       "      <td>1</td>\n",
       "      <td>2014</td>\n",
       "      <td>0</td>\n",
       "      <td>6</td>\n",
       "      <td>4.00</td>\n",
       "    </tr>\n",
       "    <tr>\n",
       "      <th>2</th>\n",
       "      <td>2014-02-19 16:03:00.000000160</td>\n",
       "      <td>2014-02-19 16:03:00 UTC</td>\n",
       "      <td>40.752422</td>\n",
       "      <td>-73.976075</td>\n",
       "      <td>40.759285</td>\n",
       "      <td>-73.981082</td>\n",
       "      <td>1</td>\n",
       "      <td>2</td>\n",
       "      <td>16.050000</td>\n",
       "      <td>8</td>\n",
       "      <td>0</td>\n",
       "      <td>1</td>\n",
       "      <td>2014</td>\n",
       "      <td>0</td>\n",
       "      <td>19</td>\n",
       "      <td>5.50</td>\n",
       "    </tr>\n",
       "    <tr>\n",
       "      <th>3</th>\n",
       "      <td>2015-06-21 21:46:34.0000001</td>\n",
       "      <td>2015-06-21 21:46:34 UTC</td>\n",
       "      <td>40.717667</td>\n",
       "      <td>-74.010483</td>\n",
       "      <td>40.660366</td>\n",
       "      <td>-73.985771</td>\n",
       "      <td>1</td>\n",
       "      <td>6</td>\n",
       "      <td>21.766667</td>\n",
       "      <td>25</td>\n",
       "      <td>1</td>\n",
       "      <td>0</td>\n",
       "      <td>2015</td>\n",
       "      <td>0</td>\n",
       "      <td>21</td>\n",
       "      <td>22.54</td>\n",
       "    </tr>\n",
       "    <tr>\n",
       "      <th>4</th>\n",
       "      <td>2015-01-11 03:15:38.0000001</td>\n",
       "      <td>2015-01-11 03:15:38 UTC</td>\n",
       "      <td>40.738720</td>\n",
       "      <td>-73.983330</td>\n",
       "      <td>40.847225</td>\n",
       "      <td>-73.933197</td>\n",
       "      <td>1</td>\n",
       "      <td>6</td>\n",
       "      <td>3.250000</td>\n",
       "      <td>2</td>\n",
       "      <td>1</td>\n",
       "      <td>0</td>\n",
       "      <td>2015</td>\n",
       "      <td>0</td>\n",
       "      <td>11</td>\n",
       "      <td>58.00</td>\n",
       "    </tr>\n",
       "  </tbody>\n",
       "</table>\n",
       "</div>"
      ],
      "text/plain": [
       "                             key  ... fare_amount\n",
       "0   2014-02-19 07:22:00.00000074  ...       12.50\n",
       "1    2014-12-06 20:36:22.0000008  ...        4.00\n",
       "2  2014-02-19 16:03:00.000000160  ...        5.50\n",
       "3    2015-06-21 21:46:34.0000001  ...       22.54\n",
       "4    2015-01-11 03:15:38.0000001  ...       58.00\n",
       "\n",
       "[5 rows x 16 columns]"
      ]
     },
     "execution_count": 6,
     "metadata": {
      "tags": []
     },
     "output_type": "execute_result"
    }
   ],
   "source": [
    "dtypes = {\n",
    "      'key': 'object',\n",
    "      'fare_amount': 'float64',\n",
    "      'pickup_datetime': 'object',\n",
    "      'pickup_longitude': 'float64', \n",
    "      'pickup_latitude': 'float64',\n",
    "      'dropoff_longitude': 'float64',\n",
    "      'dropoff_latitude': 'float64',\n",
    "      'passenger_count': 'int64',\n",
    "      'day':'int64',\n",
    "      'week':'int64',\n",
    "      'trayecto_nocturno':'int64',\n",
    "      'hora_punta':'int64',\n",
    "      'year':'int64',\n",
    "      'aeropuerto':'int64',\n",
    "      'day_of_month':'int64'\n",
    "      \n",
    "    \n",
    "}\n",
    "df = pd.read_csv(\"train_data.csv\", dtype=dtypes)\n",
    "df = df[['key', 'pickup_datetime', 'pickup_latitude', 'pickup_longitude', 'dropoff_latitude', 'dropoff_longitude', 'passenger_count', 'day', 'hour', 'week', 'trayecto_nocturno','hora_punta','year','aeropuerto','day_of_month','fare_amount']]\n",
    "df.head()"
   ]
  },
  {
   "cell_type": "code",
   "execution_count": null,
   "metadata": {
    "colab": {
     "base_uri": "https://localhost:8080/"
    },
    "id": "QWqmMecyTDn1",
    "outputId": "e46e0093-1f6f-4551-d42b-24bfcf495856"
   },
   "outputs": [
    {
     "name": "stdout",
     "output_type": "stream",
     "text": [
      "<class 'pandas.core.frame.DataFrame'>\n",
      "RangeIndex: 11773348 entries, 0 to 11773347\n",
      "Data columns (total 16 columns):\n",
      " #   Column             Dtype  \n",
      "---  ------             -----  \n",
      " 0   key                object \n",
      " 1   pickup_datetime    object \n",
      " 2   pickup_latitude    float64\n",
      " 3   pickup_longitude   float64\n",
      " 4   dropoff_latitude   float64\n",
      " 5   dropoff_longitude  float64\n",
      " 6   passenger_count    int64  \n",
      " 7   day                int64  \n",
      " 8   hour               float64\n",
      " 9   week               int64  \n",
      " 10  trayecto_nocturno  int64  \n",
      " 11  hora_punta         int64  \n",
      " 12  year               int64  \n",
      " 13  aeropuerto         int64  \n",
      " 14  day_of_month       int64  \n",
      " 15  fare_amount        float64\n",
      "dtypes: float64(6), int64(8), object(2)\n",
      "memory usage: 1.4+ GB\n"
     ]
    }
   ],
   "source": [
    "df.info()"
   ]
  },
  {
   "cell_type": "code",
   "execution_count": null,
   "metadata": {
    "colab": {
     "base_uri": "https://localhost:8080/",
     "height": 317
    },
    "id": "wzE2HrSnvWa9",
    "outputId": "97443ac9-9e3d-4c89-ded4-4f424253cba4"
   },
   "outputs": [
    {
     "data": {
      "text/html": [
       "<div>\n",
       "<style scoped>\n",
       "    .dataframe tbody tr th:only-of-type {\n",
       "        vertical-align: middle;\n",
       "    }\n",
       "\n",
       "    .dataframe tbody tr th {\n",
       "        vertical-align: top;\n",
       "    }\n",
       "\n",
       "    .dataframe thead th {\n",
       "        text-align: right;\n",
       "    }\n",
       "</style>\n",
       "<table border=\"1\" class=\"dataframe\">\n",
       "  <thead>\n",
       "    <tr style=\"text-align: right;\">\n",
       "      <th></th>\n",
       "      <th>pickup_latitude</th>\n",
       "      <th>pickup_longitude</th>\n",
       "      <th>dropoff_latitude</th>\n",
       "      <th>dropoff_longitude</th>\n",
       "      <th>passenger_count</th>\n",
       "      <th>day</th>\n",
       "      <th>hour</th>\n",
       "      <th>week</th>\n",
       "      <th>trayecto_nocturno</th>\n",
       "      <th>hora_punta</th>\n",
       "      <th>year</th>\n",
       "      <th>aeropuerto</th>\n",
       "      <th>day_of_month</th>\n",
       "      <th>fare_amount</th>\n",
       "    </tr>\n",
       "  </thead>\n",
       "  <tbody>\n",
       "    <tr>\n",
       "      <th>count</th>\n",
       "      <td>1.177335e+07</td>\n",
       "      <td>1.177335e+07</td>\n",
       "      <td>1.177335e+07</td>\n",
       "      <td>1.177335e+07</td>\n",
       "      <td>1.177335e+07</td>\n",
       "      <td>1.177335e+07</td>\n",
       "      <td>1.177335e+07</td>\n",
       "      <td>1.177335e+07</td>\n",
       "      <td>1.177335e+07</td>\n",
       "      <td>1.177335e+07</td>\n",
       "      <td>1.177335e+07</td>\n",
       "      <td>1.177335e+07</td>\n",
       "      <td>1.177335e+07</td>\n",
       "      <td>1.177335e+07</td>\n",
       "    </tr>\n",
       "    <tr>\n",
       "      <th>mean</th>\n",
       "      <td>4.075075e+01</td>\n",
       "      <td>-7.397478e+01</td>\n",
       "      <td>4.075136e+01</td>\n",
       "      <td>-7.397370e+01</td>\n",
       "      <td>1.693342e+00</td>\n",
       "      <td>3.066519e+00</td>\n",
       "      <td>1.402191e+01</td>\n",
       "      <td>2.209214e+01</td>\n",
       "      <td>3.716792e-01</td>\n",
       "      <td>2.708076e-01</td>\n",
       "      <td>2.014319e+03</td>\n",
       "      <td>2.106478e-02</td>\n",
       "      <td>1.559621e+01</td>\n",
       "      <td>1.271158e+01</td>\n",
       "    </tr>\n",
       "    <tr>\n",
       "      <th>std</th>\n",
       "      <td>4.082624e-02</td>\n",
       "      <td>6.271784e-02</td>\n",
       "      <td>3.470967e-02</td>\n",
       "      <td>4.844846e-02</td>\n",
       "      <td>1.352072e+00</td>\n",
       "      <td>1.957809e+00</td>\n",
       "      <td>6.516397e+00</td>\n",
       "      <td>1.422517e+01</td>\n",
       "      <td>4.832534e-01</td>\n",
       "      <td>4.443769e-01</td>\n",
       "      <td>4.660411e-01</td>\n",
       "      <td>1.436003e-01</td>\n",
       "      <td>8.721748e+00</td>\n",
       "      <td>1.033571e+01</td>\n",
       "    </tr>\n",
       "    <tr>\n",
       "      <th>min</th>\n",
       "      <td>7.296320e-01</td>\n",
       "      <td>-1.219261e+02</td>\n",
       "      <td>3.263495e+01</td>\n",
       "      <td>-1.219261e+02</td>\n",
       "      <td>1.000000e+00</td>\n",
       "      <td>0.000000e+00</td>\n",
       "      <td>0.000000e+00</td>\n",
       "      <td>1.000000e+00</td>\n",
       "      <td>0.000000e+00</td>\n",
       "      <td>0.000000e+00</td>\n",
       "      <td>2.014000e+03</td>\n",
       "      <td>0.000000e+00</td>\n",
       "      <td>1.000000e+00</td>\n",
       "      <td>2.500000e+00</td>\n",
       "    </tr>\n",
       "    <tr>\n",
       "      <th>25%</th>\n",
       "      <td>4.073669e+01</td>\n",
       "      <td>-7.399214e+01</td>\n",
       "      <td>4.073548e+01</td>\n",
       "      <td>-7.399140e+01</td>\n",
       "      <td>1.000000e+00</td>\n",
       "      <td>1.000000e+00</td>\n",
       "      <td>9.433333e+00</td>\n",
       "      <td>1.000000e+01</td>\n",
       "      <td>0.000000e+00</td>\n",
       "      <td>0.000000e+00</td>\n",
       "      <td>2.014000e+03</td>\n",
       "      <td>0.000000e+00</td>\n",
       "      <td>8.000000e+00</td>\n",
       "      <td>6.500000e+00</td>\n",
       "    </tr>\n",
       "    <tr>\n",
       "      <th>50%</th>\n",
       "      <td>4.075341e+01</td>\n",
       "      <td>-7.398202e+01</td>\n",
       "      <td>4.075397e+01</td>\n",
       "      <td>-7.398019e+01</td>\n",
       "      <td>1.000000e+00</td>\n",
       "      <td>3.000000e+00</td>\n",
       "      <td>1.465000e+01</td>\n",
       "      <td>2.000000e+01</td>\n",
       "      <td>0.000000e+00</td>\n",
       "      <td>0.000000e+00</td>\n",
       "      <td>2.014000e+03</td>\n",
       "      <td>0.000000e+00</td>\n",
       "      <td>1.600000e+01</td>\n",
       "      <td>9.500000e+00</td>\n",
       "    </tr>\n",
       "    <tr>\n",
       "      <th>75%</th>\n",
       "      <td>4.076764e+01</td>\n",
       "      <td>-7.396800e+01</td>\n",
       "      <td>4.076867e+01</td>\n",
       "      <td>-7.396394e+01</td>\n",
       "      <td>2.000000e+00</td>\n",
       "      <td>5.000000e+00</td>\n",
       "      <td>1.956667e+01</td>\n",
       "      <td>3.300000e+01</td>\n",
       "      <td>1.000000e+00</td>\n",
       "      <td>1.000000e+00</td>\n",
       "      <td>2.015000e+03</td>\n",
       "      <td>0.000000e+00</td>\n",
       "      <td>2.300000e+01</td>\n",
       "      <td>1.450000e+01</td>\n",
       "    </tr>\n",
       "    <tr>\n",
       "      <th>max</th>\n",
       "      <td>5.537514e+01</td>\n",
       "      <td>-1.666700e-02</td>\n",
       "      <td>4.993002e+01</td>\n",
       "      <td>-6.523427e+01</td>\n",
       "      <td>6.000000e+00</td>\n",
       "      <td>6.000000e+00</td>\n",
       "      <td>2.398333e+01</td>\n",
       "      <td>5.200000e+01</td>\n",
       "      <td>1.000000e+00</td>\n",
       "      <td>1.000000e+00</td>\n",
       "      <td>2.015000e+03</td>\n",
       "      <td>1.000000e+00</td>\n",
       "      <td>3.100000e+01</td>\n",
       "      <td>7.390000e+01</td>\n",
       "    </tr>\n",
       "  </tbody>\n",
       "</table>\n",
       "</div>"
      ],
      "text/plain": [
       "       pickup_latitude  pickup_longitude  ...  day_of_month   fare_amount\n",
       "count     1.177335e+07      1.177335e+07  ...  1.177335e+07  1.177335e+07\n",
       "mean      4.075075e+01     -7.397478e+01  ...  1.559621e+01  1.271158e+01\n",
       "std       4.082624e-02      6.271784e-02  ...  8.721748e+00  1.033571e+01\n",
       "min       7.296320e-01     -1.219261e+02  ...  1.000000e+00  2.500000e+00\n",
       "25%       4.073669e+01     -7.399214e+01  ...  8.000000e+00  6.500000e+00\n",
       "50%       4.075341e+01     -7.398202e+01  ...  1.600000e+01  9.500000e+00\n",
       "75%       4.076764e+01     -7.396800e+01  ...  2.300000e+01  1.450000e+01\n",
       "max       5.537514e+01     -1.666700e-02  ...  3.100000e+01  7.390000e+01\n",
       "\n",
       "[8 rows x 14 columns]"
      ]
     },
     "execution_count": 6,
     "metadata": {
      "tags": []
     },
     "output_type": "execute_result"
    }
   ],
   "source": [
    "df.describe()"
   ]
  },
  {
   "cell_type": "code",
   "execution_count": null,
   "metadata": {
    "colab": {
     "base_uri": "https://localhost:8080/",
     "height": 282
    },
    "id": "HMXBHLEQinAE",
    "outputId": "569c338a-d534-4a8d-b720-30cdaf8531f3"
   },
   "outputs": [
    {
     "data": {
      "text/plain": [
       "<matplotlib.axes._subplots.AxesSubplot at 0x7f3cbb194610>"
      ]
     },
     "execution_count": 6,
     "metadata": {
      "tags": []
     },
     "output_type": "execute_result"
    },
    {
     "data": {
      "image/png": "[encoded data removed]",
      "text/plain": [
       "<Figure size 432x288 with 1 Axes>"
      ]
     },
     "metadata": {
      "tags": []
     },
     "output_type": "display_data"
    }
   ],
   "source": [
    "import seaborn as sns\n",
    "data = df[['pickup_latitude', 'pickup_longitude', 'dropoff_latitude', 'dropoff_longitude']]\n",
    "sns.kdeplot(data=data)"
   ]
  },
  {
   "cell_type": "markdown",
   "metadata": {
    "id": "ouFomPK6Upct"
   },
   "source": [
    "## Estandarización y normalización de la data"
   ]
  },
  {
   "cell_type": "code",
   "execution_count": null,
   "metadata": {
    "id": "q6pX6T00Ur7q"
   },
   "outputs": [],
   "source": [
    "from sklearn.preprocessing import StandardScaler\n",
    "from sklearn.preprocessing import MinMaxScaler\n",
    "standar = StandardScaler()\n",
    "normal = MinMaxScaler()\n",
    "numericasReales = ['pickup_latitude', 'pickup_longitude', 'dropoff_latitude', 'dropoff_longitude','hour']\n",
    "numericasBinarias = ['trayecto_nocturno','hora_punta','year','aeropuerto']\n",
    "numericas = ['passenger_count','week','day','day_of_month']\n",
    "data1 = pd.DataFrame(standar.fit_transform(df[numericasReales]), columns = numericasReales)\n",
    "data2 = pd.DataFrame(normal.fit_transform(df[numericas]), columns = numericas)\n",
    "dff = pd.concat([data1,data2,df[numericasBinarias]],axis=1)"
   ]
  },
  {
   "cell_type": "code",
   "execution_count": null,
   "metadata": {
    "colab": {
     "base_uri": "https://localhost:8080/",
     "height": 224
    },
    "id": "NUxpaDA2ildy",
    "outputId": "4b55c78b-a206-4fef-a82e-a8ecbb0e37f2"
   },
   "outputs": [
    {
     "data": {
      "text/html": [
       "<div>\n",
       "<style scoped>\n",
       "    .dataframe tbody tr th:only-of-type {\n",
       "        vertical-align: middle;\n",
       "    }\n",
       "\n",
       "    .dataframe tbody tr th {\n",
       "        vertical-align: top;\n",
       "    }\n",
       "\n",
       "    .dataframe thead th {\n",
       "        text-align: right;\n",
       "    }\n",
       "</style>\n",
       "<table border=\"1\" class=\"dataframe\">\n",
       "  <thead>\n",
       "    <tr style=\"text-align: right;\">\n",
       "      <th></th>\n",
       "      <th>pickup_latitude</th>\n",
       "      <th>pickup_longitude</th>\n",
       "      <th>dropoff_latitude</th>\n",
       "      <th>dropoff_longitude</th>\n",
       "      <th>hour</th>\n",
       "      <th>passenger_count</th>\n",
       "      <th>week</th>\n",
       "      <th>day</th>\n",
       "      <th>day_of_month</th>\n",
       "      <th>trayecto_nocturno</th>\n",
       "      <th>hora_punta</th>\n",
       "      <th>year</th>\n",
       "      <th>aeropuerto</th>\n",
       "    </tr>\n",
       "  </thead>\n",
       "  <tbody>\n",
       "    <tr>\n",
       "      <th>0</th>\n",
       "      <td>0.238000</td>\n",
       "      <td>-0.185771</td>\n",
       "      <td>-0.411444</td>\n",
       "      <td>-0.315620</td>\n",
       "      <td>-1.021307</td>\n",
       "      <td>0.0</td>\n",
       "      <td>0.137255</td>\n",
       "      <td>0.333333</td>\n",
       "      <td>0.600000</td>\n",
       "      <td>0</td>\n",
       "      <td>0</td>\n",
       "      <td>2014</td>\n",
       "      <td>0</td>\n",
       "    </tr>\n",
       "    <tr>\n",
       "      <th>1</th>\n",
       "      <td>0.028257</td>\n",
       "      <td>-0.080298</td>\n",
       "      <td>0.118840</td>\n",
       "      <td>-0.118627</td>\n",
       "      <td>1.009467</td>\n",
       "      <td>0.0</td>\n",
       "      <td>0.941176</td>\n",
       "      <td>0.833333</td>\n",
       "      <td>0.166667</td>\n",
       "      <td>1</td>\n",
       "      <td>1</td>\n",
       "      <td>2014</td>\n",
       "      <td>0</td>\n",
       "    </tr>\n",
       "    <tr>\n",
       "      <th>2</th>\n",
       "      <td>0.040994</td>\n",
       "      <td>-0.020666</td>\n",
       "      <td>0.228435</td>\n",
       "      <td>-0.152395</td>\n",
       "      <td>0.311229</td>\n",
       "      <td>0.0</td>\n",
       "      <td>0.137255</td>\n",
       "      <td>0.333333</td>\n",
       "      <td>0.600000</td>\n",
       "      <td>0</td>\n",
       "      <td>1</td>\n",
       "      <td>2014</td>\n",
       "      <td>0</td>\n",
       "    </tr>\n",
       "    <tr>\n",
       "      <th>3</th>\n",
       "      <td>-0.810306</td>\n",
       "      <td>-0.569279</td>\n",
       "      <td>-2.621461</td>\n",
       "      <td>-0.249181</td>\n",
       "      <td>1.188503</td>\n",
       "      <td>0.0</td>\n",
       "      <td>0.470588</td>\n",
       "      <td>1.000000</td>\n",
       "      <td>0.666667</td>\n",
       "      <td>1</td>\n",
       "      <td>0</td>\n",
       "      <td>2015</td>\n",
       "      <td>0</td>\n",
       "    </tr>\n",
       "    <tr>\n",
       "      <th>4</th>\n",
       "      <td>-0.294625</td>\n",
       "      <td>-0.136339</td>\n",
       "      <td>2.762029</td>\n",
       "      <td>0.835975</td>\n",
       "      <td>-1.653047</td>\n",
       "      <td>0.0</td>\n",
       "      <td>0.019608</td>\n",
       "      <td>1.000000</td>\n",
       "      <td>0.333333</td>\n",
       "      <td>1</td>\n",
       "      <td>0</td>\n",
       "      <td>2015</td>\n",
       "      <td>0</td>\n",
       "    </tr>\n",
       "  </tbody>\n",
       "</table>\n",
       "</div>"
      ],
      "text/plain": [
       "   pickup_latitude  pickup_longitude  ...  year  aeropuerto\n",
       "0         0.238000         -0.185771  ...  2014           0\n",
       "1         0.028257         -0.080298  ...  2014           0\n",
       "2         0.040994         -0.020666  ...  2014           0\n",
       "3        -0.810306         -0.569279  ...  2015           0\n",
       "4        -0.294625         -0.136339  ...  2015           0\n",
       "\n",
       "[5 rows x 13 columns]"
      ]
     },
     "execution_count": 8,
     "metadata": {
      "tags": []
     },
     "output_type": "execute_result"
    }
   ],
   "source": [
    "dff.head()"
   ]
  },
  {
   "cell_type": "code",
   "execution_count": null,
   "metadata": {
    "colab": {
     "base_uri": "https://localhost:8080/",
     "height": 297
    },
    "id": "8UPrnf9fxiQx",
    "outputId": "4786d9e6-8ed9-4a2a-bef2-d03e5aa8cb12"
   },
   "outputs": [
    {
     "data": {
      "text/plain": [
       "<matplotlib.axes._subplots.AxesSubplot at 0x7f3c22882f10>"
      ]
     },
     "execution_count": 15,
     "metadata": {
      "tags": []
     },
     "output_type": "execute_result"
    },
    {
     "data": {
      "image/png": "[encoded data removed]",
      "text/plain": [
       "<Figure size 432x288 with 1 Axes>"
      ]
     },
     "metadata": {
      "tags": []
     },
     "output_type": "display_data"
    }
   ],
   "source": [
    "sns.kdeplot(data=df['fare_amount'])"
   ]
  },
  {
   "cell_type": "markdown",
   "metadata": {
    "id": "4EII9wfvZww0"
   },
   "source": [
    "## Separación de la data"
   ]
  },
  {
   "cell_type": "code",
   "execution_count": null,
   "metadata": {
    "id": "wVRopyEMxt2C"
   },
   "outputs": [],
   "source": [
    "from sklearn.model_selection import train_test_split\n",
    "predictors = ['pickup_latitude', 'pickup_longitude', 'dropoff_latitude', 'dropoff_longitude', 'passenger_count', 'day', 'hour', 'week', 'trayecto_nocturno','hora_punta','year','aeropuerto','day_of_month']\n",
    "outcome = ['fare_amount']"
   ]
  },
  {
   "cell_type": "markdown",
   "metadata": {
    "id": "1jv4Incgtfw7"
   },
   "source": [
    "### Sin Preprocesamiento"
   ]
  },
  {
   "cell_type": "code",
   "execution_count": null,
   "metadata": {
    "id": "GeCKSVtfZ1to"
   },
   "outputs": [],
   "source": [
    "X = dff[predictors]\n",
    "y = df[outcome]\n",
    "X_train_val, X_test, y_train_val, y_test = train_test_split(X,y)\n",
    "X_train, X_val, y_train, y_val = train_test_split(X_train_val, y_train_val)"
   ]
  },
  {
   "cell_type": "markdown",
   "metadata": {
    "id": "P2fKIriStjD5"
   },
   "source": [
    "### Data con Preprocesamiento"
   ]
  },
  {
   "cell_type": "code",
   "execution_count": null,
   "metadata": {
    "id": "-28s9GsktoH5"
   },
   "outputs": [],
   "source": [
    "X2 = dff[predictors]\n",
    "y2 = df[outcome]\n",
    "X_train_val2, X_test2, y_train_val2, y_test2 = train_test_split(X2,y2)\n",
    "X_train2, X_val2, y_train2, y_val2 = train_test_split(X_train_val2, y_train_val2)"
   ]
  },
  {
   "cell_type": "markdown",
   "metadata": {
    "id": "f_iFwUf2V5qu"
   },
   "source": [
    "# Modelo"
   ]
  },
  {
   "cell_type": "code",
   "execution_count": null,
   "metadata": {
    "id": "jcbm8O1Zu8VE"
   },
   "outputs": [],
   "source": [
    "from sklearn.ensemble import GradientBoostingRegressor\n",
    "from sklearn.metrics import mean_squared_error"
   ]
  },
  {
   "cell_type": "markdown",
   "metadata": {
    "id": "xbxGtjwfzaw0"
   },
   "source": [
    "Primero probamos el modelo con la data sin preprocesar"
   ]
  },
  {
   "cell_type": "code",
   "execution_count": null,
   "metadata": {
    "colab": {
     "background_save": true,
     "base_uri": "https://localhost:8080/"
    },
    "id": "BteHf0aBV9iQ",
    "outputId": "f4087b72-7550-4e5c-f61b-e8e8665fb2c7"
   },
   "outputs": [
    {
     "name": "stderr",
     "output_type": "stream",
     "text": [
      "/usr/local/lib/python3.7/dist-packages/sklearn/ensemble/_gb.py:1454: DataConversionWarning: A column-vector y was passed when a 1d array was expected. Please change the shape of y to (n_samples, ), for example using ravel().\n",
      "  y = column_or_1d(y, warn=True)\n"
     ]
    }
   ],
   "source": [
    "\n",
    "gbrt = GradientBoostingRegressor()\n",
    "gbrt.fit(X_train, y_train)\n",
    "errors = [mean_squared_error(y_test, y_pred) for y_pred in gbrt.staged_predict(X_test)]"
   ]
  },
  {
   "cell_type": "code",
   "execution_count": null,
   "metadata": {
    "colab": {
     "base_uri": "https://localhost:8080/"
    },
    "id": "-SL-GDRiym-r",
    "outputId": "b48c3b5b-452a-4ff6-b100-81fd4a354869"
   },
   "outputs": [
    {
     "name": "stdout",
     "output_type": "stream",
     "text": [
      "5.49494370735245\n"
     ]
    }
   ],
   "source": [
    "print(np.sqrt(np.mean(errors)))"
   ]
  },
  {
   "cell_type": "code",
   "execution_count": null,
   "metadata": {
    "colab": {
     "base_uri": "https://localhost:8080/"
    },
    "id": "TVg95_-ryn0H",
    "outputId": "90c67208-d283-47f1-f43f-699359c03be0"
   },
   "outputs": [
    {
     "data": {
      "text/plain": [
       "0.8046842004090073"
      ]
     },
     "execution_count": 31,
     "metadata": {
      "tags": []
     },
     "output_type": "execute_result"
    }
   ],
   "source": [
    "gbrt.score(X_test,y_test)"
   ]
  },
  {
   "cell_type": "markdown",
   "metadata": {
    "id": "doFoyWy5z-uo"
   },
   "source": [
    "Luego probamos el modelo con la data preprocesada"
   ]
  },
  {
   "cell_type": "code",
   "execution_count": null,
   "metadata": {
    "colab": {
     "background_save": true,
     "base_uri": "https://localhost:8080/"
    },
    "id": "gWX0zrOlzH_n",
    "outputId": "7789dbd8-986a-4a34-9b67-d6e72819ec48"
   },
   "outputs": [
    {
     "name": "stderr",
     "output_type": "stream",
     "text": [
      "/usr/local/lib/python3.7/dist-packages/sklearn/ensemble/_gb.py:1454: DataConversionWarning: A column-vector y was passed when a 1d array was expected. Please change the shape of y to (n_samples, ), for example using ravel().\n",
      "  y = column_or_1d(y, warn=True)\n"
     ]
    }
   ],
   "source": [
    "gbrt2 = GradientBoostingRegressor()\n",
    "gbrt2.fit(X_train2, y_train2)"
   ]
  },
  {
   "cell_type": "code",
   "execution_count": null,
   "metadata": {
    "id": "ZXNmKJlszMVl"
   },
   "outputs": [],
   "source": [
    "from sklearn.metrics import mean_squared_error\n",
    "errors = [mean_squared_error(y_test2, y_pred) for y_pred in gbrt2.staged_predict(X_test2)]"
   ]
  },
  {
   "cell_type": "code",
   "execution_count": null,
   "metadata": {
    "colab": {
     "base_uri": "https://localhost:8080/"
    },
    "id": "SrDJGrlfzNRu",
    "outputId": "7ada736b-d6a7-485f-d1da-ccd15131663c"
   },
   "outputs": [
    {
     "name": "stdout",
     "output_type": "stream",
     "text": [
      "5.50430130454259\n"
     ]
    }
   ],
   "source": [
    "print(np.sqrt(np.mean(errors)))"
   ]
  },
  {
   "cell_type": "code",
   "execution_count": null,
   "metadata": {
    "colab": {
     "base_uri": "https://localhost:8080/"
    },
    "id": "6EzhFwv_zPNj",
    "outputId": "45067984-26bf-4f67-efd5-614d115106e2"
   },
   "outputs": [
    {
     "data": {
      "text/plain": [
       "0.802611129674834"
      ]
     },
     "execution_count": 17,
     "metadata": {
      "tags": []
     },
     "output_type": "execute_result"
    }
   ],
   "source": [
    "gbrt2.score(X_test2,y_test2)"
   ]
  },
  {
   "cell_type": "markdown",
   "metadata": {
    "id": "Hwmd7IpCmbex"
   },
   "source": [
    "Notamos que el modelo sin preprocesar obtuvo un mayor score (80.26%) comparado con el modelo entrenado usando data preprocesada. Sin embargo, este modelo no permite trabajar con datos muy grandes debido a su lentitud. Debido a esto Sklearn sugiere usar el modelo Light Gradient Boosting Machine (LightGBM), este modelo realiza parte del proceso de manera distribuida, por lo que es mucho más rápido que el modelo básico."
   ]
  },
  {
   "cell_type": "markdown",
   "metadata": {
    "id": "IRVQ5m4e24Xr"
   },
   "source": [
    "Mediante este modelo también evaluaremos el modelo usando data que ha sido preprocesada y data sin preprocesamiento, esto debido a que en el modelo básico se observó que obtuvo un mejor score con la data sin preprocesar"
   ]
  },
  {
   "cell_type": "markdown",
   "metadata": {
    "id": "ZPblSx-oZVc7"
   },
   "source": [
    "## Light Gradient Boosting Machine"
   ]
  },
  {
   "cell_type": "code",
   "execution_count": null,
   "metadata": {},
   "outputs": [],
   "source": []
  }
 ],
 "metadata": {
  "accelerator": "TPU",
  "colab": {
   "collapsed_sections": [],
   "machine_shape": "hm",
   "name": "ModeloFinal.ipynb",
   "provenance": []
  },
  "kernelspec": {
   "display_name": "Python 3",
   "language": "python",
   "name": "python3"
  },
  "language_info": {
   "codemirror_mode": {
    "name": "ipython",
    "version": 3
   },
   "file_extension": ".py",
   "mimetype": "text/x-python",
   "name": "python",
   "nbconvert_exporter": "python",
   "pygments_lexer": "ipython3",
   "version": "3.8.8"
  }
 },
 "nbformat": 4,
 "nbformat_minor": 1
}
