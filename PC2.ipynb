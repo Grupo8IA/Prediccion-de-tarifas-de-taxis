{
  "nbformat": 4,
  "nbformat_minor": 0,
  "metadata": {
    "colab": {
      "name": "PC2.ipynb",
      "provenance": [],
      "collapsed_sections": [
        "qs04f5FnTvqO"
      ],
      "machine_shape": "hm"
    },
    "kernelspec": {
      "name": "python3",
      "display_name": "Python 3"
    },
    "accelerator": "TPU"
  },
  "cells": [
    {
      "cell_type": "code",
      "metadata": {
        "id": "hhGH-rNMPn8g"
      },
      "source": [
        "from google.colab import drive\n",
        "drive.mount('/content/drive/')"
      ],
      "execution_count": null,
      "outputs": []
    },
    {
      "cell_type": "code",
      "metadata": {
        "id": "Bg6tY4noF7IC",
        "colab": {
          "base_uri": "https://localhost:8080/"
        },
        "outputId": "0e6028bf-541a-406a-e9a7-19fbf6e24dd0"
      },
      "source": [
        "drive.mount('/gdrive')\n",
        "%cd /gdrive/MyDrive/\n",
        "#%ls"
      ],
      "execution_count": null,
      "outputs": [
        {
          "output_type": "stream",
          "text": [
            "Mounted at /gdrive\n",
            "/gdrive/MyDrive\n"
          ],
          "name": "stdout"
        }
      ]
    },
    {
      "cell_type": "code",
      "metadata": {
        "id": "IJQfAQHyQpq3"
      },
      "source": [
        "import pandas as pd\n",
        "import numpy as np"
      ],
      "execution_count": null,
      "outputs": []
    },
    {
      "cell_type": "code",
      "metadata": {
        "id": "OYFB6QLjEGrN"
      },
      "source": [
        "#np.set_printoptions(formatter={'float_kind':'{:f}'.format})"
      ],
      "execution_count": null,
      "outputs": []
    },
    {
      "cell_type": "markdown",
      "metadata": {
        "id": "m13y9h8hRgU-"
      },
      "source": [
        "#### Importar data total"
      ]
    },
    {
      "cell_type": "code",
      "metadata": {
        "colab": {
          "base_uri": "https://localhost:8080/",
          "height": 204
        },
        "id": "J-1GOuqkF_fu",
        "outputId": "9f63023f-804e-4964-fbe7-ae7c19d4b588"
      },
      "source": [
        "df = pd.read_csv(\"train.csv\")\n",
        "df.head()"
      ],
      "execution_count": null,
      "outputs": [
        {
          "output_type": "execute_result",
          "data": {
            "text/html": [
              "<div>\n",
              "<style scoped>\n",
              "    .dataframe tbody tr th:only-of-type {\n",
              "        vertical-align: middle;\n",
              "    }\n",
              "\n",
              "    .dataframe tbody tr th {\n",
              "        vertical-align: top;\n",
              "    }\n",
              "\n",
              "    .dataframe thead th {\n",
              "        text-align: right;\n",
              "    }\n",
              "</style>\n",
              "<table border=\"1\" class=\"dataframe\">\n",
              "  <thead>\n",
              "    <tr style=\"text-align: right;\">\n",
              "      <th></th>\n",
              "      <th>key</th>\n",
              "      <th>fare_amount</th>\n",
              "      <th>pickup_datetime</th>\n",
              "      <th>pickup_longitude</th>\n",
              "      <th>pickup_latitude</th>\n",
              "      <th>dropoff_longitude</th>\n",
              "      <th>dropoff_latitude</th>\n",
              "      <th>passenger_count</th>\n",
              "    </tr>\n",
              "  </thead>\n",
              "  <tbody>\n",
              "    <tr>\n",
              "      <th>0</th>\n",
              "      <td>2009-06-15 17:26:21.0000001</td>\n",
              "      <td>4.5</td>\n",
              "      <td>2009-06-15 17:26:21 UTC</td>\n",
              "      <td>-73.844311</td>\n",
              "      <td>40.721319</td>\n",
              "      <td>-73.841610</td>\n",
              "      <td>40.712278</td>\n",
              "      <td>1</td>\n",
              "    </tr>\n",
              "    <tr>\n",
              "      <th>1</th>\n",
              "      <td>2010-01-05 16:52:16.0000002</td>\n",
              "      <td>16.9</td>\n",
              "      <td>2010-01-05 16:52:16 UTC</td>\n",
              "      <td>-74.016048</td>\n",
              "      <td>40.711303</td>\n",
              "      <td>-73.979268</td>\n",
              "      <td>40.782004</td>\n",
              "      <td>1</td>\n",
              "    </tr>\n",
              "    <tr>\n",
              "      <th>2</th>\n",
              "      <td>2011-08-18 00:35:00.00000049</td>\n",
              "      <td>5.7</td>\n",
              "      <td>2011-08-18 00:35:00 UTC</td>\n",
              "      <td>-73.982738</td>\n",
              "      <td>40.761270</td>\n",
              "      <td>-73.991242</td>\n",
              "      <td>40.750562</td>\n",
              "      <td>2</td>\n",
              "    </tr>\n",
              "    <tr>\n",
              "      <th>3</th>\n",
              "      <td>2012-04-21 04:30:42.0000001</td>\n",
              "      <td>7.7</td>\n",
              "      <td>2012-04-21 04:30:42 UTC</td>\n",
              "      <td>-73.987130</td>\n",
              "      <td>40.733143</td>\n",
              "      <td>-73.991567</td>\n",
              "      <td>40.758092</td>\n",
              "      <td>1</td>\n",
              "    </tr>\n",
              "    <tr>\n",
              "      <th>4</th>\n",
              "      <td>2010-03-09 07:51:00.000000135</td>\n",
              "      <td>5.3</td>\n",
              "      <td>2010-03-09 07:51:00 UTC</td>\n",
              "      <td>-73.968095</td>\n",
              "      <td>40.768008</td>\n",
              "      <td>-73.956655</td>\n",
              "      <td>40.783762</td>\n",
              "      <td>1</td>\n",
              "    </tr>\n",
              "  </tbody>\n",
              "</table>\n",
              "</div>"
            ],
            "text/plain": [
              "                             key  ...  passenger_count\n",
              "0    2009-06-15 17:26:21.0000001  ...                1\n",
              "1    2010-01-05 16:52:16.0000002  ...                1\n",
              "2   2011-08-18 00:35:00.00000049  ...                2\n",
              "3    2012-04-21 04:30:42.0000001  ...                1\n",
              "4  2010-03-09 07:51:00.000000135  ...                1\n",
              "\n",
              "[5 rows x 8 columns]"
            ]
          },
          "metadata": {
            "tags": []
          },
          "execution_count": 9
        }
      ]
    },
    {
      "cell_type": "markdown",
      "metadata": {
        "id": "GYEk5IMwTz4z"
      },
      "source": [
        "#### Primera revisión de la data completa"
      ]
    },
    {
      "cell_type": "markdown",
      "metadata": {
        "id": "vj4jep39qtw5"
      },
      "source": [
        "Valores duplicados"
      ]
    },
    {
      "cell_type": "code",
      "metadata": {
        "colab": {
          "base_uri": "https://localhost:8080/",
          "height": 49
        },
        "id": "evoC50cPhCIc",
        "outputId": "d8ca24fb-68cf-44d2-eca9-cc6e1a4f516f"
      },
      "source": [
        "duplicateRowsDF = df[df.duplicated()]\n",
        "duplicateRowsDF"
      ],
      "execution_count": null,
      "outputs": [
        {
          "output_type": "execute_result",
          "data": {
            "text/html": [
              "<div>\n",
              "<style scoped>\n",
              "    .dataframe tbody tr th:only-of-type {\n",
              "        vertical-align: middle;\n",
              "    }\n",
              "\n",
              "    .dataframe tbody tr th {\n",
              "        vertical-align: top;\n",
              "    }\n",
              "\n",
              "    .dataframe thead th {\n",
              "        text-align: right;\n",
              "    }\n",
              "</style>\n",
              "<table border=\"1\" class=\"dataframe\">\n",
              "  <thead>\n",
              "    <tr style=\"text-align: right;\">\n",
              "      <th></th>\n",
              "      <th>key</th>\n",
              "      <th>fare_amount</th>\n",
              "      <th>pickup_datetime</th>\n",
              "      <th>pickup_longitude</th>\n",
              "      <th>pickup_latitude</th>\n",
              "      <th>dropoff_longitude</th>\n",
              "      <th>dropoff_latitude</th>\n",
              "      <th>passenger_count</th>\n",
              "    </tr>\n",
              "  </thead>\n",
              "  <tbody>\n",
              "  </tbody>\n",
              "</table>\n",
              "</div>"
            ],
            "text/plain": [
              "Empty DataFrame\n",
              "Columns: [key, fare_amount, pickup_datetime, pickup_longitude, pickup_latitude, dropoff_longitude, dropoff_latitude, passenger_count]\n",
              "Index: []"
            ]
          },
          "metadata": {
            "tags": []
          },
          "execution_count": 6
        }
      ]
    },
    {
      "cell_type": "markdown",
      "metadata": {
        "id": "KRCFfN7hUFiQ"
      },
      "source": [
        "Nan"
      ]
    },
    {
      "cell_type": "code",
      "metadata": {
        "colab": {
          "base_uri": "https://localhost:8080/"
        },
        "id": "plZGVKvxwFLv",
        "outputId": "ff9a5263-d6e5-469f-dd89-0c18de5244fe"
      },
      "source": [
        "for i in range(df.shape[1]):\n",
        "  print(df.iloc[:,[i]].isna().sum())"
      ],
      "execution_count": null,
      "outputs": [
        {
          "output_type": "stream",
          "text": [
            "key    0\n",
            "dtype: int64\n",
            "fare_amount    0\n",
            "dtype: int64\n",
            "pickup_datetime    0\n",
            "dtype: int64\n",
            "pickup_longitude    0\n",
            "dtype: int64\n",
            "pickup_latitude    0\n",
            "dtype: int64\n",
            "dropoff_longitude    376\n",
            "dtype: int64\n",
            "dropoff_latitude    376\n",
            "dtype: int64\n",
            "passenger_count    0\n",
            "dtype: int64\n"
          ],
          "name": "stdout"
        }
      ]
    },
    {
      "cell_type": "code",
      "metadata": {
        "id": "Ro_aMutoxvgD"
      },
      "source": [
        "nans_indices = df.columns[df.isna().any()].tolist()\n",
        "nans = df.loc[:,nans_indices]"
      ],
      "execution_count": null,
      "outputs": []
    },
    {
      "cell_type": "code",
      "metadata": {
        "colab": {
          "base_uri": "https://localhost:8080/",
          "height": 419
        },
        "id": "bjAY30NCyDLt",
        "outputId": "01c1d041-c8d9-42d0-e0a0-35cda3c21b50"
      },
      "source": [
        "nans"
      ],
      "execution_count": null,
      "outputs": [
        {
          "output_type": "execute_result",
          "data": {
            "text/html": [
              "<div>\n",
              "<style scoped>\n",
              "    .dataframe tbody tr th:only-of-type {\n",
              "        vertical-align: middle;\n",
              "    }\n",
              "\n",
              "    .dataframe tbody tr th {\n",
              "        vertical-align: top;\n",
              "    }\n",
              "\n",
              "    .dataframe thead th {\n",
              "        text-align: right;\n",
              "    }\n",
              "</style>\n",
              "<table border=\"1\" class=\"dataframe\">\n",
              "  <thead>\n",
              "    <tr style=\"text-align: right;\">\n",
              "      <th></th>\n",
              "      <th>dropoff_longitude</th>\n",
              "      <th>dropoff_latitude</th>\n",
              "    </tr>\n",
              "  </thead>\n",
              "  <tbody>\n",
              "    <tr>\n",
              "      <th>0</th>\n",
              "      <td>-73.841610</td>\n",
              "      <td>40.712278</td>\n",
              "    </tr>\n",
              "    <tr>\n",
              "      <th>1</th>\n",
              "      <td>-73.979268</td>\n",
              "      <td>40.782004</td>\n",
              "    </tr>\n",
              "    <tr>\n",
              "      <th>2</th>\n",
              "      <td>-73.991242</td>\n",
              "      <td>40.750562</td>\n",
              "    </tr>\n",
              "    <tr>\n",
              "      <th>3</th>\n",
              "      <td>-73.991567</td>\n",
              "      <td>40.758092</td>\n",
              "    </tr>\n",
              "    <tr>\n",
              "      <th>4</th>\n",
              "      <td>-73.956655</td>\n",
              "      <td>40.783762</td>\n",
              "    </tr>\n",
              "    <tr>\n",
              "      <th>...</th>\n",
              "      <td>...</td>\n",
              "      <td>...</td>\n",
              "    </tr>\n",
              "    <tr>\n",
              "      <th>55423851</th>\n",
              "      <td>-73.963280</td>\n",
              "      <td>40.762555</td>\n",
              "    </tr>\n",
              "    <tr>\n",
              "      <th>55423852</th>\n",
              "      <td>-73.951640</td>\n",
              "      <td>40.773959</td>\n",
              "    </tr>\n",
              "    <tr>\n",
              "      <th>55423853</th>\n",
              "      <td>-73.960537</td>\n",
              "      <td>40.797342</td>\n",
              "    </tr>\n",
              "    <tr>\n",
              "      <th>55423854</th>\n",
              "      <td>-73.870605</td>\n",
              "      <td>40.773963</td>\n",
              "    </tr>\n",
              "    <tr>\n",
              "      <th>55423855</th>\n",
              "      <td>-73.970885</td>\n",
              "      <td>40.783313</td>\n",
              "    </tr>\n",
              "  </tbody>\n",
              "</table>\n",
              "<p>55423856 rows × 2 columns</p>\n",
              "</div>"
            ],
            "text/plain": [
              "          dropoff_longitude  dropoff_latitude\n",
              "0                -73.841610         40.712278\n",
              "1                -73.979268         40.782004\n",
              "2                -73.991242         40.750562\n",
              "3                -73.991567         40.758092\n",
              "4                -73.956655         40.783762\n",
              "...                     ...               ...\n",
              "55423851         -73.963280         40.762555\n",
              "55423852         -73.951640         40.773959\n",
              "55423853         -73.960537         40.797342\n",
              "55423854         -73.870605         40.773963\n",
              "55423855         -73.970885         40.783313\n",
              "\n",
              "[55423856 rows x 2 columns]"
            ]
          },
          "metadata": {
            "tags": []
          },
          "execution_count": 10
        }
      ]
    },
    {
      "cell_type": "markdown",
      "metadata": {
        "id": "-CCRSNfkUN9z"
      },
      "source": [
        "Valores duplicados por columna"
      ]
    },
    {
      "cell_type": "code",
      "metadata": {
        "id": "S_t-Z4Ixz8Tq"
      },
      "source": [
        "duplicateRowsDF = df[df.duplicated(['key'], keep= False)]"
      ],
      "execution_count": null,
      "outputs": []
    },
    {
      "cell_type": "code",
      "metadata": {
        "colab": {
          "base_uri": "https://localhost:8080/",
          "height": 111
        },
        "id": "ByRpLBh10vES",
        "outputId": "0867d32d-c128-4530-adf8-77a7b9a83b63"
      },
      "source": [
        "duplicateRowsDF"
      ],
      "execution_count": null,
      "outputs": [
        {
          "output_type": "execute_result",
          "data": {
            "text/html": [
              "<div>\n",
              "<style scoped>\n",
              "    .dataframe tbody tr th:only-of-type {\n",
              "        vertical-align: middle;\n",
              "    }\n",
              "\n",
              "    .dataframe tbody tr th {\n",
              "        vertical-align: top;\n",
              "    }\n",
              "\n",
              "    .dataframe thead th {\n",
              "        text-align: right;\n",
              "    }\n",
              "</style>\n",
              "<table border=\"1\" class=\"dataframe\">\n",
              "  <thead>\n",
              "    <tr style=\"text-align: right;\">\n",
              "      <th></th>\n",
              "      <th>key</th>\n",
              "      <th>fare_amount</th>\n",
              "      <th>pickup_datetime</th>\n",
              "      <th>pickup_longitude</th>\n",
              "      <th>pickup_latitude</th>\n",
              "      <th>dropoff_longitude</th>\n",
              "      <th>dropoff_latitude</th>\n",
              "      <th>passenger_count</th>\n",
              "    </tr>\n",
              "  </thead>\n",
              "  <tbody>\n",
              "    <tr>\n",
              "      <th>3583097</th>\n",
              "      <td>2014-12-12 11:33:00.00000015</td>\n",
              "      <td>10.0</td>\n",
              "      <td>2014-12-12 11:33:00 UTC</td>\n",
              "      <td>-73.955212</td>\n",
              "      <td>40.773483</td>\n",
              "      <td>-73.983742</td>\n",
              "      <td>40.782178</td>\n",
              "      <td>1</td>\n",
              "    </tr>\n",
              "    <tr>\n",
              "      <th>55423855</th>\n",
              "      <td>2014-12-12 11:33:00.00000015</td>\n",
              "      <td>7.5</td>\n",
              "      <td>2014-12-12 11:33:00 UTC</td>\n",
              "      <td>-73.969722</td>\n",
              "      <td>40.797668</td>\n",
              "      <td>-73.970885</td>\n",
              "      <td>40.783313</td>\n",
              "      <td>1</td>\n",
              "    </tr>\n",
              "  </tbody>\n",
              "</table>\n",
              "</div>"
            ],
            "text/plain": [
              "                                   key  ...  passenger_count\n",
              "3583097   2014-12-12 11:33:00.00000015  ...                1\n",
              "55423855  2014-12-12 11:33:00.00000015  ...                1\n",
              "\n",
              "[2 rows x 8 columns]"
            ]
          },
          "metadata": {
            "tags": []
          },
          "execution_count": 13
        }
      ]
    },
    {
      "cell_type": "markdown",
      "metadata": {
        "id": "qs04f5FnTvqO"
      },
      "source": [
        "#### Creación de una muestra al 20%"
      ]
    },
    {
      "cell_type": "code",
      "metadata": {
        "colab": {
          "base_uri": "https://localhost:8080/"
        },
        "id": "V2uvq2CQBGfI",
        "outputId": "f053a5d3-5e18-49e0-99c2-6b1b8b1518ed"
      },
      "source": [
        "dfs = df.sample(frac=0.2).sort_index()\n",
        "print(dfs.shape[0])"
      ],
      "execution_count": null,
      "outputs": [
        {
          "output_type": "stream",
          "text": [
            "11084771\n"
          ],
          "name": "stdout"
        }
      ]
    },
    {
      "cell_type": "code",
      "metadata": {
        "colab": {
          "base_uri": "https://localhost:8080/",
          "height": 204
        },
        "id": "io5tjJDShp7q",
        "outputId": "10619eae-58dc-411e-cbbb-4db1e53dd353"
      },
      "source": [
        "dfs.head()"
      ],
      "execution_count": null,
      "outputs": [
        {
          "output_type": "execute_result",
          "data": {
            "text/html": [
              "<div>\n",
              "<style scoped>\n",
              "    .dataframe tbody tr th:only-of-type {\n",
              "        vertical-align: middle;\n",
              "    }\n",
              "\n",
              "    .dataframe tbody tr th {\n",
              "        vertical-align: top;\n",
              "    }\n",
              "\n",
              "    .dataframe thead th {\n",
              "        text-align: right;\n",
              "    }\n",
              "</style>\n",
              "<table border=\"1\" class=\"dataframe\">\n",
              "  <thead>\n",
              "    <tr style=\"text-align: right;\">\n",
              "      <th></th>\n",
              "      <th>key</th>\n",
              "      <th>fare_amount</th>\n",
              "      <th>pickup_datetime</th>\n",
              "      <th>pickup_longitude</th>\n",
              "      <th>pickup_latitude</th>\n",
              "      <th>dropoff_longitude</th>\n",
              "      <th>dropoff_latitude</th>\n",
              "      <th>passenger_count</th>\n",
              "    </tr>\n",
              "  </thead>\n",
              "  <tbody>\n",
              "    <tr>\n",
              "      <th>0</th>\n",
              "      <td>2009-06-15 17:26:21.0000001</td>\n",
              "      <td>4.5</td>\n",
              "      <td>2009-06-15 17:26:21 UTC</td>\n",
              "      <td>-73.844311</td>\n",
              "      <td>40.721319</td>\n",
              "      <td>-73.841610</td>\n",
              "      <td>40.712278</td>\n",
              "      <td>1</td>\n",
              "    </tr>\n",
              "    <tr>\n",
              "      <th>2</th>\n",
              "      <td>2011-08-18 00:35:00.00000049</td>\n",
              "      <td>5.7</td>\n",
              "      <td>2011-08-18 00:35:00 UTC</td>\n",
              "      <td>-73.982738</td>\n",
              "      <td>40.761270</td>\n",
              "      <td>-73.991242</td>\n",
              "      <td>40.750562</td>\n",
              "      <td>2</td>\n",
              "    </tr>\n",
              "    <tr>\n",
              "      <th>7</th>\n",
              "      <td>2012-01-04 17:22:00.00000081</td>\n",
              "      <td>16.5</td>\n",
              "      <td>2012-01-04 17:22:00 UTC</td>\n",
              "      <td>-73.951300</td>\n",
              "      <td>40.774138</td>\n",
              "      <td>-73.990095</td>\n",
              "      <td>40.751048</td>\n",
              "      <td>1</td>\n",
              "    </tr>\n",
              "    <tr>\n",
              "      <th>16</th>\n",
              "      <td>2014-02-19 07:22:00.00000074</td>\n",
              "      <td>12.5</td>\n",
              "      <td>2014-02-19 07:22:00 UTC</td>\n",
              "      <td>-73.986430</td>\n",
              "      <td>40.760465</td>\n",
              "      <td>-73.988990</td>\n",
              "      <td>40.737075</td>\n",
              "      <td>1</td>\n",
              "    </tr>\n",
              "    <tr>\n",
              "      <th>21</th>\n",
              "      <td>2013-02-12 12:15:46.0000002</td>\n",
              "      <td>11.5</td>\n",
              "      <td>2013-02-12 12:15:46 UTC</td>\n",
              "      <td>-73.957954</td>\n",
              "      <td>40.779252</td>\n",
              "      <td>-73.961250</td>\n",
              "      <td>40.758787</td>\n",
              "      <td>1</td>\n",
              "    </tr>\n",
              "  </tbody>\n",
              "</table>\n",
              "</div>"
            ],
            "text/plain": [
              "                             key  ...  passenger_count\n",
              "0    2009-06-15 17:26:21.0000001  ...                1\n",
              "2   2011-08-18 00:35:00.00000049  ...                2\n",
              "7   2012-01-04 17:22:00.00000081  ...                1\n",
              "16  2014-02-19 07:22:00.00000074  ...                1\n",
              "21   2013-02-12 12:15:46.0000002  ...                1\n",
              "\n",
              "[5 rows x 8 columns]"
            ]
          },
          "metadata": {
            "tags": []
          },
          "execution_count": 11
        }
      ]
    },
    {
      "cell_type": "code",
      "metadata": {
        "id": "CG9UIiHmUjgT"
      },
      "source": [
        "dfs.to_csv('trainsample.csv')"
      ],
      "execution_count": null,
      "outputs": []
    },
    {
      "cell_type": "markdown",
      "metadata": {
        "id": "nLHae_Sr8R3w"
      },
      "source": [
        "#### Importar la muestra"
      ]
    },
    {
      "cell_type": "code",
      "metadata": {
        "colab": {
          "base_uri": "https://localhost:8080/",
          "height": 306
        },
        "id": "bPrCYDpnCJBP",
        "outputId": "8394dc4a-7834-4a64-d147-6d109002e0b9"
      },
      "source": [
        "dfs = pd.read_csv('trainsample.csv')\n",
        "dfs.head()"
      ],
      "execution_count": null,
      "outputs": [
        {
          "output_type": "execute_result",
          "data": {
            "text/html": [
              "<div>\n",
              "<style scoped>\n",
              "    .dataframe tbody tr th:only-of-type {\n",
              "        vertical-align: middle;\n",
              "    }\n",
              "\n",
              "    .dataframe tbody tr th {\n",
              "        vertical-align: top;\n",
              "    }\n",
              "\n",
              "    .dataframe thead th {\n",
              "        text-align: right;\n",
              "    }\n",
              "</style>\n",
              "<table border=\"1\" class=\"dataframe\">\n",
              "  <thead>\n",
              "    <tr style=\"text-align: right;\">\n",
              "      <th></th>\n",
              "      <th>Unnamed: 0</th>\n",
              "      <th>key</th>\n",
              "      <th>fare_amount</th>\n",
              "      <th>pickup_datetime</th>\n",
              "      <th>pickup_longitude</th>\n",
              "      <th>pickup_latitude</th>\n",
              "      <th>dropoff_longitude</th>\n",
              "      <th>dropoff_latitude</th>\n",
              "      <th>passenger_count</th>\n",
              "    </tr>\n",
              "  </thead>\n",
              "  <tbody>\n",
              "    <tr>\n",
              "      <th>0</th>\n",
              "      <td>0</td>\n",
              "      <td>2009-06-15 17:26:21.0000001</td>\n",
              "      <td>4.5</td>\n",
              "      <td>2009-06-15 17:26:21 UTC</td>\n",
              "      <td>-73.844311</td>\n",
              "      <td>40.721319</td>\n",
              "      <td>-73.841610</td>\n",
              "      <td>40.712278</td>\n",
              "      <td>1</td>\n",
              "    </tr>\n",
              "    <tr>\n",
              "      <th>1</th>\n",
              "      <td>2</td>\n",
              "      <td>2011-08-18 00:35:00.00000049</td>\n",
              "      <td>5.7</td>\n",
              "      <td>2011-08-18 00:35:00 UTC</td>\n",
              "      <td>-73.982738</td>\n",
              "      <td>40.761270</td>\n",
              "      <td>-73.991242</td>\n",
              "      <td>40.750562</td>\n",
              "      <td>2</td>\n",
              "    </tr>\n",
              "    <tr>\n",
              "      <th>2</th>\n",
              "      <td>7</td>\n",
              "      <td>2012-01-04 17:22:00.00000081</td>\n",
              "      <td>16.5</td>\n",
              "      <td>2012-01-04 17:22:00 UTC</td>\n",
              "      <td>-73.951300</td>\n",
              "      <td>40.774138</td>\n",
              "      <td>-73.990095</td>\n",
              "      <td>40.751048</td>\n",
              "      <td>1</td>\n",
              "    </tr>\n",
              "    <tr>\n",
              "      <th>3</th>\n",
              "      <td>16</td>\n",
              "      <td>2014-02-19 07:22:00.00000074</td>\n",
              "      <td>12.5</td>\n",
              "      <td>2014-02-19 07:22:00 UTC</td>\n",
              "      <td>-73.986430</td>\n",
              "      <td>40.760465</td>\n",
              "      <td>-73.988990</td>\n",
              "      <td>40.737075</td>\n",
              "      <td>1</td>\n",
              "    </tr>\n",
              "    <tr>\n",
              "      <th>4</th>\n",
              "      <td>21</td>\n",
              "      <td>2013-02-12 12:15:46.0000002</td>\n",
              "      <td>11.5</td>\n",
              "      <td>2013-02-12 12:15:46 UTC</td>\n",
              "      <td>-73.957954</td>\n",
              "      <td>40.779252</td>\n",
              "      <td>-73.961250</td>\n",
              "      <td>40.758787</td>\n",
              "      <td>1</td>\n",
              "    </tr>\n",
              "  </tbody>\n",
              "</table>\n",
              "</div>"
            ],
            "text/plain": [
              "   Unnamed: 0                           key  ...  dropoff_latitude passenger_count\n",
              "0           0   2009-06-15 17:26:21.0000001  ...         40.712278               1\n",
              "1           2  2011-08-18 00:35:00.00000049  ...         40.750562               2\n",
              "2           7  2012-01-04 17:22:00.00000081  ...         40.751048               1\n",
              "3          16  2014-02-19 07:22:00.00000074  ...         40.737075               1\n",
              "4          21   2013-02-12 12:15:46.0000002  ...         40.758787               1\n",
              "\n",
              "[5 rows x 9 columns]"
            ]
          },
          "metadata": {
            "tags": []
          },
          "execution_count": 27
        }
      ]
    },
    {
      "cell_type": "code",
      "metadata": {
        "colab": {
          "base_uri": "https://localhost:8080/"
        },
        "id": "xAnDf85sAjQl",
        "outputId": "4edd4b33-76f3-4d41-a245-8f44ed24fc92"
      },
      "source": [
        "dfs.shape[0]"
      ],
      "execution_count": null,
      "outputs": [
        {
          "output_type": "execute_result",
          "data": {
            "text/plain": [
              "11084771"
            ]
          },
          "metadata": {
            "tags": []
          },
          "execution_count": 28
        }
      ]
    },
    {
      "cell_type": "code",
      "metadata": {
        "id": "4WS3lyGlCn-v"
      },
      "source": [
        "dfs = dfs.drop(['Unnamed: 0'], axis=1)"
      ],
      "execution_count": null,
      "outputs": []
    },
    {
      "cell_type": "markdown",
      "metadata": {
        "id": "boivOgYZq38Z"
      },
      "source": [
        "#### Primera revisión de la muestra"
      ]
    },
    {
      "cell_type": "markdown",
      "metadata": {
        "id": "MZtnSmzMYAhJ"
      },
      "source": [
        "Nan"
      ]
    },
    {
      "cell_type": "code",
      "metadata": {
        "colab": {
          "base_uri": "https://localhost:8080/"
        },
        "id": "FWH7sEJyVgHG",
        "outputId": "cd52e818-29c3-4315-88ce-2e7442520b06"
      },
      "source": [
        "dfs.isna().sum()"
      ],
      "execution_count": null,
      "outputs": [
        {
          "output_type": "execute_result",
          "data": {
            "text/plain": [
              "key                   0\n",
              "fare_amount           0\n",
              "pickup_datetime       0\n",
              "pickup_longitude      0\n",
              "pickup_latitude       0\n",
              "dropoff_longitude    73\n",
              "dropoff_latitude     73\n",
              "passenger_count       0\n",
              "dtype: int64"
            ]
          },
          "metadata": {
            "tags": []
          },
          "execution_count": 30
        }
      ]
    },
    {
      "cell_type": "markdown",
      "metadata": {
        "id": "_GxHDG0iYXx1"
      },
      "source": [
        "Evaluar tipos de datos por columna"
      ]
    },
    {
      "cell_type": "code",
      "metadata": {
        "colab": {
          "base_uri": "https://localhost:8080/"
        },
        "id": "nfIssoYrWQrr",
        "outputId": "ad624105-54b8-4957-fdc0-324c1a45b6de"
      },
      "source": [
        "dfs.info()"
      ],
      "execution_count": null,
      "outputs": [
        {
          "output_type": "stream",
          "text": [
            "<class 'pandas.core.frame.DataFrame'>\n",
            "RangeIndex: 11084771 entries, 0 to 11084770\n",
            "Data columns (total 8 columns):\n",
            " #   Column             Dtype  \n",
            "---  ------             -----  \n",
            " 0   key                object \n",
            " 1   fare_amount        float64\n",
            " 2   pickup_datetime    object \n",
            " 3   pickup_longitude   float64\n",
            " 4   pickup_latitude    float64\n",
            " 5   dropoff_longitude  float64\n",
            " 6   dropoff_latitude   float64\n",
            " 7   passenger_count    int64  \n",
            "dtypes: float64(5), int64(1), object(2)\n",
            "memory usage: 676.6+ MB\n"
          ],
          "name": "stdout"
        }
      ]
    },
    {
      "cell_type": "markdown",
      "metadata": {
        "id": "zrepL-lV7f0g"
      },
      "source": [
        "Convertir `pickup_datetime` a formato datetime."
      ]
    },
    {
      "cell_type": "code",
      "metadata": {
        "colab": {
          "base_uri": "https://localhost:8080/",
          "height": 204
        },
        "id": "YUkRhlTF7mQq",
        "outputId": "b66c6048-2fff-403f-ba8a-ff5e0eef6031"
      },
      "source": [
        "dfs['pickup_datetime'] = pd.to_datetime(dfs['pickup_datetime'], format=\"%Y-%m-%d %H:%M:%S UTC\")\n",
        "dfs.head()"
      ],
      "execution_count": null,
      "outputs": [
        {
          "output_type": "execute_result",
          "data": {
            "text/html": [
              "<div>\n",
              "<style scoped>\n",
              "    .dataframe tbody tr th:only-of-type {\n",
              "        vertical-align: middle;\n",
              "    }\n",
              "\n",
              "    .dataframe tbody tr th {\n",
              "        vertical-align: top;\n",
              "    }\n",
              "\n",
              "    .dataframe thead th {\n",
              "        text-align: right;\n",
              "    }\n",
              "</style>\n",
              "<table border=\"1\" class=\"dataframe\">\n",
              "  <thead>\n",
              "    <tr style=\"text-align: right;\">\n",
              "      <th></th>\n",
              "      <th>key</th>\n",
              "      <th>fare_amount</th>\n",
              "      <th>pickup_datetime</th>\n",
              "      <th>pickup_longitude</th>\n",
              "      <th>pickup_latitude</th>\n",
              "      <th>dropoff_longitude</th>\n",
              "      <th>dropoff_latitude</th>\n",
              "      <th>passenger_count</th>\n",
              "    </tr>\n",
              "  </thead>\n",
              "  <tbody>\n",
              "    <tr>\n",
              "      <th>0</th>\n",
              "      <td>2009-06-15 17:26:21.0000001</td>\n",
              "      <td>4.5</td>\n",
              "      <td>2009-06-15 17:26:21</td>\n",
              "      <td>-73.844311</td>\n",
              "      <td>40.721319</td>\n",
              "      <td>-73.841610</td>\n",
              "      <td>40.712278</td>\n",
              "      <td>1</td>\n",
              "    </tr>\n",
              "    <tr>\n",
              "      <th>1</th>\n",
              "      <td>2011-08-18 00:35:00.00000049</td>\n",
              "      <td>5.7</td>\n",
              "      <td>2011-08-18 00:35:00</td>\n",
              "      <td>-73.982738</td>\n",
              "      <td>40.761270</td>\n",
              "      <td>-73.991242</td>\n",
              "      <td>40.750562</td>\n",
              "      <td>2</td>\n",
              "    </tr>\n",
              "    <tr>\n",
              "      <th>2</th>\n",
              "      <td>2012-01-04 17:22:00.00000081</td>\n",
              "      <td>16.5</td>\n",
              "      <td>2012-01-04 17:22:00</td>\n",
              "      <td>-73.951300</td>\n",
              "      <td>40.774138</td>\n",
              "      <td>-73.990095</td>\n",
              "      <td>40.751048</td>\n",
              "      <td>1</td>\n",
              "    </tr>\n",
              "    <tr>\n",
              "      <th>3</th>\n",
              "      <td>2014-02-19 07:22:00.00000074</td>\n",
              "      <td>12.5</td>\n",
              "      <td>2014-02-19 07:22:00</td>\n",
              "      <td>-73.986430</td>\n",
              "      <td>40.760465</td>\n",
              "      <td>-73.988990</td>\n",
              "      <td>40.737075</td>\n",
              "      <td>1</td>\n",
              "    </tr>\n",
              "    <tr>\n",
              "      <th>4</th>\n",
              "      <td>2013-02-12 12:15:46.0000002</td>\n",
              "      <td>11.5</td>\n",
              "      <td>2013-02-12 12:15:46</td>\n",
              "      <td>-73.957954</td>\n",
              "      <td>40.779252</td>\n",
              "      <td>-73.961250</td>\n",
              "      <td>40.758787</td>\n",
              "      <td>1</td>\n",
              "    </tr>\n",
              "  </tbody>\n",
              "</table>\n",
              "</div>"
            ],
            "text/plain": [
              "                            key  fare_amount  ... dropoff_latitude  passenger_count\n",
              "0   2009-06-15 17:26:21.0000001          4.5  ...        40.712278                1\n",
              "1  2011-08-18 00:35:00.00000049          5.7  ...        40.750562                2\n",
              "2  2012-01-04 17:22:00.00000081         16.5  ...        40.751048                1\n",
              "3  2014-02-19 07:22:00.00000074         12.5  ...        40.737075                1\n",
              "4   2013-02-12 12:15:46.0000002         11.5  ...        40.758787                1\n",
              "\n",
              "[5 rows x 8 columns]"
            ]
          },
          "metadata": {
            "tags": []
          },
          "execution_count": 7
        }
      ]
    },
    {
      "cell_type": "code",
      "metadata": {
        "colab": {
          "base_uri": "https://localhost:8080/"
        },
        "id": "m299IqgtE_iG",
        "outputId": "321b9573-3329-4ae5-e0df-8f68bc6f4e70"
      },
      "source": [
        "dfs.info()"
      ],
      "execution_count": null,
      "outputs": [
        {
          "output_type": "stream",
          "text": [
            "<class 'pandas.core.frame.DataFrame'>\n",
            "RangeIndex: 11084771 entries, 0 to 11084770\n",
            "Data columns (total 8 columns):\n",
            " #   Column             Dtype         \n",
            "---  ------             -----         \n",
            " 0   key                object        \n",
            " 1   fare_amount        float64       \n",
            " 2   pickup_datetime    datetime64[ns]\n",
            " 3   pickup_longitude   float64       \n",
            " 4   pickup_latitude    float64       \n",
            " 5   dropoff_longitude  float64       \n",
            " 6   dropoff_latitude   float64       \n",
            " 7   passenger_count    int64         \n",
            "dtypes: datetime64[ns](1), float64(5), int64(1), object(1)\n",
            "memory usage: 676.6+ MB\n"
          ],
          "name": "stdout"
        }
      ]
    },
    {
      "cell_type": "markdown",
      "metadata": {
        "id": "t4g5NTfuTjX4"
      },
      "source": [
        "Preprocesamiento"
      ]
    },
    {
      "cell_type": "code",
      "metadata": {
        "id": "_GC7DNv72Sx2"
      },
      "source": [
        "from sklearn import preprocessing\n",
        "from sklearn import metrics\n",
        "labelEncoder = preprocessing.LabelEncoder()\n",
        "\n",
        "dfs['key']=labelEncoder.fit_transform(dfs['key'])"
      ],
      "execution_count": null,
      "outputs": []
    },
    {
      "cell_type": "markdown",
      "metadata": {
        "id": "NAcKkMBYnij0"
      },
      "source": [
        "Buscamos datos repetidos en la data"
      ]
    },
    {
      "cell_type": "code",
      "metadata": {
        "colab": {
          "base_uri": "https://localhost:8080/"
        },
        "id": "f5_J6M7Kobpa",
        "outputId": "a9c27a8e-4709-4aa3-a632-69e76dd1056f"
      },
      "source": [
        "duplicateRowsDF = dfs[dfs.duplicated(keep= False)]\n",
        "print(duplicateRowsDF.shape[0])"
      ],
      "execution_count": null,
      "outputs": [
        {
          "output_type": "stream",
          "text": [
            "0\n"
          ],
          "name": "stdout"
        }
      ]
    },
    {
      "cell_type": "code",
      "metadata": {
        "colab": {
          "base_uri": "https://localhost:8080/"
        },
        "id": "0JVbJtx-ndMF",
        "outputId": "02a63dbc-4ea9-45a8-8cfa-9ad242c4f6e2"
      },
      "source": [
        "duplicateRowsDF = dfs[dfs.duplicated(['key'], keep= False)]\n",
        "print(duplicateRowsDF.shape[0])"
      ],
      "execution_count": null,
      "outputs": [
        {
          "output_type": "stream",
          "text": [
            "0\n"
          ],
          "name": "stdout"
        }
      ]
    },
    {
      "cell_type": "markdown",
      "metadata": {
        "id": "LeB7v2caeE-Q"
      },
      "source": [
        "Como no hay valores repetidos en la muestra, se analizará la data con el objetivo de eliminar las filas con coordenadas ubicadas en el océano.\n"
      ]
    },
    {
      "cell_type": "code",
      "metadata": {
        "colab": {
          "base_uri": "https://localhost:8080/"
        },
        "id": "fvLRgQm4w6gv",
        "outputId": "9a63733d-1a95-466e-e372-a9456c6d445d"
      },
      "source": [
        "!pip install global-land-mask"
      ],
      "execution_count": null,
      "outputs": [
        {
          "output_type": "stream",
          "text": [
            "Collecting global-land-mask\n",
            "\u001b[?25l  Downloading https://files.pythonhosted.org/packages/e6/e9/eaac67e39b68f64828a164f8dbfcf13baccd7382704ea120152af475f520/global_land_mask-1.0.0-py3-none-any.whl (1.8MB)\n",
            "\u001b[K     |████████████████████████████████| 1.8MB 5.1MB/s \n",
            "\u001b[?25hInstalling collected packages: global-land-mask\n",
            "Successfully installed global-land-mask-1.0.0\n"
          ],
          "name": "stdout"
        }
      ]
    },
    {
      "cell_type": "code",
      "metadata": {
        "id": "EHDiR4uHLME7"
      },
      "source": [
        "from global_land_mask import globe as gl"
      ],
      "execution_count": null,
      "outputs": []
    },
    {
      "cell_type": "code",
      "metadata": {
        "id": "h_OKBr002fJl"
      },
      "source": [
        "dfs = dfs.dropna()"
      ],
      "execution_count": null,
      "outputs": []
    },
    {
      "cell_type": "code",
      "metadata": {
        "colab": {
          "base_uri": "https://localhost:8080/"
        },
        "id": "eKQUwiZo20So",
        "outputId": "57237550-ae29-4246-803a-696cd67632f0"
      },
      "source": [
        "dfs.info()"
      ],
      "execution_count": null,
      "outputs": [
        {
          "output_type": "stream",
          "text": [
            "<class 'pandas.core.frame.DataFrame'>\n",
            "Int64Index: 11084698 entries, 0 to 11084770\n",
            "Data columns (total 8 columns):\n",
            " #   Column             Dtype  \n",
            "---  ------             -----  \n",
            " 0   key                object \n",
            " 1   fare_amount        float64\n",
            " 2   pickup_datetime    object \n",
            " 3   pickup_longitude   float64\n",
            " 4   pickup_latitude    float64\n",
            " 5   dropoff_longitude  float64\n",
            " 6   dropoff_latitude   float64\n",
            " 7   passenger_count    int64  \n",
            "dtypes: float64(5), int64(1), object(2)\n",
            "memory usage: 761.1+ MB\n"
          ],
          "name": "stdout"
        }
      ]
    },
    {
      "cell_type": "code",
      "metadata": {
        "colab": {
          "base_uri": "https://localhost:8080/",
          "height": 419
        },
        "id": "BvAMaLT7zCsb",
        "outputId": "8777ec9a-a04b-4129-cf25-eefdfffb773f"
      },
      "source": [
        "#dfs.drop(dfs[['pickup_latitude']].any().values<-90 or dfs[['pickup_latitude']].any().values>90)\n",
        "\n",
        "dfs = dfs[dfs['pickup_latitude'].values > -90]\n",
        "dfs = dfs[dfs['pickup_latitude'].values < 90]\n",
        "dfs = dfs[dfs['dropoff_latitude'].values > -90]\n",
        "dfs = dfs[dfs['dropoff_latitude'].values < 90]\n",
        "\n",
        "dfs = dfs[dfs['pickup_longitude'].values > -180]\n",
        "dfs = dfs[dfs['pickup_longitude'].values < 180]\n",
        "dfs = dfs[dfs['dropoff_longitude'].values > -180]\n",
        "dfs = dfs[dfs['dropoff_longitude'].values < 180]\n",
        "\n",
        "dfs"
      ],
      "execution_count": null,
      "outputs": [
        {
          "output_type": "execute_result",
          "data": {
            "text/html": [
              "<div>\n",
              "<style scoped>\n",
              "    .dataframe tbody tr th:only-of-type {\n",
              "        vertical-align: middle;\n",
              "    }\n",
              "\n",
              "    .dataframe tbody tr th {\n",
              "        vertical-align: top;\n",
              "    }\n",
              "\n",
              "    .dataframe thead th {\n",
              "        text-align: right;\n",
              "    }\n",
              "</style>\n",
              "<table border=\"1\" class=\"dataframe\">\n",
              "  <thead>\n",
              "    <tr style=\"text-align: right;\">\n",
              "      <th></th>\n",
              "      <th>key</th>\n",
              "      <th>fare_amount</th>\n",
              "      <th>pickup_datetime</th>\n",
              "      <th>pickup_longitude</th>\n",
              "      <th>pickup_latitude</th>\n",
              "      <th>dropoff_longitude</th>\n",
              "      <th>dropoff_latitude</th>\n",
              "      <th>passenger_count</th>\n",
              "    </tr>\n",
              "  </thead>\n",
              "  <tbody>\n",
              "    <tr>\n",
              "      <th>0</th>\n",
              "      <td>2009-06-15 17:26:21.0000001</td>\n",
              "      <td>4.5</td>\n",
              "      <td>2009-06-15 17:26:21 UTC</td>\n",
              "      <td>-73.844311</td>\n",
              "      <td>40.721319</td>\n",
              "      <td>-73.841610</td>\n",
              "      <td>40.712278</td>\n",
              "      <td>1</td>\n",
              "    </tr>\n",
              "    <tr>\n",
              "      <th>1</th>\n",
              "      <td>2011-08-18 00:35:00.00000049</td>\n",
              "      <td>5.7</td>\n",
              "      <td>2011-08-18 00:35:00 UTC</td>\n",
              "      <td>-73.982738</td>\n",
              "      <td>40.761270</td>\n",
              "      <td>-73.991242</td>\n",
              "      <td>40.750562</td>\n",
              "      <td>2</td>\n",
              "    </tr>\n",
              "    <tr>\n",
              "      <th>2</th>\n",
              "      <td>2012-01-04 17:22:00.00000081</td>\n",
              "      <td>16.5</td>\n",
              "      <td>2012-01-04 17:22:00 UTC</td>\n",
              "      <td>-73.951300</td>\n",
              "      <td>40.774138</td>\n",
              "      <td>-73.990095</td>\n",
              "      <td>40.751048</td>\n",
              "      <td>1</td>\n",
              "    </tr>\n",
              "    <tr>\n",
              "      <th>3</th>\n",
              "      <td>2014-02-19 07:22:00.00000074</td>\n",
              "      <td>12.5</td>\n",
              "      <td>2014-02-19 07:22:00 UTC</td>\n",
              "      <td>-73.986430</td>\n",
              "      <td>40.760465</td>\n",
              "      <td>-73.988990</td>\n",
              "      <td>40.737075</td>\n",
              "      <td>1</td>\n",
              "    </tr>\n",
              "    <tr>\n",
              "      <th>4</th>\n",
              "      <td>2013-02-12 12:15:46.0000002</td>\n",
              "      <td>11.5</td>\n",
              "      <td>2013-02-12 12:15:46 UTC</td>\n",
              "      <td>-73.957954</td>\n",
              "      <td>40.779252</td>\n",
              "      <td>-73.961250</td>\n",
              "      <td>40.758787</td>\n",
              "      <td>1</td>\n",
              "    </tr>\n",
              "    <tr>\n",
              "      <th>...</th>\n",
              "      <td>...</td>\n",
              "      <td>...</td>\n",
              "      <td>...</td>\n",
              "      <td>...</td>\n",
              "      <td>...</td>\n",
              "      <td>...</td>\n",
              "      <td>...</td>\n",
              "      <td>...</td>\n",
              "    </tr>\n",
              "    <tr>\n",
              "      <th>11084766</th>\n",
              "      <td>2009-08-27 18:39:00.00000067</td>\n",
              "      <td>11.3</td>\n",
              "      <td>2009-08-27 18:39:00 UTC</td>\n",
              "      <td>-73.980997</td>\n",
              "      <td>40.762858</td>\n",
              "      <td>-73.990503</td>\n",
              "      <td>40.736850</td>\n",
              "      <td>1</td>\n",
              "    </tr>\n",
              "    <tr>\n",
              "      <th>11084767</th>\n",
              "      <td>2015-05-17 00:27:40.0000005</td>\n",
              "      <td>5.0</td>\n",
              "      <td>2015-05-17 00:27:40 UTC</td>\n",
              "      <td>-73.974289</td>\n",
              "      <td>40.761883</td>\n",
              "      <td>-73.982964</td>\n",
              "      <td>40.756119</td>\n",
              "      <td>3</td>\n",
              "    </tr>\n",
              "    <tr>\n",
              "      <th>11084768</th>\n",
              "      <td>2009-02-03 00:28:08.0000001</td>\n",
              "      <td>10.2</td>\n",
              "      <td>2009-02-03 00:28:08 UTC</td>\n",
              "      <td>-73.999809</td>\n",
              "      <td>40.726766</td>\n",
              "      <td>-73.979344</td>\n",
              "      <td>40.749732</td>\n",
              "      <td>2</td>\n",
              "    </tr>\n",
              "    <tr>\n",
              "      <th>11084769</th>\n",
              "      <td>2014-09-22 09:00:00.00000019</td>\n",
              "      <td>16.5</td>\n",
              "      <td>2014-09-22 09:00:00 UTC</td>\n",
              "      <td>-73.977880</td>\n",
              "      <td>40.763550</td>\n",
              "      <td>-73.974020</td>\n",
              "      <td>40.743170</td>\n",
              "      <td>6</td>\n",
              "    </tr>\n",
              "    <tr>\n",
              "      <th>11084770</th>\n",
              "      <td>2014-12-12 11:33:00.00000015</td>\n",
              "      <td>7.5</td>\n",
              "      <td>2014-12-12 11:33:00 UTC</td>\n",
              "      <td>-73.969722</td>\n",
              "      <td>40.797668</td>\n",
              "      <td>-73.970885</td>\n",
              "      <td>40.783313</td>\n",
              "      <td>1</td>\n",
              "    </tr>\n",
              "  </tbody>\n",
              "</table>\n",
              "<p>11084127 rows × 8 columns</p>\n",
              "</div>"
            ],
            "text/plain": [
              "                                   key  ...  passenger_count\n",
              "0          2009-06-15 17:26:21.0000001  ...                1\n",
              "1         2011-08-18 00:35:00.00000049  ...                2\n",
              "2         2012-01-04 17:22:00.00000081  ...                1\n",
              "3         2014-02-19 07:22:00.00000074  ...                1\n",
              "4          2013-02-12 12:15:46.0000002  ...                1\n",
              "...                                ...  ...              ...\n",
              "11084766  2009-08-27 18:39:00.00000067  ...                1\n",
              "11084767   2015-05-17 00:27:40.0000005  ...                3\n",
              "11084768   2009-02-03 00:28:08.0000001  ...                2\n",
              "11084769  2014-09-22 09:00:00.00000019  ...                6\n",
              "11084770  2014-12-12 11:33:00.00000015  ...                1\n",
              "\n",
              "[11084127 rows x 8 columns]"
            ]
          },
          "metadata": {
            "tags": []
          },
          "execution_count": 36
        }
      ]
    },
    {
      "cell_type": "code",
      "metadata": {
        "colab": {
          "base_uri": "https://localhost:8080/",
          "height": 419
        },
        "id": "PEETEkebB3UI",
        "outputId": "9b54b4fd-b2c5-4168-efb7-ebed7806d582"
      },
      "source": [
        "pla = dfs[['pickup_latitude']].to_numpy()\n",
        "plon = dfs[['pickup_longitude']].to_numpy()\n",
        "dla = dfs[['dropoff_latitude']].to_numpy()\n",
        "dlon = dfs[['dropoff_longitude']].to_numpy()\n",
        "\n",
        "#gl.is_ocean(pla,plon)\n",
        "#dfs.loc[gl.is_ocean(pla,plon), :]\n",
        "\n",
        "dfs = dfs.drop(dfs.loc[gl.is_ocean(pla,plon)].index)"
      ],
      "execution_count": null,
      "outputs": [
        {
          "output_type": "execute_result",
          "data": {
            "text/html": [
              "<div>\n",
              "<style scoped>\n",
              "    .dataframe tbody tr th:only-of-type {\n",
              "        vertical-align: middle;\n",
              "    }\n",
              "\n",
              "    .dataframe tbody tr th {\n",
              "        vertical-align: top;\n",
              "    }\n",
              "\n",
              "    .dataframe thead th {\n",
              "        text-align: right;\n",
              "    }\n",
              "</style>\n",
              "<table border=\"1\" class=\"dataframe\">\n",
              "  <thead>\n",
              "    <tr style=\"text-align: right;\">\n",
              "      <th></th>\n",
              "      <th>key</th>\n",
              "      <th>fare_amount</th>\n",
              "      <th>pickup_datetime</th>\n",
              "      <th>pickup_longitude</th>\n",
              "      <th>pickup_latitude</th>\n",
              "      <th>dropoff_longitude</th>\n",
              "      <th>dropoff_latitude</th>\n",
              "      <th>passenger_count</th>\n",
              "    </tr>\n",
              "  </thead>\n",
              "  <tbody>\n",
              "    <tr>\n",
              "      <th>0</th>\n",
              "      <td>2009-06-15 17:26:21.0000001</td>\n",
              "      <td>4.5</td>\n",
              "      <td>2009-06-15 17:26:21 UTC</td>\n",
              "      <td>-73.844311</td>\n",
              "      <td>40.721319</td>\n",
              "      <td>-73.841610</td>\n",
              "      <td>40.712278</td>\n",
              "      <td>1</td>\n",
              "    </tr>\n",
              "    <tr>\n",
              "      <th>1</th>\n",
              "      <td>2011-08-18 00:35:00.00000049</td>\n",
              "      <td>5.7</td>\n",
              "      <td>2011-08-18 00:35:00 UTC</td>\n",
              "      <td>-73.982738</td>\n",
              "      <td>40.761270</td>\n",
              "      <td>-73.991242</td>\n",
              "      <td>40.750562</td>\n",
              "      <td>2</td>\n",
              "    </tr>\n",
              "    <tr>\n",
              "      <th>2</th>\n",
              "      <td>2012-01-04 17:22:00.00000081</td>\n",
              "      <td>16.5</td>\n",
              "      <td>2012-01-04 17:22:00 UTC</td>\n",
              "      <td>-73.951300</td>\n",
              "      <td>40.774138</td>\n",
              "      <td>-73.990095</td>\n",
              "      <td>40.751048</td>\n",
              "      <td>1</td>\n",
              "    </tr>\n",
              "    <tr>\n",
              "      <th>3</th>\n",
              "      <td>2014-02-19 07:22:00.00000074</td>\n",
              "      <td>12.5</td>\n",
              "      <td>2014-02-19 07:22:00 UTC</td>\n",
              "      <td>-73.986430</td>\n",
              "      <td>40.760465</td>\n",
              "      <td>-73.988990</td>\n",
              "      <td>40.737075</td>\n",
              "      <td>1</td>\n",
              "    </tr>\n",
              "    <tr>\n",
              "      <th>4</th>\n",
              "      <td>2013-02-12 12:15:46.0000002</td>\n",
              "      <td>11.5</td>\n",
              "      <td>2013-02-12 12:15:46 UTC</td>\n",
              "      <td>-73.957954</td>\n",
              "      <td>40.779252</td>\n",
              "      <td>-73.961250</td>\n",
              "      <td>40.758787</td>\n",
              "      <td>1</td>\n",
              "    </tr>\n",
              "    <tr>\n",
              "      <th>...</th>\n",
              "      <td>...</td>\n",
              "      <td>...</td>\n",
              "      <td>...</td>\n",
              "      <td>...</td>\n",
              "      <td>...</td>\n",
              "      <td>...</td>\n",
              "      <td>...</td>\n",
              "      <td>...</td>\n",
              "    </tr>\n",
              "    <tr>\n",
              "      <th>11084766</th>\n",
              "      <td>2009-08-27 18:39:00.00000067</td>\n",
              "      <td>11.3</td>\n",
              "      <td>2009-08-27 18:39:00 UTC</td>\n",
              "      <td>-73.980997</td>\n",
              "      <td>40.762858</td>\n",
              "      <td>-73.990503</td>\n",
              "      <td>40.736850</td>\n",
              "      <td>1</td>\n",
              "    </tr>\n",
              "    <tr>\n",
              "      <th>11084767</th>\n",
              "      <td>2015-05-17 00:27:40.0000005</td>\n",
              "      <td>5.0</td>\n",
              "      <td>2015-05-17 00:27:40 UTC</td>\n",
              "      <td>-73.974289</td>\n",
              "      <td>40.761883</td>\n",
              "      <td>-73.982964</td>\n",
              "      <td>40.756119</td>\n",
              "      <td>3</td>\n",
              "    </tr>\n",
              "    <tr>\n",
              "      <th>11084768</th>\n",
              "      <td>2009-02-03 00:28:08.0000001</td>\n",
              "      <td>10.2</td>\n",
              "      <td>2009-02-03 00:28:08 UTC</td>\n",
              "      <td>-73.999809</td>\n",
              "      <td>40.726766</td>\n",
              "      <td>-73.979344</td>\n",
              "      <td>40.749732</td>\n",
              "      <td>2</td>\n",
              "    </tr>\n",
              "    <tr>\n",
              "      <th>11084769</th>\n",
              "      <td>2014-09-22 09:00:00.00000019</td>\n",
              "      <td>16.5</td>\n",
              "      <td>2014-09-22 09:00:00 UTC</td>\n",
              "      <td>-73.977880</td>\n",
              "      <td>40.763550</td>\n",
              "      <td>-73.974020</td>\n",
              "      <td>40.743170</td>\n",
              "      <td>6</td>\n",
              "    </tr>\n",
              "    <tr>\n",
              "      <th>11084770</th>\n",
              "      <td>2014-12-12 11:33:00.00000015</td>\n",
              "      <td>7.5</td>\n",
              "      <td>2014-12-12 11:33:00 UTC</td>\n",
              "      <td>-73.969722</td>\n",
              "      <td>40.797668</td>\n",
              "      <td>-73.970885</td>\n",
              "      <td>40.783313</td>\n",
              "      <td>1</td>\n",
              "    </tr>\n",
              "  </tbody>\n",
              "</table>\n",
              "<p>10848569 rows × 8 columns</p>\n",
              "</div>"
            ],
            "text/plain": [
              "                                   key  ...  passenger_count\n",
              "0          2009-06-15 17:26:21.0000001  ...                1\n",
              "1         2011-08-18 00:35:00.00000049  ...                2\n",
              "2         2012-01-04 17:22:00.00000081  ...                1\n",
              "3         2014-02-19 07:22:00.00000074  ...                1\n",
              "4          2013-02-12 12:15:46.0000002  ...                1\n",
              "...                                ...  ...              ...\n",
              "11084766  2009-08-27 18:39:00.00000067  ...                1\n",
              "11084767   2015-05-17 00:27:40.0000005  ...                3\n",
              "11084768   2009-02-03 00:28:08.0000001  ...                2\n",
              "11084769  2014-09-22 09:00:00.00000019  ...                6\n",
              "11084770  2014-12-12 11:33:00.00000015  ...                1\n",
              "\n",
              "[10848569 rows x 8 columns]"
            ]
          },
          "metadata": {
            "tags": []
          },
          "execution_count": 43
        }
      ]
    },
    {
      "cell_type": "code",
      "metadata": {
        "id": "bbwr-zVHhwl0"
      },
      "source": [
        "# dfs[['pickup_latitude', 'pickup_longitude']] = dfs.apply(lambda x: ocean_values_to_nan(x['pickup_latitude'],x['pickup_longitude']), axis=1 )\n",
        "# dfs[['dropoff_latitude', 'dropoff_longitude']] = dfs.apply(lambda x: ocean_values_to_nan(x['dropoff_latitude'],x['dropoff_longitude']) , axis=1)"
      ],
      "execution_count": null,
      "outputs": []
    },
    {
      "cell_type": "code",
      "metadata": {
        "colab": {
          "base_uri": "https://localhost:8080/"
        },
        "id": "wdcfeIKIYiMF",
        "outputId": "07d39294-70cd-4f4c-89ef-6dcccf405d25"
      },
      "source": [
        "dfs.isna().sum()"
      ],
      "execution_count": null,
      "outputs": [
        {
          "output_type": "execute_result",
          "data": {
            "text/plain": [
              "key                  0\n",
              "fare_amount          0\n",
              "pickup_datetime      0\n",
              "pickup_longitude     0\n",
              "pickup_latitude      0\n",
              "dropoff_longitude    0\n",
              "dropoff_latitude     0\n",
              "passenger_count      0\n",
              "dtype: int64"
            ]
          },
          "metadata": {
            "tags": []
          },
          "execution_count": 44
        }
      ]
    },
    {
      "cell_type": "code",
      "metadata": {
        "id": "MLg3oTnVdO90"
      },
      "source": [
        "dfs.to_csv('trainsampleprep.csv')"
      ],
      "execution_count": null,
      "outputs": []
    },
    {
      "cell_type": "code",
      "metadata": {
        "colab": {
          "base_uri": "https://localhost:8080/",
          "height": 204
        },
        "id": "QOOxB1oZE4V2",
        "outputId": "d254ae1c-5961-4f8b-9ea5-38527a60499b"
      },
      "source": [
        "dfs.head()"
      ],
      "execution_count": null,
      "outputs": [
        {
          "output_type": "execute_result",
          "data": {
            "text/html": [
              "<div>\n",
              "<style scoped>\n",
              "    .dataframe tbody tr th:only-of-type {\n",
              "        vertical-align: middle;\n",
              "    }\n",
              "\n",
              "    .dataframe tbody tr th {\n",
              "        vertical-align: top;\n",
              "    }\n",
              "\n",
              "    .dataframe thead th {\n",
              "        text-align: right;\n",
              "    }\n",
              "</style>\n",
              "<table border=\"1\" class=\"dataframe\">\n",
              "  <thead>\n",
              "    <tr style=\"text-align: right;\">\n",
              "      <th></th>\n",
              "      <th>key</th>\n",
              "      <th>fare_amount</th>\n",
              "      <th>pickup_datetime</th>\n",
              "      <th>pickup_longitude</th>\n",
              "      <th>pickup_latitude</th>\n",
              "      <th>dropoff_longitude</th>\n",
              "      <th>dropoff_latitude</th>\n",
              "      <th>passenger_count</th>\n",
              "    </tr>\n",
              "  </thead>\n",
              "  <tbody>\n",
              "    <tr>\n",
              "      <th>0</th>\n",
              "      <td>2009-06-15 17:26:21.0000001</td>\n",
              "      <td>4.5</td>\n",
              "      <td>2009-06-15 17:26:21 UTC</td>\n",
              "      <td>-73.844311</td>\n",
              "      <td>40.721319</td>\n",
              "      <td>-73.841610</td>\n",
              "      <td>40.712278</td>\n",
              "      <td>1</td>\n",
              "    </tr>\n",
              "    <tr>\n",
              "      <th>1</th>\n",
              "      <td>2011-08-18 00:35:00.00000049</td>\n",
              "      <td>5.7</td>\n",
              "      <td>2011-08-18 00:35:00 UTC</td>\n",
              "      <td>-73.982738</td>\n",
              "      <td>40.761270</td>\n",
              "      <td>-73.991242</td>\n",
              "      <td>40.750562</td>\n",
              "      <td>2</td>\n",
              "    </tr>\n",
              "    <tr>\n",
              "      <th>2</th>\n",
              "      <td>2012-01-04 17:22:00.00000081</td>\n",
              "      <td>16.5</td>\n",
              "      <td>2012-01-04 17:22:00 UTC</td>\n",
              "      <td>-73.951300</td>\n",
              "      <td>40.774138</td>\n",
              "      <td>-73.990095</td>\n",
              "      <td>40.751048</td>\n",
              "      <td>1</td>\n",
              "    </tr>\n",
              "    <tr>\n",
              "      <th>3</th>\n",
              "      <td>2014-02-19 07:22:00.00000074</td>\n",
              "      <td>12.5</td>\n",
              "      <td>2014-02-19 07:22:00 UTC</td>\n",
              "      <td>-73.986430</td>\n",
              "      <td>40.760465</td>\n",
              "      <td>-73.988990</td>\n",
              "      <td>40.737075</td>\n",
              "      <td>1</td>\n",
              "    </tr>\n",
              "    <tr>\n",
              "      <th>4</th>\n",
              "      <td>2013-02-12 12:15:46.0000002</td>\n",
              "      <td>11.5</td>\n",
              "      <td>2013-02-12 12:15:46 UTC</td>\n",
              "      <td>-73.957954</td>\n",
              "      <td>40.779252</td>\n",
              "      <td>-73.961250</td>\n",
              "      <td>40.758787</td>\n",
              "      <td>1</td>\n",
              "    </tr>\n",
              "  </tbody>\n",
              "</table>\n",
              "</div>"
            ],
            "text/plain": [
              "                            key  fare_amount  ... dropoff_latitude  passenger_count\n",
              "0   2009-06-15 17:26:21.0000001          4.5  ...        40.712278                1\n",
              "1  2011-08-18 00:35:00.00000049          5.7  ...        40.750562                2\n",
              "2  2012-01-04 17:22:00.00000081         16.5  ...        40.751048                1\n",
              "3  2014-02-19 07:22:00.00000074         12.5  ...        40.737075                1\n",
              "4   2013-02-12 12:15:46.0000002         11.5  ...        40.758787                1\n",
              "\n",
              "[5 rows x 8 columns]"
            ]
          },
          "metadata": {
            "tags": []
          },
          "execution_count": 46
        }
      ]
    },
    {
      "cell_type": "markdown",
      "metadata": {
        "id": "iojyqIovaHls"
      },
      "source": [
        "Normalización de los datos para el Knn"
      ]
    },
    {
      "cell_type": "code",
      "metadata": {
        "colab": {
          "base_uri": "https://localhost:8080/",
          "height": 204
        },
        "id": "EbJz5X3PaGlp",
        "outputId": "2913d7a4-9b03-40d3-b3cc-026301e5a29a"
      },
      "source": [
        "from sklearn.preprocessing import MinMaxScaler\n",
        "scaler = MinMaxScaler()\n",
        "dfn = pd.DataFrame(scaler.fit_transform(dfs), columns = dfs.columns)\n",
        "dfn.head()"
      ],
      "execution_count": null,
      "outputs": [
        {
          "output_type": "execute_result",
          "data": {
            "text/html": [
              "<div>\n",
              "<style scoped>\n",
              "    .dataframe tbody tr th:only-of-type {\n",
              "        vertical-align: middle;\n",
              "    }\n",
              "\n",
              "    .dataframe tbody tr th {\n",
              "        vertical-align: top;\n",
              "    }\n",
              "\n",
              "    .dataframe thead th {\n",
              "        text-align: right;\n",
              "    }\n",
              "</style>\n",
              "<table border=\"1\" class=\"dataframe\">\n",
              "  <thead>\n",
              "    <tr style=\"text-align: right;\">\n",
              "      <th></th>\n",
              "      <th>key</th>\n",
              "      <th>fare_amount</th>\n",
              "      <th>pickup_datetime</th>\n",
              "      <th>pickup_longitude</th>\n",
              "      <th>pickup_latitude</th>\n",
              "      <th>dropoff_longitude</th>\n",
              "      <th>dropoff_latitude</th>\n",
              "      <th>passenger_count</th>\n",
              "    </tr>\n",
              "  </thead>\n",
              "  <tbody>\n",
              "    <tr>\n",
              "      <th>0</th>\n",
              "      <td>0.096626</td>\n",
              "      <td>0.256750</td>\n",
              "      <td>0.094779</td>\n",
              "      <td>0.486964</td>\n",
              "      <td>0.509565</td>\n",
              "      <td>0.487987</td>\n",
              "      <td>0.520137</td>\n",
              "      <td>0.004808</td>\n",
              "    </tr>\n",
              "    <tr>\n",
              "      <th>1</th>\n",
              "      <td>0.095404</td>\n",
              "      <td>0.254083</td>\n",
              "      <td>0.093577</td>\n",
              "      <td>0.486967</td>\n",
              "      <td>0.509570</td>\n",
              "      <td>0.487992</td>\n",
              "      <td>0.520145</td>\n",
              "      <td>0.014423</td>\n",
              "    </tr>\n",
              "    <tr>\n",
              "      <th>2</th>\n",
              "      <td>0.193632</td>\n",
              "      <td>0.259417</td>\n",
              "      <td>0.189024</td>\n",
              "      <td>0.486962</td>\n",
              "      <td>0.509562</td>\n",
              "      <td>0.487989</td>\n",
              "      <td>0.520142</td>\n",
              "      <td>0.004808</td>\n",
              "    </tr>\n",
              "    <tr>\n",
              "      <th>3</th>\n",
              "      <td>0.841936</td>\n",
              "      <td>0.255000</td>\n",
              "      <td>0.810950</td>\n",
              "      <td>0.486965</td>\n",
              "      <td>0.509566</td>\n",
              "      <td>0.487990</td>\n",
              "      <td>0.520143</td>\n",
              "      <td>0.009615</td>\n",
              "    </tr>\n",
              "    <tr>\n",
              "      <th>4</th>\n",
              "      <td>0.384110</td>\n",
              "      <td>0.260083</td>\n",
              "      <td>0.370704</td>\n",
              "      <td>0.486959</td>\n",
              "      <td>0.509561</td>\n",
              "      <td>0.487990</td>\n",
              "      <td>0.520142</td>\n",
              "      <td>0.004808</td>\n",
              "    </tr>\n",
              "  </tbody>\n",
              "</table>\n",
              "</div>"
            ],
            "text/plain": [
              "        key  fare_amount  ...  dropoff_latitude  passenger_count\n",
              "0  0.096626     0.256750  ...          0.520137         0.004808\n",
              "1  0.095404     0.254083  ...          0.520145         0.014423\n",
              "2  0.193632     0.259417  ...          0.520142         0.004808\n",
              "3  0.841936     0.255000  ...          0.520143         0.009615\n",
              "4  0.384110     0.260083  ...          0.520142         0.004808\n",
              "\n",
              "[5 rows x 8 columns]"
            ]
          },
          "metadata": {
            "tags": []
          },
          "execution_count": 26
        }
      ]
    },
    {
      "cell_type": "code",
      "metadata": {
        "colab": {
          "base_uri": "https://localhost:8080/",
          "height": 204
        },
        "id": "G_5dl9h4EZ_W",
        "outputId": "5cf82dfa-f15f-4717-a8ea-d7c2f338d470"
      },
      "source": [
        "dff = pd.DataFrame(af, columns = ['key','fare_amount','pickup_datetime','pickup_longitude','pickup_latitude','dropoff_longitude','dropoff_latitude','passenger_count'])\n",
        "dff.head()"
      ],
      "execution_count": null,
      "outputs": [
        {
          "output_type": "execute_result",
          "data": {
            "text/html": [
              "<div>\n",
              "<style scoped>\n",
              "    .dataframe tbody tr th:only-of-type {\n",
              "        vertical-align: middle;\n",
              "    }\n",
              "\n",
              "    .dataframe tbody tr th {\n",
              "        vertical-align: top;\n",
              "    }\n",
              "\n",
              "    .dataframe thead th {\n",
              "        text-align: right;\n",
              "    }\n",
              "</style>\n",
              "<table border=\"1\" class=\"dataframe\">\n",
              "  <thead>\n",
              "    <tr style=\"text-align: right;\">\n",
              "      <th></th>\n",
              "      <th>key</th>\n",
              "      <th>fare_amount</th>\n",
              "      <th>pickup_datetime</th>\n",
              "      <th>pickup_longitude</th>\n",
              "      <th>pickup_latitude</th>\n",
              "      <th>dropoff_longitude</th>\n",
              "      <th>dropoff_latitude</th>\n",
              "      <th>passenger_count</th>\n",
              "    </tr>\n",
              "  </thead>\n",
              "  <tbody>\n",
              "    <tr>\n",
              "      <th>0</th>\n",
              "      <td>0.096626</td>\n",
              "      <td>0.256750</td>\n",
              "      <td>0.094779</td>\n",
              "      <td>0.486964</td>\n",
              "      <td>0.509565</td>\n",
              "      <td>0.487987</td>\n",
              "      <td>0.520137</td>\n",
              "      <td>0.004808</td>\n",
              "    </tr>\n",
              "    <tr>\n",
              "      <th>1</th>\n",
              "      <td>0.095404</td>\n",
              "      <td>0.254083</td>\n",
              "      <td>0.093577</td>\n",
              "      <td>0.486967</td>\n",
              "      <td>0.509570</td>\n",
              "      <td>0.487992</td>\n",
              "      <td>0.520145</td>\n",
              "      <td>0.014423</td>\n",
              "    </tr>\n",
              "    <tr>\n",
              "      <th>2</th>\n",
              "      <td>0.193632</td>\n",
              "      <td>0.259417</td>\n",
              "      <td>0.189024</td>\n",
              "      <td>0.486962</td>\n",
              "      <td>0.509562</td>\n",
              "      <td>0.487989</td>\n",
              "      <td>0.520142</td>\n",
              "      <td>0.004808</td>\n",
              "    </tr>\n",
              "    <tr>\n",
              "      <th>3</th>\n",
              "      <td>0.841936</td>\n",
              "      <td>0.255000</td>\n",
              "      <td>0.810950</td>\n",
              "      <td>0.486965</td>\n",
              "      <td>0.509566</td>\n",
              "      <td>0.487990</td>\n",
              "      <td>0.520143</td>\n",
              "      <td>0.009615</td>\n",
              "    </tr>\n",
              "    <tr>\n",
              "      <th>4</th>\n",
              "      <td>0.384110</td>\n",
              "      <td>0.260083</td>\n",
              "      <td>0.370704</td>\n",
              "      <td>0.486959</td>\n",
              "      <td>0.509561</td>\n",
              "      <td>0.487990</td>\n",
              "      <td>0.520142</td>\n",
              "      <td>0.004808</td>\n",
              "    </tr>\n",
              "  </tbody>\n",
              "</table>\n",
              "</div>"
            ],
            "text/plain": [
              "        key  fare_amount  ...  dropoff_latitude  passenger_count\n",
              "0  0.096626     0.256750  ...          0.520137         0.004808\n",
              "1  0.095404     0.254083  ...          0.520145         0.014423\n",
              "2  0.193632     0.259417  ...          0.520142         0.004808\n",
              "3  0.841936     0.255000  ...          0.520143         0.009615\n",
              "4  0.384110     0.260083  ...          0.520142         0.004808\n",
              "\n",
              "[5 rows x 8 columns]"
            ]
          },
          "metadata": {
            "tags": []
          },
          "execution_count": 28
        }
      ]
    },
    {
      "cell_type": "markdown",
      "metadata": {
        "id": "GS1wLlVmd8sB"
      },
      "source": [
        "Verificar valores Nan"
      ]
    },
    {
      "cell_type": "code",
      "metadata": {
        "colab": {
          "base_uri": "https://localhost:8080/"
        },
        "id": "fPXiMfWwGCxz",
        "outputId": "5aa6df3e-3c57-4c1d-d006-e9ba26c698df"
      },
      "source": [
        "dff.isna().sum()"
      ],
      "execution_count": null,
      "outputs": [
        {
          "output_type": "execute_result",
          "data": {
            "text/plain": [
              "key                  0\n",
              "fare_amount          0\n",
              "pickup_datetime      0\n",
              "pickup_longitude     0\n",
              "pickup_latitude      0\n",
              "dropoff_longitude    0\n",
              "dropoff_latitude     0\n",
              "passenger_count      0\n",
              "dtype: int64"
            ]
          },
          "metadata": {
            "tags": []
          },
          "execution_count": 29
        }
      ]
    }
  ]
}