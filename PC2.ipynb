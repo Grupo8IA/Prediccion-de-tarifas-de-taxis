{
  "nbformat": 4,
  "nbformat_minor": 0,
  "metadata": {
    "accelerator": "TPU",
    "colab": {
      "name": "PC2.ipynb",
      "provenance": [],
      "collapsed_sections": [
        "qs04f5FnTvqO"
      ],
      "machine_shape": "hm"
    },
    "kernelspec": {
      "display_name": "Python 3",
      "language": "python",
      "name": "python3"
    },
    "language_info": {
      "codemirror_mode": {
        "name": "ipython",
        "version": 3
      },
      "file_extension": ".py",
      "mimetype": "text/x-python",
      "name": "python",
      "nbconvert_exporter": "python",
      "pygments_lexer": "ipython3",
      "version": "3.8.5"
    }
  },
  "cells": [
    {
      "cell_type": "markdown",
      "metadata": {
        "id": "9ggjf76Ucj5l"
      },
      "source": [
        "# Práctica Calificada 02\n",
        "## Predicción de tarifas de taxis"
      ]
    },
    {
      "cell_type": "markdown",
      "metadata": {
        "id": "626euqflcj5p"
      },
      "source": [
        "<span style=\"color:red\">\n",
        "Abrir el cuaderno en Google Colab y ejecutar las celdas nuevamente.\n",
        "</span>."
      ]
    },
    {
      "cell_type": "code",
      "metadata": {
        "id": "hhGH-rNMPn8g"
      },
      "source": [
        "from google.colab import drive\n",
        "drive.mount('/content/drive/')"
      ],
      "execution_count": null,
      "outputs": []
    },
    {
      "cell_type": "code",
      "metadata": {
        "colab": {
          "base_uri": "https://localhost:8080/"
        },
        "id": "Bg6tY4noF7IC",
        "outputId": "0e6028bf-541a-406a-e9a7-19fbf6e24dd0"
      },
      "source": [
        "drive.mount('/gdrive')\n",
        "%cd /gdrive/MyDrive/\n",
        "#%ls"
      ],
      "execution_count": null,
      "outputs": [
        {
          "output_type": "stream",
          "text": [
            "Mounted at /gdrive\n",
            "/gdrive/MyDrive\n"
          ],
          "name": "stdout"
        }
      ]
    },
    {
      "cell_type": "code",
      "metadata": {
        "id": "IJQfAQHyQpq3"
      },
      "source": [
        "import pandas as pd\n",
        "import numpy as np"
      ],
      "execution_count": null,
      "outputs": []
    },
    {
      "cell_type": "code",
      "metadata": {
        "id": "OYFB6QLjEGrN"
      },
      "source": [
        "#np.set_printoptions(formatter={'float_kind':'{:f}'.format})"
      ],
      "execution_count": null,
      "outputs": []
    },
    {
      "cell_type": "markdown",
      "metadata": {
        "id": "m13y9h8hRgU-"
      },
      "source": [
        "#### Importar data total"
      ]
    },
    {
      "cell_type": "code",
      "metadata": {
        "colab": {
          "base_uri": "https://localhost:8080/",
          "height": 204
        },
        "id": "J-1GOuqkF_fu",
        "outputId": "9f63023f-804e-4964-fbe7-ae7c19d4b588"
      },
      "source": [
        "dtypes = {\n",
        "      'key': 'object',\n",
        "      'fare_amount': 'float64',\n",
        "      'pickup_datetime': 'object',\n",
        "      'pickup_longitude': 'float64', \n",
        "      'pickup_latitude': 'float64',\n",
        "      'dropoff_longitude': 'float64',\n",
        "      'dropoff_latitude': 'float64',\n",
        "      'passenger_count': 'int64',\n",
        "      \n",
        "    \n",
        "}\n",
        "df = pd.read_csv(\"train.csv\", dtype=dtypes, nrows=1000000)\n",
        "df = df[['key', 'pickup_datetime', 'pickup_latitude', 'pickup_longitude', 'dropoff_latitude', 'dropoff_longitude', 'passenger_count', 'fare_amount']]\n",
        "df.head()"
      ],
      "execution_count": null,
      "outputs": [
        {
          "output_type": "execute_result",
          "data": {
            "text/html": [
              "<div>\n",
              "<style scoped>\n",
              "    .dataframe tbody tr th:only-of-type {\n",
              "        vertical-align: middle;\n",
              "    }\n",
              "\n",
              "    .dataframe tbody tr th {\n",
              "        vertical-align: top;\n",
              "    }\n",
              "\n",
              "    .dataframe thead th {\n",
              "        text-align: right;\n",
              "    }\n",
              "</style>\n",
              "<table border=\"1\" class=\"dataframe\">\n",
              "  <thead>\n",
              "    <tr style=\"text-align: right;\">\n",
              "      <th></th>\n",
              "      <th>key</th>\n",
              "      <th>fare_amount</th>\n",
              "      <th>pickup_datetime</th>\n",
              "      <th>pickup_longitude</th>\n",
              "      <th>pickup_latitude</th>\n",
              "      <th>dropoff_longitude</th>\n",
              "      <th>dropoff_latitude</th>\n",
              "      <th>passenger_count</th>\n",
              "    </tr>\n",
              "  </thead>\n",
              "  <tbody>\n",
              "    <tr>\n",
              "      <th>0</th>\n",
              "      <td>2009-06-15 17:26:21.0000001</td>\n",
              "      <td>4.5</td>\n",
              "      <td>2009-06-15 17:26:21 UTC</td>\n",
              "      <td>-73.844311</td>\n",
              "      <td>40.721319</td>\n",
              "      <td>-73.841610</td>\n",
              "      <td>40.712278</td>\n",
              "      <td>1</td>\n",
              "    </tr>\n",
              "    <tr>\n",
              "      <th>1</th>\n",
              "      <td>2010-01-05 16:52:16.0000002</td>\n",
              "      <td>16.9</td>\n",
              "      <td>2010-01-05 16:52:16 UTC</td>\n",
              "      <td>-74.016048</td>\n",
              "      <td>40.711303</td>\n",
              "      <td>-73.979268</td>\n",
              "      <td>40.782004</td>\n",
              "      <td>1</td>\n",
              "    </tr>\n",
              "    <tr>\n",
              "      <th>2</th>\n",
              "      <td>2011-08-18 00:35:00.00000049</td>\n",
              "      <td>5.7</td>\n",
              "      <td>2011-08-18 00:35:00 UTC</td>\n",
              "      <td>-73.982738</td>\n",
              "      <td>40.761270</td>\n",
              "      <td>-73.991242</td>\n",
              "      <td>40.750562</td>\n",
              "      <td>2</td>\n",
              "    </tr>\n",
              "    <tr>\n",
              "      <th>3</th>\n",
              "      <td>2012-04-21 04:30:42.0000001</td>\n",
              "      <td>7.7</td>\n",
              "      <td>2012-04-21 04:30:42 UTC</td>\n",
              "      <td>-73.987130</td>\n",
              "      <td>40.733143</td>\n",
              "      <td>-73.991567</td>\n",
              "      <td>40.758092</td>\n",
              "      <td>1</td>\n",
              "    </tr>\n",
              "    <tr>\n",
              "      <th>4</th>\n",
              "      <td>2010-03-09 07:51:00.000000135</td>\n",
              "      <td>5.3</td>\n",
              "      <td>2010-03-09 07:51:00 UTC</td>\n",
              "      <td>-73.968095</td>\n",
              "      <td>40.768008</td>\n",
              "      <td>-73.956655</td>\n",
              "      <td>40.783762</td>\n",
              "      <td>1</td>\n",
              "    </tr>\n",
              "  </tbody>\n",
              "</table>\n",
              "</div>"
            ],
            "text/plain": [
              "                             key  ...  passenger_count\n",
              "0    2009-06-15 17:26:21.0000001  ...                1\n",
              "1    2010-01-05 16:52:16.0000002  ...                1\n",
              "2   2011-08-18 00:35:00.00000049  ...                2\n",
              "3    2012-04-21 04:30:42.0000001  ...                1\n",
              "4  2010-03-09 07:51:00.000000135  ...                1\n",
              "\n",
              "[5 rows x 8 columns]"
            ]
          },
          "metadata": {
            "tags": []
          },
          "execution_count": 9
        }
      ]
    },
    {
      "cell_type": "code",
      "metadata": {
        "id": "h5Tt-_lfcj5u"
      },
      "source": [
        "df.info()"
      ],
      "execution_count": null,
      "outputs": []
    },
    {
      "cell_type": "markdown",
      "metadata": {
        "id": "GYEk5IMwTz4z"
      },
      "source": [
        "### Primera revisión de la data completa"
      ]
    },
    {
      "cell_type": "markdown",
      "metadata": {
        "id": "vj4jep39qtw5"
      },
      "source": [
        "#### Valores duplicados"
      ]
    },
    {
      "cell_type": "code",
      "metadata": {
        "colab": {
          "base_uri": "https://localhost:8080/",
          "height": 49
        },
        "id": "evoC50cPhCIc",
        "outputId": "d8ca24fb-68cf-44d2-eca9-cc6e1a4f516f"
      },
      "source": [
        "%time\n",
        "duplicateRowsDF = df.loc[df.duplicated(['key'], keep=False), :]\n",
        "duplicateRowsDF"
      ],
      "execution_count": null,
      "outputs": [
        {
          "output_type": "execute_result",
          "data": {
            "text/html": [
              "<div>\n",
              "<style scoped>\n",
              "    .dataframe tbody tr th:only-of-type {\n",
              "        vertical-align: middle;\n",
              "    }\n",
              "\n",
              "    .dataframe tbody tr th {\n",
              "        vertical-align: top;\n",
              "    }\n",
              "\n",
              "    .dataframe thead th {\n",
              "        text-align: right;\n",
              "    }\n",
              "</style>\n",
              "<table border=\"1\" class=\"dataframe\">\n",
              "  <thead>\n",
              "    <tr style=\"text-align: right;\">\n",
              "      <th></th>\n",
              "      <th>key</th>\n",
              "      <th>fare_amount</th>\n",
              "      <th>pickup_datetime</th>\n",
              "      <th>pickup_longitude</th>\n",
              "      <th>pickup_latitude</th>\n",
              "      <th>dropoff_longitude</th>\n",
              "      <th>dropoff_latitude</th>\n",
              "      <th>passenger_count</th>\n",
              "    </tr>\n",
              "  </thead>\n",
              "  <tbody>\n",
              "  </tbody>\n",
              "</table>\n",
              "</div>"
            ],
            "text/plain": [
              "Empty DataFrame\n",
              "Columns: [key, fare_amount, pickup_datetime, pickup_longitude, pickup_latitude, dropoff_longitude, dropoff_latitude, passenger_count]\n",
              "Index: []"
            ]
          },
          "metadata": {
            "tags": []
          },
          "execution_count": 6
        }
      ]
    },
    {
      "cell_type": "code",
      "metadata": {
        "id": "AsxLJMSwcj5v"
      },
      "source": [
        "df['key'][55423855] =  '2014-12-12 11:33:00.00000016'"
      ],
      "execution_count": null,
      "outputs": []
    },
    {
      "cell_type": "code",
      "metadata": {
        "id": "WlTUnxu0cj5v"
      },
      "source": [
        "duplicateRowsDF = df.loc[df.duplicated(['key'], keep=False), :]\n",
        "duplicateRowsDF.shape[0]"
      ],
      "execution_count": null,
      "outputs": []
    },
    {
      "cell_type": "markdown",
      "metadata": {
        "id": "KRCFfN7hUFiQ"
      },
      "source": [
        "#### Valores NaN"
      ]
    },
    {
      "cell_type": "code",
      "metadata": {
        "id": "SIjYFgx9cj5w"
      },
      "source": [
        "valores_nan = df.isna().sum()\n",
        "valores_nan"
      ],
      "execution_count": null,
      "outputs": []
    },
    {
      "cell_type": "code",
      "metadata": {
        "id": "UNmatVrvcj5w"
      },
      "source": [
        "df = df.dropna()"
      ],
      "execution_count": null,
      "outputs": []
    },
    {
      "cell_type": "markdown",
      "metadata": {
        "id": "tHRnK9gxcj5w"
      },
      "source": [
        "#### Coordenadas"
      ]
    },
    {
      "cell_type": "markdown",
      "metadata": {
        "id": "LeB7v2caeE-Q"
      },
      "source": [
        "Se analizará la data con el objetivo de eliminar las filas con coordenadas ubicadas en el océano.\n"
      ]
    },
    {
      "cell_type": "code",
      "metadata": {
        "colab": {
          "base_uri": "https://localhost:8080/"
        },
        "id": "fvLRgQm4w6gv",
        "outputId": "9a63733d-1a95-466e-e372-a9456c6d445d"
      },
      "source": [
        "!pip install global-land-mask"
      ],
      "execution_count": null,
      "outputs": [
        {
          "output_type": "stream",
          "text": [
            "Collecting global-land-mask\n",
            "\u001b[?25l  Downloading https://files.pythonhosted.org/packages/e6/e9/eaac67e39b68f64828a164f8dbfcf13baccd7382704ea120152af475f520/global_land_mask-1.0.0-py3-none-any.whl (1.8MB)\n",
            "\u001b[K     |████████████████████████████████| 1.8MB 5.1MB/s \n",
            "\u001b[?25hInstalling collected packages: global-land-mask\n",
            "Successfully installed global-land-mask-1.0.0\n"
          ],
          "name": "stdout"
        }
      ]
    },
    {
      "cell_type": "code",
      "metadata": {
        "id": "EHDiR4uHLME7"
      },
      "source": [
        "from global_land_mask import globe as gl"
      ],
      "execution_count": null,
      "outputs": []
    },
    {
      "cell_type": "code",
      "metadata": {
        "id": "h_OKBr002fJl"
      },
      "source": [
        "df.shape"
      ],
      "execution_count": null,
      "outputs": []
    },
    {
      "cell_type": "code",
      "metadata": {
        "colab": {
          "base_uri": "https://localhost:8080/"
        },
        "id": "eKQUwiZo20So",
        "outputId": "57237550-ae29-4246-803a-696cd67632f0"
      },
      "source": [
        "df.info()"
      ],
      "execution_count": null,
      "outputs": [
        {
          "output_type": "stream",
          "text": [
            "<class 'pandas.core.frame.DataFrame'>\n",
            "Int64Index: 11084698 entries, 0 to 11084770\n",
            "Data columns (total 8 columns):\n",
            " #   Column             Dtype  \n",
            "---  ------             -----  \n",
            " 0   key                object \n",
            " 1   fare_amount        float64\n",
            " 2   pickup_datetime    object \n",
            " 3   pickup_longitude   float64\n",
            " 4   pickup_latitude    float64\n",
            " 5   dropoff_longitude  float64\n",
            " 6   dropoff_latitude   float64\n",
            " 7   passenger_count    int64  \n",
            "dtypes: float64(5), int64(1), object(2)\n",
            "memory usage: 761.1+ MB\n"
          ],
          "name": "stdout"
        }
      ]
    },
    {
      "cell_type": "code",
      "metadata": {
        "colab": {
          "base_uri": "https://localhost:8080/",
          "height": 419
        },
        "id": "BvAMaLT7zCsb",
        "outputId": "8777ec9a-a04b-4129-cf25-eefdfffb773f"
      },
      "source": [
        "df = df[df['pickup_latitude'].values > -90]\n",
        "df = df[df['pickup_latitude'].values < 90]\n",
        "df = df[df['dropoff_latitude'].values > -90]\n",
        "df = df[df['dropoff_latitude'].values < 90]\n",
        "\n",
        "df = df[df['pickup_longitude'].values > -180]\n",
        "df = df[df['pickup_longitude'].values < 180]\n",
        "df = df[df['dropoff_longitude'].values > -180]\n",
        "df = df[df['dropoff_longitude'].values < 180]"
      ],
      "execution_count": null,
      "outputs": [
        {
          "output_type": "execute_result",
          "data": {
            "text/html": [
              "<div>\n",
              "<style scoped>\n",
              "    .dataframe tbody tr th:only-of-type {\n",
              "        vertical-align: middle;\n",
              "    }\n",
              "\n",
              "    .dataframe tbody tr th {\n",
              "        vertical-align: top;\n",
              "    }\n",
              "\n",
              "    .dataframe thead th {\n",
              "        text-align: right;\n",
              "    }\n",
              "</style>\n",
              "<table border=\"1\" class=\"dataframe\">\n",
              "  <thead>\n",
              "    <tr style=\"text-align: right;\">\n",
              "      <th></th>\n",
              "      <th>key</th>\n",
              "      <th>fare_amount</th>\n",
              "      <th>pickup_datetime</th>\n",
              "      <th>pickup_longitude</th>\n",
              "      <th>pickup_latitude</th>\n",
              "      <th>dropoff_longitude</th>\n",
              "      <th>dropoff_latitude</th>\n",
              "      <th>passenger_count</th>\n",
              "    </tr>\n",
              "  </thead>\n",
              "  <tbody>\n",
              "    <tr>\n",
              "      <th>0</th>\n",
              "      <td>2009-06-15 17:26:21.0000001</td>\n",
              "      <td>4.5</td>\n",
              "      <td>2009-06-15 17:26:21 UTC</td>\n",
              "      <td>-73.844311</td>\n",
              "      <td>40.721319</td>\n",
              "      <td>-73.841610</td>\n",
              "      <td>40.712278</td>\n",
              "      <td>1</td>\n",
              "    </tr>\n",
              "    <tr>\n",
              "      <th>1</th>\n",
              "      <td>2011-08-18 00:35:00.00000049</td>\n",
              "      <td>5.7</td>\n",
              "      <td>2011-08-18 00:35:00 UTC</td>\n",
              "      <td>-73.982738</td>\n",
              "      <td>40.761270</td>\n",
              "      <td>-73.991242</td>\n",
              "      <td>40.750562</td>\n",
              "      <td>2</td>\n",
              "    </tr>\n",
              "    <tr>\n",
              "      <th>2</th>\n",
              "      <td>2012-01-04 17:22:00.00000081</td>\n",
              "      <td>16.5</td>\n",
              "      <td>2012-01-04 17:22:00 UTC</td>\n",
              "      <td>-73.951300</td>\n",
              "      <td>40.774138</td>\n",
              "      <td>-73.990095</td>\n",
              "      <td>40.751048</td>\n",
              "      <td>1</td>\n",
              "    </tr>\n",
              "    <tr>\n",
              "      <th>3</th>\n",
              "      <td>2014-02-19 07:22:00.00000074</td>\n",
              "      <td>12.5</td>\n",
              "      <td>2014-02-19 07:22:00 UTC</td>\n",
              "      <td>-73.986430</td>\n",
              "      <td>40.760465</td>\n",
              "      <td>-73.988990</td>\n",
              "      <td>40.737075</td>\n",
              "      <td>1</td>\n",
              "    </tr>\n",
              "    <tr>\n",
              "      <th>4</th>\n",
              "      <td>2013-02-12 12:15:46.0000002</td>\n",
              "      <td>11.5</td>\n",
              "      <td>2013-02-12 12:15:46 UTC</td>\n",
              "      <td>-73.957954</td>\n",
              "      <td>40.779252</td>\n",
              "      <td>-73.961250</td>\n",
              "      <td>40.758787</td>\n",
              "      <td>1</td>\n",
              "    </tr>\n",
              "    <tr>\n",
              "      <th>...</th>\n",
              "      <td>...</td>\n",
              "      <td>...</td>\n",
              "      <td>...</td>\n",
              "      <td>...</td>\n",
              "      <td>...</td>\n",
              "      <td>...</td>\n",
              "      <td>...</td>\n",
              "      <td>...</td>\n",
              "    </tr>\n",
              "    <tr>\n",
              "      <th>11084766</th>\n",
              "      <td>2009-08-27 18:39:00.00000067</td>\n",
              "      <td>11.3</td>\n",
              "      <td>2009-08-27 18:39:00 UTC</td>\n",
              "      <td>-73.980997</td>\n",
              "      <td>40.762858</td>\n",
              "      <td>-73.990503</td>\n",
              "      <td>40.736850</td>\n",
              "      <td>1</td>\n",
              "    </tr>\n",
              "    <tr>\n",
              "      <th>11084767</th>\n",
              "      <td>2015-05-17 00:27:40.0000005</td>\n",
              "      <td>5.0</td>\n",
              "      <td>2015-05-17 00:27:40 UTC</td>\n",
              "      <td>-73.974289</td>\n",
              "      <td>40.761883</td>\n",
              "      <td>-73.982964</td>\n",
              "      <td>40.756119</td>\n",
              "      <td>3</td>\n",
              "    </tr>\n",
              "    <tr>\n",
              "      <th>11084768</th>\n",
              "      <td>2009-02-03 00:28:08.0000001</td>\n",
              "      <td>10.2</td>\n",
              "      <td>2009-02-03 00:28:08 UTC</td>\n",
              "      <td>-73.999809</td>\n",
              "      <td>40.726766</td>\n",
              "      <td>-73.979344</td>\n",
              "      <td>40.749732</td>\n",
              "      <td>2</td>\n",
              "    </tr>\n",
              "    <tr>\n",
              "      <th>11084769</th>\n",
              "      <td>2014-09-22 09:00:00.00000019</td>\n",
              "      <td>16.5</td>\n",
              "      <td>2014-09-22 09:00:00 UTC</td>\n",
              "      <td>-73.977880</td>\n",
              "      <td>40.763550</td>\n",
              "      <td>-73.974020</td>\n",
              "      <td>40.743170</td>\n",
              "      <td>6</td>\n",
              "    </tr>\n",
              "    <tr>\n",
              "      <th>11084770</th>\n",
              "      <td>2014-12-12 11:33:00.00000015</td>\n",
              "      <td>7.5</td>\n",
              "      <td>2014-12-12 11:33:00 UTC</td>\n",
              "      <td>-73.969722</td>\n",
              "      <td>40.797668</td>\n",
              "      <td>-73.970885</td>\n",
              "      <td>40.783313</td>\n",
              "      <td>1</td>\n",
              "    </tr>\n",
              "  </tbody>\n",
              "</table>\n",
              "<p>11084127 rows × 8 columns</p>\n",
              "</div>"
            ],
            "text/plain": [
              "                                   key  ...  passenger_count\n",
              "0          2009-06-15 17:26:21.0000001  ...                1\n",
              "1         2011-08-18 00:35:00.00000049  ...                2\n",
              "2         2012-01-04 17:22:00.00000081  ...                1\n",
              "3         2014-02-19 07:22:00.00000074  ...                1\n",
              "4          2013-02-12 12:15:46.0000002  ...                1\n",
              "...                                ...  ...              ...\n",
              "11084766  2009-08-27 18:39:00.00000067  ...                1\n",
              "11084767   2015-05-17 00:27:40.0000005  ...                3\n",
              "11084768   2009-02-03 00:28:08.0000001  ...                2\n",
              "11084769  2014-09-22 09:00:00.00000019  ...                6\n",
              "11084770  2014-12-12 11:33:00.00000015  ...                1\n",
              "\n",
              "[11084127 rows x 8 columns]"
            ]
          },
          "metadata": {
            "tags": []
          },
          "execution_count": 36
        }
      ]
    },
    {
      "cell_type": "code",
      "metadata": {
        "colab": {
          "base_uri": "https://localhost:8080/",
          "height": 419
        },
        "id": "PEETEkebB3UI",
        "outputId": "9b54b4fd-b2c5-4168-efb7-ebed7806d582"
      },
      "source": [
        "pla = df[['pickup_latitude']].to_numpy()\n",
        "plon = df[['pickup_longitude']].to_numpy()\n",
        "dla = df[['dropoff_latitude']].to_numpy()\n",
        "dlon = df[['dropoff_longitude']].to_numpy()\n",
        "\n",
        "#gl.is_ocean(pla,plon)\n",
        "#df.loc[gl.is_ocean(pla,plon), :]\n",
        "\n",
        "df = df.drop(df.loc[gl.is_ocean(pla,plon)].index)"
      ],
      "execution_count": null,
      "outputs": [
        {
          "output_type": "execute_result",
          "data": {
            "text/html": [
              "<div>\n",
              "<style scoped>\n",
              "    .dataframe tbody tr th:only-of-type {\n",
              "        vertical-align: middle;\n",
              "    }\n",
              "\n",
              "    .dataframe tbody tr th {\n",
              "        vertical-align: top;\n",
              "    }\n",
              "\n",
              "    .dataframe thead th {\n",
              "        text-align: right;\n",
              "    }\n",
              "</style>\n",
              "<table border=\"1\" class=\"dataframe\">\n",
              "  <thead>\n",
              "    <tr style=\"text-align: right;\">\n",
              "      <th></th>\n",
              "      <th>key</th>\n",
              "      <th>fare_amount</th>\n",
              "      <th>pickup_datetime</th>\n",
              "      <th>pickup_longitude</th>\n",
              "      <th>pickup_latitude</th>\n",
              "      <th>dropoff_longitude</th>\n",
              "      <th>dropoff_latitude</th>\n",
              "      <th>passenger_count</th>\n",
              "    </tr>\n",
              "  </thead>\n",
              "  <tbody>\n",
              "    <tr>\n",
              "      <th>0</th>\n",
              "      <td>2009-06-15 17:26:21.0000001</td>\n",
              "      <td>4.5</td>\n",
              "      <td>2009-06-15 17:26:21 UTC</td>\n",
              "      <td>-73.844311</td>\n",
              "      <td>40.721319</td>\n",
              "      <td>-73.841610</td>\n",
              "      <td>40.712278</td>\n",
              "      <td>1</td>\n",
              "    </tr>\n",
              "    <tr>\n",
              "      <th>1</th>\n",
              "      <td>2011-08-18 00:35:00.00000049</td>\n",
              "      <td>5.7</td>\n",
              "      <td>2011-08-18 00:35:00 UTC</td>\n",
              "      <td>-73.982738</td>\n",
              "      <td>40.761270</td>\n",
              "      <td>-73.991242</td>\n",
              "      <td>40.750562</td>\n",
              "      <td>2</td>\n",
              "    </tr>\n",
              "    <tr>\n",
              "      <th>2</th>\n",
              "      <td>2012-01-04 17:22:00.00000081</td>\n",
              "      <td>16.5</td>\n",
              "      <td>2012-01-04 17:22:00 UTC</td>\n",
              "      <td>-73.951300</td>\n",
              "      <td>40.774138</td>\n",
              "      <td>-73.990095</td>\n",
              "      <td>40.751048</td>\n",
              "      <td>1</td>\n",
              "    </tr>\n",
              "    <tr>\n",
              "      <th>3</th>\n",
              "      <td>2014-02-19 07:22:00.00000074</td>\n",
              "      <td>12.5</td>\n",
              "      <td>2014-02-19 07:22:00 UTC</td>\n",
              "      <td>-73.986430</td>\n",
              "      <td>40.760465</td>\n",
              "      <td>-73.988990</td>\n",
              "      <td>40.737075</td>\n",
              "      <td>1</td>\n",
              "    </tr>\n",
              "    <tr>\n",
              "      <th>4</th>\n",
              "      <td>2013-02-12 12:15:46.0000002</td>\n",
              "      <td>11.5</td>\n",
              "      <td>2013-02-12 12:15:46 UTC</td>\n",
              "      <td>-73.957954</td>\n",
              "      <td>40.779252</td>\n",
              "      <td>-73.961250</td>\n",
              "      <td>40.758787</td>\n",
              "      <td>1</td>\n",
              "    </tr>\n",
              "    <tr>\n",
              "      <th>...</th>\n",
              "      <td>...</td>\n",
              "      <td>...</td>\n",
              "      <td>...</td>\n",
              "      <td>...</td>\n",
              "      <td>...</td>\n",
              "      <td>...</td>\n",
              "      <td>...</td>\n",
              "      <td>...</td>\n",
              "    </tr>\n",
              "    <tr>\n",
              "      <th>11084766</th>\n",
              "      <td>2009-08-27 18:39:00.00000067</td>\n",
              "      <td>11.3</td>\n",
              "      <td>2009-08-27 18:39:00 UTC</td>\n",
              "      <td>-73.980997</td>\n",
              "      <td>40.762858</td>\n",
              "      <td>-73.990503</td>\n",
              "      <td>40.736850</td>\n",
              "      <td>1</td>\n",
              "    </tr>\n",
              "    <tr>\n",
              "      <th>11084767</th>\n",
              "      <td>2015-05-17 00:27:40.0000005</td>\n",
              "      <td>5.0</td>\n",
              "      <td>2015-05-17 00:27:40 UTC</td>\n",
              "      <td>-73.974289</td>\n",
              "      <td>40.761883</td>\n",
              "      <td>-73.982964</td>\n",
              "      <td>40.756119</td>\n",
              "      <td>3</td>\n",
              "    </tr>\n",
              "    <tr>\n",
              "      <th>11084768</th>\n",
              "      <td>2009-02-03 00:28:08.0000001</td>\n",
              "      <td>10.2</td>\n",
              "      <td>2009-02-03 00:28:08 UTC</td>\n",
              "      <td>-73.999809</td>\n",
              "      <td>40.726766</td>\n",
              "      <td>-73.979344</td>\n",
              "      <td>40.749732</td>\n",
              "      <td>2</td>\n",
              "    </tr>\n",
              "    <tr>\n",
              "      <th>11084769</th>\n",
              "      <td>2014-09-22 09:00:00.00000019</td>\n",
              "      <td>16.5</td>\n",
              "      <td>2014-09-22 09:00:00 UTC</td>\n",
              "      <td>-73.977880</td>\n",
              "      <td>40.763550</td>\n",
              "      <td>-73.974020</td>\n",
              "      <td>40.743170</td>\n",
              "      <td>6</td>\n",
              "    </tr>\n",
              "    <tr>\n",
              "      <th>11084770</th>\n",
              "      <td>2014-12-12 11:33:00.00000015</td>\n",
              "      <td>7.5</td>\n",
              "      <td>2014-12-12 11:33:00 UTC</td>\n",
              "      <td>-73.969722</td>\n",
              "      <td>40.797668</td>\n",
              "      <td>-73.970885</td>\n",
              "      <td>40.783313</td>\n",
              "      <td>1</td>\n",
              "    </tr>\n",
              "  </tbody>\n",
              "</table>\n",
              "<p>10848569 rows × 8 columns</p>\n",
              "</div>"
            ],
            "text/plain": [
              "                                   key  ...  passenger_count\n",
              "0          2009-06-15 17:26:21.0000001  ...                1\n",
              "1         2011-08-18 00:35:00.00000049  ...                2\n",
              "2         2012-01-04 17:22:00.00000081  ...                1\n",
              "3         2014-02-19 07:22:00.00000074  ...                1\n",
              "4          2013-02-12 12:15:46.0000002  ...                1\n",
              "...                                ...  ...              ...\n",
              "11084766  2009-08-27 18:39:00.00000067  ...                1\n",
              "11084767   2015-05-17 00:27:40.0000005  ...                3\n",
              "11084768   2009-02-03 00:28:08.0000001  ...                2\n",
              "11084769  2014-09-22 09:00:00.00000019  ...                6\n",
              "11084770  2014-12-12 11:33:00.00000015  ...                1\n",
              "\n",
              "[10848569 rows x 8 columns]"
            ]
          },
          "metadata": {
            "tags": []
          },
          "execution_count": 43
        }
      ]
    },
    {
      "cell_type": "code",
      "metadata": {
        "id": "bbwr-zVHhwl0"
      },
      "source": [
        "# dfs[['pickup_latitude', 'pickup_longitude']] = dfs.apply(lambda x: ocean_values_to_nan(x['pickup_latitude'],x['pickup_longitude']), axis=1 )\n",
        "# dfs[['dropoff_latitude', 'dropoff_longitude']] = dfs.apply(lambda x: ocean_values_to_nan(x['dropoff_latitude'],x['dropoff_longitude']) , axis=1)"
      ],
      "execution_count": null,
      "outputs": []
    },
    {
      "cell_type": "code",
      "metadata": {
        "colab": {
          "base_uri": "https://localhost:8080/"
        },
        "id": "wdcfeIKIYiMF",
        "outputId": "07d39294-70cd-4f4c-89ef-6dcccf405d25"
      },
      "source": [
        "df.shape"
      ],
      "execution_count": null,
      "outputs": [
        {
          "output_type": "execute_result",
          "data": {
            "text/plain": [
              "key                  0\n",
              "fare_amount          0\n",
              "pickup_datetime      0\n",
              "pickup_longitude     0\n",
              "pickup_latitude      0\n",
              "dropoff_longitude    0\n",
              "dropoff_latitude     0\n",
              "passenger_count      0\n",
              "dtype: int64"
            ]
          },
          "metadata": {
            "tags": []
          },
          "execution_count": 44
        }
      ]
    },
    {
      "cell_type": "code",
      "metadata": {
        "id": "MLg3oTnVdO90"
      },
      "source": [
        "#df.to_csv('trainsampleprep.csv')"
      ],
      "execution_count": null,
      "outputs": []
    },
    {
      "cell_type": "code",
      "metadata": {
        "colab": {
          "base_uri": "https://localhost:8080/",
          "height": 204
        },
        "id": "QOOxB1oZE4V2",
        "outputId": "d254ae1c-5961-4f8b-9ea5-38527a60499b"
      },
      "source": [
        "df.head(-15)"
      ],
      "execution_count": null,
      "outputs": [
        {
          "output_type": "execute_result",
          "data": {
            "text/html": [
              "<div>\n",
              "<style scoped>\n",
              "    .dataframe tbody tr th:only-of-type {\n",
              "        vertical-align: middle;\n",
              "    }\n",
              "\n",
              "    .dataframe tbody tr th {\n",
              "        vertical-align: top;\n",
              "    }\n",
              "\n",
              "    .dataframe thead th {\n",
              "        text-align: right;\n",
              "    }\n",
              "</style>\n",
              "<table border=\"1\" class=\"dataframe\">\n",
              "  <thead>\n",
              "    <tr style=\"text-align: right;\">\n",
              "      <th></th>\n",
              "      <th>key</th>\n",
              "      <th>fare_amount</th>\n",
              "      <th>pickup_datetime</th>\n",
              "      <th>pickup_longitude</th>\n",
              "      <th>pickup_latitude</th>\n",
              "      <th>dropoff_longitude</th>\n",
              "      <th>dropoff_latitude</th>\n",
              "      <th>passenger_count</th>\n",
              "    </tr>\n",
              "  </thead>\n",
              "  <tbody>\n",
              "    <tr>\n",
              "      <th>0</th>\n",
              "      <td>2009-06-15 17:26:21.0000001</td>\n",
              "      <td>4.5</td>\n",
              "      <td>2009-06-15 17:26:21 UTC</td>\n",
              "      <td>-73.844311</td>\n",
              "      <td>40.721319</td>\n",
              "      <td>-73.841610</td>\n",
              "      <td>40.712278</td>\n",
              "      <td>1</td>\n",
              "    </tr>\n",
              "    <tr>\n",
              "      <th>1</th>\n",
              "      <td>2011-08-18 00:35:00.00000049</td>\n",
              "      <td>5.7</td>\n",
              "      <td>2011-08-18 00:35:00 UTC</td>\n",
              "      <td>-73.982738</td>\n",
              "      <td>40.761270</td>\n",
              "      <td>-73.991242</td>\n",
              "      <td>40.750562</td>\n",
              "      <td>2</td>\n",
              "    </tr>\n",
              "    <tr>\n",
              "      <th>2</th>\n",
              "      <td>2012-01-04 17:22:00.00000081</td>\n",
              "      <td>16.5</td>\n",
              "      <td>2012-01-04 17:22:00 UTC</td>\n",
              "      <td>-73.951300</td>\n",
              "      <td>40.774138</td>\n",
              "      <td>-73.990095</td>\n",
              "      <td>40.751048</td>\n",
              "      <td>1</td>\n",
              "    </tr>\n",
              "    <tr>\n",
              "      <th>3</th>\n",
              "      <td>2014-02-19 07:22:00.00000074</td>\n",
              "      <td>12.5</td>\n",
              "      <td>2014-02-19 07:22:00 UTC</td>\n",
              "      <td>-73.986430</td>\n",
              "      <td>40.760465</td>\n",
              "      <td>-73.988990</td>\n",
              "      <td>40.737075</td>\n",
              "      <td>1</td>\n",
              "    </tr>\n",
              "    <tr>\n",
              "      <th>4</th>\n",
              "      <td>2013-02-12 12:15:46.0000002</td>\n",
              "      <td>11.5</td>\n",
              "      <td>2013-02-12 12:15:46 UTC</td>\n",
              "      <td>-73.957954</td>\n",
              "      <td>40.779252</td>\n",
              "      <td>-73.961250</td>\n",
              "      <td>40.758787</td>\n",
              "      <td>1</td>\n",
              "    </tr>\n",
              "  </tbody>\n",
              "</table>\n",
              "</div>"
            ],
            "text/plain": [
              "                            key  fare_amount  ... dropoff_latitude  passenger_count\n",
              "0   2009-06-15 17:26:21.0000001          4.5  ...        40.712278                1\n",
              "1  2011-08-18 00:35:00.00000049          5.7  ...        40.750562                2\n",
              "2  2012-01-04 17:22:00.00000081         16.5  ...        40.751048                1\n",
              "3  2014-02-19 07:22:00.00000074         12.5  ...        40.737075                1\n",
              "4   2013-02-12 12:15:46.0000002         11.5  ...        40.758787                1\n",
              "\n",
              "[5 rows x 8 columns]"
            ]
          },
          "metadata": {
            "tags": []
          },
          "execution_count": 46
        }
      ]
    },
    {
      "cell_type": "markdown",
      "metadata": {
        "id": "yKEd9rpKcj51"
      },
      "source": [
        "#### Rango de valores"
      ]
    },
    {
      "cell_type": "markdown",
      "metadata": {
        "id": "7tBsVsyPcj51"
      },
      "source": [
        "Ahora verificamos que los datos cumplan las restricciones de rango correspondientes."
      ]
    },
    {
      "cell_type": "code",
      "metadata": {
        "id": "fxmELkUicj51"
      },
      "source": [
        "df.describe()"
      ],
      "execution_count": null,
      "outputs": []
    },
    {
      "cell_type": "markdown",
      "metadata": {
        "id": "tQmYVVTxcj52"
      },
      "source": [
        "Observamos que el mínimo valor de la columna de tarifa (fare_amount) es -30. Necesitamos que los valores de la tarifa sean valores mayores o iguales a 0."
      ]
    },
    {
      "cell_type": "code",
      "metadata": {
        "id": "4TWEUy6Gcj52"
      },
      "source": [
        "df[df['fare_amount'] <= 0].count() /df.count()"
      ],
      "execution_count": null,
      "outputs": []
    },
    {
      "cell_type": "code",
      "metadata": {
        "id": "jlaJkYivcj52"
      },
      "source": [
        "df = df[df['fare_amount'] > 0]"
      ],
      "execution_count": null,
      "outputs": []
    },
    {
      "cell_type": "markdown",
      "metadata": {
        "id": "lV7wM-4Jcj52"
      },
      "source": [
        "También notamos valores atípicos en la cantidad de pasajeros, por ejemplo un viaje con 208 pasajeros. De acuerdo a las leyes de tránsito de Nueva York como máximo pueden haber 6 personas. Por lo tanto, las filas con cantidades de pasajeros mayores a 6 serán eliminadas."
      ]
    },
    {
      "cell_type": "code",
      "metadata": {
        "id": "vJERBroxcj53"
      },
      "source": [
        "( (df[df['passenger_count'] > 6].count() + df[df['passenger_count'] < 1.0].count()) / df.count() )* 100"
      ],
      "execution_count": null,
      "outputs": []
    },
    {
      "cell_type": "code",
      "metadata": {
        "id": "YmQwkJ2hcj53"
      },
      "source": [
        "df = df[df['passenger_count'] <= 6]\n",
        "df = df[df['passenger_count'] >= 1.0]"
      ],
      "execution_count": null,
      "outputs": []
    },
    {
      "cell_type": "code",
      "metadata": {
        "id": "Zrrloj3Acj53"
      },
      "source": [
        "df.describe()"
      ],
      "execution_count": null,
      "outputs": []
    },
    {
      "cell_type": "markdown",
      "metadata": {
        "id": "jvUGkQ6ecpTa"
      },
      "source": [
        "Dividimos la columna 'pickup_datetime' en 2 nuevas columnas que representarán el día y el momento del día (mañana, tarde o noche) en que se produjo la parada del taxi"
      ]
    },
    {
      "cell_type": "code",
      "metadata": {
        "colab": {
          "base_uri": "https://localhost:8080/",
          "height": 289
        },
        "id": "afHBjrsJjZiY",
        "outputId": "aa0a56ce-7f59-49c9-9d49-9c2d63c407ef"
      },
      "source": [
        "df['day']=df['pickup_datetime'].apply(lambda x: pd.Timestamp(x).day_name())\n",
        "df.head()"
      ],
      "execution_count": null,
      "outputs": [
        {
          "output_type": "execute_result",
          "data": {
            "text/html": [
              "<div>\n",
              "<style scoped>\n",
              "    .dataframe tbody tr th:only-of-type {\n",
              "        vertical-align: middle;\n",
              "    }\n",
              "\n",
              "    .dataframe tbody tr th {\n",
              "        vertical-align: top;\n",
              "    }\n",
              "\n",
              "    .dataframe thead th {\n",
              "        text-align: right;\n",
              "    }\n",
              "</style>\n",
              "<table border=\"1\" class=\"dataframe\">\n",
              "  <thead>\n",
              "    <tr style=\"text-align: right;\">\n",
              "      <th></th>\n",
              "      <th>key</th>\n",
              "      <th>pickup_datetime</th>\n",
              "      <th>pickup_latitude</th>\n",
              "      <th>pickup_longitude</th>\n",
              "      <th>dropoff_latitude</th>\n",
              "      <th>dropoff_longitude</th>\n",
              "      <th>passenger_count</th>\n",
              "      <th>fare_amount</th>\n",
              "      <th>day</th>\n",
              "    </tr>\n",
              "  </thead>\n",
              "  <tbody>\n",
              "    <tr>\n",
              "      <th>0</th>\n",
              "      <td>2009-06-15 17:26:21.0000001</td>\n",
              "      <td>2009-06-15 17:26:21 UTC</td>\n",
              "      <td>40.721319</td>\n",
              "      <td>-73.844311</td>\n",
              "      <td>40.712278</td>\n",
              "      <td>-73.841610</td>\n",
              "      <td>1</td>\n",
              "      <td>4.5</td>\n",
              "      <td>Monday</td>\n",
              "    </tr>\n",
              "    <tr>\n",
              "      <th>1</th>\n",
              "      <td>2010-01-05 16:52:16.0000002</td>\n",
              "      <td>2010-01-05 16:52:16 UTC</td>\n",
              "      <td>40.711303</td>\n",
              "      <td>-74.016048</td>\n",
              "      <td>40.782004</td>\n",
              "      <td>-73.979268</td>\n",
              "      <td>1</td>\n",
              "      <td>16.9</td>\n",
              "      <td>Tuesday</td>\n",
              "    </tr>\n",
              "    <tr>\n",
              "      <th>2</th>\n",
              "      <td>2011-08-18 00:35:00.00000049</td>\n",
              "      <td>2011-08-18 00:35:00 UTC</td>\n",
              "      <td>40.761270</td>\n",
              "      <td>-73.982738</td>\n",
              "      <td>40.750562</td>\n",
              "      <td>-73.991242</td>\n",
              "      <td>2</td>\n",
              "      <td>5.7</td>\n",
              "      <td>Thursday</td>\n",
              "    </tr>\n",
              "    <tr>\n",
              "      <th>3</th>\n",
              "      <td>2012-04-21 04:30:42.0000001</td>\n",
              "      <td>2012-04-21 04:30:42 UTC</td>\n",
              "      <td>40.733143</td>\n",
              "      <td>-73.987130</td>\n",
              "      <td>40.758092</td>\n",
              "      <td>-73.991567</td>\n",
              "      <td>1</td>\n",
              "      <td>7.7</td>\n",
              "      <td>Saturday</td>\n",
              "    </tr>\n",
              "    <tr>\n",
              "      <th>4</th>\n",
              "      <td>2010-03-09 07:51:00.000000135</td>\n",
              "      <td>2010-03-09 07:51:00 UTC</td>\n",
              "      <td>40.768008</td>\n",
              "      <td>-73.968095</td>\n",
              "      <td>40.783762</td>\n",
              "      <td>-73.956655</td>\n",
              "      <td>1</td>\n",
              "      <td>5.3</td>\n",
              "      <td>Tuesday</td>\n",
              "    </tr>\n",
              "  </tbody>\n",
              "</table>\n",
              "</div>"
            ],
            "text/plain": [
              "                             key  ...       day\n",
              "0    2009-06-15 17:26:21.0000001  ...    Monday\n",
              "1    2010-01-05 16:52:16.0000002  ...   Tuesday\n",
              "2   2011-08-18 00:35:00.00000049  ...  Thursday\n",
              "3    2012-04-21 04:30:42.0000001  ...  Saturday\n",
              "4  2010-03-09 07:51:00.000000135  ...   Tuesday\n",
              "\n",
              "[5 rows x 9 columns]"
            ]
          },
          "metadata": {
            "tags": []
          },
          "execution_count": 117
        }
      ]
    },
    {
      "cell_type": "markdown",
      "metadata": {
        "id": "p0GKgVPwdKsX"
      },
      "source": [
        "Convertimos la variable categórica 'dia' a una variable indicadora"
      ]
    },
    {
      "cell_type": "code",
      "metadata": {
        "id": "gtrjMvXTpM01"
      },
      "source": [
        "df['day'] = pd.factorize(df.day)[0]\n",
        "#df = pd.get_dummies(df, columns=['day'])"
      ],
      "execution_count": null,
      "outputs": []
    },
    {
      "cell_type": "code",
      "metadata": {
        "colab": {
          "base_uri": "https://localhost:8080/",
          "height": 289
        },
        "id": "tU_C-1RarDwy",
        "outputId": "70ab4007-4e87-4b8d-f414-a9f4109308d5"
      },
      "source": [
        "df.head()"
      ],
      "execution_count": null,
      "outputs": [
        {
          "output_type": "execute_result",
          "data": {
            "text/html": [
              "<div>\n",
              "<style scoped>\n",
              "    .dataframe tbody tr th:only-of-type {\n",
              "        vertical-align: middle;\n",
              "    }\n",
              "\n",
              "    .dataframe tbody tr th {\n",
              "        vertical-align: top;\n",
              "    }\n",
              "\n",
              "    .dataframe thead th {\n",
              "        text-align: right;\n",
              "    }\n",
              "</style>\n",
              "<table border=\"1\" class=\"dataframe\">\n",
              "  <thead>\n",
              "    <tr style=\"text-align: right;\">\n",
              "      <th></th>\n",
              "      <th>key</th>\n",
              "      <th>pickup_datetime</th>\n",
              "      <th>pickup_latitude</th>\n",
              "      <th>pickup_longitude</th>\n",
              "      <th>dropoff_latitude</th>\n",
              "      <th>dropoff_longitude</th>\n",
              "      <th>passenger_count</th>\n",
              "      <th>fare_amount</th>\n",
              "      <th>day</th>\n",
              "    </tr>\n",
              "  </thead>\n",
              "  <tbody>\n",
              "    <tr>\n",
              "      <th>0</th>\n",
              "      <td>2009-06-15 17:26:21.0000001</td>\n",
              "      <td>2009-06-15 17:26:21 UTC</td>\n",
              "      <td>40.721319</td>\n",
              "      <td>-73.844311</td>\n",
              "      <td>40.712278</td>\n",
              "      <td>-73.841610</td>\n",
              "      <td>1</td>\n",
              "      <td>4.5</td>\n",
              "      <td>0</td>\n",
              "    </tr>\n",
              "    <tr>\n",
              "      <th>1</th>\n",
              "      <td>2010-01-05 16:52:16.0000002</td>\n",
              "      <td>2010-01-05 16:52:16 UTC</td>\n",
              "      <td>40.711303</td>\n",
              "      <td>-74.016048</td>\n",
              "      <td>40.782004</td>\n",
              "      <td>-73.979268</td>\n",
              "      <td>1</td>\n",
              "      <td>16.9</td>\n",
              "      <td>1</td>\n",
              "    </tr>\n",
              "    <tr>\n",
              "      <th>2</th>\n",
              "      <td>2011-08-18 00:35:00.00000049</td>\n",
              "      <td>2011-08-18 00:35:00 UTC</td>\n",
              "      <td>40.761270</td>\n",
              "      <td>-73.982738</td>\n",
              "      <td>40.750562</td>\n",
              "      <td>-73.991242</td>\n",
              "      <td>2</td>\n",
              "      <td>5.7</td>\n",
              "      <td>2</td>\n",
              "    </tr>\n",
              "    <tr>\n",
              "      <th>3</th>\n",
              "      <td>2012-04-21 04:30:42.0000001</td>\n",
              "      <td>2012-04-21 04:30:42 UTC</td>\n",
              "      <td>40.733143</td>\n",
              "      <td>-73.987130</td>\n",
              "      <td>40.758092</td>\n",
              "      <td>-73.991567</td>\n",
              "      <td>1</td>\n",
              "      <td>7.7</td>\n",
              "      <td>3</td>\n",
              "    </tr>\n",
              "    <tr>\n",
              "      <th>4</th>\n",
              "      <td>2010-03-09 07:51:00.000000135</td>\n",
              "      <td>2010-03-09 07:51:00 UTC</td>\n",
              "      <td>40.768008</td>\n",
              "      <td>-73.968095</td>\n",
              "      <td>40.783762</td>\n",
              "      <td>-73.956655</td>\n",
              "      <td>1</td>\n",
              "      <td>5.3</td>\n",
              "      <td>1</td>\n",
              "    </tr>\n",
              "  </tbody>\n",
              "</table>\n",
              "</div>"
            ],
            "text/plain": [
              "                             key          pickup_datetime  ...  fare_amount  day\n",
              "0    2009-06-15 17:26:21.0000001  2009-06-15 17:26:21 UTC  ...          4.5    0\n",
              "1    2010-01-05 16:52:16.0000002  2010-01-05 16:52:16 UTC  ...         16.9    1\n",
              "2   2011-08-18 00:35:00.00000049  2011-08-18 00:35:00 UTC  ...          5.7    2\n",
              "3    2012-04-21 04:30:42.0000001  2012-04-21 04:30:42 UTC  ...          7.7    3\n",
              "4  2010-03-09 07:51:00.000000135  2010-03-09 07:51:00 UTC  ...          5.3    1\n",
              "\n",
              "[5 rows x 9 columns]"
            ]
          },
          "metadata": {
            "tags": []
          },
          "execution_count": 120
        }
      ]
    },
    {
      "cell_type": "markdown",
      "metadata": {
        "id": "G9FBun518OYi"
      },
      "source": [
        "Obtenemos la hora de la misma manera de 'pickup_datetime'"
      ]
    },
    {
      "cell_type": "code",
      "metadata": {
        "colab": {
          "base_uri": "https://localhost:8080/",
          "height": 289
        },
        "id": "ApgCPAJu2Ixz",
        "outputId": "3ddfc0ef-38b0-4d09-8bfb-c4cf92595dce"
      },
      "source": [
        "df['hour']=df['pickup_datetime'].apply(lambda x: pd.Timestamp(x).hour)\n",
        "df.head()"
      ],
      "execution_count": null,
      "outputs": [
        {
          "output_type": "execute_result",
          "data": {
            "text/html": [
              "<div>\n",
              "<style scoped>\n",
              "    .dataframe tbody tr th:only-of-type {\n",
              "        vertical-align: middle;\n",
              "    }\n",
              "\n",
              "    .dataframe tbody tr th {\n",
              "        vertical-align: top;\n",
              "    }\n",
              "\n",
              "    .dataframe thead th {\n",
              "        text-align: right;\n",
              "    }\n",
              "</style>\n",
              "<table border=\"1\" class=\"dataframe\">\n",
              "  <thead>\n",
              "    <tr style=\"text-align: right;\">\n",
              "      <th></th>\n",
              "      <th>key</th>\n",
              "      <th>pickup_datetime</th>\n",
              "      <th>pickup_latitude</th>\n",
              "      <th>pickup_longitude</th>\n",
              "      <th>dropoff_latitude</th>\n",
              "      <th>dropoff_longitude</th>\n",
              "      <th>passenger_count</th>\n",
              "      <th>fare_amount</th>\n",
              "      <th>day</th>\n",
              "      <th>hour</th>\n",
              "    </tr>\n",
              "  </thead>\n",
              "  <tbody>\n",
              "    <tr>\n",
              "      <th>0</th>\n",
              "      <td>2009-06-15 17:26:21.0000001</td>\n",
              "      <td>2009-06-15 17:26:21 UTC</td>\n",
              "      <td>40.721319</td>\n",
              "      <td>-73.844311</td>\n",
              "      <td>40.712278</td>\n",
              "      <td>-73.841610</td>\n",
              "      <td>1</td>\n",
              "      <td>4.5</td>\n",
              "      <td>0</td>\n",
              "      <td>17</td>\n",
              "    </tr>\n",
              "    <tr>\n",
              "      <th>1</th>\n",
              "      <td>2010-01-05 16:52:16.0000002</td>\n",
              "      <td>2010-01-05 16:52:16 UTC</td>\n",
              "      <td>40.711303</td>\n",
              "      <td>-74.016048</td>\n",
              "      <td>40.782004</td>\n",
              "      <td>-73.979268</td>\n",
              "      <td>1</td>\n",
              "      <td>16.9</td>\n",
              "      <td>1</td>\n",
              "      <td>16</td>\n",
              "    </tr>\n",
              "    <tr>\n",
              "      <th>2</th>\n",
              "      <td>2011-08-18 00:35:00.00000049</td>\n",
              "      <td>2011-08-18 00:35:00 UTC</td>\n",
              "      <td>40.761270</td>\n",
              "      <td>-73.982738</td>\n",
              "      <td>40.750562</td>\n",
              "      <td>-73.991242</td>\n",
              "      <td>2</td>\n",
              "      <td>5.7</td>\n",
              "      <td>2</td>\n",
              "      <td>0</td>\n",
              "    </tr>\n",
              "    <tr>\n",
              "      <th>3</th>\n",
              "      <td>2012-04-21 04:30:42.0000001</td>\n",
              "      <td>2012-04-21 04:30:42 UTC</td>\n",
              "      <td>40.733143</td>\n",
              "      <td>-73.987130</td>\n",
              "      <td>40.758092</td>\n",
              "      <td>-73.991567</td>\n",
              "      <td>1</td>\n",
              "      <td>7.7</td>\n",
              "      <td>3</td>\n",
              "      <td>4</td>\n",
              "    </tr>\n",
              "    <tr>\n",
              "      <th>4</th>\n",
              "      <td>2010-03-09 07:51:00.000000135</td>\n",
              "      <td>2010-03-09 07:51:00 UTC</td>\n",
              "      <td>40.768008</td>\n",
              "      <td>-73.968095</td>\n",
              "      <td>40.783762</td>\n",
              "      <td>-73.956655</td>\n",
              "      <td>1</td>\n",
              "      <td>5.3</td>\n",
              "      <td>1</td>\n",
              "      <td>7</td>\n",
              "    </tr>\n",
              "  </tbody>\n",
              "</table>\n",
              "</div>"
            ],
            "text/plain": [
              "                             key          pickup_datetime  ...  day  hour\n",
              "0    2009-06-15 17:26:21.0000001  2009-06-15 17:26:21 UTC  ...    0    17\n",
              "1    2010-01-05 16:52:16.0000002  2010-01-05 16:52:16 UTC  ...    1    16\n",
              "2   2011-08-18 00:35:00.00000049  2011-08-18 00:35:00 UTC  ...    2     0\n",
              "3    2012-04-21 04:30:42.0000001  2012-04-21 04:30:42 UTC  ...    3     4\n",
              "4  2010-03-09 07:51:00.000000135  2010-03-09 07:51:00 UTC  ...    1     7\n",
              "\n",
              "[5 rows x 10 columns]"
            ]
          },
          "metadata": {
            "tags": []
          },
          "execution_count": 121
        }
      ]
    },
    {
      "cell_type": "markdown",
      "metadata": {
        "id": "eivdzGtz8p0Y"
      },
      "source": [
        "Pasamos la columna hora (números) a categorías (mañana, tarde y noche)"
      ]
    },
    {
      "cell_type": "code",
      "metadata": {
        "id": "i2_A4QjO3DX2",
        "colab": {
          "base_uri": "https://localhost:8080/",
          "height": 309
        },
        "outputId": "6225d252-bfbb-47a9-e9a9-cf8cbee5f35c"
      },
      "source": [
        "df['hour']=df['hour'].apply(lambda x: 'manana' if x > 5 and x < 12 else 'Tarde' if x >=12 and x < 18 else 'noche')\n",
        "df.head()                          \n",
        "    "
      ],
      "execution_count": null,
      "outputs": [
        {
          "output_type": "execute_result",
          "data": {
            "text/html": [
              "<div>\n",
              "<style scoped>\n",
              "    .dataframe tbody tr th:only-of-type {\n",
              "        vertical-align: middle;\n",
              "    }\n",
              "\n",
              "    .dataframe tbody tr th {\n",
              "        vertical-align: top;\n",
              "    }\n",
              "\n",
              "    .dataframe thead th {\n",
              "        text-align: right;\n",
              "    }\n",
              "</style>\n",
              "<table border=\"1\" class=\"dataframe\">\n",
              "  <thead>\n",
              "    <tr style=\"text-align: right;\">\n",
              "      <th></th>\n",
              "      <th>key</th>\n",
              "      <th>pickup_datetime</th>\n",
              "      <th>pickup_latitude</th>\n",
              "      <th>pickup_longitude</th>\n",
              "      <th>dropoff_latitude</th>\n",
              "      <th>dropoff_longitude</th>\n",
              "      <th>passenger_count</th>\n",
              "      <th>fare_amount</th>\n",
              "      <th>day</th>\n",
              "      <th>hour</th>\n",
              "    </tr>\n",
              "  </thead>\n",
              "  <tbody>\n",
              "    <tr>\n",
              "      <th>0</th>\n",
              "      <td>2009-06-15 17:26:21.0000001</td>\n",
              "      <td>2009-06-15 17:26:21 UTC</td>\n",
              "      <td>40.721319</td>\n",
              "      <td>-73.844311</td>\n",
              "      <td>40.712278</td>\n",
              "      <td>-73.841610</td>\n",
              "      <td>1</td>\n",
              "      <td>4.5</td>\n",
              "      <td>0</td>\n",
              "      <td>Tarde</td>\n",
              "    </tr>\n",
              "    <tr>\n",
              "      <th>1</th>\n",
              "      <td>2010-01-05 16:52:16.0000002</td>\n",
              "      <td>2010-01-05 16:52:16 UTC</td>\n",
              "      <td>40.711303</td>\n",
              "      <td>-74.016048</td>\n",
              "      <td>40.782004</td>\n",
              "      <td>-73.979268</td>\n",
              "      <td>1</td>\n",
              "      <td>16.9</td>\n",
              "      <td>1</td>\n",
              "      <td>Tarde</td>\n",
              "    </tr>\n",
              "    <tr>\n",
              "      <th>2</th>\n",
              "      <td>2011-08-18 00:35:00.00000049</td>\n",
              "      <td>2011-08-18 00:35:00 UTC</td>\n",
              "      <td>40.761270</td>\n",
              "      <td>-73.982738</td>\n",
              "      <td>40.750562</td>\n",
              "      <td>-73.991242</td>\n",
              "      <td>2</td>\n",
              "      <td>5.7</td>\n",
              "      <td>2</td>\n",
              "      <td>noche</td>\n",
              "    </tr>\n",
              "    <tr>\n",
              "      <th>3</th>\n",
              "      <td>2012-04-21 04:30:42.0000001</td>\n",
              "      <td>2012-04-21 04:30:42 UTC</td>\n",
              "      <td>40.733143</td>\n",
              "      <td>-73.987130</td>\n",
              "      <td>40.758092</td>\n",
              "      <td>-73.991567</td>\n",
              "      <td>1</td>\n",
              "      <td>7.7</td>\n",
              "      <td>3</td>\n",
              "      <td>noche</td>\n",
              "    </tr>\n",
              "    <tr>\n",
              "      <th>4</th>\n",
              "      <td>2010-03-09 07:51:00.000000135</td>\n",
              "      <td>2010-03-09 07:51:00 UTC</td>\n",
              "      <td>40.768008</td>\n",
              "      <td>-73.968095</td>\n",
              "      <td>40.783762</td>\n",
              "      <td>-73.956655</td>\n",
              "      <td>1</td>\n",
              "      <td>5.3</td>\n",
              "      <td>1</td>\n",
              "      <td>manana</td>\n",
              "    </tr>\n",
              "  </tbody>\n",
              "</table>\n",
              "</div>"
            ],
            "text/plain": [
              "                             key          pickup_datetime  ...  day    hour\n",
              "0    2009-06-15 17:26:21.0000001  2009-06-15 17:26:21 UTC  ...    0   Tarde\n",
              "1    2010-01-05 16:52:16.0000002  2010-01-05 16:52:16 UTC  ...    1   Tarde\n",
              "2   2011-08-18 00:35:00.00000049  2011-08-18 00:35:00 UTC  ...    2   noche\n",
              "3    2012-04-21 04:30:42.0000001  2012-04-21 04:30:42 UTC  ...    3   noche\n",
              "4  2010-03-09 07:51:00.000000135  2010-03-09 07:51:00 UTC  ...    1  manana\n",
              "\n",
              "[5 rows x 10 columns]"
            ]
          },
          "metadata": {
            "tags": []
          },
          "execution_count": 122
        }
      ]
    },
    {
      "cell_type": "markdown",
      "metadata": {
        "id": "MBHEaf_O86XJ"
      },
      "source": [
        "Convertimos la columna hora de variables categóricas a indicadoras"
      ]
    },
    {
      "cell_type": "code",
      "metadata": {
        "colab": {
          "base_uri": "https://localhost:8080/",
          "height": 289
        },
        "id": "vpzhawDx4VeP",
        "outputId": "7180fffd-699b-4b64-abfe-87d5b1164064"
      },
      "source": [
        "df['hour'] = pd.factorize(df.hour)[0]\n",
        "df.head()  "
      ],
      "execution_count": null,
      "outputs": [
        {
          "output_type": "execute_result",
          "data": {
            "text/html": [
              "<div>\n",
              "<style scoped>\n",
              "    .dataframe tbody tr th:only-of-type {\n",
              "        vertical-align: middle;\n",
              "    }\n",
              "\n",
              "    .dataframe tbody tr th {\n",
              "        vertical-align: top;\n",
              "    }\n",
              "\n",
              "    .dataframe thead th {\n",
              "        text-align: right;\n",
              "    }\n",
              "</style>\n",
              "<table border=\"1\" class=\"dataframe\">\n",
              "  <thead>\n",
              "    <tr style=\"text-align: right;\">\n",
              "      <th></th>\n",
              "      <th>key</th>\n",
              "      <th>pickup_datetime</th>\n",
              "      <th>pickup_latitude</th>\n",
              "      <th>pickup_longitude</th>\n",
              "      <th>dropoff_latitude</th>\n",
              "      <th>dropoff_longitude</th>\n",
              "      <th>passenger_count</th>\n",
              "      <th>fare_amount</th>\n",
              "      <th>day</th>\n",
              "      <th>hour</th>\n",
              "    </tr>\n",
              "  </thead>\n",
              "  <tbody>\n",
              "    <tr>\n",
              "      <th>0</th>\n",
              "      <td>2009-06-15 17:26:21.0000001</td>\n",
              "      <td>2009-06-15 17:26:21 UTC</td>\n",
              "      <td>40.721319</td>\n",
              "      <td>-73.844311</td>\n",
              "      <td>40.712278</td>\n",
              "      <td>-73.841610</td>\n",
              "      <td>1</td>\n",
              "      <td>4.5</td>\n",
              "      <td>0</td>\n",
              "      <td>0</td>\n",
              "    </tr>\n",
              "    <tr>\n",
              "      <th>1</th>\n",
              "      <td>2010-01-05 16:52:16.0000002</td>\n",
              "      <td>2010-01-05 16:52:16 UTC</td>\n",
              "      <td>40.711303</td>\n",
              "      <td>-74.016048</td>\n",
              "      <td>40.782004</td>\n",
              "      <td>-73.979268</td>\n",
              "      <td>1</td>\n",
              "      <td>16.9</td>\n",
              "      <td>1</td>\n",
              "      <td>0</td>\n",
              "    </tr>\n",
              "    <tr>\n",
              "      <th>2</th>\n",
              "      <td>2011-08-18 00:35:00.00000049</td>\n",
              "      <td>2011-08-18 00:35:00 UTC</td>\n",
              "      <td>40.761270</td>\n",
              "      <td>-73.982738</td>\n",
              "      <td>40.750562</td>\n",
              "      <td>-73.991242</td>\n",
              "      <td>2</td>\n",
              "      <td>5.7</td>\n",
              "      <td>2</td>\n",
              "      <td>1</td>\n",
              "    </tr>\n",
              "    <tr>\n",
              "      <th>3</th>\n",
              "      <td>2012-04-21 04:30:42.0000001</td>\n",
              "      <td>2012-04-21 04:30:42 UTC</td>\n",
              "      <td>40.733143</td>\n",
              "      <td>-73.987130</td>\n",
              "      <td>40.758092</td>\n",
              "      <td>-73.991567</td>\n",
              "      <td>1</td>\n",
              "      <td>7.7</td>\n",
              "      <td>3</td>\n",
              "      <td>1</td>\n",
              "    </tr>\n",
              "    <tr>\n",
              "      <th>4</th>\n",
              "      <td>2010-03-09 07:51:00.000000135</td>\n",
              "      <td>2010-03-09 07:51:00 UTC</td>\n",
              "      <td>40.768008</td>\n",
              "      <td>-73.968095</td>\n",
              "      <td>40.783762</td>\n",
              "      <td>-73.956655</td>\n",
              "      <td>1</td>\n",
              "      <td>5.3</td>\n",
              "      <td>1</td>\n",
              "      <td>2</td>\n",
              "    </tr>\n",
              "  </tbody>\n",
              "</table>\n",
              "</div>"
            ],
            "text/plain": [
              "                             key          pickup_datetime  ...  day  hour\n",
              "0    2009-06-15 17:26:21.0000001  2009-06-15 17:26:21 UTC  ...    0     0\n",
              "1    2010-01-05 16:52:16.0000002  2010-01-05 16:52:16 UTC  ...    1     0\n",
              "2   2011-08-18 00:35:00.00000049  2011-08-18 00:35:00 UTC  ...    2     1\n",
              "3    2012-04-21 04:30:42.0000001  2012-04-21 04:30:42 UTC  ...    3     1\n",
              "4  2010-03-09 07:51:00.000000135  2010-03-09 07:51:00 UTC  ...    1     2\n",
              "\n",
              "[5 rows x 10 columns]"
            ]
          },
          "metadata": {
            "tags": []
          },
          "execution_count": 123
        }
      ]
    },
    {
      "cell_type": "markdown",
      "metadata": {
        "id": "iojyqIovaHls"
      },
      "source": [
        "#### Normalización"
      ]
    },
    {
      "cell_type": "code",
      "metadata": {
        "colab": {
          "base_uri": "https://localhost:8080/",
          "height": 204
        },
        "id": "EbJz5X3PaGlp",
        "outputId": "2913d7a4-9b03-40d3-b3cc-026301e5a29a"
      },
      "source": [
        "from sklearn.preprocessing import MinMaxScaler\n",
        "scaler = MinMaxScaler()\n",
        "dfn = pd.DataFrame(scaler.fit_transform(df), columns = df.columns)\n",
        "dfn.head()"
      ],
      "execution_count": null,
      "outputs": [
        {
          "output_type": "execute_result",
          "data": {
            "text/html": [
              "<div>\n",
              "<style scoped>\n",
              "    .dataframe tbody tr th:only-of-type {\n",
              "        vertical-align: middle;\n",
              "    }\n",
              "\n",
              "    .dataframe tbody tr th {\n",
              "        vertical-align: top;\n",
              "    }\n",
              "\n",
              "    .dataframe thead th {\n",
              "        text-align: right;\n",
              "    }\n",
              "</style>\n",
              "<table border=\"1\" class=\"dataframe\">\n",
              "  <thead>\n",
              "    <tr style=\"text-align: right;\">\n",
              "      <th></th>\n",
              "      <th>key</th>\n",
              "      <th>fare_amount</th>\n",
              "      <th>pickup_datetime</th>\n",
              "      <th>pickup_longitude</th>\n",
              "      <th>pickup_latitude</th>\n",
              "      <th>dropoff_longitude</th>\n",
              "      <th>dropoff_latitude</th>\n",
              "      <th>passenger_count</th>\n",
              "    </tr>\n",
              "  </thead>\n",
              "  <tbody>\n",
              "    <tr>\n",
              "      <th>0</th>\n",
              "      <td>0.096626</td>\n",
              "      <td>0.256750</td>\n",
              "      <td>0.094779</td>\n",
              "      <td>0.486964</td>\n",
              "      <td>0.509565</td>\n",
              "      <td>0.487987</td>\n",
              "      <td>0.520137</td>\n",
              "      <td>0.004808</td>\n",
              "    </tr>\n",
              "    <tr>\n",
              "      <th>1</th>\n",
              "      <td>0.095404</td>\n",
              "      <td>0.254083</td>\n",
              "      <td>0.093577</td>\n",
              "      <td>0.486967</td>\n",
              "      <td>0.509570</td>\n",
              "      <td>0.487992</td>\n",
              "      <td>0.520145</td>\n",
              "      <td>0.014423</td>\n",
              "    </tr>\n",
              "    <tr>\n",
              "      <th>2</th>\n",
              "      <td>0.193632</td>\n",
              "      <td>0.259417</td>\n",
              "      <td>0.189024</td>\n",
              "      <td>0.486962</td>\n",
              "      <td>0.509562</td>\n",
              "      <td>0.487989</td>\n",
              "      <td>0.520142</td>\n",
              "      <td>0.004808</td>\n",
              "    </tr>\n",
              "    <tr>\n",
              "      <th>3</th>\n",
              "      <td>0.841936</td>\n",
              "      <td>0.255000</td>\n",
              "      <td>0.810950</td>\n",
              "      <td>0.486965</td>\n",
              "      <td>0.509566</td>\n",
              "      <td>0.487990</td>\n",
              "      <td>0.520143</td>\n",
              "      <td>0.009615</td>\n",
              "    </tr>\n",
              "    <tr>\n",
              "      <th>4</th>\n",
              "      <td>0.384110</td>\n",
              "      <td>0.260083</td>\n",
              "      <td>0.370704</td>\n",
              "      <td>0.486959</td>\n",
              "      <td>0.509561</td>\n",
              "      <td>0.487990</td>\n",
              "      <td>0.520142</td>\n",
              "      <td>0.004808</td>\n",
              "    </tr>\n",
              "  </tbody>\n",
              "</table>\n",
              "</div>"
            ],
            "text/plain": [
              "        key  fare_amount  ...  dropoff_latitude  passenger_count\n",
              "0  0.096626     0.256750  ...          0.520137         0.004808\n",
              "1  0.095404     0.254083  ...          0.520145         0.014423\n",
              "2  0.193632     0.259417  ...          0.520142         0.004808\n",
              "3  0.841936     0.255000  ...          0.520143         0.009615\n",
              "4  0.384110     0.260083  ...          0.520142         0.004808\n",
              "\n",
              "[5 rows x 8 columns]"
            ]
          },
          "metadata": {
            "tags": []
          },
          "execution_count": 26
        }
      ]
    },
    {
      "cell_type": "code",
      "metadata": {
        "colab": {
          "base_uri": "https://localhost:8080/",
          "height": 204
        },
        "id": "G_5dl9h4EZ_W",
        "outputId": "5cf82dfa-f15f-4717-a8ea-d7c2f338d470"
      },
      "source": [
        "# dff = pd.DataFrame(af, columns = ['key','fare_amount','pickup_datetime','pickup_longitude','pickup_latitude','dropoff_longitude','dropoff_latitude','passenger_count'])\n",
        "# dff.head()"
      ],
      "execution_count": null,
      "outputs": [
        {
          "output_type": "execute_result",
          "data": {
            "text/html": [
              "<div>\n",
              "<style scoped>\n",
              "    .dataframe tbody tr th:only-of-type {\n",
              "        vertical-align: middle;\n",
              "    }\n",
              "\n",
              "    .dataframe tbody tr th {\n",
              "        vertical-align: top;\n",
              "    }\n",
              "\n",
              "    .dataframe thead th {\n",
              "        text-align: right;\n",
              "    }\n",
              "</style>\n",
              "<table border=\"1\" class=\"dataframe\">\n",
              "  <thead>\n",
              "    <tr style=\"text-align: right;\">\n",
              "      <th></th>\n",
              "      <th>key</th>\n",
              "      <th>fare_amount</th>\n",
              "      <th>pickup_datetime</th>\n",
              "      <th>pickup_longitude</th>\n",
              "      <th>pickup_latitude</th>\n",
              "      <th>dropoff_longitude</th>\n",
              "      <th>dropoff_latitude</th>\n",
              "      <th>passenger_count</th>\n",
              "    </tr>\n",
              "  </thead>\n",
              "  <tbody>\n",
              "    <tr>\n",
              "      <th>0</th>\n",
              "      <td>0.096626</td>\n",
              "      <td>0.256750</td>\n",
              "      <td>0.094779</td>\n",
              "      <td>0.486964</td>\n",
              "      <td>0.509565</td>\n",
              "      <td>0.487987</td>\n",
              "      <td>0.520137</td>\n",
              "      <td>0.004808</td>\n",
              "    </tr>\n",
              "    <tr>\n",
              "      <th>1</th>\n",
              "      <td>0.095404</td>\n",
              "      <td>0.254083</td>\n",
              "      <td>0.093577</td>\n",
              "      <td>0.486967</td>\n",
              "      <td>0.509570</td>\n",
              "      <td>0.487992</td>\n",
              "      <td>0.520145</td>\n",
              "      <td>0.014423</td>\n",
              "    </tr>\n",
              "    <tr>\n",
              "      <th>2</th>\n",
              "      <td>0.193632</td>\n",
              "      <td>0.259417</td>\n",
              "      <td>0.189024</td>\n",
              "      <td>0.486962</td>\n",
              "      <td>0.509562</td>\n",
              "      <td>0.487989</td>\n",
              "      <td>0.520142</td>\n",
              "      <td>0.004808</td>\n",
              "    </tr>\n",
              "    <tr>\n",
              "      <th>3</th>\n",
              "      <td>0.841936</td>\n",
              "      <td>0.255000</td>\n",
              "      <td>0.810950</td>\n",
              "      <td>0.486965</td>\n",
              "      <td>0.509566</td>\n",
              "      <td>0.487990</td>\n",
              "      <td>0.520143</td>\n",
              "      <td>0.009615</td>\n",
              "    </tr>\n",
              "    <tr>\n",
              "      <th>4</th>\n",
              "      <td>0.384110</td>\n",
              "      <td>0.260083</td>\n",
              "      <td>0.370704</td>\n",
              "      <td>0.486959</td>\n",
              "      <td>0.509561</td>\n",
              "      <td>0.487990</td>\n",
              "      <td>0.520142</td>\n",
              "      <td>0.004808</td>\n",
              "    </tr>\n",
              "  </tbody>\n",
              "</table>\n",
              "</div>"
            ],
            "text/plain": [
              "        key  fare_amount  ...  dropoff_latitude  passenger_count\n",
              "0  0.096626     0.256750  ...          0.520137         0.004808\n",
              "1  0.095404     0.254083  ...          0.520145         0.014423\n",
              "2  0.193632     0.259417  ...          0.520142         0.004808\n",
              "3  0.841936     0.255000  ...          0.520143         0.009615\n",
              "4  0.384110     0.260083  ...          0.520142         0.004808\n",
              "\n",
              "[5 rows x 8 columns]"
            ]
          },
          "metadata": {
            "tags": []
          },
          "execution_count": 28
        }
      ]
    }
  ]
}