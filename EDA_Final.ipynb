{
  "nbformat": 4,
  "nbformat_minor": 0,
  "metadata": {
    "colab": {
      "name": "Copia de EDA.ipynb",
      "provenance": [],
      "collapsed_sections": [
        "qs04f5FnTvqO"
      ],
      "machine_shape": "hm"
    },
    "kernelspec": {
      "display_name": "Python 3",
      "language": "python",
      "name": "python3"
    },
    "language_info": {
      "codemirror_mode": {
        "name": "ipython",
        "version": 3
      },
      "file_extension": ".py",
      "mimetype": "text/x-python",
      "name": "python",
      "nbconvert_exporter": "python",
      "pygments_lexer": "ipython3",
      "version": "3.8.8"
    },
    "accelerator": "TPU"
  },
  "cells": [
    {
      "cell_type": "markdown",
      "metadata": {
        "id": "Jy3Fi9ZV4y-W"
      },
      "source": [
        "# Práctica Calificada 02\n",
        "## Predicción de tarifas de taxis"
      ]
    },
    {
      "cell_type": "code",
      "metadata": {
        "colab": {
          "base_uri": "https://localhost:8080/"
        },
        "id": "Bg6tY4noF7IC",
        "outputId": "f9dee55c-6458-4fde-8123-72031a44e233"
      },
      "source": [
        "from google.colab import drive\n",
        "drive.mount('/gdrive')\n",
        "%cd /gdrive/MyDrive/AIProjects/PC2/Data/PracticaCalificada2-CC421/\n",
        "%ls"
      ],
      "execution_count": 2,
      "outputs": [
        {
          "output_type": "stream",
          "text": [
            "Drive already mounted at /gdrive; to attempt to forcibly remount, call drive.mount(\"/gdrive\", force_remount=True).\n",
            "/gdrive/.shortcut-targets-by-id/1ouCzEh7A4-s7GMx2btcWWTXkJxKP-98c/AIProjects/PC2/Data/PracticaCalificada2-CC421\n",
            "data2.csv                      train_2014_and_2015_processed.csv\n",
            "data2.csv.hdf5                 train_2014.csv\n",
            "data2.csv.yaml                 train_2014_processed.csv\n",
            "data.csv                       train_2015.csv\n",
            "\u001b[0m\u001b[01;34mht\u001b[0m/                            train_2015_processed.csv\n",
            "PracticaCalificada2-CC421.pdf  train_2.csv\n",
            "rf_0                           train_2_processed.csv\n",
            "rf_1                           train_2_processed_wo_gd.csv\n",
            "rf_2                           train_3.csv\n",
            "rf_3                           train_3_processed.csv\n",
            "rf_4                           train_3_processed_wo_gd.csv\n",
            "train_0.csv                    train_4.csv\n",
            "train_0_processed.csv          train_4_processed.csv\n",
            "train_0_processed_wo_gd.csv    train_4_processed_wo_gd.csv\n",
            "train_1.csv                    train.csv\n",
            "train_1_processed.csv          train_processed.csv\n",
            "train_1_processed_wo_gd.csv    train_processed_wo_gd.csv\n",
            "train_2013.csv                 trainsampleprep.csv\n"
          ],
          "name": "stdout"
        }
      ]
    },
    {
      "cell_type": "code",
      "metadata": {
        "id": "IJQfAQHyQpq3"
      },
      "source": [
        "import pandas as pd\n",
        "import numpy as np"
      ],
      "execution_count": 3,
      "outputs": []
    },
    {
      "cell_type": "markdown",
      "metadata": {
        "id": "m13y9h8hRgU-"
      },
      "source": [
        "### Importar data total"
      ]
    },
    {
      "cell_type": "code",
      "metadata": {
        "colab": {
          "base_uri": "https://localhost:8080/",
          "height": 292
        },
        "id": "J-1GOuqkF_fu",
        "outputId": "405826b6-5935-4c4b-e01f-0b8c5498bd1f"
      },
      "source": [
        "dtypes = {\n",
        "      'key': 'object',\n",
        "      'fare_amount': 'float64',\n",
        "      'pickup_datetime': 'object',\n",
        "      'pickup_longitude': 'float64', \n",
        "      'pickup_latitude': 'float64',\n",
        "      'dropoff_longitude': 'float64',\n",
        "      'dropoff_latitude': 'float64',\n",
        "      'passenger_count': 'int64',\n",
        "      \n",
        "    \n",
        "}\n",
        "df = pd.read_csv(\"train.csv\", dtype=dtypes)\n",
        "df = df[['key', 'pickup_datetime', 'pickup_latitude', 'pickup_longitude', 'dropoff_latitude', 'dropoff_longitude', 'passenger_count', 'fare_amount']]\n",
        "df.head()"
      ],
      "execution_count": null,
      "outputs": [
        {
          "output_type": "execute_result",
          "data": {
            "text/html": [
              "<div>\n",
              "<style scoped>\n",
              "    .dataframe tbody tr th:only-of-type {\n",
              "        vertical-align: middle;\n",
              "    }\n",
              "\n",
              "    .dataframe tbody tr th {\n",
              "        vertical-align: top;\n",
              "    }\n",
              "\n",
              "    .dataframe thead th {\n",
              "        text-align: right;\n",
              "    }\n",
              "</style>\n",
              "<table border=\"1\" class=\"dataframe\">\n",
              "  <thead>\n",
              "    <tr style=\"text-align: right;\">\n",
              "      <th></th>\n",
              "      <th>key</th>\n",
              "      <th>pickup_datetime</th>\n",
              "      <th>pickup_latitude</th>\n",
              "      <th>pickup_longitude</th>\n",
              "      <th>dropoff_latitude</th>\n",
              "      <th>dropoff_longitude</th>\n",
              "      <th>passenger_count</th>\n",
              "      <th>fare_amount</th>\n",
              "    </tr>\n",
              "  </thead>\n",
              "  <tbody>\n",
              "    <tr>\n",
              "      <th>0</th>\n",
              "      <td>2009-06-15 17:26:21.0000001</td>\n",
              "      <td>2009-06-15 17:26:21 UTC</td>\n",
              "      <td>40.721319</td>\n",
              "      <td>-73.844311</td>\n",
              "      <td>40.712278</td>\n",
              "      <td>-73.841610</td>\n",
              "      <td>1</td>\n",
              "      <td>4.5</td>\n",
              "    </tr>\n",
              "    <tr>\n",
              "      <th>1</th>\n",
              "      <td>2010-01-05 16:52:16.0000002</td>\n",
              "      <td>2010-01-05 16:52:16 UTC</td>\n",
              "      <td>40.711303</td>\n",
              "      <td>-74.016048</td>\n",
              "      <td>40.782004</td>\n",
              "      <td>-73.979268</td>\n",
              "      <td>1</td>\n",
              "      <td>16.9</td>\n",
              "    </tr>\n",
              "    <tr>\n",
              "      <th>2</th>\n",
              "      <td>2011-08-18 00:35:00.00000049</td>\n",
              "      <td>2011-08-18 00:35:00 UTC</td>\n",
              "      <td>40.761270</td>\n",
              "      <td>-73.982738</td>\n",
              "      <td>40.750562</td>\n",
              "      <td>-73.991242</td>\n",
              "      <td>2</td>\n",
              "      <td>5.7</td>\n",
              "    </tr>\n",
              "    <tr>\n",
              "      <th>3</th>\n",
              "      <td>2012-04-21 04:30:42.0000001</td>\n",
              "      <td>2012-04-21 04:30:42 UTC</td>\n",
              "      <td>40.733143</td>\n",
              "      <td>-73.987130</td>\n",
              "      <td>40.758092</td>\n",
              "      <td>-73.991567</td>\n",
              "      <td>1</td>\n",
              "      <td>7.7</td>\n",
              "    </tr>\n",
              "    <tr>\n",
              "      <th>4</th>\n",
              "      <td>2010-03-09 07:51:00.000000135</td>\n",
              "      <td>2010-03-09 07:51:00 UTC</td>\n",
              "      <td>40.768008</td>\n",
              "      <td>-73.968095</td>\n",
              "      <td>40.783762</td>\n",
              "      <td>-73.956655</td>\n",
              "      <td>1</td>\n",
              "      <td>5.3</td>\n",
              "    </tr>\n",
              "  </tbody>\n",
              "</table>\n",
              "</div>"
            ],
            "text/plain": [
              "                             key  ... fare_amount\n",
              "0    2009-06-15 17:26:21.0000001  ...         4.5\n",
              "1    2010-01-05 16:52:16.0000002  ...        16.9\n",
              "2   2011-08-18 00:35:00.00000049  ...         5.7\n",
              "3    2012-04-21 04:30:42.0000001  ...         7.7\n",
              "4  2010-03-09 07:51:00.000000135  ...         5.3\n",
              "\n",
              "[5 rows x 8 columns]"
            ]
          },
          "metadata": {
            "tags": []
          },
          "execution_count": 3
        }
      ]
    },
    {
      "cell_type": "code",
      "metadata": {
        "colab": {
          "base_uri": "https://localhost:8080/"
        },
        "id": "U6vswhLv4y-d",
        "outputId": "9dc00e67-b161-4ef3-96ae-be1c7084a173"
      },
      "source": [
        "df.info()"
      ],
      "execution_count": null,
      "outputs": [
        {
          "output_type": "stream",
          "text": [
            "<class 'pandas.core.frame.DataFrame'>\n",
            "RangeIndex: 55423856 entries, 0 to 55423855\n",
            "Data columns (total 8 columns):\n",
            " #   Column             Dtype  \n",
            "---  ------             -----  \n",
            " 0   key                object \n",
            " 1   pickup_datetime    object \n",
            " 2   pickup_latitude    float64\n",
            " 3   pickup_longitude   float64\n",
            " 4   dropoff_latitude   float64\n",
            " 5   dropoff_longitude  float64\n",
            " 6   passenger_count    int64  \n",
            " 7   fare_amount        float64\n",
            "dtypes: float64(5), int64(1), object(2)\n",
            "memory usage: 3.3+ GB\n"
          ],
          "name": "stdout"
        }
      ]
    },
    {
      "cell_type": "markdown",
      "metadata": {
        "id": "GYEk5IMwTz4z"
      },
      "source": [
        "### Primera revisión de la data completa"
      ]
    },
    {
      "cell_type": "markdown",
      "metadata": {
        "id": "vj4jep39qtw5"
      },
      "source": [
        "#### Valores duplicados"
      ]
    },
    {
      "cell_type": "code",
      "metadata": {
        "id": "evoC50cPhCIc",
        "colab": {
          "base_uri": "https://localhost:8080/",
          "height": 183
        },
        "outputId": "8b388a8c-5c42-4789-88bf-d52faec4a57b"
      },
      "source": [
        "%time\n",
        "duplicateRowsDF = df.loc[df.duplicated(['key'], keep=False), :]\n",
        "duplicateRowsDF"
      ],
      "execution_count": null,
      "outputs": [
        {
          "output_type": "stream",
          "text": [
            "CPU times: user 2 µs, sys: 0 ns, total: 2 µs\n",
            "Wall time: 5.25 µs\n"
          ],
          "name": "stdout"
        },
        {
          "output_type": "execute_result",
          "data": {
            "text/html": [
              "<div>\n",
              "<style scoped>\n",
              "    .dataframe tbody tr th:only-of-type {\n",
              "        vertical-align: middle;\n",
              "    }\n",
              "\n",
              "    .dataframe tbody tr th {\n",
              "        vertical-align: top;\n",
              "    }\n",
              "\n",
              "    .dataframe thead th {\n",
              "        text-align: right;\n",
              "    }\n",
              "</style>\n",
              "<table border=\"1\" class=\"dataframe\">\n",
              "  <thead>\n",
              "    <tr style=\"text-align: right;\">\n",
              "      <th></th>\n",
              "      <th>key</th>\n",
              "      <th>pickup_datetime</th>\n",
              "      <th>pickup_latitude</th>\n",
              "      <th>pickup_longitude</th>\n",
              "      <th>dropoff_latitude</th>\n",
              "      <th>dropoff_longitude</th>\n",
              "      <th>passenger_count</th>\n",
              "      <th>fare_amount</th>\n",
              "    </tr>\n",
              "  </thead>\n",
              "  <tbody>\n",
              "    <tr>\n",
              "      <th>3583097</th>\n",
              "      <td>2014-12-12 11:33:00.00000015</td>\n",
              "      <td>2014-12-12 11:33:00 UTC</td>\n",
              "      <td>40.773483</td>\n",
              "      <td>-73.955212</td>\n",
              "      <td>40.782178</td>\n",
              "      <td>-73.983742</td>\n",
              "      <td>1</td>\n",
              "      <td>10.0</td>\n",
              "    </tr>\n",
              "    <tr>\n",
              "      <th>55423855</th>\n",
              "      <td>2014-12-12 11:33:00.00000015</td>\n",
              "      <td>2014-12-12 11:33:00 UTC</td>\n",
              "      <td>40.797668</td>\n",
              "      <td>-73.969722</td>\n",
              "      <td>40.783313</td>\n",
              "      <td>-73.970885</td>\n",
              "      <td>1</td>\n",
              "      <td>7.5</td>\n",
              "    </tr>\n",
              "  </tbody>\n",
              "</table>\n",
              "</div>"
            ],
            "text/plain": [
              "                                   key  ... fare_amount\n",
              "3583097   2014-12-12 11:33:00.00000015  ...        10.0\n",
              "55423855  2014-12-12 11:33:00.00000015  ...         7.5\n",
              "\n",
              "[2 rows x 8 columns]"
            ]
          },
          "metadata": {
            "tags": []
          },
          "execution_count": 5
        }
      ]
    },
    {
      "cell_type": "code",
      "metadata": {
        "id": "48R3L38F4y-f"
      },
      "source": [
        "df['key'][55423855] =  '2014-12-12 11:33:00.00000016'"
      ],
      "execution_count": null,
      "outputs": []
    },
    {
      "cell_type": "code",
      "metadata": {
        "id": "wfI47LGs4y-g"
      },
      "source": [
        "# duplicateRowsDF = df.loc[df.duplicated(['key'], keep=False), :]\n",
        "# duplicateRowsDF.shape[0]"
      ],
      "execution_count": null,
      "outputs": []
    },
    {
      "cell_type": "markdown",
      "metadata": {
        "id": "KRCFfN7hUFiQ"
      },
      "source": [
        "#### Valores NaN"
      ]
    },
    {
      "cell_type": "code",
      "metadata": {
        "id": "iUmByUL04y-h",
        "colab": {
          "base_uri": "https://localhost:8080/"
        },
        "outputId": "f282af83-1ccc-499f-f520-23dba4dc96a4"
      },
      "source": [
        "valores_nan = df.isna().sum()\n",
        "valores_nan"
      ],
      "execution_count": null,
      "outputs": [
        {
          "output_type": "execute_result",
          "data": {
            "text/plain": [
              "key                    0\n",
              "pickup_datetime        0\n",
              "pickup_latitude        0\n",
              "pickup_longitude       0\n",
              "dropoff_latitude     376\n",
              "dropoff_longitude    376\n",
              "passenger_count        0\n",
              "fare_amount            0\n",
              "dtype: int64"
            ]
          },
          "metadata": {
            "tags": []
          },
          "execution_count": 7
        }
      ]
    },
    {
      "cell_type": "code",
      "metadata": {
        "id": "bsuW-LcI4y-i"
      },
      "source": [
        "df = df.dropna()"
      ],
      "execution_count": null,
      "outputs": []
    },
    {
      "cell_type": "markdown",
      "metadata": {
        "id": "llvl32jf4y-i"
      },
      "source": [
        "#### Coordenadas"
      ]
    },
    {
      "cell_type": "markdown",
      "metadata": {
        "id": "LeB7v2caeE-Q"
      },
      "source": [
        "Se analizará la data con el objetivo de eliminar las filas con coordenadas ubicadas en el océano.\n"
      ]
    },
    {
      "cell_type": "code",
      "metadata": {
        "id": "fvLRgQm4w6gv",
        "colab": {
          "base_uri": "https://localhost:8080/"
        },
        "outputId": "59ff3a9f-9870-43b9-c4aa-0d8bae5780b2"
      },
      "source": [
        "!pip install global-land-mask"
      ],
      "execution_count": null,
      "outputs": [
        {
          "output_type": "stream",
          "text": [
            "Requirement already satisfied: global-land-mask in /usr/local/lib/python3.7/dist-packages (1.0.0)\n"
          ],
          "name": "stdout"
        }
      ]
    },
    {
      "cell_type": "code",
      "metadata": {
        "id": "EHDiR4uHLME7"
      },
      "source": [
        "from global_land_mask import globe as gl"
      ],
      "execution_count": null,
      "outputs": []
    },
    {
      "cell_type": "code",
      "metadata": {
        "id": "eKQUwiZo20So",
        "colab": {
          "base_uri": "https://localhost:8080/"
        },
        "outputId": "f9c55817-bf61-4336-e738-436f19f71d3e"
      },
      "source": [
        "df.shape"
      ],
      "execution_count": null,
      "outputs": [
        {
          "output_type": "execute_result",
          "data": {
            "text/plain": [
              "(55423480, 8)"
            ]
          },
          "metadata": {
            "tags": []
          },
          "execution_count": 11
        }
      ]
    },
    {
      "cell_type": "code",
      "metadata": {
        "id": "BvAMaLT7zCsb"
      },
      "source": [
        "df = df[((df['pickup_latitude'].values > -90) & (df['pickup_latitude'].values < 90))]\n",
        "df = df[(df['dropoff_latitude'].values > -90) & (df['dropoff_latitude'].values < 90) ]\n",
        "\n",
        "df = df[(df['pickup_longitude'].values > -180) & (df['pickup_longitude'].values < 180)]\n",
        "df = df[(df['dropoff_longitude'].values > -180) & (df['dropoff_longitude'].values < 180)]\n"
      ],
      "execution_count": null,
      "outputs": []
    },
    {
      "cell_type": "code",
      "metadata": {
        "id": "PEETEkebB3UI"
      },
      "source": [
        "pla = df[['pickup_latitude']].to_numpy()\n",
        "plon = df[['pickup_longitude']].to_numpy()\n",
        "df = df.drop(df.loc[gl.is_ocean(pla,plon)].index)\n",
        "\n",
        "dla = df[['dropoff_latitude']].to_numpy()\n",
        "dlon = df[['dropoff_longitude']].to_numpy()\n",
        "df = df.drop(df.loc[gl.is_ocean(dla,dlon)].index)"
      ],
      "execution_count": null,
      "outputs": []
    },
    {
      "cell_type": "code",
      "metadata": {
        "id": "wdcfeIKIYiMF",
        "colab": {
          "base_uri": "https://localhost:8080/"
        },
        "outputId": "294858aa-ce5f-4d97-a69b-363c928e9def"
      },
      "source": [
        "df.shape"
      ],
      "execution_count": null,
      "outputs": [
        {
          "output_type": "execute_result",
          "data": {
            "text/plain": [
              "(54031179, 8)"
            ]
          },
          "metadata": {
            "tags": []
          },
          "execution_count": 14
        }
      ]
    },
    {
      "cell_type": "markdown",
      "metadata": {
        "id": "4ItgwaCT4y-p"
      },
      "source": [
        "#### Rango de valores"
      ]
    },
    {
      "cell_type": "markdown",
      "metadata": {
        "id": "UscDKqiq4y-p"
      },
      "source": [
        "Ahora verificamos que los datos cumplan las restricciones de rango correspondientes."
      ]
    },
    {
      "cell_type": "code",
      "metadata": {
        "id": "res5Wfou4y-p",
        "colab": {
          "base_uri": "https://localhost:8080/",
          "height": 299
        },
        "outputId": "885bf02f-d473-40d2-ca52-f0e51324315d"
      },
      "source": [
        "df.describe()"
      ],
      "execution_count": null,
      "outputs": [
        {
          "output_type": "execute_result",
          "data": {
            "text/html": [
              "<div>\n",
              "<style scoped>\n",
              "    .dataframe tbody tr th:only-of-type {\n",
              "        vertical-align: middle;\n",
              "    }\n",
              "\n",
              "    .dataframe tbody tr th {\n",
              "        vertical-align: top;\n",
              "    }\n",
              "\n",
              "    .dataframe thead th {\n",
              "        text-align: right;\n",
              "    }\n",
              "</style>\n",
              "<table border=\"1\" class=\"dataframe\">\n",
              "  <thead>\n",
              "    <tr style=\"text-align: right;\">\n",
              "      <th></th>\n",
              "      <th>pickup_latitude</th>\n",
              "      <th>pickup_longitude</th>\n",
              "      <th>dropoff_latitude</th>\n",
              "      <th>dropoff_longitude</th>\n",
              "      <th>passenger_count</th>\n",
              "      <th>fare_amount</th>\n",
              "    </tr>\n",
              "  </thead>\n",
              "  <tbody>\n",
              "    <tr>\n",
              "      <th>count</th>\n",
              "      <td>5.403118e+07</td>\n",
              "      <td>5.403118e+07</td>\n",
              "      <td>5.403118e+07</td>\n",
              "      <td>5.403118e+07</td>\n",
              "      <td>5.403118e+07</td>\n",
              "      <td>5.403118e+07</td>\n",
              "    </tr>\n",
              "    <tr>\n",
              "      <th>mean</th>\n",
              "      <td>4.069348e+01</td>\n",
              "      <td>-7.390924e+01</td>\n",
              "      <td>4.069385e+01</td>\n",
              "      <td>-7.390909e+01</td>\n",
              "      <td>1.685326e+00</td>\n",
              "      <td>1.131566e+01</td>\n",
              "    </tr>\n",
              "    <tr>\n",
              "      <th>std</th>\n",
              "      <td>2.558227e+00</td>\n",
              "      <td>2.680539e+00</td>\n",
              "      <td>2.558269e+00</td>\n",
              "      <td>2.669993e+00</td>\n",
              "      <td>1.316547e+00</td>\n",
              "      <td>2.087019e+01</td>\n",
              "    </tr>\n",
              "    <tr>\n",
              "      <th>min</th>\n",
              "      <td>-7.783387e+01</td>\n",
              "      <td>-1.234080e+02</td>\n",
              "      <td>-7.435461e+01</td>\n",
              "      <td>-1.291153e+02</td>\n",
              "      <td>0.000000e+00</td>\n",
              "      <td>-3.000000e+02</td>\n",
              "    </tr>\n",
              "    <tr>\n",
              "      <th>25%</th>\n",
              "      <td>4.073667e+01</td>\n",
              "      <td>-7.399219e+01</td>\n",
              "      <td>4.073577e+01</td>\n",
              "      <td>-7.399148e+01</td>\n",
              "      <td>1.000000e+00</td>\n",
              "      <td>6.000000e+00</td>\n",
              "    </tr>\n",
              "    <tr>\n",
              "      <th>50%</th>\n",
              "      <td>4.075346e+01</td>\n",
              "      <td>-7.398205e+01</td>\n",
              "      <td>4.075398e+01</td>\n",
              "      <td>-7.398051e+01</td>\n",
              "      <td>1.000000e+00</td>\n",
              "      <td>8.500000e+00</td>\n",
              "    </tr>\n",
              "    <tr>\n",
              "      <th>75%</th>\n",
              "      <td>4.076762e+01</td>\n",
              "      <td>-7.396821e+01</td>\n",
              "      <td>4.076844e+01</td>\n",
              "      <td>-7.396521e+01</td>\n",
              "      <td>2.000000e+00</td>\n",
              "      <td>1.250000e+01</td>\n",
              "    </tr>\n",
              "    <tr>\n",
              "      <th>max</th>\n",
              "      <td>8.154545e+01</td>\n",
              "      <td>1.550187e+02</td>\n",
              "      <td>8.276667e+01</td>\n",
              "      <td>1.322415e+02</td>\n",
              "      <td>2.080000e+02</td>\n",
              "      <td>9.396336e+04</td>\n",
              "    </tr>\n",
              "  </tbody>\n",
              "</table>\n",
              "</div>"
            ],
            "text/plain": [
              "       pickup_latitude  pickup_longitude  ...  passenger_count   fare_amount\n",
              "count     5.403118e+07      5.403118e+07  ...     5.403118e+07  5.403118e+07\n",
              "mean      4.069348e+01     -7.390924e+01  ...     1.685326e+00  1.131566e+01\n",
              "std       2.558227e+00      2.680539e+00  ...     1.316547e+00  2.087019e+01\n",
              "min      -7.783387e+01     -1.234080e+02  ...     0.000000e+00 -3.000000e+02\n",
              "25%       4.073667e+01     -7.399219e+01  ...     1.000000e+00  6.000000e+00\n",
              "50%       4.075346e+01     -7.398205e+01  ...     1.000000e+00  8.500000e+00\n",
              "75%       4.076762e+01     -7.396821e+01  ...     2.000000e+00  1.250000e+01\n",
              "max       8.154545e+01      1.550187e+02  ...     2.080000e+02  9.396336e+04\n",
              "\n",
              "[8 rows x 6 columns]"
            ]
          },
          "metadata": {
            "tags": []
          },
          "execution_count": 15
        }
      ]
    },
    {
      "cell_type": "markdown",
      "metadata": {
        "id": "kv0Jt8zp4y-p"
      },
      "source": [
        "Observamos que el mínimo valor de la columna de tarifa (fare_amount) es -300. Necesitamos que los valores de la tarifa sean valores mayores o iguales a 0."
      ]
    },
    {
      "cell_type": "code",
      "metadata": {
        "id": "C9FI5sMA4y-q",
        "colab": {
          "base_uri": "https://localhost:8080/"
        },
        "outputId": "e271a24b-6eb8-41bc-ee18-f2f5f80ebc9a"
      },
      "source": [
        "df[df['fare_amount'] <= 0].count() /df.count()"
      ],
      "execution_count": null,
      "outputs": [
        {
          "output_type": "execute_result",
          "data": {
            "text/plain": [
              "key                  0.000062\n",
              "pickup_datetime      0.000062\n",
              "pickup_latitude      0.000062\n",
              "pickup_longitude     0.000062\n",
              "dropoff_latitude     0.000062\n",
              "dropoff_longitude    0.000062\n",
              "passenger_count      0.000062\n",
              "fare_amount          0.000062\n",
              "dtype: float64"
            ]
          },
          "metadata": {
            "tags": []
          },
          "execution_count": 16
        }
      ]
    },
    {
      "cell_type": "code",
      "metadata": {
        "id": "s4e2Hz_vK_e8"
      },
      "source": [
        "df = df[df['fare_amount'] >= 2.5]"
      ],
      "execution_count": null,
      "outputs": []
    },
    {
      "cell_type": "markdown",
      "metadata": {
        "id": "5ouqGcXXNyds"
      },
      "source": [
        "Tambien existen valores atípicos muy alejados de la media, estos se pueden limitar mediante la desviación estandar. Eliminaremos los valores atípicos de la tarifa usando Z-score."
      ]
    },
    {
      "cell_type": "code",
      "metadata": {
        "id": "Eh7pKG1tF3V4"
      },
      "source": [
        "mean = np.mean(df['fare_amount'])\n",
        "std = np.std(df['fare_amount'])\n",
        "df = df[(df['fare_amount']-mean)/std<3]"
      ],
      "execution_count": null,
      "outputs": []
    },
    {
      "cell_type": "code",
      "metadata": {
        "colab": {
          "base_uri": "https://localhost:8080/"
        },
        "id": "sUPkIoSQUrJx",
        "outputId": "3c762e5a-ef16-44b7-a098-cfb5fb66408b"
      },
      "source": [
        "df.shape"
      ],
      "execution_count": null,
      "outputs": [
        {
          "output_type": "execute_result",
          "data": {
            "text/plain": [
              "(53957580, 8)"
            ]
          },
          "metadata": {
            "tags": []
          },
          "execution_count": 19
        }
      ]
    },
    {
      "cell_type": "markdown",
      "metadata": {
        "id": "_h1h8JqD4y-q"
      },
      "source": [
        "También notamos valores atípicos en la cantidad de pasajeros, por ejemplo un viaje con 208 pasajeros. De acuerdo a las leyes de tránsito de Nueva York como máximo pueden haber 6 personas. Por lo tanto, las filas con cantidades de pasajeros mayores a 6 serán eliminadas."
      ]
    },
    {
      "cell_type": "code",
      "metadata": {
        "id": "0utDeYWuLJKX",
        "colab": {
          "base_uri": "https://localhost:8080/"
        },
        "outputId": "671de3cc-8c3d-4784-b19b-dba7942d1bc6"
      },
      "source": [
        "( (df[df['passenger_count'] > 6].count() + df[df['passenger_count'] < 1.0].count()) / df.count() )* 100"
      ],
      "execution_count": null,
      "outputs": [
        {
          "output_type": "execute_result",
          "data": {
            "text/plain": [
              "key                  0.352132\n",
              "pickup_datetime      0.352132\n",
              "pickup_latitude      0.352132\n",
              "pickup_longitude     0.352132\n",
              "dropoff_latitude     0.352132\n",
              "dropoff_longitude    0.352132\n",
              "passenger_count      0.352132\n",
              "fare_amount          0.352132\n",
              "dtype: float64"
            ]
          },
          "metadata": {
            "tags": []
          },
          "execution_count": 20
        }
      ]
    },
    {
      "cell_type": "code",
      "metadata": {
        "id": "noQopfHP4y-q"
      },
      "source": [
        "df = df[df['passenger_count'] <= 6]"
      ],
      "execution_count": null,
      "outputs": []
    },
    {
      "cell_type": "code",
      "metadata": {
        "id": "fCTUphK6YoWV"
      },
      "source": [
        "df = df[df['passenger_count'] >= 1.0]"
      ],
      "execution_count": null,
      "outputs": []
    },
    {
      "cell_type": "code",
      "metadata": {
        "id": "aMr7I-0fM6-m",
        "colab": {
          "base_uri": "https://localhost:8080/",
          "height": 299
        },
        "outputId": "f134d644-277f-468f-dc11-af6ef3cfac3c"
      },
      "source": [
        "df.describe()"
      ],
      "execution_count": null,
      "outputs": [
        {
          "output_type": "execute_result",
          "data": {
            "text/html": [
              "<div>\n",
              "<style scoped>\n",
              "    .dataframe tbody tr th:only-of-type {\n",
              "        vertical-align: middle;\n",
              "    }\n",
              "\n",
              "    .dataframe tbody tr th {\n",
              "        vertical-align: top;\n",
              "    }\n",
              "\n",
              "    .dataframe thead th {\n",
              "        text-align: right;\n",
              "    }\n",
              "</style>\n",
              "<table border=\"1\" class=\"dataframe\">\n",
              "  <thead>\n",
              "    <tr style=\"text-align: right;\">\n",
              "      <th></th>\n",
              "      <th>pickup_latitude</th>\n",
              "      <th>pickup_longitude</th>\n",
              "      <th>dropoff_latitude</th>\n",
              "      <th>dropoff_longitude</th>\n",
              "      <th>passenger_count</th>\n",
              "      <th>fare_amount</th>\n",
              "    </tr>\n",
              "  </thead>\n",
              "  <tbody>\n",
              "    <tr>\n",
              "      <th>count</th>\n",
              "      <td>5.376758e+07</td>\n",
              "      <td>5.376758e+07</td>\n",
              "      <td>5.376758e+07</td>\n",
              "      <td>5.376758e+07</td>\n",
              "      <td>5.376758e+07</td>\n",
              "      <td>5.376758e+07</td>\n",
              "    </tr>\n",
              "    <tr>\n",
              "      <th>mean</th>\n",
              "      <td>4.069331e+01</td>\n",
              "      <td>-7.390905e+01</td>\n",
              "      <td>4.069368e+01</td>\n",
              "      <td>-7.390878e+01</td>\n",
              "      <td>1.691322e+00</td>\n",
              "      <td>1.120855e+01</td>\n",
              "    </tr>\n",
              "    <tr>\n",
              "      <th>std</th>\n",
              "      <td>2.562042e+00</td>\n",
              "      <td>2.684260e+00</td>\n",
              "      <td>2.562079e+00</td>\n",
              "      <td>2.673705e+00</td>\n",
              "      <td>1.307453e+00</td>\n",
              "      <td>9.106362e+00</td>\n",
              "    </tr>\n",
              "    <tr>\n",
              "      <th>min</th>\n",
              "      <td>-7.783387e+01</td>\n",
              "      <td>-1.234080e+02</td>\n",
              "      <td>-7.417884e+01</td>\n",
              "      <td>-1.291153e+02</td>\n",
              "      <td>1.000000e+00</td>\n",
              "      <td>2.500000e+00</td>\n",
              "    </tr>\n",
              "    <tr>\n",
              "      <th>25%</th>\n",
              "      <td>4.073667e+01</td>\n",
              "      <td>-7.399219e+01</td>\n",
              "      <td>4.073583e+01</td>\n",
              "      <td>-7.399146e+01</td>\n",
              "      <td>1.000000e+00</td>\n",
              "      <td>6.000000e+00</td>\n",
              "    </tr>\n",
              "    <tr>\n",
              "      <th>50%</th>\n",
              "      <td>4.075346e+01</td>\n",
              "      <td>-7.398206e+01</td>\n",
              "      <td>4.075400e+01</td>\n",
              "      <td>-7.398050e+01</td>\n",
              "      <td>1.000000e+00</td>\n",
              "      <td>8.500000e+00</td>\n",
              "    </tr>\n",
              "    <tr>\n",
              "      <th>75%</th>\n",
              "      <td>4.076762e+01</td>\n",
              "      <td>-7.396823e+01</td>\n",
              "      <td>4.076844e+01</td>\n",
              "      <td>-7.396520e+01</td>\n",
              "      <td>2.000000e+00</td>\n",
              "      <td>1.250000e+01</td>\n",
              "    </tr>\n",
              "    <tr>\n",
              "      <th>max</th>\n",
              "      <td>8.154545e+01</td>\n",
              "      <td>1.550187e+02</td>\n",
              "      <td>8.276667e+01</td>\n",
              "      <td>1.322415e+02</td>\n",
              "      <td>6.000000e+00</td>\n",
              "      <td>7.391000e+01</td>\n",
              "    </tr>\n",
              "  </tbody>\n",
              "</table>\n",
              "</div>"
            ],
            "text/plain": [
              "       pickup_latitude  pickup_longitude  ...  passenger_count   fare_amount\n",
              "count     5.376758e+07      5.376758e+07  ...     5.376758e+07  5.376758e+07\n",
              "mean      4.069331e+01     -7.390905e+01  ...     1.691322e+00  1.120855e+01\n",
              "std       2.562042e+00      2.684260e+00  ...     1.307453e+00  9.106362e+00\n",
              "min      -7.783387e+01     -1.234080e+02  ...     1.000000e+00  2.500000e+00\n",
              "25%       4.073667e+01     -7.399219e+01  ...     1.000000e+00  6.000000e+00\n",
              "50%       4.075346e+01     -7.398206e+01  ...     1.000000e+00  8.500000e+00\n",
              "75%       4.076762e+01     -7.396823e+01  ...     2.000000e+00  1.250000e+01\n",
              "max       8.154545e+01      1.550187e+02  ...     6.000000e+00  7.391000e+01\n",
              "\n",
              "[8 rows x 6 columns]"
            ]
          },
          "metadata": {
            "tags": []
          },
          "execution_count": 23
        }
      ]
    },
    {
      "cell_type": "code",
      "metadata": {
        "id": "FgEs2PdWvLCs"
      },
      "source": [
        "df.to_csv('data2.csv', index = False, header=True)"
      ],
      "execution_count": null,
      "outputs": []
    },
    {
      "cell_type": "markdown",
      "metadata": {
        "id": "0QleAI77dipD"
      },
      "source": [
        "## Con Vaex"
      ]
    },
    {
      "cell_type": "code",
      "metadata": {
        "id": "Y7PznarOeiKZ",
        "colab": {
          "base_uri": "https://localhost:8080/"
        },
        "outputId": "f62e8537-04bb-4f97-f893-cad2dd461747"
      },
      "source": [
        "!pip install ipython==7.24.1"
      ],
      "execution_count": 4,
      "outputs": [
        {
          "output_type": "stream",
          "text": [
            "Requirement already satisfied: ipython==7.24.1 in /usr/local/lib/python3.7/dist-packages (7.24.1)\n",
            "Requirement already satisfied: decorator in /usr/local/lib/python3.7/dist-packages (from ipython==7.24.1) (4.4.2)\n",
            "Requirement already satisfied: jedi>=0.16 in /usr/local/lib/python3.7/dist-packages (from ipython==7.24.1) (0.18.0)\n",
            "Requirement already satisfied: matplotlib-inline in /usr/local/lib/python3.7/dist-packages (from ipython==7.24.1) (0.1.2)\n",
            "Requirement already satisfied: pexpect>4.3; sys_platform != \"win32\" in /usr/local/lib/python3.7/dist-packages (from ipython==7.24.1) (4.8.0)\n",
            "Requirement already satisfied: setuptools>=18.5 in /usr/local/lib/python3.7/dist-packages (from ipython==7.24.1) (57.0.0)\n",
            "Requirement already satisfied: pickleshare in /usr/local/lib/python3.7/dist-packages (from ipython==7.24.1) (0.7.5)\n",
            "Requirement already satisfied: pygments in /usr/local/lib/python3.7/dist-packages (from ipython==7.24.1) (2.6.1)\n",
            "Requirement already satisfied: traitlets>=4.2 in /usr/local/lib/python3.7/dist-packages (from ipython==7.24.1) (5.0.5)\n",
            "Requirement already satisfied: prompt-toolkit!=3.0.0,!=3.0.1,<3.1.0,>=2.0.0 in /usr/local/lib/python3.7/dist-packages (from ipython==7.24.1) (2.0.10)\n",
            "Requirement already satisfied: backcall in /usr/local/lib/python3.7/dist-packages (from ipython==7.24.1) (0.2.0)\n",
            "Requirement already satisfied: parso<0.9.0,>=0.8.0 in /usr/local/lib/python3.7/dist-packages (from jedi>=0.16->ipython==7.24.1) (0.8.2)\n",
            "Requirement already satisfied: ptyprocess>=0.5 in /usr/local/lib/python3.7/dist-packages (from pexpect>4.3; sys_platform != \"win32\"->ipython==7.24.1) (0.7.0)\n",
            "Requirement already satisfied: ipython-genutils in /usr/local/lib/python3.7/dist-packages (from traitlets>=4.2->ipython==7.24.1) (0.2.0)\n",
            "Requirement already satisfied: six>=1.9.0 in /usr/local/lib/python3.7/dist-packages (from prompt-toolkit!=3.0.0,!=3.0.1,<3.1.0,>=2.0.0->ipython==7.24.1) (1.15.0)\n",
            "Requirement already satisfied: wcwidth in /usr/local/lib/python3.7/dist-packages (from prompt-toolkit!=3.0.0,!=3.0.1,<3.1.0,>=2.0.0->ipython==7.24.1) (0.2.5)\n"
          ],
          "name": "stdout"
        }
      ]
    },
    {
      "cell_type": "code",
      "metadata": {
        "id": "d8Artcaic_S7",
        "colab": {
          "base_uri": "https://localhost:8080/"
        },
        "outputId": "6c688665-c3e2-4a41-bd55-99c8acac3502"
      },
      "source": [
        "!pip install vaex"
      ],
      "execution_count": 5,
      "outputs": [
        {
          "output_type": "stream",
          "text": [
            "Requirement already satisfied: vaex in /usr/local/lib/python3.7/dist-packages (4.1.0)\n",
            "Requirement already satisfied: vaex-astro<0.9,>=0.8.0 in /usr/local/lib/python3.7/dist-packages (from vaex) (0.8.1)\n",
            "Requirement already satisfied: vaex-viz<0.6,>=0.5.0 in /usr/local/lib/python3.7/dist-packages (from vaex) (0.5.0)\n",
            "Requirement already satisfied: vaex-jupyter<0.7,>=0.6.0 in /usr/local/lib/python3.7/dist-packages (from vaex) (0.6.0)\n",
            "Requirement already satisfied: vaex-hdf5<0.8,>=0.7.0 in /usr/local/lib/python3.7/dist-packages (from vaex) (0.7.0)\n",
            "Requirement already satisfied: vaex-core<5,>=4.1.0 in /usr/local/lib/python3.7/dist-packages (from vaex) (4.2.0)\n",
            "Requirement already satisfied: vaex-server<0.5,>=0.4.0 in /usr/local/lib/python3.7/dist-packages (from vaex) (0.4.1)\n",
            "Requirement already satisfied: vaex-ml<0.12,>=0.11.0 in /usr/local/lib/python3.7/dist-packages (from vaex) (0.11.1)\n",
            "Requirement already satisfied: astropy in /usr/local/lib/python3.7/dist-packages (from vaex-astro<0.9,>=0.8.0->vaex) (4.2.1)\n",
            "Requirement already satisfied: matplotlib>=1.3.1 in /usr/local/lib/python3.7/dist-packages (from vaex-viz<0.6,>=0.5.0->vaex) (3.2.2)\n",
            "Requirement already satisfied: pillow in /usr/local/lib/python3.7/dist-packages (from vaex-viz<0.6,>=0.5.0->vaex) (7.1.2)\n",
            "Requirement already satisfied: ipympl in /usr/local/lib/python3.7/dist-packages (from vaex-jupyter<0.7,>=0.6.0->vaex) (0.7.0)\n",
            "Requirement already satisfied: xarray in /usr/local/lib/python3.7/dist-packages (from vaex-jupyter<0.7,>=0.6.0->vaex) (0.18.2)\n",
            "Requirement already satisfied: ipyvolume>=0.4 in /usr/local/lib/python3.7/dist-packages (from vaex-jupyter<0.7,>=0.6.0->vaex) (0.5.2)\n",
            "Requirement already satisfied: ipyleaflet in /usr/local/lib/python3.7/dist-packages (from vaex-jupyter<0.7,>=0.6.0->vaex) (0.13.6)\n",
            "Requirement already satisfied: bqplot>=0.10.1 in /usr/local/lib/python3.7/dist-packages (from vaex-jupyter<0.7,>=0.6.0->vaex) (0.12.29)\n",
            "Requirement already satisfied: ipyvuetify<2,>=1.2.2 in /usr/local/lib/python3.7/dist-packages (from vaex-jupyter<0.7,>=0.6.0->vaex) (1.6.2)\n",
            "Requirement already satisfied: h5py>=2.9 in /usr/local/lib/python3.7/dist-packages (from vaex-hdf5<0.8,>=0.7.0->vaex) (3.1.0)\n",
            "Requirement already satisfied: pyarrow>=3.0 in /usr/local/lib/python3.7/dist-packages (from vaex-core<5,>=4.1.0->vaex) (3.0.0)\n",
            "Requirement already satisfied: frozendict in /usr/local/lib/python3.7/dist-packages (from vaex-core<5,>=4.1.0->vaex) (2.0.2)\n",
            "Requirement already satisfied: nest-asyncio>=1.3.3 in /usr/local/lib/python3.7/dist-packages (from vaex-core<5,>=4.1.0->vaex) (1.5.1)\n",
            "Requirement already satisfied: tabulate>=0.8.3 in /usr/local/lib/python3.7/dist-packages (from vaex-core<5,>=4.1.0->vaex) (0.8.9)\n",
            "Requirement already satisfied: future>=0.15.2 in /usr/local/lib/python3.7/dist-packages (from vaex-core<5,>=4.1.0->vaex) (0.16.0)\n",
            "Requirement already satisfied: dask in /usr/local/lib/python3.7/dist-packages (from vaex-core<5,>=4.1.0->vaex) (2.12.0)\n",
            "Requirement already satisfied: pyyaml in /usr/local/lib/python3.7/dist-packages (from vaex-core<5,>=4.1.0->vaex) (3.13)\n",
            "Requirement already satisfied: cloudpickle in /usr/local/lib/python3.7/dist-packages (from vaex-core<5,>=4.1.0->vaex) (1.3.0)\n",
            "Requirement already satisfied: requests in /usr/local/lib/python3.7/dist-packages (from vaex-core<5,>=4.1.0->vaex) (2.23.0)\n",
            "Requirement already satisfied: numpy>=1.16 in /usr/local/lib/python3.7/dist-packages (from vaex-core<5,>=4.1.0->vaex) (1.19.5)\n",
            "Requirement already satisfied: psutil>=1.2.1 in /usr/local/lib/python3.7/dist-packages (from vaex-core<5,>=4.1.0->vaex) (5.4.8)\n",
            "Requirement already satisfied: pandas in /usr/local/lib/python3.7/dist-packages (from vaex-core<5,>=4.1.0->vaex) (1.1.5)\n",
            "Requirement already satisfied: progressbar2 in /usr/local/lib/python3.7/dist-packages (from vaex-core<5,>=4.1.0->vaex) (3.38.0)\n",
            "Requirement already satisfied: aplus in /usr/local/lib/python3.7/dist-packages (from vaex-core<5,>=4.1.0->vaex) (0.11.0)\n",
            "Requirement already satisfied: six in /usr/local/lib/python3.7/dist-packages (from vaex-core<5,>=4.1.0->vaex) (1.15.0)\n",
            "Requirement already satisfied: tornado>4.1 in /usr/local/lib/python3.7/dist-packages (from vaex-server<0.5,>=0.4.0->vaex) (5.1.1)\n",
            "Requirement already satisfied: cachetools in /usr/local/lib/python3.7/dist-packages (from vaex-server<0.5,>=0.4.0->vaex) (4.2.2)\n",
            "Requirement already satisfied: jinja2 in /usr/local/lib/python3.7/dist-packages (from vaex-ml<0.12,>=0.11.0->vaex) (2.11.3)\n",
            "Requirement already satisfied: numba in /usr/local/lib/python3.7/dist-packages (from vaex-ml<0.12,>=0.11.0->vaex) (0.51.2)\n",
            "Requirement already satisfied: traitlets in /usr/local/lib/python3.7/dist-packages (from vaex-ml<0.12,>=0.11.0->vaex) (5.0.5)\n",
            "Requirement already satisfied: pyerfa in /usr/local/lib/python3.7/dist-packages (from astropy->vaex-astro<0.9,>=0.8.0->vaex) (2.0.0)\n",
            "Requirement already satisfied: pyparsing!=2.0.4,!=2.1.2,!=2.1.6,>=2.0.1 in /usr/local/lib/python3.7/dist-packages (from matplotlib>=1.3.1->vaex-viz<0.6,>=0.5.0->vaex) (2.4.7)\n",
            "Requirement already satisfied: python-dateutil>=2.1 in /usr/local/lib/python3.7/dist-packages (from matplotlib>=1.3.1->vaex-viz<0.6,>=0.5.0->vaex) (2.8.1)\n",
            "Requirement already satisfied: kiwisolver>=1.0.1 in /usr/local/lib/python3.7/dist-packages (from matplotlib>=1.3.1->vaex-viz<0.6,>=0.5.0->vaex) (1.3.1)\n",
            "Requirement already satisfied: cycler>=0.10 in /usr/local/lib/python3.7/dist-packages (from matplotlib>=1.3.1->vaex-viz<0.6,>=0.5.0->vaex) (0.10.0)\n",
            "Requirement already satisfied: ipykernel>=4.7 in /usr/local/lib/python3.7/dist-packages (from ipympl->vaex-jupyter<0.7,>=0.6.0->vaex) (4.10.1)\n",
            "Requirement already satisfied: ipywidgets>=7.6.0 in /usr/local/lib/python3.7/dist-packages (from ipympl->vaex-jupyter<0.7,>=0.6.0->vaex) (7.6.3)\n",
            "Requirement already satisfied: setuptools>=40.4 in /usr/local/lib/python3.7/dist-packages (from xarray->vaex-jupyter<0.7,>=0.6.0->vaex) (57.0.0)\n",
            "Requirement already satisfied: traittypes in /usr/local/lib/python3.7/dist-packages (from ipyvolume>=0.4->vaex-jupyter<0.7,>=0.6.0->vaex) (0.2.1)\n",
            "Requirement already satisfied: pythreejs>=1.0.0 in /usr/local/lib/python3.7/dist-packages (from ipyvolume>=0.4->vaex-jupyter<0.7,>=0.6.0->vaex) (2.3.0)\n",
            "Requirement already satisfied: ipywebrtc in /usr/local/lib/python3.7/dist-packages (from ipyvolume>=0.4->vaex-jupyter<0.7,>=0.6.0->vaex) (0.6.0)\n",
            "Requirement already satisfied: branca<0.5,>=0.3.1 in /usr/local/lib/python3.7/dist-packages (from ipyleaflet->vaex-jupyter<0.7,>=0.6.0->vaex) (0.4.2)\n",
            "Requirement already satisfied: shapely in /usr/local/lib/python3.7/dist-packages (from ipyleaflet->vaex-jupyter<0.7,>=0.6.0->vaex) (1.7.1)\n",
            "Requirement already satisfied: ipyvue<2,>=1.5 in /usr/local/lib/python3.7/dist-packages (from ipyvuetify<2,>=1.2.2->vaex-jupyter<0.7,>=0.6.0->vaex) (1.5.0)\n",
            "Requirement already satisfied: cached-property; python_version < \"3.8\" in /usr/local/lib/python3.7/dist-packages (from h5py>=2.9->vaex-hdf5<0.8,>=0.7.0->vaex) (1.5.2)\n",
            "Requirement already satisfied: idna<3,>=2.5 in /usr/local/lib/python3.7/dist-packages (from requests->vaex-core<5,>=4.1.0->vaex) (2.10)\n",
            "Requirement already satisfied: chardet<4,>=3.0.2 in /usr/local/lib/python3.7/dist-packages (from requests->vaex-core<5,>=4.1.0->vaex) (3.0.4)\n",
            "Requirement already satisfied: certifi>=2017.4.17 in /usr/local/lib/python3.7/dist-packages (from requests->vaex-core<5,>=4.1.0->vaex) (2020.12.5)\n",
            "Requirement already satisfied: urllib3!=1.25.0,!=1.25.1,<1.26,>=1.21.1 in /usr/local/lib/python3.7/dist-packages (from requests->vaex-core<5,>=4.1.0->vaex) (1.24.3)\n",
            "Requirement already satisfied: pytz>=2017.2 in /usr/local/lib/python3.7/dist-packages (from pandas->vaex-core<5,>=4.1.0->vaex) (2018.9)\n",
            "Requirement already satisfied: python-utils>=2.3.0 in /usr/local/lib/python3.7/dist-packages (from progressbar2->vaex-core<5,>=4.1.0->vaex) (2.5.6)\n",
            "Requirement already satisfied: MarkupSafe>=0.23 in /usr/local/lib/python3.7/dist-packages (from jinja2->vaex-ml<0.12,>=0.11.0->vaex) (2.0.1)\n",
            "Requirement already satisfied: llvmlite<0.35,>=0.34.0.dev0 in /usr/local/lib/python3.7/dist-packages (from numba->vaex-ml<0.12,>=0.11.0->vaex) (0.34.0)\n",
            "Requirement already satisfied: ipython-genutils in /usr/local/lib/python3.7/dist-packages (from traitlets->vaex-ml<0.12,>=0.11.0->vaex) (0.2.0)\n",
            "Requirement already satisfied: ipython>=4.0.0 in /usr/local/lib/python3.7/dist-packages (from ipykernel>=4.7->ipympl->vaex-jupyter<0.7,>=0.6.0->vaex) (7.24.1)\n",
            "Requirement already satisfied: jupyter-client in /usr/local/lib/python3.7/dist-packages (from ipykernel>=4.7->ipympl->vaex-jupyter<0.7,>=0.6.0->vaex) (5.3.5)\n",
            "Requirement already satisfied: widgetsnbextension~=3.5.0 in /usr/local/lib/python3.7/dist-packages (from ipywidgets>=7.6.0->ipympl->vaex-jupyter<0.7,>=0.6.0->vaex) (3.5.1)\n",
            "Requirement already satisfied: nbformat>=4.2.0 in /usr/local/lib/python3.7/dist-packages (from ipywidgets>=7.6.0->ipympl->vaex-jupyter<0.7,>=0.6.0->vaex) (5.1.3)\n",
            "Requirement already satisfied: jupyterlab-widgets>=1.0.0; python_version >= \"3.6\" in /usr/local/lib/python3.7/dist-packages (from ipywidgets>=7.6.0->ipympl->vaex-jupyter<0.7,>=0.6.0->vaex) (1.0.0)\n",
            "Requirement already satisfied: ipydatawidgets>=1.1.1 in /usr/local/lib/python3.7/dist-packages (from pythreejs>=1.0.0->ipyvolume>=0.4->vaex-jupyter<0.7,>=0.6.0->vaex) (4.2.0)\n",
            "Requirement already satisfied: prompt-toolkit!=3.0.0,!=3.0.1,<3.1.0,>=2.0.0 in /usr/local/lib/python3.7/dist-packages (from ipython>=4.0.0->ipykernel>=4.7->ipympl->vaex-jupyter<0.7,>=0.6.0->vaex) (2.0.10)\n",
            "Requirement already satisfied: matplotlib-inline in /usr/local/lib/python3.7/dist-packages (from ipython>=4.0.0->ipykernel>=4.7->ipympl->vaex-jupyter<0.7,>=0.6.0->vaex) (0.1.2)\n",
            "Requirement already satisfied: pexpect>4.3; sys_platform != \"win32\" in /usr/local/lib/python3.7/dist-packages (from ipython>=4.0.0->ipykernel>=4.7->ipympl->vaex-jupyter<0.7,>=0.6.0->vaex) (4.8.0)\n",
            "Requirement already satisfied: jedi>=0.16 in /usr/local/lib/python3.7/dist-packages (from ipython>=4.0.0->ipykernel>=4.7->ipympl->vaex-jupyter<0.7,>=0.6.0->vaex) (0.18.0)\n",
            "Requirement already satisfied: decorator in /usr/local/lib/python3.7/dist-packages (from ipython>=4.0.0->ipykernel>=4.7->ipympl->vaex-jupyter<0.7,>=0.6.0->vaex) (4.4.2)\n",
            "Requirement already satisfied: pygments in /usr/local/lib/python3.7/dist-packages (from ipython>=4.0.0->ipykernel>=4.7->ipympl->vaex-jupyter<0.7,>=0.6.0->vaex) (2.6.1)\n",
            "Requirement already satisfied: backcall in /usr/local/lib/python3.7/dist-packages (from ipython>=4.0.0->ipykernel>=4.7->ipympl->vaex-jupyter<0.7,>=0.6.0->vaex) (0.2.0)\n",
            "Requirement already satisfied: pickleshare in /usr/local/lib/python3.7/dist-packages (from ipython>=4.0.0->ipykernel>=4.7->ipympl->vaex-jupyter<0.7,>=0.6.0->vaex) (0.7.5)\n",
            "Requirement already satisfied: pyzmq>=13 in /usr/local/lib/python3.7/dist-packages (from jupyter-client->ipykernel>=4.7->ipympl->vaex-jupyter<0.7,>=0.6.0->vaex) (22.0.3)\n",
            "Requirement already satisfied: jupyter-core>=4.6.0 in /usr/local/lib/python3.7/dist-packages (from jupyter-client->ipykernel>=4.7->ipympl->vaex-jupyter<0.7,>=0.6.0->vaex) (4.7.1)\n",
            "Requirement already satisfied: notebook>=4.4.1 in /usr/local/lib/python3.7/dist-packages (from widgetsnbextension~=3.5.0->ipywidgets>=7.6.0->ipympl->vaex-jupyter<0.7,>=0.6.0->vaex) (5.3.1)\n",
            "Requirement already satisfied: jsonschema!=2.5.0,>=2.4 in /usr/local/lib/python3.7/dist-packages (from nbformat>=4.2.0->ipywidgets>=7.6.0->ipympl->vaex-jupyter<0.7,>=0.6.0->vaex) (2.6.0)\n",
            "Requirement already satisfied: wcwidth in /usr/local/lib/python3.7/dist-packages (from prompt-toolkit!=3.0.0,!=3.0.1,<3.1.0,>=2.0.0->ipython>=4.0.0->ipykernel>=4.7->ipympl->vaex-jupyter<0.7,>=0.6.0->vaex) (0.2.5)\n",
            "Requirement already satisfied: ptyprocess>=0.5 in /usr/local/lib/python3.7/dist-packages (from pexpect>4.3; sys_platform != \"win32\"->ipython>=4.0.0->ipykernel>=4.7->ipympl->vaex-jupyter<0.7,>=0.6.0->vaex) (0.7.0)\n",
            "Requirement already satisfied: parso<0.9.0,>=0.8.0 in /usr/local/lib/python3.7/dist-packages (from jedi>=0.16->ipython>=4.0.0->ipykernel>=4.7->ipympl->vaex-jupyter<0.7,>=0.6.0->vaex) (0.8.2)\n",
            "Requirement already satisfied: nbconvert in /usr/local/lib/python3.7/dist-packages (from notebook>=4.4.1->widgetsnbextension~=3.5.0->ipywidgets>=7.6.0->ipympl->vaex-jupyter<0.7,>=0.6.0->vaex) (5.6.1)\n",
            "Requirement already satisfied: Send2Trash in /usr/local/lib/python3.7/dist-packages (from notebook>=4.4.1->widgetsnbextension~=3.5.0->ipywidgets>=7.6.0->ipympl->vaex-jupyter<0.7,>=0.6.0->vaex) (1.5.0)\n",
            "Requirement already satisfied: terminado>=0.8.1 in /usr/local/lib/python3.7/dist-packages (from notebook>=4.4.1->widgetsnbextension~=3.5.0->ipywidgets>=7.6.0->ipympl->vaex-jupyter<0.7,>=0.6.0->vaex) (0.10.0)\n",
            "Requirement already satisfied: mistune<2,>=0.8.1 in /usr/local/lib/python3.7/dist-packages (from nbconvert->notebook>=4.4.1->widgetsnbextension~=3.5.0->ipywidgets>=7.6.0->ipympl->vaex-jupyter<0.7,>=0.6.0->vaex) (0.8.4)\n",
            "Requirement already satisfied: entrypoints>=0.2.2 in /usr/local/lib/python3.7/dist-packages (from nbconvert->notebook>=4.4.1->widgetsnbextension~=3.5.0->ipywidgets>=7.6.0->ipympl->vaex-jupyter<0.7,>=0.6.0->vaex) (0.3)\n",
            "Requirement already satisfied: pandocfilters>=1.4.1 in /usr/local/lib/python3.7/dist-packages (from nbconvert->notebook>=4.4.1->widgetsnbextension~=3.5.0->ipywidgets>=7.6.0->ipympl->vaex-jupyter<0.7,>=0.6.0->vaex) (1.4.3)\n",
            "Requirement already satisfied: testpath in /usr/local/lib/python3.7/dist-packages (from nbconvert->notebook>=4.4.1->widgetsnbextension~=3.5.0->ipywidgets>=7.6.0->ipympl->vaex-jupyter<0.7,>=0.6.0->vaex) (0.5.0)\n",
            "Requirement already satisfied: bleach in /usr/local/lib/python3.7/dist-packages (from nbconvert->notebook>=4.4.1->widgetsnbextension~=3.5.0->ipywidgets>=7.6.0->ipympl->vaex-jupyter<0.7,>=0.6.0->vaex) (3.3.0)\n",
            "Requirement already satisfied: defusedxml in /usr/local/lib/python3.7/dist-packages (from nbconvert->notebook>=4.4.1->widgetsnbextension~=3.5.0->ipywidgets>=7.6.0->ipympl->vaex-jupyter<0.7,>=0.6.0->vaex) (0.7.1)\n",
            "Requirement already satisfied: packaging in /usr/local/lib/python3.7/dist-packages (from bleach->nbconvert->notebook>=4.4.1->widgetsnbextension~=3.5.0->ipywidgets>=7.6.0->ipympl->vaex-jupyter<0.7,>=0.6.0->vaex) (20.9)\n",
            "Requirement already satisfied: webencodings in /usr/local/lib/python3.7/dist-packages (from bleach->nbconvert->notebook>=4.4.1->widgetsnbextension~=3.5.0->ipywidgets>=7.6.0->ipympl->vaex-jupyter<0.7,>=0.6.0->vaex) (0.5.1)\n"
          ],
          "name": "stdout"
        }
      ]
    },
    {
      "cell_type": "code",
      "metadata": {
        "id": "tH73x87uw6OS"
      },
      "source": [
        "import vaex\n",
        "import vaex.ml.sklearn\n",
        "import pylab as plt"
      ],
      "execution_count": 6,
      "outputs": []
    },
    {
      "cell_type": "code",
      "metadata": {
        "id": "kDiNrS_mdlY1"
      },
      "source": [
        "df_original = vaex.from_csv('data2.csv', convert=True, chunk_size=5000000)"
      ],
      "execution_count": 7,
      "outputs": []
    },
    {
      "cell_type": "code",
      "metadata": {
        "colab": {
          "base_uri": "https://localhost:8080/",
          "height": 251
        },
        "id": "-PmxeM7Td5eg",
        "outputId": "1b55143b-607b-4962-f032-82674a6b94b4"
      },
      "source": [
        "df_original.head()"
      ],
      "execution_count": 8,
      "outputs": [
        {
          "output_type": "execute_result",
          "data": {
            "text/plain": [
              "  #  key                            pickup_datetime            pickup_latitude    pickup_longitude    dropoff_latitude    dropoff_longitude    passenger_count    fare_amount\n",
              "  0  2009-06-15 17:26:21.0000001    2009-06-15 17:26:21 UTC            40.7213            -73.8443             40.7123             -73.8416                  1            4.5\n",
              "  1  2010-01-05 16:52:16.0000002    2010-01-05 16:52:16 UTC            40.7113            -74.016              40.782              -73.9793                  1           16.9\n",
              "  2  2011-08-18 00:35:00.00000049   2011-08-18 00:35:00 UTC            40.7613            -73.9827             40.7506             -73.9912                  2            5.7\n",
              "  3  2012-04-21 04:30:42.0000001    2012-04-21 04:30:42 UTC            40.7331            -73.9871             40.7581             -73.9916                  1            7.7\n",
              "  4  2010-03-09 07:51:00.000000135  2010-03-09 07:51:00 UTC            40.768             -73.9681             40.7838             -73.9567                  1            5.3\n",
              "  5  2011-01-06 09:50:45.0000002    2011-01-06 09:50:45 UTC            40.7316            -74.001              40.7582             -73.9729                  1           12.1\n",
              "  6  2012-11-20 20:35:00.0000001    2012-11-20 20:35:00 UTC            40.7517            -73.98               40.7648             -73.9738                  1            7.5\n",
              "  7  2012-01-04 17:22:00.00000081   2012-01-04 17:22:00 UTC            40.7741            -73.9513             40.751              -73.9901                  1           16.5\n",
              "  8  2012-12-03 13:10:00.000000125  2012-12-03 13:10:00 UTC            40.7267            -74.0065             40.7316             -73.9931                  1            9\n",
              "  9  2009-09-02 01:11:00.00000083   2009-09-02 01:11:00 UTC            40.7339            -73.9807             40.7581             -73.9915                  2            8.9"
            ],
            "text/html": [
              "<table>\n",
              "<thead>\n",
              "<tr><th>#                            </th><th>key                          </th><th>pickup_datetime        </th><th style=\"text-align: right;\">  pickup_latitude</th><th style=\"text-align: right;\">  pickup_longitude</th><th style=\"text-align: right;\">  dropoff_latitude</th><th style=\"text-align: right;\">  dropoff_longitude</th><th style=\"text-align: right;\">  passenger_count</th><th style=\"text-align: right;\">  fare_amount</th></tr>\n",
              "</thead>\n",
              "<tbody>\n",
              "<tr><td><i style='opacity: 0.6'>0</i></td><td>2009-06-15 17:26:21.0000001  </td><td>2009-06-15 17:26:21 UTC</td><td style=\"text-align: right;\">          40.7213</td><td style=\"text-align: right;\">          -73.8443</td><td style=\"text-align: right;\">           40.7123</td><td style=\"text-align: right;\">           -73.8416</td><td style=\"text-align: right;\">                1</td><td style=\"text-align: right;\">          4.5</td></tr>\n",
              "<tr><td><i style='opacity: 0.6'>1</i></td><td>2010-01-05 16:52:16.0000002  </td><td>2010-01-05 16:52:16 UTC</td><td style=\"text-align: right;\">          40.7113</td><td style=\"text-align: right;\">          -74.016 </td><td style=\"text-align: right;\">           40.782 </td><td style=\"text-align: right;\">           -73.9793</td><td style=\"text-align: right;\">                1</td><td style=\"text-align: right;\">         16.9</td></tr>\n",
              "<tr><td><i style='opacity: 0.6'>2</i></td><td>2011-08-18 00:35:00.00000049 </td><td>2011-08-18 00:35:00 UTC</td><td style=\"text-align: right;\">          40.7613</td><td style=\"text-align: right;\">          -73.9827</td><td style=\"text-align: right;\">           40.7506</td><td style=\"text-align: right;\">           -73.9912</td><td style=\"text-align: right;\">                2</td><td style=\"text-align: right;\">          5.7</td></tr>\n",
              "<tr><td><i style='opacity: 0.6'>3</i></td><td>2012-04-21 04:30:42.0000001  </td><td>2012-04-21 04:30:42 UTC</td><td style=\"text-align: right;\">          40.7331</td><td style=\"text-align: right;\">          -73.9871</td><td style=\"text-align: right;\">           40.7581</td><td style=\"text-align: right;\">           -73.9916</td><td style=\"text-align: right;\">                1</td><td style=\"text-align: right;\">          7.7</td></tr>\n",
              "<tr><td><i style='opacity: 0.6'>4</i></td><td>2010-03-09 07:51:00.000000135</td><td>2010-03-09 07:51:00 UTC</td><td style=\"text-align: right;\">          40.768 </td><td style=\"text-align: right;\">          -73.9681</td><td style=\"text-align: right;\">           40.7838</td><td style=\"text-align: right;\">           -73.9567</td><td style=\"text-align: right;\">                1</td><td style=\"text-align: right;\">          5.3</td></tr>\n",
              "<tr><td><i style='opacity: 0.6'>5</i></td><td>2011-01-06 09:50:45.0000002  </td><td>2011-01-06 09:50:45 UTC</td><td style=\"text-align: right;\">          40.7316</td><td style=\"text-align: right;\">          -74.001 </td><td style=\"text-align: right;\">           40.7582</td><td style=\"text-align: right;\">           -73.9729</td><td style=\"text-align: right;\">                1</td><td style=\"text-align: right;\">         12.1</td></tr>\n",
              "<tr><td><i style='opacity: 0.6'>6</i></td><td>2012-11-20 20:35:00.0000001  </td><td>2012-11-20 20:35:00 UTC</td><td style=\"text-align: right;\">          40.7517</td><td style=\"text-align: right;\">          -73.98  </td><td style=\"text-align: right;\">           40.7648</td><td style=\"text-align: right;\">           -73.9738</td><td style=\"text-align: right;\">                1</td><td style=\"text-align: right;\">          7.5</td></tr>\n",
              "<tr><td><i style='opacity: 0.6'>7</i></td><td>2012-01-04 17:22:00.00000081 </td><td>2012-01-04 17:22:00 UTC</td><td style=\"text-align: right;\">          40.7741</td><td style=\"text-align: right;\">          -73.9513</td><td style=\"text-align: right;\">           40.751 </td><td style=\"text-align: right;\">           -73.9901</td><td style=\"text-align: right;\">                1</td><td style=\"text-align: right;\">         16.5</td></tr>\n",
              "<tr><td><i style='opacity: 0.6'>8</i></td><td>2012-12-03 13:10:00.000000125</td><td>2012-12-03 13:10:00 UTC</td><td style=\"text-align: right;\">          40.7267</td><td style=\"text-align: right;\">          -74.0065</td><td style=\"text-align: right;\">           40.7316</td><td style=\"text-align: right;\">           -73.9931</td><td style=\"text-align: right;\">                1</td><td style=\"text-align: right;\">          9  </td></tr>\n",
              "<tr><td><i style='opacity: 0.6'>9</i></td><td>2009-09-02 01:11:00.00000083 </td><td>2009-09-02 01:11:00 UTC</td><td style=\"text-align: right;\">          40.7339</td><td style=\"text-align: right;\">          -73.9807</td><td style=\"text-align: right;\">           40.7581</td><td style=\"text-align: right;\">           -73.9915</td><td style=\"text-align: right;\">                2</td><td style=\"text-align: right;\">          8.9</td></tr>\n",
              "</tbody>\n",
              "</table>"
            ]
          },
          "metadata": {
            "tags": []
          },
          "execution_count": 8
        }
      ]
    },
    {
      "cell_type": "code",
      "metadata": {
        "colab": {
          "base_uri": "https://localhost:8080/",
          "height": 621
        },
        "id": "aDlN11YPnEAN",
        "outputId": "989523ca-9e31-422e-e0e4-beea4495b391"
      },
      "source": [
        "df_original.info()"
      ],
      "execution_count": 9,
      "outputs": [
        {
          "output_type": "display_data",
          "data": {
            "text/html": [
              "<style>.vaex-description pre {\n",
              "          max-width : 450px;\n",
              "          white-space : nowrap;\n",
              "          overflow : hidden;\n",
              "          text-overflow: ellipsis;\n",
              "        }\n",
              "\n",
              "        .vex-description pre:hover {\n",
              "          max-width : initial;\n",
              "          white-space: pre;\n",
              "        }</style>"
            ],
            "text/plain": [
              "<IPython.core.display.HTML object>"
            ]
          },
          "metadata": {
            "tags": []
          }
        },
        {
          "output_type": "display_data",
          "data": {
            "text/html": [
              "<div><h2>data2.csv</h2> <b>rows</b>: 53,767,578</div><h2>Columns:</h2><table class='table-striped'><thead><tr><th>column</th><th>type</th><th>unit</th><th>description</th><th>expression</th></tr></thead><tr><td>key</td><td>str</td><td></td><td ><pre></pre></td><td></td></tr><tr><td>pickup_datetime</td><td>str</td><td></td><td ><pre></pre></td><td></td></tr><tr><td>pickup_latitude</td><td>float64</td><td></td><td ><pre></pre></td><td></td></tr><tr><td>pickup_longitude</td><td>float64</td><td></td><td ><pre></pre></td><td></td></tr><tr><td>dropoff_latitude</td><td>float64</td><td></td><td ><pre></pre></td><td></td></tr><tr><td>dropoff_longitude</td><td>float64</td><td></td><td ><pre></pre></td><td></td></tr><tr><td>passenger_count</td><td>int64</td><td></td><td ><pre></pre></td><td></td></tr><tr><td>fare_amount</td><td>float64</td><td></td><td ><pre></pre></td><td></td></tr></table><h2>Data:</h2><table>\n",
              "<thead>\n",
              "<tr><th>#                                     </th><th>key                          </th><th>pickup_datetime        </th><th>pickup_latitude  </th><th>pickup_longitude  </th><th>dropoff_latitude  </th><th>dropoff_longitude  </th><th>passenger_count  </th><th>fare_amount  </th></tr>\n",
              "</thead>\n",
              "<tbody>\n",
              "<tr><td><i style='opacity: 0.6'>0</i>         </td><td>2009-06-15 17:26:21.0000001  </td><td>2009-06-15 17:26:21 UTC</td><td>40.721319        </td><td>-73.844311        </td><td>40.71227800000001 </td><td>-73.84161          </td><td>1                </td><td>4.5          </td></tr>\n",
              "<tr><td><i style='opacity: 0.6'>1</i>         </td><td>2010-01-05 16:52:16.0000002  </td><td>2010-01-05 16:52:16 UTC</td><td>40.711303        </td><td>-74.016048        </td><td>40.782004         </td><td>-73.979268         </td><td>1                </td><td>16.9         </td></tr>\n",
              "<tr><td><i style='opacity: 0.6'>2</i>         </td><td>2011-08-18 00:35:00.00000049 </td><td>2011-08-18 00:35:00 UTC</td><td>40.76127         </td><td>-73.982738        </td><td>40.750562         </td><td>-73.991242         </td><td>2                </td><td>5.7          </td></tr>\n",
              "<tr><td><i style='opacity: 0.6'>3</i>         </td><td>2012-04-21 04:30:42.0000001  </td><td>2012-04-21 04:30:42 UTC</td><td>40.733143        </td><td>-73.98713000000002</td><td>40.758092         </td><td>-73.991567         </td><td>1                </td><td>7.7          </td></tr>\n",
              "<tr><td><i style='opacity: 0.6'>4</i>         </td><td>2010-03-09 07:51:00.000000135</td><td>2010-03-09 07:51:00 UTC</td><td>40.768008        </td><td>-73.96809499999998</td><td>40.783762         </td><td>-73.956655         </td><td>1                </td><td>5.3          </td></tr>\n",
              "<tr><td>...                                   </td><td>...                          </td><td>...                    </td><td>...              </td><td>...               </td><td>...               </td><td>...                </td><td>...              </td><td>...          </td></tr>\n",
              "<tr><td><i style='opacity: 0.6'>53,767,573</i></td><td>2014-03-15 03:28:00.00000070 </td><td>2014-03-15 03:28:00 UTC</td><td>40.74002700000001</td><td>-74.00527199999998</td><td>40.762555         </td><td>-73.96328000000003 </td><td>1                </td><td>14.0         </td></tr>\n",
              "<tr><td><i style='opacity: 0.6'>53,767,574</i></td><td>2009-03-24 20:46:20.0000002  </td><td>2009-03-24 20:46:20 UTC</td><td>40.76553         </td><td>-73.957784        </td><td>40.77395900000001 </td><td>-73.95164          </td><td>1                </td><td>4.2          </td></tr>\n",
              "<tr><td><i style='opacity: 0.6'>53,767,575</i></td><td>2011-04-02 22:04:24.0000004  </td><td>2011-04-02 22:04:24 UTC</td><td>40.752325        </td><td>-73.970505        </td><td>40.797342         </td><td>-73.960537         </td><td>1                </td><td>14.1         </td></tr>\n",
              "<tr><td><i style='opacity: 0.6'>53,767,576</i></td><td>2011-10-26 05:57:51.0000002  </td><td>2011-10-26 05:57:51 UTC</td><td>40.764629        </td><td>-73.980901        </td><td>40.773963         </td><td>-73.870605         </td><td>1                </td><td>28.9         </td></tr>\n",
              "<tr><td><i style='opacity: 0.6'>53,767,577</i></td><td>2014-12-12 11:33:00.00000016 </td><td>2014-12-12 11:33:00 UTC</td><td>40.797668        </td><td>-73.96972199999998</td><td>40.783313         </td><td>-73.970885         </td><td>1                </td><td>7.5          </td></tr>\n",
              "</tbody>\n",
              "</table>"
            ],
            "text/plain": [
              "<IPython.core.display.HTML object>"
            ]
          },
          "metadata": {
            "tags": []
          }
        }
      ]
    },
    {
      "cell_type": "markdown",
      "metadata": {
        "id": "Utocw3kOnYiw"
      },
      "source": [
        "### Separacion de pickup_datetime en hora, day, semanas"
      ]
    },
    {
      "cell_type": "markdown",
      "metadata": {
        "id": "W0ELVBwor_H7"
      },
      "source": [
        "Convertimos la variable categórica 'dia' a una variable indicadora"
      ]
    },
    {
      "cell_type": "code",
      "metadata": {
        "colab": {
          "base_uri": "https://localhost:8080/",
          "height": 251
        },
        "id": "FpBN0aimnQMV",
        "outputId": "5b1438f4-9a1b-40f7-e485-0ab06ff8a0ed"
      },
      "source": [
        "df_original['day']=df_original['pickup_datetime'].apply(lambda x: pd.Timestamp(x).dayofweek)\n",
        "df_original.head()"
      ],
      "execution_count": 10,
      "outputs": [
        {
          "output_type": "execute_result",
          "data": {
            "text/plain": [
              "  #  key                            pickup_datetime            pickup_latitude    pickup_longitude    dropoff_latitude    dropoff_longitude    passenger_count    fare_amount    day\n",
              "  0  2009-06-15 17:26:21.0000001    2009-06-15 17:26:21 UTC            40.7213            -73.8443             40.7123             -73.8416                  1            4.5      0\n",
              "  1  2010-01-05 16:52:16.0000002    2010-01-05 16:52:16 UTC            40.7113            -74.016              40.782              -73.9793                  1           16.9      1\n",
              "  2  2011-08-18 00:35:00.00000049   2011-08-18 00:35:00 UTC            40.7613            -73.9827             40.7506             -73.9912                  2            5.7      3\n",
              "  3  2012-04-21 04:30:42.0000001    2012-04-21 04:30:42 UTC            40.7331            -73.9871             40.7581             -73.9916                  1            7.7      5\n",
              "  4  2010-03-09 07:51:00.000000135  2010-03-09 07:51:00 UTC            40.768             -73.9681             40.7838             -73.9567                  1            5.3      1\n",
              "  5  2011-01-06 09:50:45.0000002    2011-01-06 09:50:45 UTC            40.7316            -74.001              40.7582             -73.9729                  1           12.1      3\n",
              "  6  2012-11-20 20:35:00.0000001    2012-11-20 20:35:00 UTC            40.7517            -73.98               40.7648             -73.9738                  1            7.5      1\n",
              "  7  2012-01-04 17:22:00.00000081   2012-01-04 17:22:00 UTC            40.7741            -73.9513             40.751              -73.9901                  1           16.5      2\n",
              "  8  2012-12-03 13:10:00.000000125  2012-12-03 13:10:00 UTC            40.7267            -74.0065             40.7316             -73.9931                  1            9        0\n",
              "  9  2009-09-02 01:11:00.00000083   2009-09-02 01:11:00 UTC            40.7339            -73.9807             40.7581             -73.9915                  2            8.9      2"
            ],
            "text/html": [
              "<table>\n",
              "<thead>\n",
              "<tr><th>#                            </th><th>key                          </th><th>pickup_datetime        </th><th style=\"text-align: right;\">  pickup_latitude</th><th style=\"text-align: right;\">  pickup_longitude</th><th style=\"text-align: right;\">  dropoff_latitude</th><th style=\"text-align: right;\">  dropoff_longitude</th><th style=\"text-align: right;\">  passenger_count</th><th style=\"text-align: right;\">  fare_amount</th><th style=\"text-align: right;\">  day</th></tr>\n",
              "</thead>\n",
              "<tbody>\n",
              "<tr><td><i style='opacity: 0.6'>0</i></td><td>2009-06-15 17:26:21.0000001  </td><td>2009-06-15 17:26:21 UTC</td><td style=\"text-align: right;\">          40.7213</td><td style=\"text-align: right;\">          -73.8443</td><td style=\"text-align: right;\">           40.7123</td><td style=\"text-align: right;\">           -73.8416</td><td style=\"text-align: right;\">                1</td><td style=\"text-align: right;\">          4.5</td><td style=\"text-align: right;\">    0</td></tr>\n",
              "<tr><td><i style='opacity: 0.6'>1</i></td><td>2010-01-05 16:52:16.0000002  </td><td>2010-01-05 16:52:16 UTC</td><td style=\"text-align: right;\">          40.7113</td><td style=\"text-align: right;\">          -74.016 </td><td style=\"text-align: right;\">           40.782 </td><td style=\"text-align: right;\">           -73.9793</td><td style=\"text-align: right;\">                1</td><td style=\"text-align: right;\">         16.9</td><td style=\"text-align: right;\">    1</td></tr>\n",
              "<tr><td><i style='opacity: 0.6'>2</i></td><td>2011-08-18 00:35:00.00000049 </td><td>2011-08-18 00:35:00 UTC</td><td style=\"text-align: right;\">          40.7613</td><td style=\"text-align: right;\">          -73.9827</td><td style=\"text-align: right;\">           40.7506</td><td style=\"text-align: right;\">           -73.9912</td><td style=\"text-align: right;\">                2</td><td style=\"text-align: right;\">          5.7</td><td style=\"text-align: right;\">    3</td></tr>\n",
              "<tr><td><i style='opacity: 0.6'>3</i></td><td>2012-04-21 04:30:42.0000001  </td><td>2012-04-21 04:30:42 UTC</td><td style=\"text-align: right;\">          40.7331</td><td style=\"text-align: right;\">          -73.9871</td><td style=\"text-align: right;\">           40.7581</td><td style=\"text-align: right;\">           -73.9916</td><td style=\"text-align: right;\">                1</td><td style=\"text-align: right;\">          7.7</td><td style=\"text-align: right;\">    5</td></tr>\n",
              "<tr><td><i style='opacity: 0.6'>4</i></td><td>2010-03-09 07:51:00.000000135</td><td>2010-03-09 07:51:00 UTC</td><td style=\"text-align: right;\">          40.768 </td><td style=\"text-align: right;\">          -73.9681</td><td style=\"text-align: right;\">           40.7838</td><td style=\"text-align: right;\">           -73.9567</td><td style=\"text-align: right;\">                1</td><td style=\"text-align: right;\">          5.3</td><td style=\"text-align: right;\">    1</td></tr>\n",
              "<tr><td><i style='opacity: 0.6'>5</i></td><td>2011-01-06 09:50:45.0000002  </td><td>2011-01-06 09:50:45 UTC</td><td style=\"text-align: right;\">          40.7316</td><td style=\"text-align: right;\">          -74.001 </td><td style=\"text-align: right;\">           40.7582</td><td style=\"text-align: right;\">           -73.9729</td><td style=\"text-align: right;\">                1</td><td style=\"text-align: right;\">         12.1</td><td style=\"text-align: right;\">    3</td></tr>\n",
              "<tr><td><i style='opacity: 0.6'>6</i></td><td>2012-11-20 20:35:00.0000001  </td><td>2012-11-20 20:35:00 UTC</td><td style=\"text-align: right;\">          40.7517</td><td style=\"text-align: right;\">          -73.98  </td><td style=\"text-align: right;\">           40.7648</td><td style=\"text-align: right;\">           -73.9738</td><td style=\"text-align: right;\">                1</td><td style=\"text-align: right;\">          7.5</td><td style=\"text-align: right;\">    1</td></tr>\n",
              "<tr><td><i style='opacity: 0.6'>7</i></td><td>2012-01-04 17:22:00.00000081 </td><td>2012-01-04 17:22:00 UTC</td><td style=\"text-align: right;\">          40.7741</td><td style=\"text-align: right;\">          -73.9513</td><td style=\"text-align: right;\">           40.751 </td><td style=\"text-align: right;\">           -73.9901</td><td style=\"text-align: right;\">                1</td><td style=\"text-align: right;\">         16.5</td><td style=\"text-align: right;\">    2</td></tr>\n",
              "<tr><td><i style='opacity: 0.6'>8</i></td><td>2012-12-03 13:10:00.000000125</td><td>2012-12-03 13:10:00 UTC</td><td style=\"text-align: right;\">          40.7267</td><td style=\"text-align: right;\">          -74.0065</td><td style=\"text-align: right;\">           40.7316</td><td style=\"text-align: right;\">           -73.9931</td><td style=\"text-align: right;\">                1</td><td style=\"text-align: right;\">          9  </td><td style=\"text-align: right;\">    0</td></tr>\n",
              "<tr><td><i style='opacity: 0.6'>9</i></td><td>2009-09-02 01:11:00.00000083 </td><td>2009-09-02 01:11:00 UTC</td><td style=\"text-align: right;\">          40.7339</td><td style=\"text-align: right;\">          -73.9807</td><td style=\"text-align: right;\">           40.7581</td><td style=\"text-align: right;\">           -73.9915</td><td style=\"text-align: right;\">                2</td><td style=\"text-align: right;\">          8.9</td><td style=\"text-align: right;\">    2</td></tr>\n",
              "</tbody>\n",
              "</table>"
            ]
          },
          "metadata": {
            "tags": []
          },
          "execution_count": 10
        }
      ]
    },
    {
      "cell_type": "markdown",
      "metadata": {
        "id": "Qem4-mXasCi6"
      },
      "source": [
        "Obtenemos la hora de la misma manera de 'pickup_datetime'"
      ]
    },
    {
      "cell_type": "code",
      "metadata": {
        "colab": {
          "base_uri": "https://localhost:8080/",
          "height": 251
        },
        "id": "IU23BfOjsDYm",
        "outputId": "c7b48b66-15e1-465c-bef1-57debcb71cd8"
      },
      "source": [
        "df_original['hour']=df_original['pickup_datetime'].apply(lambda x: pd.Timestamp(x).hour)\n",
        "df_original.head()"
      ],
      "execution_count": 11,
      "outputs": [
        {
          "output_type": "execute_result",
          "data": {
            "text/plain": [
              "  #  key                            pickup_datetime            pickup_latitude    pickup_longitude    dropoff_latitude    dropoff_longitude    passenger_count    fare_amount    day    hour\n",
              "  0  2009-06-15 17:26:21.0000001    2009-06-15 17:26:21 UTC            40.7213            -73.8443             40.7123             -73.8416                  1            4.5      0      17\n",
              "  1  2010-01-05 16:52:16.0000002    2010-01-05 16:52:16 UTC            40.7113            -74.016              40.782              -73.9793                  1           16.9      1      16\n",
              "  2  2011-08-18 00:35:00.00000049   2011-08-18 00:35:00 UTC            40.7613            -73.9827             40.7506             -73.9912                  2            5.7      3       0\n",
              "  3  2012-04-21 04:30:42.0000001    2012-04-21 04:30:42 UTC            40.7331            -73.9871             40.7581             -73.9916                  1            7.7      5       4\n",
              "  4  2010-03-09 07:51:00.000000135  2010-03-09 07:51:00 UTC            40.768             -73.9681             40.7838             -73.9567                  1            5.3      1       7\n",
              "  5  2011-01-06 09:50:45.0000002    2011-01-06 09:50:45 UTC            40.7316            -74.001              40.7582             -73.9729                  1           12.1      3       9\n",
              "  6  2012-11-20 20:35:00.0000001    2012-11-20 20:35:00 UTC            40.7517            -73.98               40.7648             -73.9738                  1            7.5      1      20\n",
              "  7  2012-01-04 17:22:00.00000081   2012-01-04 17:22:00 UTC            40.7741            -73.9513             40.751              -73.9901                  1           16.5      2      17\n",
              "  8  2012-12-03 13:10:00.000000125  2012-12-03 13:10:00 UTC            40.7267            -74.0065             40.7316             -73.9931                  1            9        0      13\n",
              "  9  2009-09-02 01:11:00.00000083   2009-09-02 01:11:00 UTC            40.7339            -73.9807             40.7581             -73.9915                  2            8.9      2       1"
            ],
            "text/html": [
              "<table>\n",
              "<thead>\n",
              "<tr><th>#                            </th><th>key                          </th><th>pickup_datetime        </th><th style=\"text-align: right;\">  pickup_latitude</th><th style=\"text-align: right;\">  pickup_longitude</th><th style=\"text-align: right;\">  dropoff_latitude</th><th style=\"text-align: right;\">  dropoff_longitude</th><th style=\"text-align: right;\">  passenger_count</th><th style=\"text-align: right;\">  fare_amount</th><th style=\"text-align: right;\">  day</th><th style=\"text-align: right;\">  hour</th></tr>\n",
              "</thead>\n",
              "<tbody>\n",
              "<tr><td><i style='opacity: 0.6'>0</i></td><td>2009-06-15 17:26:21.0000001  </td><td>2009-06-15 17:26:21 UTC</td><td style=\"text-align: right;\">          40.7213</td><td style=\"text-align: right;\">          -73.8443</td><td style=\"text-align: right;\">           40.7123</td><td style=\"text-align: right;\">           -73.8416</td><td style=\"text-align: right;\">                1</td><td style=\"text-align: right;\">          4.5</td><td style=\"text-align: right;\">    0</td><td style=\"text-align: right;\">    17</td></tr>\n",
              "<tr><td><i style='opacity: 0.6'>1</i></td><td>2010-01-05 16:52:16.0000002  </td><td>2010-01-05 16:52:16 UTC</td><td style=\"text-align: right;\">          40.7113</td><td style=\"text-align: right;\">          -74.016 </td><td style=\"text-align: right;\">           40.782 </td><td style=\"text-align: right;\">           -73.9793</td><td style=\"text-align: right;\">                1</td><td style=\"text-align: right;\">         16.9</td><td style=\"text-align: right;\">    1</td><td style=\"text-align: right;\">    16</td></tr>\n",
              "<tr><td><i style='opacity: 0.6'>2</i></td><td>2011-08-18 00:35:00.00000049 </td><td>2011-08-18 00:35:00 UTC</td><td style=\"text-align: right;\">          40.7613</td><td style=\"text-align: right;\">          -73.9827</td><td style=\"text-align: right;\">           40.7506</td><td style=\"text-align: right;\">           -73.9912</td><td style=\"text-align: right;\">                2</td><td style=\"text-align: right;\">          5.7</td><td style=\"text-align: right;\">    3</td><td style=\"text-align: right;\">     0</td></tr>\n",
              "<tr><td><i style='opacity: 0.6'>3</i></td><td>2012-04-21 04:30:42.0000001  </td><td>2012-04-21 04:30:42 UTC</td><td style=\"text-align: right;\">          40.7331</td><td style=\"text-align: right;\">          -73.9871</td><td style=\"text-align: right;\">           40.7581</td><td style=\"text-align: right;\">           -73.9916</td><td style=\"text-align: right;\">                1</td><td style=\"text-align: right;\">          7.7</td><td style=\"text-align: right;\">    5</td><td style=\"text-align: right;\">     4</td></tr>\n",
              "<tr><td><i style='opacity: 0.6'>4</i></td><td>2010-03-09 07:51:00.000000135</td><td>2010-03-09 07:51:00 UTC</td><td style=\"text-align: right;\">          40.768 </td><td style=\"text-align: right;\">          -73.9681</td><td style=\"text-align: right;\">           40.7838</td><td style=\"text-align: right;\">           -73.9567</td><td style=\"text-align: right;\">                1</td><td style=\"text-align: right;\">          5.3</td><td style=\"text-align: right;\">    1</td><td style=\"text-align: right;\">     7</td></tr>\n",
              "<tr><td><i style='opacity: 0.6'>5</i></td><td>2011-01-06 09:50:45.0000002  </td><td>2011-01-06 09:50:45 UTC</td><td style=\"text-align: right;\">          40.7316</td><td style=\"text-align: right;\">          -74.001 </td><td style=\"text-align: right;\">           40.7582</td><td style=\"text-align: right;\">           -73.9729</td><td style=\"text-align: right;\">                1</td><td style=\"text-align: right;\">         12.1</td><td style=\"text-align: right;\">    3</td><td style=\"text-align: right;\">     9</td></tr>\n",
              "<tr><td><i style='opacity: 0.6'>6</i></td><td>2012-11-20 20:35:00.0000001  </td><td>2012-11-20 20:35:00 UTC</td><td style=\"text-align: right;\">          40.7517</td><td style=\"text-align: right;\">          -73.98  </td><td style=\"text-align: right;\">           40.7648</td><td style=\"text-align: right;\">           -73.9738</td><td style=\"text-align: right;\">                1</td><td style=\"text-align: right;\">          7.5</td><td style=\"text-align: right;\">    1</td><td style=\"text-align: right;\">    20</td></tr>\n",
              "<tr><td><i style='opacity: 0.6'>7</i></td><td>2012-01-04 17:22:00.00000081 </td><td>2012-01-04 17:22:00 UTC</td><td style=\"text-align: right;\">          40.7741</td><td style=\"text-align: right;\">          -73.9513</td><td style=\"text-align: right;\">           40.751 </td><td style=\"text-align: right;\">           -73.9901</td><td style=\"text-align: right;\">                1</td><td style=\"text-align: right;\">         16.5</td><td style=\"text-align: right;\">    2</td><td style=\"text-align: right;\">    17</td></tr>\n",
              "<tr><td><i style='opacity: 0.6'>8</i></td><td>2012-12-03 13:10:00.000000125</td><td>2012-12-03 13:10:00 UTC</td><td style=\"text-align: right;\">          40.7267</td><td style=\"text-align: right;\">          -74.0065</td><td style=\"text-align: right;\">           40.7316</td><td style=\"text-align: right;\">           -73.9931</td><td style=\"text-align: right;\">                1</td><td style=\"text-align: right;\">          9  </td><td style=\"text-align: right;\">    0</td><td style=\"text-align: right;\">    13</td></tr>\n",
              "<tr><td><i style='opacity: 0.6'>9</i></td><td>2009-09-02 01:11:00.00000083 </td><td>2009-09-02 01:11:00 UTC</td><td style=\"text-align: right;\">          40.7339</td><td style=\"text-align: right;\">          -73.9807</td><td style=\"text-align: right;\">           40.7581</td><td style=\"text-align: right;\">           -73.9915</td><td style=\"text-align: right;\">                2</td><td style=\"text-align: right;\">          8.9</td><td style=\"text-align: right;\">    2</td><td style=\"text-align: right;\">     1</td></tr>\n",
              "</tbody>\n",
              "</table>"
            ]
          },
          "metadata": {
            "tags": []
          },
          "execution_count": 11
        }
      ]
    },
    {
      "cell_type": "markdown",
      "metadata": {
        "id": "taWHFgqTsFPq"
      },
      "source": [
        "Pasamos la columna hora (números) a indicadora (mañana = 0, tarde =1y noche =2)\n"
      ]
    },
    {
      "cell_type": "code",
      "metadata": {
        "colab": {
          "base_uri": "https://localhost:8080/",
          "height": 251
        },
        "id": "wH5Jg-cysH-O",
        "outputId": "5adb081c-979e-49ae-b26d-e0db24537b06"
      },
      "source": [
        "df_original['hour']=df_original['hour'].apply(lambda x: 0 if x > 5 and x < 12 else 1 if x >=12 and x < 18 else 2)\n",
        "df_original.head()  "
      ],
      "execution_count": 12,
      "outputs": [
        {
          "output_type": "execute_result",
          "data": {
            "text/plain": [
              "  #  key                            pickup_datetime            pickup_latitude    pickup_longitude    dropoff_latitude    dropoff_longitude    passenger_count    fare_amount    day    hour\n",
              "  0  2009-06-15 17:26:21.0000001    2009-06-15 17:26:21 UTC            40.7213            -73.8443             40.7123             -73.8416                  1            4.5      0       1\n",
              "  1  2010-01-05 16:52:16.0000002    2010-01-05 16:52:16 UTC            40.7113            -74.016              40.782              -73.9793                  1           16.9      1       1\n",
              "  2  2011-08-18 00:35:00.00000049   2011-08-18 00:35:00 UTC            40.7613            -73.9827             40.7506             -73.9912                  2            5.7      3       2\n",
              "  3  2012-04-21 04:30:42.0000001    2012-04-21 04:30:42 UTC            40.7331            -73.9871             40.7581             -73.9916                  1            7.7      5       2\n",
              "  4  2010-03-09 07:51:00.000000135  2010-03-09 07:51:00 UTC            40.768             -73.9681             40.7838             -73.9567                  1            5.3      1       0\n",
              "  5  2011-01-06 09:50:45.0000002    2011-01-06 09:50:45 UTC            40.7316            -74.001              40.7582             -73.9729                  1           12.1      3       0\n",
              "  6  2012-11-20 20:35:00.0000001    2012-11-20 20:35:00 UTC            40.7517            -73.98               40.7648             -73.9738                  1            7.5      1       2\n",
              "  7  2012-01-04 17:22:00.00000081   2012-01-04 17:22:00 UTC            40.7741            -73.9513             40.751              -73.9901                  1           16.5      2       1\n",
              "  8  2012-12-03 13:10:00.000000125  2012-12-03 13:10:00 UTC            40.7267            -74.0065             40.7316             -73.9931                  1            9        0       1\n",
              "  9  2009-09-02 01:11:00.00000083   2009-09-02 01:11:00 UTC            40.7339            -73.9807             40.7581             -73.9915                  2            8.9      2       2"
            ],
            "text/html": [
              "<table>\n",
              "<thead>\n",
              "<tr><th>#                            </th><th>key                          </th><th>pickup_datetime        </th><th style=\"text-align: right;\">  pickup_latitude</th><th style=\"text-align: right;\">  pickup_longitude</th><th style=\"text-align: right;\">  dropoff_latitude</th><th style=\"text-align: right;\">  dropoff_longitude</th><th style=\"text-align: right;\">  passenger_count</th><th style=\"text-align: right;\">  fare_amount</th><th style=\"text-align: right;\">  day</th><th style=\"text-align: right;\">  hour</th></tr>\n",
              "</thead>\n",
              "<tbody>\n",
              "<tr><td><i style='opacity: 0.6'>0</i></td><td>2009-06-15 17:26:21.0000001  </td><td>2009-06-15 17:26:21 UTC</td><td style=\"text-align: right;\">          40.7213</td><td style=\"text-align: right;\">          -73.8443</td><td style=\"text-align: right;\">           40.7123</td><td style=\"text-align: right;\">           -73.8416</td><td style=\"text-align: right;\">                1</td><td style=\"text-align: right;\">          4.5</td><td style=\"text-align: right;\">    0</td><td style=\"text-align: right;\">     1</td></tr>\n",
              "<tr><td><i style='opacity: 0.6'>1</i></td><td>2010-01-05 16:52:16.0000002  </td><td>2010-01-05 16:52:16 UTC</td><td style=\"text-align: right;\">          40.7113</td><td style=\"text-align: right;\">          -74.016 </td><td style=\"text-align: right;\">           40.782 </td><td style=\"text-align: right;\">           -73.9793</td><td style=\"text-align: right;\">                1</td><td style=\"text-align: right;\">         16.9</td><td style=\"text-align: right;\">    1</td><td style=\"text-align: right;\">     1</td></tr>\n",
              "<tr><td><i style='opacity: 0.6'>2</i></td><td>2011-08-18 00:35:00.00000049 </td><td>2011-08-18 00:35:00 UTC</td><td style=\"text-align: right;\">          40.7613</td><td style=\"text-align: right;\">          -73.9827</td><td style=\"text-align: right;\">           40.7506</td><td style=\"text-align: right;\">           -73.9912</td><td style=\"text-align: right;\">                2</td><td style=\"text-align: right;\">          5.7</td><td style=\"text-align: right;\">    3</td><td style=\"text-align: right;\">     2</td></tr>\n",
              "<tr><td><i style='opacity: 0.6'>3</i></td><td>2012-04-21 04:30:42.0000001  </td><td>2012-04-21 04:30:42 UTC</td><td style=\"text-align: right;\">          40.7331</td><td style=\"text-align: right;\">          -73.9871</td><td style=\"text-align: right;\">           40.7581</td><td style=\"text-align: right;\">           -73.9916</td><td style=\"text-align: right;\">                1</td><td style=\"text-align: right;\">          7.7</td><td style=\"text-align: right;\">    5</td><td style=\"text-align: right;\">     2</td></tr>\n",
              "<tr><td><i style='opacity: 0.6'>4</i></td><td>2010-03-09 07:51:00.000000135</td><td>2010-03-09 07:51:00 UTC</td><td style=\"text-align: right;\">          40.768 </td><td style=\"text-align: right;\">          -73.9681</td><td style=\"text-align: right;\">           40.7838</td><td style=\"text-align: right;\">           -73.9567</td><td style=\"text-align: right;\">                1</td><td style=\"text-align: right;\">          5.3</td><td style=\"text-align: right;\">    1</td><td style=\"text-align: right;\">     0</td></tr>\n",
              "<tr><td><i style='opacity: 0.6'>5</i></td><td>2011-01-06 09:50:45.0000002  </td><td>2011-01-06 09:50:45 UTC</td><td style=\"text-align: right;\">          40.7316</td><td style=\"text-align: right;\">          -74.001 </td><td style=\"text-align: right;\">           40.7582</td><td style=\"text-align: right;\">           -73.9729</td><td style=\"text-align: right;\">                1</td><td style=\"text-align: right;\">         12.1</td><td style=\"text-align: right;\">    3</td><td style=\"text-align: right;\">     0</td></tr>\n",
              "<tr><td><i style='opacity: 0.6'>6</i></td><td>2012-11-20 20:35:00.0000001  </td><td>2012-11-20 20:35:00 UTC</td><td style=\"text-align: right;\">          40.7517</td><td style=\"text-align: right;\">          -73.98  </td><td style=\"text-align: right;\">           40.7648</td><td style=\"text-align: right;\">           -73.9738</td><td style=\"text-align: right;\">                1</td><td style=\"text-align: right;\">          7.5</td><td style=\"text-align: right;\">    1</td><td style=\"text-align: right;\">     2</td></tr>\n",
              "<tr><td><i style='opacity: 0.6'>7</i></td><td>2012-01-04 17:22:00.00000081 </td><td>2012-01-04 17:22:00 UTC</td><td style=\"text-align: right;\">          40.7741</td><td style=\"text-align: right;\">          -73.9513</td><td style=\"text-align: right;\">           40.751 </td><td style=\"text-align: right;\">           -73.9901</td><td style=\"text-align: right;\">                1</td><td style=\"text-align: right;\">         16.5</td><td style=\"text-align: right;\">    2</td><td style=\"text-align: right;\">     1</td></tr>\n",
              "<tr><td><i style='opacity: 0.6'>8</i></td><td>2012-12-03 13:10:00.000000125</td><td>2012-12-03 13:10:00 UTC</td><td style=\"text-align: right;\">          40.7267</td><td style=\"text-align: right;\">          -74.0065</td><td style=\"text-align: right;\">           40.7316</td><td style=\"text-align: right;\">           -73.9931</td><td style=\"text-align: right;\">                1</td><td style=\"text-align: right;\">          9  </td><td style=\"text-align: right;\">    0</td><td style=\"text-align: right;\">     1</td></tr>\n",
              "<tr><td><i style='opacity: 0.6'>9</i></td><td>2009-09-02 01:11:00.00000083 </td><td>2009-09-02 01:11:00 UTC</td><td style=\"text-align: right;\">          40.7339</td><td style=\"text-align: right;\">          -73.9807</td><td style=\"text-align: right;\">           40.7581</td><td style=\"text-align: right;\">           -73.9915</td><td style=\"text-align: right;\">                2</td><td style=\"text-align: right;\">          8.9</td><td style=\"text-align: right;\">    2</td><td style=\"text-align: right;\">     2</td></tr>\n",
              "</tbody>\n",
              "</table>"
            ]
          },
          "metadata": {
            "tags": []
          },
          "execution_count": 12
        }
      ]
    },
    {
      "cell_type": "markdown",
      "metadata": {
        "id": "ly8nBh2p9d2H"
      },
      "source": [
        "Añadimos el numero de la semana "
      ]
    },
    {
      "cell_type": "code",
      "metadata": {
        "colab": {
          "base_uri": "https://localhost:8080/",
          "height": 251
        },
        "id": "lAtNK5JE9FoK",
        "outputId": "f4227e95-8020-49f4-941e-93010685afe7"
      },
      "source": [
        "df_original['week']=df_original['pickup_datetime'].apply(lambda x: pd.Timestamp(x).week)\n",
        "df_original.head()"
      ],
      "execution_count": 13,
      "outputs": [
        {
          "output_type": "execute_result",
          "data": {
            "text/plain": [
              "  #  key                            pickup_datetime            pickup_latitude    pickup_longitude    dropoff_latitude    dropoff_longitude    passenger_count    fare_amount    day    hour    week\n",
              "  0  2009-06-15 17:26:21.0000001    2009-06-15 17:26:21 UTC            40.7213            -73.8443             40.7123             -73.8416                  1            4.5      0       1      25\n",
              "  1  2010-01-05 16:52:16.0000002    2010-01-05 16:52:16 UTC            40.7113            -74.016              40.782              -73.9793                  1           16.9      1       1       1\n",
              "  2  2011-08-18 00:35:00.00000049   2011-08-18 00:35:00 UTC            40.7613            -73.9827             40.7506             -73.9912                  2            5.7      3       2      33\n",
              "  3  2012-04-21 04:30:42.0000001    2012-04-21 04:30:42 UTC            40.7331            -73.9871             40.7581             -73.9916                  1            7.7      5       2      16\n",
              "  4  2010-03-09 07:51:00.000000135  2010-03-09 07:51:00 UTC            40.768             -73.9681             40.7838             -73.9567                  1            5.3      1       0      10\n",
              "  5  2011-01-06 09:50:45.0000002    2011-01-06 09:50:45 UTC            40.7316            -74.001              40.7582             -73.9729                  1           12.1      3       0       1\n",
              "  6  2012-11-20 20:35:00.0000001    2012-11-20 20:35:00 UTC            40.7517            -73.98               40.7648             -73.9738                  1            7.5      1       2      47\n",
              "  7  2012-01-04 17:22:00.00000081   2012-01-04 17:22:00 UTC            40.7741            -73.9513             40.751              -73.9901                  1           16.5      2       1       1\n",
              "  8  2012-12-03 13:10:00.000000125  2012-12-03 13:10:00 UTC            40.7267            -74.0065             40.7316             -73.9931                  1            9        0       1      49\n",
              "  9  2009-09-02 01:11:00.00000083   2009-09-02 01:11:00 UTC            40.7339            -73.9807             40.7581             -73.9915                  2            8.9      2       2      36"
            ],
            "text/html": [
              "<table>\n",
              "<thead>\n",
              "<tr><th>#                            </th><th>key                          </th><th>pickup_datetime        </th><th style=\"text-align: right;\">  pickup_latitude</th><th style=\"text-align: right;\">  pickup_longitude</th><th style=\"text-align: right;\">  dropoff_latitude</th><th style=\"text-align: right;\">  dropoff_longitude</th><th style=\"text-align: right;\">  passenger_count</th><th style=\"text-align: right;\">  fare_amount</th><th style=\"text-align: right;\">  day</th><th style=\"text-align: right;\">  hour</th><th style=\"text-align: right;\">  week</th></tr>\n",
              "</thead>\n",
              "<tbody>\n",
              "<tr><td><i style='opacity: 0.6'>0</i></td><td>2009-06-15 17:26:21.0000001  </td><td>2009-06-15 17:26:21 UTC</td><td style=\"text-align: right;\">          40.7213</td><td style=\"text-align: right;\">          -73.8443</td><td style=\"text-align: right;\">           40.7123</td><td style=\"text-align: right;\">           -73.8416</td><td style=\"text-align: right;\">                1</td><td style=\"text-align: right;\">          4.5</td><td style=\"text-align: right;\">    0</td><td style=\"text-align: right;\">     1</td><td style=\"text-align: right;\">    25</td></tr>\n",
              "<tr><td><i style='opacity: 0.6'>1</i></td><td>2010-01-05 16:52:16.0000002  </td><td>2010-01-05 16:52:16 UTC</td><td style=\"text-align: right;\">          40.7113</td><td style=\"text-align: right;\">          -74.016 </td><td style=\"text-align: right;\">           40.782 </td><td style=\"text-align: right;\">           -73.9793</td><td style=\"text-align: right;\">                1</td><td style=\"text-align: right;\">         16.9</td><td style=\"text-align: right;\">    1</td><td style=\"text-align: right;\">     1</td><td style=\"text-align: right;\">     1</td></tr>\n",
              "<tr><td><i style='opacity: 0.6'>2</i></td><td>2011-08-18 00:35:00.00000049 </td><td>2011-08-18 00:35:00 UTC</td><td style=\"text-align: right;\">          40.7613</td><td style=\"text-align: right;\">          -73.9827</td><td style=\"text-align: right;\">           40.7506</td><td style=\"text-align: right;\">           -73.9912</td><td style=\"text-align: right;\">                2</td><td style=\"text-align: right;\">          5.7</td><td style=\"text-align: right;\">    3</td><td style=\"text-align: right;\">     2</td><td style=\"text-align: right;\">    33</td></tr>\n",
              "<tr><td><i style='opacity: 0.6'>3</i></td><td>2012-04-21 04:30:42.0000001  </td><td>2012-04-21 04:30:42 UTC</td><td style=\"text-align: right;\">          40.7331</td><td style=\"text-align: right;\">          -73.9871</td><td style=\"text-align: right;\">           40.7581</td><td style=\"text-align: right;\">           -73.9916</td><td style=\"text-align: right;\">                1</td><td style=\"text-align: right;\">          7.7</td><td style=\"text-align: right;\">    5</td><td style=\"text-align: right;\">     2</td><td style=\"text-align: right;\">    16</td></tr>\n",
              "<tr><td><i style='opacity: 0.6'>4</i></td><td>2010-03-09 07:51:00.000000135</td><td>2010-03-09 07:51:00 UTC</td><td style=\"text-align: right;\">          40.768 </td><td style=\"text-align: right;\">          -73.9681</td><td style=\"text-align: right;\">           40.7838</td><td style=\"text-align: right;\">           -73.9567</td><td style=\"text-align: right;\">                1</td><td style=\"text-align: right;\">          5.3</td><td style=\"text-align: right;\">    1</td><td style=\"text-align: right;\">     0</td><td style=\"text-align: right;\">    10</td></tr>\n",
              "<tr><td><i style='opacity: 0.6'>5</i></td><td>2011-01-06 09:50:45.0000002  </td><td>2011-01-06 09:50:45 UTC</td><td style=\"text-align: right;\">          40.7316</td><td style=\"text-align: right;\">          -74.001 </td><td style=\"text-align: right;\">           40.7582</td><td style=\"text-align: right;\">           -73.9729</td><td style=\"text-align: right;\">                1</td><td style=\"text-align: right;\">         12.1</td><td style=\"text-align: right;\">    3</td><td style=\"text-align: right;\">     0</td><td style=\"text-align: right;\">     1</td></tr>\n",
              "<tr><td><i style='opacity: 0.6'>6</i></td><td>2012-11-20 20:35:00.0000001  </td><td>2012-11-20 20:35:00 UTC</td><td style=\"text-align: right;\">          40.7517</td><td style=\"text-align: right;\">          -73.98  </td><td style=\"text-align: right;\">           40.7648</td><td style=\"text-align: right;\">           -73.9738</td><td style=\"text-align: right;\">                1</td><td style=\"text-align: right;\">          7.5</td><td style=\"text-align: right;\">    1</td><td style=\"text-align: right;\">     2</td><td style=\"text-align: right;\">    47</td></tr>\n",
              "<tr><td><i style='opacity: 0.6'>7</i></td><td>2012-01-04 17:22:00.00000081 </td><td>2012-01-04 17:22:00 UTC</td><td style=\"text-align: right;\">          40.7741</td><td style=\"text-align: right;\">          -73.9513</td><td style=\"text-align: right;\">           40.751 </td><td style=\"text-align: right;\">           -73.9901</td><td style=\"text-align: right;\">                1</td><td style=\"text-align: right;\">         16.5</td><td style=\"text-align: right;\">    2</td><td style=\"text-align: right;\">     1</td><td style=\"text-align: right;\">     1</td></tr>\n",
              "<tr><td><i style='opacity: 0.6'>8</i></td><td>2012-12-03 13:10:00.000000125</td><td>2012-12-03 13:10:00 UTC</td><td style=\"text-align: right;\">          40.7267</td><td style=\"text-align: right;\">          -74.0065</td><td style=\"text-align: right;\">           40.7316</td><td style=\"text-align: right;\">           -73.9931</td><td style=\"text-align: right;\">                1</td><td style=\"text-align: right;\">          9  </td><td style=\"text-align: right;\">    0</td><td style=\"text-align: right;\">     1</td><td style=\"text-align: right;\">    49</td></tr>\n",
              "<tr><td><i style='opacity: 0.6'>9</i></td><td>2009-09-02 01:11:00.00000083 </td><td>2009-09-02 01:11:00 UTC</td><td style=\"text-align: right;\">          40.7339</td><td style=\"text-align: right;\">          -73.9807</td><td style=\"text-align: right;\">           40.7581</td><td style=\"text-align: right;\">           -73.9915</td><td style=\"text-align: right;\">                2</td><td style=\"text-align: right;\">          8.9</td><td style=\"text-align: right;\">    2</td><td style=\"text-align: right;\">     2</td><td style=\"text-align: right;\">    36</td></tr>\n",
              "</tbody>\n",
              "</table>"
            ]
          },
          "metadata": {
            "tags": []
          },
          "execution_count": 13
        }
      ]
    },
    {
      "cell_type": "markdown",
      "metadata": {
        "id": "KWQNQ7uBBHH4"
      },
      "source": [
        "Trayecto Nocturno"
      ]
    },
    {
      "cell_type": "code",
      "metadata": {
        "id": "DCVo4zetBa8P"
      },
      "source": [
        "df_original['trayecto_nocturno']=df_original['pickup_datetime'].apply(lambda x: pd.Timestamp(x).hour)\n"
      ],
      "execution_count": 14,
      "outputs": []
    },
    {
      "cell_type": "code",
      "metadata": {
        "colab": {
          "base_uri": "https://localhost:8080/",
          "height": 251
        },
        "id": "djJ9DNKP9QVQ",
        "outputId": "89ceb08d-00b6-4b4b-9dd0-87f4c5655334"
      },
      "source": [
        "df_original['trayecto_nocturno']=df_original['trayecto_nocturno'].apply(lambda x: 0 if x > 6 and x < 20 else 1)\n",
        "df_original.head()  "
      ],
      "execution_count": 15,
      "outputs": [
        {
          "output_type": "execute_result",
          "data": {
            "text/plain": [
              "  #  key                            pickup_datetime            pickup_latitude    pickup_longitude    dropoff_latitude    dropoff_longitude    passenger_count    fare_amount    day    hour    week    trayecto_nocturno\n",
              "  0  2009-06-15 17:26:21.0000001    2009-06-15 17:26:21 UTC            40.7213            -73.8443             40.7123             -73.8416                  1            4.5      0       1      25                    0\n",
              "  1  2010-01-05 16:52:16.0000002    2010-01-05 16:52:16 UTC            40.7113            -74.016              40.782              -73.9793                  1           16.9      1       1       1                    0\n",
              "  2  2011-08-18 00:35:00.00000049   2011-08-18 00:35:00 UTC            40.7613            -73.9827             40.7506             -73.9912                  2            5.7      3       2      33                    1\n",
              "  3  2012-04-21 04:30:42.0000001    2012-04-21 04:30:42 UTC            40.7331            -73.9871             40.7581             -73.9916                  1            7.7      5       2      16                    1\n",
              "  4  2010-03-09 07:51:00.000000135  2010-03-09 07:51:00 UTC            40.768             -73.9681             40.7838             -73.9567                  1            5.3      1       0      10                    0\n",
              "  5  2011-01-06 09:50:45.0000002    2011-01-06 09:50:45 UTC            40.7316            -74.001              40.7582             -73.9729                  1           12.1      3       0       1                    0\n",
              "  6  2012-11-20 20:35:00.0000001    2012-11-20 20:35:00 UTC            40.7517            -73.98               40.7648             -73.9738                  1            7.5      1       2      47                    1\n",
              "  7  2012-01-04 17:22:00.00000081   2012-01-04 17:22:00 UTC            40.7741            -73.9513             40.751              -73.9901                  1           16.5      2       1       1                    0\n",
              "  8  2012-12-03 13:10:00.000000125  2012-12-03 13:10:00 UTC            40.7267            -74.0065             40.7316             -73.9931                  1            9        0       1      49                    0\n",
              "  9  2009-09-02 01:11:00.00000083   2009-09-02 01:11:00 UTC            40.7339            -73.9807             40.7581             -73.9915                  2            8.9      2       2      36                    1"
            ],
            "text/html": [
              "<table>\n",
              "<thead>\n",
              "<tr><th>#                            </th><th>key                          </th><th>pickup_datetime        </th><th style=\"text-align: right;\">  pickup_latitude</th><th style=\"text-align: right;\">  pickup_longitude</th><th style=\"text-align: right;\">  dropoff_latitude</th><th style=\"text-align: right;\">  dropoff_longitude</th><th style=\"text-align: right;\">  passenger_count</th><th style=\"text-align: right;\">  fare_amount</th><th style=\"text-align: right;\">  day</th><th style=\"text-align: right;\">  hour</th><th style=\"text-align: right;\">  week</th><th style=\"text-align: right;\">  trayecto_nocturno</th></tr>\n",
              "</thead>\n",
              "<tbody>\n",
              "<tr><td><i style='opacity: 0.6'>0</i></td><td>2009-06-15 17:26:21.0000001  </td><td>2009-06-15 17:26:21 UTC</td><td style=\"text-align: right;\">          40.7213</td><td style=\"text-align: right;\">          -73.8443</td><td style=\"text-align: right;\">           40.7123</td><td style=\"text-align: right;\">           -73.8416</td><td style=\"text-align: right;\">                1</td><td style=\"text-align: right;\">          4.5</td><td style=\"text-align: right;\">    0</td><td style=\"text-align: right;\">     1</td><td style=\"text-align: right;\">    25</td><td style=\"text-align: right;\">                  0</td></tr>\n",
              "<tr><td><i style='opacity: 0.6'>1</i></td><td>2010-01-05 16:52:16.0000002  </td><td>2010-01-05 16:52:16 UTC</td><td style=\"text-align: right;\">          40.7113</td><td style=\"text-align: right;\">          -74.016 </td><td style=\"text-align: right;\">           40.782 </td><td style=\"text-align: right;\">           -73.9793</td><td style=\"text-align: right;\">                1</td><td style=\"text-align: right;\">         16.9</td><td style=\"text-align: right;\">    1</td><td style=\"text-align: right;\">     1</td><td style=\"text-align: right;\">     1</td><td style=\"text-align: right;\">                  0</td></tr>\n",
              "<tr><td><i style='opacity: 0.6'>2</i></td><td>2011-08-18 00:35:00.00000049 </td><td>2011-08-18 00:35:00 UTC</td><td style=\"text-align: right;\">          40.7613</td><td style=\"text-align: right;\">          -73.9827</td><td style=\"text-align: right;\">           40.7506</td><td style=\"text-align: right;\">           -73.9912</td><td style=\"text-align: right;\">                2</td><td style=\"text-align: right;\">          5.7</td><td style=\"text-align: right;\">    3</td><td style=\"text-align: right;\">     2</td><td style=\"text-align: right;\">    33</td><td style=\"text-align: right;\">                  1</td></tr>\n",
              "<tr><td><i style='opacity: 0.6'>3</i></td><td>2012-04-21 04:30:42.0000001  </td><td>2012-04-21 04:30:42 UTC</td><td style=\"text-align: right;\">          40.7331</td><td style=\"text-align: right;\">          -73.9871</td><td style=\"text-align: right;\">           40.7581</td><td style=\"text-align: right;\">           -73.9916</td><td style=\"text-align: right;\">                1</td><td style=\"text-align: right;\">          7.7</td><td style=\"text-align: right;\">    5</td><td style=\"text-align: right;\">     2</td><td style=\"text-align: right;\">    16</td><td style=\"text-align: right;\">                  1</td></tr>\n",
              "<tr><td><i style='opacity: 0.6'>4</i></td><td>2010-03-09 07:51:00.000000135</td><td>2010-03-09 07:51:00 UTC</td><td style=\"text-align: right;\">          40.768 </td><td style=\"text-align: right;\">          -73.9681</td><td style=\"text-align: right;\">           40.7838</td><td style=\"text-align: right;\">           -73.9567</td><td style=\"text-align: right;\">                1</td><td style=\"text-align: right;\">          5.3</td><td style=\"text-align: right;\">    1</td><td style=\"text-align: right;\">     0</td><td style=\"text-align: right;\">    10</td><td style=\"text-align: right;\">                  0</td></tr>\n",
              "<tr><td><i style='opacity: 0.6'>5</i></td><td>2011-01-06 09:50:45.0000002  </td><td>2011-01-06 09:50:45 UTC</td><td style=\"text-align: right;\">          40.7316</td><td style=\"text-align: right;\">          -74.001 </td><td style=\"text-align: right;\">           40.7582</td><td style=\"text-align: right;\">           -73.9729</td><td style=\"text-align: right;\">                1</td><td style=\"text-align: right;\">         12.1</td><td style=\"text-align: right;\">    3</td><td style=\"text-align: right;\">     0</td><td style=\"text-align: right;\">     1</td><td style=\"text-align: right;\">                  0</td></tr>\n",
              "<tr><td><i style='opacity: 0.6'>6</i></td><td>2012-11-20 20:35:00.0000001  </td><td>2012-11-20 20:35:00 UTC</td><td style=\"text-align: right;\">          40.7517</td><td style=\"text-align: right;\">          -73.98  </td><td style=\"text-align: right;\">           40.7648</td><td style=\"text-align: right;\">           -73.9738</td><td style=\"text-align: right;\">                1</td><td style=\"text-align: right;\">          7.5</td><td style=\"text-align: right;\">    1</td><td style=\"text-align: right;\">     2</td><td style=\"text-align: right;\">    47</td><td style=\"text-align: right;\">                  1</td></tr>\n",
              "<tr><td><i style='opacity: 0.6'>7</i></td><td>2012-01-04 17:22:00.00000081 </td><td>2012-01-04 17:22:00 UTC</td><td style=\"text-align: right;\">          40.7741</td><td style=\"text-align: right;\">          -73.9513</td><td style=\"text-align: right;\">           40.751 </td><td style=\"text-align: right;\">           -73.9901</td><td style=\"text-align: right;\">                1</td><td style=\"text-align: right;\">         16.5</td><td style=\"text-align: right;\">    2</td><td style=\"text-align: right;\">     1</td><td style=\"text-align: right;\">     1</td><td style=\"text-align: right;\">                  0</td></tr>\n",
              "<tr><td><i style='opacity: 0.6'>8</i></td><td>2012-12-03 13:10:00.000000125</td><td>2012-12-03 13:10:00 UTC</td><td style=\"text-align: right;\">          40.7267</td><td style=\"text-align: right;\">          -74.0065</td><td style=\"text-align: right;\">           40.7316</td><td style=\"text-align: right;\">           -73.9931</td><td style=\"text-align: right;\">                1</td><td style=\"text-align: right;\">          9  </td><td style=\"text-align: right;\">    0</td><td style=\"text-align: right;\">     1</td><td style=\"text-align: right;\">    49</td><td style=\"text-align: right;\">                  0</td></tr>\n",
              "<tr><td><i style='opacity: 0.6'>9</i></td><td>2009-09-02 01:11:00.00000083 </td><td>2009-09-02 01:11:00 UTC</td><td style=\"text-align: right;\">          40.7339</td><td style=\"text-align: right;\">          -73.9807</td><td style=\"text-align: right;\">           40.7581</td><td style=\"text-align: right;\">           -73.9915</td><td style=\"text-align: right;\">                2</td><td style=\"text-align: right;\">          8.9</td><td style=\"text-align: right;\">    2</td><td style=\"text-align: right;\">     2</td><td style=\"text-align: right;\">    36</td><td style=\"text-align: right;\">                  1</td></tr>\n",
              "</tbody>\n",
              "</table>"
            ]
          },
          "metadata": {
            "tags": []
          },
          "execution_count": 15
        }
      ]
    },
    {
      "cell_type": "markdown",
      "metadata": {
        "id": "Gp5vglfrBjmM"
      },
      "source": [
        "Hora punta"
      ]
    },
    {
      "cell_type": "code",
      "metadata": {
        "colab": {
          "base_uri": "https://localhost:8080/",
          "height": 251
        },
        "id": "ToDhPuG1Bl0C",
        "outputId": "9b87822c-cbff-445e-c570-0dba94238fe8"
      },
      "source": [
        "df_original['hora_punta']=df_original['pickup_datetime'].apply(lambda x: pd.Timestamp(x).hour)\n",
        "df_original['hora_punta']=df_original['hora_punta'].apply(lambda x: 1 if x >=16 and x <= 20 else 0)\n",
        "df_original.head()"
      ],
      "execution_count": 16,
      "outputs": [
        {
          "output_type": "execute_result",
          "data": {
            "text/plain": [
              "  #  key                            pickup_datetime            pickup_latitude    pickup_longitude    dropoff_latitude    dropoff_longitude    passenger_count    fare_amount    day    hour    week    trayecto_nocturno    hora_punta\n",
              "  0  2009-06-15 17:26:21.0000001    2009-06-15 17:26:21 UTC            40.7213            -73.8443             40.7123             -73.8416                  1            4.5      0       1      25                    0             1\n",
              "  1  2010-01-05 16:52:16.0000002    2010-01-05 16:52:16 UTC            40.7113            -74.016              40.782              -73.9793                  1           16.9      1       1       1                    0             1\n",
              "  2  2011-08-18 00:35:00.00000049   2011-08-18 00:35:00 UTC            40.7613            -73.9827             40.7506             -73.9912                  2            5.7      3       2      33                    1             0\n",
              "  3  2012-04-21 04:30:42.0000001    2012-04-21 04:30:42 UTC            40.7331            -73.9871             40.7581             -73.9916                  1            7.7      5       2      16                    1             0\n",
              "  4  2010-03-09 07:51:00.000000135  2010-03-09 07:51:00 UTC            40.768             -73.9681             40.7838             -73.9567                  1            5.3      1       0      10                    0             0\n",
              "  5  2011-01-06 09:50:45.0000002    2011-01-06 09:50:45 UTC            40.7316            -74.001              40.7582             -73.9729                  1           12.1      3       0       1                    0             0\n",
              "  6  2012-11-20 20:35:00.0000001    2012-11-20 20:35:00 UTC            40.7517            -73.98               40.7648             -73.9738                  1            7.5      1       2      47                    1             1\n",
              "  7  2012-01-04 17:22:00.00000081   2012-01-04 17:22:00 UTC            40.7741            -73.9513             40.751              -73.9901                  1           16.5      2       1       1                    0             1\n",
              "  8  2012-12-03 13:10:00.000000125  2012-12-03 13:10:00 UTC            40.7267            -74.0065             40.7316             -73.9931                  1            9        0       1      49                    0             0\n",
              "  9  2009-09-02 01:11:00.00000083   2009-09-02 01:11:00 UTC            40.7339            -73.9807             40.7581             -73.9915                  2            8.9      2       2      36                    1             0"
            ],
            "text/html": [
              "<table>\n",
              "<thead>\n",
              "<tr><th>#                            </th><th>key                          </th><th>pickup_datetime        </th><th style=\"text-align: right;\">  pickup_latitude</th><th style=\"text-align: right;\">  pickup_longitude</th><th style=\"text-align: right;\">  dropoff_latitude</th><th style=\"text-align: right;\">  dropoff_longitude</th><th style=\"text-align: right;\">  passenger_count</th><th style=\"text-align: right;\">  fare_amount</th><th style=\"text-align: right;\">  day</th><th style=\"text-align: right;\">  hour</th><th style=\"text-align: right;\">  week</th><th style=\"text-align: right;\">  trayecto_nocturno</th><th style=\"text-align: right;\">  hora_punta</th></tr>\n",
              "</thead>\n",
              "<tbody>\n",
              "<tr><td><i style='opacity: 0.6'>0</i></td><td>2009-06-15 17:26:21.0000001  </td><td>2009-06-15 17:26:21 UTC</td><td style=\"text-align: right;\">          40.7213</td><td style=\"text-align: right;\">          -73.8443</td><td style=\"text-align: right;\">           40.7123</td><td style=\"text-align: right;\">           -73.8416</td><td style=\"text-align: right;\">                1</td><td style=\"text-align: right;\">          4.5</td><td style=\"text-align: right;\">    0</td><td style=\"text-align: right;\">     1</td><td style=\"text-align: right;\">    25</td><td style=\"text-align: right;\">                  0</td><td style=\"text-align: right;\">           1</td></tr>\n",
              "<tr><td><i style='opacity: 0.6'>1</i></td><td>2010-01-05 16:52:16.0000002  </td><td>2010-01-05 16:52:16 UTC</td><td style=\"text-align: right;\">          40.7113</td><td style=\"text-align: right;\">          -74.016 </td><td style=\"text-align: right;\">           40.782 </td><td style=\"text-align: right;\">           -73.9793</td><td style=\"text-align: right;\">                1</td><td style=\"text-align: right;\">         16.9</td><td style=\"text-align: right;\">    1</td><td style=\"text-align: right;\">     1</td><td style=\"text-align: right;\">     1</td><td style=\"text-align: right;\">                  0</td><td style=\"text-align: right;\">           1</td></tr>\n",
              "<tr><td><i style='opacity: 0.6'>2</i></td><td>2011-08-18 00:35:00.00000049 </td><td>2011-08-18 00:35:00 UTC</td><td style=\"text-align: right;\">          40.7613</td><td style=\"text-align: right;\">          -73.9827</td><td style=\"text-align: right;\">           40.7506</td><td style=\"text-align: right;\">           -73.9912</td><td style=\"text-align: right;\">                2</td><td style=\"text-align: right;\">          5.7</td><td style=\"text-align: right;\">    3</td><td style=\"text-align: right;\">     2</td><td style=\"text-align: right;\">    33</td><td style=\"text-align: right;\">                  1</td><td style=\"text-align: right;\">           0</td></tr>\n",
              "<tr><td><i style='opacity: 0.6'>3</i></td><td>2012-04-21 04:30:42.0000001  </td><td>2012-04-21 04:30:42 UTC</td><td style=\"text-align: right;\">          40.7331</td><td style=\"text-align: right;\">          -73.9871</td><td style=\"text-align: right;\">           40.7581</td><td style=\"text-align: right;\">           -73.9916</td><td style=\"text-align: right;\">                1</td><td style=\"text-align: right;\">          7.7</td><td style=\"text-align: right;\">    5</td><td style=\"text-align: right;\">     2</td><td style=\"text-align: right;\">    16</td><td style=\"text-align: right;\">                  1</td><td style=\"text-align: right;\">           0</td></tr>\n",
              "<tr><td><i style='opacity: 0.6'>4</i></td><td>2010-03-09 07:51:00.000000135</td><td>2010-03-09 07:51:00 UTC</td><td style=\"text-align: right;\">          40.768 </td><td style=\"text-align: right;\">          -73.9681</td><td style=\"text-align: right;\">           40.7838</td><td style=\"text-align: right;\">           -73.9567</td><td style=\"text-align: right;\">                1</td><td style=\"text-align: right;\">          5.3</td><td style=\"text-align: right;\">    1</td><td style=\"text-align: right;\">     0</td><td style=\"text-align: right;\">    10</td><td style=\"text-align: right;\">                  0</td><td style=\"text-align: right;\">           0</td></tr>\n",
              "<tr><td><i style='opacity: 0.6'>5</i></td><td>2011-01-06 09:50:45.0000002  </td><td>2011-01-06 09:50:45 UTC</td><td style=\"text-align: right;\">          40.7316</td><td style=\"text-align: right;\">          -74.001 </td><td style=\"text-align: right;\">           40.7582</td><td style=\"text-align: right;\">           -73.9729</td><td style=\"text-align: right;\">                1</td><td style=\"text-align: right;\">         12.1</td><td style=\"text-align: right;\">    3</td><td style=\"text-align: right;\">     0</td><td style=\"text-align: right;\">     1</td><td style=\"text-align: right;\">                  0</td><td style=\"text-align: right;\">           0</td></tr>\n",
              "<tr><td><i style='opacity: 0.6'>6</i></td><td>2012-11-20 20:35:00.0000001  </td><td>2012-11-20 20:35:00 UTC</td><td style=\"text-align: right;\">          40.7517</td><td style=\"text-align: right;\">          -73.98  </td><td style=\"text-align: right;\">           40.7648</td><td style=\"text-align: right;\">           -73.9738</td><td style=\"text-align: right;\">                1</td><td style=\"text-align: right;\">          7.5</td><td style=\"text-align: right;\">    1</td><td style=\"text-align: right;\">     2</td><td style=\"text-align: right;\">    47</td><td style=\"text-align: right;\">                  1</td><td style=\"text-align: right;\">           1</td></tr>\n",
              "<tr><td><i style='opacity: 0.6'>7</i></td><td>2012-01-04 17:22:00.00000081 </td><td>2012-01-04 17:22:00 UTC</td><td style=\"text-align: right;\">          40.7741</td><td style=\"text-align: right;\">          -73.9513</td><td style=\"text-align: right;\">           40.751 </td><td style=\"text-align: right;\">           -73.9901</td><td style=\"text-align: right;\">                1</td><td style=\"text-align: right;\">         16.5</td><td style=\"text-align: right;\">    2</td><td style=\"text-align: right;\">     1</td><td style=\"text-align: right;\">     1</td><td style=\"text-align: right;\">                  0</td><td style=\"text-align: right;\">           1</td></tr>\n",
              "<tr><td><i style='opacity: 0.6'>8</i></td><td>2012-12-03 13:10:00.000000125</td><td>2012-12-03 13:10:00 UTC</td><td style=\"text-align: right;\">          40.7267</td><td style=\"text-align: right;\">          -74.0065</td><td style=\"text-align: right;\">           40.7316</td><td style=\"text-align: right;\">           -73.9931</td><td style=\"text-align: right;\">                1</td><td style=\"text-align: right;\">          9  </td><td style=\"text-align: right;\">    0</td><td style=\"text-align: right;\">     1</td><td style=\"text-align: right;\">    49</td><td style=\"text-align: right;\">                  0</td><td style=\"text-align: right;\">           0</td></tr>\n",
              "<tr><td><i style='opacity: 0.6'>9</i></td><td>2009-09-02 01:11:00.00000083 </td><td>2009-09-02 01:11:00 UTC</td><td style=\"text-align: right;\">          40.7339</td><td style=\"text-align: right;\">          -73.9807</td><td style=\"text-align: right;\">           40.7581</td><td style=\"text-align: right;\">           -73.9915</td><td style=\"text-align: right;\">                2</td><td style=\"text-align: right;\">          8.9</td><td style=\"text-align: right;\">    2</td><td style=\"text-align: right;\">     2</td><td style=\"text-align: right;\">    36</td><td style=\"text-align: right;\">                  1</td><td style=\"text-align: right;\">           0</td></tr>\n",
              "</tbody>\n",
              "</table>"
            ]
          },
          "metadata": {
            "tags": []
          },
          "execution_count": 16
        }
      ]
    },
    {
      "cell_type": "markdown",
      "metadata": {
        "id": "oAjVUfpht9g8"
      },
      "source": [
        "Año"
      ]
    },
    {
      "cell_type": "code",
      "metadata": {
        "colab": {
          "base_uri": "https://localhost:8080/",
          "height": 251
        },
        "id": "hsMJ2wBxt88w",
        "outputId": "dccfb5b2-1fa5-4e80-c6b4-6e097584d2a0"
      },
      "source": [
        "df_original['year']=df_original['pickup_datetime'].apply(lambda x: pd.Timestamp(x).year)\n",
        "df_original.head()  "
      ],
      "execution_count": 17,
      "outputs": [
        {
          "output_type": "execute_result",
          "data": {
            "text/plain": [
              "  #  key                            pickup_datetime            pickup_latitude    pickup_longitude    dropoff_latitude    dropoff_longitude    passenger_count    fare_amount    day    hour    week    trayecto_nocturno    hora_punta    year\n",
              "  0  2009-06-15 17:26:21.0000001    2009-06-15 17:26:21 UTC            40.7213            -73.8443             40.7123             -73.8416                  1            4.5      0       1      25                    0             1    2009\n",
              "  1  2010-01-05 16:52:16.0000002    2010-01-05 16:52:16 UTC            40.7113            -74.016              40.782              -73.9793                  1           16.9      1       1       1                    0             1    2010\n",
              "  2  2011-08-18 00:35:00.00000049   2011-08-18 00:35:00 UTC            40.7613            -73.9827             40.7506             -73.9912                  2            5.7      3       2      33                    1             0    2011\n",
              "  3  2012-04-21 04:30:42.0000001    2012-04-21 04:30:42 UTC            40.7331            -73.9871             40.7581             -73.9916                  1            7.7      5       2      16                    1             0    2012\n",
              "  4  2010-03-09 07:51:00.000000135  2010-03-09 07:51:00 UTC            40.768             -73.9681             40.7838             -73.9567                  1            5.3      1       0      10                    0             0    2010\n",
              "  5  2011-01-06 09:50:45.0000002    2011-01-06 09:50:45 UTC            40.7316            -74.001              40.7582             -73.9729                  1           12.1      3       0       1                    0             0    2011\n",
              "  6  2012-11-20 20:35:00.0000001    2012-11-20 20:35:00 UTC            40.7517            -73.98               40.7648             -73.9738                  1            7.5      1       2      47                    1             1    2012\n",
              "  7  2012-01-04 17:22:00.00000081   2012-01-04 17:22:00 UTC            40.7741            -73.9513             40.751              -73.9901                  1           16.5      2       1       1                    0             1    2012\n",
              "  8  2012-12-03 13:10:00.000000125  2012-12-03 13:10:00 UTC            40.7267            -74.0065             40.7316             -73.9931                  1            9        0       1      49                    0             0    2012\n",
              "  9  2009-09-02 01:11:00.00000083   2009-09-02 01:11:00 UTC            40.7339            -73.9807             40.7581             -73.9915                  2            8.9      2       2      36                    1             0    2009"
            ],
            "text/html": [
              "<table>\n",
              "<thead>\n",
              "<tr><th>#                            </th><th>key                          </th><th>pickup_datetime        </th><th style=\"text-align: right;\">  pickup_latitude</th><th style=\"text-align: right;\">  pickup_longitude</th><th style=\"text-align: right;\">  dropoff_latitude</th><th style=\"text-align: right;\">  dropoff_longitude</th><th style=\"text-align: right;\">  passenger_count</th><th style=\"text-align: right;\">  fare_amount</th><th style=\"text-align: right;\">  day</th><th style=\"text-align: right;\">  hour</th><th style=\"text-align: right;\">  week</th><th style=\"text-align: right;\">  trayecto_nocturno</th><th style=\"text-align: right;\">  hora_punta</th><th style=\"text-align: right;\">  year</th></tr>\n",
              "</thead>\n",
              "<tbody>\n",
              "<tr><td><i style='opacity: 0.6'>0</i></td><td>2009-06-15 17:26:21.0000001  </td><td>2009-06-15 17:26:21 UTC</td><td style=\"text-align: right;\">          40.7213</td><td style=\"text-align: right;\">          -73.8443</td><td style=\"text-align: right;\">           40.7123</td><td style=\"text-align: right;\">           -73.8416</td><td style=\"text-align: right;\">                1</td><td style=\"text-align: right;\">          4.5</td><td style=\"text-align: right;\">    0</td><td style=\"text-align: right;\">     1</td><td style=\"text-align: right;\">    25</td><td style=\"text-align: right;\">                  0</td><td style=\"text-align: right;\">           1</td><td style=\"text-align: right;\">  2009</td></tr>\n",
              "<tr><td><i style='opacity: 0.6'>1</i></td><td>2010-01-05 16:52:16.0000002  </td><td>2010-01-05 16:52:16 UTC</td><td style=\"text-align: right;\">          40.7113</td><td style=\"text-align: right;\">          -74.016 </td><td style=\"text-align: right;\">           40.782 </td><td style=\"text-align: right;\">           -73.9793</td><td style=\"text-align: right;\">                1</td><td style=\"text-align: right;\">         16.9</td><td style=\"text-align: right;\">    1</td><td style=\"text-align: right;\">     1</td><td style=\"text-align: right;\">     1</td><td style=\"text-align: right;\">                  0</td><td style=\"text-align: right;\">           1</td><td style=\"text-align: right;\">  2010</td></tr>\n",
              "<tr><td><i style='opacity: 0.6'>2</i></td><td>2011-08-18 00:35:00.00000049 </td><td>2011-08-18 00:35:00 UTC</td><td style=\"text-align: right;\">          40.7613</td><td style=\"text-align: right;\">          -73.9827</td><td style=\"text-align: right;\">           40.7506</td><td style=\"text-align: right;\">           -73.9912</td><td style=\"text-align: right;\">                2</td><td style=\"text-align: right;\">          5.7</td><td style=\"text-align: right;\">    3</td><td style=\"text-align: right;\">     2</td><td style=\"text-align: right;\">    33</td><td style=\"text-align: right;\">                  1</td><td style=\"text-align: right;\">           0</td><td style=\"text-align: right;\">  2011</td></tr>\n",
              "<tr><td><i style='opacity: 0.6'>3</i></td><td>2012-04-21 04:30:42.0000001  </td><td>2012-04-21 04:30:42 UTC</td><td style=\"text-align: right;\">          40.7331</td><td style=\"text-align: right;\">          -73.9871</td><td style=\"text-align: right;\">           40.7581</td><td style=\"text-align: right;\">           -73.9916</td><td style=\"text-align: right;\">                1</td><td style=\"text-align: right;\">          7.7</td><td style=\"text-align: right;\">    5</td><td style=\"text-align: right;\">     2</td><td style=\"text-align: right;\">    16</td><td style=\"text-align: right;\">                  1</td><td style=\"text-align: right;\">           0</td><td style=\"text-align: right;\">  2012</td></tr>\n",
              "<tr><td><i style='opacity: 0.6'>4</i></td><td>2010-03-09 07:51:00.000000135</td><td>2010-03-09 07:51:00 UTC</td><td style=\"text-align: right;\">          40.768 </td><td style=\"text-align: right;\">          -73.9681</td><td style=\"text-align: right;\">           40.7838</td><td style=\"text-align: right;\">           -73.9567</td><td style=\"text-align: right;\">                1</td><td style=\"text-align: right;\">          5.3</td><td style=\"text-align: right;\">    1</td><td style=\"text-align: right;\">     0</td><td style=\"text-align: right;\">    10</td><td style=\"text-align: right;\">                  0</td><td style=\"text-align: right;\">           0</td><td style=\"text-align: right;\">  2010</td></tr>\n",
              "<tr><td><i style='opacity: 0.6'>5</i></td><td>2011-01-06 09:50:45.0000002  </td><td>2011-01-06 09:50:45 UTC</td><td style=\"text-align: right;\">          40.7316</td><td style=\"text-align: right;\">          -74.001 </td><td style=\"text-align: right;\">           40.7582</td><td style=\"text-align: right;\">           -73.9729</td><td style=\"text-align: right;\">                1</td><td style=\"text-align: right;\">         12.1</td><td style=\"text-align: right;\">    3</td><td style=\"text-align: right;\">     0</td><td style=\"text-align: right;\">     1</td><td style=\"text-align: right;\">                  0</td><td style=\"text-align: right;\">           0</td><td style=\"text-align: right;\">  2011</td></tr>\n",
              "<tr><td><i style='opacity: 0.6'>6</i></td><td>2012-11-20 20:35:00.0000001  </td><td>2012-11-20 20:35:00 UTC</td><td style=\"text-align: right;\">          40.7517</td><td style=\"text-align: right;\">          -73.98  </td><td style=\"text-align: right;\">           40.7648</td><td style=\"text-align: right;\">           -73.9738</td><td style=\"text-align: right;\">                1</td><td style=\"text-align: right;\">          7.5</td><td style=\"text-align: right;\">    1</td><td style=\"text-align: right;\">     2</td><td style=\"text-align: right;\">    47</td><td style=\"text-align: right;\">                  1</td><td style=\"text-align: right;\">           1</td><td style=\"text-align: right;\">  2012</td></tr>\n",
              "<tr><td><i style='opacity: 0.6'>7</i></td><td>2012-01-04 17:22:00.00000081 </td><td>2012-01-04 17:22:00 UTC</td><td style=\"text-align: right;\">          40.7741</td><td style=\"text-align: right;\">          -73.9513</td><td style=\"text-align: right;\">           40.751 </td><td style=\"text-align: right;\">           -73.9901</td><td style=\"text-align: right;\">                1</td><td style=\"text-align: right;\">         16.5</td><td style=\"text-align: right;\">    2</td><td style=\"text-align: right;\">     1</td><td style=\"text-align: right;\">     1</td><td style=\"text-align: right;\">                  0</td><td style=\"text-align: right;\">           1</td><td style=\"text-align: right;\">  2012</td></tr>\n",
              "<tr><td><i style='opacity: 0.6'>8</i></td><td>2012-12-03 13:10:00.000000125</td><td>2012-12-03 13:10:00 UTC</td><td style=\"text-align: right;\">          40.7267</td><td style=\"text-align: right;\">          -74.0065</td><td style=\"text-align: right;\">           40.7316</td><td style=\"text-align: right;\">           -73.9931</td><td style=\"text-align: right;\">                1</td><td style=\"text-align: right;\">          9  </td><td style=\"text-align: right;\">    0</td><td style=\"text-align: right;\">     1</td><td style=\"text-align: right;\">    49</td><td style=\"text-align: right;\">                  0</td><td style=\"text-align: right;\">           0</td><td style=\"text-align: right;\">  2012</td></tr>\n",
              "<tr><td><i style='opacity: 0.6'>9</i></td><td>2009-09-02 01:11:00.00000083 </td><td>2009-09-02 01:11:00 UTC</td><td style=\"text-align: right;\">          40.7339</td><td style=\"text-align: right;\">          -73.9807</td><td style=\"text-align: right;\">           40.7581</td><td style=\"text-align: right;\">           -73.9915</td><td style=\"text-align: right;\">                2</td><td style=\"text-align: right;\">          8.9</td><td style=\"text-align: right;\">    2</td><td style=\"text-align: right;\">     2</td><td style=\"text-align: right;\">    36</td><td style=\"text-align: right;\">                  1</td><td style=\"text-align: right;\">           0</td><td style=\"text-align: right;\">  2009</td></tr>\n",
              "</tbody>\n",
              "</table>"
            ]
          },
          "metadata": {
            "tags": []
          },
          "execution_count": 17
        }
      ]
    },
    {
      "cell_type": "markdown",
      "metadata": {
        "id": "AILQeSQV-gHW"
      },
      "source": [
        "### Verificar si el punto de llegada o punto de partida se encuentra cerca al aeropuerto"
      ]
    },
    {
      "cell_type": "code",
      "metadata": {
        "id": "40UHHYQmOQ7N"
      },
      "source": [
        "def area_aeropuerto(drop_latitud, drop_longitud, pickup_latitud, pickup_longitud):\n",
        "  value = 0\n",
        "\n",
        "  latJFK , longJFK = (40.64607900467552, -73.78682189872009)\n",
        "  rLatJFK , rLongJFK = (0.00020442868149724404, 7.06525997713248e-05)\n",
        "\n",
        "  latLaGuardia , longLaGuardia = (40.77721540400873, -73.87389625196624 )\n",
        "  rLaLaGuardia , rLongLaGuardia = (7.901000033306362e-05, 5.571223534203251e-08)\n",
        "\n",
        "  latNewark, longNewark = (40.69124374918179, -74.1782152271882)\n",
        "  rLatNewark, rLongNewark = (4.851167653135607e-05, 0.00017069473805533363)\n",
        "\n",
        "  dLatKFK , dLongJFK = ((40.64607900467552 - drop_latitud )**2, (-73.78682189872009 - drop_longitud)**2)\n",
        "  dLatLaGuardia, dLongLaGuardia = ((40.77721540400873 - drop_latitud )**2, (-73.87389625196624 - drop_longitud)**2)\n",
        "  dLatNewark, dLongNewark = ((40.69124374918179 - drop_latitud )**2, (-74.1782152271882 - drop_longitud)**2)\n",
        "\n",
        "  pLatKFK , pLongJFK = ((40.64607900467552 - pickup_latitud )**2, (-73.78682189872009 - pickup_longitud)**2)\n",
        "  pLatLaGuardia, pLongLaGuardia = ((40.77721540400873 - pickup_latitud )**2, (-73.87389625196624 - pickup_longitud)**2)\n",
        "  pLatNewark, pLongNewark = ((40.69124374918179 - pickup_latitud )**2, (-74.1782152271882 - pickup_longitud)**2)\n",
        "\n",
        "  if (dLatKFK <= rLatJFK  and dLongJFK <= rLongJFK) or (pLatKFK <= rLatJFK and pLongJFK <= rLongJFK):\n",
        "    value = 1\n",
        "  if (dLatLaGuardia <= rLaLaGuardia  and dLongLaGuardia <= rLongLaGuardia) or (pLatLaGuardia <= rLaLaGuardia  and pLongLaGuardia <= rLongLaGuardia):\n",
        "    value = 1\n",
        "  if (dLatNewark <= rLatNewark  and dLongNewark <= rLongNewark) or (pLatNewark <= rLatNewark  and pLongNewark <= rLongNewark):\n",
        "    value = 1\n",
        "  return value"
      ],
      "execution_count": 18,
      "outputs": []
    },
    {
      "cell_type": "code",
      "metadata": {
        "id": "v4ErvVOtR3RH"
      },
      "source": [
        "df_original['aeropuerto'] = df_original.apply(area_aeropuerto, [df_original.dropoff_latitude, df_original.dropoff_longitude, df_original.pickup_latitude, df_original.pickup_longitude])"
      ],
      "execution_count": 19,
      "outputs": []
    },
    {
      "cell_type": "code",
      "metadata": {
        "colab": {
          "base_uri": "https://localhost:8080/",
          "height": 251
        },
        "id": "PLx8oj28-Jcu",
        "outputId": "3ff9a029-8dcd-4b7e-bd8e-4f424f3fcdd3"
      },
      "source": [
        "df_original.head()"
      ],
      "execution_count": 20,
      "outputs": [
        {
          "output_type": "execute_result",
          "data": {
            "text/plain": [
              "  #  key                            pickup_datetime            pickup_latitude    pickup_longitude    dropoff_latitude    dropoff_longitude    passenger_count    fare_amount    day    hour    week    trayecto_nocturno    hora_punta    year    aeropuerto\n",
              "  0  2009-06-15 17:26:21.0000001    2009-06-15 17:26:21 UTC            40.7213            -73.8443             40.7123             -73.8416                  1            4.5      0       1      25                    0             1    2009             0\n",
              "  1  2010-01-05 16:52:16.0000002    2010-01-05 16:52:16 UTC            40.7113            -74.016              40.782              -73.9793                  1           16.9      1       1       1                    0             1    2010             0\n",
              "  2  2011-08-18 00:35:00.00000049   2011-08-18 00:35:00 UTC            40.7613            -73.9827             40.7506             -73.9912                  2            5.7      3       2      33                    1             0    2011             0\n",
              "  3  2012-04-21 04:30:42.0000001    2012-04-21 04:30:42 UTC            40.7331            -73.9871             40.7581             -73.9916                  1            7.7      5       2      16                    1             0    2012             0\n",
              "  4  2010-03-09 07:51:00.000000135  2010-03-09 07:51:00 UTC            40.768             -73.9681             40.7838             -73.9567                  1            5.3      1       0      10                    0             0    2010             0\n",
              "  5  2011-01-06 09:50:45.0000002    2011-01-06 09:50:45 UTC            40.7316            -74.001              40.7582             -73.9729                  1           12.1      3       0       1                    0             0    2011             0\n",
              "  6  2012-11-20 20:35:00.0000001    2012-11-20 20:35:00 UTC            40.7517            -73.98               40.7648             -73.9738                  1            7.5      1       2      47                    1             1    2012             0\n",
              "  7  2012-01-04 17:22:00.00000081   2012-01-04 17:22:00 UTC            40.7741            -73.9513             40.751              -73.9901                  1           16.5      2       1       1                    0             1    2012             0\n",
              "  8  2012-12-03 13:10:00.000000125  2012-12-03 13:10:00 UTC            40.7267            -74.0065             40.7316             -73.9931                  1            9        0       1      49                    0             0    2012             0\n",
              "  9  2009-09-02 01:11:00.00000083   2009-09-02 01:11:00 UTC            40.7339            -73.9807             40.7581             -73.9915                  2            8.9      2       2      36                    1             0    2009             0"
            ],
            "text/html": [
              "<table>\n",
              "<thead>\n",
              "<tr><th>#                            </th><th>key                          </th><th>pickup_datetime        </th><th style=\"text-align: right;\">  pickup_latitude</th><th style=\"text-align: right;\">  pickup_longitude</th><th style=\"text-align: right;\">  dropoff_latitude</th><th style=\"text-align: right;\">  dropoff_longitude</th><th style=\"text-align: right;\">  passenger_count</th><th style=\"text-align: right;\">  fare_amount</th><th style=\"text-align: right;\">  day</th><th style=\"text-align: right;\">  hour</th><th style=\"text-align: right;\">  week</th><th style=\"text-align: right;\">  trayecto_nocturno</th><th style=\"text-align: right;\">  hora_punta</th><th style=\"text-align: right;\">  year</th><th style=\"text-align: right;\">  aeropuerto</th></tr>\n",
              "</thead>\n",
              "<tbody>\n",
              "<tr><td><i style='opacity: 0.6'>0</i></td><td>2009-06-15 17:26:21.0000001  </td><td>2009-06-15 17:26:21 UTC</td><td style=\"text-align: right;\">          40.7213</td><td style=\"text-align: right;\">          -73.8443</td><td style=\"text-align: right;\">           40.7123</td><td style=\"text-align: right;\">           -73.8416</td><td style=\"text-align: right;\">                1</td><td style=\"text-align: right;\">          4.5</td><td style=\"text-align: right;\">    0</td><td style=\"text-align: right;\">     1</td><td style=\"text-align: right;\">    25</td><td style=\"text-align: right;\">                  0</td><td style=\"text-align: right;\">           1</td><td style=\"text-align: right;\">  2009</td><td style=\"text-align: right;\">           0</td></tr>\n",
              "<tr><td><i style='opacity: 0.6'>1</i></td><td>2010-01-05 16:52:16.0000002  </td><td>2010-01-05 16:52:16 UTC</td><td style=\"text-align: right;\">          40.7113</td><td style=\"text-align: right;\">          -74.016 </td><td style=\"text-align: right;\">           40.782 </td><td style=\"text-align: right;\">           -73.9793</td><td style=\"text-align: right;\">                1</td><td style=\"text-align: right;\">         16.9</td><td style=\"text-align: right;\">    1</td><td style=\"text-align: right;\">     1</td><td style=\"text-align: right;\">     1</td><td style=\"text-align: right;\">                  0</td><td style=\"text-align: right;\">           1</td><td style=\"text-align: right;\">  2010</td><td style=\"text-align: right;\">           0</td></tr>\n",
              "<tr><td><i style='opacity: 0.6'>2</i></td><td>2011-08-18 00:35:00.00000049 </td><td>2011-08-18 00:35:00 UTC</td><td style=\"text-align: right;\">          40.7613</td><td style=\"text-align: right;\">          -73.9827</td><td style=\"text-align: right;\">           40.7506</td><td style=\"text-align: right;\">           -73.9912</td><td style=\"text-align: right;\">                2</td><td style=\"text-align: right;\">          5.7</td><td style=\"text-align: right;\">    3</td><td style=\"text-align: right;\">     2</td><td style=\"text-align: right;\">    33</td><td style=\"text-align: right;\">                  1</td><td style=\"text-align: right;\">           0</td><td style=\"text-align: right;\">  2011</td><td style=\"text-align: right;\">           0</td></tr>\n",
              "<tr><td><i style='opacity: 0.6'>3</i></td><td>2012-04-21 04:30:42.0000001  </td><td>2012-04-21 04:30:42 UTC</td><td style=\"text-align: right;\">          40.7331</td><td style=\"text-align: right;\">          -73.9871</td><td style=\"text-align: right;\">           40.7581</td><td style=\"text-align: right;\">           -73.9916</td><td style=\"text-align: right;\">                1</td><td style=\"text-align: right;\">          7.7</td><td style=\"text-align: right;\">    5</td><td style=\"text-align: right;\">     2</td><td style=\"text-align: right;\">    16</td><td style=\"text-align: right;\">                  1</td><td style=\"text-align: right;\">           0</td><td style=\"text-align: right;\">  2012</td><td style=\"text-align: right;\">           0</td></tr>\n",
              "<tr><td><i style='opacity: 0.6'>4</i></td><td>2010-03-09 07:51:00.000000135</td><td>2010-03-09 07:51:00 UTC</td><td style=\"text-align: right;\">          40.768 </td><td style=\"text-align: right;\">          -73.9681</td><td style=\"text-align: right;\">           40.7838</td><td style=\"text-align: right;\">           -73.9567</td><td style=\"text-align: right;\">                1</td><td style=\"text-align: right;\">          5.3</td><td style=\"text-align: right;\">    1</td><td style=\"text-align: right;\">     0</td><td style=\"text-align: right;\">    10</td><td style=\"text-align: right;\">                  0</td><td style=\"text-align: right;\">           0</td><td style=\"text-align: right;\">  2010</td><td style=\"text-align: right;\">           0</td></tr>\n",
              "<tr><td><i style='opacity: 0.6'>5</i></td><td>2011-01-06 09:50:45.0000002  </td><td>2011-01-06 09:50:45 UTC</td><td style=\"text-align: right;\">          40.7316</td><td style=\"text-align: right;\">          -74.001 </td><td style=\"text-align: right;\">           40.7582</td><td style=\"text-align: right;\">           -73.9729</td><td style=\"text-align: right;\">                1</td><td style=\"text-align: right;\">         12.1</td><td style=\"text-align: right;\">    3</td><td style=\"text-align: right;\">     0</td><td style=\"text-align: right;\">     1</td><td style=\"text-align: right;\">                  0</td><td style=\"text-align: right;\">           0</td><td style=\"text-align: right;\">  2011</td><td style=\"text-align: right;\">           0</td></tr>\n",
              "<tr><td><i style='opacity: 0.6'>6</i></td><td>2012-11-20 20:35:00.0000001  </td><td>2012-11-20 20:35:00 UTC</td><td style=\"text-align: right;\">          40.7517</td><td style=\"text-align: right;\">          -73.98  </td><td style=\"text-align: right;\">           40.7648</td><td style=\"text-align: right;\">           -73.9738</td><td style=\"text-align: right;\">                1</td><td style=\"text-align: right;\">          7.5</td><td style=\"text-align: right;\">    1</td><td style=\"text-align: right;\">     2</td><td style=\"text-align: right;\">    47</td><td style=\"text-align: right;\">                  1</td><td style=\"text-align: right;\">           1</td><td style=\"text-align: right;\">  2012</td><td style=\"text-align: right;\">           0</td></tr>\n",
              "<tr><td><i style='opacity: 0.6'>7</i></td><td>2012-01-04 17:22:00.00000081 </td><td>2012-01-04 17:22:00 UTC</td><td style=\"text-align: right;\">          40.7741</td><td style=\"text-align: right;\">          -73.9513</td><td style=\"text-align: right;\">           40.751 </td><td style=\"text-align: right;\">           -73.9901</td><td style=\"text-align: right;\">                1</td><td style=\"text-align: right;\">         16.5</td><td style=\"text-align: right;\">    2</td><td style=\"text-align: right;\">     1</td><td style=\"text-align: right;\">     1</td><td style=\"text-align: right;\">                  0</td><td style=\"text-align: right;\">           1</td><td style=\"text-align: right;\">  2012</td><td style=\"text-align: right;\">           0</td></tr>\n",
              "<tr><td><i style='opacity: 0.6'>8</i></td><td>2012-12-03 13:10:00.000000125</td><td>2012-12-03 13:10:00 UTC</td><td style=\"text-align: right;\">          40.7267</td><td style=\"text-align: right;\">          -74.0065</td><td style=\"text-align: right;\">           40.7316</td><td style=\"text-align: right;\">           -73.9931</td><td style=\"text-align: right;\">                1</td><td style=\"text-align: right;\">          9  </td><td style=\"text-align: right;\">    0</td><td style=\"text-align: right;\">     1</td><td style=\"text-align: right;\">    49</td><td style=\"text-align: right;\">                  0</td><td style=\"text-align: right;\">           0</td><td style=\"text-align: right;\">  2012</td><td style=\"text-align: right;\">           0</td></tr>\n",
              "<tr><td><i style='opacity: 0.6'>9</i></td><td>2009-09-02 01:11:00.00000083 </td><td>2009-09-02 01:11:00 UTC</td><td style=\"text-align: right;\">          40.7339</td><td style=\"text-align: right;\">          -73.9807</td><td style=\"text-align: right;\">           40.7581</td><td style=\"text-align: right;\">           -73.9915</td><td style=\"text-align: right;\">                2</td><td style=\"text-align: right;\">          8.9</td><td style=\"text-align: right;\">    2</td><td style=\"text-align: right;\">     2</td><td style=\"text-align: right;\">    36</td><td style=\"text-align: right;\">                  1</td><td style=\"text-align: right;\">           0</td><td style=\"text-align: right;\">  2009</td><td style=\"text-align: right;\">           0</td></tr>\n",
              "</tbody>\n",
              "</table>"
            ]
          },
          "metadata": {
            "tags": []
          },
          "execution_count": 20
        }
      ]
    },
    {
      "cell_type": "code",
      "metadata": {
        "id": "EPkCuIFdOeMb",
        "colab": {
          "base_uri": "https://localhost:8080/"
        },
        "outputId": "e8060886-436e-4381-8a9b-2622dbfca70d"
      },
      "source": [
        "df_original.aeropuerto.value_counts(progress=True)"
      ],
      "execution_count": 21,
      "outputs": [
        {
          "output_type": "stream",
          "text": [
            "[########################################] 100.00% elapsed time  :    15.26s =  0.3m =  0.0h\n",
            " "
          ],
          "name": "stdout"
        },
        {
          "output_type": "execute_result",
          "data": {
            "text/plain": [
              "0    52794910\n",
              "1      972668\n",
              "dtype: int64"
            ]
          },
          "metadata": {
            "tags": []
          },
          "execution_count": 21
        }
      ]
    },
    {
      "cell_type": "markdown",
      "metadata": {
        "id": "p9rZ4yY5y4iE"
      },
      "source": [
        "Observamos valores atipicos de longitud y latitud"
      ]
    },
    {
      "cell_type": "code",
      "metadata": {
        "colab": {
          "base_uri": "https://localhost:8080/"
        },
        "id": "25hRKKUky-po",
        "outputId": "d03f59aa-b67d-4a67-bd9c-be3aa72c89af"
      },
      "source": [
        "df_original.pickup_latitude.value_counts(progress=True)"
      ],
      "execution_count": 22,
      "outputs": [
        {
          "output_type": "stream",
          "text": [
            "[########################################] 100.00% elapsed time  :     0.18s =  0.0m =  0.0h\n",
            " "
          ],
          "name": "stdout"
        },
        {
          "output_type": "execute_result",
          "data": {
            "text/plain": [
              " 41.366138    18561\n",
              " 40.774100     4047\n",
              " 40.774057     3903\n",
              " 40.774082     3483\n",
              " 40.774092     3454\n",
              "              ...  \n",
              " 40.947167        1\n",
              " 40.947177        1\n",
              " 40.842987        1\n",
              " 40.947187        1\n",
              "-77.833874        1\n",
              "Length: 331695, dtype: int64"
            ]
          },
          "metadata": {
            "tags": []
          },
          "execution_count": 22
        }
      ]
    },
    {
      "cell_type": "code",
      "metadata": {
        "colab": {
          "base_uri": "https://localhost:8080/"
        },
        "id": "OtLYIcM7zA50",
        "outputId": "dbe7a442-78b2-4016-b2bc-0c659aa9d3f9"
      },
      "source": [
        "df_original.pickup_longitude.value_counts(progress=True)"
      ],
      "execution_count": 23,
      "outputs": [
        {
          "output_type": "stream",
          "text": [
            "[########################################] 100.00% elapsed time  :     0.16s =  0.0m =  0.0h\n",
            " "
          ],
          "name": "stdout"
        },
        {
          "output_type": "execute_result",
          "data": {
            "text/plain": [
              "-73.137393     18561\n",
              "-73.982297      4251\n",
              "-73.982037      4176\n",
              "-73.982400      4103\n",
              "-73.982300      4000\n",
              "               ...  \n",
              "-73.825822         1\n",
              "-73.825821         1\n",
              "-73.825810         1\n",
              "-73.825809         1\n",
              "-123.408006        1\n",
              "Length: 325416, dtype: int64"
            ]
          },
          "metadata": {
            "tags": []
          },
          "execution_count": 23
        }
      ]
    },
    {
      "cell_type": "markdown",
      "metadata": {
        "id": "kgbDMJLP8Hte"
      },
      "source": [
        "Eliminamos las latitudes menores a 30 y mayores a 50"
      ]
    },
    {
      "cell_type": "code",
      "metadata": {
        "colab": {
          "base_uri": "https://localhost:8080/"
        },
        "id": "I6vFgByYzAxm",
        "outputId": "f03613b7-3e1e-4e39-e789-8e26e74c727a"
      },
      "source": [
        "df_original.dropoff_latitude.value_counts(progress=True)"
      ],
      "execution_count": 24,
      "outputs": [
        {
          "output_type": "stream",
          "text": [
            "[########################################] 100.00% elapsed time  :     0.20s =  0.0m =  0.0h\n",
            " "
          ],
          "name": "stdout"
        },
        {
          "output_type": "execute_result",
          "data": {
            "text/plain": [
              " 41.366138    14648\n",
              " 40.761200     2986\n",
              " 40.759200     2829\n",
              " 40.750000     2768\n",
              " 40.758242     2617\n",
              "              ...  \n",
              " 40.838932        1\n",
              " 40.838941        1\n",
              " 40.838947        1\n",
              " 40.838963        1\n",
              "-74.178840        1\n",
              "Length: 426236, dtype: int64"
            ]
          },
          "metadata": {
            "tags": []
          },
          "execution_count": 24
        }
      ]
    },
    {
      "cell_type": "code",
      "metadata": {
        "id": "GffyaVVM4p58"
      },
      "source": [
        "df_original = df_original[(df_original.dropoff_latitude >= 30) & (df_original.dropoff_latitude <= 50)]"
      ],
      "execution_count": 25,
      "outputs": []
    },
    {
      "cell_type": "code",
      "metadata": {
        "colab": {
          "base_uri": "https://localhost:8080/"
        },
        "id": "bVKxudoE8GKG",
        "outputId": "866e4c76-f097-450b-a1dd-dd796d140d31"
      },
      "source": [
        "df_original.dropoff_latitude.value_counts(progress=True)"
      ],
      "execution_count": 26,
      "outputs": [
        {
          "output_type": "stream",
          "text": [
            "[########################################] 100.00% elapsed time  :     0.23s =  0.0m =  0.0h\n",
            " "
          ],
          "name": "stdout"
        },
        {
          "output_type": "execute_result",
          "data": {
            "text/plain": [
              "41.366138    14648\n",
              "40.761200     2986\n",
              "40.759200     2829\n",
              "40.750000     2768\n",
              "40.758242     2617\n",
              "             ...  \n",
              "40.869834        1\n",
              "40.869839        1\n",
              "40.869843        1\n",
              "40.869846        1\n",
              "30.035982        1\n",
              "Length: 407430, dtype: int64"
            ]
          },
          "metadata": {
            "tags": []
          },
          "execution_count": 26
        }
      ]
    },
    {
      "cell_type": "markdown",
      "metadata": {
        "id": "IPbLtVza_pF_"
      },
      "source": [
        "Eliminamos las longitud menores a -65 y mayores a -125"
      ]
    },
    {
      "cell_type": "code",
      "metadata": {
        "colab": {
          "base_uri": "https://localhost:8080/"
        },
        "id": "Cak1L7f2zAmS",
        "outputId": "16a07b34-5afa-44a0-f223-0f5c5d751e8f"
      },
      "source": [
        "df_original.dropoff_longitude.value_counts(progress=True)"
      ],
      "execution_count": 27,
      "outputs": [
        {
          "output_type": "stream",
          "text": [
            "[########################################] 100.00% elapsed time  :     0.20s =  0.0m =  0.0h\n",
            " "
          ],
          "name": "stdout"
        },
        {
          "output_type": "execute_result",
          "data": {
            "text/plain": [
              "-73.137393     14648\n",
              "-73.982400      3543\n",
              "-73.982297      3313\n",
              "-73.982300      3227\n",
              "-73.982037      3163\n",
              "               ...  \n",
              "-73.775244         1\n",
              "-73.775239         1\n",
              "-73.775238         1\n",
              "-73.775237         1\n",
              "-123.408006        1\n",
              "Length: 395758, dtype: int64"
            ]
          },
          "metadata": {
            "tags": []
          },
          "execution_count": 27
        }
      ]
    },
    {
      "cell_type": "code",
      "metadata": {
        "id": "fWyj3iHnBlpq"
      },
      "source": [
        "df_original = df_original[(df_original.dropoff_longitude <= -65) & (df_original.dropoff_longitude >= -125)]"
      ],
      "execution_count": 28,
      "outputs": []
    },
    {
      "cell_type": "code",
      "metadata": {
        "colab": {
          "base_uri": "https://localhost:8080/"
        },
        "id": "m_4axsn4B5L2",
        "outputId": "fb2b625d-e30a-463f-c053-2044ffa930ae"
      },
      "source": [
        "df_original.dropoff_longitude.value_counts(progress=True)"
      ],
      "execution_count": 29,
      "outputs": [
        {
          "output_type": "stream",
          "text": [
            "[########################################] 100.00% elapsed time  :     0.27s =  0.0m =  0.0h\n",
            " "
          ],
          "name": "stdout"
        },
        {
          "output_type": "execute_result",
          "data": {
            "text/plain": [
              "-73.137393     14648\n",
              "-73.982400      3543\n",
              "-73.982297      3313\n",
              "-73.982300      3227\n",
              "-73.982037      3163\n",
              "               ...  \n",
              "-73.780754         1\n",
              "-73.780749         1\n",
              "-73.780746         1\n",
              "-73.780743         1\n",
              "-123.408006        1\n",
              "Length: 393854, dtype: int64"
            ]
          },
          "metadata": {
            "tags": []
          },
          "execution_count": 29
        }
      ]
    },
    {
      "cell_type": "code",
      "metadata": {
        "id": "-pVxE87N7I2W"
      },
      "source": [
        "df_original = df_original[df_original['year'] >= 2014]"
      ],
      "execution_count": 30,
      "outputs": []
    },
    {
      "cell_type": "code",
      "metadata": {
        "colab": {
          "base_uri": "https://localhost:8080/",
          "height": 444
        },
        "id": "nPj9dM1sgI6Y",
        "outputId": "a4dbb51c-29e5-4fa4-874a-aca7b851dc09"
      },
      "source": [
        "df_original.head()"
      ],
      "execution_count": 31,
      "outputs": [
        {
          "output_type": "execute_result",
          "data": {
            "text/plain": [
              "  #  key                            pickup_datetime            pickup_latitude    pickup_longitude    dropoff_latitude    dropoff_longitude    passenger_count    fare_amount    day    hour    week    trayecto_nocturno    hora_punta    year    aeropuerto\n",
              "  0  2014-02-19 07:22:00.00000074   2014-02-19 07:22:00 UTC            40.7605            -73.9864             40.7371             -73.989                   1          12.5       2       0       8                    0             0    2014             0\n",
              "  1  2014-12-06 20:36:22.0000008    2014-12-06 20:36:22 UTC            40.7519            -73.9798             40.7555             -73.9794                  1           4         5       2      49                    1             1    2014             0\n",
              "  2  2014-02-19 16:03:00.000000160  2014-02-19 16:03:00 UTC            40.7524            -73.9761             40.7593             -73.9811                  1           5.5       2       1       8                    0             1    2014             0\n",
              "  3  2015-06-21 21:46:34.0000001    2015-06-21 21:46:34 UTC            40.7177            -74.0105             40.6604             -73.9858                  1          22.54      6       2      25                    1             0    2015             0\n",
              "  4  2015-01-11 03:15:38.0000001    2015-01-11 03:15:38 UTC            40.7387            -73.9833             40.8472             -73.9332                  1          58         6       2       2                    1             0    2015             0\n",
              "  5  2015-03-12 08:08:38.0000001    2015-03-12 08:08:38 UTC            40.7564            -73.9902             40.7628             -73.9856                  1           4.5       3       0      11                    0             0    2015             0\n",
              "  6  2014-07-16 10:57:00.00000069   2014-07-16 10:57:00 UTC            40.7419            -73.9961             40.7394             -73.9922                  6           5         2       0      29                    0             0    2014             0\n",
              "  7  2014-05-01 09:12:00.000000198  2014-05-01 09:12:00 UTC            40.7675            -73.9662             40.7742             -73.9809                  6           7         3       0      18                    0             0    2014             0\n",
              "  8  2014-01-17 09:03:00.000000187  2014-01-17 09:03:00 UTC            40.7506            -73.9915             40.7415             -73.9857                  4           8.5       4       0       3                    0             0    2014             0\n",
              "  9  2014-04-29 18:28:00.0000005    2014-04-29 18:28:00 UTC            40.7508            -73.9703             40.7249             -73.9984                  6          16.5       1       2      18                    0             1    2014             0"
            ],
            "text/html": [
              "<table>\n",
              "<thead>\n",
              "<tr><th>#                            </th><th>key                          </th><th>pickup_datetime        </th><th style=\"text-align: right;\">  pickup_latitude</th><th style=\"text-align: right;\">  pickup_longitude</th><th style=\"text-align: right;\">  dropoff_latitude</th><th style=\"text-align: right;\">  dropoff_longitude</th><th style=\"text-align: right;\">  passenger_count</th><th style=\"text-align: right;\">  fare_amount</th><th style=\"text-align: right;\">  day</th><th style=\"text-align: right;\">  hour</th><th style=\"text-align: right;\">  week</th><th style=\"text-align: right;\">  trayecto_nocturno</th><th style=\"text-align: right;\">  hora_punta</th><th style=\"text-align: right;\">  year</th><th style=\"text-align: right;\">  aeropuerto</th></tr>\n",
              "</thead>\n",
              "<tbody>\n",
              "<tr><td><i style='opacity: 0.6'>0</i></td><td>2014-02-19 07:22:00.00000074 </td><td>2014-02-19 07:22:00 UTC</td><td style=\"text-align: right;\">          40.7605</td><td style=\"text-align: right;\">          -73.9864</td><td style=\"text-align: right;\">           40.7371</td><td style=\"text-align: right;\">           -73.989 </td><td style=\"text-align: right;\">                1</td><td style=\"text-align: right;\">        12.5 </td><td style=\"text-align: right;\">    2</td><td style=\"text-align: right;\">     0</td><td style=\"text-align: right;\">     8</td><td style=\"text-align: right;\">                  0</td><td style=\"text-align: right;\">           0</td><td style=\"text-align: right;\">  2014</td><td style=\"text-align: right;\">           0</td></tr>\n",
              "<tr><td><i style='opacity: 0.6'>1</i></td><td>2014-12-06 20:36:22.0000008  </td><td>2014-12-06 20:36:22 UTC</td><td style=\"text-align: right;\">          40.7519</td><td style=\"text-align: right;\">          -73.9798</td><td style=\"text-align: right;\">           40.7555</td><td style=\"text-align: right;\">           -73.9794</td><td style=\"text-align: right;\">                1</td><td style=\"text-align: right;\">         4   </td><td style=\"text-align: right;\">    5</td><td style=\"text-align: right;\">     2</td><td style=\"text-align: right;\">    49</td><td style=\"text-align: right;\">                  1</td><td style=\"text-align: right;\">           1</td><td style=\"text-align: right;\">  2014</td><td style=\"text-align: right;\">           0</td></tr>\n",
              "<tr><td><i style='opacity: 0.6'>2</i></td><td>2014-02-19 16:03:00.000000160</td><td>2014-02-19 16:03:00 UTC</td><td style=\"text-align: right;\">          40.7524</td><td style=\"text-align: right;\">          -73.9761</td><td style=\"text-align: right;\">           40.7593</td><td style=\"text-align: right;\">           -73.9811</td><td style=\"text-align: right;\">                1</td><td style=\"text-align: right;\">         5.5 </td><td style=\"text-align: right;\">    2</td><td style=\"text-align: right;\">     1</td><td style=\"text-align: right;\">     8</td><td style=\"text-align: right;\">                  0</td><td style=\"text-align: right;\">           1</td><td style=\"text-align: right;\">  2014</td><td style=\"text-align: right;\">           0</td></tr>\n",
              "<tr><td><i style='opacity: 0.6'>3</i></td><td>2015-06-21 21:46:34.0000001  </td><td>2015-06-21 21:46:34 UTC</td><td style=\"text-align: right;\">          40.7177</td><td style=\"text-align: right;\">          -74.0105</td><td style=\"text-align: right;\">           40.6604</td><td style=\"text-align: right;\">           -73.9858</td><td style=\"text-align: right;\">                1</td><td style=\"text-align: right;\">        22.54</td><td style=\"text-align: right;\">    6</td><td style=\"text-align: right;\">     2</td><td style=\"text-align: right;\">    25</td><td style=\"text-align: right;\">                  1</td><td style=\"text-align: right;\">           0</td><td style=\"text-align: right;\">  2015</td><td style=\"text-align: right;\">           0</td></tr>\n",
              "<tr><td><i style='opacity: 0.6'>4</i></td><td>2015-01-11 03:15:38.0000001  </td><td>2015-01-11 03:15:38 UTC</td><td style=\"text-align: right;\">          40.7387</td><td style=\"text-align: right;\">          -73.9833</td><td style=\"text-align: right;\">           40.8472</td><td style=\"text-align: right;\">           -73.9332</td><td style=\"text-align: right;\">                1</td><td style=\"text-align: right;\">        58   </td><td style=\"text-align: right;\">    6</td><td style=\"text-align: right;\">     2</td><td style=\"text-align: right;\">     2</td><td style=\"text-align: right;\">                  1</td><td style=\"text-align: right;\">           0</td><td style=\"text-align: right;\">  2015</td><td style=\"text-align: right;\">           0</td></tr>\n",
              "<tr><td><i style='opacity: 0.6'>5</i></td><td>2015-03-12 08:08:38.0000001  </td><td>2015-03-12 08:08:38 UTC</td><td style=\"text-align: right;\">          40.7564</td><td style=\"text-align: right;\">          -73.9902</td><td style=\"text-align: right;\">           40.7628</td><td style=\"text-align: right;\">           -73.9856</td><td style=\"text-align: right;\">                1</td><td style=\"text-align: right;\">         4.5 </td><td style=\"text-align: right;\">    3</td><td style=\"text-align: right;\">     0</td><td style=\"text-align: right;\">    11</td><td style=\"text-align: right;\">                  0</td><td style=\"text-align: right;\">           0</td><td style=\"text-align: right;\">  2015</td><td style=\"text-align: right;\">           0</td></tr>\n",
              "<tr><td><i style='opacity: 0.6'>6</i></td><td>2014-07-16 10:57:00.00000069 </td><td>2014-07-16 10:57:00 UTC</td><td style=\"text-align: right;\">          40.7419</td><td style=\"text-align: right;\">          -73.9961</td><td style=\"text-align: right;\">           40.7394</td><td style=\"text-align: right;\">           -73.9922</td><td style=\"text-align: right;\">                6</td><td style=\"text-align: right;\">         5   </td><td style=\"text-align: right;\">    2</td><td style=\"text-align: right;\">     0</td><td style=\"text-align: right;\">    29</td><td style=\"text-align: right;\">                  0</td><td style=\"text-align: right;\">           0</td><td style=\"text-align: right;\">  2014</td><td style=\"text-align: right;\">           0</td></tr>\n",
              "<tr><td><i style='opacity: 0.6'>7</i></td><td>2014-05-01 09:12:00.000000198</td><td>2014-05-01 09:12:00 UTC</td><td style=\"text-align: right;\">          40.7675</td><td style=\"text-align: right;\">          -73.9662</td><td style=\"text-align: right;\">           40.7742</td><td style=\"text-align: right;\">           -73.9809</td><td style=\"text-align: right;\">                6</td><td style=\"text-align: right;\">         7   </td><td style=\"text-align: right;\">    3</td><td style=\"text-align: right;\">     0</td><td style=\"text-align: right;\">    18</td><td style=\"text-align: right;\">                  0</td><td style=\"text-align: right;\">           0</td><td style=\"text-align: right;\">  2014</td><td style=\"text-align: right;\">           0</td></tr>\n",
              "<tr><td><i style='opacity: 0.6'>8</i></td><td>2014-01-17 09:03:00.000000187</td><td>2014-01-17 09:03:00 UTC</td><td style=\"text-align: right;\">          40.7506</td><td style=\"text-align: right;\">          -73.9915</td><td style=\"text-align: right;\">           40.7415</td><td style=\"text-align: right;\">           -73.9857</td><td style=\"text-align: right;\">                4</td><td style=\"text-align: right;\">         8.5 </td><td style=\"text-align: right;\">    4</td><td style=\"text-align: right;\">     0</td><td style=\"text-align: right;\">     3</td><td style=\"text-align: right;\">                  0</td><td style=\"text-align: right;\">           0</td><td style=\"text-align: right;\">  2014</td><td style=\"text-align: right;\">           0</td></tr>\n",
              "<tr><td><i style='opacity: 0.6'>9</i></td><td>2014-04-29 18:28:00.0000005  </td><td>2014-04-29 18:28:00 UTC</td><td style=\"text-align: right;\">          40.7508</td><td style=\"text-align: right;\">          -73.9703</td><td style=\"text-align: right;\">           40.7249</td><td style=\"text-align: right;\">           -73.9984</td><td style=\"text-align: right;\">                6</td><td style=\"text-align: right;\">        16.5 </td><td style=\"text-align: right;\">    1</td><td style=\"text-align: right;\">     2</td><td style=\"text-align: right;\">    18</td><td style=\"text-align: right;\">                  0</td><td style=\"text-align: right;\">           1</td><td style=\"text-align: right;\">  2014</td><td style=\"text-align: right;\">           0</td></tr>\n",
              "</tbody>\n",
              "</table>"
            ]
          },
          "metadata": {
            "tags": []
          },
          "execution_count": 31
        }
      ]
    },
    {
      "cell_type": "code",
      "metadata": {
        "colab": {
          "base_uri": "https://localhost:8080/",
          "height": 444
        },
        "id": "9sjKnzHejXqc",
        "outputId": "3969f32c-ba7e-4be8-ac7d-54ca1870d8ca"
      },
      "source": [
        "df_original['day_of_month']=df_original['pickup_datetime'].apply(lambda x: pd.Timestamp(x).day)\n",
        "df_original['hour']=df_original['pickup_datetime'].apply(lambda x: pd.Timestamp(x).minute/60 + pd.Timestamp(x).hour)\n",
        "df_original.head()  "
      ],
      "execution_count": 32,
      "outputs": [
        {
          "output_type": "execute_result",
          "data": {
            "text/plain": [
              "  #  key                            pickup_datetime            pickup_latitude    pickup_longitude    dropoff_latitude    dropoff_longitude    passenger_count    fare_amount    day      hour    week    trayecto_nocturno    hora_punta    year    aeropuerto    day_of_month\n",
              "  0  2014-02-19 07:22:00.00000074   2014-02-19 07:22:00 UTC            40.7605            -73.9864             40.7371             -73.989                   1          12.5       2   7.36667       8                    0             0    2014             0              19\n",
              "  1  2014-12-06 20:36:22.0000008    2014-12-06 20:36:22 UTC            40.7519            -73.9798             40.7555             -73.9794                  1           4         5  20.6          49                    1             1    2014             0               6\n",
              "  2  2014-02-19 16:03:00.000000160  2014-02-19 16:03:00 UTC            40.7524            -73.9761             40.7593             -73.9811                  1           5.5       2  16.05          8                    0             1    2014             0              19\n",
              "  3  2015-06-21 21:46:34.0000001    2015-06-21 21:46:34 UTC            40.7177            -74.0105             40.6604             -73.9858                  1          22.54      6  21.7667       25                    1             0    2015             0              21\n",
              "  4  2015-01-11 03:15:38.0000001    2015-01-11 03:15:38 UTC            40.7387            -73.9833             40.8472             -73.9332                  1          58         6   3.25          2                    1             0    2015             0              11\n",
              "  5  2015-03-12 08:08:38.0000001    2015-03-12 08:08:38 UTC            40.7564            -73.9902             40.7628             -73.9856                  1           4.5       3   8.13333      11                    0             0    2015             0              12\n",
              "  6  2014-07-16 10:57:00.00000069   2014-07-16 10:57:00 UTC            40.7419            -73.9961             40.7394             -73.9922                  6           5         2  10.95         29                    0             0    2014             0              16\n",
              "  7  2014-05-01 09:12:00.000000198  2014-05-01 09:12:00 UTC            40.7675            -73.9662             40.7742             -73.9809                  6           7         3   9.2          18                    0             0    2014             0               1\n",
              "  8  2014-01-17 09:03:00.000000187  2014-01-17 09:03:00 UTC            40.7506            -73.9915             40.7415             -73.9857                  4           8.5       4   9.05          3                    0             0    2014             0              17\n",
              "  9  2014-04-29 18:28:00.0000005    2014-04-29 18:28:00 UTC            40.7508            -73.9703             40.7249             -73.9984                  6          16.5       1  18.4667       18                    0             1    2014             0              29"
            ],
            "text/html": [
              "<table>\n",
              "<thead>\n",
              "<tr><th>#                            </th><th>key                          </th><th>pickup_datetime        </th><th style=\"text-align: right;\">  pickup_latitude</th><th style=\"text-align: right;\">  pickup_longitude</th><th style=\"text-align: right;\">  dropoff_latitude</th><th style=\"text-align: right;\">  dropoff_longitude</th><th style=\"text-align: right;\">  passenger_count</th><th style=\"text-align: right;\">  fare_amount</th><th style=\"text-align: right;\">  day</th><th style=\"text-align: right;\">    hour</th><th style=\"text-align: right;\">  week</th><th style=\"text-align: right;\">  trayecto_nocturno</th><th style=\"text-align: right;\">  hora_punta</th><th style=\"text-align: right;\">  year</th><th style=\"text-align: right;\">  aeropuerto</th><th style=\"text-align: right;\">  day_of_month</th></tr>\n",
              "</thead>\n",
              "<tbody>\n",
              "<tr><td><i style='opacity: 0.6'>0</i></td><td>2014-02-19 07:22:00.00000074 </td><td>2014-02-19 07:22:00 UTC</td><td style=\"text-align: right;\">          40.7605</td><td style=\"text-align: right;\">          -73.9864</td><td style=\"text-align: right;\">           40.7371</td><td style=\"text-align: right;\">           -73.989 </td><td style=\"text-align: right;\">                1</td><td style=\"text-align: right;\">        12.5 </td><td style=\"text-align: right;\">    2</td><td style=\"text-align: right;\"> 7.36667</td><td style=\"text-align: right;\">     8</td><td style=\"text-align: right;\">                  0</td><td style=\"text-align: right;\">           0</td><td style=\"text-align: right;\">  2014</td><td style=\"text-align: right;\">           0</td><td style=\"text-align: right;\">            19</td></tr>\n",
              "<tr><td><i style='opacity: 0.6'>1</i></td><td>2014-12-06 20:36:22.0000008  </td><td>2014-12-06 20:36:22 UTC</td><td style=\"text-align: right;\">          40.7519</td><td style=\"text-align: right;\">          -73.9798</td><td style=\"text-align: right;\">           40.7555</td><td style=\"text-align: right;\">           -73.9794</td><td style=\"text-align: right;\">                1</td><td style=\"text-align: right;\">         4   </td><td style=\"text-align: right;\">    5</td><td style=\"text-align: right;\">20.6    </td><td style=\"text-align: right;\">    49</td><td style=\"text-align: right;\">                  1</td><td style=\"text-align: right;\">           1</td><td style=\"text-align: right;\">  2014</td><td style=\"text-align: right;\">           0</td><td style=\"text-align: right;\">             6</td></tr>\n",
              "<tr><td><i style='opacity: 0.6'>2</i></td><td>2014-02-19 16:03:00.000000160</td><td>2014-02-19 16:03:00 UTC</td><td style=\"text-align: right;\">          40.7524</td><td style=\"text-align: right;\">          -73.9761</td><td style=\"text-align: right;\">           40.7593</td><td style=\"text-align: right;\">           -73.9811</td><td style=\"text-align: right;\">                1</td><td style=\"text-align: right;\">         5.5 </td><td style=\"text-align: right;\">    2</td><td style=\"text-align: right;\">16.05   </td><td style=\"text-align: right;\">     8</td><td style=\"text-align: right;\">                  0</td><td style=\"text-align: right;\">           1</td><td style=\"text-align: right;\">  2014</td><td style=\"text-align: right;\">           0</td><td style=\"text-align: right;\">            19</td></tr>\n",
              "<tr><td><i style='opacity: 0.6'>3</i></td><td>2015-06-21 21:46:34.0000001  </td><td>2015-06-21 21:46:34 UTC</td><td style=\"text-align: right;\">          40.7177</td><td style=\"text-align: right;\">          -74.0105</td><td style=\"text-align: right;\">           40.6604</td><td style=\"text-align: right;\">           -73.9858</td><td style=\"text-align: right;\">                1</td><td style=\"text-align: right;\">        22.54</td><td style=\"text-align: right;\">    6</td><td style=\"text-align: right;\">21.7667 </td><td style=\"text-align: right;\">    25</td><td style=\"text-align: right;\">                  1</td><td style=\"text-align: right;\">           0</td><td style=\"text-align: right;\">  2015</td><td style=\"text-align: right;\">           0</td><td style=\"text-align: right;\">            21</td></tr>\n",
              "<tr><td><i style='opacity: 0.6'>4</i></td><td>2015-01-11 03:15:38.0000001  </td><td>2015-01-11 03:15:38 UTC</td><td style=\"text-align: right;\">          40.7387</td><td style=\"text-align: right;\">          -73.9833</td><td style=\"text-align: right;\">           40.8472</td><td style=\"text-align: right;\">           -73.9332</td><td style=\"text-align: right;\">                1</td><td style=\"text-align: right;\">        58   </td><td style=\"text-align: right;\">    6</td><td style=\"text-align: right;\"> 3.25   </td><td style=\"text-align: right;\">     2</td><td style=\"text-align: right;\">                  1</td><td style=\"text-align: right;\">           0</td><td style=\"text-align: right;\">  2015</td><td style=\"text-align: right;\">           0</td><td style=\"text-align: right;\">            11</td></tr>\n",
              "<tr><td><i style='opacity: 0.6'>5</i></td><td>2015-03-12 08:08:38.0000001  </td><td>2015-03-12 08:08:38 UTC</td><td style=\"text-align: right;\">          40.7564</td><td style=\"text-align: right;\">          -73.9902</td><td style=\"text-align: right;\">           40.7628</td><td style=\"text-align: right;\">           -73.9856</td><td style=\"text-align: right;\">                1</td><td style=\"text-align: right;\">         4.5 </td><td style=\"text-align: right;\">    3</td><td style=\"text-align: right;\"> 8.13333</td><td style=\"text-align: right;\">    11</td><td style=\"text-align: right;\">                  0</td><td style=\"text-align: right;\">           0</td><td style=\"text-align: right;\">  2015</td><td style=\"text-align: right;\">           0</td><td style=\"text-align: right;\">            12</td></tr>\n",
              "<tr><td><i style='opacity: 0.6'>6</i></td><td>2014-07-16 10:57:00.00000069 </td><td>2014-07-16 10:57:00 UTC</td><td style=\"text-align: right;\">          40.7419</td><td style=\"text-align: right;\">          -73.9961</td><td style=\"text-align: right;\">           40.7394</td><td style=\"text-align: right;\">           -73.9922</td><td style=\"text-align: right;\">                6</td><td style=\"text-align: right;\">         5   </td><td style=\"text-align: right;\">    2</td><td style=\"text-align: right;\">10.95   </td><td style=\"text-align: right;\">    29</td><td style=\"text-align: right;\">                  0</td><td style=\"text-align: right;\">           0</td><td style=\"text-align: right;\">  2014</td><td style=\"text-align: right;\">           0</td><td style=\"text-align: right;\">            16</td></tr>\n",
              "<tr><td><i style='opacity: 0.6'>7</i></td><td>2014-05-01 09:12:00.000000198</td><td>2014-05-01 09:12:00 UTC</td><td style=\"text-align: right;\">          40.7675</td><td style=\"text-align: right;\">          -73.9662</td><td style=\"text-align: right;\">           40.7742</td><td style=\"text-align: right;\">           -73.9809</td><td style=\"text-align: right;\">                6</td><td style=\"text-align: right;\">         7   </td><td style=\"text-align: right;\">    3</td><td style=\"text-align: right;\"> 9.2    </td><td style=\"text-align: right;\">    18</td><td style=\"text-align: right;\">                  0</td><td style=\"text-align: right;\">           0</td><td style=\"text-align: right;\">  2014</td><td style=\"text-align: right;\">           0</td><td style=\"text-align: right;\">             1</td></tr>\n",
              "<tr><td><i style='opacity: 0.6'>8</i></td><td>2014-01-17 09:03:00.000000187</td><td>2014-01-17 09:03:00 UTC</td><td style=\"text-align: right;\">          40.7506</td><td style=\"text-align: right;\">          -73.9915</td><td style=\"text-align: right;\">           40.7415</td><td style=\"text-align: right;\">           -73.9857</td><td style=\"text-align: right;\">                4</td><td style=\"text-align: right;\">         8.5 </td><td style=\"text-align: right;\">    4</td><td style=\"text-align: right;\"> 9.05   </td><td style=\"text-align: right;\">     3</td><td style=\"text-align: right;\">                  0</td><td style=\"text-align: right;\">           0</td><td style=\"text-align: right;\">  2014</td><td style=\"text-align: right;\">           0</td><td style=\"text-align: right;\">            17</td></tr>\n",
              "<tr><td><i style='opacity: 0.6'>9</i></td><td>2014-04-29 18:28:00.0000005  </td><td>2014-04-29 18:28:00 UTC</td><td style=\"text-align: right;\">          40.7508</td><td style=\"text-align: right;\">          -73.9703</td><td style=\"text-align: right;\">           40.7249</td><td style=\"text-align: right;\">           -73.9984</td><td style=\"text-align: right;\">                6</td><td style=\"text-align: right;\">        16.5 </td><td style=\"text-align: right;\">    1</td><td style=\"text-align: right;\">18.4667 </td><td style=\"text-align: right;\">    18</td><td style=\"text-align: right;\">                  0</td><td style=\"text-align: right;\">           1</td><td style=\"text-align: right;\">  2014</td><td style=\"text-align: right;\">           0</td><td style=\"text-align: right;\">            29</td></tr>\n",
              "</tbody>\n",
              "</table>"
            ]
          },
          "metadata": {
            "tags": []
          },
          "execution_count": 32
        }
      ]
    },
    {
      "cell_type": "code",
      "metadata": {
        "id": "IZBXhILclcTx"
      },
      "source": [
        "df_original.export_csv(\"train_data.csv\")"
      ],
      "execution_count": 33,
      "outputs": []
    },
    {
      "cell_type": "markdown",
      "metadata": {
        "id": "uyTP60qBwsW6"
      },
      "source": [
        "## Visualizacion de latitud y longitud en el mapa de NY"
      ]
    },
    {
      "cell_type": "code",
      "metadata": {
        "id": "NFuhWqj-Le4M"
      },
      "source": [
        ""
      ],
      "execution_count": null,
      "outputs": []
    }
  ]
}